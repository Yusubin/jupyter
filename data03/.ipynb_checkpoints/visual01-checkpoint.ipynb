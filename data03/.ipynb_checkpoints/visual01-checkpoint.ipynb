{
 "cells": [
  {
   "cell_type": "code",
   "execution_count": 1,
   "metadata": {},
   "outputs": [],
   "source": [
    "import pandas as pd\n",
    "import numpy as np\n"
   ]
  },
  {
   "cell_type": "code",
   "execution_count": 2,
   "metadata": {},
   "outputs": [],
   "source": [
    "col_names = ['스트레스 전체','스트레스 남학생','스트레스 여학생','우울 전체','우울 남학생','우울 여학생','자살 전체','자살 남학생','자살 여학생',]"
   ]
  },
  {
   "cell_type": "code",
   "execution_count": 3,
   "metadata": {},
   "outputs": [
    {
     "data": {
      "text/html": [
       "<div>\n",
       "<style scoped>\n",
       "    .dataframe tbody tr th:only-of-type {\n",
       "        vertical-align: middle;\n",
       "    }\n",
       "\n",
       "    .dataframe tbody tr th {\n",
       "        vertical-align: top;\n",
       "    }\n",
       "\n",
       "    .dataframe thead th {\n",
       "        text-align: right;\n",
       "    }\n",
       "</style>\n",
       "<table border=\"1\" class=\"dataframe\">\n",
       "  <thead>\n",
       "    <tr style=\"text-align: right;\">\n",
       "      <th></th>\n",
       "      <th>스트레스 전체</th>\n",
       "      <th>스트레스 남학생</th>\n",
       "      <th>스트레스 여학생</th>\n",
       "      <th>우울 전체</th>\n",
       "      <th>우울 남학생</th>\n",
       "      <th>우울 여학생</th>\n",
       "      <th>자살 전체</th>\n",
       "      <th>자살 남학생</th>\n",
       "      <th>자살 여학생</th>\n",
       "    </tr>\n",
       "  </thead>\n",
       "  <tbody>\n",
       "    <tr>\n",
       "      <td>0</td>\n",
       "      <td>42.7</td>\n",
       "      <td>34.5</td>\n",
       "      <td>51.5</td>\n",
       "      <td>29.6</td>\n",
       "      <td>24.2</td>\n",
       "      <td>35.4</td>\n",
       "      <td>15.4</td>\n",
       "      <td>11.8</td>\n",
       "      <td>19.2</td>\n",
       "    </tr>\n",
       "  </tbody>\n",
       "</table>\n",
       "</div>"
      ],
      "text/plain": [
       "   스트레스 전체  스트레스 남학생  스트레스 여학생  우울 전체  우울 남학생  우울 여학생  자살 전체  자살 남학생  자살 여학생\n",
       "0     42.7      34.5      51.5   29.6    24.2    35.4   15.4    11.8    19.2"
      ]
     },
     "execution_count": 3,
     "metadata": {},
     "output_type": "execute_result"
    }
   ],
   "source": [
    "teen=pd.read_excel('../csv-data/teenage_mental.xls', header=1, names=col_names,usecols='C:K')\n",
    "teen"
   ]
  },
  {
   "cell_type": "code",
   "execution_count": 4,
   "metadata": {},
   "outputs": [
    {
     "data": {
      "text/html": [
       "<div>\n",
       "<style scoped>\n",
       "    .dataframe tbody tr th:only-of-type {\n",
       "        vertical-align: middle;\n",
       "    }\n",
       "\n",
       "    .dataframe tbody tr th {\n",
       "        vertical-align: top;\n",
       "    }\n",
       "\n",
       "    .dataframe thead th {\n",
       "        text-align: right;\n",
       "    }\n",
       "</style>\n",
       "<table border=\"1\" class=\"dataframe\">\n",
       "  <thead>\n",
       "    <tr style=\"text-align: right;\">\n",
       "      <th></th>\n",
       "      <th>스트레스 전체</th>\n",
       "      <th>스트레스 남학생</th>\n",
       "      <th>스트레스 여학생</th>\n",
       "      <th>우울 전체</th>\n",
       "      <th>우울 남학생</th>\n",
       "      <th>우울 여학생</th>\n",
       "      <th>자살 전체</th>\n",
       "      <th>자살 남학생</th>\n",
       "      <th>자살 여학생</th>\n",
       "    </tr>\n",
       "  </thead>\n",
       "  <tbody>\n",
       "    <tr>\n",
       "      <td>0</td>\n",
       "      <td>42.7</td>\n",
       "      <td>34.5</td>\n",
       "      <td>51.5</td>\n",
       "      <td>29.6</td>\n",
       "      <td>24.2</td>\n",
       "      <td>35.4</td>\n",
       "      <td>15.4</td>\n",
       "      <td>11.8</td>\n",
       "      <td>19.2</td>\n",
       "    </tr>\n",
       "    <tr>\n",
       "      <td>1</td>\n",
       "      <td>57.3</td>\n",
       "      <td>65.5</td>\n",
       "      <td>48.5</td>\n",
       "      <td>70.4</td>\n",
       "      <td>75.8</td>\n",
       "      <td>64.6</td>\n",
       "      <td>84.6</td>\n",
       "      <td>88.2</td>\n",
       "      <td>80.8</td>\n",
       "    </tr>\n",
       "  </tbody>\n",
       "</table>\n",
       "</div>"
      ],
      "text/plain": [
       "   스트레스 전체  스트레스 남학생  스트레스 여학생  우울 전체  우울 남학생  우울 여학생  자살 전체  자살 남학생  자살 여학생\n",
       "0     42.7      34.5      51.5   29.6    24.2    35.4   15.4    11.8    19.2\n",
       "1     57.3      65.5      48.5   70.4    75.8    64.6   84.6    88.2    80.8"
      ]
     },
     "execution_count": 4,
     "metadata": {},
     "output_type": "execute_result"
    }
   ],
   "source": [
    "teen.loc[1]= 100 - teen.loc[0]\n",
    "teen"
   ]
  },
  {
   "cell_type": "code",
   "execution_count": 5,
   "metadata": {},
   "outputs": [
    {
     "data": {
      "text/html": [
       "<div>\n",
       "<style scoped>\n",
       "    .dataframe tbody tr th:only-of-type {\n",
       "        vertical-align: middle;\n",
       "    }\n",
       "\n",
       "    .dataframe tbody tr th {\n",
       "        vertical-align: top;\n",
       "    }\n",
       "\n",
       "    .dataframe thead th {\n",
       "        text-align: right;\n",
       "    }\n",
       "</style>\n",
       "<table border=\"1\" class=\"dataframe\">\n",
       "  <thead>\n",
       "    <tr style=\"text-align: right;\">\n",
       "      <th></th>\n",
       "      <th>스트레스 전체</th>\n",
       "      <th>스트레스 남학생</th>\n",
       "      <th>스트레스 여학생</th>\n",
       "      <th>우울 전체</th>\n",
       "      <th>우울 남학생</th>\n",
       "      <th>우울 여학생</th>\n",
       "      <th>자살 전체</th>\n",
       "      <th>자살 남학생</th>\n",
       "      <th>자살 여학생</th>\n",
       "      <th>응답</th>\n",
       "    </tr>\n",
       "  </thead>\n",
       "  <tbody>\n",
       "    <tr>\n",
       "      <td>0</td>\n",
       "      <td>42.7</td>\n",
       "      <td>34.5</td>\n",
       "      <td>51.5</td>\n",
       "      <td>29.6</td>\n",
       "      <td>24.2</td>\n",
       "      <td>35.4</td>\n",
       "      <td>15.4</td>\n",
       "      <td>11.8</td>\n",
       "      <td>19.2</td>\n",
       "      <td>그렇다</td>\n",
       "    </tr>\n",
       "    <tr>\n",
       "      <td>1</td>\n",
       "      <td>57.3</td>\n",
       "      <td>65.5</td>\n",
       "      <td>48.5</td>\n",
       "      <td>70.4</td>\n",
       "      <td>75.8</td>\n",
       "      <td>64.6</td>\n",
       "      <td>84.6</td>\n",
       "      <td>88.2</td>\n",
       "      <td>80.8</td>\n",
       "      <td>아니다</td>\n",
       "    </tr>\n",
       "  </tbody>\n",
       "</table>\n",
       "</div>"
      ],
      "text/plain": [
       "   스트레스 전체  스트레스 남학생  스트레스 여학생  우울 전체  우울 남학생  우울 여학생  자살 전체  자살 남학생  자살 여학생  \\\n",
       "0     42.7      34.5      51.5   29.6    24.2    35.4   15.4    11.8    19.2   \n",
       "1     57.3      65.5      48.5   70.4    75.8    64.6   84.6    88.2    80.8   \n",
       "\n",
       "    응답  \n",
       "0  그렇다  \n",
       "1  아니다  "
      ]
     },
     "execution_count": 5,
     "metadata": {},
     "output_type": "execute_result"
    }
   ],
   "source": [
    "teen['응답']=['그렇다','아니다']\n",
    "teen"
   ]
  },
  {
   "cell_type": "code",
   "execution_count": 6,
   "metadata": {},
   "outputs": [
    {
     "data": {
      "text/html": [
       "<div>\n",
       "<style scoped>\n",
       "    .dataframe tbody tr th:only-of-type {\n",
       "        vertical-align: middle;\n",
       "    }\n",
       "\n",
       "    .dataframe tbody tr th {\n",
       "        vertical-align: top;\n",
       "    }\n",
       "\n",
       "    .dataframe thead th {\n",
       "        text-align: right;\n",
       "    }\n",
       "</style>\n",
       "<table border=\"1\" class=\"dataframe\">\n",
       "  <thead>\n",
       "    <tr style=\"text-align: right;\">\n",
       "      <th></th>\n",
       "      <th>스트레스 전체</th>\n",
       "      <th>스트레스 남학생</th>\n",
       "      <th>스트레스 여학생</th>\n",
       "      <th>우울 전체</th>\n",
       "      <th>우울 남학생</th>\n",
       "      <th>우울 여학생</th>\n",
       "      <th>자살 전체</th>\n",
       "      <th>자살 남학생</th>\n",
       "      <th>자살 여학생</th>\n",
       "    </tr>\n",
       "    <tr>\n",
       "      <th>응답</th>\n",
       "      <th></th>\n",
       "      <th></th>\n",
       "      <th></th>\n",
       "      <th></th>\n",
       "      <th></th>\n",
       "      <th></th>\n",
       "      <th></th>\n",
       "      <th></th>\n",
       "      <th></th>\n",
       "    </tr>\n",
       "  </thead>\n",
       "  <tbody>\n",
       "    <tr>\n",
       "      <td>그렇다</td>\n",
       "      <td>42.7</td>\n",
       "      <td>34.5</td>\n",
       "      <td>51.5</td>\n",
       "      <td>29.6</td>\n",
       "      <td>24.2</td>\n",
       "      <td>35.4</td>\n",
       "      <td>15.4</td>\n",
       "      <td>11.8</td>\n",
       "      <td>19.2</td>\n",
       "    </tr>\n",
       "    <tr>\n",
       "      <td>아니다</td>\n",
       "      <td>57.3</td>\n",
       "      <td>65.5</td>\n",
       "      <td>48.5</td>\n",
       "      <td>70.4</td>\n",
       "      <td>75.8</td>\n",
       "      <td>64.6</td>\n",
       "      <td>84.6</td>\n",
       "      <td>88.2</td>\n",
       "      <td>80.8</td>\n",
       "    </tr>\n",
       "  </tbody>\n",
       "</table>\n",
       "</div>"
      ],
      "text/plain": [
       "     스트레스 전체  스트레스 남학생  스트레스 여학생  우울 전체  우울 남학생  우울 여학생  자살 전체  자살 남학생  자살 여학생\n",
       "응답                                                                            \n",
       "그렇다     42.7      34.5      51.5   29.6    24.2    35.4   15.4    11.8    19.2\n",
       "아니다     57.3      65.5      48.5   70.4    75.8    64.6   84.6    88.2    80.8"
      ]
     },
     "execution_count": 6,
     "metadata": {},
     "output_type": "execute_result"
    }
   ],
   "source": [
    "teen.set_index(['응답'], inplace=True)\n",
    "teen"
   ]
  },
  {
   "cell_type": "code",
   "execution_count": 16,
   "metadata": {},
   "outputs": [],
   "source": [
    "import matplotlib.pyplot as plt"
   ]
  },
  {
   "cell_type": "code",
   "execution_count": 17,
   "metadata": {},
   "outputs": [],
   "source": [
    "from matplotlib import rc\n",
    "import matplotlib.font_manager as fm\n",
    "\n",
    "fm._rebuild()\n",
    "fm.get_fontconfig_fonts()\n",
    "\n",
    "# 디렉토리 및 파일 이름에 맞추어 변경\n",
    "font_location = '../NanumSquareRoundEB.ttf'\n",
    "font_name = fm.FontProperties(fname=font_location).get_name()\n",
    "rc('font', family=font_name)\n"
   ]
  },
  {
   "cell_type": "code",
   "execution_count": 18,
   "metadata": {},
   "outputs": [
    {
     "data": {
      "image/png": "[encoded data removed]",
      "text/plain": [
       "<Figure size 432x288 with 1 Axes>"
      ]
     },
     "metadata": {},
     "output_type": "display_data"
    }
   ],
   "source": []
  },
  {
   "cell_type": "code",
   "execution_count": 20,
   "metadata": {},
   "outputs": [
    {
     "data": {
      "image/png": "[encoded data removed]",
      "text/plain": [
       "<Figure size 1152x576 with 3 Axes>"
      ]
     },
     "metadata": {
      "needs_background": "light"
     },
     "output_type": "display_data"
    }
   ],
   "source": [
    "f, ax = plt.subplots(1,3,figsize=(16,8))\n",
    "\n",
    "teen['스트레스 전체'].plot.pie()\n",
    "ax[0]\n",
    "\n",
    "teen['자살 전체'].plot.pie()\n",
    "teen['우울 전체'].plot.pie()\n",
    "\n",
    "plt.show()"
   ]
  },
  {
   "cell_type": "code",
   "execution_count": null,
   "metadata": {},
   "outputs": [],
   "source": []
  }
 ],
 "metadata": {
  "kernelspec": {
   "display_name": "Python 3",
   "language": "python",
   "name": "python3"
  },
  "language_info": {
   "codemirror_mode": {
    "name": "ipython",
    "version": 3
   },
   "file_extension": ".py",
   "mimetype": "text/x-python",
   "name": "python",
   "nbconvert_exporter": "python",
   "pygments_lexer": "ipython3",
   "version": "3.7.4"
  }
 },
 "nbformat": 4,
 "nbformat_minor": 2
}

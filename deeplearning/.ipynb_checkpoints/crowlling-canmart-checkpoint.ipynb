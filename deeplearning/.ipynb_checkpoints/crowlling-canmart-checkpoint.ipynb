{
 "cells": [
  {
   "cell_type": "code",
   "execution_count": 1,
   "metadata": {},
   "outputs": [
    {
     "name": "stdout",
     "output_type": "stream",
     "text": [
      "Requirement already satisfied: selenium in c:\\users\\hi\\anaconda3\\lib\\site-packages (4.1.3)\n",
      "Requirement already satisfied: trio~=0.17 in c:\\users\\hi\\anaconda3\\lib\\site-packages (from selenium) (0.20.0)\n",
      "Requirement already satisfied: urllib3[secure,socks]~=1.26 in c:\\users\\hi\\anaconda3\\lib\\site-packages (from selenium) (1.26.9)\n",
      "Requirement already satisfied: trio-websocket~=0.9 in c:\\users\\hi\\anaconda3\\lib\\site-packages (from selenium) (0.9.2)\n",
      "Requirement already satisfied: attrs>=19.2.0 in c:\\users\\hi\\anaconda3\\lib\\site-packages (from trio~=0.17->selenium) (19.2.0)\n",
      "Requirement already satisfied: sniffio in c:\\users\\hi\\anaconda3\\lib\\site-packages (from trio~=0.17->selenium) (1.2.0)\n",
      "Requirement already satisfied: outcome in c:\\users\\hi\\anaconda3\\lib\\site-packages (from trio~=0.17->selenium) (1.1.0)\n",
      "Requirement already satisfied: idna in c:\\users\\hi\\anaconda3\\lib\\site-packages (from trio~=0.17->selenium) (2.8)\n",
      "Requirement already satisfied: cffi>=1.14; os_name == \"nt\" and implementation_name != \"pypy\" in c:\\users\\hi\\anaconda3\\lib\\site-packages (from trio~=0.17->selenium) (1.15.0)\n",
      "Requirement already satisfied: async-generator>=1.9 in c:\\users\\hi\\anaconda3\\lib\\site-packages (from trio~=0.17->selenium) (1.10)\n",
      "Requirement already satisfied: sortedcontainers in c:\\users\\hi\\anaconda3\\lib\\site-packages (from trio~=0.17->selenium) (2.1.0)\n",
      "Requirement already satisfied: cryptography>=1.3.4; extra == \"secure\" in c:\\users\\hi\\anaconda3\\lib\\site-packages (from urllib3[secure,socks]~=1.26->selenium) (2.7)\n",
      "Requirement already satisfied: certifi; extra == \"secure\" in c:\\users\\hi\\anaconda3\\lib\\site-packages (from urllib3[secure,socks]~=1.26->selenium) (2019.9.11)\n",
      "Requirement already satisfied: pyOpenSSL>=0.14; extra == \"secure\" in c:\\users\\hi\\anaconda3\\lib\\site-packages (from urllib3[secure,socks]~=1.26->selenium) (19.0.0)\n",
      "Requirement already satisfied: PySocks!=1.5.7,<2.0,>=1.5.6; extra == \"socks\" in c:\\users\\hi\\anaconda3\\lib\\site-packages (from urllib3[secure,socks]~=1.26->selenium) (1.7.1)\n",
      "Requirement already satisfied: wsproto>=0.14 in c:\\users\\hi\\anaconda3\\lib\\site-packages (from trio-websocket~=0.9->selenium) (1.1.0)\n",
      "Requirement already satisfied: pycparser in c:\\users\\hi\\anaconda3\\lib\\site-packages (from cffi>=1.14; os_name == \"nt\" and implementation_name != \"pypy\"->trio~=0.17->selenium) (2.19)\n",
      "Requirement already satisfied: six>=1.4.1 in c:\\users\\hi\\anaconda3\\lib\\site-packages (from cryptography>=1.3.4; extra == \"secure\"->urllib3[secure,socks]~=1.26->selenium) (1.12.0)\n",
      "Requirement already satisfied: asn1crypto>=0.21.0 in c:\\users\\hi\\anaconda3\\lib\\site-packages (from cryptography>=1.3.4; extra == \"secure\"->urllib3[secure,socks]~=1.26->selenium) (1.0.1)\n",
      "Requirement already satisfied: h11<1,>=0.9.0 in c:\\users\\hi\\anaconda3\\lib\\site-packages (from wsproto>=0.14->trio-websocket~=0.9->selenium) (0.13.0)\n",
      "Requirement already satisfied: typing-extensions; python_version < \"3.8\" in c:\\users\\hi\\anaconda3\\lib\\site-packages (from h11<1,>=0.9.0->wsproto>=0.14->trio-websocket~=0.9->selenium) (4.1.1)\n"
     ]
    }
   ],
   "source": [
    "!pip install selenium"
   ]
  },
  {
   "cell_type": "code",
   "execution_count": 2,
   "metadata": {},
   "outputs": [],
   "source": [
    "import warnings\n",
    "warnings.filterwarnings(action='ignore')\n",
    "from selenium.webdriver.common.by import By\n",
    "from selenium.webdriver.support.ui import WebDriverWait \n",
    "from selenium.webdriver.support import expected_conditions as EC\n",
    "from selenium import webdriver\n",
    "from selenium.webdriver.common.keys import Keys\n",
    "import time\n",
    "from tqdm.auto import tqdm\n",
    "import pandas as pd\n",
    "from bs4 import BeautifulSoup \n",
    "from IPython.display import Image"
   ]
  },
  {
   "cell_type": "code",
   "execution_count": 3,
   "metadata": {},
   "outputs": [],
   "source": [
    "\n",
    "def img_source(rlist):\n",
    "    returnlist=[]\n",
    "    for i in range(0, len(rlist), 1):\n",
    "        a= rlist[i].get('src')\n",
    "        returnlist.append(a)\n",
    "    return returnlist\n",
    "\n",
    "def confirm_text (rlist):\n",
    "    returnlist=[]\n",
    "    for i in range(0, len(rlist), 1):\n",
    "        a= rlist[i].text\n",
    "        aa =a.replace(',',' ')\n",
    "        returnlist.append(aa)\n",
    "    return returnlist"
   ]
  },
  {
   "cell_type": "code",
   "execution_count": 7,
   "metadata": {},
   "outputs": [],
   "source": [
    "    url = 'https://www.canmart.co.kr/shop/faq.html'\n",
    "    driver = webdriver.Chrome('../WebDriver/chromedriver.exe') #브라우저 실행\n",
    "    driver.get(url)\n",
    "    time.sleep(3)"
   ]
  },
  {
   "cell_type": "markdown",
   "metadata": {},
   "source": [
    "## 주문결제"
   ]
  },
  {
   "cell_type": "markdown",
   "metadata": {},
   "source": [
    "#### 주문결제"
   ]
  },
  {
   "cell_type": "code",
   "execution_count": 16,
   "metadata": {},
   "outputs": [],
   "source": [
    "order = driver.find_element_by_css_selector(\"#faq-category > ul > li:nth-child(2) > a\")\n",
    "order.send_keys(Keys.RETURN)"
   ]
  },
  {
   "cell_type": "code",
   "execution_count": 17,
   "metadata": {},
   "outputs": [],
   "source": [
    "html=driver.page_source"
   ]
  },
  {
   "cell_type": "code",
   "execution_count": 18,
   "metadata": {},
   "outputs": [],
   "source": [
    "html_doc=BeautifulSoup(html,\"html.parser\")"
   ]
  },
  {
   "cell_type": "code",
   "execution_count": 19,
   "metadata": {},
   "outputs": [],
   "source": [
    "order_question=html_doc.select(\"#faqTable > table > tbody > tr> td:nth-child(3) > div\")\n",
    "order_quest=confirm_text(order_question)"
   ]
  },
  {
   "cell_type": "code",
   "execution_count": 20,
   "metadata": {
    "scrolled": true
   },
   "outputs": [
    {
     "data": {
      "text/plain": [
       "['입금 계좌번호를 알려주세요.',\n",
       " '환불처리 / 카드취소 등 요청 했는데 언제 처리되나요?',\n",
       " '주문 취소하고 싶어요.',\n",
       " '입금했는데 왜 입금 확인이 되지 않나요?',\n",
       " '쿠폰 및 적립금 등은 어떻게 사용하나요?',\n",
       " '어떤 결제 방법이 있나요?',\n",
       " '비회원도 구매가 가능하나요?']"
      ]
     },
     "execution_count": 20,
     "metadata": {},
     "output_type": "execute_result"
    }
   ],
   "source": [
    "order_quest"
   ]
  },
  {
   "cell_type": "code",
   "execution_count": 24,
   "metadata": {},
   "outputs": [],
   "source": [
    "def answer_confirm():\n",
    "    table= driver.find_element_by_css_selector(\"#faqTable > table\")\n",
    "    for tr in table.find_elements_by_tag_name(\"tr\"):\n",
    "        td = tr.find_elements_by_tag_name(\"td\")\n",
    "    tr=table.find_elements_by_tag_name(\"tr\")\n",
    "    print (len(tr))\n",
    "    tr2=len(tr)\n",
    "    tr2\n",
    "    product22=[]\n",
    "    for i in range (1,len(tr),2):\n",
    "        text=\"#faqTable > table > tbody > tr:nth-child(\"+str(i)+\")\"\n",
    "        delivery2 = driver.find_element_by_css_selector(text).click()\n",
    "        html=driver.page_source\n",
    "        html_doc=BeautifulSoup(html,\"html.parser\")\n",
    "        delivery_question2=html_doc.select(\" #faqTable > table > tbody > tr.slide-show > td > div > dl.adv > dd\")\n",
    "        product22.append(confirm_text(delivery_question2))\n",
    "\n",
    "    return product22"
   ]
  },
  {
   "cell_type": "code",
   "execution_count": 25,
   "metadata": {},
   "outputs": [
    {
     "name": "stdout",
     "output_type": "stream",
     "text": [
      "15\n"
     ]
    }
   ],
   "source": [
    "product22=answer_confirm()"
   ]
  },
  {
   "cell_type": "code",
   "execution_count": 31,
   "metadata": {},
   "outputs": [
    {
     "data": {
      "text/plain": [
       "[['-무통장 결제\\n환불은 평일 기준 오후 6시 이후 일괄적으로 처리해 드리고 있어 7시 이후 입금 확인 부탁드립니다 :)\\xa0\\xa0\\n입금 확인이 안될 경우  고객센터로 문의해 주시면 확인 후 빠른 처리 도와드리도록 하겠습니다.\\xa0\\xa0\\xa0\\n\\xa0\\n-카드 결제\\n카드 취소 처리 후 카드사에 따라 취소 완료되기 까지는 5~15일 (주말  공휴일 제외) 정도의 기간이 소요됩니다.\\xa0취소 처리를 한 후에도\\xa0결제일에 따라 청구가 될 수 있으며  이와 같은 경우에는 익월\\xa0결제일에 환급 처리(마이너스 청구)가 되니 참고 부탁드립니다.\\xa0\\n\\xa0정확한 취소 일자나 취소 및 환급 방법은 사용하시는 카드사로 문의해 주시면\\xa0빠른 확인이 가능합니다~\\xa0-휴대폰 결제\\xa0휴대폰 취소는 3~5일(주말  공휴일 제외) 정도의 기간이 소요됩니다.\\xa0다만  취소는 결제 하신 당월 1일~말일 이내 취소만 가능하며 부분 취소는 어려운 점 참고 부탁드립니다.\\n(결제 당월이 지난 주문 건은 3.5% 결제수수료 차감 후 계좌로 환불 처리 도와드리고 있습니다)\\n\\xa0'],\n",
       " ['발송전이면 로그인 후 → 마이페이지 → 주문 내역에서 [주문취소] 버튼 눌러주시면 됩니다!홈페이지에서 취소 처리가 어려우시면 고객센터 혹은 게시판으로 문의해 주시면 빠른 처리 도와드리겠습니다~비회원으로 주문해 주신 분들도 동일하게 로그인 혹은 마이페이지 클릭 후 비회원 배송 조회에서 성함과 주문번호를 입력해 주시면 취소 접수가 가능합니다.\\xa0\\n\\xa0만일  결제 완료 후 취소를 원하시는데 이미 발송된 경우라면\\xa0취소 처리가 어려우며 반송 시 발생하는 배송비는 고객 부담이므로\\xa0신중한 주문서 작성 부탁드립니다 :)\\xa0'],\n",
       " [\"주문서에 기재한 입금자명과 다르거나 다른 금액으로\\xa0입금한 경우 확인이 되지 않습니다.\\n입금자명 혹은 상이한 금액으로 입금하셨을 경우 고객센터로 문의해 주시면\\xa0확인 후 처리 도와드리겠습니다.\\n\\xa0\\n<입금만 하시고 주문서가 정상적으로 등록되지 않은 경우>\\n주문서 작성 후 꼭 '마이페이지'에서 주문서 확인이 되는지 확인해 주세요.\\n주문서를 끝까지 작성하지 않고 중간 단계에서 끝내신 경우\\xa0주문서가 없기 때문에 입금을 하셔도 저희쪽에서 확인이 어렵습니다ㅠㅠ\\n주문 전 선 입금하셨다면 주문 후 고객센터로 문의해 주시면 확인해 드리고 있습니다.\"],\n",
       " [\"-쿠폰쿠폰마다 사용 가능한 금액 기준이 상이하며  기재되어 있는 금액 이상 구매 시\\xa0사용이 가능합니다.주문서 작성 시 주문 상품 할인 적용에서 쿠폰 선택을 클릭해 주시면 보유 쿠폰 내역 및 사용 가능한 쿠폰 확인을 확인하실 수 있습니다.쿠폰은 한 주문서 당 한 쿠폰만 적용 가능하며 \\xa0각 쿠폰의 사용 가능한 '금액 기준'과 '사용 기간' 을 꼭 확인해 주세요~\\n-적립금1원 단위로 사용이 가능하며 주문 시 사용 가능한 적립금을 확인 후 사용하길 원하시는 금액을\\xa0입력해 주시면 됩니다.\\n(단  무료 배송은 실 결제 금액[적립금  쿠폰 사용 등 할인 금액을 제외한 금액]이 5만 원 이상 되어야 가능하므로 적립금은 실 결제 금액에 포함되지 않는 점 참고 부탁드립니다. )※ 적립금의 유효 기간은 지급 일로부터 1년입니다.\\xa0\\xa0-예치금\\xa0예치금 또한 1원 단위로 사용이 가능하며\\xa0주문서 작성 시 주문 상품 할인 적용에서 금액을 입력해 주시면 됩니다.\\xa0\\xa0\\n\\xa0\"],\n",
       " ['- 페이코(payco)- 카카오페이(KakaoPay)- 무통장입금- 신용카드\\xa0- 결제대금 예치제(에스크로)- 핸드폰결제- 스마일페이- 해외결제 페이팔(Paypal Payment)'],\n",
       " ['비회원도 구매 가능하며 장바구니 → 주문하기\\xa0→ 비회원 구매 클릭하면 됩니다 :)\\xa0주문 완료 후 주문 번호 확인이 가능하며 (카카오톡 또는 메일로도 안내) 배송 조회는 로그인 혹은 마이페이지 클릭 후 비회원 배송 조회에서 성함과 주문번호를 입력하시면 확인하실 수 있습니다.\\xa0']]"
      ]
     },
     "execution_count": 31,
     "metadata": {},
     "output_type": "execute_result"
    }
   ],
   "source": [
    "product22[1:]"
   ]
  },
  {
   "cell_type": "code",
   "execution_count": 35,
   "metadata": {},
   "outputs": [],
   "source": [
    "order_quest=order_quest+product22[1:]"
   ]
  },
  {
   "cell_type": "code",
   "execution_count": 36,
   "metadata": {},
   "outputs": [
    {
     "data": {
      "text/plain": [
       "['입금 계좌번호를 알려주세요.',\n",
       " '환불처리 / 카드취소 등 요청 했는데 언제 처리되나요?',\n",
       " '주문 취소하고 싶어요.',\n",
       " '입금했는데 왜 입금 확인이 되지 않나요?',\n",
       " '쿠폰 및 적립금 등은 어떻게 사용하나요?',\n",
       " '어떤 결제 방법이 있나요?',\n",
       " '비회원도 구매가 가능하나요?',\n",
       " ['-무통장 결제\\n환불은 평일 기준 오후 6시 이후 일괄적으로 처리해 드리고 있어 7시 이후 입금 확인 부탁드립니다 :)\\xa0\\xa0\\n입금 확인이 안될 경우  고객센터로 문의해 주시면 확인 후 빠른 처리 도와드리도록 하겠습니다.\\xa0\\xa0\\xa0\\n\\xa0\\n-카드 결제\\n카드 취소 처리 후 카드사에 따라 취소 완료되기 까지는 5~15일 (주말  공휴일 제외) 정도의 기간이 소요됩니다.\\xa0취소 처리를 한 후에도\\xa0결제일에 따라 청구가 될 수 있으며  이와 같은 경우에는 익월\\xa0결제일에 환급 처리(마이너스 청구)가 되니 참고 부탁드립니다.\\xa0\\n\\xa0정확한 취소 일자나 취소 및 환급 방법은 사용하시는 카드사로 문의해 주시면\\xa0빠른 확인이 가능합니다~\\xa0-휴대폰 결제\\xa0휴대폰 취소는 3~5일(주말  공휴일 제외) 정도의 기간이 소요됩니다.\\xa0다만  취소는 결제 하신 당월 1일~말일 이내 취소만 가능하며 부분 취소는 어려운 점 참고 부탁드립니다.\\n(결제 당월이 지난 주문 건은 3.5% 결제수수료 차감 후 계좌로 환불 처리 도와드리고 있습니다)\\n\\xa0'],\n",
       " ['발송전이면 로그인 후 → 마이페이지 → 주문 내역에서 [주문취소] 버튼 눌러주시면 됩니다!홈페이지에서 취소 처리가 어려우시면 고객센터 혹은 게시판으로 문의해 주시면 빠른 처리 도와드리겠습니다~비회원으로 주문해 주신 분들도 동일하게 로그인 혹은 마이페이지 클릭 후 비회원 배송 조회에서 성함과 주문번호를 입력해 주시면 취소 접수가 가능합니다.\\xa0\\n\\xa0만일  결제 완료 후 취소를 원하시는데 이미 발송된 경우라면\\xa0취소 처리가 어려우며 반송 시 발생하는 배송비는 고객 부담이므로\\xa0신중한 주문서 작성 부탁드립니다 :)\\xa0'],\n",
       " [\"주문서에 기재한 입금자명과 다르거나 다른 금액으로\\xa0입금한 경우 확인이 되지 않습니다.\\n입금자명 혹은 상이한 금액으로 입금하셨을 경우 고객센터로 문의해 주시면\\xa0확인 후 처리 도와드리겠습니다.\\n\\xa0\\n<입금만 하시고 주문서가 정상적으로 등록되지 않은 경우>\\n주문서 작성 후 꼭 '마이페이지'에서 주문서 확인이 되는지 확인해 주세요.\\n주문서를 끝까지 작성하지 않고 중간 단계에서 끝내신 경우\\xa0주문서가 없기 때문에 입금을 하셔도 저희쪽에서 확인이 어렵습니다ㅠㅠ\\n주문 전 선 입금하셨다면 주문 후 고객센터로 문의해 주시면 확인해 드리고 있습니다.\"],\n",
       " [\"-쿠폰쿠폰마다 사용 가능한 금액 기준이 상이하며  기재되어 있는 금액 이상 구매 시\\xa0사용이 가능합니다.주문서 작성 시 주문 상품 할인 적용에서 쿠폰 선택을 클릭해 주시면 보유 쿠폰 내역 및 사용 가능한 쿠폰 확인을 확인하실 수 있습니다.쿠폰은 한 주문서 당 한 쿠폰만 적용 가능하며 \\xa0각 쿠폰의 사용 가능한 '금액 기준'과 '사용 기간' 을 꼭 확인해 주세요~\\n-적립금1원 단위로 사용이 가능하며 주문 시 사용 가능한 적립금을 확인 후 사용하길 원하시는 금액을\\xa0입력해 주시면 됩니다.\\n(단  무료 배송은 실 결제 금액[적립금  쿠폰 사용 등 할인 금액을 제외한 금액]이 5만 원 이상 되어야 가능하므로 적립금은 실 결제 금액에 포함되지 않는 점 참고 부탁드립니다. )※ 적립금의 유효 기간은 지급 일로부터 1년입니다.\\xa0\\xa0-예치금\\xa0예치금 또한 1원 단위로 사용이 가능하며\\xa0주문서 작성 시 주문 상품 할인 적용에서 금액을 입력해 주시면 됩니다.\\xa0\\xa0\\n\\xa0\"],\n",
       " ['- 페이코(payco)- 카카오페이(KakaoPay)- 무통장입금- 신용카드\\xa0- 결제대금 예치제(에스크로)- 핸드폰결제- 스마일페이- 해외결제 페이팔(Paypal Payment)'],\n",
       " ['비회원도 구매 가능하며 장바구니 → 주문하기\\xa0→ 비회원 구매 클릭하면 됩니다 :)\\xa0주문 완료 후 주문 번호 확인이 가능하며 (카카오톡 또는 메일로도 안내) 배송 조회는 로그인 혹은 마이페이지 클릭 후 비회원 배송 조회에서 성함과 주문번호를 입력하시면 확인하실 수 있습니다.\\xa0']]"
      ]
     },
     "execution_count": 36,
     "metadata": {},
     "output_type": "execute_result"
    }
   ],
   "source": [
    "order_quest"
   ]
  },
  {
   "cell_type": "code",
   "execution_count": 37,
   "metadata": {},
   "outputs": [
    {
     "data": {
      "text/html": [
       "<div>\n",
       "<style scoped>\n",
       "    .dataframe tbody tr th:only-of-type {\n",
       "        vertical-align: middle;\n",
       "    }\n",
       "\n",
       "    .dataframe tbody tr th {\n",
       "        vertical-align: top;\n",
       "    }\n",
       "\n",
       "    .dataframe thead th {\n",
       "        text-align: right;\n",
       "    }\n",
       "</style>\n",
       "<table border=\"1\" class=\"dataframe\">\n",
       "  <thead>\n",
       "    <tr style=\"text-align: right;\">\n",
       "      <th></th>\n",
       "      <th>제목</th>\n",
       "      <th>분류</th>\n",
       "    </tr>\n",
       "  </thead>\n",
       "  <tbody>\n",
       "    <tr>\n",
       "      <th>0</th>\n",
       "      <td>입금 계좌번호를 알려주세요.</td>\n",
       "      <td>주문</td>\n",
       "    </tr>\n",
       "    <tr>\n",
       "      <th>1</th>\n",
       "      <td>환불처리 / 카드취소 등 요청 했는데 언제 처리되나요?</td>\n",
       "      <td>주문</td>\n",
       "    </tr>\n",
       "    <tr>\n",
       "      <th>2</th>\n",
       "      <td>주문 취소하고 싶어요.</td>\n",
       "      <td>주문</td>\n",
       "    </tr>\n",
       "    <tr>\n",
       "      <th>3</th>\n",
       "      <td>입금했는데 왜 입금 확인이 되지 않나요?</td>\n",
       "      <td>주문</td>\n",
       "    </tr>\n",
       "    <tr>\n",
       "      <th>4</th>\n",
       "      <td>쿠폰 및 적립금 등은 어떻게 사용하나요?</td>\n",
       "      <td>주문</td>\n",
       "    </tr>\n",
       "    <tr>\n",
       "      <th>5</th>\n",
       "      <td>어떤 결제 방법이 있나요?</td>\n",
       "      <td>주문</td>\n",
       "    </tr>\n",
       "    <tr>\n",
       "      <th>6</th>\n",
       "      <td>비회원도 구매가 가능하나요?</td>\n",
       "      <td>주문</td>\n",
       "    </tr>\n",
       "    <tr>\n",
       "      <th>7</th>\n",
       "      <td>[-무통장 결제\\n환불은 평일 기준 오후 6시 이후 일괄적으로 처리해 드리고 있어 ...</td>\n",
       "      <td>주문</td>\n",
       "    </tr>\n",
       "    <tr>\n",
       "      <th>8</th>\n",
       "      <td>[발송전이면 로그인 후 → 마이페이지 → 주문 내역에서 [주문취소] 버튼 눌러주시면...</td>\n",
       "      <td>주문</td>\n",
       "    </tr>\n",
       "    <tr>\n",
       "      <th>9</th>\n",
       "      <td>[주문서에 기재한 입금자명과 다르거나 다른 금액으로 입금한 경우 확인이 되지 않습니...</td>\n",
       "      <td>주문</td>\n",
       "    </tr>\n",
       "    <tr>\n",
       "      <th>10</th>\n",
       "      <td>[-쿠폰쿠폰마다 사용 가능한 금액 기준이 상이하며  기재되어 있는 금액 이상 구매 ...</td>\n",
       "      <td>주문</td>\n",
       "    </tr>\n",
       "    <tr>\n",
       "      <th>11</th>\n",
       "      <td>[- 페이코(payco)- 카카오페이(KakaoPay)- 무통장입금- 신용카드 - ...</td>\n",
       "      <td>주문</td>\n",
       "    </tr>\n",
       "    <tr>\n",
       "      <th>12</th>\n",
       "      <td>[비회원도 구매 가능하며 장바구니 → 주문하기 → 비회원 구매 클릭하면 됩니다 :)...</td>\n",
       "      <td>주문</td>\n",
       "    </tr>\n",
       "  </tbody>\n",
       "</table>\n",
       "</div>"
      ],
      "text/plain": [
       "                                                   제목  분류\n",
       "0                                     입금 계좌번호를 알려주세요.  주문\n",
       "1                      환불처리 / 카드취소 등 요청 했는데 언제 처리되나요?  주문\n",
       "2                                        주문 취소하고 싶어요.  주문\n",
       "3                              입금했는데 왜 입금 확인이 되지 않나요?  주문\n",
       "4                              쿠폰 및 적립금 등은 어떻게 사용하나요?  주문\n",
       "5                                      어떤 결제 방법이 있나요?  주문\n",
       "6                                     비회원도 구매가 가능하나요?  주문\n",
       "7   [-무통장 결제\\n환불은 평일 기준 오후 6시 이후 일괄적으로 처리해 드리고 있어 ...  주문\n",
       "8   [발송전이면 로그인 후 → 마이페이지 → 주문 내역에서 [주문취소] 버튼 눌러주시면...  주문\n",
       "9   [주문서에 기재한 입금자명과 다르거나 다른 금액으로 입금한 경우 확인이 되지 않습니...  주문\n",
       "10  [-쿠폰쿠폰마다 사용 가능한 금액 기준이 상이하며  기재되어 있는 금액 이상 구매 ...  주문\n",
       "11  [- 페이코(payco)- 카카오페이(KakaoPay)- 무통장입금- 신용카드 - ...  주문\n",
       "12  [비회원도 구매 가능하며 장바구니 → 주문하기 → 비회원 구매 클릭하면 됩니다 :)...  주문"
      ]
     },
     "execution_count": 37,
     "metadata": {},
     "output_type": "execute_result"
    }
   ],
   "source": [
    "# 데이터프레임으로 보기\n",
    "cs_review= pd.DataFrame({'제목' :order_quest,\n",
    "                       '분류' : \"주문\"\n",
    "                       })\n",
    "cs_review"
   ]
  },
  {
   "cell_type": "markdown",
   "metadata": {},
   "source": [
    "## 배송"
   ]
  },
  {
   "cell_type": "code",
   "execution_count": 39,
   "metadata": {},
   "outputs": [],
   "source": [
    "delivery = driver.find_element_by_css_selector(\"#faq-category > ul > li:nth-child(3) > a\")\n",
    "delivery.send_keys(Keys.RETURN)"
   ]
  },
  {
   "cell_type": "code",
   "execution_count": 40,
   "metadata": {},
   "outputs": [],
   "source": [
    "html=driver.page_source"
   ]
  },
  {
   "cell_type": "code",
   "execution_count": 41,
   "metadata": {},
   "outputs": [],
   "source": [
    "html_doc=BeautifulSoup(html,\"html.parser\")"
   ]
  },
  {
   "cell_type": "code",
   "execution_count": 42,
   "metadata": {},
   "outputs": [],
   "source": [
    "delivery_question=html_doc.select(\"#faqTable > table > tbody > tr> td:nth-child(3) > div\")\n",
    "delivery_quest=confirm_text(delivery_question)"
   ]
  },
  {
   "cell_type": "code",
   "execution_count": 43,
   "metadata": {
    "scrolled": false
   },
   "outputs": [
    {
     "data": {
      "text/plain": [
       "['해외 배송도 가능한가요?',\n",
       " '배송 준비 중인데 상품 변경하고 싶어요.',\n",
       " '묶음배송도 되나요?',\n",
       " '오늘 주문하면 언제 받을 수 있나요?',\n",
       " '어느 택배사로 배송 되나요?',\n",
       " '얼마 이상 구매 시 무료배송인가요?']"
      ]
     },
     "execution_count": 43,
     "metadata": {},
     "output_type": "execute_result"
    }
   ],
   "source": [
    "delivery_quest"
   ]
  },
  {
   "cell_type": "code",
   "execution_count": 44,
   "metadata": {},
   "outputs": [
    {
     "name": "stdout",
     "output_type": "stream",
     "text": [
      "13\n"
     ]
    }
   ],
   "source": [
    "delivery22=answer_confirm()"
   ]
  },
  {
   "cell_type": "code",
   "execution_count": 46,
   "metadata": {},
   "outputs": [],
   "source": [
    "delivery_quest=delivery22+delivery_quest[1:]"
   ]
  },
  {
   "cell_type": "code",
   "execution_count": 47,
   "metadata": {},
   "outputs": [
    {
     "data": {
      "text/html": [
       "<div>\n",
       "<style scoped>\n",
       "    .dataframe tbody tr th:only-of-type {\n",
       "        vertical-align: middle;\n",
       "    }\n",
       "\n",
       "    .dataframe tbody tr th {\n",
       "        vertical-align: top;\n",
       "    }\n",
       "\n",
       "    .dataframe thead th {\n",
       "        text-align: right;\n",
       "    }\n",
       "</style>\n",
       "<table border=\"1\" class=\"dataframe\">\n",
       "  <thead>\n",
       "    <tr style=\"text-align: right;\">\n",
       "      <th></th>\n",
       "      <th>제목</th>\n",
       "      <th>분류</th>\n",
       "    </tr>\n",
       "  </thead>\n",
       "  <tbody>\n",
       "    <tr>\n",
       "      <th>0</th>\n",
       "      <td>[해외 배송 가능합니다.​ 주문서 작성 시 배송지 선택에서 해외 배송 선택 → 국가...</td>\n",
       "      <td>배송</td>\n",
       "    </tr>\n",
       "    <tr>\n",
       "      <th>1</th>\n",
       "      <td>[캔마트는 빠른 배송을 위해 결제 완료 후 배송 준비를 하고 있는데요 출고되지 않는...</td>\n",
       "      <td>배송</td>\n",
       "    </tr>\n",
       "    <tr>\n",
       "      <th>2</th>\n",
       "      <td>[네~ 묶음배송 가능합니다 :)주문 후 게시판이나 고객센터로 문의해 주시면 저희 쪽...</td>\n",
       "      <td>배송</td>\n",
       "    </tr>\n",
       "    <tr>\n",
       "      <th>3</th>\n",
       "      <td>[\\n배송기간은 결제 완료 후 2~5일(주말  공휴일 제외)로 여유 부탁 드립니다....</td>\n",
       "      <td>배송</td>\n",
       "    </tr>\n",
       "    <tr>\n",
       "      <th>4</th>\n",
       "      <td>[캔마트에서는 CJ 대한통운을 이용하여 고객님께 배송해 드리고 있습니다 :)배송 조...</td>\n",
       "      <td>배송</td>\n",
       "    </tr>\n",
       "    <tr>\n",
       "      <th>5</th>\n",
       "      <td>[저희 캔마트에서는 실결제금액기준 5만원 이상 구매하실 경우 무료 배송을 해드리고 ...</td>\n",
       "      <td>배송</td>\n",
       "    </tr>\n",
       "    <tr>\n",
       "      <th>6</th>\n",
       "      <td>배송 준비 중인데 상품 변경하고 싶어요.</td>\n",
       "      <td>배송</td>\n",
       "    </tr>\n",
       "    <tr>\n",
       "      <th>7</th>\n",
       "      <td>묶음배송도 되나요?</td>\n",
       "      <td>배송</td>\n",
       "    </tr>\n",
       "    <tr>\n",
       "      <th>8</th>\n",
       "      <td>오늘 주문하면 언제 받을 수 있나요?</td>\n",
       "      <td>배송</td>\n",
       "    </tr>\n",
       "    <tr>\n",
       "      <th>9</th>\n",
       "      <td>어느 택배사로 배송 되나요?</td>\n",
       "      <td>배송</td>\n",
       "    </tr>\n",
       "    <tr>\n",
       "      <th>10</th>\n",
       "      <td>얼마 이상 구매 시 무료배송인가요?</td>\n",
       "      <td>배송</td>\n",
       "    </tr>\n",
       "  </tbody>\n",
       "</table>\n",
       "</div>"
      ],
      "text/plain": [
       "                                                   제목  분류\n",
       "0   [해외 배송 가능합니다.​ 주문서 작성 시 배송지 선택에서 해외 배송 선택 → 국가...  배송\n",
       "1   [캔마트는 빠른 배송을 위해 결제 완료 후 배송 준비를 하고 있는데요 출고되지 않는...  배송\n",
       "2   [네~ 묶음배송 가능합니다 :)주문 후 게시판이나 고객센터로 문의해 주시면 저희 쪽...  배송\n",
       "3   [\\n배송기간은 결제 완료 후 2~5일(주말  공휴일 제외)로 여유 부탁 드립니다....  배송\n",
       "4   [캔마트에서는 CJ 대한통운을 이용하여 고객님께 배송해 드리고 있습니다 :)배송 조...  배송\n",
       "5   [저희 캔마트에서는 실결제금액기준 5만원 이상 구매하실 경우 무료 배송을 해드리고 ...  배송\n",
       "6                              배송 준비 중인데 상품 변경하고 싶어요.  배송\n",
       "7                                          묶음배송도 되나요?  배송\n",
       "8                                오늘 주문하면 언제 받을 수 있나요?  배송\n",
       "9                                     어느 택배사로 배송 되나요?  배송\n",
       "10                                얼마 이상 구매 시 무료배송인가요?  배송"
      ]
     },
     "execution_count": 47,
     "metadata": {},
     "output_type": "execute_result"
    }
   ],
   "source": [
    "# 데이터프레임으로 보기\n",
    "cs_deli= pd.DataFrame({'제목' :delivery_quest,\n",
    "                       '분류' : \"배송\"\n",
    "                       })\n",
    "cs_deli"
   ]
  },
  {
   "cell_type": "markdown",
   "metadata": {},
   "source": [
    "## 상품관련"
   ]
  },
  {
   "cell_type": "markdown",
   "metadata": {},
   "source": [
    "##### 상품관련"
   ]
  },
  {
   "cell_type": "code",
   "execution_count": null,
   "metadata": {},
   "outputs": [],
   "source": [
    "product = driver.find_element_by_css_selector(\"body > div.wrap > div.right_area > div.right_contents.faq_contents > ul > li:nth-child(6) > a\")\n",
    "product.send_keys(Keys.RETURN)"
   ]
  },
  {
   "cell_type": "code",
   "execution_count": null,
   "metadata": {},
   "outputs": [],
   "source": [
    "html=driver.page_source"
   ]
  },
  {
   "cell_type": "code",
   "execution_count": null,
   "metadata": {},
   "outputs": [],
   "source": [
    "html_doc=BeautifulSoup(html,\"html.parser\")"
   ]
  },
  {
   "cell_type": "code",
   "execution_count": null,
   "metadata": {},
   "outputs": [],
   "source": [
    "product_question=html_doc.select(\"body > div.wrap > div.right_area > div.right_contents.faq_contents > table > tbody > tr > td.txt_contents > a\")\n",
    "product_quest=confirm_text(product_question)"
   ]
  },
  {
   "cell_type": "code",
   "execution_count": null,
   "metadata": {
    "scrolled": false
   },
   "outputs": [],
   "source": [
    "product_quest"
   ]
  },
  {
   "cell_type": "code",
   "execution_count": null,
   "metadata": {},
   "outputs": [],
   "source": [
    "pp2=answer_confirm()"
   ]
  },
  {
   "cell_type": "code",
   "execution_count": null,
   "metadata": {},
   "outputs": [],
   "source": [
    "product_quest=product_quest+pp2[0]"
   ]
  },
  {
   "cell_type": "code",
   "execution_count": null,
   "metadata": {},
   "outputs": [],
   "source": [
    "# 데이터프레임으로 보기\n",
    "cs_pro= pd.DataFrame({'제목' :product_quest,\n",
    "                       '분류' : \"상품관련\"\n",
    "                       })\n",
    "cs_pro"
   ]
  },
  {
   "cell_type": "markdown",
   "metadata": {},
   "source": [
    "##### 교환"
   ]
  },
  {
   "cell_type": "code",
   "execution_count": null,
   "metadata": {},
   "outputs": [],
   "source": [
    "product_exchange = driver.find_element_by_css_selector(\"body > div.wrap > div.right_area > div.right_contents.faq_contents > ul > li:nth-child(4) > a\")\n",
    "product_exchange.send_keys(Keys.RETURN)"
   ]
  },
  {
   "cell_type": "code",
   "execution_count": null,
   "metadata": {},
   "outputs": [],
   "source": [
    "html=driver.page_source"
   ]
  },
  {
   "cell_type": "code",
   "execution_count": null,
   "metadata": {},
   "outputs": [],
   "source": [
    "html_doc=BeautifulSoup(html,\"html.parser\")"
   ]
  },
  {
   "cell_type": "code",
   "execution_count": null,
   "metadata": {},
   "outputs": [],
   "source": [
    "product_exchange_question=html_doc.select(\"body > div.wrap > div.right_area > div.right_contents.faq_contents > table > tbody > tr > td.txt_contents > a\")\n",
    "product_exchange_quest=confirm_text(product_exchange_question)"
   ]
  },
  {
   "cell_type": "code",
   "execution_count": null,
   "metadata": {},
   "outputs": [],
   "source": [
    "product_exchange_quest"
   ]
  },
  {
   "cell_type": "code",
   "execution_count": null,
   "metadata": {},
   "outputs": [],
   "source": [
    "ex22 = answer_confirm()"
   ]
  },
  {
   "cell_type": "code",
   "execution_count": null,
   "metadata": {},
   "outputs": [],
   "source": [
    "product_exchange_quest=product_exchange_quest+ex22[0]"
   ]
  },
  {
   "cell_type": "code",
   "execution_count": 149,
   "metadata": {},
   "outputs": [
    {
     "data": {
      "text/html": [
       "<div>\n",
       "<style scoped>\n",
       "    .dataframe tbody tr th:only-of-type {\n",
       "        vertical-align: middle;\n",
       "    }\n",
       "\n",
       "    .dataframe tbody tr th {\n",
       "        vertical-align: top;\n",
       "    }\n",
       "\n",
       "    .dataframe thead th {\n",
       "        text-align: right;\n",
       "    }\n",
       "</style>\n",
       "<table border=\"1\" class=\"dataframe\">\n",
       "  <thead>\n",
       "    <tr style=\"text-align: right;\">\n",
       "      <th></th>\n",
       "      <th>제목</th>\n",
       "      <th>분류</th>\n",
       "    </tr>\n",
       "  </thead>\n",
       "  <tbody>\n",
       "    <tr>\n",
       "      <th>0</th>\n",
       "      <td>I교환/반품I 상품을 받았는데 교환하고 싶어요.</td>\n",
       "      <td>상품관련</td>\n",
       "    </tr>\n",
       "    <tr>\n",
       "      <th>1</th>\n",
       "      <td>I취소/반품(환불)I 교환(환불)이 어려운 경우가 있나요?</td>\n",
       "      <td>상품관련</td>\n",
       "    </tr>\n",
       "    <tr>\n",
       "      <th>2</th>\n",
       "      <td>I교환/반품I 상품은 보냈는데 언제 상품 배송 되나요?</td>\n",
       "      <td>상품관련</td>\n",
       "    </tr>\n",
       "    <tr>\n",
       "      <th>3</th>\n",
       "      <td>I교환/반품I 같은 브랜드 다른 상품으로 교환 가능 한가요?</td>\n",
       "      <td>상품관련</td>\n",
       "    </tr>\n",
       "    <tr>\n",
       "      <th>4</th>\n",
       "      <td>I취소/반품(환불)I 부티크 보안실 제거 했는데 교환/환불 가능한가요?</td>\n",
       "      <td>상품관련</td>\n",
       "    </tr>\n",
       "    <tr>\n",
       "      <th>5</th>\n",
       "      <td>I취소/반품(환불)I 반품접수는 어떻게 하나요?</td>\n",
       "      <td>상품관련</td>\n",
       "    </tr>\n",
       "    <tr>\n",
       "      <th>6</th>\n",
       "      <td>I취소/반품(환불)I 반송장 입력  수정은 어떻게 하나요?</td>\n",
       "      <td>상품관련</td>\n",
       "    </tr>\n",
       "    <tr>\n",
       "      <th>7</th>\n",
       "      <td>I취소/반품(환불)I 비용은 무료인가요?</td>\n",
       "      <td>상품관련</td>\n",
       "    </tr>\n",
       "    <tr>\n",
       "      <th>8</th>\n",
       "      <td>I취소/반품(환불)I 무탠픽업 주문건을 취소(환불/교환) 하고 싶어요.</td>\n",
       "      <td>상품관련</td>\n",
       "    </tr>\n",
       "    <tr>\n",
       "      <th>9</th>\n",
       "      <td>[교환은 배송 완료 후  7일 이내일 경우에만 주문/배송/픽업 조회에서 접수 가능합...</td>\n",
       "      <td>상품관련</td>\n",
       "    </tr>\n",
       "    <tr>\n",
       "      <th>10</th>\n",
       "      <td>[교환은 배송 완료 후  7일 이내일 경우에만 주문/배송/픽업 조회에서 접수 가능합...</td>\n",
       "      <td>상품관련</td>\n",
       "    </tr>\n",
       "    <tr>\n",
       "      <th>11</th>\n",
       "      <td>[교환은 배송 완료 후  7일 이내일 경우에만 주문/배송/픽업 조회에서 접수 가능합...</td>\n",
       "      <td>상품관련</td>\n",
       "    </tr>\n",
       "    <tr>\n",
       "      <th>12</th>\n",
       "      <td>[교환은 배송 완료 후  7일 이내일 경우에만 주문/배송/픽업 조회에서 접수 가능합...</td>\n",
       "      <td>상품관련</td>\n",
       "    </tr>\n",
       "    <tr>\n",
       "      <th>13</th>\n",
       "      <td>[교환은 배송 완료 후  7일 이내일 경우에만 주문/배송/픽업 조회에서 접수 가능합...</td>\n",
       "      <td>상품관련</td>\n",
       "    </tr>\n",
       "    <tr>\n",
       "      <th>14</th>\n",
       "      <td>[교환은 배송 완료 후  7일 이내일 경우에만 주문/배송/픽업 조회에서 접수 가능합...</td>\n",
       "      <td>상품관련</td>\n",
       "    </tr>\n",
       "    <tr>\n",
       "      <th>15</th>\n",
       "      <td>[교환은 배송 완료 후  7일 이내일 경우에만 주문/배송/픽업 조회에서 접수 가능합...</td>\n",
       "      <td>상품관련</td>\n",
       "    </tr>\n",
       "    <tr>\n",
       "      <th>16</th>\n",
       "      <td>[교환은 배송 완료 후  7일 이내일 경우에만 주문/배송/픽업 조회에서 접수 가능합...</td>\n",
       "      <td>상품관련</td>\n",
       "    </tr>\n",
       "    <tr>\n",
       "      <th>17</th>\n",
       "      <td>[교환은 배송 완료 후  7일 이내일 경우에만 주문/배송/픽업 조회에서 접수 가능합...</td>\n",
       "      <td>상품관련</td>\n",
       "    </tr>\n",
       "  </tbody>\n",
       "</table>\n",
       "</div>"
      ],
      "text/plain": [
       "                                                   제목    분류\n",
       "0                          I교환/반품I 상품을 받았는데 교환하고 싶어요.  상품관련\n",
       "1                    I취소/반품(환불)I 교환(환불)이 어려운 경우가 있나요?  상품관련\n",
       "2                      I교환/반품I 상품은 보냈는데 언제 상품 배송 되나요?  상품관련\n",
       "3                   I교환/반품I 같은 브랜드 다른 상품으로 교환 가능 한가요?  상품관련\n",
       "4             I취소/반품(환불)I 부티크 보안실 제거 했는데 교환/환불 가능한가요?  상품관련\n",
       "5                          I취소/반품(환불)I 반품접수는 어떻게 하나요?  상품관련\n",
       "6                    I취소/반품(환불)I 반송장 입력  수정은 어떻게 하나요?  상품관련\n",
       "7                              I취소/반품(환불)I 비용은 무료인가요?  상품관련\n",
       "8             I취소/반품(환불)I 무탠픽업 주문건을 취소(환불/교환) 하고 싶어요.  상품관련\n",
       "9   [교환은 배송 완료 후  7일 이내일 경우에만 주문/배송/픽업 조회에서 접수 가능합...  상품관련\n",
       "10  [교환은 배송 완료 후  7일 이내일 경우에만 주문/배송/픽업 조회에서 접수 가능합...  상품관련\n",
       "11  [교환은 배송 완료 후  7일 이내일 경우에만 주문/배송/픽업 조회에서 접수 가능합...  상품관련\n",
       "12  [교환은 배송 완료 후  7일 이내일 경우에만 주문/배송/픽업 조회에서 접수 가능합...  상품관련\n",
       "13  [교환은 배송 완료 후  7일 이내일 경우에만 주문/배송/픽업 조회에서 접수 가능합...  상품관련\n",
       "14  [교환은 배송 완료 후  7일 이내일 경우에만 주문/배송/픽업 조회에서 접수 가능합...  상품관련\n",
       "15  [교환은 배송 완료 후  7일 이내일 경우에만 주문/배송/픽업 조회에서 접수 가능합...  상품관련\n",
       "16  [교환은 배송 완료 후  7일 이내일 경우에만 주문/배송/픽업 조회에서 접수 가능합...  상품관련\n",
       "17  [교환은 배송 완료 후  7일 이내일 경우에만 주문/배송/픽업 조회에서 접수 가능합...  상품관련"
      ]
     },
     "execution_count": 149,
     "metadata": {},
     "output_type": "execute_result"
    }
   ],
   "source": [
    "# 데이터프레임으로 보기\n",
    "cs_pro2= pd.DataFrame({'제목' :product_exchange_quest,\n",
    "                       '분류' : \"상품관련\"\n",
    "                       })\n",
    "cs_pro2"
   ]
  },
  {
   "cell_type": "markdown",
   "metadata": {},
   "source": [
    "##### 환불"
   ]
  },
  {
   "cell_type": "code",
   "execution_count": 150,
   "metadata": {},
   "outputs": [],
   "source": [
    "product_refund=driver.find_element_by_css_selector(\"body > div.wrap > div.right_area > div.right_contents.faq_contents > ul > li:nth-child(5) > a\")\n",
    "product_refund.send_keys(Keys.RETURN)"
   ]
  },
  {
   "cell_type": "code",
   "execution_count": 151,
   "metadata": {},
   "outputs": [],
   "source": [
    "html=driver.page_source"
   ]
  },
  {
   "cell_type": "code",
   "execution_count": 152,
   "metadata": {},
   "outputs": [],
   "source": [
    "html_doc=BeautifulSoup(html,\"html.parser\")"
   ]
  },
  {
   "cell_type": "code",
   "execution_count": 153,
   "metadata": {},
   "outputs": [],
   "source": [
    "product_refund_question=html_doc.select(\"body > div.wrap > div.right_area > div.right_contents.faq_contents > table > tbody > tr > td.txt_contents > a\")\n",
    "product_refund_quest=confirm_text(product_refund_question)"
   ]
  },
  {
   "cell_type": "code",
   "execution_count": 154,
   "metadata": {},
   "outputs": [
    {
     "data": {
      "text/plain": [
       "['I취소/반품(환불)I 상품을 받았는데 환불하고 싶어요.',\n",
       " 'I취소/반품(환불)I 교환(환불)이 어려운 경우가 있나요?',\n",
       " 'I취소/반품(환불)I 상품은 보냈는데 언제 환불 되나요?',\n",
       " 'I취소/반품(환불)I 주문을 취소(옵션변경)를 하고 싶어요.',\n",
       " 'I취소/반품(환불)I 실제 카드 취소나 금액은 언제 입금되나요?',\n",
       " 'I취소/반품(환불)I 비용은 무료인가요?',\n",
       " 'I취소/반품(환불)I 무탠 픽업 주문 후 환불 될 예정이라는 안내를 받았어요.',\n",
       " 'I취소/반품(환불)I 부티크 보안실 제거 했는데 교환/환불 가능한가요?',\n",
       " 'I취소/반품(환불)I 반품접수는 어떻게 하나요?',\n",
       " 'I취소/반품(환불)I 반송장 입력  수정은 어떻게 하나요?',\n",
       " 'I취소/반품(환불)I 무탠픽업 주문건을 취소(환불/교환) 하고 싶어요.']"
      ]
     },
     "execution_count": 154,
     "metadata": {},
     "output_type": "execute_result"
    }
   ],
   "source": [
    "product_refund_quest"
   ]
  },
  {
   "cell_type": "code",
   "execution_count": 155,
   "metadata": {},
   "outputs": [
    {
     "name": "stdout",
     "output_type": "stream",
     "text": [
      "23\n"
     ]
    }
   ],
   "source": [
    "red2=answer_confirm()"
   ]
  },
  {
   "cell_type": "code",
   "execution_count": 156,
   "metadata": {},
   "outputs": [],
   "source": [
    "product_refund_quest=product_refund_quest+red2[0]"
   ]
  },
  {
   "cell_type": "code",
   "execution_count": 157,
   "metadata": {},
   "outputs": [
    {
     "data": {
      "text/html": [
       "<div>\n",
       "<style scoped>\n",
       "    .dataframe tbody tr th:only-of-type {\n",
       "        vertical-align: middle;\n",
       "    }\n",
       "\n",
       "    .dataframe tbody tr th {\n",
       "        vertical-align: top;\n",
       "    }\n",
       "\n",
       "    .dataframe thead th {\n",
       "        text-align: right;\n",
       "    }\n",
       "</style>\n",
       "<table border=\"1\" class=\"dataframe\">\n",
       "  <thead>\n",
       "    <tr style=\"text-align: right;\">\n",
       "      <th></th>\n",
       "      <th>제목</th>\n",
       "      <th>분류</th>\n",
       "    </tr>\n",
       "  </thead>\n",
       "  <tbody>\n",
       "    <tr>\n",
       "      <th>0</th>\n",
       "      <td>I취소/반품(환불)I 상품을 받았는데 환불하고 싶어요.</td>\n",
       "      <td>상품관련</td>\n",
       "    </tr>\n",
       "    <tr>\n",
       "      <th>1</th>\n",
       "      <td>I취소/반품(환불)I 교환(환불)이 어려운 경우가 있나요?</td>\n",
       "      <td>상품관련</td>\n",
       "    </tr>\n",
       "    <tr>\n",
       "      <th>2</th>\n",
       "      <td>I취소/반품(환불)I 상품은 보냈는데 언제 환불 되나요?</td>\n",
       "      <td>상품관련</td>\n",
       "    </tr>\n",
       "    <tr>\n",
       "      <th>3</th>\n",
       "      <td>I취소/반품(환불)I 주문을 취소(옵션변경)를 하고 싶어요.</td>\n",
       "      <td>상품관련</td>\n",
       "    </tr>\n",
       "    <tr>\n",
       "      <th>4</th>\n",
       "      <td>I취소/반품(환불)I 실제 카드 취소나 금액은 언제 입금되나요?</td>\n",
       "      <td>상품관련</td>\n",
       "    </tr>\n",
       "    <tr>\n",
       "      <th>5</th>\n",
       "      <td>I취소/반품(환불)I 비용은 무료인가요?</td>\n",
       "      <td>상품관련</td>\n",
       "    </tr>\n",
       "    <tr>\n",
       "      <th>6</th>\n",
       "      <td>I취소/반품(환불)I 무탠 픽업 주문 후 환불 될 예정이라는 안내를 받았어요.</td>\n",
       "      <td>상품관련</td>\n",
       "    </tr>\n",
       "    <tr>\n",
       "      <th>7</th>\n",
       "      <td>I취소/반품(환불)I 부티크 보안실 제거 했는데 교환/환불 가능한가요?</td>\n",
       "      <td>상품관련</td>\n",
       "    </tr>\n",
       "    <tr>\n",
       "      <th>8</th>\n",
       "      <td>I취소/반품(환불)I 반품접수는 어떻게 하나요?</td>\n",
       "      <td>상품관련</td>\n",
       "    </tr>\n",
       "    <tr>\n",
       "      <th>9</th>\n",
       "      <td>I취소/반품(환불)I 반송장 입력  수정은 어떻게 하나요?</td>\n",
       "      <td>상품관련</td>\n",
       "    </tr>\n",
       "    <tr>\n",
       "      <th>10</th>\n",
       "      <td>I취소/반품(환불)I 무탠픽업 주문건을 취소(환불/교환) 하고 싶어요.</td>\n",
       "      <td>상품관련</td>\n",
       "    </tr>\n",
       "    <tr>\n",
       "      <th>11</th>\n",
       "      <td>환불은 배송 완료 후  7일 이내일 경우에만 주문/배송/픽업 조회에서 접수 가능합니...</td>\n",
       "      <td>상품관련</td>\n",
       "    </tr>\n",
       "    <tr>\n",
       "      <th>12</th>\n",
       "      <td>아래 사유에 해당 되는 경우 교환(환불)이 가능하지 않습니다. \\n\\n※ 신발의 경...</td>\n",
       "      <td>상품관련</td>\n",
       "    </tr>\n",
       "    <tr>\n",
       "      <th>13</th>\n",
       "      <td></td>\n",
       "      <td>상품관련</td>\n",
       "    </tr>\n",
       "    <tr>\n",
       "      <th>14</th>\n",
       "      <td></td>\n",
       "      <td>상품관련</td>\n",
       "    </tr>\n",
       "    <tr>\n",
       "      <th>15</th>\n",
       "      <td>환불 진행 과정은 아래 내용 참고해 주세요. \\n\\n■ 환불 진행 과정 \\n상품 회...</td>\n",
       "      <td>상품관련</td>\n",
       "    </tr>\n",
       "    <tr>\n",
       "      <th>16</th>\n",
       "      <td>주문 후 입금 확인 단계라면 마이페이지 &gt; 주문/배송/픽업 조회에서 주문을 취소할 ...</td>\n",
       "      <td>상품관련</td>\n",
       "    </tr>\n",
       "    <tr>\n",
       "      <th>17</th>\n",
       "      <td>결제했던 수단으로 환불되고 각 결제 수단마다 기간이 다릅니다. \\n아래 결제수단별 ...</td>\n",
       "      <td>상품관련</td>\n",
       "    </tr>\n",
       "  </tbody>\n",
       "</table>\n",
       "</div>"
      ],
      "text/plain": [
       "                                                   제목    분류\n",
       "0                      I취소/반품(환불)I 상품을 받았는데 환불하고 싶어요.  상품관련\n",
       "1                    I취소/반품(환불)I 교환(환불)이 어려운 경우가 있나요?  상품관련\n",
       "2                     I취소/반품(환불)I 상품은 보냈는데 언제 환불 되나요?  상품관련\n",
       "3                   I취소/반품(환불)I 주문을 취소(옵션변경)를 하고 싶어요.  상품관련\n",
       "4                 I취소/반품(환불)I 실제 카드 취소나 금액은 언제 입금되나요?  상품관련\n",
       "5                              I취소/반품(환불)I 비용은 무료인가요?  상품관련\n",
       "6         I취소/반품(환불)I 무탠 픽업 주문 후 환불 될 예정이라는 안내를 받았어요.  상품관련\n",
       "7             I취소/반품(환불)I 부티크 보안실 제거 했는데 교환/환불 가능한가요?  상품관련\n",
       "8                          I취소/반품(환불)I 반품접수는 어떻게 하나요?  상품관련\n",
       "9                    I취소/반품(환불)I 반송장 입력  수정은 어떻게 하나요?  상품관련\n",
       "10            I취소/반품(환불)I 무탠픽업 주문건을 취소(환불/교환) 하고 싶어요.  상품관련\n",
       "11  환불은 배송 완료 후  7일 이내일 경우에만 주문/배송/픽업 조회에서 접수 가능합니...  상품관련\n",
       "12  아래 사유에 해당 되는 경우 교환(환불)이 가능하지 않습니다. \\n\\n※ 신발의 경...  상품관련\n",
       "13                                                     상품관련\n",
       "14                                                     상품관련\n",
       "15  환불 진행 과정은 아래 내용 참고해 주세요. \\n\\n■ 환불 진행 과정 \\n상품 회...  상품관련\n",
       "16  주문 후 입금 확인 단계라면 마이페이지 > 주문/배송/픽업 조회에서 주문을 취소할 ...  상품관련\n",
       "17  결제했던 수단으로 환불되고 각 결제 수단마다 기간이 다릅니다. \\n아래 결제수단별 ...  상품관련"
      ]
     },
     "execution_count": 157,
     "metadata": {},
     "output_type": "execute_result"
    }
   ],
   "source": [
    "# 데이터프레임으로 보기\n",
    "cs_pro3= pd.DataFrame({'제목' :product_refund_quest,\n",
    "                       '분류' : \"상품관련\"\n",
    "                       })\n",
    "cs_pro3"
   ]
  },
  {
   "cell_type": "code",
   "execution_count": 158,
   "metadata": {},
   "outputs": [],
   "source": [
    "cs_2=pd.concat([cs_pro3, cs_pro2,cs_pro],ignore_index=True)"
   ]
  },
  {
   "cell_type": "code",
   "execution_count": 159,
   "metadata": {},
   "outputs": [
    {
     "data": {
      "text/html": [
       "<div>\n",
       "<style scoped>\n",
       "    .dataframe tbody tr th:only-of-type {\n",
       "        vertical-align: middle;\n",
       "    }\n",
       "\n",
       "    .dataframe tbody tr th {\n",
       "        vertical-align: top;\n",
       "    }\n",
       "\n",
       "    .dataframe thead th {\n",
       "        text-align: right;\n",
       "    }\n",
       "</style>\n",
       "<table border=\"1\" class=\"dataframe\">\n",
       "  <thead>\n",
       "    <tr style=\"text-align: right;\">\n",
       "      <th></th>\n",
       "      <th>제목</th>\n",
       "      <th>분류</th>\n",
       "    </tr>\n",
       "  </thead>\n",
       "  <tbody>\n",
       "    <tr>\n",
       "      <th>0</th>\n",
       "      <td>I취소/반품(환불)I 상품을 받았는데 환불하고 싶어요.</td>\n",
       "      <td>상품관련</td>\n",
       "    </tr>\n",
       "    <tr>\n",
       "      <th>1</th>\n",
       "      <td>I취소/반품(환불)I 교환(환불)이 어려운 경우가 있나요?</td>\n",
       "      <td>상품관련</td>\n",
       "    </tr>\n",
       "    <tr>\n",
       "      <th>2</th>\n",
       "      <td>I취소/반품(환불)I 상품은 보냈는데 언제 환불 되나요?</td>\n",
       "      <td>상품관련</td>\n",
       "    </tr>\n",
       "    <tr>\n",
       "      <th>3</th>\n",
       "      <td>I취소/반품(환불)I 주문을 취소(옵션변경)를 하고 싶어요.</td>\n",
       "      <td>상품관련</td>\n",
       "    </tr>\n",
       "    <tr>\n",
       "      <th>4</th>\n",
       "      <td>I취소/반품(환불)I 실제 카드 취소나 금액은 언제 입금되나요?</td>\n",
       "      <td>상품관련</td>\n",
       "    </tr>\n",
       "    <tr>\n",
       "      <th>5</th>\n",
       "      <td>I취소/반품(환불)I 비용은 무료인가요?</td>\n",
       "      <td>상품관련</td>\n",
       "    </tr>\n",
       "    <tr>\n",
       "      <th>6</th>\n",
       "      <td>I취소/반품(환불)I 무탠 픽업 주문 후 환불 될 예정이라는 안내를 받았어요.</td>\n",
       "      <td>상품관련</td>\n",
       "    </tr>\n",
       "    <tr>\n",
       "      <th>7</th>\n",
       "      <td>I취소/반품(환불)I 부티크 보안실 제거 했는데 교환/환불 가능한가요?</td>\n",
       "      <td>상품관련</td>\n",
       "    </tr>\n",
       "    <tr>\n",
       "      <th>8</th>\n",
       "      <td>I취소/반품(환불)I 반품접수는 어떻게 하나요?</td>\n",
       "      <td>상품관련</td>\n",
       "    </tr>\n",
       "    <tr>\n",
       "      <th>9</th>\n",
       "      <td>I취소/반품(환불)I 반송장 입력  수정은 어떻게 하나요?</td>\n",
       "      <td>상품관련</td>\n",
       "    </tr>\n",
       "    <tr>\n",
       "      <th>10</th>\n",
       "      <td>I취소/반품(환불)I 무탠픽업 주문건을 취소(환불/교환) 하고 싶어요.</td>\n",
       "      <td>상품관련</td>\n",
       "    </tr>\n",
       "    <tr>\n",
       "      <th>11</th>\n",
       "      <td>환불은 배송 완료 후  7일 이내일 경우에만 주문/배송/픽업 조회에서 접수 가능합니...</td>\n",
       "      <td>상품관련</td>\n",
       "    </tr>\n",
       "    <tr>\n",
       "      <th>12</th>\n",
       "      <td>아래 사유에 해당 되는 경우 교환(환불)이 가능하지 않습니다. \\n\\n※ 신발의 경...</td>\n",
       "      <td>상품관련</td>\n",
       "    </tr>\n",
       "    <tr>\n",
       "      <th>13</th>\n",
       "      <td></td>\n",
       "      <td>상품관련</td>\n",
       "    </tr>\n",
       "    <tr>\n",
       "      <th>14</th>\n",
       "      <td></td>\n",
       "      <td>상품관련</td>\n",
       "    </tr>\n",
       "    <tr>\n",
       "      <th>15</th>\n",
       "      <td>환불 진행 과정은 아래 내용 참고해 주세요. \\n\\n■ 환불 진행 과정 \\n상품 회...</td>\n",
       "      <td>상품관련</td>\n",
       "    </tr>\n",
       "    <tr>\n",
       "      <th>16</th>\n",
       "      <td>주문 후 입금 확인 단계라면 마이페이지 &gt; 주문/배송/픽업 조회에서 주문을 취소할 ...</td>\n",
       "      <td>상품관련</td>\n",
       "    </tr>\n",
       "    <tr>\n",
       "      <th>17</th>\n",
       "      <td>결제했던 수단으로 환불되고 각 결제 수단마다 기간이 다릅니다. \\n아래 결제수단별 ...</td>\n",
       "      <td>상품관련</td>\n",
       "    </tr>\n",
       "    <tr>\n",
       "      <th>18</th>\n",
       "      <td>I교환/반품I 상품을 받았는데 교환하고 싶어요.</td>\n",
       "      <td>상품관련</td>\n",
       "    </tr>\n",
       "    <tr>\n",
       "      <th>19</th>\n",
       "      <td>I취소/반품(환불)I 교환(환불)이 어려운 경우가 있나요?</td>\n",
       "      <td>상품관련</td>\n",
       "    </tr>\n",
       "    <tr>\n",
       "      <th>20</th>\n",
       "      <td>I교환/반품I 상품은 보냈는데 언제 상품 배송 되나요?</td>\n",
       "      <td>상품관련</td>\n",
       "    </tr>\n",
       "    <tr>\n",
       "      <th>21</th>\n",
       "      <td>I교환/반품I 같은 브랜드 다른 상품으로 교환 가능 한가요?</td>\n",
       "      <td>상품관련</td>\n",
       "    </tr>\n",
       "    <tr>\n",
       "      <th>22</th>\n",
       "      <td>I취소/반품(환불)I 부티크 보안실 제거 했는데 교환/환불 가능한가요?</td>\n",
       "      <td>상품관련</td>\n",
       "    </tr>\n",
       "    <tr>\n",
       "      <th>23</th>\n",
       "      <td>I취소/반품(환불)I 반품접수는 어떻게 하나요?</td>\n",
       "      <td>상품관련</td>\n",
       "    </tr>\n",
       "    <tr>\n",
       "      <th>24</th>\n",
       "      <td>I취소/반품(환불)I 반송장 입력  수정은 어떻게 하나요?</td>\n",
       "      <td>상품관련</td>\n",
       "    </tr>\n",
       "    <tr>\n",
       "      <th>25</th>\n",
       "      <td>I취소/반품(환불)I 비용은 무료인가요?</td>\n",
       "      <td>상품관련</td>\n",
       "    </tr>\n",
       "    <tr>\n",
       "      <th>26</th>\n",
       "      <td>I취소/반품(환불)I 무탠픽업 주문건을 취소(환불/교환) 하고 싶어요.</td>\n",
       "      <td>상품관련</td>\n",
       "    </tr>\n",
       "    <tr>\n",
       "      <th>27</th>\n",
       "      <td>[교환은 배송 완료 후  7일 이내일 경우에만 주문/배송/픽업 조회에서 접수 가능합...</td>\n",
       "      <td>상품관련</td>\n",
       "    </tr>\n",
       "    <tr>\n",
       "      <th>28</th>\n",
       "      <td>[교환은 배송 완료 후  7일 이내일 경우에만 주문/배송/픽업 조회에서 접수 가능합...</td>\n",
       "      <td>상품관련</td>\n",
       "    </tr>\n",
       "    <tr>\n",
       "      <th>29</th>\n",
       "      <td>[교환은 배송 완료 후  7일 이내일 경우에만 주문/배송/픽업 조회에서 접수 가능합...</td>\n",
       "      <td>상품관련</td>\n",
       "    </tr>\n",
       "    <tr>\n",
       "      <th>30</th>\n",
       "      <td>[교환은 배송 완료 후  7일 이내일 경우에만 주문/배송/픽업 조회에서 접수 가능합...</td>\n",
       "      <td>상품관련</td>\n",
       "    </tr>\n",
       "    <tr>\n",
       "      <th>31</th>\n",
       "      <td>[교환은 배송 완료 후  7일 이내일 경우에만 주문/배송/픽업 조회에서 접수 가능합...</td>\n",
       "      <td>상품관련</td>\n",
       "    </tr>\n",
       "    <tr>\n",
       "      <th>32</th>\n",
       "      <td>[교환은 배송 완료 후  7일 이내일 경우에만 주문/배송/픽업 조회에서 접수 가능합...</td>\n",
       "      <td>상품관련</td>\n",
       "    </tr>\n",
       "    <tr>\n",
       "      <th>33</th>\n",
       "      <td>[교환은 배송 완료 후  7일 이내일 경우에만 주문/배송/픽업 조회에서 접수 가능합...</td>\n",
       "      <td>상품관련</td>\n",
       "    </tr>\n",
       "    <tr>\n",
       "      <th>34</th>\n",
       "      <td>[교환은 배송 완료 후  7일 이내일 경우에만 주문/배송/픽업 조회에서 접수 가능합...</td>\n",
       "      <td>상품관련</td>\n",
       "    </tr>\n",
       "    <tr>\n",
       "      <th>35</th>\n",
       "      <td>[교환은 배송 완료 후  7일 이내일 경우에만 주문/배송/픽업 조회에서 접수 가능합...</td>\n",
       "      <td>상품관련</td>\n",
       "    </tr>\n",
       "    <tr>\n",
       "      <th>36</th>\n",
       "      <td>재고가 없어요. 언제쯤 구입할 수 있을까요?</td>\n",
       "      <td>상품관련</td>\n",
       "    </tr>\n",
       "    <tr>\n",
       "      <th>37</th>\n",
       "      <td>가격이 떨어져 예전에 구매했을 때 보다 싸게 팔고 있는 경우 차액 환불이 되나요?</td>\n",
       "      <td>상품관련</td>\n",
       "    </tr>\n",
       "    <tr>\n",
       "      <th>38</th>\n",
       "      <td>사진과 제품의 실제 색상이 다른 것 같아요.</td>\n",
       "      <td>상품관련</td>\n",
       "    </tr>\n",
       "    <tr>\n",
       "      <th>39</th>\n",
       "      <td>무신사 스토어의 상품들은 모두 정품인가요?</td>\n",
       "      <td>상품관련</td>\n",
       "    </tr>\n",
       "    <tr>\n",
       "      <th>40</th>\n",
       "      <td>정식 수입상품과 병행수입상품은 무슨 차이인가요?</td>\n",
       "      <td>상품관련</td>\n",
       "    </tr>\n",
       "    <tr>\n",
       "      <th>41</th>\n",
       "      <td>무신사 스페셜숍 상품들은 어떤 상품들인가요?</td>\n",
       "      <td>상품관련</td>\n",
       "    </tr>\n",
       "    <tr>\n",
       "      <th>42</th>\n",
       "      <td>상품 문의는 어떻게 작성하나요?</td>\n",
       "      <td>상품관련</td>\n",
       "    </tr>\n",
       "    <tr>\n",
       "      <th>43</th>\n",
       "      <td>무신사는 디자인 도용 / 라벨 교체 상품에 어떻게 대응하나요?</td>\n",
       "      <td>상품관련</td>\n",
       "    </tr>\n",
       "    <tr>\n",
       "      <th>44</th>\n",
       "      <td>작성 후 수정  삭제할 수 있나요?</td>\n",
       "      <td>상품관련</td>\n",
       "    </tr>\n",
       "    <tr>\n",
       "      <th>45</th>\n",
       "      <td>반품 주소지가 어떻게 되나요?</td>\n",
       "      <td>상품관련</td>\n",
       "    </tr>\n",
       "    <tr>\n",
       "      <th>46</th>\n",
       "      <td>[일반적으로 입점 업체의 품절 상품 재입고 여부 및 일정은 무신사 스토어에서는 정확...</td>\n",
       "      <td>상품관련</td>\n",
       "    </tr>\n",
       "    <tr>\n",
       "      <th>47</th>\n",
       "      <td>[일반적으로 입점 업체의 품절 상품 재입고 여부 및 일정은 무신사 스토어에서는 정확...</td>\n",
       "      <td>상품관련</td>\n",
       "    </tr>\n",
       "    <tr>\n",
       "      <th>48</th>\n",
       "      <td>[일반적으로 입점 업체의 품절 상품 재입고 여부 및 일정은 무신사 스토어에서는 정확...</td>\n",
       "      <td>상품관련</td>\n",
       "    </tr>\n",
       "    <tr>\n",
       "      <th>49</th>\n",
       "      <td>[일반적으로 입점 업체의 품절 상품 재입고 여부 및 일정은 무신사 스토어에서는 정확...</td>\n",
       "      <td>상품관련</td>\n",
       "    </tr>\n",
       "    <tr>\n",
       "      <th>50</th>\n",
       "      <td>[일반적으로 입점 업체의 품절 상품 재입고 여부 및 일정은 무신사 스토어에서는 정확...</td>\n",
       "      <td>상품관련</td>\n",
       "    </tr>\n",
       "    <tr>\n",
       "      <th>51</th>\n",
       "      <td>[일반적으로 입점 업체의 품절 상품 재입고 여부 및 일정은 무신사 스토어에서는 정확...</td>\n",
       "      <td>상품관련</td>\n",
       "    </tr>\n",
       "    <tr>\n",
       "      <th>52</th>\n",
       "      <td>[일반적으로 입점 업체의 품절 상품 재입고 여부 및 일정은 무신사 스토어에서는 정확...</td>\n",
       "      <td>상품관련</td>\n",
       "    </tr>\n",
       "    <tr>\n",
       "      <th>53</th>\n",
       "      <td>[일반적으로 입점 업체의 품절 상품 재입고 여부 및 일정은 무신사 스토어에서는 정확...</td>\n",
       "      <td>상품관련</td>\n",
       "    </tr>\n",
       "    <tr>\n",
       "      <th>54</th>\n",
       "      <td>[일반적으로 입점 업체의 품절 상품 재입고 여부 및 일정은 무신사 스토어에서는 정확...</td>\n",
       "      <td>상품관련</td>\n",
       "    </tr>\n",
       "    <tr>\n",
       "      <th>55</th>\n",
       "      <td>[일반적으로 입점 업체의 품절 상품 재입고 여부 및 일정은 무신사 스토어에서는 정확...</td>\n",
       "      <td>상품관련</td>\n",
       "    </tr>\n",
       "  </tbody>\n",
       "</table>\n",
       "</div>"
      ],
      "text/plain": [
       "                                                   제목    분류\n",
       "0                      I취소/반품(환불)I 상품을 받았는데 환불하고 싶어요.  상품관련\n",
       "1                    I취소/반품(환불)I 교환(환불)이 어려운 경우가 있나요?  상품관련\n",
       "2                     I취소/반품(환불)I 상품은 보냈는데 언제 환불 되나요?  상품관련\n",
       "3                   I취소/반품(환불)I 주문을 취소(옵션변경)를 하고 싶어요.  상품관련\n",
       "4                 I취소/반품(환불)I 실제 카드 취소나 금액은 언제 입금되나요?  상품관련\n",
       "5                              I취소/반품(환불)I 비용은 무료인가요?  상품관련\n",
       "6         I취소/반품(환불)I 무탠 픽업 주문 후 환불 될 예정이라는 안내를 받았어요.  상품관련\n",
       "7             I취소/반품(환불)I 부티크 보안실 제거 했는데 교환/환불 가능한가요?  상품관련\n",
       "8                          I취소/반품(환불)I 반품접수는 어떻게 하나요?  상품관련\n",
       "9                    I취소/반품(환불)I 반송장 입력  수정은 어떻게 하나요?  상품관련\n",
       "10            I취소/반품(환불)I 무탠픽업 주문건을 취소(환불/교환) 하고 싶어요.  상품관련\n",
       "11  환불은 배송 완료 후  7일 이내일 경우에만 주문/배송/픽업 조회에서 접수 가능합니...  상품관련\n",
       "12  아래 사유에 해당 되는 경우 교환(환불)이 가능하지 않습니다. \\n\\n※ 신발의 경...  상품관련\n",
       "13                                                     상품관련\n",
       "14                                                     상품관련\n",
       "15  환불 진행 과정은 아래 내용 참고해 주세요. \\n\\n■ 환불 진행 과정 \\n상품 회...  상품관련\n",
       "16  주문 후 입금 확인 단계라면 마이페이지 > 주문/배송/픽업 조회에서 주문을 취소할 ...  상품관련\n",
       "17  결제했던 수단으로 환불되고 각 결제 수단마다 기간이 다릅니다. \\n아래 결제수단별 ...  상품관련\n",
       "18                         I교환/반품I 상품을 받았는데 교환하고 싶어요.  상품관련\n",
       "19                   I취소/반품(환불)I 교환(환불)이 어려운 경우가 있나요?  상품관련\n",
       "20                     I교환/반품I 상품은 보냈는데 언제 상품 배송 되나요?  상품관련\n",
       "21                  I교환/반품I 같은 브랜드 다른 상품으로 교환 가능 한가요?  상품관련\n",
       "22            I취소/반품(환불)I 부티크 보안실 제거 했는데 교환/환불 가능한가요?  상품관련\n",
       "23                         I취소/반품(환불)I 반품접수는 어떻게 하나요?  상품관련\n",
       "24                   I취소/반품(환불)I 반송장 입력  수정은 어떻게 하나요?  상품관련\n",
       "25                             I취소/반품(환불)I 비용은 무료인가요?  상품관련\n",
       "26            I취소/반품(환불)I 무탠픽업 주문건을 취소(환불/교환) 하고 싶어요.  상품관련\n",
       "27  [교환은 배송 완료 후  7일 이내일 경우에만 주문/배송/픽업 조회에서 접수 가능합...  상품관련\n",
       "28  [교환은 배송 완료 후  7일 이내일 경우에만 주문/배송/픽업 조회에서 접수 가능합...  상품관련\n",
       "29  [교환은 배송 완료 후  7일 이내일 경우에만 주문/배송/픽업 조회에서 접수 가능합...  상품관련\n",
       "30  [교환은 배송 완료 후  7일 이내일 경우에만 주문/배송/픽업 조회에서 접수 가능합...  상품관련\n",
       "31  [교환은 배송 완료 후  7일 이내일 경우에만 주문/배송/픽업 조회에서 접수 가능합...  상품관련\n",
       "32  [교환은 배송 완료 후  7일 이내일 경우에만 주문/배송/픽업 조회에서 접수 가능합...  상품관련\n",
       "33  [교환은 배송 완료 후  7일 이내일 경우에만 주문/배송/픽업 조회에서 접수 가능합...  상품관련\n",
       "34  [교환은 배송 완료 후  7일 이내일 경우에만 주문/배송/픽업 조회에서 접수 가능합...  상품관련\n",
       "35  [교환은 배송 완료 후  7일 이내일 경우에만 주문/배송/픽업 조회에서 접수 가능합...  상품관련\n",
       "36                           재고가 없어요. 언제쯤 구입할 수 있을까요?  상품관련\n",
       "37      가격이 떨어져 예전에 구매했을 때 보다 싸게 팔고 있는 경우 차액 환불이 되나요?  상품관련\n",
       "38                           사진과 제품의 실제 색상이 다른 것 같아요.  상품관련\n",
       "39                            무신사 스토어의 상품들은 모두 정품인가요?  상품관련\n",
       "40                         정식 수입상품과 병행수입상품은 무슨 차이인가요?  상품관련\n",
       "41                           무신사 스페셜숍 상품들은 어떤 상품들인가요?  상품관련\n",
       "42                                  상품 문의는 어떻게 작성하나요?  상품관련\n",
       "43                 무신사는 디자인 도용 / 라벨 교체 상품에 어떻게 대응하나요?  상품관련\n",
       "44                                작성 후 수정  삭제할 수 있나요?  상품관련\n",
       "45                                   반품 주소지가 어떻게 되나요?  상품관련\n",
       "46  [일반적으로 입점 업체의 품절 상품 재입고 여부 및 일정은 무신사 스토어에서는 정확...  상품관련\n",
       "47  [일반적으로 입점 업체의 품절 상품 재입고 여부 및 일정은 무신사 스토어에서는 정확...  상품관련\n",
       "48  [일반적으로 입점 업체의 품절 상품 재입고 여부 및 일정은 무신사 스토어에서는 정확...  상품관련\n",
       "49  [일반적으로 입점 업체의 품절 상품 재입고 여부 및 일정은 무신사 스토어에서는 정확...  상품관련\n",
       "50  [일반적으로 입점 업체의 품절 상품 재입고 여부 및 일정은 무신사 스토어에서는 정확...  상품관련\n",
       "51  [일반적으로 입점 업체의 품절 상품 재입고 여부 및 일정은 무신사 스토어에서는 정확...  상품관련\n",
       "52  [일반적으로 입점 업체의 품절 상품 재입고 여부 및 일정은 무신사 스토어에서는 정확...  상품관련\n",
       "53  [일반적으로 입점 업체의 품절 상품 재입고 여부 및 일정은 무신사 스토어에서는 정확...  상품관련\n",
       "54  [일반적으로 입점 업체의 품절 상품 재입고 여부 및 일정은 무신사 스토어에서는 정확...  상품관련\n",
       "55  [일반적으로 입점 업체의 품절 상품 재입고 여부 및 일정은 무신사 스토어에서는 정확...  상품관련"
      ]
     },
     "execution_count": 159,
     "metadata": {},
     "output_type": "execute_result"
    }
   ],
   "source": [
    "cs_2"
   ]
  },
  {
   "cell_type": "markdown",
   "metadata": {},
   "source": [
    "### 회원관련"
   ]
  },
  {
   "cell_type": "code",
   "execution_count": 160,
   "metadata": {},
   "outputs": [],
   "source": [
    "user = driver.find_element_by_css_selector(\"body > div.wrap > div.right_area > div.right_contents.faq_contents > ul > li:nth-child(8) > a\")\n",
    "user.send_keys(Keys.RETURN)"
   ]
  },
  {
   "cell_type": "code",
   "execution_count": 161,
   "metadata": {},
   "outputs": [],
   "source": [
    "html=driver.page_source"
   ]
  },
  {
   "cell_type": "code",
   "execution_count": 162,
   "metadata": {},
   "outputs": [],
   "source": [
    "html_doc=BeautifulSoup(html,\"html.parser\")"
   ]
  },
  {
   "cell_type": "code",
   "execution_count": 163,
   "metadata": {},
   "outputs": [],
   "source": [
    "user_question=html_doc.select(\"body > div.wrap > div.right_area > div.right_contents.faq_contents > table > tbody > tr > td.txt_contents > a\")\n",
    "user_quest=confirm_text(user_question)"
   ]
  },
  {
   "cell_type": "code",
   "execution_count": 164,
   "metadata": {},
   "outputs": [
    {
     "data": {
      "text/plain": [
       "['I가입/인증I 회원 가입은 어떻게 하나요?',\n",
       " 'I로그인/정보I 회원 정보 수정은 어디서 하나요',\n",
       " 'I탈퇴/기타I 비회원으로 구매를 하려고 하는데 주의해야 할 점이 있나요',\n",
       " 'I탈퇴/기타I 회원 탈퇴는 어떻게 하나요?',\n",
       " 'I탈퇴/기타I 회원 탈퇴를 취소하고 싶습니다.',\n",
       " 'I혜택I 생일 쿠폰은 언제 발급되나요?',\n",
       " 'I가입/인증I 휴대폰 번호 인증 시 이미 존재하는 휴대폰이라고 뜰 때는 어떻게 해야 하나요?',\n",
       " 'I로그인/정보I 아이디 및 비밀번호를 변경할 수 있나요',\n",
       " '휴면 회원은 무엇인가요?',\n",
       " 'I탈퇴/기타I 휴면 회원 전환 예정 메일을 받았어요.',\n",
       " 'I로그인/정보I 아이디와 비밀번호가 기억나지 않아요.',\n",
       " 'I가입/인증I 본인인증은 어떻게 하나요?',\n",
       " 'I가입/인증I 문자가 오지 않아요.',\n",
       " 'I가입/인증I 잘못했는데 초기화 가능한가요',\n",
       " 'I가입/인증I 안되는 경우 상품은 구매 할 수 있나요?',\n",
       " 'I로그인/정보I 소셜 로그인은 어떻게 이용하나요?',\n",
       " 'I로그인/정보I 애플(Apple) 로그인 및 애플(Apple) 계정 연동이 안 됩니다.',\n",
       " 'I로그인/정보I 소셜 로그인(카카오  Apple) 연동을 해제하고 싶어요. 어떻게 하면 되나요?']"
      ]
     },
     "execution_count": 164,
     "metadata": {},
     "output_type": "execute_result"
    }
   ],
   "source": [
    "user_quest"
   ]
  },
  {
   "cell_type": "code",
   "execution_count": 165,
   "metadata": {},
   "outputs": [
    {
     "name": "stdout",
     "output_type": "stream",
     "text": [
      "37\n"
     ]
    }
   ],
   "source": [
    "use22=answer_confirm()"
   ]
  },
  {
   "cell_type": "code",
   "execution_count": 166,
   "metadata": {},
   "outputs": [
    {
     "data": {
      "text/plain": [
       "['회원 정보 수정은 아래 경로로 직접 변경 가능합니다.\\xa0\\n\\n■ 회원 정보 수정\\xa0\\n모바일(앱/웹) : 마이페이지 > 내 정보 관리 > 오른쪽 위 톱니바퀴\\nPC(웹) : 마이페이지 > 회원정보 변경\\n※ 원활한 주문 및 배송을 위해 회원 정보를 정확하게 기재해 주세요.\\n\\n■ 이름 개명 시 수정\\n모바일(앱/웹) : 마이페이지 > 내 정보 관리 > 오른쪽 위 톱니바퀴 > 회원 정보 > 이름/휴대전화/생년월일\\nPC(웹) : 마이페이지 > 회원정보 변경 > 이름수정\\n\\n※ 개명한 이름이 NICE 평가 정보에 등록되어 있어야 합니다.\\n※ 본인인증을 통해 NICE 평가 정보 적용된 이름(실명)을 기준으로 변경됩니다.\\nNICE 평가정보 실명 등록하러 가기\\n마이페이지 바로 가기\\n\\xa0',\n",
       " '비회원 주문 시 주문 내역(배송 및 교환  환불 등) 조회를 위해 주문번호를 알고 있어야 합니다.\\xa0\\n\\n※ 주문 완료 시 주문번호는 알림톡을 통해 발송됩니다.\\xa0\\n※ 무신사 회원으로 주문하면 할인 및 적립금과 사은품 등의 다양한 혜택을 받을 수 있습니다.',\n",
       " '탈퇴는 마이페이지 > 내 정보 관리에서 직접 신청해 주셔야 합니다.\\xa0\\n\\n■ 탈퇴 경로\\n모바일(앱/웹) : 마이페이지 > 내 정보 관리 > 오른쪽 위 톱니바퀴 > 회원 정보 > 회원 탈퇴\\xa0\\nPC(웹) : 마이페이지 > 회원정보 변경 > 회원 탈퇴\\xa0\\n\\n※ 회원 탈퇴 시 무신사 페이도 탈퇴 되고 솔드아웃 앱에서는 무신사 아이디로 로그인이 가능하지 않습니다.\\n※ 탈퇴 신청일로부터 5일 내 다시 로그인 하면 탈퇴 신청이 취소됩니다.',\n",
       " '탈퇴 신청일로부터 5일 이내 재로그인 시 탈퇴 신청이 취소됩니다.\\xa0\\n\\n※ 탈퇴 5일 후에는 개인 정보가 삭제되어 탈퇴 취소가 가능하지 않습니다.\\n※ 정보가 삭제 되면 회원 가입을 다시 해주셔야 합니다.\\xa0',\n",
       " '생일 쿠폰은 등록된 회원 정보의 생년월일을 기준으로 3일 전에 지급됩니다.\\n*지급 일자에 휴면 계정인 경우 생일 쿠폰은 지급되지 않습니다.\\n\\n회원 정보 확인하기',\n",
       " '인증하려는 휴대전화 번호가 다른 아이디 또는 사용자에 의해 인증이 완료되어 있는 경우 이미 존재하는 휴대전화로 확인됩니다.\\n해당 문구가 확인되는 경우 중복으로 추가 인증이 가능하지 않습니다.\\xa0\\n\\n번거로우시겠지만 실사용자 확인을 위해 고객센터 문의해 주세요.\\xa0',\n",
       " '아이디는 변경이 가능하지 않지만 비밀번호는 변경 가능합니다.\\xa0\\n\\n■ 비밀번호 변경 경로\\xa0\\n모바일(앱/웹) : 마이페이지 > 내 정보 관리 > 오른쪽 위 톱니바퀴\\xa0\\nPC(웹) : 마이페이지 > 회원정보 변경\\n\\n※ 탈퇴 후 재가입을 하더라도 동일한 아이디는 사용할 수 없습니다.\\n※ 탈퇴 시 아이디를 제외한 모든 개인 정보는 삭제 됩니다.',\n",
       " '고객님의 소중한 개인 정보 보호를 위해 1년간 무신사 로그인 이력이 없는 경우  휴면상태로 전환하여 별도의 장치에 안전하게 분리보관됩니다.',\n",
       " '1년간 무신사 스토어 로그인이 없는 경우 휴면 회원 전환 안내 메일이 발송 됩니다.\\xa0\\n\\n휴면 전환 30일 전  로그인이 11개월간 없는 경우 전환 예정 메일이 발송 됩니다.\\n휴면 회원 전환을 원하지 않는 경우  전환 확정 이전에 로그인해 주시면 휴면 전환이 취소됩니다.',\n",
       " '로그인 화면에서 \\xa0아이디 찾기/비밀번호 찾기를 통해 확인 가능합니다.\\n아래 3가지 방법 중 하나로 진행해 주세요.\\n\\n■ 휴대전화\\n회원 정보에 등록된 본인의 휴대전화 번호를 인증하는 방법입니다.\\n※ 단  휴대전화 번호를 변경했다면 다른 방법을 이용해 주세요.\\n\\n■ 이메일\\n회원 정보에 등록된 본인의 이메일 주소를 인증하는 방법입니다.\\n※ 단  이메일이 유효하지 않으면 다른 방법을 이용해 주세요.\\n\\n■ 본인인증\\n이용 중인 통신사와 휴대전화 번호를 인증하는 방법입니다.\\n※ 기존에 본인인증을 완료한 회원은 본인인증으로 찾기만 가능 합니다.\\n\\n※ 비밀번호 재설정을 완료한 휴면 회원은 휴면 해제 및 탈퇴 신청한 회원은 신청이 취소됩니다.\\n\\xa0']"
      ]
     },
     "execution_count": 166,
     "metadata": {},
     "output_type": "execute_result"
    }
   ],
   "source": [
    "use22[0]"
   ]
  },
  {
   "cell_type": "code",
   "execution_count": 167,
   "metadata": {},
   "outputs": [],
   "source": [
    "user_quest=user_quest+use22[0]"
   ]
  },
  {
   "cell_type": "code",
   "execution_count": 168,
   "metadata": {},
   "outputs": [
    {
     "data": {
      "text/html": [
       "<div>\n",
       "<style scoped>\n",
       "    .dataframe tbody tr th:only-of-type {\n",
       "        vertical-align: middle;\n",
       "    }\n",
       "\n",
       "    .dataframe tbody tr th {\n",
       "        vertical-align: top;\n",
       "    }\n",
       "\n",
       "    .dataframe thead th {\n",
       "        text-align: right;\n",
       "    }\n",
       "</style>\n",
       "<table border=\"1\" class=\"dataframe\">\n",
       "  <thead>\n",
       "    <tr style=\"text-align: right;\">\n",
       "      <th></th>\n",
       "      <th>제목</th>\n",
       "      <th>분류</th>\n",
       "    </tr>\n",
       "  </thead>\n",
       "  <tbody>\n",
       "    <tr>\n",
       "      <th>0</th>\n",
       "      <td>I가입/인증I 회원 가입은 어떻게 하나요?</td>\n",
       "      <td>회원</td>\n",
       "    </tr>\n",
       "    <tr>\n",
       "      <th>1</th>\n",
       "      <td>I로그인/정보I 회원 정보 수정은 어디서 하나요</td>\n",
       "      <td>회원</td>\n",
       "    </tr>\n",
       "    <tr>\n",
       "      <th>2</th>\n",
       "      <td>I탈퇴/기타I 비회원으로 구매를 하려고 하는데 주의해야 할 점이 있나요</td>\n",
       "      <td>회원</td>\n",
       "    </tr>\n",
       "    <tr>\n",
       "      <th>3</th>\n",
       "      <td>I탈퇴/기타I 회원 탈퇴는 어떻게 하나요?</td>\n",
       "      <td>회원</td>\n",
       "    </tr>\n",
       "    <tr>\n",
       "      <th>4</th>\n",
       "      <td>I탈퇴/기타I 회원 탈퇴를 취소하고 싶습니다.</td>\n",
       "      <td>회원</td>\n",
       "    </tr>\n",
       "    <tr>\n",
       "      <th>5</th>\n",
       "      <td>I혜택I 생일 쿠폰은 언제 발급되나요?</td>\n",
       "      <td>회원</td>\n",
       "    </tr>\n",
       "    <tr>\n",
       "      <th>6</th>\n",
       "      <td>I가입/인증I 휴대폰 번호 인증 시 이미 존재하는 휴대폰이라고 뜰 때는 어떻게 해야...</td>\n",
       "      <td>회원</td>\n",
       "    </tr>\n",
       "    <tr>\n",
       "      <th>7</th>\n",
       "      <td>I로그인/정보I 아이디 및 비밀번호를 변경할 수 있나요</td>\n",
       "      <td>회원</td>\n",
       "    </tr>\n",
       "    <tr>\n",
       "      <th>8</th>\n",
       "      <td>휴면 회원은 무엇인가요?</td>\n",
       "      <td>회원</td>\n",
       "    </tr>\n",
       "    <tr>\n",
       "      <th>9</th>\n",
       "      <td>I탈퇴/기타I 휴면 회원 전환 예정 메일을 받았어요.</td>\n",
       "      <td>회원</td>\n",
       "    </tr>\n",
       "    <tr>\n",
       "      <th>10</th>\n",
       "      <td>I로그인/정보I 아이디와 비밀번호가 기억나지 않아요.</td>\n",
       "      <td>회원</td>\n",
       "    </tr>\n",
       "    <tr>\n",
       "      <th>11</th>\n",
       "      <td>I가입/인증I 본인인증은 어떻게 하나요?</td>\n",
       "      <td>회원</td>\n",
       "    </tr>\n",
       "    <tr>\n",
       "      <th>12</th>\n",
       "      <td>I가입/인증I 문자가 오지 않아요.</td>\n",
       "      <td>회원</td>\n",
       "    </tr>\n",
       "    <tr>\n",
       "      <th>13</th>\n",
       "      <td>I가입/인증I 잘못했는데 초기화 가능한가요</td>\n",
       "      <td>회원</td>\n",
       "    </tr>\n",
       "    <tr>\n",
       "      <th>14</th>\n",
       "      <td>I가입/인증I 안되는 경우 상품은 구매 할 수 있나요?</td>\n",
       "      <td>회원</td>\n",
       "    </tr>\n",
       "    <tr>\n",
       "      <th>15</th>\n",
       "      <td>I로그인/정보I 소셜 로그인은 어떻게 이용하나요?</td>\n",
       "      <td>회원</td>\n",
       "    </tr>\n",
       "    <tr>\n",
       "      <th>16</th>\n",
       "      <td>I로그인/정보I 애플(Apple) 로그인 및 애플(Apple) 계정 연동이 안 됩니다.</td>\n",
       "      <td>회원</td>\n",
       "    </tr>\n",
       "    <tr>\n",
       "      <th>17</th>\n",
       "      <td>I로그인/정보I 소셜 로그인(카카오  Apple) 연동을 해제하고 싶어요. 어떻게 ...</td>\n",
       "      <td>회원</td>\n",
       "    </tr>\n",
       "    <tr>\n",
       "      <th>18</th>\n",
       "      <td>회원 정보 수정은 아래 경로로 직접 변경 가능합니다. \\n\\n■ 회원 정보 수정 \\...</td>\n",
       "      <td>회원</td>\n",
       "    </tr>\n",
       "    <tr>\n",
       "      <th>19</th>\n",
       "      <td>비회원 주문 시 주문 내역(배송 및 교환  환불 등) 조회를 위해 주문번호를 알고 ...</td>\n",
       "      <td>회원</td>\n",
       "    </tr>\n",
       "    <tr>\n",
       "      <th>20</th>\n",
       "      <td>탈퇴는 마이페이지 &gt; 내 정보 관리에서 직접 신청해 주셔야 합니다. \\n\\n■ 탈퇴...</td>\n",
       "      <td>회원</td>\n",
       "    </tr>\n",
       "    <tr>\n",
       "      <th>21</th>\n",
       "      <td>탈퇴 신청일로부터 5일 이내 재로그인 시 탈퇴 신청이 취소됩니다. \\n\\n※ 탈퇴 ...</td>\n",
       "      <td>회원</td>\n",
       "    </tr>\n",
       "    <tr>\n",
       "      <th>22</th>\n",
       "      <td>생일 쿠폰은 등록된 회원 정보의 생년월일을 기준으로 3일 전에 지급됩니다.\\n*지급...</td>\n",
       "      <td>회원</td>\n",
       "    </tr>\n",
       "    <tr>\n",
       "      <th>23</th>\n",
       "      <td>인증하려는 휴대전화 번호가 다른 아이디 또는 사용자에 의해 인증이 완료되어 있는 경...</td>\n",
       "      <td>회원</td>\n",
       "    </tr>\n",
       "    <tr>\n",
       "      <th>24</th>\n",
       "      <td>아이디는 변경이 가능하지 않지만 비밀번호는 변경 가능합니다. \\n\\n■ 비밀번호 변...</td>\n",
       "      <td>회원</td>\n",
       "    </tr>\n",
       "    <tr>\n",
       "      <th>25</th>\n",
       "      <td>고객님의 소중한 개인 정보 보호를 위해 1년간 무신사 로그인 이력이 없는 경우  휴...</td>\n",
       "      <td>회원</td>\n",
       "    </tr>\n",
       "    <tr>\n",
       "      <th>26</th>\n",
       "      <td>1년간 무신사 스토어 로그인이 없는 경우 휴면 회원 전환 안내 메일이 발송 됩니다....</td>\n",
       "      <td>회원</td>\n",
       "    </tr>\n",
       "    <tr>\n",
       "      <th>27</th>\n",
       "      <td>로그인 화면에서  아이디 찾기/비밀번호 찾기를 통해 확인 가능합니다.\\n아래 3가지...</td>\n",
       "      <td>회원</td>\n",
       "    </tr>\n",
       "  </tbody>\n",
       "</table>\n",
       "</div>"
      ],
      "text/plain": [
       "                                                   제목  분류\n",
       "0                             I가입/인증I 회원 가입은 어떻게 하나요?  회원\n",
       "1                          I로그인/정보I 회원 정보 수정은 어디서 하나요  회원\n",
       "2             I탈퇴/기타I 비회원으로 구매를 하려고 하는데 주의해야 할 점이 있나요  회원\n",
       "3                             I탈퇴/기타I 회원 탈퇴는 어떻게 하나요?  회원\n",
       "4                           I탈퇴/기타I 회원 탈퇴를 취소하고 싶습니다.  회원\n",
       "5                               I혜택I 생일 쿠폰은 언제 발급되나요?  회원\n",
       "6   I가입/인증I 휴대폰 번호 인증 시 이미 존재하는 휴대폰이라고 뜰 때는 어떻게 해야...  회원\n",
       "7                      I로그인/정보I 아이디 및 비밀번호를 변경할 수 있나요  회원\n",
       "8                                       휴면 회원은 무엇인가요?  회원\n",
       "9                       I탈퇴/기타I 휴면 회원 전환 예정 메일을 받았어요.  회원\n",
       "10                      I로그인/정보I 아이디와 비밀번호가 기억나지 않아요.  회원\n",
       "11                             I가입/인증I 본인인증은 어떻게 하나요?  회원\n",
       "12                                I가입/인증I 문자가 오지 않아요.  회원\n",
       "13                            I가입/인증I 잘못했는데 초기화 가능한가요  회원\n",
       "14                     I가입/인증I 안되는 경우 상품은 구매 할 수 있나요?  회원\n",
       "15                        I로그인/정보I 소셜 로그인은 어떻게 이용하나요?  회원\n",
       "16   I로그인/정보I 애플(Apple) 로그인 및 애플(Apple) 계정 연동이 안 됩니다.  회원\n",
       "17  I로그인/정보I 소셜 로그인(카카오  Apple) 연동을 해제하고 싶어요. 어떻게 ...  회원\n",
       "18  회원 정보 수정은 아래 경로로 직접 변경 가능합니다. \\n\\n■ 회원 정보 수정 \\...  회원\n",
       "19  비회원 주문 시 주문 내역(배송 및 교환  환불 등) 조회를 위해 주문번호를 알고 ...  회원\n",
       "20  탈퇴는 마이페이지 > 내 정보 관리에서 직접 신청해 주셔야 합니다. \\n\\n■ 탈퇴...  회원\n",
       "21  탈퇴 신청일로부터 5일 이내 재로그인 시 탈퇴 신청이 취소됩니다. \\n\\n※ 탈퇴 ...  회원\n",
       "22  생일 쿠폰은 등록된 회원 정보의 생년월일을 기준으로 3일 전에 지급됩니다.\\n*지급...  회원\n",
       "23  인증하려는 휴대전화 번호가 다른 아이디 또는 사용자에 의해 인증이 완료되어 있는 경...  회원\n",
       "24  아이디는 변경이 가능하지 않지만 비밀번호는 변경 가능합니다. \\n\\n■ 비밀번호 변...  회원\n",
       "25  고객님의 소중한 개인 정보 보호를 위해 1년간 무신사 로그인 이력이 없는 경우  휴...  회원\n",
       "26  1년간 무신사 스토어 로그인이 없는 경우 휴면 회원 전환 안내 메일이 발송 됩니다....  회원\n",
       "27  로그인 화면에서  아이디 찾기/비밀번호 찾기를 통해 확인 가능합니다.\\n아래 3가지...  회원"
      ]
     },
     "execution_count": 168,
     "metadata": {},
     "output_type": "execute_result"
    }
   ],
   "source": [
    "# 데이터프레임으로 보기\n",
    "cs_user= pd.DataFrame({'제목' :user_quest,\n",
    "                       '분류' : \"회원\"\n",
    "                       })\n",
    "cs_user"
   ]
  },
  {
   "cell_type": "code",
   "execution_count": null,
   "metadata": {},
   "outputs": [],
   "source": []
  }
 ],
 "metadata": {
  "kernelspec": {
   "display_name": "Python 3",
   "language": "python",
   "name": "python3"
  },
  "language_info": {
   "codemirror_mode": {
    "name": "ipython",
    "version": 3
   },
   "file_extension": ".py",
   "mimetype": "text/x-python",
   "name": "python",
   "nbconvert_exporter": "python",
   "pygments_lexer": "ipython3",
   "version": "3.7.4"
  }
 },
 "nbformat": 4,
 "nbformat_minor": 2
}

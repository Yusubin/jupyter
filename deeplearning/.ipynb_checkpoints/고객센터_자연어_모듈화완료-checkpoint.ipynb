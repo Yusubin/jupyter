{
 "cells": [
  {
   "cell_type": "code",
   "execution_count": 36,
   "metadata": {},
   "outputs": [],
   "source": [
    "def import_lib():\n",
    "    import pandas as pd\n",
    "    import warnings\n",
    "    warnings.filterwarnings(action='ignore')\n",
    "    import re\n",
    "    from nltk.tokenize import word_tokenize\n",
    "    from sklearn.preprocessing import LabelEncoder\n",
    "    import pandas as pd\n",
    "    import numpy as np\n",
    "    import seaborn as sns\n",
    "    from matplotlib import rc\n",
    "    import matplotlib.font_manager as fm\n",
    "    from sklearn.model_selection import train_test_split\n",
    "    import numpy as np\n",
    "    np.random.seed(5)\n",
    "    import matplotlib.pyplot as plt\n",
    "    fm._rebuild()\n",
    "    fm.get_fontconfig_fonts()\n",
    "\n",
    "    # 디렉토리 및 파일 이름에 맞추어 변경\n",
    "    font_location = '../NanumSquareRoundEB.ttf'\n",
    "    font_name = fm.FontProperties(fname=font_location).get_name()\n",
    "    rc('font', family=font_name)\n",
    "\n",
    "    import re\n",
    "    from sklearn.feature_extraction.text import TfidfVectorizer\n",
    "    from konlpy.tag import Okt\n",
    "\n",
    "    okt = Okt()\n",
    "    from sklearn.linear_model import LogisticRegression\n",
    "    from sklearn.metrics import accuracy_score\n",
    "    import re#규칙을 가지고 필터링해주는\n",
    "    import pickle\n",
    "    import joblib"
   ]
  },
  {
   "cell_type": "code",
   "execution_count": 37,
   "metadata": {},
   "outputs": [],
   "source": [
    "def call_csv():\n",
    "    import_lib()\n",
    "    file_name = 'cs_Classification.pkl' \n",
    "    obj = joblib.load(file_name) \n",
    "    df=pd.read_csv('cs_data1.csv') #cs5로 하면 67 data1로하면 73\n",
    "    df.drop(columns=\"Unnamed: 0\", inplace=True)\n",
    "    df.info()\n",
    "    #라벨인코딩\n",
    "    encoder=LabelEncoder()\n",
    "    df['분류'].unique()\n",
    "    encoder.fit(df['분류'].unique())\n",
    "    target=encoder.transform(df['분류'])\n",
    "\n",
    "    df['분류']= target\n",
    "    df['분류']\n",
    "    df['제목'] = df['제목'].apply(lambda x: re.sub(r'[^ ㄱ-ㅣ가-힣]+', \"\", str(x))) #ㄱ-|가-힣 한글이 아닌것은 다 뺴라\n",
    "    return df \n",
    "    \n",
    "    "
   ]
  },
  {
   "cell_type": "code",
   "execution_count": 38,
   "metadata": {},
   "outputs": [],
   "source": [
    "def b (a):\n",
    "    df=call_csv()\n",
    "    tfidf = TfidfVectorizer(ngram_range=(1, 2), min_df =3, max_df = 0.9)\n",
    "    X_train, X_test, y_train, y_test = train_test_split(df['제목'], df['분류'], test_size=0.2, random_state=42)\n",
    "    tfidf.fit(X_train)\n",
    "    train_tfidf_df = tfidf.transform(X_train)\n",
    "    st2 = re.sub(r'[^ ㄱ-ㅎ|가-힣]+', \"\", a)\n",
    "    st_tfidf_df = tfidf.transform([st2]) #벡터화\n",
    "    st2_predict = obj.predict(st_tfidf_df)\n",
    "    if(st2_predict== 0):\n",
    "        print(st2 , \"->> 배송\")\n",
    "    elif(st2_predict== 1):\n",
    "        print(st2 , \"->> 상품관련\")\n",
    "    elif(st2_predict== 2):\n",
    "        print(st2 , \"->> 주문\")\n",
    "    else :\n",
    "        print(st2 , \"->> 회원\")\n",
    "# 0-> 배송 1-> 상품관련 2-> 주문 3->회원"
   ]
  },
  {
   "cell_type": "code",
   "execution_count": 39,
   "metadata": {},
   "outputs": [
    {
     "name": "stdout",
     "output_type": "stream",
     "text": [
      "문장입력:아이디 비밀번호 까먹음\n",
      "<class 'pandas.core.frame.DataFrame'>\n",
      "RangeIndex: 595 entries, 0 to 594\n",
      "Data columns (total 2 columns):\n",
      " #   Column  Non-Null Count  Dtype \n",
      "---  ------  --------------  ----- \n",
      " 0   제목      594 non-null    object\n",
      " 1   분류      595 non-null    object\n",
      "dtypes: object(2)\n",
      "memory usage: 9.4+ KB\n",
      "아이디 비밀번호 까먹음 ->> 회원\n"
     ]
    }
   ],
   "source": [
    "st = input(\"문장입력:\")\n",
    "b(st)"
   ]
  },
  {
   "cell_type": "code",
   "execution_count": null,
   "metadata": {},
   "outputs": [],
   "source": []
  }
 ],
 "metadata": {
  "kernelspec": {
   "display_name": "Python 3",
   "language": "python",
   "name": "python3"
  },
  "language_info": {
   "codemirror_mode": {
    "name": "ipython",
    "version": 3
   },
   "file_extension": ".py",
   "mimetype": "text/x-python",
   "name": "python",
   "nbconvert_exporter": "python",
   "pygments_lexer": "ipython3",
   "version": "3.7.4"
  }
 },
 "nbformat": 4,
 "nbformat_minor": 2
}

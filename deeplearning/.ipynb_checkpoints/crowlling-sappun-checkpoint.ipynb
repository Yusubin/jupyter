{
 "cells": [
  {
   "cell_type": "code",
   "execution_count": 1,
   "metadata": {},
   "outputs": [
    {
     "name": "stdout",
     "output_type": "stream",
     "text": [
      "Requirement already satisfied: selenium in c:\\users\\hi\\anaconda3\\lib\\site-packages (4.1.3)\n",
      "Requirement already satisfied: urllib3[secure,socks]~=1.26 in c:\\users\\hi\\anaconda3\\lib\\site-packages (from selenium) (1.26.9)\n",
      "Requirement already satisfied: trio~=0.17 in c:\\users\\hi\\anaconda3\\lib\\site-packages (from selenium) (0.20.0)\n",
      "Requirement already satisfied: trio-websocket~=0.9 in c:\\users\\hi\\anaconda3\\lib\\site-packages (from selenium) (0.9.2)\n",
      "Requirement already satisfied: cryptography>=1.3.4; extra == \"secure\" in c:\\users\\hi\\anaconda3\\lib\\site-packages (from urllib3[secure,socks]~=1.26->selenium) (2.7)\n",
      "Requirement already satisfied: certifi; extra == \"secure\" in c:\\users\\hi\\anaconda3\\lib\\site-packages (from urllib3[secure,socks]~=1.26->selenium) (2019.9.11)\n",
      "Requirement already satisfied: idna>=2.0.0; extra == \"secure\" in c:\\users\\hi\\anaconda3\\lib\\site-packages (from urllib3[secure,socks]~=1.26->selenium) (2.8)\n",
      "Requirement already satisfied: pyOpenSSL>=0.14; extra == \"secure\" in c:\\users\\hi\\anaconda3\\lib\\site-packages (from urllib3[secure,socks]~=1.26->selenium) (19.0.0)\n",
      "Requirement already satisfied: PySocks!=1.5.7,<2.0,>=1.5.6; extra == \"socks\" in c:\\users\\hi\\anaconda3\\lib\\site-packages (from urllib3[secure,socks]~=1.26->selenium) (1.7.1)\n",
      "Requirement already satisfied: outcome in c:\\users\\hi\\anaconda3\\lib\\site-packages (from trio~=0.17->selenium) (1.1.0)\n",
      "Requirement already satisfied: sniffio in c:\\users\\hi\\anaconda3\\lib\\site-packages (from trio~=0.17->selenium) (1.2.0)\n",
      "Requirement already satisfied: cffi>=1.14; os_name == \"nt\" and implementation_name != \"pypy\" in c:\\users\\hi\\anaconda3\\lib\\site-packages (from trio~=0.17->selenium) (1.15.0)\n",
      "Requirement already satisfied: async-generator>=1.9 in c:\\users\\hi\\anaconda3\\lib\\site-packages (from trio~=0.17->selenium) (1.10)\n",
      "Requirement already satisfied: sortedcontainers in c:\\users\\hi\\anaconda3\\lib\\site-packages (from trio~=0.17->selenium) (2.1.0)\n",
      "Requirement already satisfied: attrs>=19.2.0 in c:\\users\\hi\\anaconda3\\lib\\site-packages (from trio~=0.17->selenium) (19.2.0)\n",
      "Requirement already satisfied: wsproto>=0.14 in c:\\users\\hi\\anaconda3\\lib\\site-packages (from trio-websocket~=0.9->selenium) (1.1.0)\n",
      "Requirement already satisfied: six>=1.4.1 in c:\\users\\hi\\anaconda3\\lib\\site-packages (from cryptography>=1.3.4; extra == \"secure\"->urllib3[secure,socks]~=1.26->selenium) (1.12.0)\n",
      "Requirement already satisfied: asn1crypto>=0.21.0 in c:\\users\\hi\\anaconda3\\lib\\site-packages (from cryptography>=1.3.4; extra == \"secure\"->urllib3[secure,socks]~=1.26->selenium) (1.0.1)\n",
      "Requirement already satisfied: pycparser in c:\\users\\hi\\anaconda3\\lib\\site-packages (from cffi>=1.14; os_name == \"nt\" and implementation_name != \"pypy\"->trio~=0.17->selenium) (2.19)\n",
      "Requirement already satisfied: h11<1,>=0.9.0 in c:\\users\\hi\\anaconda3\\lib\\site-packages (from wsproto>=0.14->trio-websocket~=0.9->selenium) (0.13.0)\n",
      "Requirement already satisfied: typing-extensions; python_version < \"3.8\" in c:\\users\\hi\\anaconda3\\lib\\site-packages (from h11<1,>=0.9.0->wsproto>=0.14->trio-websocket~=0.9->selenium) (4.1.1)\n"
     ]
    }
   ],
   "source": [
    "!pip install selenium"
   ]
  },
  {
   "cell_type": "code",
   "execution_count": 2,
   "metadata": {},
   "outputs": [],
   "source": [
    "import warnings\n",
    "warnings.filterwarnings(action='ignore')\n",
    "from selenium.webdriver.common.by import By\n",
    "from selenium.webdriver.support.ui import WebDriverWait \n",
    "from selenium.webdriver.support import expected_conditions as EC\n",
    "from selenium import webdriver\n",
    "from selenium.webdriver.common.keys import Keys\n",
    "import time\n",
    "from tqdm.auto import tqdm\n",
    "import pandas as pd\n",
    "from bs4 import BeautifulSoup \n",
    "from IPython.display import Image"
   ]
  },
  {
   "cell_type": "code",
   "execution_count": 3,
   "metadata": {},
   "outputs": [],
   "source": [
    "\n",
    "def img_source(rlist):\n",
    "    returnlist=[]\n",
    "    for i in range(0, len(rlist), 1):\n",
    "        a= rlist[i].get('src')\n",
    "        returnlist.append(a)\n",
    "    return returnlist\n",
    "\n",
    "def confirm_text (rlist):\n",
    "    returnlist=[]\n",
    "    for i in range(0, len(rlist), 1):\n",
    "        a= rlist[i].text\n",
    "        aa =a.replace(',',' ')\n",
    "        returnlist.append(aa)\n",
    "    return returnlist"
   ]
  },
  {
   "cell_type": "code",
   "execution_count": 13,
   "metadata": {},
   "outputs": [],
   "source": [
    "    url = 'http://www.sappun.co.kr/shop/faq.html'\n",
    "    driver = webdriver.Chrome('../WebDriver/chromedriver.exe') #브라우저 실행\n",
    "    driver.get(url)\n",
    "    time.sleep(3)"
   ]
  },
  {
   "cell_type": "markdown",
   "metadata": {},
   "source": [
    "## 주문결제"
   ]
  },
  {
   "cell_type": "markdown",
   "metadata": {},
   "source": [
    "#### 주문결제"
   ]
  },
  {
   "cell_type": "code",
   "execution_count": 46,
   "metadata": {},
   "outputs": [],
   "source": [
    "order = driver.find_element_by_css_selector(\"#faq_category > ul > li:nth-child(5) > a\")\n",
    "order.send_keys(Keys.RETURN)"
   ]
  },
  {
   "cell_type": "code",
   "execution_count": 47,
   "metadata": {},
   "outputs": [],
   "source": [
    "html=driver.page_source"
   ]
  },
  {
   "cell_type": "code",
   "execution_count": 48,
   "metadata": {},
   "outputs": [],
   "source": [
    "html_doc=BeautifulSoup(html,\"html.parser\")"
   ]
  },
  {
   "cell_type": "code",
   "execution_count": 49,
   "metadata": {},
   "outputs": [],
   "source": [
    "order_question=html_doc.select(\"#faqTable > table > tbody > tr > td:nth-child(3) > div\")\n",
    "order_quest=confirm_text(order_question)"
   ]
  },
  {
   "cell_type": "code",
   "execution_count": 50,
   "metadata": {
    "scrolled": true
   },
   "outputs": [
    {
     "data": {
      "text/plain": [
       "['결제방법 알려주세요!', '입금을 했지만  미결제로 확인됩니다.', '주문취소했는데 카드는 언제 취소되나요?']"
      ]
     },
     "execution_count": 50,
     "metadata": {},
     "output_type": "execute_result"
    }
   ],
   "source": [
    "order_quest"
   ]
  },
  {
   "cell_type": "code",
   "execution_count": 51,
   "metadata": {},
   "outputs": [],
   "source": [
    "order = driver.find_element_by_css_selector(\"#faq_category > ul > li.on > a\")\n",
    "order.send_keys(Keys.RETURN)"
   ]
  },
  {
   "cell_type": "code",
   "execution_count": 52,
   "metadata": {},
   "outputs": [],
   "source": [
    "html=driver.page_source"
   ]
  },
  {
   "cell_type": "code",
   "execution_count": 53,
   "metadata": {},
   "outputs": [],
   "source": [
    "html_doc=BeautifulSoup(html,\"html.parser\")"
   ]
  },
  {
   "cell_type": "code",
   "execution_count": 54,
   "metadata": {},
   "outputs": [],
   "source": [
    "order_question2=html_doc.select(\"#faqTable > table > tbody > tr > td:nth-child(3) > div\")\n",
    "order_quest2=confirm_text(order_question2)"
   ]
  },
  {
   "cell_type": "code",
   "execution_count": 55,
   "metadata": {},
   "outputs": [
    {
     "data": {
      "text/plain": [
       "['결제방법 알려주세요!', '입금을 했지만  미결제로 확인됩니다.', '주문취소했는데 카드는 언제 취소되나요?']"
      ]
     },
     "execution_count": 55,
     "metadata": {},
     "output_type": "execute_result"
    }
   ],
   "source": [
    "order_quest2"
   ]
  },
  {
   "cell_type": "code",
   "execution_count": 56,
   "metadata": {},
   "outputs": [],
   "source": [
    "order_quest=order_quest+order_quest2"
   ]
  },
  {
   "cell_type": "code",
   "execution_count": 57,
   "metadata": {},
   "outputs": [
    {
     "data": {
      "text/plain": [
       "['결제방법 알려주세요!',\n",
       " '입금을 했지만  미결제로 확인됩니다.',\n",
       " '주문취소했는데 카드는 언제 취소되나요?',\n",
       " '결제방법 알려주세요!',\n",
       " '입금을 했지만  미결제로 확인됩니다.',\n",
       " '주문취소했는데 카드는 언제 취소되나요?']"
      ]
     },
     "execution_count": 57,
     "metadata": {},
     "output_type": "execute_result"
    }
   ],
   "source": [
    "order_quest"
   ]
  },
  {
   "cell_type": "code",
   "execution_count": 64,
   "metadata": {},
   "outputs": [
    {
     "data": {
      "text/html": [
       "<div>\n",
       "<style scoped>\n",
       "    .dataframe tbody tr th:only-of-type {\n",
       "        vertical-align: middle;\n",
       "    }\n",
       "\n",
       "    .dataframe tbody tr th {\n",
       "        vertical-align: top;\n",
       "    }\n",
       "\n",
       "    .dataframe thead th {\n",
       "        text-align: right;\n",
       "    }\n",
       "</style>\n",
       "<table border=\"1\" class=\"dataframe\">\n",
       "  <thead>\n",
       "    <tr style=\"text-align: right;\">\n",
       "      <th></th>\n",
       "      <th>제목</th>\n",
       "      <th>분류</th>\n",
       "    </tr>\n",
       "  </thead>\n",
       "  <tbody>\n",
       "    <tr>\n",
       "      <td>0</td>\n",
       "      <td>결제방법 알려주세요!</td>\n",
       "      <td>주문</td>\n",
       "    </tr>\n",
       "    <tr>\n",
       "      <td>1</td>\n",
       "      <td>입금을 했지만  미결제로 확인됩니다.</td>\n",
       "      <td>주문</td>\n",
       "    </tr>\n",
       "    <tr>\n",
       "      <td>2</td>\n",
       "      <td>주문취소했는데 카드는 언제 취소되나요?</td>\n",
       "      <td>주문</td>\n",
       "    </tr>\n",
       "    <tr>\n",
       "      <td>3</td>\n",
       "      <td>결제방법 알려주세요!</td>\n",
       "      <td>주문</td>\n",
       "    </tr>\n",
       "    <tr>\n",
       "      <td>4</td>\n",
       "      <td>입금을 했지만  미결제로 확인됩니다.</td>\n",
       "      <td>주문</td>\n",
       "    </tr>\n",
       "    <tr>\n",
       "      <td>5</td>\n",
       "      <td>주문취소했는데 카드는 언제 취소되나요?</td>\n",
       "      <td>주문</td>\n",
       "    </tr>\n",
       "  </tbody>\n",
       "</table>\n",
       "</div>"
      ],
      "text/plain": [
       "                      제목  분류\n",
       "0            결제방법 알려주세요!  주문\n",
       "1   입금을 했지만  미결제로 확인됩니다.  주문\n",
       "2  주문취소했는데 카드는 언제 취소되나요?  주문\n",
       "3            결제방법 알려주세요!  주문\n",
       "4   입금을 했지만  미결제로 확인됩니다.  주문\n",
       "5  주문취소했는데 카드는 언제 취소되나요?  주문"
      ]
     },
     "execution_count": 64,
     "metadata": {},
     "output_type": "execute_result"
    }
   ],
   "source": [
    "# 데이터프레임으로 보기\n",
    "cs_review= pd.DataFrame({'제목' :order_quest,\n",
    "                       '분류' : \"주문\"\n",
    "                       })\n",
    "cs_review"
   ]
  },
  {
   "cell_type": "markdown",
   "metadata": {},
   "source": [
    "## 배송"
   ]
  },
  {
   "cell_type": "code",
   "execution_count": 65,
   "metadata": {},
   "outputs": [],
   "source": [
    "delivery = driver.find_element_by_css_selector(\"#faq_category > ul > li:nth-child(3) > a\")\n",
    "delivery.send_keys(Keys.RETURN)"
   ]
  },
  {
   "cell_type": "code",
   "execution_count": 66,
   "metadata": {},
   "outputs": [],
   "source": [
    "html=driver.page_source"
   ]
  },
  {
   "cell_type": "code",
   "execution_count": 67,
   "metadata": {},
   "outputs": [],
   "source": [
    "html_doc=BeautifulSoup(html,\"html.parser\")"
   ]
  },
  {
   "cell_type": "code",
   "execution_count": 68,
   "metadata": {},
   "outputs": [],
   "source": [
    "delivery_question=html_doc.select(\"#faqTable > table > tbody > tr > td:nth-child(3) > div\")\n",
    "delivery_quest=confirm_text(delivery_question)"
   ]
  },
  {
   "cell_type": "code",
   "execution_count": 69,
   "metadata": {
    "scrolled": true
   },
   "outputs": [
    {
     "data": {
      "text/plain": [
       "['주소지 변경은 어떻게 하나요?',\n",
       " '배송 준비중인데 취소가능한가요?',\n",
       " '배송 지연이 왜 되는지?',\n",
       " '배송 지연은 몇일이 걸리는 건가요?']"
      ]
     },
     "execution_count": 69,
     "metadata": {},
     "output_type": "execute_result"
    }
   ],
   "source": [
    "delivery_quest"
   ]
  },
  {
   "cell_type": "code",
   "execution_count": 70,
   "metadata": {},
   "outputs": [
    {
     "data": {
      "text/html": [
       "<div>\n",
       "<style scoped>\n",
       "    .dataframe tbody tr th:only-of-type {\n",
       "        vertical-align: middle;\n",
       "    }\n",
       "\n",
       "    .dataframe tbody tr th {\n",
       "        vertical-align: top;\n",
       "    }\n",
       "\n",
       "    .dataframe thead th {\n",
       "        text-align: right;\n",
       "    }\n",
       "</style>\n",
       "<table border=\"1\" class=\"dataframe\">\n",
       "  <thead>\n",
       "    <tr style=\"text-align: right;\">\n",
       "      <th></th>\n",
       "      <th>제목</th>\n",
       "      <th>분류</th>\n",
       "    </tr>\n",
       "  </thead>\n",
       "  <tbody>\n",
       "    <tr>\n",
       "      <td>0</td>\n",
       "      <td>주소지 변경은 어떻게 하나요?</td>\n",
       "      <td>배송</td>\n",
       "    </tr>\n",
       "    <tr>\n",
       "      <td>1</td>\n",
       "      <td>배송 준비중인데 취소가능한가요?</td>\n",
       "      <td>배송</td>\n",
       "    </tr>\n",
       "    <tr>\n",
       "      <td>2</td>\n",
       "      <td>배송 지연이 왜 되는지?</td>\n",
       "      <td>배송</td>\n",
       "    </tr>\n",
       "    <tr>\n",
       "      <td>3</td>\n",
       "      <td>배송 지연은 몇일이 걸리는 건가요?</td>\n",
       "      <td>배송</td>\n",
       "    </tr>\n",
       "  </tbody>\n",
       "</table>\n",
       "</div>"
      ],
      "text/plain": [
       "                    제목  분류\n",
       "0     주소지 변경은 어떻게 하나요?  배송\n",
       "1    배송 준비중인데 취소가능한가요?  배송\n",
       "2        배송 지연이 왜 되는지?  배송\n",
       "3  배송 지연은 몇일이 걸리는 건가요?  배송"
      ]
     },
     "execution_count": 70,
     "metadata": {},
     "output_type": "execute_result"
    }
   ],
   "source": [
    "# 데이터프레임으로 보기\n",
    "cs_deli= pd.DataFrame({'제목' :delivery_quest,\n",
    "                       '분류' : \"배송\"\n",
    "                       })\n",
    "cs_deli"
   ]
  },
  {
   "cell_type": "code",
   "execution_count": 71,
   "metadata": {},
   "outputs": [],
   "source": [
    "cs_1=pd.concat([cs_review, cs_deli],ignore_index=True)"
   ]
  },
  {
   "cell_type": "code",
   "execution_count": 72,
   "metadata": {},
   "outputs": [
    {
     "data": {
      "text/html": [
       "<div>\n",
       "<style scoped>\n",
       "    .dataframe tbody tr th:only-of-type {\n",
       "        vertical-align: middle;\n",
       "    }\n",
       "\n",
       "    .dataframe tbody tr th {\n",
       "        vertical-align: top;\n",
       "    }\n",
       "\n",
       "    .dataframe thead th {\n",
       "        text-align: right;\n",
       "    }\n",
       "</style>\n",
       "<table border=\"1\" class=\"dataframe\">\n",
       "  <thead>\n",
       "    <tr style=\"text-align: right;\">\n",
       "      <th></th>\n",
       "      <th>제목</th>\n",
       "      <th>분류</th>\n",
       "    </tr>\n",
       "  </thead>\n",
       "  <tbody>\n",
       "    <tr>\n",
       "      <td>0</td>\n",
       "      <td>결제방법 알려주세요!</td>\n",
       "      <td>주문</td>\n",
       "    </tr>\n",
       "    <tr>\n",
       "      <td>1</td>\n",
       "      <td>입금을 했지만  미결제로 확인됩니다.</td>\n",
       "      <td>주문</td>\n",
       "    </tr>\n",
       "    <tr>\n",
       "      <td>2</td>\n",
       "      <td>주문취소했는데 카드는 언제 취소되나요?</td>\n",
       "      <td>주문</td>\n",
       "    </tr>\n",
       "    <tr>\n",
       "      <td>3</td>\n",
       "      <td>결제방법 알려주세요!</td>\n",
       "      <td>주문</td>\n",
       "    </tr>\n",
       "    <tr>\n",
       "      <td>4</td>\n",
       "      <td>입금을 했지만  미결제로 확인됩니다.</td>\n",
       "      <td>주문</td>\n",
       "    </tr>\n",
       "    <tr>\n",
       "      <td>5</td>\n",
       "      <td>주문취소했는데 카드는 언제 취소되나요?</td>\n",
       "      <td>주문</td>\n",
       "    </tr>\n",
       "    <tr>\n",
       "      <td>6</td>\n",
       "      <td>주소지 변경은 어떻게 하나요?</td>\n",
       "      <td>배송</td>\n",
       "    </tr>\n",
       "    <tr>\n",
       "      <td>7</td>\n",
       "      <td>배송 준비중인데 취소가능한가요?</td>\n",
       "      <td>배송</td>\n",
       "    </tr>\n",
       "    <tr>\n",
       "      <td>8</td>\n",
       "      <td>배송 지연이 왜 되는지?</td>\n",
       "      <td>배송</td>\n",
       "    </tr>\n",
       "    <tr>\n",
       "      <td>9</td>\n",
       "      <td>배송 지연은 몇일이 걸리는 건가요?</td>\n",
       "      <td>배송</td>\n",
       "    </tr>\n",
       "  </tbody>\n",
       "</table>\n",
       "</div>"
      ],
      "text/plain": [
       "                      제목  분류\n",
       "0            결제방법 알려주세요!  주문\n",
       "1   입금을 했지만  미결제로 확인됩니다.  주문\n",
       "2  주문취소했는데 카드는 언제 취소되나요?  주문\n",
       "3            결제방법 알려주세요!  주문\n",
       "4   입금을 했지만  미결제로 확인됩니다.  주문\n",
       "5  주문취소했는데 카드는 언제 취소되나요?  주문\n",
       "6       주소지 변경은 어떻게 하나요?  배송\n",
       "7      배송 준비중인데 취소가능한가요?  배송\n",
       "8          배송 지연이 왜 되는지?  배송\n",
       "9    배송 지연은 몇일이 걸리는 건가요?  배송"
      ]
     },
     "execution_count": 72,
     "metadata": {},
     "output_type": "execute_result"
    }
   ],
   "source": [
    "cs_1"
   ]
  },
  {
   "cell_type": "markdown",
   "metadata": {},
   "source": [
    "## 상품관련"
   ]
  },
  {
   "cell_type": "markdown",
   "metadata": {},
   "source": [
    "##### 상품관련"
   ]
  },
  {
   "cell_type": "code",
   "execution_count": 73,
   "metadata": {},
   "outputs": [],
   "source": [
    "product = driver.find_element_by_css_selector(\"#faq_category > ul > li:nth-child(4) > a\")\n",
    "product.send_keys(Keys.RETURN)"
   ]
  },
  {
   "cell_type": "code",
   "execution_count": 74,
   "metadata": {},
   "outputs": [],
   "source": [
    "html=driver.page_source"
   ]
  },
  {
   "cell_type": "code",
   "execution_count": 75,
   "metadata": {},
   "outputs": [],
   "source": [
    "html_doc=BeautifulSoup(html,\"html.parser\")"
   ]
  },
  {
   "cell_type": "code",
   "execution_count": 76,
   "metadata": {},
   "outputs": [],
   "source": [
    "product_question=html_doc.select(\"#faqTable > table > tbody > tr> td:nth-child(3) > div\")\n",
    "product_quest=confirm_text(product_question)"
   ]
  },
  {
   "cell_type": "code",
   "execution_count": 77,
   "metadata": {
    "scrolled": false
   },
   "outputs": [
    {
     "data": {
      "text/plain": [
       "['품절된 제품은 재입고가 안되나요?',\n",
       " '동일상품을 여러색상을 구매하려는데 어떻게 해야 할까요? ',\n",
       " '발볼 넓힘이나 굽조절 가능한가요?',\n",
       " '주문 가능해서 구매했는데 품절이라고 하네요. 이유가 뭔가요?']"
      ]
     },
     "execution_count": 77,
     "metadata": {},
     "output_type": "execute_result"
    }
   ],
   "source": [
    "product_quest"
   ]
  },
  {
   "cell_type": "code",
   "execution_count": 81,
   "metadata": {},
   "outputs": [],
   "source": [
    "product = driver.find_element_by_css_selector(\"#faq_category > ul > li:nth-child(6) > a\")\n",
    "product.send_keys(Keys.RETURN)"
   ]
  },
  {
   "cell_type": "code",
   "execution_count": 82,
   "metadata": {},
   "outputs": [],
   "source": [
    "html=driver.page_source"
   ]
  },
  {
   "cell_type": "code",
   "execution_count": 83,
   "metadata": {},
   "outputs": [],
   "source": [
    "html_doc=BeautifulSoup(html,\"html.parser\")"
   ]
  },
  {
   "cell_type": "code",
   "execution_count": 84,
   "metadata": {},
   "outputs": [],
   "source": [
    "product_question1=html_doc.select(\"#faqTable > table > tbody > tr> td:nth-child(3) > div\")\n",
    "product_quest1=confirm_text(product_question1)"
   ]
  },
  {
   "cell_type": "code",
   "execution_count": 85,
   "metadata": {},
   "outputs": [
    {
     "data": {
      "text/plain": [
       "['구매한 상품을 교환/반품 하고 싶습니다  어떻게 접수 하나요?',\n",
       " '반품 택배비는 얼마인가요?? ',\n",
       " '교환/반품시 상품을 어디로 보내나요?',\n",
       " '교환 택배비는 얼마인가요?? ',\n",
       " '반품이 불가능한 경우는요?',\n",
       " '교환상품 받는데 얼마나 걸릴까요?',\n",
       " '맞교환 가능하나요?',\n",
       " '구매시 받은 사은품은 어떻게 되나요?']"
      ]
     },
     "execution_count": 85,
     "metadata": {},
     "output_type": "execute_result"
    }
   ],
   "source": [
    "product_quest1"
   ]
  },
  {
   "cell_type": "code",
   "execution_count": 86,
   "metadata": {},
   "outputs": [],
   "source": [
    "product_quest=product_quest1+product_quest"
   ]
  },
  {
   "cell_type": "code",
   "execution_count": 87,
   "metadata": {},
   "outputs": [
    {
     "data": {
      "text/html": [
       "<div>\n",
       "<style scoped>\n",
       "    .dataframe tbody tr th:only-of-type {\n",
       "        vertical-align: middle;\n",
       "    }\n",
       "\n",
       "    .dataframe tbody tr th {\n",
       "        vertical-align: top;\n",
       "    }\n",
       "\n",
       "    .dataframe thead th {\n",
       "        text-align: right;\n",
       "    }\n",
       "</style>\n",
       "<table border=\"1\" class=\"dataframe\">\n",
       "  <thead>\n",
       "    <tr style=\"text-align: right;\">\n",
       "      <th></th>\n",
       "      <th>제목</th>\n",
       "      <th>분류</th>\n",
       "    </tr>\n",
       "  </thead>\n",
       "  <tbody>\n",
       "    <tr>\n",
       "      <td>0</td>\n",
       "      <td>구매한 상품을 교환/반품 하고 싶습니다  어떻게 접수 하나요?</td>\n",
       "      <td>상품관련</td>\n",
       "    </tr>\n",
       "    <tr>\n",
       "      <td>1</td>\n",
       "      <td>반품 택배비는 얼마인가요??</td>\n",
       "      <td>상품관련</td>\n",
       "    </tr>\n",
       "    <tr>\n",
       "      <td>2</td>\n",
       "      <td>교환/반품시 상품을 어디로 보내나요?</td>\n",
       "      <td>상품관련</td>\n",
       "    </tr>\n",
       "    <tr>\n",
       "      <td>3</td>\n",
       "      <td>교환 택배비는 얼마인가요??</td>\n",
       "      <td>상품관련</td>\n",
       "    </tr>\n",
       "    <tr>\n",
       "      <td>4</td>\n",
       "      <td>반품이 불가능한 경우는요?</td>\n",
       "      <td>상품관련</td>\n",
       "    </tr>\n",
       "    <tr>\n",
       "      <td>5</td>\n",
       "      <td>교환상품 받는데 얼마나 걸릴까요?</td>\n",
       "      <td>상품관련</td>\n",
       "    </tr>\n",
       "    <tr>\n",
       "      <td>6</td>\n",
       "      <td>맞교환 가능하나요?</td>\n",
       "      <td>상품관련</td>\n",
       "    </tr>\n",
       "    <tr>\n",
       "      <td>7</td>\n",
       "      <td>구매시 받은 사은품은 어떻게 되나요?</td>\n",
       "      <td>상품관련</td>\n",
       "    </tr>\n",
       "    <tr>\n",
       "      <td>8</td>\n",
       "      <td>품절된 제품은 재입고가 안되나요?</td>\n",
       "      <td>상품관련</td>\n",
       "    </tr>\n",
       "    <tr>\n",
       "      <td>9</td>\n",
       "      <td>동일상품을 여러색상을 구매하려는데 어떻게 해야 할까요?</td>\n",
       "      <td>상품관련</td>\n",
       "    </tr>\n",
       "    <tr>\n",
       "      <td>10</td>\n",
       "      <td>발볼 넓힘이나 굽조절 가능한가요?</td>\n",
       "      <td>상품관련</td>\n",
       "    </tr>\n",
       "    <tr>\n",
       "      <td>11</td>\n",
       "      <td>주문 가능해서 구매했는데 품절이라고 하네요. 이유가 뭔가요?</td>\n",
       "      <td>상품관련</td>\n",
       "    </tr>\n",
       "  </tbody>\n",
       "</table>\n",
       "</div>"
      ],
      "text/plain": [
       "                                    제목    분류\n",
       "0   구매한 상품을 교환/반품 하고 싶습니다  어떻게 접수 하나요?  상품관련\n",
       "1                     반품 택배비는 얼마인가요??   상품관련\n",
       "2                 교환/반품시 상품을 어디로 보내나요?  상품관련\n",
       "3                     교환 택배비는 얼마인가요??   상품관련\n",
       "4                       반품이 불가능한 경우는요?  상품관련\n",
       "5                   교환상품 받는데 얼마나 걸릴까요?  상품관련\n",
       "6                           맞교환 가능하나요?  상품관련\n",
       "7                 구매시 받은 사은품은 어떻게 되나요?  상품관련\n",
       "8                   품절된 제품은 재입고가 안되나요?  상품관련\n",
       "9      동일상품을 여러색상을 구매하려는데 어떻게 해야 할까요?   상품관련\n",
       "10                  발볼 넓힘이나 굽조절 가능한가요?  상품관련\n",
       "11   주문 가능해서 구매했는데 품절이라고 하네요. 이유가 뭔가요?  상품관련"
      ]
     },
     "execution_count": 87,
     "metadata": {},
     "output_type": "execute_result"
    }
   ],
   "source": [
    "# 데이터프레임으로 보기\n",
    "cs_pro= pd.DataFrame({'제목' :product_quest,\n",
    "                       '분류' : \"상품관련\"\n",
    "                       })\n",
    "cs_pro"
   ]
  },
  {
   "cell_type": "code",
   "execution_count": 88,
   "metadata": {},
   "outputs": [],
   "source": [
    "cs=pd.concat([cs_pro,cs_1],ignore_index=True)"
   ]
  },
  {
   "cell_type": "code",
   "execution_count": 89,
   "metadata": {},
   "outputs": [
    {
     "data": {
      "text/html": [
       "<div>\n",
       "<style scoped>\n",
       "    .dataframe tbody tr th:only-of-type {\n",
       "        vertical-align: middle;\n",
       "    }\n",
       "\n",
       "    .dataframe tbody tr th {\n",
       "        vertical-align: top;\n",
       "    }\n",
       "\n",
       "    .dataframe thead th {\n",
       "        text-align: right;\n",
       "    }\n",
       "</style>\n",
       "<table border=\"1\" class=\"dataframe\">\n",
       "  <thead>\n",
       "    <tr style=\"text-align: right;\">\n",
       "      <th></th>\n",
       "      <th>제목</th>\n",
       "      <th>분류</th>\n",
       "    </tr>\n",
       "  </thead>\n",
       "  <tbody>\n",
       "    <tr>\n",
       "      <td>0</td>\n",
       "      <td>구매한 상품을 교환/반품 하고 싶습니다  어떻게 접수 하나요?</td>\n",
       "      <td>상품관련</td>\n",
       "    </tr>\n",
       "    <tr>\n",
       "      <td>1</td>\n",
       "      <td>반품 택배비는 얼마인가요??</td>\n",
       "      <td>상품관련</td>\n",
       "    </tr>\n",
       "    <tr>\n",
       "      <td>2</td>\n",
       "      <td>교환/반품시 상품을 어디로 보내나요?</td>\n",
       "      <td>상품관련</td>\n",
       "    </tr>\n",
       "    <tr>\n",
       "      <td>3</td>\n",
       "      <td>교환 택배비는 얼마인가요??</td>\n",
       "      <td>상품관련</td>\n",
       "    </tr>\n",
       "    <tr>\n",
       "      <td>4</td>\n",
       "      <td>반품이 불가능한 경우는요?</td>\n",
       "      <td>상품관련</td>\n",
       "    </tr>\n",
       "    <tr>\n",
       "      <td>5</td>\n",
       "      <td>교환상품 받는데 얼마나 걸릴까요?</td>\n",
       "      <td>상품관련</td>\n",
       "    </tr>\n",
       "    <tr>\n",
       "      <td>6</td>\n",
       "      <td>맞교환 가능하나요?</td>\n",
       "      <td>상품관련</td>\n",
       "    </tr>\n",
       "    <tr>\n",
       "      <td>7</td>\n",
       "      <td>구매시 받은 사은품은 어떻게 되나요?</td>\n",
       "      <td>상품관련</td>\n",
       "    </tr>\n",
       "    <tr>\n",
       "      <td>8</td>\n",
       "      <td>품절된 제품은 재입고가 안되나요?</td>\n",
       "      <td>상품관련</td>\n",
       "    </tr>\n",
       "    <tr>\n",
       "      <td>9</td>\n",
       "      <td>동일상품을 여러색상을 구매하려는데 어떻게 해야 할까요?</td>\n",
       "      <td>상품관련</td>\n",
       "    </tr>\n",
       "    <tr>\n",
       "      <td>10</td>\n",
       "      <td>발볼 넓힘이나 굽조절 가능한가요?</td>\n",
       "      <td>상품관련</td>\n",
       "    </tr>\n",
       "    <tr>\n",
       "      <td>11</td>\n",
       "      <td>주문 가능해서 구매했는데 품절이라고 하네요. 이유가 뭔가요?</td>\n",
       "      <td>상품관련</td>\n",
       "    </tr>\n",
       "    <tr>\n",
       "      <td>12</td>\n",
       "      <td>결제방법 알려주세요!</td>\n",
       "      <td>주문</td>\n",
       "    </tr>\n",
       "    <tr>\n",
       "      <td>13</td>\n",
       "      <td>입금을 했지만  미결제로 확인됩니다.</td>\n",
       "      <td>주문</td>\n",
       "    </tr>\n",
       "    <tr>\n",
       "      <td>14</td>\n",
       "      <td>주문취소했는데 카드는 언제 취소되나요?</td>\n",
       "      <td>주문</td>\n",
       "    </tr>\n",
       "    <tr>\n",
       "      <td>15</td>\n",
       "      <td>결제방법 알려주세요!</td>\n",
       "      <td>주문</td>\n",
       "    </tr>\n",
       "    <tr>\n",
       "      <td>16</td>\n",
       "      <td>입금을 했지만  미결제로 확인됩니다.</td>\n",
       "      <td>주문</td>\n",
       "    </tr>\n",
       "    <tr>\n",
       "      <td>17</td>\n",
       "      <td>주문취소했는데 카드는 언제 취소되나요?</td>\n",
       "      <td>주문</td>\n",
       "    </tr>\n",
       "    <tr>\n",
       "      <td>18</td>\n",
       "      <td>주소지 변경은 어떻게 하나요?</td>\n",
       "      <td>배송</td>\n",
       "    </tr>\n",
       "    <tr>\n",
       "      <td>19</td>\n",
       "      <td>배송 준비중인데 취소가능한가요?</td>\n",
       "      <td>배송</td>\n",
       "    </tr>\n",
       "    <tr>\n",
       "      <td>20</td>\n",
       "      <td>배송 지연이 왜 되는지?</td>\n",
       "      <td>배송</td>\n",
       "    </tr>\n",
       "    <tr>\n",
       "      <td>21</td>\n",
       "      <td>배송 지연은 몇일이 걸리는 건가요?</td>\n",
       "      <td>배송</td>\n",
       "    </tr>\n",
       "  </tbody>\n",
       "</table>\n",
       "</div>"
      ],
      "text/plain": [
       "                                    제목    분류\n",
       "0   구매한 상품을 교환/반품 하고 싶습니다  어떻게 접수 하나요?  상품관련\n",
       "1                     반품 택배비는 얼마인가요??   상품관련\n",
       "2                 교환/반품시 상품을 어디로 보내나요?  상품관련\n",
       "3                     교환 택배비는 얼마인가요??   상품관련\n",
       "4                       반품이 불가능한 경우는요?  상품관련\n",
       "5                   교환상품 받는데 얼마나 걸릴까요?  상품관련\n",
       "6                           맞교환 가능하나요?  상품관련\n",
       "7                 구매시 받은 사은품은 어떻게 되나요?  상품관련\n",
       "8                   품절된 제품은 재입고가 안되나요?  상품관련\n",
       "9      동일상품을 여러색상을 구매하려는데 어떻게 해야 할까요?   상품관련\n",
       "10                  발볼 넓힘이나 굽조절 가능한가요?  상품관련\n",
       "11   주문 가능해서 구매했는데 품절이라고 하네요. 이유가 뭔가요?  상품관련\n",
       "12                         결제방법 알려주세요!    주문\n",
       "13                입금을 했지만  미결제로 확인됩니다.    주문\n",
       "14               주문취소했는데 카드는 언제 취소되나요?    주문\n",
       "15                         결제방법 알려주세요!    주문\n",
       "16                입금을 했지만  미결제로 확인됩니다.    주문\n",
       "17               주문취소했는데 카드는 언제 취소되나요?    주문\n",
       "18                    주소지 변경은 어떻게 하나요?    배송\n",
       "19                   배송 준비중인데 취소가능한가요?    배송\n",
       "20                       배송 지연이 왜 되는지?    배송\n",
       "21                 배송 지연은 몇일이 걸리는 건가요?    배송"
      ]
     },
     "execution_count": 89,
     "metadata": {},
     "output_type": "execute_result"
    }
   ],
   "source": [
    "cs"
   ]
  },
  {
   "cell_type": "markdown",
   "metadata": {},
   "source": [
    "### 회원"
   ]
  },
  {
   "cell_type": "code",
   "execution_count": 93,
   "metadata": {},
   "outputs": [],
   "source": [
    "user = driver.find_element_by_css_selector(\"#faq_category > ul > li:nth-child(2) > a\")\n",
    "user.send_keys(Keys.RETURN)"
   ]
  },
  {
   "cell_type": "code",
   "execution_count": 94,
   "metadata": {},
   "outputs": [],
   "source": [
    "html=driver.page_source"
   ]
  },
  {
   "cell_type": "code",
   "execution_count": 95,
   "metadata": {},
   "outputs": [],
   "source": [
    "html_doc=BeautifulSoup(html,\"html.parser\")"
   ]
  },
  {
   "cell_type": "code",
   "execution_count": 96,
   "metadata": {},
   "outputs": [],
   "source": [
    "user_question=html_doc.select(\"#faqTable > table > tbody > tr> td:nth-child(3) > div\")\n",
    "user_quest=confirm_text(user_question)"
   ]
  },
  {
   "cell_type": "code",
   "execution_count": 97,
   "metadata": {
    "scrolled": false
   },
   "outputs": [
    {
     "data": {
      "text/plain": [
       "['회원가입하면 혜택이 있나요?',\n",
       " '비회원도 구매할 수 있나요?',\n",
       " '아이디와 패스워드를 잊어버렸어요!',\n",
       " '주소와 전화번호등 개인정보 변경은 어떻게 해요?',\n",
       " '회원 탈퇴는 어떻게 하나요?']"
      ]
     },
     "execution_count": 97,
     "metadata": {},
     "output_type": "execute_result"
    }
   ],
   "source": [
    "user_quest"
   ]
  },
  {
   "cell_type": "code",
   "execution_count": 99,
   "metadata": {},
   "outputs": [
    {
     "data": {
      "text/html": [
       "<div>\n",
       "<style scoped>\n",
       "    .dataframe tbody tr th:only-of-type {\n",
       "        vertical-align: middle;\n",
       "    }\n",
       "\n",
       "    .dataframe tbody tr th {\n",
       "        vertical-align: top;\n",
       "    }\n",
       "\n",
       "    .dataframe thead th {\n",
       "        text-align: right;\n",
       "    }\n",
       "</style>\n",
       "<table border=\"1\" class=\"dataframe\">\n",
       "  <thead>\n",
       "    <tr style=\"text-align: right;\">\n",
       "      <th></th>\n",
       "      <th>제목</th>\n",
       "      <th>분류</th>\n",
       "    </tr>\n",
       "  </thead>\n",
       "  <tbody>\n",
       "    <tr>\n",
       "      <td>0</td>\n",
       "      <td>회원가입하면 혜택이 있나요?</td>\n",
       "      <td>상품관련</td>\n",
       "    </tr>\n",
       "    <tr>\n",
       "      <td>1</td>\n",
       "      <td>비회원도 구매할 수 있나요?</td>\n",
       "      <td>상품관련</td>\n",
       "    </tr>\n",
       "    <tr>\n",
       "      <td>2</td>\n",
       "      <td>아이디와 패스워드를 잊어버렸어요!</td>\n",
       "      <td>상품관련</td>\n",
       "    </tr>\n",
       "    <tr>\n",
       "      <td>3</td>\n",
       "      <td>주소와 전화번호등 개인정보 변경은 어떻게 해요?</td>\n",
       "      <td>상품관련</td>\n",
       "    </tr>\n",
       "    <tr>\n",
       "      <td>4</td>\n",
       "      <td>회원 탈퇴는 어떻게 하나요?</td>\n",
       "      <td>상품관련</td>\n",
       "    </tr>\n",
       "  </tbody>\n",
       "</table>\n",
       "</div>"
      ],
      "text/plain": [
       "                           제목    분류\n",
       "0             회원가입하면 혜택이 있나요?  상품관련\n",
       "1             비회원도 구매할 수 있나요?  상품관련\n",
       "2          아이디와 패스워드를 잊어버렸어요!  상품관련\n",
       "3  주소와 전화번호등 개인정보 변경은 어떻게 해요?  상품관련\n",
       "4             회원 탈퇴는 어떻게 하나요?  상품관련"
      ]
     },
     "execution_count": 99,
     "metadata": {},
     "output_type": "execute_result"
    }
   ],
   "source": [
    "# 데이터프레임으로 보기\n",
    "cs_user= pd.DataFrame({'제목' :user_quest,\n",
    "                       '분류' : \"상품관련\"\n",
    "                       })\n",
    "cs_user"
   ]
  },
  {
   "cell_type": "code",
   "execution_count": 100,
   "metadata": {},
   "outputs": [],
   "source": [
    "cs=pd.concat([cs,cs_user],ignore_index=True)"
   ]
  },
  {
   "cell_type": "code",
   "execution_count": 101,
   "metadata": {},
   "outputs": [
    {
     "data": {
      "text/html": [
       "<div>\n",
       "<style scoped>\n",
       "    .dataframe tbody tr th:only-of-type {\n",
       "        vertical-align: middle;\n",
       "    }\n",
       "\n",
       "    .dataframe tbody tr th {\n",
       "        vertical-align: top;\n",
       "    }\n",
       "\n",
       "    .dataframe thead th {\n",
       "        text-align: right;\n",
       "    }\n",
       "</style>\n",
       "<table border=\"1\" class=\"dataframe\">\n",
       "  <thead>\n",
       "    <tr style=\"text-align: right;\">\n",
       "      <th></th>\n",
       "      <th>제목</th>\n",
       "      <th>분류</th>\n",
       "    </tr>\n",
       "  </thead>\n",
       "  <tbody>\n",
       "    <tr>\n",
       "      <td>0</td>\n",
       "      <td>구매한 상품을 교환/반품 하고 싶습니다  어떻게 접수 하나요?</td>\n",
       "      <td>상품관련</td>\n",
       "    </tr>\n",
       "    <tr>\n",
       "      <td>1</td>\n",
       "      <td>반품 택배비는 얼마인가요??</td>\n",
       "      <td>상품관련</td>\n",
       "    </tr>\n",
       "    <tr>\n",
       "      <td>2</td>\n",
       "      <td>교환/반품시 상품을 어디로 보내나요?</td>\n",
       "      <td>상품관련</td>\n",
       "    </tr>\n",
       "    <tr>\n",
       "      <td>3</td>\n",
       "      <td>교환 택배비는 얼마인가요??</td>\n",
       "      <td>상품관련</td>\n",
       "    </tr>\n",
       "    <tr>\n",
       "      <td>4</td>\n",
       "      <td>반품이 불가능한 경우는요?</td>\n",
       "      <td>상품관련</td>\n",
       "    </tr>\n",
       "    <tr>\n",
       "      <td>5</td>\n",
       "      <td>교환상품 받는데 얼마나 걸릴까요?</td>\n",
       "      <td>상품관련</td>\n",
       "    </tr>\n",
       "    <tr>\n",
       "      <td>6</td>\n",
       "      <td>맞교환 가능하나요?</td>\n",
       "      <td>상품관련</td>\n",
       "    </tr>\n",
       "    <tr>\n",
       "      <td>7</td>\n",
       "      <td>구매시 받은 사은품은 어떻게 되나요?</td>\n",
       "      <td>상품관련</td>\n",
       "    </tr>\n",
       "    <tr>\n",
       "      <td>8</td>\n",
       "      <td>품절된 제품은 재입고가 안되나요?</td>\n",
       "      <td>상품관련</td>\n",
       "    </tr>\n",
       "    <tr>\n",
       "      <td>9</td>\n",
       "      <td>동일상품을 여러색상을 구매하려는데 어떻게 해야 할까요?</td>\n",
       "      <td>상품관련</td>\n",
       "    </tr>\n",
       "    <tr>\n",
       "      <td>10</td>\n",
       "      <td>발볼 넓힘이나 굽조절 가능한가요?</td>\n",
       "      <td>상품관련</td>\n",
       "    </tr>\n",
       "    <tr>\n",
       "      <td>11</td>\n",
       "      <td>주문 가능해서 구매했는데 품절이라고 하네요. 이유가 뭔가요?</td>\n",
       "      <td>상품관련</td>\n",
       "    </tr>\n",
       "    <tr>\n",
       "      <td>12</td>\n",
       "      <td>결제방법 알려주세요!</td>\n",
       "      <td>주문</td>\n",
       "    </tr>\n",
       "    <tr>\n",
       "      <td>13</td>\n",
       "      <td>입금을 했지만  미결제로 확인됩니다.</td>\n",
       "      <td>주문</td>\n",
       "    </tr>\n",
       "    <tr>\n",
       "      <td>14</td>\n",
       "      <td>주문취소했는데 카드는 언제 취소되나요?</td>\n",
       "      <td>주문</td>\n",
       "    </tr>\n",
       "    <tr>\n",
       "      <td>15</td>\n",
       "      <td>결제방법 알려주세요!</td>\n",
       "      <td>주문</td>\n",
       "    </tr>\n",
       "    <tr>\n",
       "      <td>16</td>\n",
       "      <td>입금을 했지만  미결제로 확인됩니다.</td>\n",
       "      <td>주문</td>\n",
       "    </tr>\n",
       "    <tr>\n",
       "      <td>17</td>\n",
       "      <td>주문취소했는데 카드는 언제 취소되나요?</td>\n",
       "      <td>주문</td>\n",
       "    </tr>\n",
       "    <tr>\n",
       "      <td>18</td>\n",
       "      <td>주소지 변경은 어떻게 하나요?</td>\n",
       "      <td>배송</td>\n",
       "    </tr>\n",
       "    <tr>\n",
       "      <td>19</td>\n",
       "      <td>배송 준비중인데 취소가능한가요?</td>\n",
       "      <td>배송</td>\n",
       "    </tr>\n",
       "    <tr>\n",
       "      <td>20</td>\n",
       "      <td>배송 지연이 왜 되는지?</td>\n",
       "      <td>배송</td>\n",
       "    </tr>\n",
       "    <tr>\n",
       "      <td>21</td>\n",
       "      <td>배송 지연은 몇일이 걸리는 건가요?</td>\n",
       "      <td>배송</td>\n",
       "    </tr>\n",
       "    <tr>\n",
       "      <td>22</td>\n",
       "      <td>회원가입하면 혜택이 있나요?</td>\n",
       "      <td>상품관련</td>\n",
       "    </tr>\n",
       "    <tr>\n",
       "      <td>23</td>\n",
       "      <td>비회원도 구매할 수 있나요?</td>\n",
       "      <td>상품관련</td>\n",
       "    </tr>\n",
       "    <tr>\n",
       "      <td>24</td>\n",
       "      <td>아이디와 패스워드를 잊어버렸어요!</td>\n",
       "      <td>상품관련</td>\n",
       "    </tr>\n",
       "    <tr>\n",
       "      <td>25</td>\n",
       "      <td>주소와 전화번호등 개인정보 변경은 어떻게 해요?</td>\n",
       "      <td>상품관련</td>\n",
       "    </tr>\n",
       "    <tr>\n",
       "      <td>26</td>\n",
       "      <td>회원 탈퇴는 어떻게 하나요?</td>\n",
       "      <td>상품관련</td>\n",
       "    </tr>\n",
       "  </tbody>\n",
       "</table>\n",
       "</div>"
      ],
      "text/plain": [
       "                                    제목    분류\n",
       "0   구매한 상품을 교환/반품 하고 싶습니다  어떻게 접수 하나요?  상품관련\n",
       "1                     반품 택배비는 얼마인가요??   상품관련\n",
       "2                 교환/반품시 상품을 어디로 보내나요?  상품관련\n",
       "3                     교환 택배비는 얼마인가요??   상품관련\n",
       "4                       반품이 불가능한 경우는요?  상품관련\n",
       "5                   교환상품 받는데 얼마나 걸릴까요?  상품관련\n",
       "6                           맞교환 가능하나요?  상품관련\n",
       "7                 구매시 받은 사은품은 어떻게 되나요?  상품관련\n",
       "8                   품절된 제품은 재입고가 안되나요?  상품관련\n",
       "9      동일상품을 여러색상을 구매하려는데 어떻게 해야 할까요?   상품관련\n",
       "10                  발볼 넓힘이나 굽조절 가능한가요?  상품관련\n",
       "11   주문 가능해서 구매했는데 품절이라고 하네요. 이유가 뭔가요?  상품관련\n",
       "12                         결제방법 알려주세요!    주문\n",
       "13                입금을 했지만  미결제로 확인됩니다.    주문\n",
       "14               주문취소했는데 카드는 언제 취소되나요?    주문\n",
       "15                         결제방법 알려주세요!    주문\n",
       "16                입금을 했지만  미결제로 확인됩니다.    주문\n",
       "17               주문취소했는데 카드는 언제 취소되나요?    주문\n",
       "18                    주소지 변경은 어떻게 하나요?    배송\n",
       "19                   배송 준비중인데 취소가능한가요?    배송\n",
       "20                       배송 지연이 왜 되는지?    배송\n",
       "21                 배송 지연은 몇일이 걸리는 건가요?    배송\n",
       "22                     회원가입하면 혜택이 있나요?  상품관련\n",
       "23                     비회원도 구매할 수 있나요?  상품관련\n",
       "24                  아이디와 패스워드를 잊어버렸어요!  상품관련\n",
       "25          주소와 전화번호등 개인정보 변경은 어떻게 해요?  상품관련\n",
       "26                     회원 탈퇴는 어떻게 하나요?  상품관련"
      ]
     },
     "execution_count": 101,
     "metadata": {},
     "output_type": "execute_result"
    }
   ],
   "source": [
    "cs"
   ]
  },
  {
   "cell_type": "code",
   "execution_count": 102,
   "metadata": {},
   "outputs": [],
   "source": [
    "cs.to_csv('cs2.csv')"
   ]
  },
  {
   "cell_type": "code",
   "execution_count": null,
   "metadata": {},
   "outputs": [],
   "source": []
  }
 ],
 "metadata": {
  "kernelspec": {
   "display_name": "Python 3",
   "language": "python",
   "name": "python3"
  },
  "language_info": {
   "codemirror_mode": {
    "name": "ipython",
    "version": 3
   },
   "file_extension": ".py",
   "mimetype": "text/x-python",
   "name": "python",
   "nbconvert_exporter": "python",
   "pygments_lexer": "ipython3",
   "version": "3.7.4"
  }
 },
 "nbformat": 4,
 "nbformat_minor": 2
}

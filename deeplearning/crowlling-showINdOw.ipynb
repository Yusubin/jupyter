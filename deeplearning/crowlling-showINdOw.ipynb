{
 "cells": [
  {
   "cell_type": "code",
   "execution_count": 1,
   "metadata": {},
   "outputs": [
    {
     "name": "stdout",
     "output_type": "stream",
     "text": [
      "Requirement already satisfied: selenium in c:\\users\\hi\\anaconda3\\lib\\site-packages (4.1.3)\n",
      "Requirement already satisfied: urllib3[secure,socks]~=1.26 in c:\\users\\hi\\anaconda3\\lib\\site-packages (from selenium) (1.26.9)\n",
      "Requirement already satisfied: trio~=0.17 in c:\\users\\hi\\anaconda3\\lib\\site-packages (from selenium) (0.20.0)\n",
      "Requirement already satisfied: trio-websocket~=0.9 in c:\\users\\hi\\anaconda3\\lib\\site-packages (from selenium) (0.9.2)\n",
      "Requirement already satisfied: certifi; extra == \"secure\" in c:\\users\\hi\\anaconda3\\lib\\site-packages (from urllib3[secure,socks]~=1.26->selenium) (2019.9.11)\n",
      "Requirement already satisfied: idna>=2.0.0; extra == \"secure\" in c:\\users\\hi\\anaconda3\\lib\\site-packages (from urllib3[secure,socks]~=1.26->selenium) (2.8)\n",
      "Requirement already satisfied: pyOpenSSL>=0.14; extra == \"secure\" in c:\\users\\hi\\anaconda3\\lib\\site-packages (from urllib3[secure,socks]~=1.26->selenium) (19.0.0)\n",
      "Requirement already satisfied: cryptography>=1.3.4; extra == \"secure\" in c:\\users\\hi\\anaconda3\\lib\\site-packages (from urllib3[secure,socks]~=1.26->selenium) (2.7)\n",
      "Requirement already satisfied: PySocks!=1.5.7,<2.0,>=1.5.6; extra == \"socks\" in c:\\users\\hi\\anaconda3\\lib\\site-packages (from urllib3[secure,socks]~=1.26->selenium) (1.7.1)\n",
      "Requirement already satisfied: sniffio in c:\\users\\hi\\anaconda3\\lib\\site-packages (from trio~=0.17->selenium) (1.2.0)\n",
      "Requirement already satisfied: attrs>=19.2.0 in c:\\users\\hi\\anaconda3\\lib\\site-packages (from trio~=0.17->selenium) (19.2.0)\n",
      "Requirement already satisfied: sortedcontainers in c:\\users\\hi\\anaconda3\\lib\\site-packages (from trio~=0.17->selenium) (2.1.0)\n",
      "Requirement already satisfied: async-generator>=1.9 in c:\\users\\hi\\anaconda3\\lib\\site-packages (from trio~=0.17->selenium) (1.10)\n",
      "Requirement already satisfied: cffi>=1.14; os_name == \"nt\" and implementation_name != \"pypy\" in c:\\users\\hi\\anaconda3\\lib\\site-packages (from trio~=0.17->selenium) (1.15.0)\n",
      "Requirement already satisfied: outcome in c:\\users\\hi\\anaconda3\\lib\\site-packages (from trio~=0.17->selenium) (1.1.0)\n",
      "Requirement already satisfied: wsproto>=0.14 in c:\\users\\hi\\anaconda3\\lib\\site-packages (from trio-websocket~=0.9->selenium) (1.1.0)\n",
      "Requirement already satisfied: six>=1.5.2 in c:\\users\\hi\\anaconda3\\lib\\site-packages (from pyOpenSSL>=0.14; extra == \"secure\"->urllib3[secure,socks]~=1.26->selenium) (1.12.0)\n",
      "Requirement already satisfied: asn1crypto>=0.21.0 in c:\\users\\hi\\anaconda3\\lib\\site-packages (from cryptography>=1.3.4; extra == \"secure\"->urllib3[secure,socks]~=1.26->selenium) (1.0.1)\n",
      "Requirement already satisfied: pycparser in c:\\users\\hi\\anaconda3\\lib\\site-packages (from cffi>=1.14; os_name == \"nt\" and implementation_name != \"pypy\"->trio~=0.17->selenium) (2.19)\n",
      "Requirement already satisfied: h11<1,>=0.9.0 in c:\\users\\hi\\anaconda3\\lib\\site-packages (from wsproto>=0.14->trio-websocket~=0.9->selenium) (0.13.0)\n",
      "Requirement already satisfied: typing-extensions; python_version < \"3.8\" in c:\\users\\hi\\anaconda3\\lib\\site-packages (from h11<1,>=0.9.0->wsproto>=0.14->trio-websocket~=0.9->selenium) (4.1.1)\n"
     ]
    }
   ],
   "source": [
    "!pip install selenium"
   ]
  },
  {
   "cell_type": "code",
   "execution_count": 2,
   "metadata": {},
   "outputs": [],
   "source": [
    "import warnings\n",
    "warnings.filterwarnings(action='ignore')\n",
    "from selenium.webdriver.common.by import By\n",
    "from selenium.webdriver.support.ui import WebDriverWait \n",
    "from selenium.webdriver.support import expected_conditions as EC\n",
    "from selenium import webdriver\n",
    "from selenium.webdriver.common.keys import Keys\n",
    "import time\n",
    "from tqdm.auto import tqdm\n",
    "import pandas as pd\n",
    "from bs4 import BeautifulSoup \n",
    "from IPython.display import Image"
   ]
  },
  {
   "cell_type": "code",
   "execution_count": 3,
   "metadata": {},
   "outputs": [],
   "source": [
    "\n",
    "def img_source(rlist):\n",
    "    returnlist=[]\n",
    "    for i in range(0, len(rlist), 1):\n",
    "        a= rlist[i].get('src')\n",
    "        returnlist.append(a)\n",
    "    return returnlist\n",
    "\n",
    "def confirm_text (rlist):\n",
    "    returnlist=[]\n",
    "    for i in range(0, len(rlist), 1):\n",
    "        a= rlist[i].text\n",
    "        aa =a.replace(',',' ')\n",
    "        returnlist.append(aa)\n",
    "    return returnlist"
   ]
  },
  {
   "cell_type": "code",
   "execution_count": 5,
   "metadata": {},
   "outputs": [],
   "source": [
    "    url = 'https://www.showindow.co.kr/pc/customer/faqBoardList.do'\n",
    "    driver = webdriver.Chrome('../WebDriver/chromedriver.exe') #브라우저 실행\n",
    "    driver.get(url)\n",
    "    time.sleep(3)"
   ]
  },
  {
   "cell_type": "markdown",
   "metadata": {},
   "source": [
    "## 주문결제"
   ]
  },
  {
   "cell_type": "markdown",
   "metadata": {},
   "source": [
    "#### 주문결제"
   ]
  },
  {
   "cell_type": "code",
   "execution_count": 6,
   "metadata": {},
   "outputs": [],
   "source": [
    "order = driver.find_element_by_css_selector(\"#tab1 > div.stab_wrap.faq_stab > ul > li:nth-child(3) > a\")\n",
    "order.send_keys(Keys.RETURN)"
   ]
  },
  {
   "cell_type": "code",
   "execution_count": 7,
   "metadata": {},
   "outputs": [],
   "source": [
    "html=driver.page_source"
   ]
  },
  {
   "cell_type": "code",
   "execution_count": 8,
   "metadata": {},
   "outputs": [],
   "source": [
    "html_doc=BeautifulSoup(html,\"html.parser\")"
   ]
  },
  {
   "cell_type": "code",
   "execution_count": 11,
   "metadata": {},
   "outputs": [],
   "source": [
    "order_question=html_doc.select(\"#tab1 > div.stab_wrap.faq_stab > div > div > ul > li> a\")\n",
    "order_quest=confirm_text(order_question)"
   ]
  },
  {
   "cell_type": "code",
   "execution_count": 12,
   "metadata": {
    "scrolled": true
   },
   "outputs": [
    {
     "data": {
      "text/plain": [
       "['구매한 상품에 대한 영수증을 받을 수 있나요?',\n",
       " '주문했는데 중복으로 결제됐어요',\n",
       " '인터넷 안전결제(ISP)가 무엇이며 어떻게 이용하나요?',\n",
       " '실시간 계좌이체는 어떻게 이용할 수 있나요?',\n",
       " '주문하고 계좌로 입금을 했는데 입금확인이 안 됩니다.',\n",
       " '간편결제 서비스는 어떻게 이용할 수 있나요?',\n",
       " '카드결제시 계속해서 오류가 나는데 어떻게 해야 하나요?',\n",
       " '안심클릭 계열 카드 결제창이 뜨지 않는데 어덯게 해야 하나요?']"
      ]
     },
     "execution_count": 12,
     "metadata": {},
     "output_type": "execute_result"
    }
   ],
   "source": [
    "order_quest"
   ]
  },
  {
   "cell_type": "code",
   "execution_count": 25,
   "metadata": {},
   "outputs": [],
   "source": [
    "def answer_confirm():\n",
    "    table= driver.find_element_by_css_selector(\"#tab1 > div.stab_wrap.faq_stab > div > div\")\n",
    "    tr=table.find_elements_by_tag_name(\"li\")\n",
    "    print (len(tr))\n",
    "    tr2=len(tr)\n",
    "    tr2\n",
    "    product22=[]\n",
    "    for i in range (1,len(tr),1):\n",
    "        text=\"#tab1 > div.stab_wrap.faq_stab > div > div > ul > li:nth-child(\"+str(i)+\")\"\n",
    "        delivery2 = driver.find_element_by_css_selector(text).click()\n",
    "        html=driver.page_source\n",
    "        html_doc=BeautifulSoup(html,\"html.parser\")\n",
    "        delivery_question2=html_doc.select(\" #tab1 > div.stab_wrap.faq_stab > div > div > ul > li:nth-child(\"+str(i)+\") > div\")\n",
    "        product22.append(confirm_text(delivery_question2))\n",
    "\n",
    "    return product22"
   ]
  },
  {
   "cell_type": "code",
   "execution_count": 26,
   "metadata": {},
   "outputs": [
    {
     "name": "stdout",
     "output_type": "stream",
     "text": [
      "8\n"
     ]
    }
   ],
   "source": [
    "product22=answer_confirm()"
   ]
  },
  {
   "cell_type": "code",
   "execution_count": 27,
   "metadata": {},
   "outputs": [
    {
     "data": {
      "text/plain": [
       "[[\"\\xa0\\xa0\\xa0구매 영수증은 PC 웹사이트에서 '마이페이지 > My Shopping > 주문/배송조회 > 주문번호 주문상세보기' 클릭 후주문상세내역에서 하단에 위치한 '영수증 출력' 버튼을 클릭하시면 영수증을 확인 및 출력하실 수 있습니다.\\u200b\\xa0\"],\n",
       " ['주문하신 상품이 중복으로 결제되었을 경우  아래 내용을 확인하시고고객센터 대표전화 또는 1:1 문의로 상세내용을 알려주시면 확인 후 처리해드리겠습니다.\\xa0\\xa0※ 결제수단 별 확인 정보1) 신용카드 : 중복으로 결제된 승인번호(2개 모두)2) 간편결제 : 중복으로 결제된 승인번호(2개 모두)3) 실시간 계좌이체 : 입금날짜  은행명  이름  생년월일  입금금액\\xa0- SHOWINDOW 고객센터: 1661-2585 (평일 9:00~18:00 / 토 일 공휴일 휴무)  (점심시간: 12:00~13:00)\\u200b'],\n",
       " [\"인터넷 안전결제(ISP)는 BC/국민/우리카드 등으로 결제할 때  카드번호를 직접 입력하지 않고카드사에서 발급하는 가상의 비밀번호만으로 안전하게 거래하는 서비스입니다.\\xa0ISP 인증번호는 카드사 홈페이지 또는 결제 플러그인 창에서 등록 가능합니다.\\xa0*ISP가 정상적으로 작동되지 않을 때는 아래의 해결방법을 참고해 주시기 바랍니다.\\xa01. 'initialize fail' 또는 '플러그인 초기화' 메세지\\xa0 - ISP 프로그램 수동설치(http://www.vp.co.kr/) 후 다시 신청\\xa02. '인터넷 작동이 중지되었습니다.' 메세지\\xa0 - '내컴퓨터\\\\로컬디스크(C:)\\\\Windows\\\\system32' 폴더에서 'kcrypto.dll' 파일 삭제 후 다시 시도 \\u200b\\xa0\"],\n",
       " ['실시간 계좌이체란  고객님의 계좌에서 쑈윈도 등록 계좌로 이체하는 방식입니다.이체 가능한 시간은 은행별로 상이하며  일부 은행의 경우 수수료가 발생할 수 있습니다.또한  법인계좌로는 실시간 계좌이체를 이용할 수 없습니다. 이 점 유의해 주시기 바랍니다.\\u200b\\xa0실시간 계좌이체 주문 시 입금내역을 확인하기까지 최대 1시간 정도가 소요됩니다.입금하신 금액이 결제금액과 일치하지 않을 경우 결제완료 처리가 되지 않으므로 다시 한 번 확인해 주시기 바랍니다.정상적으로 입금을 완료한 후에도 계속 결제완료로 처리되지 않는 경우 고객센터 대표전화 또는 1:1문의로 상세내용을 알려주시면 확인 후 처리해드리겠습니다.\\xa0- SHOWINDOW 고객센터: 1661-2585 (평일 10:00~17:30 / 토 일 공휴일 휴무\\u200b)  (점심시간: 12:00~13:00)\\u200b\\xa0'],\n",
       " ['무통장 또는 실시간 계좌이체 주문 시 입금내역을 확인하기까지 최대 1시간 정도가 소요됩니다.입금하신 금액이 결제금액과 일치하지 않을 경우 결제완료 처리가 되지 않으므로 다시 한 번 확인해 주시기 바랍니다.정상적으로 입금을 완료한 후에도 계속 결제완료로 처리되지 않는 경우 고객센터 대표전화 또는 1:1 문의로 상세내용을 알려주시면 확인 후 처리해드리겠습니다.\\xa0- SHOWINDOW 고객센터: 1661-2585 (평일 10:00~17:30 / 토 일 공휴일 휴무\\u200b)  (점심시간: 12:00~13:00)\\u200b'],\n",
       " [\"'간편결제 서비스'는 결제 가능한 카드를 미리 등록한 후 결제 시 간단한 인증 또는 비밀번호 입력만으로쉽고 빠르게 결제할 수 있는 서비스입니다.본인 명의의 핸드폰과 카드로만 사용이 가능하며  결제 금액 제한은 없습니다.간편결제 서비스는 주문서 작성 하단의 결제수단에서 선택하여 사용하실 수 있습니다.\\xa0향후 지속적으로 간편결제 서비스를 추가 도입할 예정입니다.\\u200b\"],\n",
       " [\"카드결제 시 오류가 발생하는 경우  아래 항목을 참고해 주시기 바랍니다.\\xa01. 비밀번호 입력 오류: 비밀번호를 3회 이상 틀린 경우  카드사에 직접 문의2. 유효기간 입력 오류: 유효기간 월/년을 반대로 입력하지 않았는지 확인3. 재결제 시 카드 이용한도 초과: 한도가 초과되지 않은 다른 카드로 결제 진행4. 안전결제(ISP) 서비스 문제\\xa0 \\xa0- 해지한 카드의 안전결제 서비스 팝업 오류: 시작 > 검색에서 '*.vcard' 검색하여 나오는 모든 파일을 삭제\\xa0 \\xa0- 정상적으로 신청했으나 결제 불가능: 각 카드마다 각각의 ISP 신청\\xa0*카드결제 진행 중 지속적으로 오류가 발생할 경우  고객센터 대표전화 또는 1:1 문의로 상세내용을 알려주시면 확인 후 처리해드리겠습니다.- SHOWINDOW 고객센터: 1661-2585 (평일 10:00~17:30 / 토 일 공휴일 휴무\\u200b)  (점심시간: 12:00~13:00)\\u200b\"]]"
      ]
     },
     "execution_count": 27,
     "metadata": {},
     "output_type": "execute_result"
    }
   ],
   "source": [
    "product22"
   ]
  },
  {
   "cell_type": "code",
   "execution_count": 28,
   "metadata": {},
   "outputs": [],
   "source": [
    "order_quest=order_quest+product22"
   ]
  },
  {
   "cell_type": "code",
   "execution_count": 29,
   "metadata": {},
   "outputs": [
    {
     "data": {
      "text/plain": [
       "['구매한 상품에 대한 영수증을 받을 수 있나요?',\n",
       " '주문했는데 중복으로 결제됐어요',\n",
       " '인터넷 안전결제(ISP)가 무엇이며 어떻게 이용하나요?',\n",
       " '실시간 계좌이체는 어떻게 이용할 수 있나요?',\n",
       " '주문하고 계좌로 입금을 했는데 입금확인이 안 됩니다.',\n",
       " '간편결제 서비스는 어떻게 이용할 수 있나요?',\n",
       " '카드결제시 계속해서 오류가 나는데 어떻게 해야 하나요?',\n",
       " '안심클릭 계열 카드 결제창이 뜨지 않는데 어덯게 해야 하나요?',\n",
       " [\"\\xa0\\xa0\\xa0구매 영수증은 PC 웹사이트에서 '마이페이지 > My Shopping > 주문/배송조회 > 주문번호 주문상세보기' 클릭 후주문상세내역에서 하단에 위치한 '영수증 출력' 버튼을 클릭하시면 영수증을 확인 및 출력하실 수 있습니다.\\u200b\\xa0\"],\n",
       " ['주문하신 상품이 중복으로 결제되었을 경우  아래 내용을 확인하시고고객센터 대표전화 또는 1:1 문의로 상세내용을 알려주시면 확인 후 처리해드리겠습니다.\\xa0\\xa0※ 결제수단 별 확인 정보1) 신용카드 : 중복으로 결제된 승인번호(2개 모두)2) 간편결제 : 중복으로 결제된 승인번호(2개 모두)3) 실시간 계좌이체 : 입금날짜  은행명  이름  생년월일  입금금액\\xa0- SHOWINDOW 고객센터: 1661-2585 (평일 9:00~18:00 / 토 일 공휴일 휴무)  (점심시간: 12:00~13:00)\\u200b'],\n",
       " [\"인터넷 안전결제(ISP)는 BC/국민/우리카드 등으로 결제할 때  카드번호를 직접 입력하지 않고카드사에서 발급하는 가상의 비밀번호만으로 안전하게 거래하는 서비스입니다.\\xa0ISP 인증번호는 카드사 홈페이지 또는 결제 플러그인 창에서 등록 가능합니다.\\xa0*ISP가 정상적으로 작동되지 않을 때는 아래의 해결방법을 참고해 주시기 바랍니다.\\xa01. 'initialize fail' 또는 '플러그인 초기화' 메세지\\xa0 - ISP 프로그램 수동설치(http://www.vp.co.kr/) 후 다시 신청\\xa02. '인터넷 작동이 중지되었습니다.' 메세지\\xa0 - '내컴퓨터\\\\로컬디스크(C:)\\\\Windows\\\\system32' 폴더에서 'kcrypto.dll' 파일 삭제 후 다시 시도 \\u200b\\xa0\"],\n",
       " ['실시간 계좌이체란  고객님의 계좌에서 쑈윈도 등록 계좌로 이체하는 방식입니다.이체 가능한 시간은 은행별로 상이하며  일부 은행의 경우 수수료가 발생할 수 있습니다.또한  법인계좌로는 실시간 계좌이체를 이용할 수 없습니다. 이 점 유의해 주시기 바랍니다.\\u200b\\xa0실시간 계좌이체 주문 시 입금내역을 확인하기까지 최대 1시간 정도가 소요됩니다.입금하신 금액이 결제금액과 일치하지 않을 경우 결제완료 처리가 되지 않으므로 다시 한 번 확인해 주시기 바랍니다.정상적으로 입금을 완료한 후에도 계속 결제완료로 처리되지 않는 경우 고객센터 대표전화 또는 1:1문의로 상세내용을 알려주시면 확인 후 처리해드리겠습니다.\\xa0- SHOWINDOW 고객센터: 1661-2585 (평일 10:00~17:30 / 토 일 공휴일 휴무\\u200b)  (점심시간: 12:00~13:00)\\u200b\\xa0'],\n",
       " ['무통장 또는 실시간 계좌이체 주문 시 입금내역을 확인하기까지 최대 1시간 정도가 소요됩니다.입금하신 금액이 결제금액과 일치하지 않을 경우 결제완료 처리가 되지 않으므로 다시 한 번 확인해 주시기 바랍니다.정상적으로 입금을 완료한 후에도 계속 결제완료로 처리되지 않는 경우 고객센터 대표전화 또는 1:1 문의로 상세내용을 알려주시면 확인 후 처리해드리겠습니다.\\xa0- SHOWINDOW 고객센터: 1661-2585 (평일 10:00~17:30 / 토 일 공휴일 휴무\\u200b)  (점심시간: 12:00~13:00)\\u200b'],\n",
       " [\"'간편결제 서비스'는 결제 가능한 카드를 미리 등록한 후 결제 시 간단한 인증 또는 비밀번호 입력만으로쉽고 빠르게 결제할 수 있는 서비스입니다.본인 명의의 핸드폰과 카드로만 사용이 가능하며  결제 금액 제한은 없습니다.간편결제 서비스는 주문서 작성 하단의 결제수단에서 선택하여 사용하실 수 있습니다.\\xa0향후 지속적으로 간편결제 서비스를 추가 도입할 예정입니다.\\u200b\"],\n",
       " [\"카드결제 시 오류가 발생하는 경우  아래 항목을 참고해 주시기 바랍니다.\\xa01. 비밀번호 입력 오류: 비밀번호를 3회 이상 틀린 경우  카드사에 직접 문의2. 유효기간 입력 오류: 유효기간 월/년을 반대로 입력하지 않았는지 확인3. 재결제 시 카드 이용한도 초과: 한도가 초과되지 않은 다른 카드로 결제 진행4. 안전결제(ISP) 서비스 문제\\xa0 \\xa0- 해지한 카드의 안전결제 서비스 팝업 오류: 시작 > 검색에서 '*.vcard' 검색하여 나오는 모든 파일을 삭제\\xa0 \\xa0- 정상적으로 신청했으나 결제 불가능: 각 카드마다 각각의 ISP 신청\\xa0*카드결제 진행 중 지속적으로 오류가 발생할 경우  고객센터 대표전화 또는 1:1 문의로 상세내용을 알려주시면 확인 후 처리해드리겠습니다.- SHOWINDOW 고객센터: 1661-2585 (평일 10:00~17:30 / 토 일 공휴일 휴무\\u200b)  (점심시간: 12:00~13:00)\\u200b\"]]"
      ]
     },
     "execution_count": 29,
     "metadata": {},
     "output_type": "execute_result"
    }
   ],
   "source": [
    "order_quest"
   ]
  },
  {
   "cell_type": "code",
   "execution_count": 30,
   "metadata": {},
   "outputs": [
    {
     "data": {
      "text/html": [
       "<div>\n",
       "<style scoped>\n",
       "    .dataframe tbody tr th:only-of-type {\n",
       "        vertical-align: middle;\n",
       "    }\n",
       "\n",
       "    .dataframe tbody tr th {\n",
       "        vertical-align: top;\n",
       "    }\n",
       "\n",
       "    .dataframe thead th {\n",
       "        text-align: right;\n",
       "    }\n",
       "</style>\n",
       "<table border=\"1\" class=\"dataframe\">\n",
       "  <thead>\n",
       "    <tr style=\"text-align: right;\">\n",
       "      <th></th>\n",
       "      <th>제목</th>\n",
       "      <th>분류</th>\n",
       "    </tr>\n",
       "  </thead>\n",
       "  <tbody>\n",
       "    <tr>\n",
       "      <th>0</th>\n",
       "      <td>구매한 상품에 대한 영수증을 받을 수 있나요?</td>\n",
       "      <td>주문</td>\n",
       "    </tr>\n",
       "    <tr>\n",
       "      <th>1</th>\n",
       "      <td>주문했는데 중복으로 결제됐어요</td>\n",
       "      <td>주문</td>\n",
       "    </tr>\n",
       "    <tr>\n",
       "      <th>2</th>\n",
       "      <td>인터넷 안전결제(ISP)가 무엇이며 어떻게 이용하나요?</td>\n",
       "      <td>주문</td>\n",
       "    </tr>\n",
       "    <tr>\n",
       "      <th>3</th>\n",
       "      <td>실시간 계좌이체는 어떻게 이용할 수 있나요?</td>\n",
       "      <td>주문</td>\n",
       "    </tr>\n",
       "    <tr>\n",
       "      <th>4</th>\n",
       "      <td>주문하고 계좌로 입금을 했는데 입금확인이 안 됩니다.</td>\n",
       "      <td>주문</td>\n",
       "    </tr>\n",
       "    <tr>\n",
       "      <th>5</th>\n",
       "      <td>간편결제 서비스는 어떻게 이용할 수 있나요?</td>\n",
       "      <td>주문</td>\n",
       "    </tr>\n",
       "    <tr>\n",
       "      <th>6</th>\n",
       "      <td>카드결제시 계속해서 오류가 나는데 어떻게 해야 하나요?</td>\n",
       "      <td>주문</td>\n",
       "    </tr>\n",
       "    <tr>\n",
       "      <th>7</th>\n",
       "      <td>안심클릭 계열 카드 결제창이 뜨지 않는데 어덯게 해야 하나요?</td>\n",
       "      <td>주문</td>\n",
       "    </tr>\n",
       "    <tr>\n",
       "      <th>8</th>\n",
       "      <td>[   구매 영수증은 PC 웹사이트에서 '마이페이지 &gt; My Shopping &gt; 주...</td>\n",
       "      <td>주문</td>\n",
       "    </tr>\n",
       "    <tr>\n",
       "      <th>9</th>\n",
       "      <td>[주문하신 상품이 중복으로 결제되었을 경우  아래 내용을 확인하시고고객센터 대표전화...</td>\n",
       "      <td>주문</td>\n",
       "    </tr>\n",
       "    <tr>\n",
       "      <th>10</th>\n",
       "      <td>[인터넷 안전결제(ISP)는 BC/국민/우리카드 등으로 결제할 때  카드번호를 직접...</td>\n",
       "      <td>주문</td>\n",
       "    </tr>\n",
       "    <tr>\n",
       "      <th>11</th>\n",
       "      <td>[실시간 계좌이체란  고객님의 계좌에서 쑈윈도 등록 계좌로 이체하는 방식입니다.이체...</td>\n",
       "      <td>주문</td>\n",
       "    </tr>\n",
       "    <tr>\n",
       "      <th>12</th>\n",
       "      <td>[무통장 또는 실시간 계좌이체 주문 시 입금내역을 확인하기까지 최대 1시간 정도가 ...</td>\n",
       "      <td>주문</td>\n",
       "    </tr>\n",
       "    <tr>\n",
       "      <th>13</th>\n",
       "      <td>['간편결제 서비스'는 결제 가능한 카드를 미리 등록한 후 결제 시 간단한 인증 또...</td>\n",
       "      <td>주문</td>\n",
       "    </tr>\n",
       "    <tr>\n",
       "      <th>14</th>\n",
       "      <td>[카드결제 시 오류가 발생하는 경우  아래 항목을 참고해 주시기 바랍니다. 1. 비...</td>\n",
       "      <td>주문</td>\n",
       "    </tr>\n",
       "  </tbody>\n",
       "</table>\n",
       "</div>"
      ],
      "text/plain": [
       "                                                   제목  분류\n",
       "0                           구매한 상품에 대한 영수증을 받을 수 있나요?  주문\n",
       "1                                    주문했는데 중복으로 결제됐어요  주문\n",
       "2                      인터넷 안전결제(ISP)가 무엇이며 어떻게 이용하나요?  주문\n",
       "3                            실시간 계좌이체는 어떻게 이용할 수 있나요?  주문\n",
       "4                       주문하고 계좌로 입금을 했는데 입금확인이 안 됩니다.  주문\n",
       "5                            간편결제 서비스는 어떻게 이용할 수 있나요?  주문\n",
       "6                      카드결제시 계속해서 오류가 나는데 어떻게 해야 하나요?  주문\n",
       "7                  안심클릭 계열 카드 결제창이 뜨지 않는데 어덯게 해야 하나요?  주문\n",
       "8   [   구매 영수증은 PC 웹사이트에서 '마이페이지 > My Shopping > 주...  주문\n",
       "9   [주문하신 상품이 중복으로 결제되었을 경우  아래 내용을 확인하시고고객센터 대표전화...  주문\n",
       "10  [인터넷 안전결제(ISP)는 BC/국민/우리카드 등으로 결제할 때  카드번호를 직접...  주문\n",
       "11  [실시간 계좌이체란  고객님의 계좌에서 쑈윈도 등록 계좌로 이체하는 방식입니다.이체...  주문\n",
       "12  [무통장 또는 실시간 계좌이체 주문 시 입금내역을 확인하기까지 최대 1시간 정도가 ...  주문\n",
       "13  ['간편결제 서비스'는 결제 가능한 카드를 미리 등록한 후 결제 시 간단한 인증 또...  주문\n",
       "14  [카드결제 시 오류가 발생하는 경우  아래 항목을 참고해 주시기 바랍니다. 1. 비...  주문"
      ]
     },
     "execution_count": 30,
     "metadata": {},
     "output_type": "execute_result"
    }
   ],
   "source": [
    "# 데이터프레임으로 보기\n",
    "cs_review= pd.DataFrame({'제목' :order_quest,\n",
    "                       '분류' : \"주문\"\n",
    "                       })\n",
    "cs_review"
   ]
  },
  {
   "cell_type": "markdown",
   "metadata": {},
   "source": [
    "## 배송"
   ]
  },
  {
   "cell_type": "code",
   "execution_count": 31,
   "metadata": {},
   "outputs": [],
   "source": [
    "delivery = driver.find_element_by_css_selector(\"#tab1 > div.stab_wrap.faq_stab > ul > li.on > a\")\n",
    "delivery.send_keys(Keys.RETURN)"
   ]
  },
  {
   "cell_type": "code",
   "execution_count": 32,
   "metadata": {},
   "outputs": [],
   "source": [
    "html=driver.page_source"
   ]
  },
  {
   "cell_type": "code",
   "execution_count": 33,
   "metadata": {},
   "outputs": [],
   "source": [
    "html_doc=BeautifulSoup(html,\"html.parser\")"
   ]
  },
  {
   "cell_type": "code",
   "execution_count": 34,
   "metadata": {},
   "outputs": [],
   "source": [
    "delivery_question=html_doc.select(\"#tab1 > div.stab_wrap.faq_stab > div > div > ul > li> a\")\n",
    "delivery_quest=confirm_text(delivery_question)"
   ]
  },
  {
   "cell_type": "code",
   "execution_count": 35,
   "metadata": {
    "scrolled": false
   },
   "outputs": [
    {
     "data": {
      "text/plain": [
       "['매장픽업 주문의 픽업매장을 변경할 수 있나요?',\n",
       " '매장픽업으로 주문 후 품절 안내를 받았는데 어떻게 해야 하나요?',\n",
       " '일반배송 상품을 매장픽업으로 변경할 수 있나요?',\n",
       " '매장픽업 주문 완료했는데 상품 준비완료 문자가 오지 않습니다.',\n",
       " '매장픽업 서비스는 어떠게 이용할 수 있나요?',\n",
       " '배송완료 상태인데 상품을 받지 못했으면 어떻게 해야하나요?',\n",
       " '송장번호가 배송 조회되지 않아요.',\n",
       " '해외 배송도 가능한가요?']"
      ]
     },
     "execution_count": 35,
     "metadata": {},
     "output_type": "execute_result"
    }
   ],
   "source": [
    "delivery_quest"
   ]
  },
  {
   "cell_type": "code",
   "execution_count": 36,
   "metadata": {},
   "outputs": [
    {
     "name": "stdout",
     "output_type": "stream",
     "text": [
      "8\n"
     ]
    }
   ],
   "source": [
    "delivery22=answer_confirm()"
   ]
  },
  {
   "cell_type": "code",
   "execution_count": 37,
   "metadata": {},
   "outputs": [],
   "source": [
    "delivery_quest=delivery22+delivery_quest[1:]"
   ]
  },
  {
   "cell_type": "code",
   "execution_count": 38,
   "metadata": {},
   "outputs": [
    {
     "data": {
      "text/html": [
       "<div>\n",
       "<style scoped>\n",
       "    .dataframe tbody tr th:only-of-type {\n",
       "        vertical-align: middle;\n",
       "    }\n",
       "\n",
       "    .dataframe tbody tr th {\n",
       "        vertical-align: top;\n",
       "    }\n",
       "\n",
       "    .dataframe thead th {\n",
       "        text-align: right;\n",
       "    }\n",
       "</style>\n",
       "<table border=\"1\" class=\"dataframe\">\n",
       "  <thead>\n",
       "    <tr style=\"text-align: right;\">\n",
       "      <th></th>\n",
       "      <th>제목</th>\n",
       "      <th>분류</th>\n",
       "    </tr>\n",
       "  </thead>\n",
       "  <tbody>\n",
       "    <tr>\n",
       "      <th>0</th>\n",
       "      <td>[픽업주문건은 주문 시 최초 지정한 픽업매장 외 타 매장으로는 변경할 수 없습니다....</td>\n",
       "      <td>배송</td>\n",
       "    </tr>\n",
       "    <tr>\n",
       "      <th>1</th>\n",
       "      <td>[매장 내 재고 상황 또는 상품 상태에 따라 매장픽업 후 부득이하게 품절이 발생할 ...</td>\n",
       "      <td>배송</td>\n",
       "    </tr>\n",
       "    <tr>\n",
       "      <th>2</th>\n",
       "      <td>[일반배송으로 주문하신 상품은 매장픽업으로 변경할 수 없습니다.변경을 원하시는 경우...</td>\n",
       "      <td>배송</td>\n",
       "    </tr>\n",
       "    <tr>\n",
       "      <th>3</th>\n",
       "      <td>[매장픽업 주문 시 상품 준비완료 알림톡은 픽업일자 이전에 발송됩니다.단  매장 상...</td>\n",
       "      <td>배송</td>\n",
       "    </tr>\n",
       "    <tr>\n",
       "      <th>4</th>\n",
       "      <td>[SHOWINDOW 매장픽업 서비스에 대해 안내 드리겠습니다.매장픽업 서비스는 온라...</td>\n",
       "      <td>배송</td>\n",
       "    </tr>\n",
       "    <tr>\n",
       "      <th>5</th>\n",
       "      <td>[배송 완료 상태이나 상품을 수령하지 못하신 경우는 아래 내용을 참고 부탁드립니다....</td>\n",
       "      <td>배송</td>\n",
       "    </tr>\n",
       "    <tr>\n",
       "      <th>6</th>\n",
       "      <td>[주문하신 제품은 실시간으로 바코드  전산작업을 통해서 배송 처리가 이루어지며 작업...</td>\n",
       "      <td>배송</td>\n",
       "    </tr>\n",
       "    <tr>\n",
       "      <th>7</th>\n",
       "      <td>매장픽업으로 주문 후 품절 안내를 받았는데 어떻게 해야 하나요?</td>\n",
       "      <td>배송</td>\n",
       "    </tr>\n",
       "    <tr>\n",
       "      <th>8</th>\n",
       "      <td>일반배송 상품을 매장픽업으로 변경할 수 있나요?</td>\n",
       "      <td>배송</td>\n",
       "    </tr>\n",
       "    <tr>\n",
       "      <th>9</th>\n",
       "      <td>매장픽업 주문 완료했는데 상품 준비완료 문자가 오지 않습니다.</td>\n",
       "      <td>배송</td>\n",
       "    </tr>\n",
       "    <tr>\n",
       "      <th>10</th>\n",
       "      <td>매장픽업 서비스는 어떠게 이용할 수 있나요?</td>\n",
       "      <td>배송</td>\n",
       "    </tr>\n",
       "    <tr>\n",
       "      <th>11</th>\n",
       "      <td>배송완료 상태인데 상품을 받지 못했으면 어떻게 해야하나요?</td>\n",
       "      <td>배송</td>\n",
       "    </tr>\n",
       "    <tr>\n",
       "      <th>12</th>\n",
       "      <td>송장번호가 배송 조회되지 않아요.</td>\n",
       "      <td>배송</td>\n",
       "    </tr>\n",
       "    <tr>\n",
       "      <th>13</th>\n",
       "      <td>해외 배송도 가능한가요?</td>\n",
       "      <td>배송</td>\n",
       "    </tr>\n",
       "  </tbody>\n",
       "</table>\n",
       "</div>"
      ],
      "text/plain": [
       "                                                   제목  분류\n",
       "0   [픽업주문건은 주문 시 최초 지정한 픽업매장 외 타 매장으로는 변경할 수 없습니다....  배송\n",
       "1   [매장 내 재고 상황 또는 상품 상태에 따라 매장픽업 후 부득이하게 품절이 발생할 ...  배송\n",
       "2   [일반배송으로 주문하신 상품은 매장픽업으로 변경할 수 없습니다.변경을 원하시는 경우...  배송\n",
       "3   [매장픽업 주문 시 상품 준비완료 알림톡은 픽업일자 이전에 발송됩니다.단  매장 상...  배송\n",
       "4   [SHOWINDOW 매장픽업 서비스에 대해 안내 드리겠습니다.매장픽업 서비스는 온라...  배송\n",
       "5   [배송 완료 상태이나 상품을 수령하지 못하신 경우는 아래 내용을 참고 부탁드립니다....  배송\n",
       "6   [주문하신 제품은 실시간으로 바코드  전산작업을 통해서 배송 처리가 이루어지며 작업...  배송\n",
       "7                 매장픽업으로 주문 후 품절 안내를 받았는데 어떻게 해야 하나요?  배송\n",
       "8                          일반배송 상품을 매장픽업으로 변경할 수 있나요?  배송\n",
       "9                  매장픽업 주문 완료했는데 상품 준비완료 문자가 오지 않습니다.  배송\n",
       "10                           매장픽업 서비스는 어떠게 이용할 수 있나요?  배송\n",
       "11                   배송완료 상태인데 상품을 받지 못했으면 어떻게 해야하나요?  배송\n",
       "12                                 송장번호가 배송 조회되지 않아요.  배송\n",
       "13                                      해외 배송도 가능한가요?  배송"
      ]
     },
     "execution_count": 38,
     "metadata": {},
     "output_type": "execute_result"
    }
   ],
   "source": [
    "# 데이터프레임으로 보기\n",
    "cs_deli= pd.DataFrame({'제목' :delivery_quest,\n",
    "                       '분류' : \"배송\"\n",
    "                       })\n",
    "cs_deli"
   ]
  },
  {
   "cell_type": "markdown",
   "metadata": {},
   "source": [
    "## 상품관련"
   ]
  },
  {
   "cell_type": "markdown",
   "metadata": {},
   "source": [
    "##### 상품관련"
   ]
  },
  {
   "cell_type": "code",
   "execution_count": 39,
   "metadata": {},
   "outputs": [],
   "source": [
    "product = driver.find_element_by_css_selector(\"#tab1 > div.stab_wrap.faq_stab > ul > li:nth-child(5) > a\")\n",
    "product.send_keys(Keys.RETURN)"
   ]
  },
  {
   "cell_type": "code",
   "execution_count": 40,
   "metadata": {},
   "outputs": [],
   "source": [
    "html=driver.page_source"
   ]
  },
  {
   "cell_type": "code",
   "execution_count": 41,
   "metadata": {},
   "outputs": [],
   "source": [
    "html_doc=BeautifulSoup(html,\"html.parser\")"
   ]
  },
  {
   "cell_type": "code",
   "execution_count": 42,
   "metadata": {},
   "outputs": [],
   "source": [
    "product_question=html_doc.select(\"#tab1 > div.stab_wrap.faq_stab > div > div > ul > li> a\")\n",
    "product_quest=confirm_text(product_question)"
   ]
  },
  {
   "cell_type": "code",
   "execution_count": 43,
   "metadata": {
    "scrolled": false
   },
   "outputs": [
    {
     "data": {
      "text/plain": [
       "['주문한 상품의 재고가 없어 취소되었어요.',\n",
       " '반품을 하기로 한 제품을 아직 택배가 가져가지 않았어요.',\n",
       " '반송 방법과 주의 사항에 대해 알려 주세요.',\n",
       " '주문 제작한 제품도 반품할 수 있나요?',\n",
       " '온라인 주문상품을 오프라인 매장에서 교환/반품할 수 있나요?',\n",
       " '아예 다른 상품으로는 교환이 불가능 한가요?',\n",
       " '교환 반품 접수를 취소하고 싶은데 홈페이지에서 철회 가능한가요?',\n",
       " '교환 반품 접수를 하지 않고 물건을 보냈는데 처리가 어떻게 되나요?']"
      ]
     },
     "execution_count": 43,
     "metadata": {},
     "output_type": "execute_result"
    }
   ],
   "source": [
    "product_quest"
   ]
  },
  {
   "cell_type": "code",
   "execution_count": 44,
   "metadata": {},
   "outputs": [
    {
     "name": "stdout",
     "output_type": "stream",
     "text": [
      "8\n"
     ]
    }
   ],
   "source": [
    "pp2=answer_confirm()"
   ]
  },
  {
   "cell_type": "code",
   "execution_count": 45,
   "metadata": {},
   "outputs": [
    {
     "data": {
      "text/plain": [
       "[['SHOWINDOW에서 구매하신 상품은 매장에서 동시에 판매되는 상품이므로 주문 이후에 품절이 발생할 수 있습니다.최대한 받아보실 수 있도록 재고 확보하여 발송해 드리고 있으나 부득이하게 품절 취소 시 양해 말씀드립니다.\\xa0추가로 궁금하신 사항은 고객센터 대표전화 또는 1:1 문의로 상세 내용을 알려주시면 확인 후 처리해드리겠습니다.\\xa0- SHOWINDOW 고객센터: 1661-2585 (평일 10:00~17:30 / 토 일 공휴일 휴무)  (점심시간: 12:00~13:00)\\u200b\\u200b\\xa0'],\n",
       " ['반품 신청을 하신 제품을 아직 택배사에서 회수하지 않았다면 고객님께서 직접 배송이 된 택배사로 연락하셔서회수 예약을 다시 해주시기 바랍니다.도착 기한은 반품 접수일로부터 7일이며  회수 지연으로 인해서 기한내에 도착하지 못할 경우에는고객센터 대표번호 또는 1:1문의로 사유를 남겨주시기 바랍니다.\\xa0- 택배사에서 수거 방문하지 않으면 꼭 한진택배(1588-0011)를 이용하여 직접상품을 발송하여 주십시오- 반품배송지 주소: 경기도 용인시 기흥구 고매동 451-3 한진택배 흥덕대리점 (주)신원 TEL : 1661-2585\\u200b\\xa0'],\n",
       " ['반송 절차는 아래 반송 방법에 따라 상이합니다.\\xa0\\xa01. 자동 회수\\xa0- 택배기사와 지속 연락이 닿지 않을경우  반송철회 의사로 인지하여\\xa0\\xa0 \\xa0회수 취소처리 될 수 있으니 꼭 수신 및 일정 조율 요청드립니다.\\xa02. 직접 반송\\xa0- 원송장 번호를 통한 착불 반송이 취소된 경우  고객님께서 직접 택배사 상담원과 유선을 통해서만 재접수가 가능합니다.\\xa0- 상품 반송 후 반송장 번호는 환불 시점까지 필히 소지하시기 바랍니다.\\xa03. 상품반송 시 주의사항\\xa0- 택제거  포장박스훼손  구성품 누락  사용흔적이 있을 경우 기타 추가 비용 발생 및 재반송될 수 있습니다.\\xa0- 도서산간 지역 등 일부 지역에 따라 추가 반송 금액이 발생될 수 있습니다.\\xa0- 택배비 미입금  타상품 반입 등이 있을 경우 환불이 지연될 수 있습니다.\\xa0- 경비실 등 제3의 장소에 물품을 보관하여 분실  도난 등 문제 발생하는 경우 고객 귀책 사유에 해당하오니 반송 시 유의하시기 바랍니다.\\xa0택배사 정책 및 사정에 따른 문제는 SHOWINDOW 와는 무관하오니 택배사로 컨택하여 확인부탁드립니다.\\u200b'],\n",
       " ['고객님의 요청에 의해 주문 제작된 제품(굽 높이  사이즈 등 변경)에 대해서는 교환이나 반품이 불가능합니다.따라서 주문 제작 의뢰 시 신중하게 주문해 주시기 바랍니다.주문 제작에 대해 추가로 궁금하신 사항은 고객센터 대표전화 또는 1:1 문의로 상세내용을 알려주시면 확인 후 처리해드리겠습니다.\\xa0- SHOWINDOW 고객센터: 1661-2585 (평일 10:00~17:30 / 토 일 공휴일 휴무)  (점심시간: 12:00~13:00)\\u200b\\xa0'],\n",
       " ['온라인 주문상품의 교환/반품은 온라인몰에서만 가능합니다.반품 시 환불은 온라인몰에서 진행되므로 매장에서 직접 환불금액을 받아가는 것은 불가능합니다.\\xa0매장픽업 주문상품의 교환/반품을 원하시는 경우 온라인몰에서 접수 부탁드리겠습니다.감사합니다.\\xa0'],\n",
       " ['교환은 구입하신 상품과 동일한 상품 및 색상의 사이즈로는 가능하지만  같은 금액일지라도 다른 상품으로는 불가능합니다.부득이하게 교환을 원하시는 경우 기존 주문을 취소 또는 반품하신 후 새로 주문해 주시기 바랍니다.\\xa0고객님의 양해 부탁드립니다.\\u200b\\xa0'],\n",
       " ['교환/반품 신청이 접수된 이후에는 홈페이지에서 직접 철회가 불가능합니다.철회를 원하시는 경우 고객센터 또는 1:1 문의를 통해 요청해주시면 확인 후 처리해드리겠습니다.\\xa0- SHOWINDOW 고객센터: 1661-2585 (평일 10:00~17:30 / 토 일 공휴일 휴무)  (점심시간: 12:00~13:00)\\u200b\\xa0']]"
      ]
     },
     "execution_count": 45,
     "metadata": {},
     "output_type": "execute_result"
    }
   ],
   "source": [
    "pp2"
   ]
  },
  {
   "cell_type": "code",
   "execution_count": 46,
   "metadata": {},
   "outputs": [],
   "source": [
    "product_quest=product_quest+pp2"
   ]
  },
  {
   "cell_type": "code",
   "execution_count": 47,
   "metadata": {},
   "outputs": [
    {
     "data": {
      "text/html": [
       "<div>\n",
       "<style scoped>\n",
       "    .dataframe tbody tr th:only-of-type {\n",
       "        vertical-align: middle;\n",
       "    }\n",
       "\n",
       "    .dataframe tbody tr th {\n",
       "        vertical-align: top;\n",
       "    }\n",
       "\n",
       "    .dataframe thead th {\n",
       "        text-align: right;\n",
       "    }\n",
       "</style>\n",
       "<table border=\"1\" class=\"dataframe\">\n",
       "  <thead>\n",
       "    <tr style=\"text-align: right;\">\n",
       "      <th></th>\n",
       "      <th>제목</th>\n",
       "      <th>분류</th>\n",
       "    </tr>\n",
       "  </thead>\n",
       "  <tbody>\n",
       "    <tr>\n",
       "      <th>0</th>\n",
       "      <td>주문한 상품의 재고가 없어 취소되었어요.</td>\n",
       "      <td>상품관련</td>\n",
       "    </tr>\n",
       "    <tr>\n",
       "      <th>1</th>\n",
       "      <td>반품을 하기로 한 제품을 아직 택배가 가져가지 않았어요.</td>\n",
       "      <td>상품관련</td>\n",
       "    </tr>\n",
       "    <tr>\n",
       "      <th>2</th>\n",
       "      <td>반송 방법과 주의 사항에 대해 알려 주세요.</td>\n",
       "      <td>상품관련</td>\n",
       "    </tr>\n",
       "    <tr>\n",
       "      <th>3</th>\n",
       "      <td>주문 제작한 제품도 반품할 수 있나요?</td>\n",
       "      <td>상품관련</td>\n",
       "    </tr>\n",
       "    <tr>\n",
       "      <th>4</th>\n",
       "      <td>온라인 주문상품을 오프라인 매장에서 교환/반품할 수 있나요?</td>\n",
       "      <td>상품관련</td>\n",
       "    </tr>\n",
       "    <tr>\n",
       "      <th>5</th>\n",
       "      <td>아예 다른 상품으로는 교환이 불가능 한가요?</td>\n",
       "      <td>상품관련</td>\n",
       "    </tr>\n",
       "    <tr>\n",
       "      <th>6</th>\n",
       "      <td>교환 반품 접수를 취소하고 싶은데 홈페이지에서 철회 가능한가요?</td>\n",
       "      <td>상품관련</td>\n",
       "    </tr>\n",
       "    <tr>\n",
       "      <th>7</th>\n",
       "      <td>교환 반품 접수를 하지 않고 물건을 보냈는데 처리가 어떻게 되나요?</td>\n",
       "      <td>상품관련</td>\n",
       "    </tr>\n",
       "    <tr>\n",
       "      <th>8</th>\n",
       "      <td>[SHOWINDOW에서 구매하신 상품은 매장에서 동시에 판매되는 상품이므로 주문 이...</td>\n",
       "      <td>상품관련</td>\n",
       "    </tr>\n",
       "    <tr>\n",
       "      <th>9</th>\n",
       "      <td>[반품 신청을 하신 제품을 아직 택배사에서 회수하지 않았다면 고객님께서 직접 배송이...</td>\n",
       "      <td>상품관련</td>\n",
       "    </tr>\n",
       "    <tr>\n",
       "      <th>10</th>\n",
       "      <td>[반송 절차는 아래 반송 방법에 따라 상이합니다.  1. 자동 회수 - 택배기사와 ...</td>\n",
       "      <td>상품관련</td>\n",
       "    </tr>\n",
       "    <tr>\n",
       "      <th>11</th>\n",
       "      <td>[고객님의 요청에 의해 주문 제작된 제품(굽 높이  사이즈 등 변경)에 대해서는 교...</td>\n",
       "      <td>상품관련</td>\n",
       "    </tr>\n",
       "    <tr>\n",
       "      <th>12</th>\n",
       "      <td>[온라인 주문상품의 교환/반품은 온라인몰에서만 가능합니다.반품 시 환불은 온라인몰에...</td>\n",
       "      <td>상품관련</td>\n",
       "    </tr>\n",
       "    <tr>\n",
       "      <th>13</th>\n",
       "      <td>[교환은 구입하신 상품과 동일한 상품 및 색상의 사이즈로는 가능하지만  같은 금액일...</td>\n",
       "      <td>상품관련</td>\n",
       "    </tr>\n",
       "    <tr>\n",
       "      <th>14</th>\n",
       "      <td>[교환/반품 신청이 접수된 이후에는 홈페이지에서 직접 철회가 불가능합니다.철회를 원...</td>\n",
       "      <td>상품관련</td>\n",
       "    </tr>\n",
       "  </tbody>\n",
       "</table>\n",
       "</div>"
      ],
      "text/plain": [
       "                                                   제목    분류\n",
       "0                              주문한 상품의 재고가 없어 취소되었어요.  상품관련\n",
       "1                     반품을 하기로 한 제품을 아직 택배가 가져가지 않았어요.  상품관련\n",
       "2                            반송 방법과 주의 사항에 대해 알려 주세요.  상품관련\n",
       "3                               주문 제작한 제품도 반품할 수 있나요?  상품관련\n",
       "4                   온라인 주문상품을 오프라인 매장에서 교환/반품할 수 있나요?  상품관련\n",
       "5                            아예 다른 상품으로는 교환이 불가능 한가요?  상품관련\n",
       "6                 교환 반품 접수를 취소하고 싶은데 홈페이지에서 철회 가능한가요?  상품관련\n",
       "7               교환 반품 접수를 하지 않고 물건을 보냈는데 처리가 어떻게 되나요?  상품관련\n",
       "8   [SHOWINDOW에서 구매하신 상품은 매장에서 동시에 판매되는 상품이므로 주문 이...  상품관련\n",
       "9   [반품 신청을 하신 제품을 아직 택배사에서 회수하지 않았다면 고객님께서 직접 배송이...  상품관련\n",
       "10  [반송 절차는 아래 반송 방법에 따라 상이합니다.  1. 자동 회수 - 택배기사와 ...  상품관련\n",
       "11  [고객님의 요청에 의해 주문 제작된 제품(굽 높이  사이즈 등 변경)에 대해서는 교...  상품관련\n",
       "12  [온라인 주문상품의 교환/반품은 온라인몰에서만 가능합니다.반품 시 환불은 온라인몰에...  상품관련\n",
       "13  [교환은 구입하신 상품과 동일한 상품 및 색상의 사이즈로는 가능하지만  같은 금액일...  상품관련\n",
       "14  [교환/반품 신청이 접수된 이후에는 홈페이지에서 직접 철회가 불가능합니다.철회를 원...  상품관련"
      ]
     },
     "execution_count": 47,
     "metadata": {},
     "output_type": "execute_result"
    }
   ],
   "source": [
    "# 데이터프레임으로 보기\n",
    "cs_pro= pd.DataFrame({'제목' :product_quest,\n",
    "                       '분류' : \"상품관련\"\n",
    "                       })\n",
    "cs_pro"
   ]
  },
  {
   "cell_type": "markdown",
   "metadata": {},
   "source": [
    "### 회원관련"
   ]
  },
  {
   "cell_type": "code",
   "execution_count": 48,
   "metadata": {},
   "outputs": [],
   "source": [
    "user = driver.find_element_by_css_selector(\"#tab1 > div.stab_wrap.faq_stab > ul > li:nth-child(6) > a\")\n",
    "user.send_keys(Keys.RETURN)"
   ]
  },
  {
   "cell_type": "code",
   "execution_count": 49,
   "metadata": {},
   "outputs": [],
   "source": [
    "html=driver.page_source"
   ]
  },
  {
   "cell_type": "code",
   "execution_count": 50,
   "metadata": {},
   "outputs": [],
   "source": [
    "html_doc=BeautifulSoup(html,\"html.parser\")"
   ]
  },
  {
   "cell_type": "code",
   "execution_count": 51,
   "metadata": {},
   "outputs": [],
   "source": [
    "user_question=html_doc.select(\"#tab1 > div.stab_wrap.faq_stab > div > div > ul > li> a\")\n",
    "user_quest=confirm_text(user_question)"
   ]
  },
  {
   "cell_type": "code",
   "execution_count": 52,
   "metadata": {},
   "outputs": [
    {
     "data": {
      "text/plain": [
       "['회원에게 주어지는 혜택은 무엇인가요?',\n",
       " '휴면고객으로 변경되는 기준은 무엇인가요?',\n",
       " '탈퇴 후 재가입할 수 있나요?',\n",
       " '아이디/비밀번호가 기억나지 않습니다.',\n",
       " '임시 비밀번호를 발급 요청하였는데 계속 오지 않습니다.',\n",
       " '회원 탈퇴는 어떻게 하나요?',\n",
       " '회원 정보 변경은 어떻게 하나요?',\n",
       " '회원 아이디와 비밀번호를 변경할 수 있나요?']"
      ]
     },
     "execution_count": 52,
     "metadata": {},
     "output_type": "execute_result"
    }
   ],
   "source": [
    "user_quest"
   ]
  },
  {
   "cell_type": "code",
   "execution_count": 53,
   "metadata": {},
   "outputs": [
    {
     "name": "stdout",
     "output_type": "stream",
     "text": [
      "8\n"
     ]
    }
   ],
   "source": [
    "use22=answer_confirm()"
   ]
  },
  {
   "cell_type": "code",
   "execution_count": 54,
   "metadata": {},
   "outputs": [
    {
     "data": {
      "text/plain": [
       "[[\"SHOWINDOW 회원이 되시면 '마이페이지 > 등급별혜택'에 회원등급 혜택이 있습니다.LV1 신규가입 혜택부터 LV6까지 등급이 있으며 각 등급별로 혜택이 제공됩니다.\\u200b\\xa0\\xa0SHOWINDOW 신규회원으로 가입하시는 고객님들을 위해 매월 다양한 할인 및 적립 혜택을 제공하고 있습니다.이 밖에도 추가 혜택은 아래와 같습니다.\\xa0- 구매 금액에 따른 구매 포인트 적립\\xa0- 무이자 할부 (카드사별 조건 참조)\\xa0- 월별 다양한 브랜드/상품 특가 및 쿠폰 할인\\xa0- 자사 브랜드 매장 PICK-UP 서비스 이용가능 (대상상품  상품 상세페이지 내에서 매장픽업 버튼 확인 가능/입점상품 제외)\\xa0보다 자세한 사항은 각 온라인몰 (이벤트 카테고리)에서 확인하실 수 있으며본 내용은 회사의 사정에 따라 사전 고지 없이 변경 될 수 있습니다.\\xa0감사합니다.\\xa0\"],\n",
       " ['「정보통신망 이용촉진 및 정보보호 등에 관한 법률」 제29조 제2항에 따라 신원의 SHOWINDOW를 1년 동안 사용하지 않은 고객은휴면고객으로 자동 전환됩니다.휴면고객 전환은 로그인 기록을 기준으로 이루어지며  전환 즉시 회원 개인정보는 파기되며 회원자격이 상실됩니다.SHOWINDOW를 다시 이용하기 위해서는 로그인 후 안내되는 절차에 따라 휴면해제 절차를 진행해 주시기 바랍니다.\\u200b\\xa0\\xa0- SHOWINDOW 고객센터: 1661-2585 (평일 9:00~18:00 / 토 일 공휴일 휴무)  (점심시간: 12:00~13:00)\\u200b\\xa0'],\n",
       " ['일반적으로 회원 탈퇴 후 30일이 지나면 재가입이 가능하며  강제로 탈퇴된 회원의 경우에는 심사 후 재가입 가능 여부가 결정됩니다.회원 탈퇴 후 재가입시 신규 회원가입에 따른 혜택은 받을 수 없으며  기존에 가입한 아이디는 다시 사용할 수 없습니다.\\xa0또한  회원 탈퇴 전 보유하고 있던 포인트 쑈마일  쿠폰  회원정보  거래정보 등은 복원되거나 이관되지 않습니다.이 점 유의해주시기 바랍니다.\\xa0- SHOWINDOW 고객센터: 1661-2585 (평일 10:00~17:30\\u200b / 토 일 공휴일 휴무)  (점심시간: 12:00~13:00)\\u200b\\xa0'],\n",
       " ['아이디/비밀번호 찾으시는 방법은 다음과 같습니다.\\xa0-아이디 찾기-1. SHOWINDOW 상단 로그인 버튼 클릭2. 회원 로그인란의 아이디/비밀번호 찾기 클릭3. 아이디 찾기 탭 클릭하고 휴대폰 본인인증 후 아이디 찾기 가능4. 아이디 찾고 로그인\\xa0-비밀번호 찾기-\\u200b1. SHOWINDOW 상단 로그인 버튼 클릭2. 회원 로그인란의 아이디/비밀번호 찾기 클릭3. 비밀번호 찾기 탭 클릭하고 아이디 입력 후 휴대폰 본인인증4. 새로운 비밀번호 입력 후 변경한뒤 로그인* 위 방법으로도 해결되지 않을 경우  고객센터 대표전화 혹은 1:1문의로 문의하시면 본인 확인 후 임시 비밀번호를 발급해드립니다.*간편 로그인 회원은 비밀번호 찾기가 불가능 합니다.\\xa0- SHOWINDOW 고객센터: 1661-2585 (평일 10:00~17:30 / 토 일 공휴일 휴무)  (점심시간: 12:00~13:00)\\xa0\\xa0'],\n",
       " ['발송된 임시 비밀번호가 스팸 처리되어 확인되지 않을 수 있습니다.카카오톡 채널 및 문자 수신차단 여부를 확인 부탁드리며  위 방법으로도 확인이 어려울 경우\\xa0고객센터 대표전화 혹은 1:1문의로 문의하시면 본인 확인 후 임시 비밀번호를 발급 해드리겠습니다.\\xa0- SHOWINDOW 고객센터: 1661-2585 (평일 10:00~17:30\\u200b / 토 일 공휴일 휴무)  (점심시간: 12:00~13:00)\\u200b\\xa0'],\n",
       " ['회원 탈퇴 방법의 경우 다음과 같습니다.\\xa01. SHOWINDOW 상단 로그인 버튼 클릭하여 로그인2. 마이페이지 > My Shopping > 회원탈퇴 클릭3. 휴대폰 본인인증 후 소멸예정 포인트 쑈마일 및 쿠폰 확인한 뒤 탈퇴 사유 입력하고 탈퇴\\xa0* 처리 기간이 일주일 정도 소요될 수 있으며  해당 기간 동안 홍보성 메일  알림톡(SMS/예약발송) 등이 발송될 수 있습니다.* 탈퇴 시 보유하고 있는 포인트  쑈마일 및 쿠폰은 자동 소멸 됩니다.* 회원 탈퇴 후 SHOWINDOW에 입력하신 게시물/댓글 및 오오티디는 삭제되지 않으며  회원정보 삭제로 인해 작성자 본인을 확인할 수\\xa0\\xa0 없으므로 게시물 편집 및 삭제 처리가 원천적으로 불가능 합니다. 게시물 삭제를 원하시는 경우에는 먼저 해당 게시물을 삭제하신 후\\xa0 탈퇴를 신청하시기 바랍니다.\\xa0* 탈퇴 후 30일 이내 재가입이 불가합니다.\\u200b\\xa0\\xa0- SHOWINDOW 고객센터: 1661-2585 (평일 10:00~17:30\\u200b / 토 일 공휴일 휴무)  (점심시간: 12:00~13:00)\\u200b'],\n",
       " [\"회원정보는 로그인 후 '마이페이지 > 내정보수정' 페이지에서 휴대폰 본인인증 후 변경할 수 있습니다.변경이 가능한 항목은 프로필사진  닉네임  비밀번호  이메일  주소  이벤트정보 수신항목) 이 있습니다.회원정보가 정상적으로 수정되지 않을 경우  고객센터 대표전화 또는 1:1문의로 문의주시면 확인 후 처리 해드리겠습니다.\\xa0-SHOWINDOW 고객센터 1661-2585 (평일 10:00~17:30\\u200b/ 토 일 공휴일 휴무)-[1:1문의 하러가기]\"]]"
      ]
     },
     "execution_count": 54,
     "metadata": {},
     "output_type": "execute_result"
    }
   ],
   "source": [
    "use22"
   ]
  },
  {
   "cell_type": "code",
   "execution_count": 59,
   "metadata": {},
   "outputs": [],
   "source": [
    "user_quest=user_quest+use22"
   ]
  },
  {
   "cell_type": "code",
   "execution_count": 60,
   "metadata": {},
   "outputs": [],
   "source": [
    "user = driver.find_element_by_css_selector(\"#tab1 > div.stab_wrap.faq_stab > ul > li:nth-child(2) > a\")\n",
    "user.send_keys(Keys.RETURN)"
   ]
  },
  {
   "cell_type": "code",
   "execution_count": 61,
   "metadata": {},
   "outputs": [],
   "source": [
    "html=driver.page_source"
   ]
  },
  {
   "cell_type": "code",
   "execution_count": 62,
   "metadata": {},
   "outputs": [],
   "source": [
    "html_doc=BeautifulSoup(html,\"html.parser\")"
   ]
  },
  {
   "cell_type": "code",
   "execution_count": 63,
   "metadata": {},
   "outputs": [],
   "source": [
    "user_question2=html_doc.select(\"#tab1 > div.stab_wrap.faq_stab > div > div > ul > li> a\")\n",
    "user_quest2=confirm_text(user_question2)"
   ]
  },
  {
   "cell_type": "code",
   "execution_count": 64,
   "metadata": {},
   "outputs": [
    {
     "name": "stdout",
     "output_type": "stream",
     "text": [
      "7\n"
     ]
    }
   ],
   "source": [
    "use23=answer_confirm()"
   ]
  },
  {
   "cell_type": "code",
   "execution_count": 65,
   "metadata": {},
   "outputs": [],
   "source": [
    "user_quest2=user_quest2+use23"
   ]
  },
  {
   "cell_type": "code",
   "execution_count": 66,
   "metadata": {},
   "outputs": [],
   "source": [
    "user_quest=user_quest+user_quest2"
   ]
  },
  {
   "cell_type": "code",
   "execution_count": 67,
   "metadata": {},
   "outputs": [
    {
     "data": {
      "text/html": [
       "<div>\n",
       "<style scoped>\n",
       "    .dataframe tbody tr th:only-of-type {\n",
       "        vertical-align: middle;\n",
       "    }\n",
       "\n",
       "    .dataframe tbody tr th {\n",
       "        vertical-align: top;\n",
       "    }\n",
       "\n",
       "    .dataframe thead th {\n",
       "        text-align: right;\n",
       "    }\n",
       "</style>\n",
       "<table border=\"1\" class=\"dataframe\">\n",
       "  <thead>\n",
       "    <tr style=\"text-align: right;\">\n",
       "      <th></th>\n",
       "      <th>제목</th>\n",
       "      <th>분류</th>\n",
       "    </tr>\n",
       "  </thead>\n",
       "  <tbody>\n",
       "    <tr>\n",
       "      <th>0</th>\n",
       "      <td>회원에게 주어지는 혜택은 무엇인가요?</td>\n",
       "      <td>회원</td>\n",
       "    </tr>\n",
       "    <tr>\n",
       "      <th>1</th>\n",
       "      <td>휴면고객으로 변경되는 기준은 무엇인가요?</td>\n",
       "      <td>회원</td>\n",
       "    </tr>\n",
       "    <tr>\n",
       "      <th>2</th>\n",
       "      <td>탈퇴 후 재가입할 수 있나요?</td>\n",
       "      <td>회원</td>\n",
       "    </tr>\n",
       "    <tr>\n",
       "      <th>3</th>\n",
       "      <td>아이디/비밀번호가 기억나지 않습니다.</td>\n",
       "      <td>회원</td>\n",
       "    </tr>\n",
       "    <tr>\n",
       "      <th>4</th>\n",
       "      <td>임시 비밀번호를 발급 요청하였는데 계속 오지 않습니다.</td>\n",
       "      <td>회원</td>\n",
       "    </tr>\n",
       "    <tr>\n",
       "      <th>5</th>\n",
       "      <td>회원 탈퇴는 어떻게 하나요?</td>\n",
       "      <td>회원</td>\n",
       "    </tr>\n",
       "    <tr>\n",
       "      <th>6</th>\n",
       "      <td>회원 정보 변경은 어떻게 하나요?</td>\n",
       "      <td>회원</td>\n",
       "    </tr>\n",
       "    <tr>\n",
       "      <th>7</th>\n",
       "      <td>회원 아이디와 비밀번호를 변경할 수 있나요?</td>\n",
       "      <td>회원</td>\n",
       "    </tr>\n",
       "    <tr>\n",
       "      <th>8</th>\n",
       "      <td>[SHOWINDOW 회원이 되시면 '마이페이지 &gt; 등급별혜택'에 회원등급 혜택이 있...</td>\n",
       "      <td>회원</td>\n",
       "    </tr>\n",
       "    <tr>\n",
       "      <th>9</th>\n",
       "      <td>[「정보통신망 이용촉진 및 정보보호 등에 관한 법률」 제29조 제2항에 따라 신원의...</td>\n",
       "      <td>회원</td>\n",
       "    </tr>\n",
       "    <tr>\n",
       "      <th>10</th>\n",
       "      <td>[일반적으로 회원 탈퇴 후 30일이 지나면 재가입이 가능하며  강제로 탈퇴된 회원의...</td>\n",
       "      <td>회원</td>\n",
       "    </tr>\n",
       "    <tr>\n",
       "      <th>11</th>\n",
       "      <td>[아이디/비밀번호 찾으시는 방법은 다음과 같습니다. -아이디 찾기-1. SHOWIN...</td>\n",
       "      <td>회원</td>\n",
       "    </tr>\n",
       "    <tr>\n",
       "      <th>12</th>\n",
       "      <td>[발송된 임시 비밀번호가 스팸 처리되어 확인되지 않을 수 있습니다.카카오톡 채널 및...</td>\n",
       "      <td>회원</td>\n",
       "    </tr>\n",
       "    <tr>\n",
       "      <th>13</th>\n",
       "      <td>[회원 탈퇴 방법의 경우 다음과 같습니다. 1. SHOWINDOW 상단 로그인 버튼...</td>\n",
       "      <td>회원</td>\n",
       "    </tr>\n",
       "    <tr>\n",
       "      <th>14</th>\n",
       "      <td>[회원정보는 로그인 후 '마이페이지 &gt; 내정보수정' 페이지에서 휴대폰 본인인증 후 ...</td>\n",
       "      <td>회원</td>\n",
       "    </tr>\n",
       "    <tr>\n",
       "      <th>15</th>\n",
       "      <td>[SHOWINDOW 회원이 되시면 '마이페이지 &gt; 등급별혜택'에 회원등급 혜택이 있...</td>\n",
       "      <td>회원</td>\n",
       "    </tr>\n",
       "    <tr>\n",
       "      <th>16</th>\n",
       "      <td>[「정보통신망 이용촉진 및 정보보호 등에 관한 법률」 제29조 제2항에 따라 신원의...</td>\n",
       "      <td>회원</td>\n",
       "    </tr>\n",
       "    <tr>\n",
       "      <th>17</th>\n",
       "      <td>[일반적으로 회원 탈퇴 후 30일이 지나면 재가입이 가능하며  강제로 탈퇴된 회원의...</td>\n",
       "      <td>회원</td>\n",
       "    </tr>\n",
       "    <tr>\n",
       "      <th>18</th>\n",
       "      <td>[아이디/비밀번호 찾으시는 방법은 다음과 같습니다. -아이디 찾기-1. SHOWIN...</td>\n",
       "      <td>회원</td>\n",
       "    </tr>\n",
       "    <tr>\n",
       "      <th>19</th>\n",
       "      <td>[발송된 임시 비밀번호가 스팸 처리되어 확인되지 않을 수 있습니다.카카오톡 채널 및...</td>\n",
       "      <td>회원</td>\n",
       "    </tr>\n",
       "    <tr>\n",
       "      <th>20</th>\n",
       "      <td>[회원 탈퇴 방법의 경우 다음과 같습니다. 1. SHOWINDOW 상단 로그인 버튼...</td>\n",
       "      <td>회원</td>\n",
       "    </tr>\n",
       "    <tr>\n",
       "      <th>21</th>\n",
       "      <td>[회원정보는 로그인 후 '마이페이지 &gt; 내정보수정' 페이지에서 휴대폰 본인인증 후 ...</td>\n",
       "      <td>회원</td>\n",
       "    </tr>\n",
       "    <tr>\n",
       "      <th>22</th>\n",
       "      <td>주문 취소/반품시 쿠폰은 재발행 되나요?</td>\n",
       "      <td>회원</td>\n",
       "    </tr>\n",
       "    <tr>\n",
       "      <th>23</th>\n",
       "      <td>쿠폰 사용이 되지 않습니다.</td>\n",
       "      <td>회원</td>\n",
       "    </tr>\n",
       "    <tr>\n",
       "      <th>24</th>\n",
       "      <td>'상품쿠폰'   '중복쿠폰'  '프로모션 코드'가 뭔가요?</td>\n",
       "      <td>회원</td>\n",
       "    </tr>\n",
       "    <tr>\n",
       "      <th>25</th>\n",
       "      <td>상품리뷰 작성으로 적립되는 쑈마일은 어떻게 되나요?</td>\n",
       "      <td>회원</td>\n",
       "    </tr>\n",
       "    <tr>\n",
       "      <th>26</th>\n",
       "      <td>통합포인트 사용처가 궁금합니다.</td>\n",
       "      <td>회원</td>\n",
       "    </tr>\n",
       "    <tr>\n",
       "      <th>27</th>\n",
       "      <td>통합포인트/쑈마일 적립 시점과 유효기간은 어떻게 되나요?</td>\n",
       "      <td>회원</td>\n",
       "    </tr>\n",
       "    <tr>\n",
       "      <th>28</th>\n",
       "      <td>통합포인트와 쑈마일은 뭔가요?</td>\n",
       "      <td>회원</td>\n",
       "    </tr>\n",
       "    <tr>\n",
       "      <th>29</th>\n",
       "      <td>[고객님의 변심으로 인한 취소/반품일 경우  쿠폰의 재발행이 불가능합니다.단  상품...</td>\n",
       "      <td>회원</td>\n",
       "    </tr>\n",
       "    <tr>\n",
       "      <th>30</th>\n",
       "      <td>[마이페이지 &gt; My Shopping &gt; 쿠폰 내역에서 쿠폰 사용혜택/기간 및 조건...</td>\n",
       "      <td>회원</td>\n",
       "    </tr>\n",
       "    <tr>\n",
       "      <th>31</th>\n",
       "      <td>[쿠폰은 '상품쿠폰'과 '중복쿠폰'으로 나뉘어 집니다. - 상품쿠폰: 상품 1개에 ...</td>\n",
       "      <td>회원</td>\n",
       "    </tr>\n",
       "    <tr>\n",
       "      <th>32</th>\n",
       "      <td>[포토 리뷰 작성 시 1 000 쑈마일  텍스트 리뷰 작성 시 500 쑈마일이 지급...</td>\n",
       "      <td>회원</td>\n",
       "    </tr>\n",
       "    <tr>\n",
       "      <th>33</th>\n",
       "      <td>[SHOWINDOW 통합포인트는 신원 자사 브랜드의 온/오프라인에서 사용 가능하며 ...</td>\n",
       "      <td>회원</td>\n",
       "    </tr>\n",
       "    <tr>\n",
       "      <th>34</th>\n",
       "      <td>[-통합포인트-상품 구매로 인한 통합포인트 적립은 구매확정시 자동 적립되며 사용 기...</td>\n",
       "      <td>회원</td>\n",
       "    </tr>\n",
       "  </tbody>\n",
       "</table>\n",
       "</div>"
      ],
      "text/plain": [
       "                                                   제목  분류\n",
       "0                                회원에게 주어지는 혜택은 무엇인가요?  회원\n",
       "1                              휴면고객으로 변경되는 기준은 무엇인가요?  회원\n",
       "2                                    탈퇴 후 재가입할 수 있나요?  회원\n",
       "3                                아이디/비밀번호가 기억나지 않습니다.  회원\n",
       "4                      임시 비밀번호를 발급 요청하였는데 계속 오지 않습니다.  회원\n",
       "5                                     회원 탈퇴는 어떻게 하나요?  회원\n",
       "6                                  회원 정보 변경은 어떻게 하나요?  회원\n",
       "7                            회원 아이디와 비밀번호를 변경할 수 있나요?  회원\n",
       "8   [SHOWINDOW 회원이 되시면 '마이페이지 > 등급별혜택'에 회원등급 혜택이 있...  회원\n",
       "9   [「정보통신망 이용촉진 및 정보보호 등에 관한 법률」 제29조 제2항에 따라 신원의...  회원\n",
       "10  [일반적으로 회원 탈퇴 후 30일이 지나면 재가입이 가능하며  강제로 탈퇴된 회원의...  회원\n",
       "11  [아이디/비밀번호 찾으시는 방법은 다음과 같습니다. -아이디 찾기-1. SHOWIN...  회원\n",
       "12  [발송된 임시 비밀번호가 스팸 처리되어 확인되지 않을 수 있습니다.카카오톡 채널 및...  회원\n",
       "13  [회원 탈퇴 방법의 경우 다음과 같습니다. 1. SHOWINDOW 상단 로그인 버튼...  회원\n",
       "14  [회원정보는 로그인 후 '마이페이지 > 내정보수정' 페이지에서 휴대폰 본인인증 후 ...  회원\n",
       "15  [SHOWINDOW 회원이 되시면 '마이페이지 > 등급별혜택'에 회원등급 혜택이 있...  회원\n",
       "16  [「정보통신망 이용촉진 및 정보보호 등에 관한 법률」 제29조 제2항에 따라 신원의...  회원\n",
       "17  [일반적으로 회원 탈퇴 후 30일이 지나면 재가입이 가능하며  강제로 탈퇴된 회원의...  회원\n",
       "18  [아이디/비밀번호 찾으시는 방법은 다음과 같습니다. -아이디 찾기-1. SHOWIN...  회원\n",
       "19  [발송된 임시 비밀번호가 스팸 처리되어 확인되지 않을 수 있습니다.카카오톡 채널 및...  회원\n",
       "20  [회원 탈퇴 방법의 경우 다음과 같습니다. 1. SHOWINDOW 상단 로그인 버튼...  회원\n",
       "21  [회원정보는 로그인 후 '마이페이지 > 내정보수정' 페이지에서 휴대폰 본인인증 후 ...  회원\n",
       "22                             주문 취소/반품시 쿠폰은 재발행 되나요?  회원\n",
       "23                                    쿠폰 사용이 되지 않습니다.  회원\n",
       "24                  '상품쿠폰'   '중복쿠폰'  '프로모션 코드'가 뭔가요?   회원\n",
       "25                       상품리뷰 작성으로 적립되는 쑈마일은 어떻게 되나요?  회원\n",
       "26                                  통합포인트 사용처가 궁금합니다.  회원\n",
       "27                    통합포인트/쑈마일 적립 시점과 유효기간은 어떻게 되나요?  회원\n",
       "28                                   통합포인트와 쑈마일은 뭔가요?  회원\n",
       "29  [고객님의 변심으로 인한 취소/반품일 경우  쿠폰의 재발행이 불가능합니다.단  상품...  회원\n",
       "30  [마이페이지 > My Shopping > 쿠폰 내역에서 쿠폰 사용혜택/기간 및 조건...  회원\n",
       "31  [쿠폰은 '상품쿠폰'과 '중복쿠폰'으로 나뉘어 집니다. - 상품쿠폰: 상품 1개에 ...  회원\n",
       "32  [포토 리뷰 작성 시 1 000 쑈마일  텍스트 리뷰 작성 시 500 쑈마일이 지급...  회원\n",
       "33  [SHOWINDOW 통합포인트는 신원 자사 브랜드의 온/오프라인에서 사용 가능하며 ...  회원\n",
       "34  [-통합포인트-상품 구매로 인한 통합포인트 적립은 구매확정시 자동 적립되며 사용 기...  회원"
      ]
     },
     "execution_count": 67,
     "metadata": {},
     "output_type": "execute_result"
    }
   ],
   "source": [
    "# 데이터프레임으로 보기\n",
    "cs_user= pd.DataFrame({'제목' :user_quest,\n",
    "                       '분류' : \"회원\"\n",
    "                       })\n",
    "cs_user"
   ]
  },
  {
   "cell_type": "code",
   "execution_count": 68,
   "metadata": {},
   "outputs": [],
   "source": [
    "cs=pd.concat([cs_review,cs_deli,cs_user,cs_pro],ignore_index=True)"
   ]
  },
  {
   "cell_type": "code",
   "execution_count": 69,
   "metadata": {},
   "outputs": [
    {
     "data": {
      "text/html": [
       "<div>\n",
       "<style scoped>\n",
       "    .dataframe tbody tr th:only-of-type {\n",
       "        vertical-align: middle;\n",
       "    }\n",
       "\n",
       "    .dataframe tbody tr th {\n",
       "        vertical-align: top;\n",
       "    }\n",
       "\n",
       "    .dataframe thead th {\n",
       "        text-align: right;\n",
       "    }\n",
       "</style>\n",
       "<table border=\"1\" class=\"dataframe\">\n",
       "  <thead>\n",
       "    <tr style=\"text-align: right;\">\n",
       "      <th></th>\n",
       "      <th>제목</th>\n",
       "      <th>분류</th>\n",
       "    </tr>\n",
       "  </thead>\n",
       "  <tbody>\n",
       "    <tr>\n",
       "      <th>0</th>\n",
       "      <td>구매한 상품에 대한 영수증을 받을 수 있나요?</td>\n",
       "      <td>주문</td>\n",
       "    </tr>\n",
       "    <tr>\n",
       "      <th>1</th>\n",
       "      <td>주문했는데 중복으로 결제됐어요</td>\n",
       "      <td>주문</td>\n",
       "    </tr>\n",
       "    <tr>\n",
       "      <th>2</th>\n",
       "      <td>인터넷 안전결제(ISP)가 무엇이며 어떻게 이용하나요?</td>\n",
       "      <td>주문</td>\n",
       "    </tr>\n",
       "    <tr>\n",
       "      <th>3</th>\n",
       "      <td>실시간 계좌이체는 어떻게 이용할 수 있나요?</td>\n",
       "      <td>주문</td>\n",
       "    </tr>\n",
       "    <tr>\n",
       "      <th>4</th>\n",
       "      <td>주문하고 계좌로 입금을 했는데 입금확인이 안 됩니다.</td>\n",
       "      <td>주문</td>\n",
       "    </tr>\n",
       "    <tr>\n",
       "      <th>...</th>\n",
       "      <td>...</td>\n",
       "      <td>...</td>\n",
       "    </tr>\n",
       "    <tr>\n",
       "      <th>74</th>\n",
       "      <td>[반송 절차는 아래 반송 방법에 따라 상이합니다.  1. 자동 회수 - 택배기사와 ...</td>\n",
       "      <td>상품관련</td>\n",
       "    </tr>\n",
       "    <tr>\n",
       "      <th>75</th>\n",
       "      <td>[고객님의 요청에 의해 주문 제작된 제품(굽 높이  사이즈 등 변경)에 대해서는 교...</td>\n",
       "      <td>상품관련</td>\n",
       "    </tr>\n",
       "    <tr>\n",
       "      <th>76</th>\n",
       "      <td>[온라인 주문상품의 교환/반품은 온라인몰에서만 가능합니다.반품 시 환불은 온라인몰에...</td>\n",
       "      <td>상품관련</td>\n",
       "    </tr>\n",
       "    <tr>\n",
       "      <th>77</th>\n",
       "      <td>[교환은 구입하신 상품과 동일한 상품 및 색상의 사이즈로는 가능하지만  같은 금액일...</td>\n",
       "      <td>상품관련</td>\n",
       "    </tr>\n",
       "    <tr>\n",
       "      <th>78</th>\n",
       "      <td>[교환/반품 신청이 접수된 이후에는 홈페이지에서 직접 철회가 불가능합니다.철회를 원...</td>\n",
       "      <td>상품관련</td>\n",
       "    </tr>\n",
       "  </tbody>\n",
       "</table>\n",
       "<p>79 rows × 2 columns</p>\n",
       "</div>"
      ],
      "text/plain": [
       "                                                   제목    분류\n",
       "0                           구매한 상품에 대한 영수증을 받을 수 있나요?    주문\n",
       "1                                    주문했는데 중복으로 결제됐어요    주문\n",
       "2                      인터넷 안전결제(ISP)가 무엇이며 어떻게 이용하나요?    주문\n",
       "3                            실시간 계좌이체는 어떻게 이용할 수 있나요?    주문\n",
       "4                       주문하고 계좌로 입금을 했는데 입금확인이 안 됩니다.    주문\n",
       "..                                                ...   ...\n",
       "74  [반송 절차는 아래 반송 방법에 따라 상이합니다.  1. 자동 회수 - 택배기사와 ...  상품관련\n",
       "75  [고객님의 요청에 의해 주문 제작된 제품(굽 높이  사이즈 등 변경)에 대해서는 교...  상품관련\n",
       "76  [온라인 주문상품의 교환/반품은 온라인몰에서만 가능합니다.반품 시 환불은 온라인몰에...  상품관련\n",
       "77  [교환은 구입하신 상품과 동일한 상품 및 색상의 사이즈로는 가능하지만  같은 금액일...  상품관련\n",
       "78  [교환/반품 신청이 접수된 이후에는 홈페이지에서 직접 철회가 불가능합니다.철회를 원...  상품관련\n",
       "\n",
       "[79 rows x 2 columns]"
      ]
     },
     "execution_count": 69,
     "metadata": {},
     "output_type": "execute_result"
    }
   ],
   "source": [
    "cs"
   ]
  },
  {
   "cell_type": "code",
   "execution_count": 70,
   "metadata": {},
   "outputs": [],
   "source": [
    "cs.to_csv('cs6.csv')"
   ]
  },
  {
   "cell_type": "code",
   "execution_count": 71,
   "metadata": {},
   "outputs": [],
   "source": [
    "\n",
    "df=pd.read_csv('cs_data1.csv')"
   ]
  },
  {
   "cell_type": "code",
   "execution_count": 76,
   "metadata": {},
   "outputs": [
    {
     "data": {
      "text/html": [
       "<div>\n",
       "<style scoped>\n",
       "    .dataframe tbody tr th:only-of-type {\n",
       "        vertical-align: middle;\n",
       "    }\n",
       "\n",
       "    .dataframe tbody tr th {\n",
       "        vertical-align: top;\n",
       "    }\n",
       "\n",
       "    .dataframe thead th {\n",
       "        text-align: right;\n",
       "    }\n",
       "</style>\n",
       "<table border=\"1\" class=\"dataframe\">\n",
       "  <thead>\n",
       "    <tr style=\"text-align: right;\">\n",
       "      <th></th>\n",
       "      <th>Unnamed: 0</th>\n",
       "      <th>제목</th>\n",
       "      <th>분류</th>\n",
       "    </tr>\n",
       "  </thead>\n",
       "  <tbody>\n",
       "    <tr>\n",
       "      <th>0</th>\n",
       "      <td>0</td>\n",
       "      <td>해외에서 주문하고 싶어요</td>\n",
       "      <td>배송</td>\n",
       "    </tr>\n",
       "    <tr>\n",
       "      <th>1</th>\n",
       "      <td>1</td>\n",
       "      <td>해외배송의 배송 기간은 어떻게 되나요?</td>\n",
       "      <td>배송</td>\n",
       "    </tr>\n",
       "    <tr>\n",
       "      <th>2</th>\n",
       "      <td>2</td>\n",
       "      <td>해외카드 결제가 가능한가요?</td>\n",
       "      <td>배송</td>\n",
       "    </tr>\n",
       "    <tr>\n",
       "      <th>3</th>\n",
       "      <td>3</td>\n",
       "      <td>['\\nA\\n★ 주문시 꼭 기재하실 정보 : 우편번호  영문주소  영문이름  해외 ...</td>\n",
       "      <td>배송</td>\n",
       "    </tr>\n",
       "    <tr>\n",
       "      <th>4</th>\n",
       "      <td>4</td>\n",
       "      <td>['\\nA\\n업체에서 출고이후 넉넉하게 7~15일 정도 안내드리고 있으며  \\n지역...</td>\n",
       "      <td>배송</td>\n",
       "    </tr>\n",
       "    <tr>\n",
       "      <th>...</th>\n",
       "      <td>...</td>\n",
       "      <td>...</td>\n",
       "      <td>...</td>\n",
       "    </tr>\n",
       "    <tr>\n",
       "      <th>590</th>\n",
       "      <td>590</td>\n",
       "      <td>['\\n\\n사뿐 가족이 되시면 다양한 혜택이 있으십니다.\\n주문 및 배송 교환 반품...</td>\n",
       "      <td>회원</td>\n",
       "    </tr>\n",
       "    <tr>\n",
       "      <th>591</th>\n",
       "      <td>591</td>\n",
       "      <td>['\\n\\n사뿐은 회원이 아니셔도 주문 가능하십니다.\\n상품을 CART(장바구니)에...</td>\n",
       "      <td>회원</td>\n",
       "    </tr>\n",
       "    <tr>\n",
       "      <th>592</th>\n",
       "      <td>592</td>\n",
       "      <td>['\\n\\n아이디를 잊어버렸을경우\\n로그인-회원아이디 찾기-이름 이메일 입력-아이디...</td>\n",
       "      <td>회원</td>\n",
       "    </tr>\n",
       "    <tr>\n",
       "      <th>593</th>\n",
       "      <td>593</td>\n",
       "      <td>['\\n\\n전화번호 및 주소등 개인정보 변경을 원하실때는\\n상단에 마이페이지-회원정...</td>\n",
       "      <td>회원</td>\n",
       "    </tr>\n",
       "    <tr>\n",
       "      <th>594</th>\n",
       "      <td>594</td>\n",
       "      <td>['\\n\\n회원탈퇴는 로그인 후 마이페이지에서 가능하십니다.\\n탈퇴시 현재 보유하고...</td>\n",
       "      <td>회원</td>\n",
       "    </tr>\n",
       "  </tbody>\n",
       "</table>\n",
       "<p>595 rows × 3 columns</p>\n",
       "</div>"
      ],
      "text/plain": [
       "     Unnamed: 0                                                 제목  분류\n",
       "0             0                                      해외에서 주문하고 싶어요  배송\n",
       "1             1                              해외배송의 배송 기간은 어떻게 되나요?  배송\n",
       "2             2                                    해외카드 결제가 가능한가요?  배송\n",
       "3             3  ['\\nA\\n★ 주문시 꼭 기재하실 정보 : 우편번호  영문주소  영문이름  해외 ...  배송\n",
       "4             4  ['\\nA\\n업체에서 출고이후 넉넉하게 7~15일 정도 안내드리고 있으며  \\n지역...  배송\n",
       "..          ...                                                ...  ..\n",
       "590         590  ['\\n\\n사뿐 가족이 되시면 다양한 혜택이 있으십니다.\\n주문 및 배송 교환 반품...  회원\n",
       "591         591  ['\\n\\n사뿐은 회원이 아니셔도 주문 가능하십니다.\\n상품을 CART(장바구니)에...  회원\n",
       "592         592  ['\\n\\n아이디를 잊어버렸을경우\\n로그인-회원아이디 찾기-이름 이메일 입력-아이디...  회원\n",
       "593         593  ['\\n\\n전화번호 및 주소등 개인정보 변경을 원하실때는\\n상단에 마이페이지-회원정...  회원\n",
       "594         594  ['\\n\\n회원탈퇴는 로그인 후 마이페이지에서 가능하십니다.\\n탈퇴시 현재 보유하고...  회원\n",
       "\n",
       "[595 rows x 3 columns]"
      ]
     },
     "execution_count": 76,
     "metadata": {},
     "output_type": "execute_result"
    }
   ],
   "source": [
    "df"
   ]
  },
  {
   "cell_type": "code",
   "execution_count": 72,
   "metadata": {},
   "outputs": [],
   "source": [
    "cs=pd.concat([cs,df],ignore_index=True)"
   ]
  },
  {
   "cell_type": "code",
   "execution_count": 73,
   "metadata": {},
   "outputs": [
    {
     "data": {
      "text/html": [
       "<div>\n",
       "<style scoped>\n",
       "    .dataframe tbody tr th:only-of-type {\n",
       "        vertical-align: middle;\n",
       "    }\n",
       "\n",
       "    .dataframe tbody tr th {\n",
       "        vertical-align: top;\n",
       "    }\n",
       "\n",
       "    .dataframe thead th {\n",
       "        text-align: right;\n",
       "    }\n",
       "</style>\n",
       "<table border=\"1\" class=\"dataframe\">\n",
       "  <thead>\n",
       "    <tr style=\"text-align: right;\">\n",
       "      <th></th>\n",
       "      <th>제목</th>\n",
       "      <th>분류</th>\n",
       "      <th>Unnamed: 0</th>\n",
       "    </tr>\n",
       "  </thead>\n",
       "  <tbody>\n",
       "    <tr>\n",
       "      <th>0</th>\n",
       "      <td>구매한 상품에 대한 영수증을 받을 수 있나요?</td>\n",
       "      <td>주문</td>\n",
       "      <td>NaN</td>\n",
       "    </tr>\n",
       "    <tr>\n",
       "      <th>1</th>\n",
       "      <td>주문했는데 중복으로 결제됐어요</td>\n",
       "      <td>주문</td>\n",
       "      <td>NaN</td>\n",
       "    </tr>\n",
       "    <tr>\n",
       "      <th>2</th>\n",
       "      <td>인터넷 안전결제(ISP)가 무엇이며 어떻게 이용하나요?</td>\n",
       "      <td>주문</td>\n",
       "      <td>NaN</td>\n",
       "    </tr>\n",
       "    <tr>\n",
       "      <th>3</th>\n",
       "      <td>실시간 계좌이체는 어떻게 이용할 수 있나요?</td>\n",
       "      <td>주문</td>\n",
       "      <td>NaN</td>\n",
       "    </tr>\n",
       "    <tr>\n",
       "      <th>4</th>\n",
       "      <td>주문하고 계좌로 입금을 했는데 입금확인이 안 됩니다.</td>\n",
       "      <td>주문</td>\n",
       "      <td>NaN</td>\n",
       "    </tr>\n",
       "    <tr>\n",
       "      <th>...</th>\n",
       "      <td>...</td>\n",
       "      <td>...</td>\n",
       "      <td>...</td>\n",
       "    </tr>\n",
       "    <tr>\n",
       "      <th>669</th>\n",
       "      <td>['\\n\\n사뿐 가족이 되시면 다양한 혜택이 있으십니다.\\n주문 및 배송 교환 반품...</td>\n",
       "      <td>회원</td>\n",
       "      <td>590.0</td>\n",
       "    </tr>\n",
       "    <tr>\n",
       "      <th>670</th>\n",
       "      <td>['\\n\\n사뿐은 회원이 아니셔도 주문 가능하십니다.\\n상품을 CART(장바구니)에...</td>\n",
       "      <td>회원</td>\n",
       "      <td>591.0</td>\n",
       "    </tr>\n",
       "    <tr>\n",
       "      <th>671</th>\n",
       "      <td>['\\n\\n아이디를 잊어버렸을경우\\n로그인-회원아이디 찾기-이름 이메일 입력-아이디...</td>\n",
       "      <td>회원</td>\n",
       "      <td>592.0</td>\n",
       "    </tr>\n",
       "    <tr>\n",
       "      <th>672</th>\n",
       "      <td>['\\n\\n전화번호 및 주소등 개인정보 변경을 원하실때는\\n상단에 마이페이지-회원정...</td>\n",
       "      <td>회원</td>\n",
       "      <td>593.0</td>\n",
       "    </tr>\n",
       "    <tr>\n",
       "      <th>673</th>\n",
       "      <td>['\\n\\n회원탈퇴는 로그인 후 마이페이지에서 가능하십니다.\\n탈퇴시 현재 보유하고...</td>\n",
       "      <td>회원</td>\n",
       "      <td>594.0</td>\n",
       "    </tr>\n",
       "  </tbody>\n",
       "</table>\n",
       "<p>674 rows × 3 columns</p>\n",
       "</div>"
      ],
      "text/plain": [
       "                                                    제목  분류  Unnamed: 0\n",
       "0                            구매한 상품에 대한 영수증을 받을 수 있나요?  주문         NaN\n",
       "1                                     주문했는데 중복으로 결제됐어요  주문         NaN\n",
       "2                       인터넷 안전결제(ISP)가 무엇이며 어떻게 이용하나요?  주문         NaN\n",
       "3                             실시간 계좌이체는 어떻게 이용할 수 있나요?  주문         NaN\n",
       "4                        주문하고 계좌로 입금을 했는데 입금확인이 안 됩니다.  주문         NaN\n",
       "..                                                 ...  ..         ...\n",
       "669  ['\\n\\n사뿐 가족이 되시면 다양한 혜택이 있으십니다.\\n주문 및 배송 교환 반품...  회원       590.0\n",
       "670  ['\\n\\n사뿐은 회원이 아니셔도 주문 가능하십니다.\\n상품을 CART(장바구니)에...  회원       591.0\n",
       "671  ['\\n\\n아이디를 잊어버렸을경우\\n로그인-회원아이디 찾기-이름 이메일 입력-아이디...  회원       592.0\n",
       "672  ['\\n\\n전화번호 및 주소등 개인정보 변경을 원하실때는\\n상단에 마이페이지-회원정...  회원       593.0\n",
       "673  ['\\n\\n회원탈퇴는 로그인 후 마이페이지에서 가능하십니다.\\n탈퇴시 현재 보유하고...  회원       594.0\n",
       "\n",
       "[674 rows x 3 columns]"
      ]
     },
     "execution_count": 73,
     "metadata": {},
     "output_type": "execute_result"
    }
   ],
   "source": [
    "cs"
   ]
  },
  {
   "cell_type": "code",
   "execution_count": 74,
   "metadata": {},
   "outputs": [],
   "source": [
    "cs.drop(columns=\"Unnamed: 0\", inplace=True)"
   ]
  },
  {
   "cell_type": "code",
   "execution_count": 75,
   "metadata": {},
   "outputs": [
    {
     "data": {
      "text/html": [
       "<div>\n",
       "<style scoped>\n",
       "    .dataframe tbody tr th:only-of-type {\n",
       "        vertical-align: middle;\n",
       "    }\n",
       "\n",
       "    .dataframe tbody tr th {\n",
       "        vertical-align: top;\n",
       "    }\n",
       "\n",
       "    .dataframe thead th {\n",
       "        text-align: right;\n",
       "    }\n",
       "</style>\n",
       "<table border=\"1\" class=\"dataframe\">\n",
       "  <thead>\n",
       "    <tr style=\"text-align: right;\">\n",
       "      <th></th>\n",
       "      <th>제목</th>\n",
       "      <th>분류</th>\n",
       "    </tr>\n",
       "  </thead>\n",
       "  <tbody>\n",
       "    <tr>\n",
       "      <th>0</th>\n",
       "      <td>구매한 상품에 대한 영수증을 받을 수 있나요?</td>\n",
       "      <td>주문</td>\n",
       "    </tr>\n",
       "    <tr>\n",
       "      <th>1</th>\n",
       "      <td>주문했는데 중복으로 결제됐어요</td>\n",
       "      <td>주문</td>\n",
       "    </tr>\n",
       "    <tr>\n",
       "      <th>2</th>\n",
       "      <td>인터넷 안전결제(ISP)가 무엇이며 어떻게 이용하나요?</td>\n",
       "      <td>주문</td>\n",
       "    </tr>\n",
       "    <tr>\n",
       "      <th>3</th>\n",
       "      <td>실시간 계좌이체는 어떻게 이용할 수 있나요?</td>\n",
       "      <td>주문</td>\n",
       "    </tr>\n",
       "    <tr>\n",
       "      <th>4</th>\n",
       "      <td>주문하고 계좌로 입금을 했는데 입금확인이 안 됩니다.</td>\n",
       "      <td>주문</td>\n",
       "    </tr>\n",
       "    <tr>\n",
       "      <th>...</th>\n",
       "      <td>...</td>\n",
       "      <td>...</td>\n",
       "    </tr>\n",
       "    <tr>\n",
       "      <th>669</th>\n",
       "      <td>['\\n\\n사뿐 가족이 되시면 다양한 혜택이 있으십니다.\\n주문 및 배송 교환 반품...</td>\n",
       "      <td>회원</td>\n",
       "    </tr>\n",
       "    <tr>\n",
       "      <th>670</th>\n",
       "      <td>['\\n\\n사뿐은 회원이 아니셔도 주문 가능하십니다.\\n상품을 CART(장바구니)에...</td>\n",
       "      <td>회원</td>\n",
       "    </tr>\n",
       "    <tr>\n",
       "      <th>671</th>\n",
       "      <td>['\\n\\n아이디를 잊어버렸을경우\\n로그인-회원아이디 찾기-이름 이메일 입력-아이디...</td>\n",
       "      <td>회원</td>\n",
       "    </tr>\n",
       "    <tr>\n",
       "      <th>672</th>\n",
       "      <td>['\\n\\n전화번호 및 주소등 개인정보 변경을 원하실때는\\n상단에 마이페이지-회원정...</td>\n",
       "      <td>회원</td>\n",
       "    </tr>\n",
       "    <tr>\n",
       "      <th>673</th>\n",
       "      <td>['\\n\\n회원탈퇴는 로그인 후 마이페이지에서 가능하십니다.\\n탈퇴시 현재 보유하고...</td>\n",
       "      <td>회원</td>\n",
       "    </tr>\n",
       "  </tbody>\n",
       "</table>\n",
       "<p>674 rows × 2 columns</p>\n",
       "</div>"
      ],
      "text/plain": [
       "                                                    제목  분류\n",
       "0                            구매한 상품에 대한 영수증을 받을 수 있나요?  주문\n",
       "1                                     주문했는데 중복으로 결제됐어요  주문\n",
       "2                       인터넷 안전결제(ISP)가 무엇이며 어떻게 이용하나요?  주문\n",
       "3                             실시간 계좌이체는 어떻게 이용할 수 있나요?  주문\n",
       "4                        주문하고 계좌로 입금을 했는데 입금확인이 안 됩니다.  주문\n",
       "..                                                 ...  ..\n",
       "669  ['\\n\\n사뿐 가족이 되시면 다양한 혜택이 있으십니다.\\n주문 및 배송 교환 반품...  회원\n",
       "670  ['\\n\\n사뿐은 회원이 아니셔도 주문 가능하십니다.\\n상품을 CART(장바구니)에...  회원\n",
       "671  ['\\n\\n아이디를 잊어버렸을경우\\n로그인-회원아이디 찾기-이름 이메일 입력-아이디...  회원\n",
       "672  ['\\n\\n전화번호 및 주소등 개인정보 변경을 원하실때는\\n상단에 마이페이지-회원정...  회원\n",
       "673  ['\\n\\n회원탈퇴는 로그인 후 마이페이지에서 가능하십니다.\\n탈퇴시 현재 보유하고...  회원\n",
       "\n",
       "[674 rows x 2 columns]"
      ]
     },
     "execution_count": 75,
     "metadata": {},
     "output_type": "execute_result"
    }
   ],
   "source": [
    "cs"
   ]
  },
  {
   "cell_type": "code",
   "execution_count": 77,
   "metadata": {},
   "outputs": [],
   "source": [
    "cs.to_csv('cs_data2.csv')"
   ]
  },
  {
   "cell_type": "code",
   "execution_count": null,
   "metadata": {},
   "outputs": [],
   "source": []
  }
 ],
 "metadata": {
  "kernelspec": {
   "display_name": "Python 3",
   "language": "python",
   "name": "python3"
  },
  "language_info": {
   "codemirror_mode": {
    "name": "ipython",
    "version": 3
   },
   "file_extension": ".py",
   "mimetype": "text/x-python",
   "name": "python",
   "nbconvert_exporter": "python",
   "pygments_lexer": "ipython3",
   "version": "3.7.4"
  }
 },
 "nbformat": 4,
 "nbformat_minor": 2
}

{
 "cells": [
  {
   "cell_type": "markdown",
   "metadata": {},
   "source": [
    "## aprori Algorithm"
   ]
  },
  {
   "cell_type": "code",
   "execution_count": 42,
   "metadata": {},
   "outputs": [
    {
     "name": "stdout",
     "output_type": "stream",
     "text": [
      "Requirement already satisfied: mlxtend in c:\\users\\hi\\anaconda3\\lib\\site-packages (0.19.0)\n",
      "Requirement already satisfied: pandas>=0.24.2 in c:\\users\\hi\\anaconda3\\lib\\site-packages (from mlxtend) (0.25.1)\n",
      "Requirement already satisfied: scikit-learn>=0.20.3 in c:\\users\\hi\\anaconda3\\lib\\site-packages (from mlxtend) (1.0.2)\n",
      "Requirement already satisfied: scipy>=1.2.1 in c:\\users\\hi\\anaconda3\\lib\\site-packages (from mlxtend) (1.3.1)\n",
      "Requirement already satisfied: numpy>=1.16.2 in c:\\users\\hi\\anaconda3\\lib\\site-packages (from mlxtend) (1.16.5)\n",
      "Requirement already satisfied: matplotlib>=3.0.0 in c:\\users\\hi\\anaconda3\\lib\\site-packages (from mlxtend) (3.1.1)\n",
      "Requirement already satisfied: joblib>=0.13.2 in c:\\users\\hi\\anaconda3\\lib\\site-packages (from mlxtend) (0.13.2)\n",
      "Requirement already satisfied: setuptools in c:\\users\\hi\\anaconda3\\lib\\site-packages (from mlxtend) (41.4.0)\n",
      "Requirement already satisfied: python-dateutil>=2.6.1 in c:\\users\\hi\\anaconda3\\lib\\site-packages (from pandas>=0.24.2->mlxtend) (2.8.0)\n",
      "Requirement already satisfied: pytz>=2017.2 in c:\\users\\hi\\anaconda3\\lib\\site-packages (from pandas>=0.24.2->mlxtend) (2019.3)\n",
      "Requirement already satisfied: threadpoolctl>=2.0.0 in c:\\users\\hi\\anaconda3\\lib\\site-packages (from scikit-learn>=0.20.3->mlxtend) (3.1.0)\n",
      "Requirement already satisfied: cycler>=0.10 in c:\\users\\hi\\anaconda3\\lib\\site-packages (from matplotlib>=3.0.0->mlxtend) (0.10.0)\n",
      "Requirement already satisfied: kiwisolver>=1.0.1 in c:\\users\\hi\\anaconda3\\lib\\site-packages (from matplotlib>=3.0.0->mlxtend) (1.1.0)\n",
      "Requirement already satisfied: pyparsing!=2.0.4,!=2.1.2,!=2.1.6,>=2.0.1 in c:\\users\\hi\\anaconda3\\lib\\site-packages (from matplotlib>=3.0.0->mlxtend) (2.4.2)\n",
      "Requirement already satisfied: six>=1.5 in c:\\users\\hi\\anaconda3\\lib\\site-packages (from python-dateutil>=2.6.1->pandas>=0.24.2->mlxtend) (1.12.0)\n",
      "Note: you may need to restart the kernel to use updated packages.\n"
     ]
    }
   ],
   "source": [
    "pip install mlxtend"
   ]
  },
  {
   "cell_type": "code",
   "execution_count": 1,
   "metadata": {},
   "outputs": [],
   "source": [
    "import mlxtend\n",
    "import numpy as np\n",
    "import pandas as pd\n",
    "import warnings\n",
    "warnings.filterwarnings('ignore')"
   ]
  },
  {
   "cell_type": "code",
   "execution_count": 2,
   "metadata": {},
   "outputs": [],
   "source": [
    "from mlxtend.preprocessing import TransactionEncoder\n",
    "from mlxtend.frequent_patterns import apriori"
   ]
  },
  {
   "cell_type": "code",
   "execution_count": 3,
   "metadata": {},
   "outputs": [],
   "source": [
    "data = np.array([\n",
    "    ['우유', '기저귀', '쥬스'],\n",
    "    ['양상추', '기저귀', '맥주'],\n",
    "    ['우유', '양상추', '기저귀', '쥬스'],\n",
    "    ['양상추', '맥주']\n",
    "])"
   ]
  },
  {
   "cell_type": "code",
   "execution_count": 4,
   "metadata": {},
   "outputs": [],
   "source": [
    "te = TransactionEncoder()"
   ]
  },
  {
   "cell_type": "code",
   "execution_count": 5,
   "metadata": {},
   "outputs": [
    {
     "data": {
      "text/plain": [
       "array([[ True, False, False,  True,  True],\n",
       "       [ True,  True,  True, False, False],\n",
       "       [ True, False,  True,  True,  True],\n",
       "       [False,  True,  True, False, False]])"
      ]
     },
     "execution_count": 5,
     "metadata": {},
     "output_type": "execute_result"
    }
   ],
   "source": [
    "te_ary = te.fit(data).transform(data)\n",
    "te_ary"
   ]
  },
  {
   "cell_type": "code",
   "execution_count": 6,
   "metadata": {},
   "outputs": [
    {
     "data": {
      "text/plain": [
       "['기저귀', '맥주', '양상추', '우유', '쥬스']"
      ]
     },
     "execution_count": 6,
     "metadata": {},
     "output_type": "execute_result"
    }
   ],
   "source": [
    "te.columns_"
   ]
  },
  {
   "cell_type": "code",
   "execution_count": 7,
   "metadata": {},
   "outputs": [
    {
     "data": {
      "text/html": [
       "<div>\n",
       "<style scoped>\n",
       "    .dataframe tbody tr th:only-of-type {\n",
       "        vertical-align: middle;\n",
       "    }\n",
       "\n",
       "    .dataframe tbody tr th {\n",
       "        vertical-align: top;\n",
       "    }\n",
       "\n",
       "    .dataframe thead th {\n",
       "        text-align: right;\n",
       "    }\n",
       "</style>\n",
       "<table border=\"1\" class=\"dataframe\">\n",
       "  <thead>\n",
       "    <tr style=\"text-align: right;\">\n",
       "      <th></th>\n",
       "      <th>기저귀</th>\n",
       "      <th>맥주</th>\n",
       "      <th>양상추</th>\n",
       "      <th>우유</th>\n",
       "      <th>쥬스</th>\n",
       "    </tr>\n",
       "  </thead>\n",
       "  <tbody>\n",
       "    <tr>\n",
       "      <td>0</td>\n",
       "      <td>True</td>\n",
       "      <td>False</td>\n",
       "      <td>False</td>\n",
       "      <td>True</td>\n",
       "      <td>True</td>\n",
       "    </tr>\n",
       "    <tr>\n",
       "      <td>1</td>\n",
       "      <td>True</td>\n",
       "      <td>True</td>\n",
       "      <td>True</td>\n",
       "      <td>False</td>\n",
       "      <td>False</td>\n",
       "    </tr>\n",
       "    <tr>\n",
       "      <td>2</td>\n",
       "      <td>True</td>\n",
       "      <td>False</td>\n",
       "      <td>True</td>\n",
       "      <td>True</td>\n",
       "      <td>True</td>\n",
       "    </tr>\n",
       "    <tr>\n",
       "      <td>3</td>\n",
       "      <td>False</td>\n",
       "      <td>True</td>\n",
       "      <td>True</td>\n",
       "      <td>False</td>\n",
       "      <td>False</td>\n",
       "    </tr>\n",
       "  </tbody>\n",
       "</table>\n",
       "</div>"
      ],
      "text/plain": [
       "     기저귀     맥주    양상추     우유     쥬스\n",
       "0   True  False  False   True   True\n",
       "1   True   True   True  False  False\n",
       "2   True  False   True   True   True\n",
       "3  False   True   True  False  False"
      ]
     },
     "execution_count": 7,
     "metadata": {},
     "output_type": "execute_result"
    }
   ],
   "source": [
    "df = pd.DataFrame(te_ary, columns=te.columns_)\n",
    "df"
   ]
  },
  {
   "cell_type": "code",
   "execution_count": 8,
   "metadata": {},
   "outputs": [
    {
     "data": {
      "text/html": [
       "<div>\n",
       "<style scoped>\n",
       "    .dataframe tbody tr th:only-of-type {\n",
       "        vertical-align: middle;\n",
       "    }\n",
       "\n",
       "    .dataframe tbody tr th {\n",
       "        vertical-align: top;\n",
       "    }\n",
       "\n",
       "    .dataframe thead th {\n",
       "        text-align: right;\n",
       "    }\n",
       "</style>\n",
       "<table border=\"1\" class=\"dataframe\">\n",
       "  <thead>\n",
       "    <tr style=\"text-align: right;\">\n",
       "      <th></th>\n",
       "      <th>support</th>\n",
       "      <th>itemsets</th>\n",
       "    </tr>\n",
       "  </thead>\n",
       "  <tbody>\n",
       "    <tr>\n",
       "      <td>0</td>\n",
       "      <td>0.75</td>\n",
       "      <td>(기저귀)</td>\n",
       "    </tr>\n",
       "    <tr>\n",
       "      <td>1</td>\n",
       "      <td>0.50</td>\n",
       "      <td>(맥주)</td>\n",
       "    </tr>\n",
       "    <tr>\n",
       "      <td>2</td>\n",
       "      <td>0.75</td>\n",
       "      <td>(양상추)</td>\n",
       "    </tr>\n",
       "    <tr>\n",
       "      <td>3</td>\n",
       "      <td>0.50</td>\n",
       "      <td>(우유)</td>\n",
       "    </tr>\n",
       "    <tr>\n",
       "      <td>4</td>\n",
       "      <td>0.50</td>\n",
       "      <td>(쥬스)</td>\n",
       "    </tr>\n",
       "    <tr>\n",
       "      <td>5</td>\n",
       "      <td>0.50</td>\n",
       "      <td>(양상추, 기저귀)</td>\n",
       "    </tr>\n",
       "    <tr>\n",
       "      <td>6</td>\n",
       "      <td>0.50</td>\n",
       "      <td>(기저귀, 우유)</td>\n",
       "    </tr>\n",
       "    <tr>\n",
       "      <td>7</td>\n",
       "      <td>0.50</td>\n",
       "      <td>(쥬스, 기저귀)</td>\n",
       "    </tr>\n",
       "    <tr>\n",
       "      <td>8</td>\n",
       "      <td>0.50</td>\n",
       "      <td>(맥주, 양상추)</td>\n",
       "    </tr>\n",
       "    <tr>\n",
       "      <td>9</td>\n",
       "      <td>0.50</td>\n",
       "      <td>(쥬스, 우유)</td>\n",
       "    </tr>\n",
       "    <tr>\n",
       "      <td>10</td>\n",
       "      <td>0.50</td>\n",
       "      <td>(쥬스, 기저귀, 우유)</td>\n",
       "    </tr>\n",
       "  </tbody>\n",
       "</table>\n",
       "</div>"
      ],
      "text/plain": [
       "    support       itemsets\n",
       "0      0.75          (기저귀)\n",
       "1      0.50           (맥주)\n",
       "2      0.75          (양상추)\n",
       "3      0.50           (우유)\n",
       "4      0.50           (쥬스)\n",
       "5      0.50     (양상추, 기저귀)\n",
       "6      0.50      (기저귀, 우유)\n",
       "7      0.50      (쥬스, 기저귀)\n",
       "8      0.50      (맥주, 양상추)\n",
       "9      0.50       (쥬스, 우유)\n",
       "10     0.50  (쥬스, 기저귀, 우유)"
      ]
     },
     "execution_count": 8,
     "metadata": {},
     "output_type": "execute_result"
    }
   ],
   "source": [
    "result=apriori(df, min_support=0.5, use_colnames=True) ##지지도 구하기\n",
    "result"
   ]
  },
  {
   "cell_type": "code",
   "execution_count": 9,
   "metadata": {},
   "outputs": [
    {
     "name": "stdout",
     "output_type": "stream",
     "text": [
      "frozenset({'쥬스', '기저귀', '우유'})\n"
     ]
    }
   ],
   "source": [
    "#result에서 마지막 itemsets컬럼값 추출\n",
    "r=result.iloc[10].itemsets\n",
    "print(r)"
   ]
  },
  {
   "cell_type": "markdown",
   "metadata": {},
   "source": [
    "#### 지지도 기반 추론! \n",
    "##### 쥬스+우유를 함께 산 사람에게 추천을 해준다고 한다면 맥주보다는 기저귀를 추천해야함"
   ]
  },
  {
   "cell_type": "code",
   "execution_count": 10,
   "metadata": {},
   "outputs": [],
   "source": [
    "## 원한 잇코딩 방식의 테이블이 필요\n",
    "## 실제로는 물건의 개수가 아주 많음\n",
    "\n",
    "#388개의 물건, 800명의 유저, /.... 800*388\n"
   ]
  },
  {
   "cell_type": "code",
   "execution_count": 11,
   "metadata": {},
   "outputs": [],
   "source": [
    "df1=pd.read_csv(\"../csv-data/추천시스템분석데이터(협업,컨텐츠).csv\", encoding=\"cp949\")"
   ]
  },
  {
   "cell_type": "code",
   "execution_count": 12,
   "metadata": {},
   "outputs": [],
   "source": [
    "df1=df1.dropna()"
   ]
  },
  {
   "cell_type": "code",
   "execution_count": 13,
   "metadata": {},
   "outputs": [
    {
     "data": {
      "text/html": [
       "<div>\n",
       "<style scoped>\n",
       "    .dataframe tbody tr th:only-of-type {\n",
       "        vertical-align: middle;\n",
       "    }\n",
       "\n",
       "    .dataframe tbody tr th {\n",
       "        vertical-align: top;\n",
       "    }\n",
       "\n",
       "    .dataframe thead th {\n",
       "        text-align: right;\n",
       "    }\n",
       "</style>\n",
       "<table border=\"1\" class=\"dataframe\">\n",
       "  <thead>\n",
       "    <tr style=\"text-align: right;\">\n",
       "      <th></th>\n",
       "      <th>info_idx</th>\n",
       "      <th>product_idx</th>\n",
       "      <th>payment_method</th>\n",
       "      <th>user_id</th>\n",
       "      <th>payment_total</th>\n",
       "      <th>recipient_info</th>\n",
       "      <th>recipient_addr</th>\n",
       "      <th>purchase_product</th>\n",
       "      <th>purchase_quantity</th>\n",
       "      <th>payment_date</th>\n",
       "    </tr>\n",
       "  </thead>\n",
       "  <tbody>\n",
       "    <tr>\n",
       "      <td>0</td>\n",
       "      <td>1.0</td>\n",
       "      <td>1.0</td>\n",
       "      <td>신용카드</td>\n",
       "      <td>1234</td>\n",
       "      <td>49900.0</td>\n",
       "      <td>jinhui99</td>\n",
       "      <td>서울시 용산구</td>\n",
       "      <td>[NF] 핀턱 아일렛 원피스 (CHARCOAL)_F22QD321</td>\n",
       "      <td>5.0</td>\n",
       "      <td>2022-04-19 23:16</td>\n",
       "    </tr>\n",
       "    <tr>\n",
       "      <td>1</td>\n",
       "      <td>2.0</td>\n",
       "      <td>3.0</td>\n",
       "      <td>신용카드</td>\n",
       "      <td>aaaaaa1234</td>\n",
       "      <td>49900.0</td>\n",
       "      <td>jinhui99</td>\n",
       "      <td>서울시 용산구</td>\n",
       "      <td>핀턱 셔츠 롱 원피스 레이온블랙 MDOP043RNBLACK</td>\n",
       "      <td>3.0</td>\n",
       "      <td>2022-04-19 23:29</td>\n",
       "    </tr>\n",
       "    <tr>\n",
       "      <td>2</td>\n",
       "      <td>3.0</td>\n",
       "      <td>4.0</td>\n",
       "      <td>무통장입금</td>\n",
       "      <td>ad123</td>\n",
       "      <td>49900.0</td>\n",
       "      <td>addr</td>\n",
       "      <td>서울시 용산구</td>\n",
       "      <td>[쿨탠다드] 우먼즈 피케 폴로 원피스 [블랙]</td>\n",
       "      <td>3.0</td>\n",
       "      <td>2022-04-19 23:29</td>\n",
       "    </tr>\n",
       "    <tr>\n",
       "      <td>3</td>\n",
       "      <td>4.0</td>\n",
       "      <td>5.0</td>\n",
       "      <td>무통장입금</td>\n",
       "      <td>addr</td>\n",
       "      <td>49900.0</td>\n",
       "      <td>user1</td>\n",
       "      <td>경기도 군포</td>\n",
       "      <td>[쿨탠다드] 우먼즈 피케 폴로 원피스 [네이비]</td>\n",
       "      <td>4.0</td>\n",
       "      <td>2022-04-19 23:44</td>\n",
       "    </tr>\n",
       "    <tr>\n",
       "      <td>4</td>\n",
       "      <td>5.0</td>\n",
       "      <td>6.0</td>\n",
       "      <td>신용카드</td>\n",
       "      <td>admin</td>\n",
       "      <td>49900.0</td>\n",
       "      <td>rtavnerlu</td>\n",
       "      <td>경기도 부천</td>\n",
       "      <td>라이 맥시 롱 원피스 black[블랙]</td>\n",
       "      <td>5.0</td>\n",
       "      <td>2022-04-19 23:48</td>\n",
       "    </tr>\n",
       "    <tr>\n",
       "      <td>...</td>\n",
       "      <td>...</td>\n",
       "      <td>...</td>\n",
       "      <td>...</td>\n",
       "      <td>...</td>\n",
       "      <td>...</td>\n",
       "      <td>...</td>\n",
       "      <td>...</td>\n",
       "      <td>...</td>\n",
       "      <td>...</td>\n",
       "      <td>...</td>\n",
       "    </tr>\n",
       "    <tr>\n",
       "      <td>797</td>\n",
       "      <td>798.0</td>\n",
       "      <td>310.0</td>\n",
       "      <td>무통장입금</td>\n",
       "      <td>qwer</td>\n",
       "      <td>49900.0</td>\n",
       "      <td>mmorey84</td>\n",
       "      <td>521 Roth Parkway</td>\n",
       "      <td>(W) CGC 루즈핏 피케 원피스 네이비</td>\n",
       "      <td>3.0</td>\n",
       "      <td>2022-04-19 23:48</td>\n",
       "    </tr>\n",
       "    <tr>\n",
       "      <td>798</td>\n",
       "      <td>799.0</td>\n",
       "      <td>311.0</td>\n",
       "      <td>신용카드</td>\n",
       "      <td>sdf</td>\n",
       "      <td>49900.0</td>\n",
       "      <td>pturoneft</td>\n",
       "      <td>7 Amoth Alley</td>\n",
       "      <td>블랙 골지 슬림핏 롱 원피스 (112571AC15)</td>\n",
       "      <td>3.0</td>\n",
       "      <td>2022-04-20 23:32</td>\n",
       "    </tr>\n",
       "    <tr>\n",
       "      <td>799</td>\n",
       "      <td>800.0</td>\n",
       "      <td>311.0</td>\n",
       "      <td>신용카드</td>\n",
       "      <td>son</td>\n",
       "      <td>49900.0</td>\n",
       "      <td>rkeydena4</td>\n",
       "      <td>0908 Comanche Drive</td>\n",
       "      <td>클래식 타이트 서머 드레스 - 블랙 / HC2039</td>\n",
       "      <td>5.0</td>\n",
       "      <td>2022-04-20 23:33</td>\n",
       "    </tr>\n",
       "    <tr>\n",
       "      <td>800</td>\n",
       "      <td>801.0</td>\n",
       "      <td>311.0</td>\n",
       "      <td>신용카드</td>\n",
       "      <td>use06048</td>\n",
       "      <td>49900.0</td>\n",
       "      <td>fcovottilp</td>\n",
       "      <td>92 Eagle Crest Street</td>\n",
       "      <td>빅 카라 트위드 자켓 드레스 (퍼플)</td>\n",
       "      <td>4.0</td>\n",
       "      <td>2022-04-20 23:44</td>\n",
       "    </tr>\n",
       "    <tr>\n",
       "      <td>801</td>\n",
       "      <td>802.0</td>\n",
       "      <td>311.0</td>\n",
       "      <td>신용카드</td>\n",
       "      <td>yusub1</td>\n",
       "      <td>49900.0</td>\n",
       "      <td>abannesterau</td>\n",
       "      <td>81679 Waywood Way</td>\n",
       "      <td>[쿨탠다드] 우먼즈 피케 폴로 원피스 [블루 그레이]</td>\n",
       "      <td>3.0</td>\n",
       "      <td>2022-04-21 10:36</td>\n",
       "    </tr>\n",
       "  </tbody>\n",
       "</table>\n",
       "<p>802 rows × 10 columns</p>\n",
       "</div>"
      ],
      "text/plain": [
       "     info_idx  product_idx payment_method     user_id  payment_total  \\\n",
       "0         1.0          1.0           신용카드        1234        49900.0   \n",
       "1         2.0          3.0           신용카드  aaaaaa1234        49900.0   \n",
       "2         3.0          4.0          무통장입금       ad123        49900.0   \n",
       "3         4.0          5.0          무통장입금        addr        49900.0   \n",
       "4         5.0          6.0           신용카드       admin        49900.0   \n",
       "..        ...          ...            ...         ...            ...   \n",
       "797     798.0        310.0          무통장입금        qwer        49900.0   \n",
       "798     799.0        311.0           신용카드         sdf        49900.0   \n",
       "799     800.0        311.0           신용카드         son        49900.0   \n",
       "800     801.0        311.0           신용카드    use06048        49900.0   \n",
       "801     802.0        311.0           신용카드      yusub1        49900.0   \n",
       "\n",
       "    recipient_info         recipient_addr  \\\n",
       "0         jinhui99                서울시 용산구   \n",
       "1         jinhui99                서울시 용산구   \n",
       "2             addr                서울시 용산구   \n",
       "3            user1                 경기도 군포   \n",
       "4        rtavnerlu                 경기도 부천   \n",
       "..             ...                    ...   \n",
       "797       mmorey84       521 Roth Parkway   \n",
       "798      pturoneft          7 Amoth Alley   \n",
       "799      rkeydena4    0908 Comanche Drive   \n",
       "800     fcovottilp  92 Eagle Crest Street   \n",
       "801   abannesterau      81679 Waywood Way   \n",
       "\n",
       "                        purchase_product  purchase_quantity      payment_date  \n",
       "0    [NF] 핀턱 아일렛 원피스 (CHARCOAL)_F22QD321                5.0  2022-04-19 23:16  \n",
       "1       핀턱 셔츠 롱 원피스 레이온블랙 MDOP043RNBLACK                3.0  2022-04-19 23:29  \n",
       "2              [쿨탠다드] 우먼즈 피케 폴로 원피스 [블랙]                3.0  2022-04-19 23:29  \n",
       "3             [쿨탠다드] 우먼즈 피케 폴로 원피스 [네이비]                4.0  2022-04-19 23:44  \n",
       "4                  라이 맥시 롱 원피스 black[블랙]                5.0  2022-04-19 23:48  \n",
       "..                                   ...                ...               ...  \n",
       "797               (W) CGC 루즈핏 피케 원피스 네이비                3.0  2022-04-19 23:48  \n",
       "798         블랙 골지 슬림핏 롱 원피스 (112571AC15)                3.0  2022-04-20 23:32  \n",
       "799         클래식 타이트 서머 드레스 - 블랙 / HC2039                5.0  2022-04-20 23:33  \n",
       "800                 빅 카라 트위드 자켓 드레스 (퍼플)                4.0  2022-04-20 23:44  \n",
       "801        [쿨탠다드] 우먼즈 피케 폴로 원피스 [블루 그레이]                3.0  2022-04-21 10:36  \n",
       "\n",
       "[802 rows x 10 columns]"
      ]
     },
     "execution_count": 13,
     "metadata": {},
     "output_type": "execute_result"
    }
   ],
   "source": [
    "df1"
   ]
  },
  {
   "cell_type": "code",
   "execution_count": 14,
   "metadata": {},
   "outputs": [
    {
     "name": "stdout",
     "output_type": "stream",
     "text": [
      "Requirement already satisfied: gensim in c:\\users\\hi\\anaconda3\\lib\\site-packages (4.2.0)\n",
      "Requirement already satisfied: numpy>=1.17.0 in c:\\users\\hi\\anaconda3\\lib\\site-packages (from gensim) (1.21.6)\n",
      "Requirement already satisfied: smart-open>=1.8.1 in c:\\users\\hi\\anaconda3\\lib\\site-packages (from gensim) (6.0.0)\n",
      "Requirement already satisfied: scipy>=0.18.1 in c:\\users\\hi\\anaconda3\\lib\\site-packages (from gensim) (1.3.1)\n",
      "Requirement already satisfied: Cython==0.29.28 in c:\\users\\hi\\anaconda3\\lib\\site-packages (from gensim) (0.29.28)\n"
     ]
    }
   ],
   "source": [
    "## 임베딩\n",
    "!pip install gensim"
   ]
  },
  {
   "cell_type": "code",
   "execution_count": 15,
   "metadata": {},
   "outputs": [],
   "source": [
    "from gensim.models import Word2Vec"
   ]
  },
  {
   "cell_type": "code",
   "execution_count": 16,
   "metadata": {},
   "outputs": [],
   "source": [
    "doc = [\n",
    "    'you say goodbye and I say hello', \n",
    "    'i say happy or he said white',\n",
    "    'we say unhappy and angry black'\n",
    "]"
   ]
  },
  {
   "cell_type": "code",
   "execution_count": 17,
   "metadata": {},
   "outputs": [],
   "source": [
    "doc2 = [\n",
    "    '나는 굿바이라고 했고, 너는 헬로우라고 했어.', \n",
    "    '나는 기쁘다고 했고, 너는 하얗게 슬프다고 했어.',\n",
    "    '우리는 행복하지 않고, 블랙으로 슬퍼'\n",
    "]"
   ]
  },
  {
   "cell_type": "code",
   "execution_count": 18,
   "metadata": {},
   "outputs": [
    {
     "data": {
      "text/plain": [
       "[['you', 'say', 'goodbye', 'and', 'I', 'say', 'hello'],\n",
       " ['i', 'say', 'happy', 'or', 'he', 'said', 'white'],\n",
       " ['we', 'say', 'unhappy', 'and', 'angry', 'black']]"
      ]
     },
     "execution_count": 18,
     "metadata": {},
     "output_type": "execute_result"
    }
   ],
   "source": [
    "sentences = [ one.split(' ') for one in doc ] \n",
    "#[처리내용 for one in 복수형태의자료구조] => 항상 결과는 리스트\n",
    "sentences"
   ]
  },
  {
   "cell_type": "code",
   "execution_count": 19,
   "metadata": {},
   "outputs": [
    {
     "data": {
      "text/plain": [
       "[['나는', '굿바이라고', '했고,', '너는', '헬로우라고', '했어.'],\n",
       " ['나는', '기쁘다고', '했고,', '너는', '하얗게', '슬프다고', '했어.'],\n",
       " ['우리는', '행복하지', '않고,', '블랙으로', '슬퍼']]"
      ]
     },
     "execution_count": 19,
     "metadata": {},
     "output_type": "execute_result"
    }
   ],
   "source": [
    "sentences2 = [ one.split(' ') for one in doc2 ] \n",
    "sentences2"
   ]
  },
  {
   "cell_type": "code",
   "execution_count": 21,
   "metadata": {},
   "outputs": [],
   "source": [
    "model = Word2Vec(window=1, min_count=1) #특정한 단어의 앞뒤 단어를 유추가능\n",
    "#window : 유추하는 계산을 할때 특정한 단어의 앞뒤 몇개를  가지고 계산을 할지의 단위\n",
    "#min_count : 특정패턴의 출현횟수 "
   ]
  },
  {
   "cell_type": "code",
   "execution_count": 22,
   "metadata": {},
   "outputs": [],
   "source": [
    "model.build_vocab(sentences)"
   ]
  },
  {
   "cell_type": "code",
   "execution_count": 25,
   "metadata": {},
   "outputs": [
    {
     "data": {
      "text/plain": [
       "[('hello', 0.12813478708267212),\n",
       " ('i', 0.10941850394010544),\n",
       " ('said', 0.10889007151126862),\n",
       " ('say', 0.06285080313682556),\n",
       " ('white', 0.05048206076025963),\n",
       " ('he', 0.02680680900812149),\n",
       " ('we', 0.020000366494059563),\n",
       " ('or', 0.01502519566565752),\n",
       " ('angry', 0.012979947961866856),\n",
       " ('I', -0.001197830424644053)]"
      ]
     },
     "execution_count": 25,
     "metadata": {},
     "output_type": "execute_result"
    }
   ],
   "source": [
    "model.wv.most_similar('happy') "
   ]
  },
  {
   "cell_type": "code",
   "execution_count": 26,
   "metadata": {},
   "outputs": [],
   "source": [
    "#한글\n",
    "model2 = Word2Vec(window=1, min_count=1)"
   ]
  },
  {
   "cell_type": "code",
   "execution_count": 28,
   "metadata": {},
   "outputs": [],
   "source": [
    "model2.build_vocab(sentences2)"
   ]
  },
  {
   "cell_type": "code",
   "execution_count": 31,
   "metadata": {},
   "outputs": [
    {
     "data": {
      "text/plain": [
       "[('했어.', 0.13149002194404602),\n",
       " ('슬프다고', 0.07497556507587433),\n",
       " ('굿바이라고', 0.0679759532213211),\n",
       " ('기쁘다고', 0.04157735034823418),\n",
       " ('않고,', 0.04130808264017105),\n",
       " ('행복하지', 0.012979946099221706),\n",
       " ('슬퍼', 0.006598414853215218),\n",
       " ('블랙으로', -0.009253432042896748),\n",
       " ('했고,', -0.013514961116015911),\n",
       " ('하얗게', -0.0136797446757555)]"
      ]
     },
     "execution_count": 31,
     "metadata": {},
     "output_type": "execute_result"
    }
   ],
   "source": [
    "# model2.wv.most_similar('나는') \n",
    "model2.wv.most_similar('너는') "
   ]
  },
  {
   "cell_type": "code",
   "execution_count": 32,
   "metadata": {},
   "outputs": [],
   "source": [
    "import pandas as pd\n",
    "from sklearn.feature_extraction.text import TfidfVectorizer\n",
    "from sklearn.metrics.pairwise import cosine_similarity, euclidean_distances"
   ]
  },
  {
   "cell_type": "code",
   "execution_count": 35,
   "metadata": {},
   "outputs": [],
   "source": [
    "tfidf = TfidfVectorizer(stop_words='english')#불용어 처리가 가능한 tfidf생성\n",
    "#tfidf는 빈도수를 구하긴 하지만 문서마다 자주등장하는 문서는 각 문서를 구분할 단어로\n",
    "##사용하기엔 부적합하여 가중치를 낮추어 계산"
   ]
  },
  {
   "cell_type": "code",
   "execution_count": 37,
   "metadata": {},
   "outputs": [
    {
     "name": "stdout",
     "output_type": "stream",
     "text": [
      "TF-IDF 행렬의 크기(shape) : (3, 9)\n"
     ]
    }
   ],
   "source": [
    "tfidf_matrix = tfidf.fit_transform(doc) ## 객체.. \n",
    "print('TF-IDF 행렬의 크기(shape) :',tfidf_matrix.shape)\n",
    "# (3, 9) = > 3은 문장의 갯수 \n",
    "#        = > 9는 단어의 갯수"
   ]
  },
  {
   "cell_type": "code",
   "execution_count": 38,
   "metadata": {},
   "outputs": [
    {
     "data": {
      "text/plain": [
       "array([[0.        , 0.        , 0.54270061, 0.        , 0.54270061,\n",
       "        0.        , 0.64105545, 0.        , 0.        ],\n",
       "       [0.        , 0.        , 0.        , 0.54645401, 0.        ,\n",
       "        0.54645401, 0.32274454, 0.        , 0.54645401],\n",
       "       [0.54645401, 0.54645401, 0.        , 0.        , 0.        ,\n",
       "        0.        , 0.32274454, 0.54645401, 0.        ]])"
      ]
     },
     "execution_count": 38,
     "metadata": {},
     "output_type": "execute_result"
    }
   ],
   "source": [
    "tfidf_matrix.toarray()"
   ]
  },
  {
   "cell_type": "code",
   "execution_count": 39,
   "metadata": {},
   "outputs": [
    {
     "data": {
      "text/plain": [
       "array([[1.        , 0.20689715, 0.20689715],\n",
       "       [0.20689715, 1.        , 0.10416404],\n",
       "       [0.20689715, 0.10416404, 1.        ]])"
      ]
     },
     "execution_count": 39,
     "metadata": {},
     "output_type": "execute_result"
    }
   ],
   "source": [
    "cosine_similarity(tfidf_matrix,tfidf_matrix )"
   ]
  },
  {
   "cell_type": "code",
   "execution_count": 42,
   "metadata": {},
   "outputs": [],
   "source": [
    "#[1.        , 0.20689715, 0.20689715],\n",
    "# [0.20689715, 1.        , 0.10416404],\n",
    "# [0.20689715, 0.10416404, 1.        ]\n",
    "\n",
    "# 문서 1 + 문서 2 : 0.21    => 유사하다\n",
    "# 문서 1 + 문서 3 : 0.21   => 유사하다\n",
    "# 문서 3 + 문서 2 : 0.10    => 유사하지않다. "
   ]
  },
  {
   "cell_type": "code",
   "execution_count": 46,
   "metadata": {},
   "outputs": [
    {
     "data": {
      "text/plain": [
       "array([[1.        , 0.33333333, 0.8660254 , 0.        ],\n",
       "       [0.33333333, 1.        , 0.57735027, 0.81649658],\n",
       "       [0.8660254 , 0.57735027, 1.        , 0.35355339],\n",
       "       [0.        , 0.81649658, 0.35355339, 1.        ]])"
      ]
     },
     "execution_count": 46,
     "metadata": {},
     "output_type": "execute_result"
    }
   ],
   "source": [
    "re= cosine_similarity(te_ary, te_ary) \n",
    "re"
   ]
  },
  {
   "cell_type": "code",
   "execution_count": 45,
   "metadata": {},
   "outputs": [],
   "source": [
    "#[1.        , 0.33333333, 0.8660254 , 0.        ],\n",
    "# [0.33333333, 1.        , 0.57735027, 0.81649658],\n",
    "#    [0.8660254 , 0.57735027, 1.        , 0.35355339],\n",
    "#[0.        , 0.81649658, 0.35355339, 1.        ]\n",
    "\n",
    "# 장바구니 1 + 장바구니 2 : 0.33   => 유사하다\n",
    "# 장바구니 1 + 장바구니 3 : 0.86   => 매우 유사하다\n",
    "# 장바구니 1 + 장바구니 4 : 0   => 유사하지않다. \n",
    "# 장바구니 2 + 장바구니 3 : 0.57    => 유사하다\n",
    "# 장바구니 2 + 장바구니 4 : 0.81    => 매우 유사하다\n",
    "# 장바구니 3 + 장바구니 4 : 0.35    => 유사하다\n",
    "\n",
    "#-------------------------------------------------\n",
    "# 장바구니 1과 3 매우 유사, 장바구니 2, 4 매우 유사\n",
    "\n",
    "\n",
    "#장바구니 1번과 제일 유사도가 높은 바구니는 3   .... > 양상추 추천\n"
   ]
  },
  {
   "cell_type": "code",
   "execution_count": 53,
   "metadata": {},
   "outputs": [],
   "source": [
    "import numpy as np\n",
    "import matplotlib.font_manager as fm\n",
    "from matplotlib import rc\n",
    "fm._rebuild()\n",
    "fm.get_fontconfig_fonts()\n",
    "\n",
    "# 디렉토리 및 파일 이름에 맞추어 변경\n",
    "font_location = '../NanumSquareRoundEB.ttf'\n",
    "font_name = fm.FontProperties(fname=font_location).get_name()\n",
    "rc('font', family=font_name)"
   ]
  },
  {
   "cell_type": "code",
   "execution_count": 68,
   "metadata": {},
   "outputs": [
    {
     "data": {
      "image/png": "[encoded data removed]",
      "text/plain": [
       "<Figure size 432x288 with 1 Axes>"
      ]
     },
     "metadata": {
      "needs_background": "light"
     },
     "output_type": "display_data"
    }
   ],
   "source": [
    "#유사도 그래프로 그리기\n",
    "plt.title(\"장바구니별 유사도\")\n",
    "plt.xlabel(\"장바구니\")\n",
    "plt.ylabel(\"유사도\")\n",
    "x=['장바구니1', '장바구니2', '장바구니3', '장바구니4']\n",
    "for i, array in enumerate(re):\n",
    "    plt.plot(x, array, color = np.random.rand(3, ), marker = \"o\", label = f\"장바구니{i+1}\")\n",
    "    \n",
    "plt.legend(loc = \"center left\", bbox_to_anchor=(1, 0.5))\n",
    "plt.show()"
   ]
  },
  {
   "cell_type": "code",
   "execution_count": null,
   "metadata": {},
   "outputs": [],
   "source": []
  }
 ],
 "metadata": {
  "kernelspec": {
   "display_name": "Python 3",
   "language": "python",
   "name": "python3"
  },
  "language_info": {
   "codemirror_mode": {
    "name": "ipython",
    "version": 3
   },
   "file_extension": ".py",
   "mimetype": "text/x-python",
   "name": "python",
   "nbconvert_exporter": "python",
   "pygments_lexer": "ipython3",
   "version": "3.7.4"
  }
 },
 "nbformat": 4,
 "nbformat_minor": 2
}

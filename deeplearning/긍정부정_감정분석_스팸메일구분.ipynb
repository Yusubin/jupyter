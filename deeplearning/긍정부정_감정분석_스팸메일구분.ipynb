{
 "cells": [
  {
   "cell_type": "code",
   "execution_count": 1,
   "metadata": {},
   "outputs": [],
   "source": [
    "from sklearn.feature_extraction.text import TfidfVectorizer, CountVectorizer"
   ]
  },
  {
   "cell_type": "code",
   "execution_count": 2,
   "metadata": {},
   "outputs": [],
   "source": [
    "corpus = [\n",
    "    'you know I want your love',\n",
    "    'I like you',\n",
    "    'what should I do ',    \n",
    "]"
   ]
  },
  {
   "cell_type": "code",
   "execution_count": 3,
   "metadata": {},
   "outputs": [
    {
     "name": "stdout",
     "output_type": "stream",
     "text": [
      "[[0 1 0 1 0 1 0 1 1]\n",
      " [0 0 1 0 0 0 0 1 0]\n",
      " [1 0 0 0 1 0 1 0 0]]\n"
     ]
    }
   ],
   "source": [
    "cv = CountVectorizer()\n",
    "print(cv.fit_transform(corpus).toarray()) # 빈도수 기록"
   ]
  },
  {
   "cell_type": "code",
   "execution_count": 4,
   "metadata": {},
   "outputs": [
    {
     "name": "stdout",
     "output_type": "stream",
     "text": [
      "{'you': 7, 'know': 1, 'want': 5, 'your': 8, 'love': 3, 'like': 2, 'what': 6, 'should': 4, 'do': 0}\n"
     ]
    }
   ],
   "source": [
    "print(cv.vocabulary_)"
   ]
  },
  {
   "cell_type": "code",
   "execution_count": 5,
   "metadata": {},
   "outputs": [
    {
     "name": "stdout",
     "output_type": "stream",
     "text": [
      "[[0.         0.46735098 0.         0.46735098 0.         0.46735098\n",
      "  0.         0.35543247 0.46735098]\n",
      " [0.         0.         0.79596054 0.         0.         0.\n",
      "  0.         0.60534851 0.        ]\n",
      " [0.57735027 0.         0.         0.         0.57735027 0.\n",
      "  0.57735027 0.         0.        ]]\n"
     ]
    }
   ],
   "source": [
    "tfidfv = TfidfVectorizer().fit(corpus)\n",
    "print(tfidfv.transform(corpus).toarray())"
   ]
  },
  {
   "cell_type": "code",
   "execution_count": 6,
   "metadata": {},
   "outputs": [
    {
     "name": "stdout",
     "output_type": "stream",
     "text": [
      "{'you': 7, 'know': 1, 'want': 5, 'your': 8, 'love': 3, 'like': 2, 'what': 6, 'should': 4, 'do': 0}\n"
     ]
    }
   ],
   "source": [
    "print(tfidfv.vocabulary_)"
   ]
  },
  {
   "cell_type": "code",
   "execution_count": 13,
   "metadata": {},
   "outputs": [
    {
     "data": {
      "text/plain": [
       "array([[0, 1, 0, 1, 0, 1, 0, 1, 1],\n",
       "       [0, 0, 1, 0, 0, 0, 0, 1, 0],\n",
       "       [1, 0, 0, 0, 1, 0, 1, 0, 0]], dtype=int64)"
      ]
     },
     "execution_count": 13,
     "metadata": {},
     "output_type": "execute_result"
    }
   ],
   "source": [
    "vectorized_data = cv.fit_transform(corpus).toarray()\n",
    "vectorized_data"
   ]
  },
  {
   "cell_type": "code",
   "execution_count": 14,
   "metadata": {},
   "outputs": [
    {
     "data": {
      "text/plain": [
       "[array(['know', 'love', 'want', 'you', 'your'], dtype='<U6'),\n",
       " array(['like', 'you'], dtype='<U6'),\n",
       " array(['do', 'should', 'what'], dtype='<U6')]"
      ]
     },
     "execution_count": 14,
     "metadata": {},
     "output_type": "execute_result"
    }
   ],
   "source": [
    "cv.inverse_transform(vectorized_data)"
   ]
  },
  {
   "cell_type": "code",
   "execution_count": 15,
   "metadata": {},
   "outputs": [
    {
     "data": {
      "text/plain": [
       "['do', 'know', 'like', 'love', 'should', 'want', 'what', 'you', 'your']"
      ]
     },
     "execution_count": 15,
     "metadata": {},
     "output_type": "execute_result"
    }
   ],
   "source": [
    "cv.get_feature_names()"
   ]
  },
  {
   "cell_type": "code",
   "execution_count": 18,
   "metadata": {},
   "outputs": [
    {
     "name": "stdout",
     "output_type": "stream",
     "text": [
      "0 :  do\n",
      "1 :  know\n",
      "2 :  like\n",
      "3 :  love\n",
      "4 :  should\n",
      "5 :  want\n",
      "6 :  what\n",
      "7 :  you\n",
      "8 :  your\n"
     ]
    }
   ],
   "source": [
    "for index, value in enumerate(cv.get_feature_names()):\n",
    "    print(index, ': ', value)"
   ]
  },
  {
   "cell_type": "code",
   "execution_count": 19,
   "metadata": {},
   "outputs": [],
   "source": [
    "corpus2 = [\n",
    "    'you know I want your love',\n",
    "    'I like you',\n",
    "    'what should I do ',\n",
    "    'so haha',\n",
    "    'i am happy',\n",
    "    'i am a programmer'\n",
    "]"
   ]
  },
  {
   "cell_type": "code",
   "execution_count": 20,
   "metadata": {},
   "outputs": [
    {
     "data": {
      "text/plain": [
       "array([[0, 1, 0, 1, 0, 1, 0, 1, 1],\n",
       "       [0, 0, 1, 0, 0, 0, 0, 1, 0],\n",
       "       [1, 0, 0, 0, 1, 0, 1, 0, 0],\n",
       "       [0, 0, 0, 0, 0, 0, 0, 0, 0],\n",
       "       [0, 0, 0, 0, 0, 0, 0, 0, 0],\n",
       "       [0, 0, 0, 0, 0, 0, 0, 0, 0]], dtype=int64)"
      ]
     },
     "execution_count": 20,
     "metadata": {},
     "output_type": "execute_result"
    }
   ],
   "source": [
    "cv.transform(corpus2).toarray()"
   ]
  },
  {
   "cell_type": "markdown",
   "metadata": {},
   "source": [
    "## 스팸/팸 구분\n",
    "Eng. Counter 이용"
   ]
  },
  {
   "cell_type": "code",
   "execution_count": 21,
   "metadata": {},
   "outputs": [],
   "source": [
    "ham=['order','confilrm','check','customer','payment','send','general','club']\n",
    "spam=['advertise','promotion','sales','hu','special','sale','member','company']"
   ]
  },
  {
   "cell_type": "code",
   "execution_count": 22,
   "metadata": {},
   "outputs": [],
   "source": [
    "spam_cv = CountVectorizer()\n",
    "ham_cv = CountVectorizer()"
   ]
  },
  {
   "cell_type": "code",
   "execution_count": 23,
   "metadata": {},
   "outputs": [
    {
     "data": {
      "text/plain": [
       "{'advertise': 0,\n",
       " 'promotion': 4,\n",
       " 'sales': 6,\n",
       " 'hu': 2,\n",
       " 'special': 7,\n",
       " 'sale': 5,\n",
       " 'member': 3,\n",
       " 'company': 1}"
      ]
     },
     "execution_count": 23,
     "metadata": {},
     "output_type": "execute_result"
    }
   ],
   "source": [
    "spam_cv.fit(spam)\n",
    "spam_cv.vocabulary_"
   ]
  },
  {
   "cell_type": "code",
   "execution_count": 24,
   "metadata": {},
   "outputs": [],
   "source": [
    "email=[\"promotion & advertise !! hu good sales sale check payment\"]"
   ]
  },
  {
   "cell_type": "code",
   "execution_count": 25,
   "metadata": {},
   "outputs": [
    {
     "data": {
      "text/plain": [
       "[1, 0, 1, 0, 1, 1, 1, 0]"
      ]
     },
     "execution_count": 25,
     "metadata": {},
     "output_type": "execute_result"
    }
   ],
   "source": [
    "result1=spam_cv.transform(email).toarray()\n",
    "result1=result1.tolist()\n",
    "result1=result1[0]\n",
    "result1"
   ]
  },
  {
   "cell_type": "code",
   "execution_count": 26,
   "metadata": {},
   "outputs": [
    {
     "data": {
      "text/plain": [
       "{'order': 5,\n",
       " 'confilrm': 2,\n",
       " 'check': 0,\n",
       " 'customer': 3,\n",
       " 'payment': 6,\n",
       " 'send': 7,\n",
       " 'general': 4,\n",
       " 'club': 1}"
      ]
     },
     "execution_count": 26,
     "metadata": {},
     "output_type": "execute_result"
    }
   ],
   "source": [
    "ham_cv.fit(ham)\n",
    "ham_cv.vocabulary_"
   ]
  },
  {
   "cell_type": "code",
   "execution_count": 27,
   "metadata": {},
   "outputs": [
    {
     "data": {
      "text/plain": [
       "[1, 0, 0, 0, 0, 0, 1, 0]"
      ]
     },
     "execution_count": 27,
     "metadata": {},
     "output_type": "execute_result"
    }
   ],
   "source": [
    "result2=ham_cv.transform(email).toarray()\n",
    "result2=result2.tolist()\n",
    "result2=result2[0]\n",
    "result2"
   ]
  },
  {
   "cell_type": "code",
   "execution_count": 28,
   "metadata": {},
   "outputs": [
    {
     "data": {
      "text/plain": [
       "list"
      ]
     },
     "execution_count": 28,
     "metadata": {},
     "output_type": "execute_result"
    }
   ],
   "source": [
    "type(result1)"
   ]
  },
  {
   "cell_type": "code",
   "execution_count": 29,
   "metadata": {},
   "outputs": [],
   "source": [
    "spam_count= result1.count(1)\n",
    "ham_count= result2.count(1)"
   ]
  },
  {
   "cell_type": "code",
   "execution_count": 30,
   "metadata": {},
   "outputs": [
    {
     "name": "stdout",
     "output_type": "stream",
     "text": [
      "스팸메일입니다\n"
     ]
    }
   ],
   "source": [
    "if spam_count >= ham_count:\n",
    "    print(\"스팸메일입니다\")\n",
    "else:\n",
    "    print(\"정상메일입니다.\")"
   ]
  },
  {
   "cell_type": "markdown",
   "metadata": {},
   "source": [
    "### TF_IDF 이용"
   ]
  },
  {
   "cell_type": "code",
   "execution_count": 31,
   "metadata": {},
   "outputs": [],
   "source": [
    "spam_tfidfv = TfidfVectorizer().fit(spam)\n",
    "ham_tfidfv = TfidfVectorizer().fit(ham)"
   ]
  },
  {
   "cell_type": "code",
   "execution_count": 32,
   "metadata": {},
   "outputs": [
    {
     "data": {
      "text/plain": [
       "2.23606797749979"
      ]
     },
     "execution_count": 32,
     "metadata": {},
     "output_type": "execute_result"
    }
   ],
   "source": [
    "spam_list=spam_tfidfv.transform(email).toarray()\n",
    "spam_list=spam_list.tolist()\n",
    "spam_list=spam_list[0]\n",
    "sum(spam_list)"
   ]
  },
  {
   "cell_type": "code",
   "execution_count": 33,
   "metadata": {},
   "outputs": [
    {
     "data": {
      "text/plain": [
       "1.414213562373095"
      ]
     },
     "execution_count": 33,
     "metadata": {},
     "output_type": "execute_result"
    }
   ],
   "source": [
    "ham_list=ham_tfidfv.transform(email).toarray()\n",
    "ham_list=ham_list.tolist()\n",
    "ham_list=ham_list[0]\n",
    "sum(ham_list)"
   ]
  },
  {
   "cell_type": "code",
   "execution_count": 34,
   "metadata": {},
   "outputs": [
    {
     "name": "stdout",
     "output_type": "stream",
     "text": [
      "스팸메일입니다\n"
     ]
    }
   ],
   "source": [
    "if sum(spam_list) >= sum(ham_list):\n",
    "    print(\"스팸메일입니다\")\n",
    "else:\n",
    "    print(\"정상메일입니다.\")"
   ]
  },
  {
   "cell_type": "markdown",
   "metadata": {},
   "source": [
    "### 한글로!!\n",
    "한글로 사전 만들고 스팸인지 아닌지 판단"
   ]
  },
  {
   "cell_type": "code",
   "execution_count": 35,
   "metadata": {},
   "outputs": [],
   "source": [
    "kor_spam=[\"당일\",\"고객\",\"팀장\",\"방문\",\"광고\",\"상담\",\"최대\",\"세일\",\"당첨\",\"무료\",\"허경영\"]\n",
    "kor_ham=[\"입금\",\"확인\",\"송금\",\"본인확인\",\"승인\",\"요청\",\"지불\",\"동호회\",\"주문\",\"배송\"]"
   ]
  },
  {
   "cell_type": "code",
   "execution_count": 36,
   "metadata": {},
   "outputs": [],
   "source": [
    "email2=[\"광고 !! 허경영 good 세일 확인 지불\"]"
   ]
  },
  {
   "cell_type": "code",
   "execution_count": 37,
   "metadata": {},
   "outputs": [],
   "source": [
    "spam_cv = CountVectorizer()\n",
    "ham_cv = CountVectorizer()"
   ]
  },
  {
   "cell_type": "code",
   "execution_count": 38,
   "metadata": {},
   "outputs": [
    {
     "data": {
      "text/plain": [
       "{'입금': 6,\n",
       " '확인': 9,\n",
       " '송금': 3,\n",
       " '본인확인': 2,\n",
       " '승인': 4,\n",
       " '요청': 5,\n",
       " '지불': 8,\n",
       " '동호회': 0,\n",
       " '주문': 7,\n",
       " '배송': 1}"
      ]
     },
     "execution_count": 38,
     "metadata": {},
     "output_type": "execute_result"
    }
   ],
   "source": [
    "ham_cv.fit(kor_ham)\n",
    "ham_cv.vocabulary_"
   ]
  },
  {
   "cell_type": "code",
   "execution_count": 39,
   "metadata": {},
   "outputs": [
    {
     "data": {
      "text/plain": [
       "[0, 0, 0, 0, 0, 0, 0, 0, 1, 1]"
      ]
     },
     "execution_count": 39,
     "metadata": {},
     "output_type": "execute_result"
    }
   ],
   "source": [
    "result2=ham_cv.transform(email2).toarray()\n",
    "result2=result2.tolist()\n",
    "result2=result2[0]\n",
    "result2"
   ]
  },
  {
   "cell_type": "code",
   "execution_count": 40,
   "metadata": {},
   "outputs": [
    {
     "data": {
      "text/plain": [
       "{'당일': 2,\n",
       " '고객': 0,\n",
       " '팀장': 9,\n",
       " '방문': 5,\n",
       " '광고': 1,\n",
       " '상담': 6,\n",
       " '최대': 8,\n",
       " '세일': 7,\n",
       " '당첨': 3,\n",
       " '무료': 4,\n",
       " '허경영': 10}"
      ]
     },
     "execution_count": 40,
     "metadata": {},
     "output_type": "execute_result"
    }
   ],
   "source": [
    "spam_cv.fit(kor_spam)\n",
    "spam_cv.vocabulary_"
   ]
  },
  {
   "cell_type": "code",
   "execution_count": 41,
   "metadata": {},
   "outputs": [
    {
     "data": {
      "text/plain": [
       "[0, 1, 0, 0, 0, 0, 0, 1, 0, 0, 1]"
      ]
     },
     "execution_count": 41,
     "metadata": {},
     "output_type": "execute_result"
    }
   ],
   "source": [
    "result1=spam_cv.transform(email2).toarray()\n",
    "result1=result1.tolist()\n",
    "result1=result1[0]\n",
    "result1"
   ]
  },
  {
   "cell_type": "code",
   "execution_count": 42,
   "metadata": {},
   "outputs": [],
   "source": [
    "spam_count= result1.count(1)\n",
    "ham_count= result2.count(1)"
   ]
  },
  {
   "cell_type": "code",
   "execution_count": 43,
   "metadata": {},
   "outputs": [
    {
     "name": "stdout",
     "output_type": "stream",
     "text": [
      "스팸메일입니다\n"
     ]
    }
   ],
   "source": [
    "if spam_count >= ham_count:\n",
    "    print(\"스팸메일입니다\")\n",
    "else:\n",
    "    print(\"정상메일입니다.\")"
   ]
  },
  {
   "cell_type": "markdown",
   "metadata": {},
   "source": [
    "### 감정 분류기 만들어보세요\n",
    "긍정/부정사전을 만들어서 \n",
    "input을 이용해 문장을 입력받으면 긍정인지 부정인지 판단\n",
    "if-df 사용!"
   ]
  },
  {
   "cell_type": "code",
   "execution_count": 1,
   "metadata": {},
   "outputs": [],
   "source": [
    "from sklearn.feature_extraction.text import TfidfVectorizer"
   ]
  },
  {
   "cell_type": "code",
   "execution_count": 2,
   "metadata": {},
   "outputs": [],
   "source": [
    "positive=[\"흥미\",\"좋다\",\"완벽\",\"새롭\",\"특별\",\"재미있\",\"기대\",\"가능\"]\n",
    "negative=[\"없다\",\"아니다\",\"귀찮다\",\"짜증\",\"무섭다\",\"어렵\",\"이상\",\"불량\"]"
   ]
  },
  {
   "cell_type": "code",
   "execution_count": 3,
   "metadata": {},
   "outputs": [
    {
     "name": "stdout",
     "output_type": "stream",
     "text": [
      "문장을 입력하세요\n"
     ]
    }
   ],
   "source": [
    "sentence=[input(\"문장을 입력하세요\")]"
   ]
  },
  {
   "cell_type": "code",
   "execution_count": 4,
   "metadata": {},
   "outputs": [],
   "source": [
    "positive_tfidfv = TfidfVectorizer().fit(positive)\n",
    "negative_tfidfv = TfidfVectorizer().fit(negative)"
   ]
  },
  {
   "cell_type": "code",
   "execution_count": 5,
   "metadata": {},
   "outputs": [
    {
     "data": {
      "text/plain": [
       "0.0"
      ]
     },
     "execution_count": 5,
     "metadata": {},
     "output_type": "execute_result"
    }
   ],
   "source": [
    "positive_list=positive_tfidfv.transform(sentence).toarray()\n",
    "positive_list=positive_list.tolist()\n",
    "positive_list=positive_list[0]\n",
    "sum(positive_list)"
   ]
  },
  {
   "cell_type": "code",
   "execution_count": 6,
   "metadata": {},
   "outputs": [
    {
     "data": {
      "text/plain": [
       "0.0"
      ]
     },
     "execution_count": 6,
     "metadata": {},
     "output_type": "execute_result"
    }
   ],
   "source": [
    "negative_list=negative_tfidfv.transform(sentence).toarray()\n",
    "negative_list=negative_list.tolist()\n",
    "negative_list=negative_list[0]\n",
    "sum(negative_list)"
   ]
  },
  {
   "cell_type": "code",
   "execution_count": 7,
   "metadata": {},
   "outputs": [
    {
     "name": "stdout",
     "output_type": "stream",
     "text": [
      "긍정입니다\n"
     ]
    }
   ],
   "source": [
    "if sum(positive_list) >= sum(negative_list):\n",
    "    print(\"긍정입니다\")\n",
    "else:\n",
    "    print(\"부정입니다.\")"
   ]
  },
  {
   "cell_type": "markdown",
   "metadata": {},
   "source": [
    "-----------------------------------------------------------------------------------------------"
   ]
  },
  {
   "cell_type": "code",
   "execution_count": 8,
   "metadata": {},
   "outputs": [],
   "source": [
    "from sklearn.feature_extraction.text import TfidfVectorizer"
   ]
  },
  {
   "cell_type": "code",
   "execution_count": 9,
   "metadata": {},
   "outputs": [],
   "source": [
    "positive=[\"흥미\",\"좋다\",\"완벽\",\"새롭\",\"특별\",\"재미있\",\"기대\",\"가능\"]\n",
    "negative=[\"없다\",\"아니다\",\"귀찮\",\"짜증\",\"무섭\",\"어렵\",\"이상\",\"불량\"]"
   ]
  },
  {
   "cell_type": "code",
   "execution_count": 10,
   "metadata": {},
   "outputs": [],
   "source": [
    "from konlpy.tag import Kkma \n",
    "kkma = Kkma()"
   ]
  },
  {
   "cell_type": "code",
   "execution_count": 11,
   "metadata": {},
   "outputs": [
    {
     "name": "stderr",
     "output_type": "stream",
     "text": [
      "C:\\Users\\hi\\Anaconda3\\lib\\site-packages\\sklearn\\feature_extraction\\text.py:517: UserWarning: The parameter 'token_pattern' will not be used since 'tokenizer' is not None'\n",
      "  \"The parameter 'token_pattern' will not be used\"\n"
     ]
    }
   ],
   "source": [
    "positive_tfidfv = TfidfVectorizer(tokenizer=kkma.pos).fit(positive)\n",
    "negative_tfidfv = TfidfVectorizer(tokenizer=kkma.pos).fit(negative)"
   ]
  },
  {
   "cell_type": "code",
   "execution_count": 12,
   "metadata": {},
   "outputs": [
    {
     "name": "stdout",
     "output_type": "stream",
     "text": [
      "문장을 입력하세요너진짜 짜증나고 무섭다\n"
     ]
    }
   ],
   "source": [
    "sentence=[input(\"문장을 입력하세요\")]"
   ]
  },
  {
   "cell_type": "code",
   "execution_count": 13,
   "metadata": {},
   "outputs": [
    {
     "data": {
      "text/plain": [
       "1.0"
      ]
     },
     "execution_count": 13,
     "metadata": {},
     "output_type": "execute_result"
    }
   ],
   "source": [
    "positive_list=positive_tfidfv.transform(sentence).toarray()\n",
    "positive_list=positive_list.tolist()\n",
    "positive_list=positive_list[0]\n",
    "sum(positive_list)"
   ]
  },
  {
   "cell_type": "code",
   "execution_count": 14,
   "metadata": {},
   "outputs": [
    {
     "data": {
      "text/plain": [
       "1.0"
      ]
     },
     "execution_count": 14,
     "metadata": {},
     "output_type": "execute_result"
    }
   ],
   "source": [
    "negative_list=negative_tfidfv.transform(sentence).toarray()\n",
    "negative_list=negative_list.tolist()\n",
    "negative_list=negative_list[0]\n",
    "sum(negative_list)"
   ]
  },
  {
   "cell_type": "code",
   "execution_count": 15,
   "metadata": {},
   "outputs": [
    {
     "name": "stdout",
     "output_type": "stream",
     "text": [
      "긍정입니다\n"
     ]
    }
   ],
   "source": [
    "if sum(positive_list) >= sum(negative_list):\n",
    "    print(\"긍정입니다\")\n",
    "else:\n",
    "    print(\"부정입니다.\")"
   ]
  },
  {
   "cell_type": "markdown",
   "metadata": {},
   "source": [
    "-----------------------------------------------------------------------------------------------"
   ]
  },
  {
   "cell_type": "code",
   "execution_count": 16,
   "metadata": {},
   "outputs": [],
   "source": [
    "def positive_negative():\n",
    "    sentence=input(\"문장을 입력하세요\")\n",
    "    sentence2=[sentence]\n",
    "    positive_list=positive_tfidfv.transform(sentence2).toarray()\n",
    "    positive_list=positive_list.tolist()\n",
    "    positive_list=positive_list[0]\n",
    "    sum(positive_list)\n",
    "    \n",
    "    negative_list=negative_tfidfv.transform(sentence2).toarray()\n",
    "    negative_list=negative_list.tolist()\n",
    "    negative_list=negative_list[0]\n",
    "    sum(negative_list)\n",
    "    \n",
    "    if sum(positive_list) >= sum(negative_list):\n",
    "        print(\"긍정입니다\")\n",
    "    else:\n",
    "        print(\"부정입니다.\")\n",
    "    return sentence"
   ]
  },
  {
   "cell_type": "code",
   "execution_count": 17,
   "metadata": {},
   "outputs": [
    {
     "name": "stdout",
     "output_type": "stream",
     "text": [
      "문장을 입력하세요너 진짜 짜증ㅇ나고 무섭다\n",
      "부정입니다.\n"
     ]
    },
    {
     "data": {
      "text/plain": [
       "'너 진짜 짜증ㅇ나고 무섭다'"
      ]
     },
     "execution_count": 17,
     "metadata": {},
     "output_type": "execute_result"
    }
   ],
   "source": [
    "positive_negative()"
   ]
  },
  {
   "cell_type": "code",
   "execution_count": 18,
   "metadata": {},
   "outputs": [
    {
     "name": "stdout",
     "output_type": "stream",
     "text": [
      "문장을 입력하세요너 진짜 완벽하다\n",
      "긍정입니다\n"
     ]
    },
    {
     "data": {
      "text/plain": [
       "'너 진짜 완벽하다'"
      ]
     },
     "execution_count": 18,
     "metadata": {},
     "output_type": "execute_result"
    }
   ],
   "source": [
    "positive_negative()"
   ]
  },
  {
   "cell_type": "code",
   "execution_count": 19,
   "metadata": {},
   "outputs": [],
   "source": [
    "import pickle\n",
    "import joblib"
   ]
  },
  {
   "cell_type": "code",
   "execution_count": null,
   "metadata": {},
   "outputs": [],
   "source": [
    "saved_model=pickle.dumps()"
   ]
  }
 ],
 "metadata": {
  "kernelspec": {
   "display_name": "Python 3",
   "language": "python",
   "name": "python3"
  },
  "language_info": {
   "codemirror_mode": {
    "name": "ipython",
    "version": 3
   },
   "file_extension": ".py",
   "mimetype": "text/x-python",
   "name": "python",
   "nbconvert_exporter": "python",
   "pygments_lexer": "ipython3",
   "version": "3.7.4"
  }
 },
 "nbformat": 4,
 "nbformat_minor": 2
}

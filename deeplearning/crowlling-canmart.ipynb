{
 "cells": [
  {
   "cell_type": "code",
   "execution_count": 1,
   "metadata": {},
   "outputs": [
    {
     "name": "stdout",
     "output_type": "stream",
     "text": [
      "Requirement already satisfied: selenium in c:\\users\\hi\\anaconda3\\lib\\site-packages (4.1.3)\n",
      "Requirement already satisfied: trio~=0.17 in c:\\users\\hi\\anaconda3\\lib\\site-packages (from selenium) (0.20.0)\n",
      "Requirement already satisfied: urllib3[secure,socks]~=1.26 in c:\\users\\hi\\anaconda3\\lib\\site-packages (from selenium) (1.26.9)\n",
      "Requirement already satisfied: trio-websocket~=0.9 in c:\\users\\hi\\anaconda3\\lib\\site-packages (from selenium) (0.9.2)\n",
      "Requirement already satisfied: attrs>=19.2.0 in c:\\users\\hi\\anaconda3\\lib\\site-packages (from trio~=0.17->selenium) (19.2.0)\n",
      "Requirement already satisfied: sniffio in c:\\users\\hi\\anaconda3\\lib\\site-packages (from trio~=0.17->selenium) (1.2.0)\n",
      "Requirement already satisfied: outcome in c:\\users\\hi\\anaconda3\\lib\\site-packages (from trio~=0.17->selenium) (1.1.0)\n",
      "Requirement already satisfied: idna in c:\\users\\hi\\anaconda3\\lib\\site-packages (from trio~=0.17->selenium) (2.8)\n",
      "Requirement already satisfied: cffi>=1.14; os_name == \"nt\" and implementation_name != \"pypy\" in c:\\users\\hi\\anaconda3\\lib\\site-packages (from trio~=0.17->selenium) (1.15.0)\n",
      "Requirement already satisfied: async-generator>=1.9 in c:\\users\\hi\\anaconda3\\lib\\site-packages (from trio~=0.17->selenium) (1.10)\n",
      "Requirement already satisfied: sortedcontainers in c:\\users\\hi\\anaconda3\\lib\\site-packages (from trio~=0.17->selenium) (2.1.0)\n",
      "Requirement already satisfied: cryptography>=1.3.4; extra == \"secure\" in c:\\users\\hi\\anaconda3\\lib\\site-packages (from urllib3[secure,socks]~=1.26->selenium) (2.7)\n",
      "Requirement already satisfied: certifi; extra == \"secure\" in c:\\users\\hi\\anaconda3\\lib\\site-packages (from urllib3[secure,socks]~=1.26->selenium) (2019.9.11)\n",
      "Requirement already satisfied: pyOpenSSL>=0.14; extra == \"secure\" in c:\\users\\hi\\anaconda3\\lib\\site-packages (from urllib3[secure,socks]~=1.26->selenium) (19.0.0)\n",
      "Requirement already satisfied: PySocks!=1.5.7,<2.0,>=1.5.6; extra == \"socks\" in c:\\users\\hi\\anaconda3\\lib\\site-packages (from urllib3[secure,socks]~=1.26->selenium) (1.7.1)\n",
      "Requirement already satisfied: wsproto>=0.14 in c:\\users\\hi\\anaconda3\\lib\\site-packages (from trio-websocket~=0.9->selenium) (1.1.0)\n",
      "Requirement already satisfied: pycparser in c:\\users\\hi\\anaconda3\\lib\\site-packages (from cffi>=1.14; os_name == \"nt\" and implementation_name != \"pypy\"->trio~=0.17->selenium) (2.19)\n",
      "Requirement already satisfied: six>=1.4.1 in c:\\users\\hi\\anaconda3\\lib\\site-packages (from cryptography>=1.3.4; extra == \"secure\"->urllib3[secure,socks]~=1.26->selenium) (1.12.0)\n",
      "Requirement already satisfied: asn1crypto>=0.21.0 in c:\\users\\hi\\anaconda3\\lib\\site-packages (from cryptography>=1.3.4; extra == \"secure\"->urllib3[secure,socks]~=1.26->selenium) (1.0.1)\n",
      "Requirement already satisfied: h11<1,>=0.9.0 in c:\\users\\hi\\anaconda3\\lib\\site-packages (from wsproto>=0.14->trio-websocket~=0.9->selenium) (0.13.0)\n",
      "Requirement already satisfied: typing-extensions; python_version < \"3.8\" in c:\\users\\hi\\anaconda3\\lib\\site-packages (from h11<1,>=0.9.0->wsproto>=0.14->trio-websocket~=0.9->selenium) (4.1.1)\n"
     ]
    }
   ],
   "source": [
    "!pip install selenium"
   ]
  },
  {
   "cell_type": "code",
   "execution_count": 2,
   "metadata": {},
   "outputs": [],
   "source": [
    "import warnings\n",
    "warnings.filterwarnings(action='ignore')\n",
    "from selenium.webdriver.common.by import By\n",
    "from selenium.webdriver.support.ui import WebDriverWait \n",
    "from selenium.webdriver.support import expected_conditions as EC\n",
    "from selenium import webdriver\n",
    "from selenium.webdriver.common.keys import Keys\n",
    "import time\n",
    "from tqdm.auto import tqdm\n",
    "import pandas as pd\n",
    "from bs4 import BeautifulSoup \n",
    "from IPython.display import Image"
   ]
  },
  {
   "cell_type": "code",
   "execution_count": 3,
   "metadata": {},
   "outputs": [],
   "source": [
    "\n",
    "def img_source(rlist):\n",
    "    returnlist=[]\n",
    "    for i in range(0, len(rlist), 1):\n",
    "        a= rlist[i].get('src')\n",
    "        returnlist.append(a)\n",
    "    return returnlist\n",
    "\n",
    "def confirm_text (rlist):\n",
    "    returnlist=[]\n",
    "    for i in range(0, len(rlist), 1):\n",
    "        a= rlist[i].text\n",
    "        aa =a.replace(',',' ')\n",
    "        returnlist.append(aa)\n",
    "    return returnlist"
   ]
  },
  {
   "cell_type": "code",
   "execution_count": 7,
   "metadata": {},
   "outputs": [],
   "source": [
    "    url = 'https://www.canmart.co.kr/shop/faq.html'\n",
    "    driver = webdriver.Chrome('../WebDriver/chromedriver.exe') #브라우저 실행\n",
    "    driver.get(url)\n",
    "    time.sleep(3)"
   ]
  },
  {
   "cell_type": "markdown",
   "metadata": {},
   "source": [
    "## 주문결제"
   ]
  },
  {
   "cell_type": "markdown",
   "metadata": {},
   "source": [
    "#### 주문결제"
   ]
  },
  {
   "cell_type": "code",
   "execution_count": 16,
   "metadata": {},
   "outputs": [],
   "source": [
    "order = driver.find_element_by_css_selector(\"#faq-category > ul > li:nth-child(2) > a\")\n",
    "order.send_keys(Keys.RETURN)"
   ]
  },
  {
   "cell_type": "code",
   "execution_count": 17,
   "metadata": {},
   "outputs": [],
   "source": [
    "html=driver.page_source"
   ]
  },
  {
   "cell_type": "code",
   "execution_count": 18,
   "metadata": {},
   "outputs": [],
   "source": [
    "html_doc=BeautifulSoup(html,\"html.parser\")"
   ]
  },
  {
   "cell_type": "code",
   "execution_count": 19,
   "metadata": {},
   "outputs": [],
   "source": [
    "order_question=html_doc.select(\"#faqTable > table > tbody > tr> td:nth-child(3) > div\")\n",
    "order_quest=confirm_text(order_question)"
   ]
  },
  {
   "cell_type": "code",
   "execution_count": 20,
   "metadata": {
    "scrolled": true
   },
   "outputs": [
    {
     "data": {
      "text/plain": [
       "['입금 계좌번호를 알려주세요.',\n",
       " '환불처리 / 카드취소 등 요청 했는데 언제 처리되나요?',\n",
       " '주문 취소하고 싶어요.',\n",
       " '입금했는데 왜 입금 확인이 되지 않나요?',\n",
       " '쿠폰 및 적립금 등은 어떻게 사용하나요?',\n",
       " '어떤 결제 방법이 있나요?',\n",
       " '비회원도 구매가 가능하나요?']"
      ]
     },
     "execution_count": 20,
     "metadata": {},
     "output_type": "execute_result"
    }
   ],
   "source": [
    "order_quest"
   ]
  },
  {
   "cell_type": "code",
   "execution_count": 24,
   "metadata": {},
   "outputs": [],
   "source": [
    "def answer_confirm():\n",
    "    table= driver.find_element_by_css_selector(\"#faqTable > table\")\n",
    "    for tr in table.find_elements_by_tag_name(\"tr\"):\n",
    "        td = tr.find_elements_by_tag_name(\"td\")\n",
    "    tr=table.find_elements_by_tag_name(\"tr\")\n",
    "    print (len(tr))\n",
    "    tr2=len(tr)\n",
    "    tr2\n",
    "    product22=[]\n",
    "    for i in range (1,len(tr),2):\n",
    "        text=\"#faqTable > table > tbody > tr:nth-child(\"+str(i)+\")\"\n",
    "        delivery2 = driver.find_element_by_css_selector(text).click()\n",
    "        html=driver.page_source\n",
    "        html_doc=BeautifulSoup(html,\"html.parser\")\n",
    "        delivery_question2=html_doc.select(\" #faqTable > table > tbody > tr.slide-show > td > div > dl.adv > dd\")\n",
    "        product22.append(confirm_text(delivery_question2))\n",
    "\n",
    "    return product22"
   ]
  },
  {
   "cell_type": "code",
   "execution_count": 25,
   "metadata": {},
   "outputs": [
    {
     "name": "stdout",
     "output_type": "stream",
     "text": [
      "15\n"
     ]
    }
   ],
   "source": [
    "product22=answer_confirm()"
   ]
  },
  {
   "cell_type": "code",
   "execution_count": 31,
   "metadata": {},
   "outputs": [
    {
     "data": {
      "text/plain": [
       "[['-무통장 결제\\n환불은 평일 기준 오후 6시 이후 일괄적으로 처리해 드리고 있어 7시 이후 입금 확인 부탁드립니다 :)\\xa0\\xa0\\n입금 확인이 안될 경우  고객센터로 문의해 주시면 확인 후 빠른 처리 도와드리도록 하겠습니다.\\xa0\\xa0\\xa0\\n\\xa0\\n-카드 결제\\n카드 취소 처리 후 카드사에 따라 취소 완료되기 까지는 5~15일 (주말  공휴일 제외) 정도의 기간이 소요됩니다.\\xa0취소 처리를 한 후에도\\xa0결제일에 따라 청구가 될 수 있으며  이와 같은 경우에는 익월\\xa0결제일에 환급 처리(마이너스 청구)가 되니 참고 부탁드립니다.\\xa0\\n\\xa0정확한 취소 일자나 취소 및 환급 방법은 사용하시는 카드사로 문의해 주시면\\xa0빠른 확인이 가능합니다~\\xa0-휴대폰 결제\\xa0휴대폰 취소는 3~5일(주말  공휴일 제외) 정도의 기간이 소요됩니다.\\xa0다만  취소는 결제 하신 당월 1일~말일 이내 취소만 가능하며 부분 취소는 어려운 점 참고 부탁드립니다.\\n(결제 당월이 지난 주문 건은 3.5% 결제수수료 차감 후 계좌로 환불 처리 도와드리고 있습니다)\\n\\xa0'],\n",
       " ['발송전이면 로그인 후 → 마이페이지 → 주문 내역에서 [주문취소] 버튼 눌러주시면 됩니다!홈페이지에서 취소 처리가 어려우시면 고객센터 혹은 게시판으로 문의해 주시면 빠른 처리 도와드리겠습니다~비회원으로 주문해 주신 분들도 동일하게 로그인 혹은 마이페이지 클릭 후 비회원 배송 조회에서 성함과 주문번호를 입력해 주시면 취소 접수가 가능합니다.\\xa0\\n\\xa0만일  결제 완료 후 취소를 원하시는데 이미 발송된 경우라면\\xa0취소 처리가 어려우며 반송 시 발생하는 배송비는 고객 부담이므로\\xa0신중한 주문서 작성 부탁드립니다 :)\\xa0'],\n",
       " [\"주문서에 기재한 입금자명과 다르거나 다른 금액으로\\xa0입금한 경우 확인이 되지 않습니다.\\n입금자명 혹은 상이한 금액으로 입금하셨을 경우 고객센터로 문의해 주시면\\xa0확인 후 처리 도와드리겠습니다.\\n\\xa0\\n<입금만 하시고 주문서가 정상적으로 등록되지 않은 경우>\\n주문서 작성 후 꼭 '마이페이지'에서 주문서 확인이 되는지 확인해 주세요.\\n주문서를 끝까지 작성하지 않고 중간 단계에서 끝내신 경우\\xa0주문서가 없기 때문에 입금을 하셔도 저희쪽에서 확인이 어렵습니다ㅠㅠ\\n주문 전 선 입금하셨다면 주문 후 고객센터로 문의해 주시면 확인해 드리고 있습니다.\"],\n",
       " [\"-쿠폰쿠폰마다 사용 가능한 금액 기준이 상이하며  기재되어 있는 금액 이상 구매 시\\xa0사용이 가능합니다.주문서 작성 시 주문 상품 할인 적용에서 쿠폰 선택을 클릭해 주시면 보유 쿠폰 내역 및 사용 가능한 쿠폰 확인을 확인하실 수 있습니다.쿠폰은 한 주문서 당 한 쿠폰만 적용 가능하며 \\xa0각 쿠폰의 사용 가능한 '금액 기준'과 '사용 기간' 을 꼭 확인해 주세요~\\n-적립금1원 단위로 사용이 가능하며 주문 시 사용 가능한 적립금을 확인 후 사용하길 원하시는 금액을\\xa0입력해 주시면 됩니다.\\n(단  무료 배송은 실 결제 금액[적립금  쿠폰 사용 등 할인 금액을 제외한 금액]이 5만 원 이상 되어야 가능하므로 적립금은 실 결제 금액에 포함되지 않는 점 참고 부탁드립니다. )※ 적립금의 유효 기간은 지급 일로부터 1년입니다.\\xa0\\xa0-예치금\\xa0예치금 또한 1원 단위로 사용이 가능하며\\xa0주문서 작성 시 주문 상품 할인 적용에서 금액을 입력해 주시면 됩니다.\\xa0\\xa0\\n\\xa0\"],\n",
       " ['- 페이코(payco)- 카카오페이(KakaoPay)- 무통장입금- 신용카드\\xa0- 결제대금 예치제(에스크로)- 핸드폰결제- 스마일페이- 해외결제 페이팔(Paypal Payment)'],\n",
       " ['비회원도 구매 가능하며 장바구니 → 주문하기\\xa0→ 비회원 구매 클릭하면 됩니다 :)\\xa0주문 완료 후 주문 번호 확인이 가능하며 (카카오톡 또는 메일로도 안내) 배송 조회는 로그인 혹은 마이페이지 클릭 후 비회원 배송 조회에서 성함과 주문번호를 입력하시면 확인하실 수 있습니다.\\xa0']]"
      ]
     },
     "execution_count": 31,
     "metadata": {},
     "output_type": "execute_result"
    }
   ],
   "source": [
    "product22[1:]"
   ]
  },
  {
   "cell_type": "code",
   "execution_count": 35,
   "metadata": {},
   "outputs": [],
   "source": [
    "order_quest=order_quest+product22[1:]"
   ]
  },
  {
   "cell_type": "code",
   "execution_count": 36,
   "metadata": {},
   "outputs": [
    {
     "data": {
      "text/plain": [
       "['입금 계좌번호를 알려주세요.',\n",
       " '환불처리 / 카드취소 등 요청 했는데 언제 처리되나요?',\n",
       " '주문 취소하고 싶어요.',\n",
       " '입금했는데 왜 입금 확인이 되지 않나요?',\n",
       " '쿠폰 및 적립금 등은 어떻게 사용하나요?',\n",
       " '어떤 결제 방법이 있나요?',\n",
       " '비회원도 구매가 가능하나요?',\n",
       " ['-무통장 결제\\n환불은 평일 기준 오후 6시 이후 일괄적으로 처리해 드리고 있어 7시 이후 입금 확인 부탁드립니다 :)\\xa0\\xa0\\n입금 확인이 안될 경우  고객센터로 문의해 주시면 확인 후 빠른 처리 도와드리도록 하겠습니다.\\xa0\\xa0\\xa0\\n\\xa0\\n-카드 결제\\n카드 취소 처리 후 카드사에 따라 취소 완료되기 까지는 5~15일 (주말  공휴일 제외) 정도의 기간이 소요됩니다.\\xa0취소 처리를 한 후에도\\xa0결제일에 따라 청구가 될 수 있으며  이와 같은 경우에는 익월\\xa0결제일에 환급 처리(마이너스 청구)가 되니 참고 부탁드립니다.\\xa0\\n\\xa0정확한 취소 일자나 취소 및 환급 방법은 사용하시는 카드사로 문의해 주시면\\xa0빠른 확인이 가능합니다~\\xa0-휴대폰 결제\\xa0휴대폰 취소는 3~5일(주말  공휴일 제외) 정도의 기간이 소요됩니다.\\xa0다만  취소는 결제 하신 당월 1일~말일 이내 취소만 가능하며 부분 취소는 어려운 점 참고 부탁드립니다.\\n(결제 당월이 지난 주문 건은 3.5% 결제수수료 차감 후 계좌로 환불 처리 도와드리고 있습니다)\\n\\xa0'],\n",
       " ['발송전이면 로그인 후 → 마이페이지 → 주문 내역에서 [주문취소] 버튼 눌러주시면 됩니다!홈페이지에서 취소 처리가 어려우시면 고객센터 혹은 게시판으로 문의해 주시면 빠른 처리 도와드리겠습니다~비회원으로 주문해 주신 분들도 동일하게 로그인 혹은 마이페이지 클릭 후 비회원 배송 조회에서 성함과 주문번호를 입력해 주시면 취소 접수가 가능합니다.\\xa0\\n\\xa0만일  결제 완료 후 취소를 원하시는데 이미 발송된 경우라면\\xa0취소 처리가 어려우며 반송 시 발생하는 배송비는 고객 부담이므로\\xa0신중한 주문서 작성 부탁드립니다 :)\\xa0'],\n",
       " [\"주문서에 기재한 입금자명과 다르거나 다른 금액으로\\xa0입금한 경우 확인이 되지 않습니다.\\n입금자명 혹은 상이한 금액으로 입금하셨을 경우 고객센터로 문의해 주시면\\xa0확인 후 처리 도와드리겠습니다.\\n\\xa0\\n<입금만 하시고 주문서가 정상적으로 등록되지 않은 경우>\\n주문서 작성 후 꼭 '마이페이지'에서 주문서 확인이 되는지 확인해 주세요.\\n주문서를 끝까지 작성하지 않고 중간 단계에서 끝내신 경우\\xa0주문서가 없기 때문에 입금을 하셔도 저희쪽에서 확인이 어렵습니다ㅠㅠ\\n주문 전 선 입금하셨다면 주문 후 고객센터로 문의해 주시면 확인해 드리고 있습니다.\"],\n",
       " [\"-쿠폰쿠폰마다 사용 가능한 금액 기준이 상이하며  기재되어 있는 금액 이상 구매 시\\xa0사용이 가능합니다.주문서 작성 시 주문 상품 할인 적용에서 쿠폰 선택을 클릭해 주시면 보유 쿠폰 내역 및 사용 가능한 쿠폰 확인을 확인하실 수 있습니다.쿠폰은 한 주문서 당 한 쿠폰만 적용 가능하며 \\xa0각 쿠폰의 사용 가능한 '금액 기준'과 '사용 기간' 을 꼭 확인해 주세요~\\n-적립금1원 단위로 사용이 가능하며 주문 시 사용 가능한 적립금을 확인 후 사용하길 원하시는 금액을\\xa0입력해 주시면 됩니다.\\n(단  무료 배송은 실 결제 금액[적립금  쿠폰 사용 등 할인 금액을 제외한 금액]이 5만 원 이상 되어야 가능하므로 적립금은 실 결제 금액에 포함되지 않는 점 참고 부탁드립니다. )※ 적립금의 유효 기간은 지급 일로부터 1년입니다.\\xa0\\xa0-예치금\\xa0예치금 또한 1원 단위로 사용이 가능하며\\xa0주문서 작성 시 주문 상품 할인 적용에서 금액을 입력해 주시면 됩니다.\\xa0\\xa0\\n\\xa0\"],\n",
       " ['- 페이코(payco)- 카카오페이(KakaoPay)- 무통장입금- 신용카드\\xa0- 결제대금 예치제(에스크로)- 핸드폰결제- 스마일페이- 해외결제 페이팔(Paypal Payment)'],\n",
       " ['비회원도 구매 가능하며 장바구니 → 주문하기\\xa0→ 비회원 구매 클릭하면 됩니다 :)\\xa0주문 완료 후 주문 번호 확인이 가능하며 (카카오톡 또는 메일로도 안내) 배송 조회는 로그인 혹은 마이페이지 클릭 후 비회원 배송 조회에서 성함과 주문번호를 입력하시면 확인하실 수 있습니다.\\xa0']]"
      ]
     },
     "execution_count": 36,
     "metadata": {},
     "output_type": "execute_result"
    }
   ],
   "source": [
    "order_quest"
   ]
  },
  {
   "cell_type": "code",
   "execution_count": 37,
   "metadata": {},
   "outputs": [
    {
     "data": {
      "text/html": [
       "<div>\n",
       "<style scoped>\n",
       "    .dataframe tbody tr th:only-of-type {\n",
       "        vertical-align: middle;\n",
       "    }\n",
       "\n",
       "    .dataframe tbody tr th {\n",
       "        vertical-align: top;\n",
       "    }\n",
       "\n",
       "    .dataframe thead th {\n",
       "        text-align: right;\n",
       "    }\n",
       "</style>\n",
       "<table border=\"1\" class=\"dataframe\">\n",
       "  <thead>\n",
       "    <tr style=\"text-align: right;\">\n",
       "      <th></th>\n",
       "      <th>제목</th>\n",
       "      <th>분류</th>\n",
       "    </tr>\n",
       "  </thead>\n",
       "  <tbody>\n",
       "    <tr>\n",
       "      <th>0</th>\n",
       "      <td>입금 계좌번호를 알려주세요.</td>\n",
       "      <td>주문</td>\n",
       "    </tr>\n",
       "    <tr>\n",
       "      <th>1</th>\n",
       "      <td>환불처리 / 카드취소 등 요청 했는데 언제 처리되나요?</td>\n",
       "      <td>주문</td>\n",
       "    </tr>\n",
       "    <tr>\n",
       "      <th>2</th>\n",
       "      <td>주문 취소하고 싶어요.</td>\n",
       "      <td>주문</td>\n",
       "    </tr>\n",
       "    <tr>\n",
       "      <th>3</th>\n",
       "      <td>입금했는데 왜 입금 확인이 되지 않나요?</td>\n",
       "      <td>주문</td>\n",
       "    </tr>\n",
       "    <tr>\n",
       "      <th>4</th>\n",
       "      <td>쿠폰 및 적립금 등은 어떻게 사용하나요?</td>\n",
       "      <td>주문</td>\n",
       "    </tr>\n",
       "    <tr>\n",
       "      <th>5</th>\n",
       "      <td>어떤 결제 방법이 있나요?</td>\n",
       "      <td>주문</td>\n",
       "    </tr>\n",
       "    <tr>\n",
       "      <th>6</th>\n",
       "      <td>비회원도 구매가 가능하나요?</td>\n",
       "      <td>주문</td>\n",
       "    </tr>\n",
       "    <tr>\n",
       "      <th>7</th>\n",
       "      <td>[-무통장 결제\\n환불은 평일 기준 오후 6시 이후 일괄적으로 처리해 드리고 있어 ...</td>\n",
       "      <td>주문</td>\n",
       "    </tr>\n",
       "    <tr>\n",
       "      <th>8</th>\n",
       "      <td>[발송전이면 로그인 후 → 마이페이지 → 주문 내역에서 [주문취소] 버튼 눌러주시면...</td>\n",
       "      <td>주문</td>\n",
       "    </tr>\n",
       "    <tr>\n",
       "      <th>9</th>\n",
       "      <td>[주문서에 기재한 입금자명과 다르거나 다른 금액으로 입금한 경우 확인이 되지 않습니...</td>\n",
       "      <td>주문</td>\n",
       "    </tr>\n",
       "    <tr>\n",
       "      <th>10</th>\n",
       "      <td>[-쿠폰쿠폰마다 사용 가능한 금액 기준이 상이하며  기재되어 있는 금액 이상 구매 ...</td>\n",
       "      <td>주문</td>\n",
       "    </tr>\n",
       "    <tr>\n",
       "      <th>11</th>\n",
       "      <td>[- 페이코(payco)- 카카오페이(KakaoPay)- 무통장입금- 신용카드 - ...</td>\n",
       "      <td>주문</td>\n",
       "    </tr>\n",
       "    <tr>\n",
       "      <th>12</th>\n",
       "      <td>[비회원도 구매 가능하며 장바구니 → 주문하기 → 비회원 구매 클릭하면 됩니다 :)...</td>\n",
       "      <td>주문</td>\n",
       "    </tr>\n",
       "  </tbody>\n",
       "</table>\n",
       "</div>"
      ],
      "text/plain": [
       "                                                   제목  분류\n",
       "0                                     입금 계좌번호를 알려주세요.  주문\n",
       "1                      환불처리 / 카드취소 등 요청 했는데 언제 처리되나요?  주문\n",
       "2                                        주문 취소하고 싶어요.  주문\n",
       "3                              입금했는데 왜 입금 확인이 되지 않나요?  주문\n",
       "4                              쿠폰 및 적립금 등은 어떻게 사용하나요?  주문\n",
       "5                                      어떤 결제 방법이 있나요?  주문\n",
       "6                                     비회원도 구매가 가능하나요?  주문\n",
       "7   [-무통장 결제\\n환불은 평일 기준 오후 6시 이후 일괄적으로 처리해 드리고 있어 ...  주문\n",
       "8   [발송전이면 로그인 후 → 마이페이지 → 주문 내역에서 [주문취소] 버튼 눌러주시면...  주문\n",
       "9   [주문서에 기재한 입금자명과 다르거나 다른 금액으로 입금한 경우 확인이 되지 않습니...  주문\n",
       "10  [-쿠폰쿠폰마다 사용 가능한 금액 기준이 상이하며  기재되어 있는 금액 이상 구매 ...  주문\n",
       "11  [- 페이코(payco)- 카카오페이(KakaoPay)- 무통장입금- 신용카드 - ...  주문\n",
       "12  [비회원도 구매 가능하며 장바구니 → 주문하기 → 비회원 구매 클릭하면 됩니다 :)...  주문"
      ]
     },
     "execution_count": 37,
     "metadata": {},
     "output_type": "execute_result"
    }
   ],
   "source": [
    "# 데이터프레임으로 보기\n",
    "cs_review= pd.DataFrame({'제목' :order_quest,\n",
    "                       '분류' : \"주문\"\n",
    "                       })\n",
    "cs_review"
   ]
  },
  {
   "cell_type": "markdown",
   "metadata": {},
   "source": [
    "## 배송"
   ]
  },
  {
   "cell_type": "code",
   "execution_count": 39,
   "metadata": {},
   "outputs": [],
   "source": [
    "delivery = driver.find_element_by_css_selector(\"#faq-category > ul > li:nth-child(3) > a\")\n",
    "delivery.send_keys(Keys.RETURN)"
   ]
  },
  {
   "cell_type": "code",
   "execution_count": 40,
   "metadata": {},
   "outputs": [],
   "source": [
    "html=driver.page_source"
   ]
  },
  {
   "cell_type": "code",
   "execution_count": 41,
   "metadata": {},
   "outputs": [],
   "source": [
    "html_doc=BeautifulSoup(html,\"html.parser\")"
   ]
  },
  {
   "cell_type": "code",
   "execution_count": 42,
   "metadata": {},
   "outputs": [],
   "source": [
    "delivery_question=html_doc.select(\"#faqTable > table > tbody > tr> td:nth-child(3) > div\")\n",
    "delivery_quest=confirm_text(delivery_question)"
   ]
  },
  {
   "cell_type": "code",
   "execution_count": 43,
   "metadata": {
    "scrolled": false
   },
   "outputs": [
    {
     "data": {
      "text/plain": [
       "['해외 배송도 가능한가요?',\n",
       " '배송 준비 중인데 상품 변경하고 싶어요.',\n",
       " '묶음배송도 되나요?',\n",
       " '오늘 주문하면 언제 받을 수 있나요?',\n",
       " '어느 택배사로 배송 되나요?',\n",
       " '얼마 이상 구매 시 무료배송인가요?']"
      ]
     },
     "execution_count": 43,
     "metadata": {},
     "output_type": "execute_result"
    }
   ],
   "source": [
    "delivery_quest"
   ]
  },
  {
   "cell_type": "code",
   "execution_count": 44,
   "metadata": {},
   "outputs": [
    {
     "name": "stdout",
     "output_type": "stream",
     "text": [
      "13\n"
     ]
    }
   ],
   "source": [
    "delivery22=answer_confirm()"
   ]
  },
  {
   "cell_type": "code",
   "execution_count": 46,
   "metadata": {},
   "outputs": [],
   "source": [
    "delivery_quest=delivery22+delivery_quest[1:]"
   ]
  },
  {
   "cell_type": "code",
   "execution_count": 47,
   "metadata": {},
   "outputs": [
    {
     "data": {
      "text/html": [
       "<div>\n",
       "<style scoped>\n",
       "    .dataframe tbody tr th:only-of-type {\n",
       "        vertical-align: middle;\n",
       "    }\n",
       "\n",
       "    .dataframe tbody tr th {\n",
       "        vertical-align: top;\n",
       "    }\n",
       "\n",
       "    .dataframe thead th {\n",
       "        text-align: right;\n",
       "    }\n",
       "</style>\n",
       "<table border=\"1\" class=\"dataframe\">\n",
       "  <thead>\n",
       "    <tr style=\"text-align: right;\">\n",
       "      <th></th>\n",
       "      <th>제목</th>\n",
       "      <th>분류</th>\n",
       "    </tr>\n",
       "  </thead>\n",
       "  <tbody>\n",
       "    <tr>\n",
       "      <th>0</th>\n",
       "      <td>[해외 배송 가능합니다.​ 주문서 작성 시 배송지 선택에서 해외 배송 선택 → 국가...</td>\n",
       "      <td>배송</td>\n",
       "    </tr>\n",
       "    <tr>\n",
       "      <th>1</th>\n",
       "      <td>[캔마트는 빠른 배송을 위해 결제 완료 후 배송 준비를 하고 있는데요 출고되지 않는...</td>\n",
       "      <td>배송</td>\n",
       "    </tr>\n",
       "    <tr>\n",
       "      <th>2</th>\n",
       "      <td>[네~ 묶음배송 가능합니다 :)주문 후 게시판이나 고객센터로 문의해 주시면 저희 쪽...</td>\n",
       "      <td>배송</td>\n",
       "    </tr>\n",
       "    <tr>\n",
       "      <th>3</th>\n",
       "      <td>[\\n배송기간은 결제 완료 후 2~5일(주말  공휴일 제외)로 여유 부탁 드립니다....</td>\n",
       "      <td>배송</td>\n",
       "    </tr>\n",
       "    <tr>\n",
       "      <th>4</th>\n",
       "      <td>[캔마트에서는 CJ 대한통운을 이용하여 고객님께 배송해 드리고 있습니다 :)배송 조...</td>\n",
       "      <td>배송</td>\n",
       "    </tr>\n",
       "    <tr>\n",
       "      <th>5</th>\n",
       "      <td>[저희 캔마트에서는 실결제금액기준 5만원 이상 구매하실 경우 무료 배송을 해드리고 ...</td>\n",
       "      <td>배송</td>\n",
       "    </tr>\n",
       "    <tr>\n",
       "      <th>6</th>\n",
       "      <td>배송 준비 중인데 상품 변경하고 싶어요.</td>\n",
       "      <td>배송</td>\n",
       "    </tr>\n",
       "    <tr>\n",
       "      <th>7</th>\n",
       "      <td>묶음배송도 되나요?</td>\n",
       "      <td>배송</td>\n",
       "    </tr>\n",
       "    <tr>\n",
       "      <th>8</th>\n",
       "      <td>오늘 주문하면 언제 받을 수 있나요?</td>\n",
       "      <td>배송</td>\n",
       "    </tr>\n",
       "    <tr>\n",
       "      <th>9</th>\n",
       "      <td>어느 택배사로 배송 되나요?</td>\n",
       "      <td>배송</td>\n",
       "    </tr>\n",
       "    <tr>\n",
       "      <th>10</th>\n",
       "      <td>얼마 이상 구매 시 무료배송인가요?</td>\n",
       "      <td>배송</td>\n",
       "    </tr>\n",
       "  </tbody>\n",
       "</table>\n",
       "</div>"
      ],
      "text/plain": [
       "                                                   제목  분류\n",
       "0   [해외 배송 가능합니다.​ 주문서 작성 시 배송지 선택에서 해외 배송 선택 → 국가...  배송\n",
       "1   [캔마트는 빠른 배송을 위해 결제 완료 후 배송 준비를 하고 있는데요 출고되지 않는...  배송\n",
       "2   [네~ 묶음배송 가능합니다 :)주문 후 게시판이나 고객센터로 문의해 주시면 저희 쪽...  배송\n",
       "3   [\\n배송기간은 결제 완료 후 2~5일(주말  공휴일 제외)로 여유 부탁 드립니다....  배송\n",
       "4   [캔마트에서는 CJ 대한통운을 이용하여 고객님께 배송해 드리고 있습니다 :)배송 조...  배송\n",
       "5   [저희 캔마트에서는 실결제금액기준 5만원 이상 구매하실 경우 무료 배송을 해드리고 ...  배송\n",
       "6                              배송 준비 중인데 상품 변경하고 싶어요.  배송\n",
       "7                                          묶음배송도 되나요?  배송\n",
       "8                                오늘 주문하면 언제 받을 수 있나요?  배송\n",
       "9                                     어느 택배사로 배송 되나요?  배송\n",
       "10                                얼마 이상 구매 시 무료배송인가요?  배송"
      ]
     },
     "execution_count": 47,
     "metadata": {},
     "output_type": "execute_result"
    }
   ],
   "source": [
    "# 데이터프레임으로 보기\n",
    "cs_deli= pd.DataFrame({'제목' :delivery_quest,\n",
    "                       '분류' : \"배송\"\n",
    "                       })\n",
    "cs_deli"
   ]
  },
  {
   "cell_type": "markdown",
   "metadata": {},
   "source": [
    "## 상품관련"
   ]
  },
  {
   "cell_type": "markdown",
   "metadata": {},
   "source": [
    "##### 상품관련"
   ]
  },
  {
   "cell_type": "code",
   "execution_count": 66,
   "metadata": {},
   "outputs": [],
   "source": [
    "product = driver.find_element_by_css_selector(\"#faq-category > ul > li:nth-child(4) > a\")\n",
    "product.send_keys(Keys.RETURN)"
   ]
  },
  {
   "cell_type": "code",
   "execution_count": 67,
   "metadata": {},
   "outputs": [],
   "source": [
    "html=driver.page_source"
   ]
  },
  {
   "cell_type": "code",
   "execution_count": 68,
   "metadata": {},
   "outputs": [],
   "source": [
    "html_doc=BeautifulSoup(html,\"html.parser\")"
   ]
  },
  {
   "cell_type": "code",
   "execution_count": 69,
   "metadata": {},
   "outputs": [],
   "source": [
    "product_question=html_doc.select(\"#faqTable > table > tbody > tr> td:nth-child(3) > div\")\n",
    "product_quest=confirm_text(product_question)"
   ]
  },
  {
   "cell_type": "code",
   "execution_count": 70,
   "metadata": {
    "scrolled": false
   },
   "outputs": [
    {
     "data": {
      "text/plain": [
       "['불량 처리가 어려운 경우?',\n",
       " '불량 상품을 받았어요.',\n",
       " '반품 / 교환 이 불가능한 경우는?',\n",
       " '교환 / 반품 절차 및 배송비 안내']"
      ]
     },
     "execution_count": 70,
     "metadata": {},
     "output_type": "execute_result"
    }
   ],
   "source": [
    "product_quest"
   ]
  },
  {
   "cell_type": "code",
   "execution_count": 71,
   "metadata": {},
   "outputs": [
    {
     "name": "stdout",
     "output_type": "stream",
     "text": [
      "9\n"
     ]
    }
   ],
   "source": [
    "pp2=answer_confirm()"
   ]
  },
  {
   "cell_type": "code",
   "execution_count": 72,
   "metadata": {},
   "outputs": [
    {
     "data": {
      "text/plain": [
       "[['-\\xa0모든 제품은 드라이클리닝을 권장하고 있으며 \\xa0안내되어 있는 세탁 방법과 다르게 세탁하여 생긴 상품의 변형\\n-\\xa0배송 시 생긴 구김  단추 바느질의 느슨함 \\xa0간단한 손질이 가능한 마감실 \\xa0지퍼의 뻣뻣한 움직임 \\xa0신발이나 가방 및 소품등 마감 처리에서 생긴 소량의 본드 자국 \\xa0초크 자국 같은 미세한 자국\\xa0\\n-\\xa0단가라(스트라이프) 및 체크의 패턴 상 앞  뒤 옆선이 맞지 않는 경우\\n-\\xa0동일한 상품이라도 컬러 별 원단 수축률이 상이하므로 사이즈의 오차가 있는 경우\\n-\\xa0워싱 가공 특성상 살짝의 뒤틀림  빈티지한\\xa0느낌을 살리기 위한\\xa0디테일 작업 시 미세한 차이가 있는 경우\\xa0-\\xa0모니터 해상도에 따라 색상의 차이가 발생하는 경우\\xa0-\\xa0세탁 및 착용하신 상품  피팅만으로도 늘어나거나 보풀 등 상품 가치가 훼손된 경우 (세탁 및 착용 후에는 불량이 발견되어도 교환/반품 불가)-\\xa0고객 부주의로 상품이 훼손되어 재화의 가치가 감소한 경우 (고의로 불량을 낸 제품  수선  향수  냄새  택 훼손 등 전자상거래 및 소비자보호법에 명시)-\\xa0반품 기한이 경과된 경우\\xa0\\n\\xa0\\xa0\\xa0\\xa0 \\n\\xa0'],\n",
       " ['캔마트는 입고 된 상품을 다시 개별 포장하는 과정에서 한번 더 검수하는 과정을 거칩니다.꼼꼼히 검수 후 출고되었음에도 불구하고 고객님께서 불량을 수령하셨다면수령 후 바로 고객센터 혹은 게시판으로 문의해 주시면 확인 후 빠른 처리 도와드리겠습니다.발생되는 왕복 배송비는 캔마트 부담이며 수령 후 7일 이내로 꼭 연락 부탁드립니다!( 수령 후 7일 경과된 상품은 불량이나 오배송 건이라도 캔마트에서는 책임지지 않습니다. )*불량으로 연락 주시기 전에 [불량 처리가 어려운 경우] 게시글 꼭 한번 확인 부탁드리며 반품으로 보내주신 상품 검수 후 불량이 아닐 경우 배송비는 전액 고객 부담이니 참고 부탁드립니다.'],\n",
       " ['-\\xa0반품 기한 (수령 후 7일)이 경과된 경우\\xa0\\n-\\xa0고객님의 부주의로 인한 상품의 변형  훼손 또는 파손된 경우\\n-\\xa0상품을 착용하시거나 화장품  향수 등 사용 흔적이 있는 경우\\xa0\\n-\\xa0의류를 세탁하였을 경우  인위적인 수선한 경우\\n-\\xa0교환/환불을 목적으로 한 의도적인 상품 훼손을 한 경우\\xa0\\n\\xa0\\n\\xa0'],\n",
       " ['-반품\\xa0전체 반품 일 경우 왕복 6 000원 발생 고객님 부담입니다.\\xa0부분 반품 일 경우 반품 후 소장가 5만원 이상이면 편도 3 000원 발생 고객님 부담입니다.\\xa0부분 반품 일 경우 반품 후 소장가 5만원 미만이면 왕복 6 000원 발생 고객님 부담입니다.\\xa0\\xa0-교환\\xa0왕복 6 000원 고객님 부담입니다.\\xa0※ 타상품 교환시 정상가로 적용\\xa0\\xa0반품/교환 배송비는 상품 보내주실 때 봉투에 동봉해주시거나 아래 계좌 번호로 입금 부탁드립니다.국민 927401 01 601911신한 140 009 344392우리 1005 301 891175\\xa0농협 301 0288 8884 81: 예금주 (주)와이앤제이21\\xa0\\xa0\\xa0\\xa0\\xa0\\xa0\\xa0\\xa0']]"
      ]
     },
     "execution_count": 72,
     "metadata": {},
     "output_type": "execute_result"
    }
   ],
   "source": [
    "pp2"
   ]
  },
  {
   "cell_type": "code",
   "execution_count": 73,
   "metadata": {},
   "outputs": [],
   "source": [
    "product_quest=product_quest+pp2"
   ]
  },
  {
   "cell_type": "code",
   "execution_count": 74,
   "metadata": {},
   "outputs": [
    {
     "data": {
      "text/html": [
       "<div>\n",
       "<style scoped>\n",
       "    .dataframe tbody tr th:only-of-type {\n",
       "        vertical-align: middle;\n",
       "    }\n",
       "\n",
       "    .dataframe tbody tr th {\n",
       "        vertical-align: top;\n",
       "    }\n",
       "\n",
       "    .dataframe thead th {\n",
       "        text-align: right;\n",
       "    }\n",
       "</style>\n",
       "<table border=\"1\" class=\"dataframe\">\n",
       "  <thead>\n",
       "    <tr style=\"text-align: right;\">\n",
       "      <th></th>\n",
       "      <th>제목</th>\n",
       "      <th>분류</th>\n",
       "    </tr>\n",
       "  </thead>\n",
       "  <tbody>\n",
       "    <tr>\n",
       "      <th>0</th>\n",
       "      <td>불량 처리가 어려운 경우?</td>\n",
       "      <td>상품관련</td>\n",
       "    </tr>\n",
       "    <tr>\n",
       "      <th>1</th>\n",
       "      <td>불량 상품을 받았어요.</td>\n",
       "      <td>상품관련</td>\n",
       "    </tr>\n",
       "    <tr>\n",
       "      <th>2</th>\n",
       "      <td>반품 / 교환 이 불가능한 경우는?</td>\n",
       "      <td>상품관련</td>\n",
       "    </tr>\n",
       "    <tr>\n",
       "      <th>3</th>\n",
       "      <td>교환 / 반품 절차 및 배송비 안내</td>\n",
       "      <td>상품관련</td>\n",
       "    </tr>\n",
       "    <tr>\n",
       "      <th>4</th>\n",
       "      <td>[- 모든 제품은 드라이클리닝을 권장하고 있으며  안내되어 있는 세탁 방법과 다르게...</td>\n",
       "      <td>상품관련</td>\n",
       "    </tr>\n",
       "    <tr>\n",
       "      <th>5</th>\n",
       "      <td>[캔마트는 입고 된 상품을 다시 개별 포장하는 과정에서 한번 더 검수하는 과정을 거...</td>\n",
       "      <td>상품관련</td>\n",
       "    </tr>\n",
       "    <tr>\n",
       "      <th>6</th>\n",
       "      <td>[- 반품 기한 (수령 후 7일)이 경과된 경우 \\n- 고객님의 부주의로 인한 상품...</td>\n",
       "      <td>상품관련</td>\n",
       "    </tr>\n",
       "    <tr>\n",
       "      <th>7</th>\n",
       "      <td>[-반품 전체 반품 일 경우 왕복 6 000원 발생 고객님 부담입니다. 부분 반품 ...</td>\n",
       "      <td>상품관련</td>\n",
       "    </tr>\n",
       "  </tbody>\n",
       "</table>\n",
       "</div>"
      ],
      "text/plain": [
       "                                                  제목    분류\n",
       "0                                     불량 처리가 어려운 경우?  상품관련\n",
       "1                                       불량 상품을 받았어요.  상품관련\n",
       "2                                반품 / 교환 이 불가능한 경우는?  상품관련\n",
       "3                                교환 / 반품 절차 및 배송비 안내  상품관련\n",
       "4  [- 모든 제품은 드라이클리닝을 권장하고 있으며  안내되어 있는 세탁 방법과 다르게...  상품관련\n",
       "5  [캔마트는 입고 된 상품을 다시 개별 포장하는 과정에서 한번 더 검수하는 과정을 거...  상품관련\n",
       "6  [- 반품 기한 (수령 후 7일)이 경과된 경우 \\n- 고객님의 부주의로 인한 상품...  상품관련\n",
       "7  [-반품 전체 반품 일 경우 왕복 6 000원 발생 고객님 부담입니다. 부분 반품 ...  상품관련"
      ]
     },
     "execution_count": 74,
     "metadata": {},
     "output_type": "execute_result"
    }
   ],
   "source": [
    "# 데이터프레임으로 보기\n",
    "cs_pro= pd.DataFrame({'제목' :product_quest,\n",
    "                       '분류' : \"상품관련\"\n",
    "                       })\n",
    "cs_pro"
   ]
  },
  {
   "cell_type": "markdown",
   "metadata": {},
   "source": [
    "### 회원관련"
   ]
  },
  {
   "cell_type": "code",
   "execution_count": 57,
   "metadata": {},
   "outputs": [],
   "source": [
    "user = driver.find_element_by_css_selector(\"#faq-category > ul > li:nth-child(5) > a\")\n",
    "user.send_keys(Keys.RETURN)"
   ]
  },
  {
   "cell_type": "code",
   "execution_count": 58,
   "metadata": {},
   "outputs": [],
   "source": [
    "html=driver.page_source"
   ]
  },
  {
   "cell_type": "code",
   "execution_count": 59,
   "metadata": {},
   "outputs": [],
   "source": [
    "html_doc=BeautifulSoup(html,\"html.parser\")"
   ]
  },
  {
   "cell_type": "code",
   "execution_count": 60,
   "metadata": {},
   "outputs": [],
   "source": [
    "user_question=html_doc.select(\"#faqTable > table > tbody > tr> td:nth-child(3) > div\")\n",
    "user_quest=confirm_text(user_question)"
   ]
  },
  {
   "cell_type": "code",
   "execution_count": 61,
   "metadata": {},
   "outputs": [
    {
     "data": {
      "text/plain": [
       "['회원 정보 변경 / 회원 탈퇴는 어떻게 하나요?', '아이디 / 비밀번호를 잊어버렸어요']"
      ]
     },
     "execution_count": 61,
     "metadata": {},
     "output_type": "execute_result"
    }
   ],
   "source": [
    "user_quest"
   ]
  },
  {
   "cell_type": "code",
   "execution_count": 62,
   "metadata": {},
   "outputs": [
    {
     "name": "stdout",
     "output_type": "stream",
     "text": [
      "5\n"
     ]
    }
   ],
   "source": [
    "use22=answer_confirm()"
   ]
  },
  {
   "cell_type": "code",
   "execution_count": 63,
   "metadata": {},
   "outputs": [
    {
     "data": {
      "text/plain": [
       "[['비밀번호  생년월일  주소  연락처  이메일은 로그인 후 마이페이지 → 정보수정 에서 변경 가능합니다.\\xa0\\xa0다만  한번 등록한 아이디는 변경이 어려운 점 참고 부탁 드리며 성함은 고객센터 혹은 게시판으로 문의해주시면 수정 도와드리도록 하겠습니다 :)\\xa0탈퇴는 동일하게 정보 수정에서 탈퇴 처리가 가능하며 어려울 경우 고객센터로 문의해주세요~(회원 탈퇴 후 재 가입은 어려우며 적립금/예치금/쿠폰 등은 자동 소멸 되는 점 참고 부탁드립니다.)'],\n",
       " ['로그인 화면에서 아이디/비밀번호 찾기를 클릭하신 후 성함  가입하셨을 때 기재하셨던 메일 혹은 휴대폰 번호를 입력해 주시면\\xa0메일 혹은 문자로 아이디와 임시 비밀번호를 보내드립니다~\\xa0\\xa0임시 비밀번호를 발급받으셨으면 로그인 후 꼭 새로운 비밀번호로 변경해 주시길 부탁드립니다.\\xa0\\n혹시  메일 혹은 문자를 받지 못했을 경우\\n고객센터로 문의해 주시면 최대한 빠른 답변 드리겠습니다 :)\\xa0\\n\\xa0']]"
      ]
     },
     "execution_count": 63,
     "metadata": {},
     "output_type": "execute_result"
    }
   ],
   "source": [
    "use22"
   ]
  },
  {
   "cell_type": "code",
   "execution_count": 64,
   "metadata": {},
   "outputs": [],
   "source": [
    "user_quest=user_quest+use22"
   ]
  },
  {
   "cell_type": "code",
   "execution_count": 65,
   "metadata": {},
   "outputs": [
    {
     "data": {
      "text/html": [
       "<div>\n",
       "<style scoped>\n",
       "    .dataframe tbody tr th:only-of-type {\n",
       "        vertical-align: middle;\n",
       "    }\n",
       "\n",
       "    .dataframe tbody tr th {\n",
       "        vertical-align: top;\n",
       "    }\n",
       "\n",
       "    .dataframe thead th {\n",
       "        text-align: right;\n",
       "    }\n",
       "</style>\n",
       "<table border=\"1\" class=\"dataframe\">\n",
       "  <thead>\n",
       "    <tr style=\"text-align: right;\">\n",
       "      <th></th>\n",
       "      <th>제목</th>\n",
       "      <th>분류</th>\n",
       "    </tr>\n",
       "  </thead>\n",
       "  <tbody>\n",
       "    <tr>\n",
       "      <th>0</th>\n",
       "      <td>회원 정보 변경 / 회원 탈퇴는 어떻게 하나요?</td>\n",
       "      <td>회원</td>\n",
       "    </tr>\n",
       "    <tr>\n",
       "      <th>1</th>\n",
       "      <td>아이디 / 비밀번호를 잊어버렸어요</td>\n",
       "      <td>회원</td>\n",
       "    </tr>\n",
       "    <tr>\n",
       "      <th>2</th>\n",
       "      <td>[비밀번호  생년월일  주소  연락처  이메일은 로그인 후 마이페이지 → 정보수정 ...</td>\n",
       "      <td>회원</td>\n",
       "    </tr>\n",
       "    <tr>\n",
       "      <th>3</th>\n",
       "      <td>[로그인 화면에서 아이디/비밀번호 찾기를 클릭하신 후 성함  가입하셨을 때 기재하셨...</td>\n",
       "      <td>회원</td>\n",
       "    </tr>\n",
       "  </tbody>\n",
       "</table>\n",
       "</div>"
      ],
      "text/plain": [
       "                                                  제목  분류\n",
       "0                         회원 정보 변경 / 회원 탈퇴는 어떻게 하나요?  회원\n",
       "1                                 아이디 / 비밀번호를 잊어버렸어요  회원\n",
       "2  [비밀번호  생년월일  주소  연락처  이메일은 로그인 후 마이페이지 → 정보수정 ...  회원\n",
       "3  [로그인 화면에서 아이디/비밀번호 찾기를 클릭하신 후 성함  가입하셨을 때 기재하셨...  회원"
      ]
     },
     "execution_count": 65,
     "metadata": {},
     "output_type": "execute_result"
    }
   ],
   "source": [
    "# 데이터프레임으로 보기\n",
    "cs_user= pd.DataFrame({'제목' :user_quest,\n",
    "                       '분류' : \"회원\"\n",
    "                       })\n",
    "cs_user"
   ]
  },
  {
   "cell_type": "code",
   "execution_count": 75,
   "metadata": {},
   "outputs": [],
   "source": [
    "cs=pd.concat([cs_review,cs_deli,cs_user,cs_pro],ignore_index=True)"
   ]
  },
  {
   "cell_type": "code",
   "execution_count": 76,
   "metadata": {},
   "outputs": [
    {
     "data": {
      "text/html": [
       "<div>\n",
       "<style scoped>\n",
       "    .dataframe tbody tr th:only-of-type {\n",
       "        vertical-align: middle;\n",
       "    }\n",
       "\n",
       "    .dataframe tbody tr th {\n",
       "        vertical-align: top;\n",
       "    }\n",
       "\n",
       "    .dataframe thead th {\n",
       "        text-align: right;\n",
       "    }\n",
       "</style>\n",
       "<table border=\"1\" class=\"dataframe\">\n",
       "  <thead>\n",
       "    <tr style=\"text-align: right;\">\n",
       "      <th></th>\n",
       "      <th>제목</th>\n",
       "      <th>분류</th>\n",
       "    </tr>\n",
       "  </thead>\n",
       "  <tbody>\n",
       "    <tr>\n",
       "      <th>0</th>\n",
       "      <td>입금 계좌번호를 알려주세요.</td>\n",
       "      <td>주문</td>\n",
       "    </tr>\n",
       "    <tr>\n",
       "      <th>1</th>\n",
       "      <td>환불처리 / 카드취소 등 요청 했는데 언제 처리되나요?</td>\n",
       "      <td>주문</td>\n",
       "    </tr>\n",
       "    <tr>\n",
       "      <th>2</th>\n",
       "      <td>주문 취소하고 싶어요.</td>\n",
       "      <td>주문</td>\n",
       "    </tr>\n",
       "    <tr>\n",
       "      <th>3</th>\n",
       "      <td>입금했는데 왜 입금 확인이 되지 않나요?</td>\n",
       "      <td>주문</td>\n",
       "    </tr>\n",
       "    <tr>\n",
       "      <th>4</th>\n",
       "      <td>쿠폰 및 적립금 등은 어떻게 사용하나요?</td>\n",
       "      <td>주문</td>\n",
       "    </tr>\n",
       "    <tr>\n",
       "      <th>5</th>\n",
       "      <td>어떤 결제 방법이 있나요?</td>\n",
       "      <td>주문</td>\n",
       "    </tr>\n",
       "    <tr>\n",
       "      <th>6</th>\n",
       "      <td>비회원도 구매가 가능하나요?</td>\n",
       "      <td>주문</td>\n",
       "    </tr>\n",
       "    <tr>\n",
       "      <th>7</th>\n",
       "      <td>[-무통장 결제\\n환불은 평일 기준 오후 6시 이후 일괄적으로 처리해 드리고 있어 ...</td>\n",
       "      <td>주문</td>\n",
       "    </tr>\n",
       "    <tr>\n",
       "      <th>8</th>\n",
       "      <td>[발송전이면 로그인 후 → 마이페이지 → 주문 내역에서 [주문취소] 버튼 눌러주시면...</td>\n",
       "      <td>주문</td>\n",
       "    </tr>\n",
       "    <tr>\n",
       "      <th>9</th>\n",
       "      <td>[주문서에 기재한 입금자명과 다르거나 다른 금액으로 입금한 경우 확인이 되지 않습니...</td>\n",
       "      <td>주문</td>\n",
       "    </tr>\n",
       "    <tr>\n",
       "      <th>10</th>\n",
       "      <td>[-쿠폰쿠폰마다 사용 가능한 금액 기준이 상이하며  기재되어 있는 금액 이상 구매 ...</td>\n",
       "      <td>주문</td>\n",
       "    </tr>\n",
       "    <tr>\n",
       "      <th>11</th>\n",
       "      <td>[- 페이코(payco)- 카카오페이(KakaoPay)- 무통장입금- 신용카드 - ...</td>\n",
       "      <td>주문</td>\n",
       "    </tr>\n",
       "    <tr>\n",
       "      <th>12</th>\n",
       "      <td>[비회원도 구매 가능하며 장바구니 → 주문하기 → 비회원 구매 클릭하면 됩니다 :)...</td>\n",
       "      <td>주문</td>\n",
       "    </tr>\n",
       "    <tr>\n",
       "      <th>13</th>\n",
       "      <td>[해외 배송 가능합니다.​ 주문서 작성 시 배송지 선택에서 해외 배송 선택 → 국가...</td>\n",
       "      <td>배송</td>\n",
       "    </tr>\n",
       "    <tr>\n",
       "      <th>14</th>\n",
       "      <td>[캔마트는 빠른 배송을 위해 결제 완료 후 배송 준비를 하고 있는데요 출고되지 않는...</td>\n",
       "      <td>배송</td>\n",
       "    </tr>\n",
       "    <tr>\n",
       "      <th>15</th>\n",
       "      <td>[네~ 묶음배송 가능합니다 :)주문 후 게시판이나 고객센터로 문의해 주시면 저희 쪽...</td>\n",
       "      <td>배송</td>\n",
       "    </tr>\n",
       "    <tr>\n",
       "      <th>16</th>\n",
       "      <td>[\\n배송기간은 결제 완료 후 2~5일(주말  공휴일 제외)로 여유 부탁 드립니다....</td>\n",
       "      <td>배송</td>\n",
       "    </tr>\n",
       "    <tr>\n",
       "      <th>17</th>\n",
       "      <td>[캔마트에서는 CJ 대한통운을 이용하여 고객님께 배송해 드리고 있습니다 :)배송 조...</td>\n",
       "      <td>배송</td>\n",
       "    </tr>\n",
       "    <tr>\n",
       "      <th>18</th>\n",
       "      <td>[저희 캔마트에서는 실결제금액기준 5만원 이상 구매하실 경우 무료 배송을 해드리고 ...</td>\n",
       "      <td>배송</td>\n",
       "    </tr>\n",
       "    <tr>\n",
       "      <th>19</th>\n",
       "      <td>배송 준비 중인데 상품 변경하고 싶어요.</td>\n",
       "      <td>배송</td>\n",
       "    </tr>\n",
       "    <tr>\n",
       "      <th>20</th>\n",
       "      <td>묶음배송도 되나요?</td>\n",
       "      <td>배송</td>\n",
       "    </tr>\n",
       "    <tr>\n",
       "      <th>21</th>\n",
       "      <td>오늘 주문하면 언제 받을 수 있나요?</td>\n",
       "      <td>배송</td>\n",
       "    </tr>\n",
       "    <tr>\n",
       "      <th>22</th>\n",
       "      <td>어느 택배사로 배송 되나요?</td>\n",
       "      <td>배송</td>\n",
       "    </tr>\n",
       "    <tr>\n",
       "      <th>23</th>\n",
       "      <td>얼마 이상 구매 시 무료배송인가요?</td>\n",
       "      <td>배송</td>\n",
       "    </tr>\n",
       "    <tr>\n",
       "      <th>24</th>\n",
       "      <td>회원 정보 변경 / 회원 탈퇴는 어떻게 하나요?</td>\n",
       "      <td>회원</td>\n",
       "    </tr>\n",
       "    <tr>\n",
       "      <th>25</th>\n",
       "      <td>아이디 / 비밀번호를 잊어버렸어요</td>\n",
       "      <td>회원</td>\n",
       "    </tr>\n",
       "    <tr>\n",
       "      <th>26</th>\n",
       "      <td>[비밀번호  생년월일  주소  연락처  이메일은 로그인 후 마이페이지 → 정보수정 ...</td>\n",
       "      <td>회원</td>\n",
       "    </tr>\n",
       "    <tr>\n",
       "      <th>27</th>\n",
       "      <td>[로그인 화면에서 아이디/비밀번호 찾기를 클릭하신 후 성함  가입하셨을 때 기재하셨...</td>\n",
       "      <td>회원</td>\n",
       "    </tr>\n",
       "    <tr>\n",
       "      <th>28</th>\n",
       "      <td>불량 처리가 어려운 경우?</td>\n",
       "      <td>상품관련</td>\n",
       "    </tr>\n",
       "    <tr>\n",
       "      <th>29</th>\n",
       "      <td>불량 상품을 받았어요.</td>\n",
       "      <td>상품관련</td>\n",
       "    </tr>\n",
       "    <tr>\n",
       "      <th>30</th>\n",
       "      <td>반품 / 교환 이 불가능한 경우는?</td>\n",
       "      <td>상품관련</td>\n",
       "    </tr>\n",
       "    <tr>\n",
       "      <th>31</th>\n",
       "      <td>교환 / 반품 절차 및 배송비 안내</td>\n",
       "      <td>상품관련</td>\n",
       "    </tr>\n",
       "    <tr>\n",
       "      <th>32</th>\n",
       "      <td>[- 모든 제품은 드라이클리닝을 권장하고 있으며  안내되어 있는 세탁 방법과 다르게...</td>\n",
       "      <td>상품관련</td>\n",
       "    </tr>\n",
       "    <tr>\n",
       "      <th>33</th>\n",
       "      <td>[캔마트는 입고 된 상품을 다시 개별 포장하는 과정에서 한번 더 검수하는 과정을 거...</td>\n",
       "      <td>상품관련</td>\n",
       "    </tr>\n",
       "    <tr>\n",
       "      <th>34</th>\n",
       "      <td>[- 반품 기한 (수령 후 7일)이 경과된 경우 \\n- 고객님의 부주의로 인한 상품...</td>\n",
       "      <td>상품관련</td>\n",
       "    </tr>\n",
       "    <tr>\n",
       "      <th>35</th>\n",
       "      <td>[-반품 전체 반품 일 경우 왕복 6 000원 발생 고객님 부담입니다. 부분 반품 ...</td>\n",
       "      <td>상품관련</td>\n",
       "    </tr>\n",
       "  </tbody>\n",
       "</table>\n",
       "</div>"
      ],
      "text/plain": [
       "                                                   제목    분류\n",
       "0                                     입금 계좌번호를 알려주세요.    주문\n",
       "1                      환불처리 / 카드취소 등 요청 했는데 언제 처리되나요?    주문\n",
       "2                                        주문 취소하고 싶어요.    주문\n",
       "3                              입금했는데 왜 입금 확인이 되지 않나요?    주문\n",
       "4                              쿠폰 및 적립금 등은 어떻게 사용하나요?    주문\n",
       "5                                      어떤 결제 방법이 있나요?    주문\n",
       "6                                     비회원도 구매가 가능하나요?    주문\n",
       "7   [-무통장 결제\\n환불은 평일 기준 오후 6시 이후 일괄적으로 처리해 드리고 있어 ...    주문\n",
       "8   [발송전이면 로그인 후 → 마이페이지 → 주문 내역에서 [주문취소] 버튼 눌러주시면...    주문\n",
       "9   [주문서에 기재한 입금자명과 다르거나 다른 금액으로 입금한 경우 확인이 되지 않습니...    주문\n",
       "10  [-쿠폰쿠폰마다 사용 가능한 금액 기준이 상이하며  기재되어 있는 금액 이상 구매 ...    주문\n",
       "11  [- 페이코(payco)- 카카오페이(KakaoPay)- 무통장입금- 신용카드 - ...    주문\n",
       "12  [비회원도 구매 가능하며 장바구니 → 주문하기 → 비회원 구매 클릭하면 됩니다 :)...    주문\n",
       "13  [해외 배송 가능합니다.​ 주문서 작성 시 배송지 선택에서 해외 배송 선택 → 국가...    배송\n",
       "14  [캔마트는 빠른 배송을 위해 결제 완료 후 배송 준비를 하고 있는데요 출고되지 않는...    배송\n",
       "15  [네~ 묶음배송 가능합니다 :)주문 후 게시판이나 고객센터로 문의해 주시면 저희 쪽...    배송\n",
       "16  [\\n배송기간은 결제 완료 후 2~5일(주말  공휴일 제외)로 여유 부탁 드립니다....    배송\n",
       "17  [캔마트에서는 CJ 대한통운을 이용하여 고객님께 배송해 드리고 있습니다 :)배송 조...    배송\n",
       "18  [저희 캔마트에서는 실결제금액기준 5만원 이상 구매하실 경우 무료 배송을 해드리고 ...    배송\n",
       "19                             배송 준비 중인데 상품 변경하고 싶어요.    배송\n",
       "20                                         묶음배송도 되나요?    배송\n",
       "21                               오늘 주문하면 언제 받을 수 있나요?    배송\n",
       "22                                    어느 택배사로 배송 되나요?    배송\n",
       "23                                얼마 이상 구매 시 무료배송인가요?    배송\n",
       "24                         회원 정보 변경 / 회원 탈퇴는 어떻게 하나요?    회원\n",
       "25                                 아이디 / 비밀번호를 잊어버렸어요    회원\n",
       "26  [비밀번호  생년월일  주소  연락처  이메일은 로그인 후 마이페이지 → 정보수정 ...    회원\n",
       "27  [로그인 화면에서 아이디/비밀번호 찾기를 클릭하신 후 성함  가입하셨을 때 기재하셨...    회원\n",
       "28                                     불량 처리가 어려운 경우?  상품관련\n",
       "29                                       불량 상품을 받았어요.  상품관련\n",
       "30                                반품 / 교환 이 불가능한 경우는?  상품관련\n",
       "31                                교환 / 반품 절차 및 배송비 안내  상품관련\n",
       "32  [- 모든 제품은 드라이클리닝을 권장하고 있으며  안내되어 있는 세탁 방법과 다르게...  상품관련\n",
       "33  [캔마트는 입고 된 상품을 다시 개별 포장하는 과정에서 한번 더 검수하는 과정을 거...  상품관련\n",
       "34  [- 반품 기한 (수령 후 7일)이 경과된 경우 \\n- 고객님의 부주의로 인한 상품...  상품관련\n",
       "35  [-반품 전체 반품 일 경우 왕복 6 000원 발생 고객님 부담입니다. 부분 반품 ...  상품관련"
      ]
     },
     "execution_count": 76,
     "metadata": {},
     "output_type": "execute_result"
    }
   ],
   "source": [
    "cs"
   ]
  },
  {
   "cell_type": "code",
   "execution_count": 77,
   "metadata": {},
   "outputs": [],
   "source": [
    "cs.to_csv('cs4.csv')"
   ]
  },
  {
   "cell_type": "code",
   "execution_count": 78,
   "metadata": {},
   "outputs": [],
   "source": [
    "\n",
    "df=pd.read_csv('cs_data1.csv')"
   ]
  },
  {
   "cell_type": "code",
   "execution_count": 79,
   "metadata": {},
   "outputs": [],
   "source": [
    "cs=pd.concat([cs,df],ignore_index=True)"
   ]
  },
  {
   "cell_type": "code",
   "execution_count": 80,
   "metadata": {},
   "outputs": [
    {
     "data": {
      "text/html": [
       "<div>\n",
       "<style scoped>\n",
       "    .dataframe tbody tr th:only-of-type {\n",
       "        vertical-align: middle;\n",
       "    }\n",
       "\n",
       "    .dataframe tbody tr th {\n",
       "        vertical-align: top;\n",
       "    }\n",
       "\n",
       "    .dataframe thead th {\n",
       "        text-align: right;\n",
       "    }\n",
       "</style>\n",
       "<table border=\"1\" class=\"dataframe\">\n",
       "  <thead>\n",
       "    <tr style=\"text-align: right;\">\n",
       "      <th></th>\n",
       "      <th>제목</th>\n",
       "      <th>분류</th>\n",
       "      <th>Unnamed: 0</th>\n",
       "    </tr>\n",
       "  </thead>\n",
       "  <tbody>\n",
       "    <tr>\n",
       "      <th>0</th>\n",
       "      <td>입금 계좌번호를 알려주세요.</td>\n",
       "      <td>주문</td>\n",
       "      <td>NaN</td>\n",
       "    </tr>\n",
       "    <tr>\n",
       "      <th>1</th>\n",
       "      <td>환불처리 / 카드취소 등 요청 했는데 언제 처리되나요?</td>\n",
       "      <td>주문</td>\n",
       "      <td>NaN</td>\n",
       "    </tr>\n",
       "    <tr>\n",
       "      <th>2</th>\n",
       "      <td>주문 취소하고 싶어요.</td>\n",
       "      <td>주문</td>\n",
       "      <td>NaN</td>\n",
       "    </tr>\n",
       "    <tr>\n",
       "      <th>3</th>\n",
       "      <td>입금했는데 왜 입금 확인이 되지 않나요?</td>\n",
       "      <td>주문</td>\n",
       "      <td>NaN</td>\n",
       "    </tr>\n",
       "    <tr>\n",
       "      <th>4</th>\n",
       "      <td>쿠폰 및 적립금 등은 어떻게 사용하나요?</td>\n",
       "      <td>주문</td>\n",
       "      <td>NaN</td>\n",
       "    </tr>\n",
       "    <tr>\n",
       "      <th>...</th>\n",
       "      <td>...</td>\n",
       "      <td>...</td>\n",
       "      <td>...</td>\n",
       "    </tr>\n",
       "    <tr>\n",
       "      <th>626</th>\n",
       "      <td>['\\n\\n사뿐 가족이 되시면 다양한 혜택이 있으십니다.\\n주문 및 배송 교환 반품...</td>\n",
       "      <td>회원</td>\n",
       "      <td>590.0</td>\n",
       "    </tr>\n",
       "    <tr>\n",
       "      <th>627</th>\n",
       "      <td>['\\n\\n사뿐은 회원이 아니셔도 주문 가능하십니다.\\n상품을 CART(장바구니)에...</td>\n",
       "      <td>회원</td>\n",
       "      <td>591.0</td>\n",
       "    </tr>\n",
       "    <tr>\n",
       "      <th>628</th>\n",
       "      <td>['\\n\\n아이디를 잊어버렸을경우\\n로그인-회원아이디 찾기-이름 이메일 입력-아이디...</td>\n",
       "      <td>회원</td>\n",
       "      <td>592.0</td>\n",
       "    </tr>\n",
       "    <tr>\n",
       "      <th>629</th>\n",
       "      <td>['\\n\\n전화번호 및 주소등 개인정보 변경을 원하실때는\\n상단에 마이페이지-회원정...</td>\n",
       "      <td>회원</td>\n",
       "      <td>593.0</td>\n",
       "    </tr>\n",
       "    <tr>\n",
       "      <th>630</th>\n",
       "      <td>['\\n\\n회원탈퇴는 로그인 후 마이페이지에서 가능하십니다.\\n탈퇴시 현재 보유하고...</td>\n",
       "      <td>회원</td>\n",
       "      <td>594.0</td>\n",
       "    </tr>\n",
       "  </tbody>\n",
       "</table>\n",
       "<p>631 rows × 3 columns</p>\n",
       "</div>"
      ],
      "text/plain": [
       "                                                    제목  분류  Unnamed: 0\n",
       "0                                      입금 계좌번호를 알려주세요.  주문         NaN\n",
       "1                       환불처리 / 카드취소 등 요청 했는데 언제 처리되나요?  주문         NaN\n",
       "2                                         주문 취소하고 싶어요.  주문         NaN\n",
       "3                               입금했는데 왜 입금 확인이 되지 않나요?  주문         NaN\n",
       "4                               쿠폰 및 적립금 등은 어떻게 사용하나요?  주문         NaN\n",
       "..                                                 ...  ..         ...\n",
       "626  ['\\n\\n사뿐 가족이 되시면 다양한 혜택이 있으십니다.\\n주문 및 배송 교환 반품...  회원       590.0\n",
       "627  ['\\n\\n사뿐은 회원이 아니셔도 주문 가능하십니다.\\n상품을 CART(장바구니)에...  회원       591.0\n",
       "628  ['\\n\\n아이디를 잊어버렸을경우\\n로그인-회원아이디 찾기-이름 이메일 입력-아이디...  회원       592.0\n",
       "629  ['\\n\\n전화번호 및 주소등 개인정보 변경을 원하실때는\\n상단에 마이페이지-회원정...  회원       593.0\n",
       "630  ['\\n\\n회원탈퇴는 로그인 후 마이페이지에서 가능하십니다.\\n탈퇴시 현재 보유하고...  회원       594.0\n",
       "\n",
       "[631 rows x 3 columns]"
      ]
     },
     "execution_count": 80,
     "metadata": {},
     "output_type": "execute_result"
    }
   ],
   "source": [
    "cs"
   ]
  },
  {
   "cell_type": "code",
   "execution_count": 81,
   "metadata": {},
   "outputs": [],
   "source": [
    "cs.drop(columns=\"Unnamed: 0\", inplace=True)"
   ]
  },
  {
   "cell_type": "code",
   "execution_count": 82,
   "metadata": {},
   "outputs": [
    {
     "data": {
      "text/html": [
       "<div>\n",
       "<style scoped>\n",
       "    .dataframe tbody tr th:only-of-type {\n",
       "        vertical-align: middle;\n",
       "    }\n",
       "\n",
       "    .dataframe tbody tr th {\n",
       "        vertical-align: top;\n",
       "    }\n",
       "\n",
       "    .dataframe thead th {\n",
       "        text-align: right;\n",
       "    }\n",
       "</style>\n",
       "<table border=\"1\" class=\"dataframe\">\n",
       "  <thead>\n",
       "    <tr style=\"text-align: right;\">\n",
       "      <th></th>\n",
       "      <th>제목</th>\n",
       "      <th>분류</th>\n",
       "    </tr>\n",
       "  </thead>\n",
       "  <tbody>\n",
       "    <tr>\n",
       "      <th>0</th>\n",
       "      <td>입금 계좌번호를 알려주세요.</td>\n",
       "      <td>주문</td>\n",
       "    </tr>\n",
       "    <tr>\n",
       "      <th>1</th>\n",
       "      <td>환불처리 / 카드취소 등 요청 했는데 언제 처리되나요?</td>\n",
       "      <td>주문</td>\n",
       "    </tr>\n",
       "    <tr>\n",
       "      <th>2</th>\n",
       "      <td>주문 취소하고 싶어요.</td>\n",
       "      <td>주문</td>\n",
       "    </tr>\n",
       "    <tr>\n",
       "      <th>3</th>\n",
       "      <td>입금했는데 왜 입금 확인이 되지 않나요?</td>\n",
       "      <td>주문</td>\n",
       "    </tr>\n",
       "    <tr>\n",
       "      <th>4</th>\n",
       "      <td>쿠폰 및 적립금 등은 어떻게 사용하나요?</td>\n",
       "      <td>주문</td>\n",
       "    </tr>\n",
       "    <tr>\n",
       "      <th>...</th>\n",
       "      <td>...</td>\n",
       "      <td>...</td>\n",
       "    </tr>\n",
       "    <tr>\n",
       "      <th>626</th>\n",
       "      <td>['\\n\\n사뿐 가족이 되시면 다양한 혜택이 있으십니다.\\n주문 및 배송 교환 반품...</td>\n",
       "      <td>회원</td>\n",
       "    </tr>\n",
       "    <tr>\n",
       "      <th>627</th>\n",
       "      <td>['\\n\\n사뿐은 회원이 아니셔도 주문 가능하십니다.\\n상품을 CART(장바구니)에...</td>\n",
       "      <td>회원</td>\n",
       "    </tr>\n",
       "    <tr>\n",
       "      <th>628</th>\n",
       "      <td>['\\n\\n아이디를 잊어버렸을경우\\n로그인-회원아이디 찾기-이름 이메일 입력-아이디...</td>\n",
       "      <td>회원</td>\n",
       "    </tr>\n",
       "    <tr>\n",
       "      <th>629</th>\n",
       "      <td>['\\n\\n전화번호 및 주소등 개인정보 변경을 원하실때는\\n상단에 마이페이지-회원정...</td>\n",
       "      <td>회원</td>\n",
       "    </tr>\n",
       "    <tr>\n",
       "      <th>630</th>\n",
       "      <td>['\\n\\n회원탈퇴는 로그인 후 마이페이지에서 가능하십니다.\\n탈퇴시 현재 보유하고...</td>\n",
       "      <td>회원</td>\n",
       "    </tr>\n",
       "  </tbody>\n",
       "</table>\n",
       "<p>631 rows × 2 columns</p>\n",
       "</div>"
      ],
      "text/plain": [
       "                                                    제목  분류\n",
       "0                                      입금 계좌번호를 알려주세요.  주문\n",
       "1                       환불처리 / 카드취소 등 요청 했는데 언제 처리되나요?  주문\n",
       "2                                         주문 취소하고 싶어요.  주문\n",
       "3                               입금했는데 왜 입금 확인이 되지 않나요?  주문\n",
       "4                               쿠폰 및 적립금 등은 어떻게 사용하나요?  주문\n",
       "..                                                 ...  ..\n",
       "626  ['\\n\\n사뿐 가족이 되시면 다양한 혜택이 있으십니다.\\n주문 및 배송 교환 반품...  회원\n",
       "627  ['\\n\\n사뿐은 회원이 아니셔도 주문 가능하십니다.\\n상품을 CART(장바구니)에...  회원\n",
       "628  ['\\n\\n아이디를 잊어버렸을경우\\n로그인-회원아이디 찾기-이름 이메일 입력-아이디...  회원\n",
       "629  ['\\n\\n전화번호 및 주소등 개인정보 변경을 원하실때는\\n상단에 마이페이지-회원정...  회원\n",
       "630  ['\\n\\n회원탈퇴는 로그인 후 마이페이지에서 가능하십니다.\\n탈퇴시 현재 보유하고...  회원\n",
       "\n",
       "[631 rows x 2 columns]"
      ]
     },
     "execution_count": 82,
     "metadata": {},
     "output_type": "execute_result"
    }
   ],
   "source": [
    "cs"
   ]
  },
  {
   "cell_type": "code",
   "execution_count": 83,
   "metadata": {},
   "outputs": [],
   "source": [
    "cs.to_csv('cs5.csv')"
   ]
  },
  {
   "cell_type": "code",
   "execution_count": null,
   "metadata": {},
   "outputs": [],
   "source": []
  }
 ],
 "metadata": {
  "kernelspec": {
   "display_name": "Python 3",
   "language": "python",
   "name": "python3"
  },
  "language_info": {
   "codemirror_mode": {
    "name": "ipython",
    "version": 3
   },
   "file_extension": ".py",
   "mimetype": "text/x-python",
   "name": "python",
   "nbconvert_exporter": "python",
   "pygments_lexer": "ipython3",
   "version": "3.7.4"
  }
 },
 "nbformat": 4,
 "nbformat_minor": 2
}

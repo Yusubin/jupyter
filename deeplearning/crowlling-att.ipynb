{
 "cells": [
  {
   "cell_type": "code",
   "execution_count": 1,
   "metadata": {},
   "outputs": [
    {
     "name": "stdout",
     "output_type": "stream",
     "text": [
      "Requirement already satisfied: selenium in c:\\users\\hi\\anaconda3\\lib\\site-packages (4.1.3)\n",
      "Requirement already satisfied: trio~=0.17 in c:\\users\\hi\\anaconda3\\lib\\site-packages (from selenium) (0.20.0)\n",
      "Requirement already satisfied: trio-websocket~=0.9 in c:\\users\\hi\\anaconda3\\lib\\site-packages (from selenium) (0.9.2)\n",
      "Requirement already satisfied: urllib3[secure,socks]~=1.26 in c:\\users\\hi\\anaconda3\\lib\\site-packages (from selenium) (1.26.9)\n",
      "Requirement already satisfied: outcome in c:\\users\\hi\\anaconda3\\lib\\site-packages (from trio~=0.17->selenium) (1.1.0)\n",
      "Requirement already satisfied: attrs>=19.2.0 in c:\\users\\hi\\anaconda3\\lib\\site-packages (from trio~=0.17->selenium) (19.2.0)\n",
      "Requirement already satisfied: sniffio in c:\\users\\hi\\anaconda3\\lib\\site-packages (from trio~=0.17->selenium) (1.2.0)\n",
      "Requirement already satisfied: idna in c:\\users\\hi\\anaconda3\\lib\\site-packages (from trio~=0.17->selenium) (2.8)\n",
      "Requirement already satisfied: async-generator>=1.9 in c:\\users\\hi\\anaconda3\\lib\\site-packages (from trio~=0.17->selenium) (1.10)\n",
      "Requirement already satisfied: cffi>=1.14; os_name == \"nt\" and implementation_name != \"pypy\" in c:\\users\\hi\\anaconda3\\lib\\site-packages (from trio~=0.17->selenium) (1.15.0)\n",
      "Requirement already satisfied: sortedcontainers in c:\\users\\hi\\anaconda3\\lib\\site-packages (from trio~=0.17->selenium) (2.1.0)\n",
      "Requirement already satisfied: wsproto>=0.14 in c:\\users\\hi\\anaconda3\\lib\\site-packages (from trio-websocket~=0.9->selenium) (1.1.0)\n",
      "Requirement already satisfied: certifi; extra == \"secure\" in c:\\users\\hi\\anaconda3\\lib\\site-packages (from urllib3[secure,socks]~=1.26->selenium) (2019.9.11)\n",
      "Requirement already satisfied: pyOpenSSL>=0.14; extra == \"secure\" in c:\\users\\hi\\anaconda3\\lib\\site-packages (from urllib3[secure,socks]~=1.26->selenium) (19.0.0)\n",
      "Requirement already satisfied: cryptography>=1.3.4; extra == \"secure\" in c:\\users\\hi\\anaconda3\\lib\\site-packages (from urllib3[secure,socks]~=1.26->selenium) (2.7)\n",
      "Requirement already satisfied: PySocks!=1.5.7,<2.0,>=1.5.6; extra == \"socks\" in c:\\users\\hi\\anaconda3\\lib\\site-packages (from urllib3[secure,socks]~=1.26->selenium) (1.7.1)\n",
      "Requirement already satisfied: pycparser in c:\\users\\hi\\anaconda3\\lib\\site-packages (from cffi>=1.14; os_name == \"nt\" and implementation_name != \"pypy\"->trio~=0.17->selenium) (2.19)\n",
      "Requirement already satisfied: h11<1,>=0.9.0 in c:\\users\\hi\\anaconda3\\lib\\site-packages (from wsproto>=0.14->trio-websocket~=0.9->selenium) (0.13.0)\n",
      "Requirement already satisfied: six>=1.5.2 in c:\\users\\hi\\anaconda3\\lib\\site-packages (from pyOpenSSL>=0.14; extra == \"secure\"->urllib3[secure,socks]~=1.26->selenium) (1.12.0)\n",
      "Requirement already satisfied: asn1crypto>=0.21.0 in c:\\users\\hi\\anaconda3\\lib\\site-packages (from cryptography>=1.3.4; extra == \"secure\"->urllib3[secure,socks]~=1.26->selenium) (1.0.1)\n",
      "Requirement already satisfied: typing-extensions; python_version < \"3.8\" in c:\\users\\hi\\anaconda3\\lib\\site-packages (from h11<1,>=0.9.0->wsproto>=0.14->trio-websocket~=0.9->selenium) (4.1.1)\n"
     ]
    }
   ],
   "source": [
    "!pip install selenium"
   ]
  },
  {
   "cell_type": "code",
   "execution_count": 2,
   "metadata": {},
   "outputs": [],
   "source": [
    "import warnings\n",
    "warnings.filterwarnings(action='ignore')\n",
    "from selenium.webdriver.common.by import By\n",
    "from selenium.webdriver.support.ui import WebDriverWait \n",
    "from selenium.webdriver.support import expected_conditions as EC\n",
    "from selenium import webdriver\n",
    "from selenium.webdriver.common.keys import Keys\n",
    "import time\n",
    "from tqdm.auto import tqdm\n",
    "import pandas as pd\n",
    "from bs4 import BeautifulSoup \n",
    "from IPython.display import Image"
   ]
  },
  {
   "cell_type": "code",
   "execution_count": 3,
   "metadata": {},
   "outputs": [],
   "source": [
    "\n",
    "def img_source(rlist):\n",
    "    returnlist=[]\n",
    "    for i in range(0, len(rlist), 1):\n",
    "        a= rlist[i].get('src')\n",
    "        returnlist.append(a)\n",
    "    return returnlist\n",
    "\n",
    "def confirm_text (rlist):\n",
    "    returnlist=[]\n",
    "    for i in range(0, len(rlist), 1):\n",
    "        a= rlist[i].text\n",
    "        aa =a.replace(',',' ')\n",
    "        returnlist.append(aa)\n",
    "    return returnlist"
   ]
  },
  {
   "cell_type": "code",
   "execution_count": 30,
   "metadata": {},
   "outputs": [],
   "source": [
    "    url = 'https://attrangs.co.kr/cs/?faqcate=%EC%A0%84%EC%B2%B4'\n",
    "    driver = webdriver.Chrome('../WebDriver/chromedriver.exe') #브라우저 실행\n",
    "    driver.get(url)\n",
    "    time.sleep(3)"
   ]
  },
  {
   "cell_type": "markdown",
   "metadata": {},
   "source": [
    "## 주문결제"
   ]
  },
  {
   "cell_type": "markdown",
   "metadata": {},
   "source": [
    "#### 주문결제"
   ]
  },
  {
   "cell_type": "code",
   "execution_count": 31,
   "metadata": {},
   "outputs": [],
   "source": [
    "order = driver.find_element_by_css_selector(\"#cscenter > div.board_faq > ul > li:nth-child(2) > a\")\n",
    "order.send_keys(Keys.RETURN)"
   ]
  },
  {
   "cell_type": "code",
   "execution_count": 32,
   "metadata": {},
   "outputs": [],
   "source": [
    "html=driver.page_source"
   ]
  },
  {
   "cell_type": "code",
   "execution_count": 33,
   "metadata": {},
   "outputs": [],
   "source": [
    "html_doc=BeautifulSoup(html,\"html.parser\")"
   ]
  },
  {
   "cell_type": "code",
   "execution_count": 34,
   "metadata": {},
   "outputs": [],
   "source": [
    "order_question=html_doc.select(\"#cscenter > div.board_faq > table > tbody > tr > td.tal.subject > a\")\n",
    "order_quest=confirm_text(order_question)"
   ]
  },
  {
   "cell_type": "code",
   "execution_count": 35,
   "metadata": {
    "scrolled": true
   },
   "outputs": [
    {
     "data": {
      "text/plain": [
       "['가상계좌가 뭔가요?',\n",
       " '주문자와 다르게 입금을 했는데 어떻게 하나요?',\n",
       " '카드결제후 취소를 했는데 청구서가 왔어요!',\n",
       " '현금영수증은 발급되나요?',\n",
       " '무통장계좌번호는 어떻게 되나요?',\n",
       " '입금확인은 언제되나요?',\n",
       " '입금을했는데 입금확인이 되질 않아요',\n",
       " '에스크로제도란 무엇인가요?',\n",
       " '배송메세지가 뭔가요 ?',\n",
       " '주문을 했는데 입금이 안되요?',\n",
       " '입금확인 되었는지  확인해보고 싶어요~',\n",
       " '주문을 여러번 나눠하고  입금은 한번에 했어요.',\n",
       " '결제시 적립금(마일리지) 사용하였는데 주문 취소할 경우 어떻게 되나요?',\n",
       " '카드취소했는데 카드사에서는 취소가 되지 않았어요',\n",
       " '적립금으로 구매시 구매금액의 적립금이 적용되나요?']"
      ]
     },
     "execution_count": 35,
     "metadata": {},
     "output_type": "execute_result"
    }
   ],
   "source": [
    "order_quest"
   ]
  },
  {
   "cell_type": "code",
   "execution_count": 36,
   "metadata": {},
   "outputs": [],
   "source": [
    "order = driver.find_element_by_css_selector(\"#cscenter > div.paging > ol > li:nth-child(2) > a\")\n",
    "order.send_keys(Keys.RETURN)"
   ]
  },
  {
   "cell_type": "code",
   "execution_count": 37,
   "metadata": {},
   "outputs": [],
   "source": [
    "html=driver.page_source"
   ]
  },
  {
   "cell_type": "code",
   "execution_count": 38,
   "metadata": {},
   "outputs": [],
   "source": [
    "html_doc=BeautifulSoup(html,\"html.parser\")"
   ]
  },
  {
   "cell_type": "code",
   "execution_count": 39,
   "metadata": {},
   "outputs": [],
   "source": [
    "order_question2=html_doc.select(\"#cscenter > div.board_faq > table > tbody > tr > td.tal.subject > a\")\n",
    "order_quest2=confirm_text(order_question2)"
   ]
  },
  {
   "cell_type": "code",
   "execution_count": 40,
   "metadata": {},
   "outputs": [
    {
     "data": {
      "text/plain": [
       "['입금은행명과 입금자명을 변경하고 싶은데 이미 주문서 작성후에는  변경이 불가한가요?',\n",
       " '금액 상관없이 할부가 가능한가요?',\n",
       " '결제시 자꾸 오류가 나서 결제가 되지 않아요',\n",
       " '신용카드 취소 반영기간',\n",
       " '상품을 하나 더 추가 주문 하는데 취소하고 다시 결제해야하나요',\n",
       " '결제방법을 변경하고 싶어요',\n",
       " '실시간 계좌이체로 주문했는데 금액이 이체되지 않았어요  왜 그런가요',\n",
       " '입금을 했는데 주문서가 사라졌어요']"
      ]
     },
     "execution_count": 40,
     "metadata": {},
     "output_type": "execute_result"
    }
   ],
   "source": [
    "order_quest2"
   ]
  },
  {
   "cell_type": "code",
   "execution_count": 42,
   "metadata": {},
   "outputs": [],
   "source": [
    "order_quest=order_quest+order_quest2"
   ]
  },
  {
   "cell_type": "code",
   "execution_count": 43,
   "metadata": {},
   "outputs": [
    {
     "data": {
      "text/plain": [
       "['가상계좌가 뭔가요?',\n",
       " '주문자와 다르게 입금을 했는데 어떻게 하나요?',\n",
       " '카드결제후 취소를 했는데 청구서가 왔어요!',\n",
       " '현금영수증은 발급되나요?',\n",
       " '무통장계좌번호는 어떻게 되나요?',\n",
       " '입금확인은 언제되나요?',\n",
       " '입금을했는데 입금확인이 되질 않아요',\n",
       " '에스크로제도란 무엇인가요?',\n",
       " '배송메세지가 뭔가요 ?',\n",
       " '주문을 했는데 입금이 안되요?',\n",
       " '입금확인 되었는지  확인해보고 싶어요~',\n",
       " '주문을 여러번 나눠하고  입금은 한번에 했어요.',\n",
       " '결제시 적립금(마일리지) 사용하였는데 주문 취소할 경우 어떻게 되나요?',\n",
       " '카드취소했는데 카드사에서는 취소가 되지 않았어요',\n",
       " '적립금으로 구매시 구매금액의 적립금이 적용되나요?',\n",
       " '입금은행명과 입금자명을 변경하고 싶은데 이미 주문서 작성후에는  변경이 불가한가요?',\n",
       " '금액 상관없이 할부가 가능한가요?',\n",
       " '결제시 자꾸 오류가 나서 결제가 되지 않아요',\n",
       " '신용카드 취소 반영기간',\n",
       " '상품을 하나 더 추가 주문 하는데 취소하고 다시 결제해야하나요',\n",
       " '결제방법을 변경하고 싶어요',\n",
       " '실시간 계좌이체로 주문했는데 금액이 이체되지 않았어요  왜 그런가요',\n",
       " '입금을 했는데 주문서가 사라졌어요']"
      ]
     },
     "execution_count": 43,
     "metadata": {},
     "output_type": "execute_result"
    }
   ],
   "source": [
    "order_quest"
   ]
  },
  {
   "cell_type": "code",
   "execution_count": 44,
   "metadata": {},
   "outputs": [
    {
     "data": {
      "text/html": [
       "<div>\n",
       "<style scoped>\n",
       "    .dataframe tbody tr th:only-of-type {\n",
       "        vertical-align: middle;\n",
       "    }\n",
       "\n",
       "    .dataframe tbody tr th {\n",
       "        vertical-align: top;\n",
       "    }\n",
       "\n",
       "    .dataframe thead th {\n",
       "        text-align: right;\n",
       "    }\n",
       "</style>\n",
       "<table border=\"1\" class=\"dataframe\">\n",
       "  <thead>\n",
       "    <tr style=\"text-align: right;\">\n",
       "      <th></th>\n",
       "      <th>제목</th>\n",
       "      <th>분류</th>\n",
       "    </tr>\n",
       "  </thead>\n",
       "  <tbody>\n",
       "    <tr>\n",
       "      <td>0</td>\n",
       "      <td>가상계좌가 뭔가요?</td>\n",
       "      <td>주문</td>\n",
       "    </tr>\n",
       "    <tr>\n",
       "      <td>1</td>\n",
       "      <td>주문자와 다르게 입금을 했는데 어떻게 하나요?</td>\n",
       "      <td>주문</td>\n",
       "    </tr>\n",
       "    <tr>\n",
       "      <td>2</td>\n",
       "      <td>카드결제후 취소를 했는데 청구서가 왔어요!</td>\n",
       "      <td>주문</td>\n",
       "    </tr>\n",
       "    <tr>\n",
       "      <td>3</td>\n",
       "      <td>현금영수증은 발급되나요?</td>\n",
       "      <td>주문</td>\n",
       "    </tr>\n",
       "    <tr>\n",
       "      <td>4</td>\n",
       "      <td>무통장계좌번호는 어떻게 되나요?</td>\n",
       "      <td>주문</td>\n",
       "    </tr>\n",
       "    <tr>\n",
       "      <td>5</td>\n",
       "      <td>입금확인은 언제되나요?</td>\n",
       "      <td>주문</td>\n",
       "    </tr>\n",
       "    <tr>\n",
       "      <td>6</td>\n",
       "      <td>입금을했는데 입금확인이 되질 않아요</td>\n",
       "      <td>주문</td>\n",
       "    </tr>\n",
       "    <tr>\n",
       "      <td>7</td>\n",
       "      <td>에스크로제도란 무엇인가요?</td>\n",
       "      <td>주문</td>\n",
       "    </tr>\n",
       "    <tr>\n",
       "      <td>8</td>\n",
       "      <td>배송메세지가 뭔가요 ?</td>\n",
       "      <td>주문</td>\n",
       "    </tr>\n",
       "    <tr>\n",
       "      <td>9</td>\n",
       "      <td>주문을 했는데 입금이 안되요?</td>\n",
       "      <td>주문</td>\n",
       "    </tr>\n",
       "    <tr>\n",
       "      <td>10</td>\n",
       "      <td>입금확인 되었는지  확인해보고 싶어요~</td>\n",
       "      <td>주문</td>\n",
       "    </tr>\n",
       "    <tr>\n",
       "      <td>11</td>\n",
       "      <td>주문을 여러번 나눠하고  입금은 한번에 했어요.</td>\n",
       "      <td>주문</td>\n",
       "    </tr>\n",
       "    <tr>\n",
       "      <td>12</td>\n",
       "      <td>결제시 적립금(마일리지) 사용하였는데 주문 취소할 경우 어떻게 되나요?</td>\n",
       "      <td>주문</td>\n",
       "    </tr>\n",
       "    <tr>\n",
       "      <td>13</td>\n",
       "      <td>카드취소했는데 카드사에서는 취소가 되지 않았어요</td>\n",
       "      <td>주문</td>\n",
       "    </tr>\n",
       "    <tr>\n",
       "      <td>14</td>\n",
       "      <td>적립금으로 구매시 구매금액의 적립금이 적용되나요?</td>\n",
       "      <td>주문</td>\n",
       "    </tr>\n",
       "    <tr>\n",
       "      <td>15</td>\n",
       "      <td>입금은행명과 입금자명을 변경하고 싶은데 이미 주문서 작성후에는  변경이 불가한가요?</td>\n",
       "      <td>주문</td>\n",
       "    </tr>\n",
       "    <tr>\n",
       "      <td>16</td>\n",
       "      <td>금액 상관없이 할부가 가능한가요?</td>\n",
       "      <td>주문</td>\n",
       "    </tr>\n",
       "    <tr>\n",
       "      <td>17</td>\n",
       "      <td>결제시 자꾸 오류가 나서 결제가 되지 않아요</td>\n",
       "      <td>주문</td>\n",
       "    </tr>\n",
       "    <tr>\n",
       "      <td>18</td>\n",
       "      <td>신용카드 취소 반영기간</td>\n",
       "      <td>주문</td>\n",
       "    </tr>\n",
       "    <tr>\n",
       "      <td>19</td>\n",
       "      <td>상품을 하나 더 추가 주문 하는데 취소하고 다시 결제해야하나요</td>\n",
       "      <td>주문</td>\n",
       "    </tr>\n",
       "    <tr>\n",
       "      <td>20</td>\n",
       "      <td>결제방법을 변경하고 싶어요</td>\n",
       "      <td>주문</td>\n",
       "    </tr>\n",
       "    <tr>\n",
       "      <td>21</td>\n",
       "      <td>실시간 계좌이체로 주문했는데 금액이 이체되지 않았어요  왜 그런가요</td>\n",
       "      <td>주문</td>\n",
       "    </tr>\n",
       "    <tr>\n",
       "      <td>22</td>\n",
       "      <td>입금을 했는데 주문서가 사라졌어요</td>\n",
       "      <td>주문</td>\n",
       "    </tr>\n",
       "  </tbody>\n",
       "</table>\n",
       "</div>"
      ],
      "text/plain": [
       "                                                제목  분류\n",
       "0                                       가상계좌가 뭔가요?  주문\n",
       "1                        주문자와 다르게 입금을 했는데 어떻게 하나요?  주문\n",
       "2                          카드결제후 취소를 했는데 청구서가 왔어요!  주문\n",
       "3                                    현금영수증은 발급되나요?  주문\n",
       "4                                무통장계좌번호는 어떻게 되나요?  주문\n",
       "5                                     입금확인은 언제되나요?  주문\n",
       "6                              입금을했는데 입금확인이 되질 않아요  주문\n",
       "7                                   에스크로제도란 무엇인가요?  주문\n",
       "8                                     배송메세지가 뭔가요 ?  주문\n",
       "9                                 주문을 했는데 입금이 안되요?  주문\n",
       "10                           입금확인 되었는지  확인해보고 싶어요~  주문\n",
       "11                      주문을 여러번 나눠하고  입금은 한번에 했어요.  주문\n",
       "12         결제시 적립금(마일리지) 사용하였는데 주문 취소할 경우 어떻게 되나요?  주문\n",
       "13                      카드취소했는데 카드사에서는 취소가 되지 않았어요  주문\n",
       "14                     적립금으로 구매시 구매금액의 적립금이 적용되나요?  주문\n",
       "15  입금은행명과 입금자명을 변경하고 싶은데 이미 주문서 작성후에는  변경이 불가한가요?  주문\n",
       "16                              금액 상관없이 할부가 가능한가요?  주문\n",
       "17                        결제시 자꾸 오류가 나서 결제가 되지 않아요  주문\n",
       "18                                    신용카드 취소 반영기간  주문\n",
       "19              상품을 하나 더 추가 주문 하는데 취소하고 다시 결제해야하나요  주문\n",
       "20                                  결제방법을 변경하고 싶어요  주문\n",
       "21           실시간 계좌이체로 주문했는데 금액이 이체되지 않았어요  왜 그런가요  주문\n",
       "22                              입금을 했는데 주문서가 사라졌어요  주문"
      ]
     },
     "execution_count": 44,
     "metadata": {},
     "output_type": "execute_result"
    }
   ],
   "source": [
    "# 데이터프레임으로 보기\n",
    "cs_review= pd.DataFrame({'제목' :order_quest,\n",
    "                       '분류' : \"주문\"\n",
    "                       })\n",
    "cs_review"
   ]
  },
  {
   "cell_type": "markdown",
   "metadata": {},
   "source": [
    "#### 주문취소"
   ]
  },
  {
   "cell_type": "code",
   "execution_count": 55,
   "metadata": {},
   "outputs": [],
   "source": [
    "order2 = driver.find_element_by_css_selector(\"#cscenter > div.board_faq > ul > li:nth-child(5) > a\")\n",
    "order2.send_keys(Keys.RETURN)"
   ]
  },
  {
   "cell_type": "code",
   "execution_count": 56,
   "metadata": {},
   "outputs": [],
   "source": [
    "html=driver.page_source"
   ]
  },
  {
   "cell_type": "code",
   "execution_count": 57,
   "metadata": {},
   "outputs": [],
   "source": [
    "html_doc=BeautifulSoup(html,\"html.parser\")"
   ]
  },
  {
   "cell_type": "code",
   "execution_count": 58,
   "metadata": {},
   "outputs": [],
   "source": [
    "order_question2=html_doc.select(\"#cscenter > div.board_faq > table > tbody > tr > td.tal.subject > a\")\n",
    "order_quest2=confirm_text(order_question2)"
   ]
  },
  {
   "cell_type": "code",
   "execution_count": 59,
   "metadata": {
    "scrolled": true
   },
   "outputs": [
    {
     "data": {
      "text/plain": [
       "['주문 후 배송기간은 얼마나 걸리나요?',\n",
       " '비회원도 주문 가능 한가요?',\n",
       " '방문해서 구매 가능 한가요?',\n",
       " '상품을 주문하려면 어떻게 해야 하나요?',\n",
       " '실시간 구매에서 주문가능이란 어떤거죠?',\n",
       " '주문후 주문번호가 오지 않았어요 어떻게 해야 하나요?',\n",
       " '전화주문은 불가능 한가요?',\n",
       " '여러가지 상품을 함께 주문하려고 합니다. 어떻게 구매를 해야 할까요?',\n",
       " '구매당시에 품절이 아니었는데 품절됐다는 연락왔어요!',\n",
       " '세일상품 품절관련',\n",
       " '주문하고 결제까지 했는데 왜 품절이 되죠?',\n",
       " '상품을 아직 못받았는데 수령을 눌렀어요.괜찮을까요?',\n",
       " '실시간 구매에서 주문가능이란 어떤거죠?']"
      ]
     },
     "execution_count": 59,
     "metadata": {},
     "output_type": "execute_result"
    }
   ],
   "source": [
    "order_quest2"
   ]
  },
  {
   "cell_type": "code",
   "execution_count": 60,
   "metadata": {},
   "outputs": [
    {
     "data": {
      "text/html": [
       "<div>\n",
       "<style scoped>\n",
       "    .dataframe tbody tr th:only-of-type {\n",
       "        vertical-align: middle;\n",
       "    }\n",
       "\n",
       "    .dataframe tbody tr th {\n",
       "        vertical-align: top;\n",
       "    }\n",
       "\n",
       "    .dataframe thead th {\n",
       "        text-align: right;\n",
       "    }\n",
       "</style>\n",
       "<table border=\"1\" class=\"dataframe\">\n",
       "  <thead>\n",
       "    <tr style=\"text-align: right;\">\n",
       "      <th></th>\n",
       "      <th>제목</th>\n",
       "      <th>분류</th>\n",
       "    </tr>\n",
       "  </thead>\n",
       "  <tbody>\n",
       "    <tr>\n",
       "      <td>0</td>\n",
       "      <td>주문 후 배송기간은 얼마나 걸리나요?</td>\n",
       "      <td>주문</td>\n",
       "    </tr>\n",
       "    <tr>\n",
       "      <td>1</td>\n",
       "      <td>비회원도 주문 가능 한가요?</td>\n",
       "      <td>주문</td>\n",
       "    </tr>\n",
       "    <tr>\n",
       "      <td>2</td>\n",
       "      <td>방문해서 구매 가능 한가요?</td>\n",
       "      <td>주문</td>\n",
       "    </tr>\n",
       "    <tr>\n",
       "      <td>3</td>\n",
       "      <td>상품을 주문하려면 어떻게 해야 하나요?</td>\n",
       "      <td>주문</td>\n",
       "    </tr>\n",
       "    <tr>\n",
       "      <td>4</td>\n",
       "      <td>실시간 구매에서 주문가능이란 어떤거죠?</td>\n",
       "      <td>주문</td>\n",
       "    </tr>\n",
       "    <tr>\n",
       "      <td>5</td>\n",
       "      <td>주문후 주문번호가 오지 않았어요 어떻게 해야 하나요?</td>\n",
       "      <td>주문</td>\n",
       "    </tr>\n",
       "    <tr>\n",
       "      <td>6</td>\n",
       "      <td>전화주문은 불가능 한가요?</td>\n",
       "      <td>주문</td>\n",
       "    </tr>\n",
       "    <tr>\n",
       "      <td>7</td>\n",
       "      <td>여러가지 상품을 함께 주문하려고 합니다. 어떻게 구매를 해야 할까요?</td>\n",
       "      <td>주문</td>\n",
       "    </tr>\n",
       "    <tr>\n",
       "      <td>8</td>\n",
       "      <td>구매당시에 품절이 아니었는데 품절됐다는 연락왔어요!</td>\n",
       "      <td>주문</td>\n",
       "    </tr>\n",
       "    <tr>\n",
       "      <td>9</td>\n",
       "      <td>세일상품 품절관련</td>\n",
       "      <td>주문</td>\n",
       "    </tr>\n",
       "    <tr>\n",
       "      <td>10</td>\n",
       "      <td>주문하고 결제까지 했는데 왜 품절이 되죠?</td>\n",
       "      <td>주문</td>\n",
       "    </tr>\n",
       "    <tr>\n",
       "      <td>11</td>\n",
       "      <td>상품을 아직 못받았는데 수령을 눌렀어요.괜찮을까요?</td>\n",
       "      <td>주문</td>\n",
       "    </tr>\n",
       "    <tr>\n",
       "      <td>12</td>\n",
       "      <td>실시간 구매에서 주문가능이란 어떤거죠?</td>\n",
       "      <td>주문</td>\n",
       "    </tr>\n",
       "  </tbody>\n",
       "</table>\n",
       "</div>"
      ],
      "text/plain": [
       "                                        제목  분류\n",
       "0                     주문 후 배송기간은 얼마나 걸리나요?  주문\n",
       "1                          비회원도 주문 가능 한가요?  주문\n",
       "2                          방문해서 구매 가능 한가요?  주문\n",
       "3                    상품을 주문하려면 어떻게 해야 하나요?  주문\n",
       "4                    실시간 구매에서 주문가능이란 어떤거죠?  주문\n",
       "5            주문후 주문번호가 오지 않았어요 어떻게 해야 하나요?  주문\n",
       "6                           전화주문은 불가능 한가요?  주문\n",
       "7   여러가지 상품을 함께 주문하려고 합니다. 어떻게 구매를 해야 할까요?  주문\n",
       "8             구매당시에 품절이 아니었는데 품절됐다는 연락왔어요!  주문\n",
       "9                                세일상품 품절관련  주문\n",
       "10                 주문하고 결제까지 했는데 왜 품절이 되죠?  주문\n",
       "11            상품을 아직 못받았는데 수령을 눌렀어요.괜찮을까요?  주문\n",
       "12                   실시간 구매에서 주문가능이란 어떤거죠?  주문"
      ]
     },
     "execution_count": 60,
     "metadata": {},
     "output_type": "execute_result"
    }
   ],
   "source": [
    "# 데이터프레임으로 보기\n",
    "cs_review2= pd.DataFrame({'제목' :order_quest2,\n",
    "                       '분류' : \"주문\"\n",
    "                       })\n",
    "cs_review2"
   ]
  },
  {
   "cell_type": "code",
   "execution_count": 61,
   "metadata": {},
   "outputs": [],
   "source": [
    "cs_order=pd.concat([cs_review, cs_review2],ignore_index=True)\n"
   ]
  },
  {
   "cell_type": "code",
   "execution_count": 62,
   "metadata": {},
   "outputs": [
    {
     "data": {
      "text/html": [
       "<div>\n",
       "<style scoped>\n",
       "    .dataframe tbody tr th:only-of-type {\n",
       "        vertical-align: middle;\n",
       "    }\n",
       "\n",
       "    .dataframe tbody tr th {\n",
       "        vertical-align: top;\n",
       "    }\n",
       "\n",
       "    .dataframe thead th {\n",
       "        text-align: right;\n",
       "    }\n",
       "</style>\n",
       "<table border=\"1\" class=\"dataframe\">\n",
       "  <thead>\n",
       "    <tr style=\"text-align: right;\">\n",
       "      <th></th>\n",
       "      <th>제목</th>\n",
       "      <th>분류</th>\n",
       "    </tr>\n",
       "  </thead>\n",
       "  <tbody>\n",
       "    <tr>\n",
       "      <td>0</td>\n",
       "      <td>가상계좌가 뭔가요?</td>\n",
       "      <td>주문</td>\n",
       "    </tr>\n",
       "    <tr>\n",
       "      <td>1</td>\n",
       "      <td>주문자와 다르게 입금을 했는데 어떻게 하나요?</td>\n",
       "      <td>주문</td>\n",
       "    </tr>\n",
       "    <tr>\n",
       "      <td>2</td>\n",
       "      <td>카드결제후 취소를 했는데 청구서가 왔어요!</td>\n",
       "      <td>주문</td>\n",
       "    </tr>\n",
       "    <tr>\n",
       "      <td>3</td>\n",
       "      <td>현금영수증은 발급되나요?</td>\n",
       "      <td>주문</td>\n",
       "    </tr>\n",
       "    <tr>\n",
       "      <td>4</td>\n",
       "      <td>무통장계좌번호는 어떻게 되나요?</td>\n",
       "      <td>주문</td>\n",
       "    </tr>\n",
       "    <tr>\n",
       "      <td>5</td>\n",
       "      <td>입금확인은 언제되나요?</td>\n",
       "      <td>주문</td>\n",
       "    </tr>\n",
       "    <tr>\n",
       "      <td>6</td>\n",
       "      <td>입금을했는데 입금확인이 되질 않아요</td>\n",
       "      <td>주문</td>\n",
       "    </tr>\n",
       "    <tr>\n",
       "      <td>7</td>\n",
       "      <td>에스크로제도란 무엇인가요?</td>\n",
       "      <td>주문</td>\n",
       "    </tr>\n",
       "    <tr>\n",
       "      <td>8</td>\n",
       "      <td>배송메세지가 뭔가요 ?</td>\n",
       "      <td>주문</td>\n",
       "    </tr>\n",
       "    <tr>\n",
       "      <td>9</td>\n",
       "      <td>주문을 했는데 입금이 안되요?</td>\n",
       "      <td>주문</td>\n",
       "    </tr>\n",
       "    <tr>\n",
       "      <td>10</td>\n",
       "      <td>입금확인 되었는지  확인해보고 싶어요~</td>\n",
       "      <td>주문</td>\n",
       "    </tr>\n",
       "    <tr>\n",
       "      <td>11</td>\n",
       "      <td>주문을 여러번 나눠하고  입금은 한번에 했어요.</td>\n",
       "      <td>주문</td>\n",
       "    </tr>\n",
       "    <tr>\n",
       "      <td>12</td>\n",
       "      <td>결제시 적립금(마일리지) 사용하였는데 주문 취소할 경우 어떻게 되나요?</td>\n",
       "      <td>주문</td>\n",
       "    </tr>\n",
       "    <tr>\n",
       "      <td>13</td>\n",
       "      <td>카드취소했는데 카드사에서는 취소가 되지 않았어요</td>\n",
       "      <td>주문</td>\n",
       "    </tr>\n",
       "    <tr>\n",
       "      <td>14</td>\n",
       "      <td>적립금으로 구매시 구매금액의 적립금이 적용되나요?</td>\n",
       "      <td>주문</td>\n",
       "    </tr>\n",
       "    <tr>\n",
       "      <td>15</td>\n",
       "      <td>입금은행명과 입금자명을 변경하고 싶은데 이미 주문서 작성후에는  변경이 불가한가요?</td>\n",
       "      <td>주문</td>\n",
       "    </tr>\n",
       "    <tr>\n",
       "      <td>16</td>\n",
       "      <td>금액 상관없이 할부가 가능한가요?</td>\n",
       "      <td>주문</td>\n",
       "    </tr>\n",
       "    <tr>\n",
       "      <td>17</td>\n",
       "      <td>결제시 자꾸 오류가 나서 결제가 되지 않아요</td>\n",
       "      <td>주문</td>\n",
       "    </tr>\n",
       "    <tr>\n",
       "      <td>18</td>\n",
       "      <td>신용카드 취소 반영기간</td>\n",
       "      <td>주문</td>\n",
       "    </tr>\n",
       "    <tr>\n",
       "      <td>19</td>\n",
       "      <td>상품을 하나 더 추가 주문 하는데 취소하고 다시 결제해야하나요</td>\n",
       "      <td>주문</td>\n",
       "    </tr>\n",
       "    <tr>\n",
       "      <td>20</td>\n",
       "      <td>결제방법을 변경하고 싶어요</td>\n",
       "      <td>주문</td>\n",
       "    </tr>\n",
       "    <tr>\n",
       "      <td>21</td>\n",
       "      <td>실시간 계좌이체로 주문했는데 금액이 이체되지 않았어요  왜 그런가요</td>\n",
       "      <td>주문</td>\n",
       "    </tr>\n",
       "    <tr>\n",
       "      <td>22</td>\n",
       "      <td>입금을 했는데 주문서가 사라졌어요</td>\n",
       "      <td>주문</td>\n",
       "    </tr>\n",
       "    <tr>\n",
       "      <td>23</td>\n",
       "      <td>주문 후 배송기간은 얼마나 걸리나요?</td>\n",
       "      <td>주문</td>\n",
       "    </tr>\n",
       "    <tr>\n",
       "      <td>24</td>\n",
       "      <td>비회원도 주문 가능 한가요?</td>\n",
       "      <td>주문</td>\n",
       "    </tr>\n",
       "    <tr>\n",
       "      <td>25</td>\n",
       "      <td>방문해서 구매 가능 한가요?</td>\n",
       "      <td>주문</td>\n",
       "    </tr>\n",
       "    <tr>\n",
       "      <td>26</td>\n",
       "      <td>상품을 주문하려면 어떻게 해야 하나요?</td>\n",
       "      <td>주문</td>\n",
       "    </tr>\n",
       "    <tr>\n",
       "      <td>27</td>\n",
       "      <td>실시간 구매에서 주문가능이란 어떤거죠?</td>\n",
       "      <td>주문</td>\n",
       "    </tr>\n",
       "    <tr>\n",
       "      <td>28</td>\n",
       "      <td>주문후 주문번호가 오지 않았어요 어떻게 해야 하나요?</td>\n",
       "      <td>주문</td>\n",
       "    </tr>\n",
       "    <tr>\n",
       "      <td>29</td>\n",
       "      <td>전화주문은 불가능 한가요?</td>\n",
       "      <td>주문</td>\n",
       "    </tr>\n",
       "    <tr>\n",
       "      <td>30</td>\n",
       "      <td>여러가지 상품을 함께 주문하려고 합니다. 어떻게 구매를 해야 할까요?</td>\n",
       "      <td>주문</td>\n",
       "    </tr>\n",
       "    <tr>\n",
       "      <td>31</td>\n",
       "      <td>구매당시에 품절이 아니었는데 품절됐다는 연락왔어요!</td>\n",
       "      <td>주문</td>\n",
       "    </tr>\n",
       "    <tr>\n",
       "      <td>32</td>\n",
       "      <td>세일상품 품절관련</td>\n",
       "      <td>주문</td>\n",
       "    </tr>\n",
       "    <tr>\n",
       "      <td>33</td>\n",
       "      <td>주문하고 결제까지 했는데 왜 품절이 되죠?</td>\n",
       "      <td>주문</td>\n",
       "    </tr>\n",
       "    <tr>\n",
       "      <td>34</td>\n",
       "      <td>상품을 아직 못받았는데 수령을 눌렀어요.괜찮을까요?</td>\n",
       "      <td>주문</td>\n",
       "    </tr>\n",
       "    <tr>\n",
       "      <td>35</td>\n",
       "      <td>실시간 구매에서 주문가능이란 어떤거죠?</td>\n",
       "      <td>주문</td>\n",
       "    </tr>\n",
       "  </tbody>\n",
       "</table>\n",
       "</div>"
      ],
      "text/plain": [
       "                                                제목  분류\n",
       "0                                       가상계좌가 뭔가요?  주문\n",
       "1                        주문자와 다르게 입금을 했는데 어떻게 하나요?  주문\n",
       "2                          카드결제후 취소를 했는데 청구서가 왔어요!  주문\n",
       "3                                    현금영수증은 발급되나요?  주문\n",
       "4                                무통장계좌번호는 어떻게 되나요?  주문\n",
       "5                                     입금확인은 언제되나요?  주문\n",
       "6                              입금을했는데 입금확인이 되질 않아요  주문\n",
       "7                                   에스크로제도란 무엇인가요?  주문\n",
       "8                                     배송메세지가 뭔가요 ?  주문\n",
       "9                                 주문을 했는데 입금이 안되요?  주문\n",
       "10                           입금확인 되었는지  확인해보고 싶어요~  주문\n",
       "11                      주문을 여러번 나눠하고  입금은 한번에 했어요.  주문\n",
       "12         결제시 적립금(마일리지) 사용하였는데 주문 취소할 경우 어떻게 되나요?  주문\n",
       "13                      카드취소했는데 카드사에서는 취소가 되지 않았어요  주문\n",
       "14                     적립금으로 구매시 구매금액의 적립금이 적용되나요?  주문\n",
       "15  입금은행명과 입금자명을 변경하고 싶은데 이미 주문서 작성후에는  변경이 불가한가요?  주문\n",
       "16                              금액 상관없이 할부가 가능한가요?  주문\n",
       "17                        결제시 자꾸 오류가 나서 결제가 되지 않아요  주문\n",
       "18                                    신용카드 취소 반영기간  주문\n",
       "19              상품을 하나 더 추가 주문 하는데 취소하고 다시 결제해야하나요  주문\n",
       "20                                  결제방법을 변경하고 싶어요  주문\n",
       "21           실시간 계좌이체로 주문했는데 금액이 이체되지 않았어요  왜 그런가요  주문\n",
       "22                              입금을 했는데 주문서가 사라졌어요  주문\n",
       "23                            주문 후 배송기간은 얼마나 걸리나요?  주문\n",
       "24                                 비회원도 주문 가능 한가요?  주문\n",
       "25                                 방문해서 구매 가능 한가요?  주문\n",
       "26                           상품을 주문하려면 어떻게 해야 하나요?  주문\n",
       "27                           실시간 구매에서 주문가능이란 어떤거죠?  주문\n",
       "28                   주문후 주문번호가 오지 않았어요 어떻게 해야 하나요?  주문\n",
       "29                                  전화주문은 불가능 한가요?  주문\n",
       "30          여러가지 상품을 함께 주문하려고 합니다. 어떻게 구매를 해야 할까요?  주문\n",
       "31                    구매당시에 품절이 아니었는데 품절됐다는 연락왔어요!  주문\n",
       "32                                       세일상품 품절관련  주문\n",
       "33                         주문하고 결제까지 했는데 왜 품절이 되죠?  주문\n",
       "34                    상품을 아직 못받았는데 수령을 눌렀어요.괜찮을까요?  주문\n",
       "35                           실시간 구매에서 주문가능이란 어떤거죠?  주문"
      ]
     },
     "execution_count": 62,
     "metadata": {},
     "output_type": "execute_result"
    }
   ],
   "source": [
    "cs_order"
   ]
  },
  {
   "cell_type": "markdown",
   "metadata": {},
   "source": [
    "## 배송"
   ]
  },
  {
   "cell_type": "code",
   "execution_count": 63,
   "metadata": {},
   "outputs": [],
   "source": [
    "delivery = driver.find_element_by_css_selector(\"#cscenter > div.board_faq > ul > li:nth-child(3) > a\")\n",
    "delivery.send_keys(Keys.RETURN)"
   ]
  },
  {
   "cell_type": "code",
   "execution_count": 64,
   "metadata": {},
   "outputs": [],
   "source": [
    "html=driver.page_source"
   ]
  },
  {
   "cell_type": "code",
   "execution_count": 65,
   "metadata": {},
   "outputs": [],
   "source": [
    "html_doc=BeautifulSoup(html,\"html.parser\")"
   ]
  },
  {
   "cell_type": "code",
   "execution_count": 67,
   "metadata": {},
   "outputs": [],
   "source": [
    "delivery_question=html_doc.select(\"#cscenter > div.board_faq > table > tbody > tr > td.tal.subject > a\")\n",
    "delivery_quest=confirm_text(delivery_question)"
   ]
  },
  {
   "cell_type": "code",
   "execution_count": 68,
   "metadata": {
    "scrolled": true
   },
   "outputs": [
    {
     "data": {
      "text/plain": [
       "['주문을 따로따로했는데 묶음배송이 가능한가요?',\n",
       " '주문한 상품이 어디쯤오고 있나 궁금해요!',\n",
       " '퀵 발송도 해 주나요?',\n",
       " '주문을 따로따로했는데 묶음배송이 가능한가요?',\n",
       " '일부 상품이 배송되지 않았습니다.',\n",
       " '주문시 배송비는 얼마인가요?',\n",
       " '주문한 상품의 배송주소와 수취인을 변경하려면 어떻게하나요?',\n",
       " '방문해서 구매 가능 한가요?',\n",
       " '출고예정일 알고 싶어요',\n",
       " '상품을 아직 못받았는데 수령을 눌렀어요.괜찮을까요?',\n",
       " '배송메세지의 기능은 무엇인가요?',\n",
       " '제주도및 도서산간지방의 배송비는 추가 금액이 있나요?',\n",
       " '오늘출발 상품을 시켰는데 안오네요.',\n",
       " '부분배송 안내 문자가 왔어요. 어떤 상품이 오는거죠?',\n",
       " '메일로 출고가 되었다고 EMS송장번호 받았는데 왜 이렇게 늦나요?']"
      ]
     },
     "execution_count": 68,
     "metadata": {},
     "output_type": "execute_result"
    }
   ],
   "source": [
    "delivery_quest"
   ]
  },
  {
   "cell_type": "code",
   "execution_count": 75,
   "metadata": {},
   "outputs": [],
   "source": [
    "delivery2 = driver.find_element_by_css_selector(\"#cscenter > div.paging > ol > li:nth-child(2) > a\")\n",
    "delivery2.send_keys(Keys.RETURN)"
   ]
  },
  {
   "cell_type": "code",
   "execution_count": 76,
   "metadata": {},
   "outputs": [],
   "source": [
    "html=driver.page_source"
   ]
  },
  {
   "cell_type": "code",
   "execution_count": 77,
   "metadata": {},
   "outputs": [],
   "source": [
    "html_doc=BeautifulSoup(html,\"html.parser\")"
   ]
  },
  {
   "cell_type": "code",
   "execution_count": 78,
   "metadata": {},
   "outputs": [],
   "source": [
    "delivery_question2=html_doc.select(\"#cscenter > div.board_faq > table > tbody > tr > td.tal.subject > a\")\n",
    "delivery_quest2=confirm_text(delivery_question)"
   ]
  },
  {
   "cell_type": "code",
   "execution_count": 79,
   "metadata": {
    "scrolled": true
   },
   "outputs": [
    {
     "data": {
      "text/plain": [
       "['배송되었다고 문자를 받았는데 송장 추적이 되지 않습니다. 배송된게 확실한가요?',\n",
       " '배송 지연인데 주문한 여러상품중 한 상품을 먼저 받을 수는 없나요?',\n",
       " '주문한 여러상품중 한 상품을 먼저 받을 수는 없나요?',\n",
       " '오늘출발에 대해서 알고 싶은데요?',\n",
       " '오늘출발 상품인데 왜 당일 출고가 안되나요?',\n",
       " '정확한 배송일이 궁금해요?',\n",
       " '이미주문했어요 다른옷도 주문 또하려는데 배송비는 어찌해야하죠? ',\n",
       " '아직 배송되지 않았다면 변경(색상 사이즈 주소)해주세요 / 주문을 취소해 주세요',\n",
       " '배송이 되었다는 문자를 받았는데 배송조회가 되질 않아요',\n",
       " '배송완료로 확인되는데 택배를 못받았어요',\n",
       " '추가주문으로 발생된 배송비는 이전 주문건과 묶음으로 배송이 가능한가요?',\n",
       " '교환 반품 주소지를 알고 싶어요',\n",
       " '해외배송으로 수령한 상품을 반품/교환하고 싶습니다.어떻게 해야하나요?',\n",
       " '새벽도착은 어떤 배송인가요?',\n",
       " '오늘도착은 어떤 배송인가요?']"
      ]
     },
     "execution_count": 79,
     "metadata": {},
     "output_type": "execute_result"
    }
   ],
   "source": [
    "delivery_quest2"
   ]
  },
  {
   "cell_type": "code",
   "execution_count": 80,
   "metadata": {},
   "outputs": [],
   "source": [
    "delivery_quest=delivery_quest+delivery_quest2"
   ]
  },
  {
   "cell_type": "code",
   "execution_count": 81,
   "metadata": {},
   "outputs": [
    {
     "data": {
      "text/html": [
       "<div>\n",
       "<style scoped>\n",
       "    .dataframe tbody tr th:only-of-type {\n",
       "        vertical-align: middle;\n",
       "    }\n",
       "\n",
       "    .dataframe tbody tr th {\n",
       "        vertical-align: top;\n",
       "    }\n",
       "\n",
       "    .dataframe thead th {\n",
       "        text-align: right;\n",
       "    }\n",
       "</style>\n",
       "<table border=\"1\" class=\"dataframe\">\n",
       "  <thead>\n",
       "    <tr style=\"text-align: right;\">\n",
       "      <th></th>\n",
       "      <th>제목</th>\n",
       "      <th>분류</th>\n",
       "    </tr>\n",
       "  </thead>\n",
       "  <tbody>\n",
       "    <tr>\n",
       "      <td>0</td>\n",
       "      <td>배송되었다고 문자를 받았는데 송장 추적이 되지 않습니다. 배송된게 확실한가요?</td>\n",
       "      <td>배송</td>\n",
       "    </tr>\n",
       "    <tr>\n",
       "      <td>1</td>\n",
       "      <td>배송 지연인데 주문한 여러상품중 한 상품을 먼저 받을 수는 없나요?</td>\n",
       "      <td>배송</td>\n",
       "    </tr>\n",
       "    <tr>\n",
       "      <td>2</td>\n",
       "      <td>주문한 여러상품중 한 상품을 먼저 받을 수는 없나요?</td>\n",
       "      <td>배송</td>\n",
       "    </tr>\n",
       "    <tr>\n",
       "      <td>3</td>\n",
       "      <td>오늘출발에 대해서 알고 싶은데요?</td>\n",
       "      <td>배송</td>\n",
       "    </tr>\n",
       "    <tr>\n",
       "      <td>4</td>\n",
       "      <td>오늘출발 상품인데 왜 당일 출고가 안되나요?</td>\n",
       "      <td>배송</td>\n",
       "    </tr>\n",
       "    <tr>\n",
       "      <td>5</td>\n",
       "      <td>정확한 배송일이 궁금해요?</td>\n",
       "      <td>배송</td>\n",
       "    </tr>\n",
       "    <tr>\n",
       "      <td>6</td>\n",
       "      <td>이미주문했어요 다른옷도 주문 또하려는데 배송비는 어찌해야하죠?</td>\n",
       "      <td>배송</td>\n",
       "    </tr>\n",
       "    <tr>\n",
       "      <td>7</td>\n",
       "      <td>아직 배송되지 않았다면 변경(색상 사이즈 주소)해주세요 / 주문을 취소해 주세요</td>\n",
       "      <td>배송</td>\n",
       "    </tr>\n",
       "    <tr>\n",
       "      <td>8</td>\n",
       "      <td>배송이 되었다는 문자를 받았는데 배송조회가 되질 않아요</td>\n",
       "      <td>배송</td>\n",
       "    </tr>\n",
       "    <tr>\n",
       "      <td>9</td>\n",
       "      <td>배송완료로 확인되는데 택배를 못받았어요</td>\n",
       "      <td>배송</td>\n",
       "    </tr>\n",
       "    <tr>\n",
       "      <td>10</td>\n",
       "      <td>추가주문으로 발생된 배송비는 이전 주문건과 묶음으로 배송이 가능한가요?</td>\n",
       "      <td>배송</td>\n",
       "    </tr>\n",
       "    <tr>\n",
       "      <td>11</td>\n",
       "      <td>교환 반품 주소지를 알고 싶어요</td>\n",
       "      <td>배송</td>\n",
       "    </tr>\n",
       "    <tr>\n",
       "      <td>12</td>\n",
       "      <td>해외배송으로 수령한 상품을 반품/교환하고 싶습니다.어떻게 해야하나요?</td>\n",
       "      <td>배송</td>\n",
       "    </tr>\n",
       "    <tr>\n",
       "      <td>13</td>\n",
       "      <td>새벽도착은 어떤 배송인가요?</td>\n",
       "      <td>배송</td>\n",
       "    </tr>\n",
       "    <tr>\n",
       "      <td>14</td>\n",
       "      <td>오늘도착은 어떤 배송인가요?</td>\n",
       "      <td>배송</td>\n",
       "    </tr>\n",
       "    <tr>\n",
       "      <td>15</td>\n",
       "      <td>배송되었다고 문자를 받았는데 송장 추적이 되지 않습니다. 배송된게 확실한가요?</td>\n",
       "      <td>배송</td>\n",
       "    </tr>\n",
       "    <tr>\n",
       "      <td>16</td>\n",
       "      <td>배송 지연인데 주문한 여러상품중 한 상품을 먼저 받을 수는 없나요?</td>\n",
       "      <td>배송</td>\n",
       "    </tr>\n",
       "    <tr>\n",
       "      <td>17</td>\n",
       "      <td>주문한 여러상품중 한 상품을 먼저 받을 수는 없나요?</td>\n",
       "      <td>배송</td>\n",
       "    </tr>\n",
       "    <tr>\n",
       "      <td>18</td>\n",
       "      <td>오늘출발에 대해서 알고 싶은데요?</td>\n",
       "      <td>배송</td>\n",
       "    </tr>\n",
       "    <tr>\n",
       "      <td>19</td>\n",
       "      <td>오늘출발 상품인데 왜 당일 출고가 안되나요?</td>\n",
       "      <td>배송</td>\n",
       "    </tr>\n",
       "    <tr>\n",
       "      <td>20</td>\n",
       "      <td>정확한 배송일이 궁금해요?</td>\n",
       "      <td>배송</td>\n",
       "    </tr>\n",
       "    <tr>\n",
       "      <td>21</td>\n",
       "      <td>이미주문했어요 다른옷도 주문 또하려는데 배송비는 어찌해야하죠?</td>\n",
       "      <td>배송</td>\n",
       "    </tr>\n",
       "    <tr>\n",
       "      <td>22</td>\n",
       "      <td>아직 배송되지 않았다면 변경(색상 사이즈 주소)해주세요 / 주문을 취소해 주세요</td>\n",
       "      <td>배송</td>\n",
       "    </tr>\n",
       "    <tr>\n",
       "      <td>23</td>\n",
       "      <td>배송이 되었다는 문자를 받았는데 배송조회가 되질 않아요</td>\n",
       "      <td>배송</td>\n",
       "    </tr>\n",
       "    <tr>\n",
       "      <td>24</td>\n",
       "      <td>배송완료로 확인되는데 택배를 못받았어요</td>\n",
       "      <td>배송</td>\n",
       "    </tr>\n",
       "    <tr>\n",
       "      <td>25</td>\n",
       "      <td>추가주문으로 발생된 배송비는 이전 주문건과 묶음으로 배송이 가능한가요?</td>\n",
       "      <td>배송</td>\n",
       "    </tr>\n",
       "    <tr>\n",
       "      <td>26</td>\n",
       "      <td>교환 반품 주소지를 알고 싶어요</td>\n",
       "      <td>배송</td>\n",
       "    </tr>\n",
       "    <tr>\n",
       "      <td>27</td>\n",
       "      <td>해외배송으로 수령한 상품을 반품/교환하고 싶습니다.어떻게 해야하나요?</td>\n",
       "      <td>배송</td>\n",
       "    </tr>\n",
       "    <tr>\n",
       "      <td>28</td>\n",
       "      <td>새벽도착은 어떤 배송인가요?</td>\n",
       "      <td>배송</td>\n",
       "    </tr>\n",
       "    <tr>\n",
       "      <td>29</td>\n",
       "      <td>오늘도착은 어떤 배송인가요?</td>\n",
       "      <td>배송</td>\n",
       "    </tr>\n",
       "  </tbody>\n",
       "</table>\n",
       "</div>"
      ],
      "text/plain": [
       "                                              제목  분류\n",
       "0    배송되었다고 문자를 받았는데 송장 추적이 되지 않습니다. 배송된게 확실한가요?  배송\n",
       "1          배송 지연인데 주문한 여러상품중 한 상품을 먼저 받을 수는 없나요?  배송\n",
       "2                  주문한 여러상품중 한 상품을 먼저 받을 수는 없나요?  배송\n",
       "3                             오늘출발에 대해서 알고 싶은데요?  배송\n",
       "4                       오늘출발 상품인데 왜 당일 출고가 안되나요?  배송\n",
       "5                                 정확한 배송일이 궁금해요?  배송\n",
       "6            이미주문했어요 다른옷도 주문 또하려는데 배송비는 어찌해야하죠?   배송\n",
       "7   아직 배송되지 않았다면 변경(색상 사이즈 주소)해주세요 / 주문을 취소해 주세요  배송\n",
       "8                 배송이 되었다는 문자를 받았는데 배송조회가 되질 않아요  배송\n",
       "9                          배송완료로 확인되는데 택배를 못받았어요  배송\n",
       "10       추가주문으로 발생된 배송비는 이전 주문건과 묶음으로 배송이 가능한가요?  배송\n",
       "11                             교환 반품 주소지를 알고 싶어요  배송\n",
       "12        해외배송으로 수령한 상품을 반품/교환하고 싶습니다.어떻게 해야하나요?  배송\n",
       "13                               새벽도착은 어떤 배송인가요?  배송\n",
       "14                               오늘도착은 어떤 배송인가요?  배송\n",
       "15   배송되었다고 문자를 받았는데 송장 추적이 되지 않습니다. 배송된게 확실한가요?  배송\n",
       "16         배송 지연인데 주문한 여러상품중 한 상품을 먼저 받을 수는 없나요?  배송\n",
       "17                 주문한 여러상품중 한 상품을 먼저 받을 수는 없나요?  배송\n",
       "18                            오늘출발에 대해서 알고 싶은데요?  배송\n",
       "19                      오늘출발 상품인데 왜 당일 출고가 안되나요?  배송\n",
       "20                                정확한 배송일이 궁금해요?  배송\n",
       "21           이미주문했어요 다른옷도 주문 또하려는데 배송비는 어찌해야하죠?   배송\n",
       "22  아직 배송되지 않았다면 변경(색상 사이즈 주소)해주세요 / 주문을 취소해 주세요  배송\n",
       "23                배송이 되었다는 문자를 받았는데 배송조회가 되질 않아요  배송\n",
       "24                         배송완료로 확인되는데 택배를 못받았어요  배송\n",
       "25       추가주문으로 발생된 배송비는 이전 주문건과 묶음으로 배송이 가능한가요?  배송\n",
       "26                             교환 반품 주소지를 알고 싶어요  배송\n",
       "27        해외배송으로 수령한 상품을 반품/교환하고 싶습니다.어떻게 해야하나요?  배송\n",
       "28                               새벽도착은 어떤 배송인가요?  배송\n",
       "29                               오늘도착은 어떤 배송인가요?  배송"
      ]
     },
     "execution_count": 81,
     "metadata": {},
     "output_type": "execute_result"
    }
   ],
   "source": [
    "# 데이터프레임으로 보기\n",
    "cs_deli= pd.DataFrame({'제목' :delivery_quest,\n",
    "                       '분류' : \"배송\"\n",
    "                       })\n",
    "cs_deli"
   ]
  },
  {
   "cell_type": "code",
   "execution_count": 82,
   "metadata": {},
   "outputs": [],
   "source": [
    "cs_1=pd.concat([cs_order, cs_deli],ignore_index=True)"
   ]
  },
  {
   "cell_type": "code",
   "execution_count": 83,
   "metadata": {},
   "outputs": [
    {
     "data": {
      "text/html": [
       "<div>\n",
       "<style scoped>\n",
       "    .dataframe tbody tr th:only-of-type {\n",
       "        vertical-align: middle;\n",
       "    }\n",
       "\n",
       "    .dataframe tbody tr th {\n",
       "        vertical-align: top;\n",
       "    }\n",
       "\n",
       "    .dataframe thead th {\n",
       "        text-align: right;\n",
       "    }\n",
       "</style>\n",
       "<table border=\"1\" class=\"dataframe\">\n",
       "  <thead>\n",
       "    <tr style=\"text-align: right;\">\n",
       "      <th></th>\n",
       "      <th>제목</th>\n",
       "      <th>분류</th>\n",
       "    </tr>\n",
       "  </thead>\n",
       "  <tbody>\n",
       "    <tr>\n",
       "      <td>0</td>\n",
       "      <td>가상계좌가 뭔가요?</td>\n",
       "      <td>주문</td>\n",
       "    </tr>\n",
       "    <tr>\n",
       "      <td>1</td>\n",
       "      <td>주문자와 다르게 입금을 했는데 어떻게 하나요?</td>\n",
       "      <td>주문</td>\n",
       "    </tr>\n",
       "    <tr>\n",
       "      <td>2</td>\n",
       "      <td>카드결제후 취소를 했는데 청구서가 왔어요!</td>\n",
       "      <td>주문</td>\n",
       "    </tr>\n",
       "    <tr>\n",
       "      <td>3</td>\n",
       "      <td>현금영수증은 발급되나요?</td>\n",
       "      <td>주문</td>\n",
       "    </tr>\n",
       "    <tr>\n",
       "      <td>4</td>\n",
       "      <td>무통장계좌번호는 어떻게 되나요?</td>\n",
       "      <td>주문</td>\n",
       "    </tr>\n",
       "    <tr>\n",
       "      <td>...</td>\n",
       "      <td>...</td>\n",
       "      <td>...</td>\n",
       "    </tr>\n",
       "    <tr>\n",
       "      <td>61</td>\n",
       "      <td>추가주문으로 발생된 배송비는 이전 주문건과 묶음으로 배송이 가능한가요?</td>\n",
       "      <td>배송</td>\n",
       "    </tr>\n",
       "    <tr>\n",
       "      <td>62</td>\n",
       "      <td>교환 반품 주소지를 알고 싶어요</td>\n",
       "      <td>배송</td>\n",
       "    </tr>\n",
       "    <tr>\n",
       "      <td>63</td>\n",
       "      <td>해외배송으로 수령한 상품을 반품/교환하고 싶습니다.어떻게 해야하나요?</td>\n",
       "      <td>배송</td>\n",
       "    </tr>\n",
       "    <tr>\n",
       "      <td>64</td>\n",
       "      <td>새벽도착은 어떤 배송인가요?</td>\n",
       "      <td>배송</td>\n",
       "    </tr>\n",
       "    <tr>\n",
       "      <td>65</td>\n",
       "      <td>오늘도착은 어떤 배송인가요?</td>\n",
       "      <td>배송</td>\n",
       "    </tr>\n",
       "  </tbody>\n",
       "</table>\n",
       "<p>66 rows × 2 columns</p>\n",
       "</div>"
      ],
      "text/plain": [
       "                                         제목  분류\n",
       "0                                가상계좌가 뭔가요?  주문\n",
       "1                 주문자와 다르게 입금을 했는데 어떻게 하나요?  주문\n",
       "2                   카드결제후 취소를 했는데 청구서가 왔어요!  주문\n",
       "3                             현금영수증은 발급되나요?  주문\n",
       "4                         무통장계좌번호는 어떻게 되나요?  주문\n",
       "..                                      ...  ..\n",
       "61  추가주문으로 발생된 배송비는 이전 주문건과 묶음으로 배송이 가능한가요?  배송\n",
       "62                        교환 반품 주소지를 알고 싶어요  배송\n",
       "63   해외배송으로 수령한 상품을 반품/교환하고 싶습니다.어떻게 해야하나요?  배송\n",
       "64                          새벽도착은 어떤 배송인가요?  배송\n",
       "65                          오늘도착은 어떤 배송인가요?  배송\n",
       "\n",
       "[66 rows x 2 columns]"
      ]
     },
     "execution_count": 83,
     "metadata": {},
     "output_type": "execute_result"
    }
   ],
   "source": [
    "cs_1"
   ]
  },
  {
   "cell_type": "markdown",
   "metadata": {},
   "source": [
    "## 상품관련"
   ]
  },
  {
   "cell_type": "markdown",
   "metadata": {},
   "source": [
    "##### 상품관련"
   ]
  },
  {
   "cell_type": "code",
   "execution_count": 84,
   "metadata": {},
   "outputs": [],
   "source": [
    "product = driver.find_element_by_css_selector(\"#cscenter > div.board_faq > ul > li:nth-child(4) > a\")\n",
    "product.send_keys(Keys.RETURN)"
   ]
  },
  {
   "cell_type": "code",
   "execution_count": 85,
   "metadata": {},
   "outputs": [],
   "source": [
    "html=driver.page_source"
   ]
  },
  {
   "cell_type": "code",
   "execution_count": 86,
   "metadata": {},
   "outputs": [],
   "source": [
    "html_doc=BeautifulSoup(html,\"html.parser\")"
   ]
  },
  {
   "cell_type": "code",
   "execution_count": 87,
   "metadata": {},
   "outputs": [],
   "source": [
    "product_question=html_doc.select(\"#cscenter > div.board_faq > table > tbody > tr > td.tal.subject > a\")\n",
    "product_quest=confirm_text(product_question)"
   ]
  },
  {
   "cell_type": "code",
   "execution_count": 88,
   "metadata": {
    "scrolled": false
   },
   "outputs": [
    {
     "data": {
      "text/plain": [
       "['반품이 안되는 경우도 있나요?',\n",
       " '반품/교환 신청을했는데 처리소요 시간이 얼마나되나요?',\n",
       " '현금 환불요청을 했는데 환불은 언제 되나요?',\n",
       " '신용카드 부분취소는 가능한가요?',\n",
       " '반품/교환 신청을했는데 처리소요 시간이 얼마나되나요?',\n",
       " '오늘 택배사에 직접 반품 신청 했습니다 언제 회수 방문 할까요?',\n",
       " '반품시 유의 사항',\n",
       " '제품을 반송한 송장번호를 분실했어요.',\n",
       " '무료배송쿠폰으로 반품하고 싶습니다. ',\n",
       " '옷이 불량입니다 교환 하고 싶은데요',\n",
       " '교환접수가 정상 처리되었다는 문자를 받았는데 교환상품이 왜 배송안되고 있는거죠?',\n",
       " '쥬얼리는 교환/반품이 어렵나요?']"
      ]
     },
     "execution_count": 88,
     "metadata": {},
     "output_type": "execute_result"
    }
   ],
   "source": [
    "product_quest"
   ]
  },
  {
   "cell_type": "code",
   "execution_count": 90,
   "metadata": {},
   "outputs": [
    {
     "data": {
      "text/html": [
       "<div>\n",
       "<style scoped>\n",
       "    .dataframe tbody tr th:only-of-type {\n",
       "        vertical-align: middle;\n",
       "    }\n",
       "\n",
       "    .dataframe tbody tr th {\n",
       "        vertical-align: top;\n",
       "    }\n",
       "\n",
       "    .dataframe thead th {\n",
       "        text-align: right;\n",
       "    }\n",
       "</style>\n",
       "<table border=\"1\" class=\"dataframe\">\n",
       "  <thead>\n",
       "    <tr style=\"text-align: right;\">\n",
       "      <th></th>\n",
       "      <th>제목</th>\n",
       "      <th>분류</th>\n",
       "    </tr>\n",
       "  </thead>\n",
       "  <tbody>\n",
       "    <tr>\n",
       "      <td>0</td>\n",
       "      <td>반품이 안되는 경우도 있나요?</td>\n",
       "      <td>상품관련</td>\n",
       "    </tr>\n",
       "    <tr>\n",
       "      <td>1</td>\n",
       "      <td>반품/교환 신청을했는데 처리소요 시간이 얼마나되나요?</td>\n",
       "      <td>상품관련</td>\n",
       "    </tr>\n",
       "    <tr>\n",
       "      <td>2</td>\n",
       "      <td>현금 환불요청을 했는데 환불은 언제 되나요?</td>\n",
       "      <td>상품관련</td>\n",
       "    </tr>\n",
       "    <tr>\n",
       "      <td>3</td>\n",
       "      <td>신용카드 부분취소는 가능한가요?</td>\n",
       "      <td>상품관련</td>\n",
       "    </tr>\n",
       "    <tr>\n",
       "      <td>4</td>\n",
       "      <td>반품/교환 신청을했는데 처리소요 시간이 얼마나되나요?</td>\n",
       "      <td>상품관련</td>\n",
       "    </tr>\n",
       "    <tr>\n",
       "      <td>5</td>\n",
       "      <td>오늘 택배사에 직접 반품 신청 했습니다 언제 회수 방문 할까요?</td>\n",
       "      <td>상품관련</td>\n",
       "    </tr>\n",
       "    <tr>\n",
       "      <td>6</td>\n",
       "      <td>반품시 유의 사항</td>\n",
       "      <td>상품관련</td>\n",
       "    </tr>\n",
       "    <tr>\n",
       "      <td>7</td>\n",
       "      <td>제품을 반송한 송장번호를 분실했어요.</td>\n",
       "      <td>상품관련</td>\n",
       "    </tr>\n",
       "    <tr>\n",
       "      <td>8</td>\n",
       "      <td>무료배송쿠폰으로 반품하고 싶습니다.</td>\n",
       "      <td>상품관련</td>\n",
       "    </tr>\n",
       "    <tr>\n",
       "      <td>9</td>\n",
       "      <td>옷이 불량입니다 교환 하고 싶은데요</td>\n",
       "      <td>상품관련</td>\n",
       "    </tr>\n",
       "    <tr>\n",
       "      <td>10</td>\n",
       "      <td>교환접수가 정상 처리되었다는 문자를 받았는데 교환상품이 왜 배송안되고 있는거죠?</td>\n",
       "      <td>상품관련</td>\n",
       "    </tr>\n",
       "    <tr>\n",
       "      <td>11</td>\n",
       "      <td>쥬얼리는 교환/반품이 어렵나요?</td>\n",
       "      <td>상품관련</td>\n",
       "    </tr>\n",
       "  </tbody>\n",
       "</table>\n",
       "</div>"
      ],
      "text/plain": [
       "                                              제목    분류\n",
       "0                               반품이 안되는 경우도 있나요?  상품관련\n",
       "1                  반품/교환 신청을했는데 처리소요 시간이 얼마나되나요?  상품관련\n",
       "2                       현금 환불요청을 했는데 환불은 언제 되나요?  상품관련\n",
       "3                              신용카드 부분취소는 가능한가요?  상품관련\n",
       "4                  반품/교환 신청을했는데 처리소요 시간이 얼마나되나요?  상품관련\n",
       "5            오늘 택배사에 직접 반품 신청 했습니다 언제 회수 방문 할까요?  상품관련\n",
       "6                                      반품시 유의 사항  상품관련\n",
       "7                           제품을 반송한 송장번호를 분실했어요.  상품관련\n",
       "8                           무료배송쿠폰으로 반품하고 싶습니다.   상품관련\n",
       "9                            옷이 불량입니다 교환 하고 싶은데요  상품관련\n",
       "10  교환접수가 정상 처리되었다는 문자를 받았는데 교환상품이 왜 배송안되고 있는거죠?  상품관련\n",
       "11                             쥬얼리는 교환/반품이 어렵나요?  상품관련"
      ]
     },
     "execution_count": 90,
     "metadata": {},
     "output_type": "execute_result"
    }
   ],
   "source": [
    "# 데이터프레임으로 보기\n",
    "cs_pro= pd.DataFrame({'제목' :product_quest,\n",
    "                       '분류' : \"상품관련\"\n",
    "                       })\n",
    "cs_pro"
   ]
  },
  {
   "cell_type": "code",
   "execution_count": 92,
   "metadata": {},
   "outputs": [],
   "source": [
    "cs=pd.concat([cs_pro,cs_1],ignore_index=True)"
   ]
  },
  {
   "cell_type": "code",
   "execution_count": 93,
   "metadata": {},
   "outputs": [
    {
     "data": {
      "text/html": [
       "<div>\n",
       "<style scoped>\n",
       "    .dataframe tbody tr th:only-of-type {\n",
       "        vertical-align: middle;\n",
       "    }\n",
       "\n",
       "    .dataframe tbody tr th {\n",
       "        vertical-align: top;\n",
       "    }\n",
       "\n",
       "    .dataframe thead th {\n",
       "        text-align: right;\n",
       "    }\n",
       "</style>\n",
       "<table border=\"1\" class=\"dataframe\">\n",
       "  <thead>\n",
       "    <tr style=\"text-align: right;\">\n",
       "      <th></th>\n",
       "      <th>제목</th>\n",
       "      <th>분류</th>\n",
       "    </tr>\n",
       "  </thead>\n",
       "  <tbody>\n",
       "    <tr>\n",
       "      <td>0</td>\n",
       "      <td>반품이 안되는 경우도 있나요?</td>\n",
       "      <td>상품관련</td>\n",
       "    </tr>\n",
       "    <tr>\n",
       "      <td>1</td>\n",
       "      <td>반품/교환 신청을했는데 처리소요 시간이 얼마나되나요?</td>\n",
       "      <td>상품관련</td>\n",
       "    </tr>\n",
       "    <tr>\n",
       "      <td>2</td>\n",
       "      <td>현금 환불요청을 했는데 환불은 언제 되나요?</td>\n",
       "      <td>상품관련</td>\n",
       "    </tr>\n",
       "    <tr>\n",
       "      <td>3</td>\n",
       "      <td>신용카드 부분취소는 가능한가요?</td>\n",
       "      <td>상품관련</td>\n",
       "    </tr>\n",
       "    <tr>\n",
       "      <td>4</td>\n",
       "      <td>반품/교환 신청을했는데 처리소요 시간이 얼마나되나요?</td>\n",
       "      <td>상품관련</td>\n",
       "    </tr>\n",
       "    <tr>\n",
       "      <td>...</td>\n",
       "      <td>...</td>\n",
       "      <td>...</td>\n",
       "    </tr>\n",
       "    <tr>\n",
       "      <td>73</td>\n",
       "      <td>추가주문으로 발생된 배송비는 이전 주문건과 묶음으로 배송이 가능한가요?</td>\n",
       "      <td>배송</td>\n",
       "    </tr>\n",
       "    <tr>\n",
       "      <td>74</td>\n",
       "      <td>교환 반품 주소지를 알고 싶어요</td>\n",
       "      <td>배송</td>\n",
       "    </tr>\n",
       "    <tr>\n",
       "      <td>75</td>\n",
       "      <td>해외배송으로 수령한 상품을 반품/교환하고 싶습니다.어떻게 해야하나요?</td>\n",
       "      <td>배송</td>\n",
       "    </tr>\n",
       "    <tr>\n",
       "      <td>76</td>\n",
       "      <td>새벽도착은 어떤 배송인가요?</td>\n",
       "      <td>배송</td>\n",
       "    </tr>\n",
       "    <tr>\n",
       "      <td>77</td>\n",
       "      <td>오늘도착은 어떤 배송인가요?</td>\n",
       "      <td>배송</td>\n",
       "    </tr>\n",
       "  </tbody>\n",
       "</table>\n",
       "<p>78 rows × 2 columns</p>\n",
       "</div>"
      ],
      "text/plain": [
       "                                         제목    분류\n",
       "0                          반품이 안되는 경우도 있나요?  상품관련\n",
       "1             반품/교환 신청을했는데 처리소요 시간이 얼마나되나요?  상품관련\n",
       "2                  현금 환불요청을 했는데 환불은 언제 되나요?  상품관련\n",
       "3                         신용카드 부분취소는 가능한가요?  상품관련\n",
       "4             반품/교환 신청을했는데 처리소요 시간이 얼마나되나요?  상품관련\n",
       "..                                      ...   ...\n",
       "73  추가주문으로 발생된 배송비는 이전 주문건과 묶음으로 배송이 가능한가요?    배송\n",
       "74                        교환 반품 주소지를 알고 싶어요    배송\n",
       "75   해외배송으로 수령한 상품을 반품/교환하고 싶습니다.어떻게 해야하나요?    배송\n",
       "76                          새벽도착은 어떤 배송인가요?    배송\n",
       "77                          오늘도착은 어떤 배송인가요?    배송\n",
       "\n",
       "[78 rows x 2 columns]"
      ]
     },
     "execution_count": 93,
     "metadata": {},
     "output_type": "execute_result"
    }
   ],
   "source": [
    "cs"
   ]
  },
  {
   "cell_type": "code",
   "execution_count": 94,
   "metadata": {},
   "outputs": [],
   "source": [
    "cs.to_csv('cs1.csv')"
   ]
  },
  {
   "cell_type": "code",
   "execution_count": null,
   "metadata": {},
   "outputs": [],
   "source": []
  }
 ],
 "metadata": {
  "kernelspec": {
   "display_name": "Python 3",
   "language": "python",
   "name": "python3"
  },
  "language_info": {
   "codemirror_mode": {
    "name": "ipython",
    "version": 3
   },
   "file_extension": ".py",
   "mimetype": "text/x-python",
   "name": "python",
   "nbconvert_exporter": "python",
   "pygments_lexer": "ipython3",
   "version": "3.7.4"
  }
 },
 "nbformat": 4,
 "nbformat_minor": 2
}

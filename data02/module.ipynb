{
 "cells": [
  {
   "cell_type": "code",
   "execution_count": 1,
   "metadata": {},
   "outputs": [],
   "source": [
    "#함수로 바꾸기 \n",
    "#url 을 받아 .... 반응 받아오기\n",
    "\n",
    "def call (url):\n",
    "    from urllib import request\n",
    "    from bs4 import BeautifulSoup\n",
    "    con =request.urlopen(url)\n",
    "    con \n",
    "    print(con.status )#status code)\n",
    "    doc = BeautifulSoup(con,'html.parser')\n",
    "    return doc\n",
    "\n",
    "def confirm_text (rlist):\n",
    "    returnlist=[]\n",
    "    for i in range(0, len(rlist), 1):\n",
    "        a= rlist[i].text\n",
    "        aa =a.replace(',',' ')\n",
    "        returnlist.append(aa)\n",
    "    return returnlist\n",
    "\n",
    "def img_source(rlist):\n",
    "    returnlist=[]\n",
    "    for i in range(0, len(rlist), 1):\n",
    "        a= rlist[i].get('src')\n",
    "        returnlist.append(a)\n",
    "    return returnlist"
   ]
  },
  {
   "cell_type": "code",
   "execution_count": 2,
   "metadata": {
    "scrolled": false
   },
   "outputs": [
    {
     "name": "stdout",
     "output_type": "stream",
     "text": [
      "200\n"
     ]
    }
   ],
   "source": [
    "doc=call('https://novel.naver.com/webnovel/ranking')"
   ]
  },
  {
   "cell_type": "code",
   "execution_count": 3,
   "metadata": {
    "scrolled": true
   },
   "outputs": [],
   "source": [
    "free_title=doc.select( 'div.ranking_lst > div.ranking_wrap_left span.tit' )\n",
    "title=confirm_text(free_title)"
   ]
  },
  {
   "cell_type": "code",
   "execution_count": 6,
   "metadata": {
    "scrolled": true
   },
   "outputs": [
    {
     "data": {
      "text/plain": [
       "['https://novel-phinf.pstatic.net/20211028_49/novel_1635427169904XbmKR_JPEG/320%2B320.jpg?type=f150_118_2',\n",
       " 'https://novel-phinf.pstatic.net/20201127_285/novel_16064716791154uM1X_JPEG/320%2B320.jpg?type=f150_118_2',\n",
       " 'https://novel-phinf.pstatic.net/20220307_234/novel_16466178896305BTCn_JPEG/320.jpg?type=f150_118_2',\n",
       " 'https://novel-phinf.pstatic.net/20210630_125/novel_16250477780314Wj00_JPEG/320%2B320.jpg?type=f150_118_2',\n",
       " 'https://novel-phinf.pstatic.net/20201229_271/novel_1609236722552stztK_JPEG/320%2B320.jpg?type=f150_118_2',\n",
       " 'https://novel-phinf.pstatic.net/20211028_134/novel_1635426021816ikmaI_JPEG/320%2B320.jpg?type=f150_118_2',\n",
       " 'https://novel-phinf.pstatic.net/20220225_258/novel_1645788742409FwOvF_JPEG/320%2B320.jpg?type=f150_118_2',\n",
       " 'https://novel-phinf.pstatic.net/20211129_256/novel_1638176179068oNhuS_JPEG/320%2B320.jpg?type=f150_118_2',\n",
       " 'https://novel-phinf.pstatic.net/20210729_17/novel_1627551026317ol1dt_JPEG/320%2B320.jpg?type=f150_118_2',\n",
       " 'https://novel-phinf.pstatic.net/20210930_203/novel_16329838131465v6pG_JPEG/320%2B320.jpg?type=f150_118_2',\n",
       " 'https://novel-phinf.pstatic.net/20210825_105/novel_1629889824051mAj4T_JPEG/320%2B320.jpg?type=f150_118_2',\n",
       " 'https://novel-phinf.pstatic.net/20211129_245/novel_1638176512949Wplfp_JPEG/320%2B320.jpg?type=f150_118_2',\n",
       " 'https://novel-phinf.pstatic.net/20210525_16/novel_1621905150456XncGJ_JPEG/thumbnail_%2B320_320.jpg?type=f150_118_2',\n",
       " 'https://novel-phinf.pstatic.net/20200630_262/novel_1593512790995o1o8j_JPEG/3202B320.jpg?type=f150_118_2',\n",
       " 'https://novel-phinf.pstatic.net/20190821_146/novel_1566358829828Ba8cY_JPEG/_320320.jpg?type=f150_118_2',\n",
       " 'https://novel-phinf.pstatic.net/20210930_254/novel_1632983424336r8pB9_JPEG/320%2B320.jpg?type=f150_118_2',\n",
       " 'https://novel-phinf.pstatic.net/20210825_162/novel_1629888728174Vc3BW_JPEG/320%2B320.jpg?type=f150_118_2',\n",
       " 'https://novel-phinf.pstatic.net/20210428_145/novel_1619587689837bnW3S_JPEG/320%2B320.jpg?type=f150_118_2',\n",
       " 'https://novel-phinf.pstatic.net/20210729_203/novel_16275511792561GnK6_JPEG/320%2B320.jpg?type=f150_118_2',\n",
       " 'https://novel-phinf.pstatic.net/20170331_65/novel_1490954963910bpX8Q_JPEG/320%2B320.jpg?type=f150_118_2',\n",
       " 'https://novel-phinf.pstatic.net/20190426_125/novel_1556270756333lIvKq_JPEG/320%2B320.jpg?type=f150_118_2',\n",
       " 'https://novel-phinf.pstatic.net/20191129_253/novel_15750237260835d2qD_JPEG/320%2B320.jpg?type=f150_118_2',\n",
       " 'https://novel-phinf.pstatic.net/20200925_45/novel_1601019331528guqt5_JPEG/320%2B320.jpg?type=f150_118_2',\n",
       " 'https://novel-phinf.pstatic.net/20190527_197/novel_1558955275870efXbb_JPEG/320%2B320.jpg?type=f150_118_2',\n",
       " 'https://novel-phinf.pstatic.net/20200831_40/novel_1598873530759YIbJC_JPEG/320%2B320.jpg?type=f150_118_2',\n",
       " 'https://novel-phinf.pstatic.net/20200731_282/novel_15961617781615mdSn_JPEG/3202B320.jpg?type=f150_118_2',\n",
       " 'https://novel-phinf.pstatic.net/20150713_105/novel_1436785033009Ber1h_JPEG/113895.jpg?type=f150_118_2',\n",
       " 'https://novel-phinf.pstatic.net/20190927_22/novel_1569571574415kLfBW_JPEG/320%2B320.jpg?type=f150_118_2',\n",
       " 'https://novel-phinf.pstatic.net/20200528_183/novel_1590663173521zsKEw_JPEG/3202B320.jpg?type=f150_118_2',\n",
       " 'https://novel-phinf.pstatic.net/20190830_230/novel_1567147260890HfEeS_JPEG/320%2B320.jpg?type=f150_118_2',\n",
       " 'https://novel-phinf.pstatic.net/20170728_246/novel_15012259018372sVum_JPEG/320%2B320.jpg?type=f150_118_2',\n",
       " 'https://novel-phinf.pstatic.net/20150720_235/novel_1437384965335BiLFL_JPEG/EBA788EC8BA0ECA084EC84A4.jpg?type=f150_118_2',\n",
       " 'https://novel-phinf.pstatic.net/20151127_108/novel_14486081727710Jicw_JPEG/320%2B320.jpg?type=f150_118_2',\n",
       " 'https://novel-phinf.pstatic.net/20150720_160/novel_1437382035023jCcIP_JPEG/EAB093EC98A4ED9598EC99B8ECA084.jpg?type=f150_118_2',\n",
       " 'https://novel-phinf.pstatic.net/20150713_281/novel_1436787829873w3Goj_JPEG/252942.jpg?type=f150_118_2',\n",
       " 'https://novel-phinf.pstatic.net/20150713_177/novel_1436783391582qGCKH_JPEG/50530.jpg?type=f150_118_2',\n",
       " 'https://novel-phinf.pstatic.net/20150720_167/novel_1437385820197YUaTk_JPEG/ED919CEBA598ECA084EC9F81.jpg?type=f150_118_2',\n",
       " 'https://novel-phinf.pstatic.net/20150713_297/novel_1436782977614bjCMP_JPEG/13.jpg?type=f150_118_2',\n",
       " 'https://novel-phinf.pstatic.net/20150713_137/novel_1436783986988t8Wek_JPEG/73175.jpg?type=f150_118_2',\n",
       " 'https://novel-phinf.pstatic.net/20150713_232/novel_1436788202737s2QHO_JPEG/291783.jpg?type=f150_118_2']"
      ]
     },
     "execution_count": 6,
     "metadata": {},
     "output_type": "execute_result"
    }
   ],
   "source": [
    "free_img=doc.select( '#content > div > div.ranking_lst > div.ranking_wrap_left > ul > li> a > div.pic > img ' )\n",
    "img=img_source(free_img)\n",
    "img"
   ]
  },
  {
   "cell_type": "code",
   "execution_count": 5,
   "metadata": {},
   "outputs": [
    {
     "ename": "NameError",
     "evalue": "name 'free_star_list' is not defined",
     "output_type": "error",
     "traceback": [
      "\u001b[1;31m---------------------------------------------------------------------------\u001b[0m",
      "\u001b[1;31mNameError\u001b[0m                                 Traceback (most recent call last)",
      "\u001b[1;32m<ipython-input-5-a9cce672f221>\u001b[0m in \u001b[0;36m<module>\u001b[1;34m\u001b[0m\n\u001b[0;32m      3\u001b[0m \u001b[1;32mfor\u001b[0m \u001b[0mi\u001b[0m \u001b[1;32min\u001b[0m \u001b[0mrange\u001b[0m\u001b[1;33m(\u001b[0m\u001b[1;36m0\u001b[0m\u001b[1;33m,\u001b[0m \u001b[0mlen\u001b[0m\u001b[1;33m(\u001b[0m\u001b[0mstar\u001b[0m\u001b[1;33m)\u001b[0m\u001b[1;33m,\u001b[0m \u001b[1;36m1\u001b[0m\u001b[1;33m)\u001b[0m\u001b[1;33m:\u001b[0m\u001b[1;33m\u001b[0m\u001b[1;33m\u001b[0m\u001b[0m\n\u001b[0;32m      4\u001b[0m     \u001b[0ma\u001b[0m \u001b[1;33m=\u001b[0m \u001b[0mfree_star\u001b[0m\u001b[1;33m[\u001b[0m\u001b[0mi\u001b[0m\u001b[1;33m]\u001b[0m\u001b[1;33m.\u001b[0m\u001b[0mtext\u001b[0m\u001b[1;33m.\u001b[0m\u001b[0mreplace\u001b[0m\u001b[1;33m(\u001b[0m\u001b[1;34m'별점'\u001b[0m\u001b[1;33m,\u001b[0m\u001b[1;34m''\u001b[0m\u001b[1;33m)\u001b[0m\u001b[1;33m\u001b[0m\u001b[1;33m\u001b[0m\u001b[0m\n\u001b[1;32m----> 5\u001b[1;33m     \u001b[0mfree_star_list\u001b[0m\u001b[1;33m.\u001b[0m\u001b[0mappend\u001b[0m\u001b[1;33m(\u001b[0m\u001b[0ma\u001b[0m\u001b[1;33m)\u001b[0m\u001b[1;33m\u001b[0m\u001b[1;33m\u001b[0m\u001b[0m\n\u001b[0m\u001b[0;32m      6\u001b[0m \u001b[0mstar\u001b[0m\u001b[1;33m=\u001b[0m\u001b[0mfree_star_list\u001b[0m\u001b[1;33m\u001b[0m\u001b[1;33m\u001b[0m\u001b[0m\n",
      "\u001b[1;31mNameError\u001b[0m: name 'free_star_list' is not defined"
     ]
    }
   ],
   "source": [
    "free_star=doc.select('div.ranking_wrap_left span.score_area' )\n",
    "star=confirm_text(free_star)\n",
    "for i in range(0, len(star), 1):\n",
    "    a = free_star[i].text.replace('별점','')\n",
    "    free_star_list.append(a)\n",
    "star=free_star_list"
   ]
  },
  {
   "cell_type": "code",
   "execution_count": 98,
   "metadata": {
    "scrolled": true
   },
   "outputs": [
    {
     "data": {
      "text/plain": [
       "['놀마',\n",
       " '꽃제이(진소예)',\n",
       " '감사혜',\n",
       " '달콤한홍차',\n",
       " '핑크티',\n",
       " '루시아',\n",
       " '이도혜',\n",
       " '칠칠마마',\n",
       " '은율아',\n",
       " '서한밤',\n",
       " '이은비',\n",
       " '미이라이',\n",
       " '이달아',\n",
       " '플아다',\n",
       " '태소영',\n",
       " 'Lunar 이지연',\n",
       " '빵양이',\n",
       " '용감한 자매',\n",
       " '탐이나',\n",
       " '미래힐',\n",
       " '로즈빈',\n",
       " '주황연',\n",
       " '트위티블리',\n",
       " '진이현',\n",
       " '셀리코',\n",
       " '박수정(방울마마)',\n",
       " '갓녀',\n",
       " '이재익',\n",
       " '플라비',\n",
       " '반지영',\n",
       " '최윤정(두잇)',\n",
       " '달콤J',\n",
       " '쥬시린시',\n",
       " '노승아',\n",
       " '플아다',\n",
       " '태소영',\n",
       " '플아다',\n",
       " '성하',\n",
       " '닥터냐냐',\n",
       " '별규',\n",
       " '배사비',\n",
       " '이다홍',\n",
       " '미니멜리사',\n",
       " '이수안',\n",
       " '래마',\n",
       " '설우희',\n",
       " '진저리',\n",
       " '블랑드',\n",
       " '이달리.',\n",
       " '성소작',\n",
       " '체리고',\n",
       " '김결',\n",
       " '플아다',\n",
       " '갓녀',\n",
       " '윤손',\n",
       " '박수정(방울마마)',\n",
       " '별규',\n",
       " '이새인',\n",
       " '이다홍',\n",
       " '놀마',\n",
       " '노승아',\n",
       " '이범배',\n",
       " '아라휘',\n",
       " '주황연',\n",
       " '이은비',\n",
       " '안테',\n",
       " '이은비',\n",
       " '이 정',\n",
       " '탐이나',\n",
       " 'Lunar 이지연',\n",
       " '윤이수',\n",
       " '용감한 자매',\n",
       " '글쓰는 귀신',\n",
       " '빵양이',\n",
       " '핑크티',\n",
       " '노승아',\n",
       " '달콤J',\n",
       " '파란드',\n",
       " '노승아',\n",
       " '이범배',\n",
       " '주황연',\n",
       " '안테',\n",
       " '왕기대',\n",
       " '이새인',\n",
       " '벚꽃그리고',\n",
       " '플아다',\n",
       " '이은비',\n",
       " '이른봄',\n",
       " '탐이나',\n",
       " '이경하',\n",
       " '우지혜',\n",
       " '별규',\n",
       " '시니컬 앨리스',\n",
       " '이달아',\n",
       " '비연',\n",
       " '은빈',\n",
       " '달콤J',\n",
       " '박수정(방울마마)',\n",
       " 'Lunar 이지연',\n",
       " '로즈빈']"
      ]
     },
     "execution_count": 98,
     "metadata": {},
     "output_type": "execute_result"
    }
   ],
   "source": [
    "free_author=doc.select('div.ranking_wrap_left   span.author')\n",
    "author=confirm_text (free_author)"
   ]
  },
  {
   "cell_type": "code",
   "execution_count": 105,
   "metadata": {},
   "outputs": [],
   "source": [
    "novel_file1 =open('asdf.csv','w')\n",
    "novel_file1 .write(\"img,title,author,star\"+\"\\n\")\n",
    "\n",
    "for i in range(0,len(img),1):\n",
    "    data=img[i]+\",\"+title[i]+\",\"+author[i]+\",\"+star[i]+\"\\n\"\n",
    "    novel_file1.write(data)\n",
    "    \n",
    "novel_file1.close()  "
   ]
  },
  {
   "cell_type": "code",
   "execution_count": 104,
   "metadata": {},
   "outputs": [],
   "source": [
    "import pandas as pd\n",
    "novel = pd.read_csv('naver_webnovel_free_prac1.csv', encoding='euc-kr')"
   ]
  }
 ],
 "metadata": {
  "kernelspec": {
   "display_name": "Python 3",
   "language": "python",
   "name": "python3"
  },
  "language_info": {
   "codemirror_mode": {
    "name": "ipython",
    "version": 3
   },
   "file_extension": ".py",
   "mimetype": "text/x-python",
   "name": "python",
   "nbconvert_exporter": "python",
   "pygments_lexer": "ipython3",
   "version": "3.7.4"
  }
 },
 "nbformat": 4,
 "nbformat_minor": 2
}

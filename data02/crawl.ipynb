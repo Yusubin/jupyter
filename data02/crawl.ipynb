{
 "cells": [
  {
   "cell_type": "code",
   "execution_count": 1,
   "metadata": {},
   "outputs": [],
   "source": [
    "#함수로 바꾸기 \n",
    "#url 을 받아 .... 반응 받아오기\n",
    "class crawl_webnovel: \n",
    "    def call (url):\n",
    "        from urllib import request\n",
    "        from bs4 import BeautifulSoup\n",
    "        con =request.urlopen(url)\n",
    "        con \n",
    "        print(con.status )#status code)\n",
    "        doc = BeautifulSoup(con,'html.parser')\n",
    "        return doc\n",
    "\n",
    "    def confirm_text (rlist):\n",
    "        returnlist=[]\n",
    "        for i in range(0, len(rlist), 1):\n",
    "            a= rlist[i].text\n",
    "            aa =a.replace(',',' ')\n",
    "            returnlist.append(aa)\n",
    "        return returnlist\n",
    "\n",
    "    def img_source(rlist):\n",
    "        returnlist=[]\n",
    "        for i in range(0, len(rlist), 1):\n",
    "            a= rlist[i].get('src')\n",
    "            returnlist.append(a)\n",
    "        return returnlist"
   ]
  }
 ],
 "metadata": {
  "kernelspec": {
   "display_name": "Python 3",
   "language": "python",
   "name": "python3"
  },
  "language_info": {
   "codemirror_mode": {
    "name": "ipython",
    "version": 3
   },
   "file_extension": ".py",
   "mimetype": "text/x-python",
   "name": "python",
   "nbconvert_exporter": "python",
   "pygments_lexer": "ipython3",
   "version": "3.7.4"
  }
 },
 "nbformat": 4,
 "nbformat_minor": 2
}

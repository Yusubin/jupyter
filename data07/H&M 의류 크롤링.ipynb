{
 "cells": [
  {
   "cell_type": "code",
   "execution_count": 1,
   "metadata": {},
   "outputs": [],
   "source": [
    "import warnings\n",
    "warnings.filterwarnings(action='ignore')\n",
    "from selenium.webdriver.common.by import By\n",
    "from selenium.webdriver.support.ui import WebDriverWait \n",
    "from selenium.webdriver.support import expected_conditions as EC"
   ]
  },
  {
   "cell_type": "code",
   "execution_count": 2,
   "metadata": {},
   "outputs": [],
   "source": [
    "#step1.selenium 패키지와 time 모듈 import\n",
    "from selenium import webdriver\n",
    "from selenium.webdriver.common.keys import Keys\n",
    "import time"
   ]
  },
  {
   "cell_type": "code",
   "execution_count": 3,
   "metadata": {},
   "outputs": [],
   "source": [
    "# 크롬 드라이버로 원하는 url 접속\n",
    "# 1. 크롬 브라우저 실행\n",
    "driver = webdriver.Chrome('/Users/hi/Desktop/python_project/chromedriver.exe')"
   ]
  },
  {
   "cell_type": "code",
   "execution_count": 22,
   "metadata": {},
   "outputs": [
    {
     "name": "stdout",
     "output_type": "stream",
     "text": [
      "--------------- 1 -------------\n",
      "36 36 36\n",
      "--------------- 2 -------------\n",
      "108 108 108\n",
      "--------------- 3 -------------\n",
      "216 216 216\n",
      "--------------- 4 -------------\n",
      "360 360 360\n",
      "--------------- 5 -------------\n",
      "540 540 540\n",
      "--------------- 6 -------------\n",
      "756 756 756\n",
      "--------------- 7 -------------\n",
      "1008 1008 1008\n",
      "--------------- 8 -------------\n",
      "1296 1296 1296\n",
      "--------------- 9 -------------\n",
      "1620 1620 1620\n",
      "--------------- 10 -------------\n",
      "1980 1980 1980\n",
      "--------------- 11 -------------\n",
      "2376 2376 2376\n",
      "--------------- 12 -------------\n",
      "2808 2808 2808\n",
      "--------------- 13 -------------\n",
      "3276 3276 3276\n",
      "--------------- 14 -------------\n",
      "3780 3780 3780\n",
      "--------------- 15 -------------\n",
      "4320 4320 4320\n",
      "--------------- 16 -------------\n",
      "4896 4896 4896\n",
      "--------------- 17 -------------\n",
      "5508 5508 5508\n",
      "--------------- 18 -------------\n",
      "6156 6156 6156\n",
      "--------------- 19 -------------\n",
      "6840 6840 6840\n",
      "--------------- 20 -------------\n",
      "7560 7560 7560\n",
      "--------------- 21 -------------\n",
      "8316 8316 8316\n",
      "--------------- 22 -------------\n",
      "9108 9108 9108\n",
      "--------------- 23 -------------\n",
      "9936 9936 9936\n",
      "--------------- 24 -------------\n",
      "10795 10795 10795\n",
      "상품명: 10795\n",
      "상품 가격: 10795\n",
      "상품 이미지: 10795\n"
     ]
    }
   ],
   "source": [
    "# 2. 특정 페이지로 연결\n",
    "title_list = []\n",
    "price_list = []\n",
    "img_list = []\n",
    "for i in range(1, 25):\n",
    "    print('---------------', i , '-------------')\n",
    "    url = 'https://www2.hm.com/ko_kr/ladies/shop-by-product/dresses.html?sort=stock&image-size=small&image=model&offset=0&page-size=' + str(36*i)\n",
    "    driver.get(url) # http 요청을 보내라! <----- http 응답을 보낼 것임!\n",
    "    time.sleep(2)\n",
    "    \n",
    "    # 상품명 크롤링\n",
    "    prod_title = driver.find_elements_by_css_selector('div.item-details > h3 > a')\n",
    "    for title in prod_title:\n",
    "        title_list.append(title.text)\n",
    "    \n",
    "    # 상품 가격 크롤링\n",
    "    prod_price = driver.find_elements_by_css_selector('div.item-details > strong > span')\n",
    "    for price in prod_price:\n",
    "        price_list.append(price.text)\n",
    "    \n",
    "    # 상품 이미지 크롤링\n",
    "    prod_img = driver.find_elements_by_css_selector('div.image-container > a > img')\n",
    "    for img in prod_img:\n",
    "        img_list.append(img.get_attribute('data-altimage'))\n",
    "    print(len(img_list), len(price_list), len(title_list)) # 잘 넣어지고 있는지 확인\n",
    "    driver.execute_script(\"window.scrollTo(0, document.body.scrollHeight)\") # 스크롤 끝까지 내리기\n",
    "# 리스트 총 개수 확인\n",
    "print('상품명:', len(title_list))\n",
    "print('상품 가격:', len(price_list))\n",
    "print('상품 이미지:', len(img_list))"
   ]
  },
  {
   "cell_type": "code",
   "execution_count": 9,
   "metadata": {},
   "outputs": [],
   "source": [
    "#page-content > div > div:nth-child(3) > ul > li:nth-child(35) > article > div.image-container > a > img\n",
    "#page-content > div > div:nth-child(3) > ul > li:nth-child(31) > article > div.item-details > h3 > a\n",
    "#page-content > div > div:nth-child(3) > ul > li:nth-child(31) > article > div.item-details > strong > span"
   ]
  },
  {
   "cell_type": "code",
   "execution_count": 10,
   "metadata": {},
   "outputs": [],
   "source": [
    "import pandas as pd"
   ]
  },
  {
   "cell_type": "code",
   "execution_count": 27,
   "metadata": {},
   "outputs": [
    {
     "data": {
      "text/html": [
       "<div>\n",
       "<style scoped>\n",
       "    .dataframe tbody tr th:only-of-type {\n",
       "        vertical-align: middle;\n",
       "    }\n",
       "\n",
       "    .dataframe tbody tr th {\n",
       "        vertical-align: top;\n",
       "    }\n",
       "\n",
       "    .dataframe thead th {\n",
       "        text-align: right;\n",
       "    }\n",
       "</style>\n",
       "<table border=\"1\" class=\"dataframe\">\n",
       "  <thead>\n",
       "    <tr style=\"text-align: right;\">\n",
       "      <th></th>\n",
       "      <th>상품명</th>\n",
       "      <th>상품 가격</th>\n",
       "      <th>상품 이미지</th>\n",
       "    </tr>\n",
       "  </thead>\n",
       "  <tbody>\n",
       "    <tr>\n",
       "      <th>0</th>\n",
       "      <td>컷아웃 재킷 드레스</td>\n",
       "      <td>₩49,900</td>\n",
       "      <td>//lp2.hm.com/hmgoepprod?set=source[/81/86/8186...</td>\n",
       "    </tr>\n",
       "    <tr>\n",
       "      <th>1</th>\n",
       "      <td>피티드 드레스</td>\n",
       "      <td>₩29,900</td>\n",
       "      <td>//lp2.hm.com/hmgoepprod?set=source[/5c/d8/5cd8...</td>\n",
       "    </tr>\n",
       "    <tr>\n",
       "      <th>2</th>\n",
       "      <td>코튼 셔츠 드레스</td>\n",
       "      <td>₩39,900</td>\n",
       "      <td>//lp2.hm.com/hmgoepprod?set=source[/f1/d9/f1d9...</td>\n",
       "    </tr>\n",
       "    <tr>\n",
       "      <th>3</th>\n",
       "      <td>리넨 블렌드 드레스</td>\n",
       "      <td>₩39,900</td>\n",
       "      <td>//lp2.hm.com/hmgoepprod?set=source[/52/60/5260...</td>\n",
       "    </tr>\n",
       "    <tr>\n",
       "      <th>4</th>\n",
       "      <td>레이스 디테일 슬립 드레스</td>\n",
       "      <td>₩99,900</td>\n",
       "      <td>//lp2.hm.com/hmgoepprod?set=source[/18/31/1831...</td>\n",
       "    </tr>\n",
       "    <tr>\n",
       "      <th>...</th>\n",
       "      <td>...</td>\n",
       "      <td>...</td>\n",
       "      <td>...</td>\n",
       "    </tr>\n",
       "    <tr>\n",
       "      <th>10790</th>\n",
       "      <td>칼라 디테일 저지 드레스</td>\n",
       "      <td>₩29,900</td>\n",
       "      <td>//lp2.hm.com/hmgoepprod?set=source[/35/54/3554...</td>\n",
       "    </tr>\n",
       "    <tr>\n",
       "      <th>10791</th>\n",
       "      <td>칼라 디테일 저지 드레스</td>\n",
       "      <td>₩29,900</td>\n",
       "      <td>//lp2.hm.com/hmgoepprod?set=source[/eb/e5/ebe5...</td>\n",
       "    </tr>\n",
       "    <tr>\n",
       "      <th>10792</th>\n",
       "      <td>칼라 디테일 저지 드레스</td>\n",
       "      <td>₩29,900</td>\n",
       "      <td>//lp2.hm.com/hmgoepprod?set=source[/e6/f4/e6f4...</td>\n",
       "    </tr>\n",
       "    <tr>\n",
       "      <th>10793</th>\n",
       "      <td>타이 디테일 데님 드레스</td>\n",
       "      <td>₩39,900</td>\n",
       "      <td>//lp2.hm.com/hmgoepprod?set=source[/27/4d/274d...</td>\n",
       "    </tr>\n",
       "    <tr>\n",
       "      <th>10794</th>\n",
       "      <td>칼라 코튼 드레스</td>\n",
       "      <td>₩49,900</td>\n",
       "      <td>//lp2.hm.com/hmgoepprod?set=source[/56/5d/565d...</td>\n",
       "    </tr>\n",
       "  </tbody>\n",
       "</table>\n",
       "<p>10795 rows × 3 columns</p>\n",
       "</div>"
      ],
      "text/plain": [
       "                  상품명    상품 가격  \\\n",
       "0          컷아웃 재킷 드레스  ₩49,900   \n",
       "1             피티드 드레스  ₩29,900   \n",
       "2           코튼 셔츠 드레스  ₩39,900   \n",
       "3          리넨 블렌드 드레스  ₩39,900   \n",
       "4      레이스 디테일 슬립 드레스  ₩99,900   \n",
       "...               ...      ...   \n",
       "10790   칼라 디테일 저지 드레스  ₩29,900   \n",
       "10791   칼라 디테일 저지 드레스  ₩29,900   \n",
       "10792   칼라 디테일 저지 드레스  ₩29,900   \n",
       "10793   타이 디테일 데님 드레스  ₩39,900   \n",
       "10794       칼라 코튼 드레스  ₩49,900   \n",
       "\n",
       "                                                  상품 이미지  \n",
       "0      //lp2.hm.com/hmgoepprod?set=source[/81/86/8186...  \n",
       "1      //lp2.hm.com/hmgoepprod?set=source[/5c/d8/5cd8...  \n",
       "2      //lp2.hm.com/hmgoepprod?set=source[/f1/d9/f1d9...  \n",
       "3      //lp2.hm.com/hmgoepprod?set=source[/52/60/5260...  \n",
       "4      //lp2.hm.com/hmgoepprod?set=source[/18/31/1831...  \n",
       "...                                                  ...  \n",
       "10790  //lp2.hm.com/hmgoepprod?set=source[/35/54/3554...  \n",
       "10791  //lp2.hm.com/hmgoepprod?set=source[/eb/e5/ebe5...  \n",
       "10792  //lp2.hm.com/hmgoepprod?set=source[/e6/f4/e6f4...  \n",
       "10793  //lp2.hm.com/hmgoepprod?set=source[/27/4d/274d...  \n",
       "10794  //lp2.hm.com/hmgoepprod?set=source[/56/5d/565d...  \n",
       "\n",
       "[10795 rows x 3 columns]"
      ]
     },
     "execution_count": 27,
     "metadata": {},
     "output_type": "execute_result"
    }
   ],
   "source": [
    "# 데이터프레임으로 보기\n",
    "hm_prod = pd.DataFrame({'상품명' : title_list,\n",
    "                       '상품 가격' : price_list,\n",
    "                       '상품 이미지' : img_list\n",
    "                       })\n",
    "hm_prod"
   ]
  },
  {
   "cell_type": "code",
   "execution_count": 29,
   "metadata": {},
   "outputs": [],
   "source": [
    "hm_prod.to_csv('H&M_Dress.csv')"
   ]
  },
  {
   "cell_type": "code",
   "execution_count": 43,
   "metadata": {},
   "outputs": [
    {
     "data": {
      "text/plain": [
       "'//lp2.hm.com/hmgoepprod?set=source[/5c/d8/5cd86d614e78a7d1174af87b5c359aeb8746add4.jpg],origin[dam],category[],type[DESCRIPTIVESTILLLIFE],res[m],hmver[2]&call=url[file:/product/style]'"
      ]
     },
     "execution_count": 43,
     "metadata": {},
     "output_type": "execute_result"
    }
   ],
   "source": [
    "hm_prod['img'][1]"
   ]
  },
  {
   "cell_type": "code",
   "execution_count": null,
   "metadata": {},
   "outputs": [],
   "source": [
    "# 이미지 저장 폴더 설정"
   ]
  },
  {
   "cell_type": "code",
   "execution_count": 24,
   "metadata": {},
   "outputs": [],
   "source": [
    "path_folder = './h&m_img/' # path_folder = './': 현재 경로(폴더)\n",
    "import os\n",
    "if not os.path.isdir(path_folder):\n",
    "    os.mkdir(path_folder)"
   ]
  },
  {
   "cell_type": "code",
   "execution_count": 16,
   "metadata": {},
   "outputs": [],
   "source": [
    "# 이미지 저장"
   ]
  },
  {
   "cell_type": "code",
   "execution_count": 25,
   "metadata": {},
   "outputs": [],
   "source": [
    "from urllib.request import urlretrieve"
   ]
  },
  {
   "cell_type": "code",
   "execution_count": 26,
   "metadata": {},
   "outputs": [],
   "source": [
    "i = 0\n",
    "for img in img_list:\n",
    "    i += 1 # i = i + 1\n",
    "    urlretrieve('https:'+ img, path_folder + str(i) + '.jpg')"
   ]
  },
  {
   "cell_type": "code",
   "execution_count": null,
   "metadata": {},
   "outputs": [],
   "source": [
    "# 이미지가 잘 들어갔는지 확인"
   ]
  },
  {
   "cell_type": "code",
   "execution_count": 19,
   "metadata": {},
   "outputs": [],
   "source": [
    "from IPython.display import Image"
   ]
  },
  {
   "cell_type": "code",
   "execution_count": 20,
   "metadata": {},
   "outputs": [
    {
     "data": {
      "image/jpeg": "[encoded data removed]",
      "text/plain": [
       "<IPython.core.display.Image object>"
      ]
     },
     "execution_count": 20,
     "metadata": {},
     "output_type": "execute_result"
    }
   ],
   "source": [
    "Image('./h&m_img/6.jpg')"
   ]
  },
  {
   "cell_type": "code",
   "execution_count": null,
   "metadata": {},
   "outputs": [],
   "source": []
  }
 ],
 "metadata": {
  "kernelspec": {
   "display_name": "Python 3",
   "language": "python",
   "name": "python3"
  },
  "language_info": {
   "codemirror_mode": {
    "name": "ipython",
    "version": 3
   },
   "file_extension": ".py",
   "mimetype": "text/x-python",
   "name": "python",
   "nbconvert_exporter": "python",
   "pygments_lexer": "ipython3",
   "version": "3.7.4"
  }
 },
 "nbformat": 4,
 "nbformat_minor": 2
}

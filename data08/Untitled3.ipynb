{
  "nbformat": 4,
  "nbformat_minor": 0,
  "metadata": {
    "colab": {
      "name": "Untitled3.ipynb",
      "provenance": [],
      "collapsed_sections": []
    },
    "kernelspec": {
      "name": "python3",
      "display_name": "Python 3"
    },
    "language_info": {
      "name": "python"
    }
  },
  "cells": [
    {
      "cell_type": "code",
      "execution_count": 287,
      "metadata": {
        "id": "R3831sU5ZANF"
      },
      "outputs": [],
      "source": [
        "from sklearn import datasets\n",
        "from sklearn.tree import DecisionTreeClassifier\n",
        "from sklearn.neighbors import KNeighborsClassifier\n",
        "from sklearn.svm import SVC\n",
        "from sklearn.ensemble import VotingClassifier\n",
        "from sklearn.model_selection import train_test_split\n",
        "from sklearn.metrics import accuracy_score\n",
        "from sklearn.preprocessing import StandardScaler#표준화(평균을 기준)\n",
        "from sklearn.preprocessing import MinMaxScaler#정규화\n",
        "from sklearn.datasets import load_iris\n",
        "from sklearn.linear_model import LogisticRegression\n",
        "from sklearn.ensemble import RandomForestClassifier\n",
        "from sklearn.model_selection import cross_validate\n",
        "from sklearn.neighbors import KNeighborsClassifier\n",
        "from sklearn.model_selection import cross_val_score\n",
        "from sklearn.metrics import *\n",
        "from sklearn.model_selection import train_test_split\n",
        "from sklearn.model_selection import GridSearchCV\n",
        "from sklearn.preprocessing import LabelEncoder\n",
        "import pandas as pd\n",
        "import numpy as np\n",
        "import seaborn as sns\n",
        "from pandas.plotting import parallel_coordinates\n",
        "import matplotlib.pyplot as plt\n",
        "from matplotlib import rc\n",
        "import matplotlib.font_manager as fm\n",
        "from sklearn.datasets import fetch_openml\n",
        "from sklearn.model_selection import train_test_split\n",
        "from IPython.display import Image\n",
        "# sklearn 모델의 동일한 결과 출력을 위해 선언합니다.\n",
        "import numpy as np\n",
        "np.random.seed(5)"
      ]
    },
    {
      "cell_type": "code",
      "source": [
        "import warnings\n",
        "warnings.filterwarnings('ignore')"
      ],
      "metadata": {
        "id": "cQJ0w2KYZma1"
      },
      "execution_count": 288,
      "outputs": []
    },
    {
      "cell_type": "code",
      "source": [
        "df=pd.read_csv(\"/content/Heart.csv\")\n",
        "df"
      ],
      "metadata": {
        "colab": {
          "base_uri": "https://localhost:8080/",
          "height": 505
        },
        "id": "70wqPuwcZjk1",
        "outputId": "88f4a2bd-5703-451d-cf9d-f35b5823098b"
      },
      "execution_count": 289,
      "outputs": [
        {
          "output_type": "execute_result",
          "data": {
            "text/plain": [
              "     Unnamed: 0  Age  Sex     ChestPain  RestBP  Chol  Fbs  RestECG  MaxHR  \\\n",
              "0             1   63    1       typical     145   233    1        2    150   \n",
              "1             2   67    1  asymptomatic     160   286    0        2    108   \n",
              "2             3   67    1  asymptomatic     120   229    0        2    129   \n",
              "3             4   37    1    nonanginal     130   250    0        0    187   \n",
              "4             5   41    0    nontypical     130   204    0        2    172   \n",
              "..          ...  ...  ...           ...     ...   ...  ...      ...    ...   \n",
              "298         299   45    1       typical     110   264    0        0    132   \n",
              "299         300   68    1  asymptomatic     144   193    1        0    141   \n",
              "300         301   57    1  asymptomatic     130   131    0        0    115   \n",
              "301         302   57    0    nontypical     130   236    0        2    174   \n",
              "302         303   38    1    nonanginal     138   175    0        0    173   \n",
              "\n",
              "     ExAng  Oldpeak  Slope   Ca        Thal  AHD  \n",
              "0        0      2.3      3  0.0       fixed   No  \n",
              "1        1      1.5      2  3.0      normal  Yes  \n",
              "2        1      2.6      2  2.0  reversable  Yes  \n",
              "3        0      3.5      3  0.0      normal   No  \n",
              "4        0      1.4      1  0.0      normal   No  \n",
              "..     ...      ...    ...  ...         ...  ...  \n",
              "298      0      1.2      2  0.0  reversable  Yes  \n",
              "299      0      3.4      2  2.0  reversable  Yes  \n",
              "300      1      1.2      2  1.0  reversable  Yes  \n",
              "301      0      0.0      2  1.0      normal  Yes  \n",
              "302      0      0.0      1  NaN      normal   No  \n",
              "\n",
              "[303 rows x 15 columns]"
            ],
            "text/html": [
              "\n",
              "  <div id=\"df-2bb3debb-6fee-4dd3-ac3d-e9148378b684\">\n",
              "    <div class=\"colab-df-container\">\n",
              "      <div>\n",
              "<style scoped>\n",
              "    .dataframe tbody tr th:only-of-type {\n",
              "        vertical-align: middle;\n",
              "    }\n",
              "\n",
              "    .dataframe tbody tr th {\n",
              "        vertical-align: top;\n",
              "    }\n",
              "\n",
              "    .dataframe thead th {\n",
              "        text-align: right;\n",
              "    }\n",
              "</style>\n",
              "<table border=\"1\" class=\"dataframe\">\n",
              "  <thead>\n",
              "    <tr style=\"text-align: right;\">\n",
              "      <th></th>\n",
              "      <th>Unnamed: 0</th>\n",
              "      <th>Age</th>\n",
              "      <th>Sex</th>\n",
              "      <th>ChestPain</th>\n",
              "      <th>RestBP</th>\n",
              "      <th>Chol</th>\n",
              "      <th>Fbs</th>\n",
              "      <th>RestECG</th>\n",
              "      <th>MaxHR</th>\n",
              "      <th>ExAng</th>\n",
              "      <th>Oldpeak</th>\n",
              "      <th>Slope</th>\n",
              "      <th>Ca</th>\n",
              "      <th>Thal</th>\n",
              "      <th>AHD</th>\n",
              "    </tr>\n",
              "  </thead>\n",
              "  <tbody>\n",
              "    <tr>\n",
              "      <th>0</th>\n",
              "      <td>1</td>\n",
              "      <td>63</td>\n",
              "      <td>1</td>\n",
              "      <td>typical</td>\n",
              "      <td>145</td>\n",
              "      <td>233</td>\n",
              "      <td>1</td>\n",
              "      <td>2</td>\n",
              "      <td>150</td>\n",
              "      <td>0</td>\n",
              "      <td>2.3</td>\n",
              "      <td>3</td>\n",
              "      <td>0.0</td>\n",
              "      <td>fixed</td>\n",
              "      <td>No</td>\n",
              "    </tr>\n",
              "    <tr>\n",
              "      <th>1</th>\n",
              "      <td>2</td>\n",
              "      <td>67</td>\n",
              "      <td>1</td>\n",
              "      <td>asymptomatic</td>\n",
              "      <td>160</td>\n",
              "      <td>286</td>\n",
              "      <td>0</td>\n",
              "      <td>2</td>\n",
              "      <td>108</td>\n",
              "      <td>1</td>\n",
              "      <td>1.5</td>\n",
              "      <td>2</td>\n",
              "      <td>3.0</td>\n",
              "      <td>normal</td>\n",
              "      <td>Yes</td>\n",
              "    </tr>\n",
              "    <tr>\n",
              "      <th>2</th>\n",
              "      <td>3</td>\n",
              "      <td>67</td>\n",
              "      <td>1</td>\n",
              "      <td>asymptomatic</td>\n",
              "      <td>120</td>\n",
              "      <td>229</td>\n",
              "      <td>0</td>\n",
              "      <td>2</td>\n",
              "      <td>129</td>\n",
              "      <td>1</td>\n",
              "      <td>2.6</td>\n",
              "      <td>2</td>\n",
              "      <td>2.0</td>\n",
              "      <td>reversable</td>\n",
              "      <td>Yes</td>\n",
              "    </tr>\n",
              "    <tr>\n",
              "      <th>3</th>\n",
              "      <td>4</td>\n",
              "      <td>37</td>\n",
              "      <td>1</td>\n",
              "      <td>nonanginal</td>\n",
              "      <td>130</td>\n",
              "      <td>250</td>\n",
              "      <td>0</td>\n",
              "      <td>0</td>\n",
              "      <td>187</td>\n",
              "      <td>0</td>\n",
              "      <td>3.5</td>\n",
              "      <td>3</td>\n",
              "      <td>0.0</td>\n",
              "      <td>normal</td>\n",
              "      <td>No</td>\n",
              "    </tr>\n",
              "    <tr>\n",
              "      <th>4</th>\n",
              "      <td>5</td>\n",
              "      <td>41</td>\n",
              "      <td>0</td>\n",
              "      <td>nontypical</td>\n",
              "      <td>130</td>\n",
              "      <td>204</td>\n",
              "      <td>0</td>\n",
              "      <td>2</td>\n",
              "      <td>172</td>\n",
              "      <td>0</td>\n",
              "      <td>1.4</td>\n",
              "      <td>1</td>\n",
              "      <td>0.0</td>\n",
              "      <td>normal</td>\n",
              "      <td>No</td>\n",
              "    </tr>\n",
              "    <tr>\n",
              "      <th>...</th>\n",
              "      <td>...</td>\n",
              "      <td>...</td>\n",
              "      <td>...</td>\n",
              "      <td>...</td>\n",
              "      <td>...</td>\n",
              "      <td>...</td>\n",
              "      <td>...</td>\n",
              "      <td>...</td>\n",
              "      <td>...</td>\n",
              "      <td>...</td>\n",
              "      <td>...</td>\n",
              "      <td>...</td>\n",
              "      <td>...</td>\n",
              "      <td>...</td>\n",
              "      <td>...</td>\n",
              "    </tr>\n",
              "    <tr>\n",
              "      <th>298</th>\n",
              "      <td>299</td>\n",
              "      <td>45</td>\n",
              "      <td>1</td>\n",
              "      <td>typical</td>\n",
              "      <td>110</td>\n",
              "      <td>264</td>\n",
              "      <td>0</td>\n",
              "      <td>0</td>\n",
              "      <td>132</td>\n",
              "      <td>0</td>\n",
              "      <td>1.2</td>\n",
              "      <td>2</td>\n",
              "      <td>0.0</td>\n",
              "      <td>reversable</td>\n",
              "      <td>Yes</td>\n",
              "    </tr>\n",
              "    <tr>\n",
              "      <th>299</th>\n",
              "      <td>300</td>\n",
              "      <td>68</td>\n",
              "      <td>1</td>\n",
              "      <td>asymptomatic</td>\n",
              "      <td>144</td>\n",
              "      <td>193</td>\n",
              "      <td>1</td>\n",
              "      <td>0</td>\n",
              "      <td>141</td>\n",
              "      <td>0</td>\n",
              "      <td>3.4</td>\n",
              "      <td>2</td>\n",
              "      <td>2.0</td>\n",
              "      <td>reversable</td>\n",
              "      <td>Yes</td>\n",
              "    </tr>\n",
              "    <tr>\n",
              "      <th>300</th>\n",
              "      <td>301</td>\n",
              "      <td>57</td>\n",
              "      <td>1</td>\n",
              "      <td>asymptomatic</td>\n",
              "      <td>130</td>\n",
              "      <td>131</td>\n",
              "      <td>0</td>\n",
              "      <td>0</td>\n",
              "      <td>115</td>\n",
              "      <td>1</td>\n",
              "      <td>1.2</td>\n",
              "      <td>2</td>\n",
              "      <td>1.0</td>\n",
              "      <td>reversable</td>\n",
              "      <td>Yes</td>\n",
              "    </tr>\n",
              "    <tr>\n",
              "      <th>301</th>\n",
              "      <td>302</td>\n",
              "      <td>57</td>\n",
              "      <td>0</td>\n",
              "      <td>nontypical</td>\n",
              "      <td>130</td>\n",
              "      <td>236</td>\n",
              "      <td>0</td>\n",
              "      <td>2</td>\n",
              "      <td>174</td>\n",
              "      <td>0</td>\n",
              "      <td>0.0</td>\n",
              "      <td>2</td>\n",
              "      <td>1.0</td>\n",
              "      <td>normal</td>\n",
              "      <td>Yes</td>\n",
              "    </tr>\n",
              "    <tr>\n",
              "      <th>302</th>\n",
              "      <td>303</td>\n",
              "      <td>38</td>\n",
              "      <td>1</td>\n",
              "      <td>nonanginal</td>\n",
              "      <td>138</td>\n",
              "      <td>175</td>\n",
              "      <td>0</td>\n",
              "      <td>0</td>\n",
              "      <td>173</td>\n",
              "      <td>0</td>\n",
              "      <td>0.0</td>\n",
              "      <td>1</td>\n",
              "      <td>NaN</td>\n",
              "      <td>normal</td>\n",
              "      <td>No</td>\n",
              "    </tr>\n",
              "  </tbody>\n",
              "</table>\n",
              "<p>303 rows × 15 columns</p>\n",
              "</div>\n",
              "      <button class=\"colab-df-convert\" onclick=\"convertToInteractive('df-2bb3debb-6fee-4dd3-ac3d-e9148378b684')\"\n",
              "              title=\"Convert this dataframe to an interactive table.\"\n",
              "              style=\"display:none;\">\n",
              "        \n",
              "  <svg xmlns=\"http://www.w3.org/2000/svg\" height=\"24px\"viewBox=\"0 0 24 24\"\n",
              "       width=\"24px\">\n",
              "    <path d=\"M0 0h24v24H0V0z\" fill=\"none\"/>\n",
              "    <path d=\"M18.56 5.44l.94 2.06.94-2.06 2.06-.94-2.06-.94-.94-2.06-.94 2.06-2.06.94zm-11 1L8.5 8.5l.94-2.06 2.06-.94-2.06-.94L8.5 2.5l-.94 2.06-2.06.94zm10 10l.94 2.06.94-2.06 2.06-.94-2.06-.94-.94-2.06-.94 2.06-2.06.94z\"/><path d=\"M17.41 7.96l-1.37-1.37c-.4-.4-.92-.59-1.43-.59-.52 0-1.04.2-1.43.59L10.3 9.45l-7.72 7.72c-.78.78-.78 2.05 0 2.83L4 21.41c.39.39.9.59 1.41.59.51 0 1.02-.2 1.41-.59l7.78-7.78 2.81-2.81c.8-.78.8-2.07 0-2.86zM5.41 20L4 18.59l7.72-7.72 1.47 1.35L5.41 20z\"/>\n",
              "  </svg>\n",
              "      </button>\n",
              "      \n",
              "  <style>\n",
              "    .colab-df-container {\n",
              "      display:flex;\n",
              "      flex-wrap:wrap;\n",
              "      gap: 12px;\n",
              "    }\n",
              "\n",
              "    .colab-df-convert {\n",
              "      background-color: #E8F0FE;\n",
              "      border: none;\n",
              "      border-radius: 50%;\n",
              "      cursor: pointer;\n",
              "      display: none;\n",
              "      fill: #1967D2;\n",
              "      height: 32px;\n",
              "      padding: 0 0 0 0;\n",
              "      width: 32px;\n",
              "    }\n",
              "\n",
              "    .colab-df-convert:hover {\n",
              "      background-color: #E2EBFA;\n",
              "      box-shadow: 0px 1px 2px rgba(60, 64, 67, 0.3), 0px 1px 3px 1px rgba(60, 64, 67, 0.15);\n",
              "      fill: #174EA6;\n",
              "    }\n",
              "\n",
              "    [theme=dark] .colab-df-convert {\n",
              "      background-color: #3B4455;\n",
              "      fill: #D2E3FC;\n",
              "    }\n",
              "\n",
              "    [theme=dark] .colab-df-convert:hover {\n",
              "      background-color: #434B5C;\n",
              "      box-shadow: 0px 1px 3px 1px rgba(0, 0, 0, 0.15);\n",
              "      filter: drop-shadow(0px 1px 2px rgba(0, 0, 0, 0.3));\n",
              "      fill: #FFFFFF;\n",
              "    }\n",
              "  </style>\n",
              "\n",
              "      <script>\n",
              "        const buttonEl =\n",
              "          document.querySelector('#df-2bb3debb-6fee-4dd3-ac3d-e9148378b684 button.colab-df-convert');\n",
              "        buttonEl.style.display =\n",
              "          google.colab.kernel.accessAllowed ? 'block' : 'none';\n",
              "\n",
              "        async function convertToInteractive(key) {\n",
              "          const element = document.querySelector('#df-2bb3debb-6fee-4dd3-ac3d-e9148378b684');\n",
              "          const dataTable =\n",
              "            await google.colab.kernel.invokeFunction('convertToInteractive',\n",
              "                                                     [key], {});\n",
              "          if (!dataTable) return;\n",
              "\n",
              "          const docLinkHtml = 'Like what you see? Visit the ' +\n",
              "            '<a target=\"_blank\" href=https://colab.research.google.com/notebooks/data_table.ipynb>data table notebook</a>'\n",
              "            + ' to learn more about interactive tables.';\n",
              "          element.innerHTML = '';\n",
              "          dataTable['output_type'] = 'display_data';\n",
              "          await google.colab.output.renderOutput(dataTable, element);\n",
              "          const docLink = document.createElement('div');\n",
              "          docLink.innerHTML = docLinkHtml;\n",
              "          element.appendChild(docLink);\n",
              "        }\n",
              "      </script>\n",
              "    </div>\n",
              "  </div>\n",
              "  "
            ]
          },
          "metadata": {},
          "execution_count": 289
        }
      ]
    },
    {
      "cell_type": "code",
      "source": [
        "df.drop(columns=[\"Unnamed: 0\",\"ExAng\"], inplace=True)"
      ],
      "metadata": {
        "id": "TpHvY-5oZ8GM"
      },
      "execution_count": 290,
      "outputs": []
    },
    {
      "cell_type": "code",
      "source": [
        "df.info()\n",
        "df.columns"
      ],
      "metadata": {
        "colab": {
          "base_uri": "https://localhost:8080/"
        },
        "id": "frKQbouxZtLr",
        "outputId": "06bd0cd6-24f8-408c-c6c5-9da320613a43"
      },
      "execution_count": 291,
      "outputs": [
        {
          "output_type": "stream",
          "name": "stdout",
          "text": [
            "<class 'pandas.core.frame.DataFrame'>\n",
            "RangeIndex: 303 entries, 0 to 302\n",
            "Data columns (total 13 columns):\n",
            " #   Column     Non-Null Count  Dtype  \n",
            "---  ------     --------------  -----  \n",
            " 0   Age        303 non-null    int64  \n",
            " 1   Sex        303 non-null    int64  \n",
            " 2   ChestPain  303 non-null    object \n",
            " 3   RestBP     303 non-null    int64  \n",
            " 4   Chol       303 non-null    int64  \n",
            " 5   Fbs        303 non-null    int64  \n",
            " 6   RestECG    303 non-null    int64  \n",
            " 7   MaxHR      303 non-null    int64  \n",
            " 8   Oldpeak    303 non-null    float64\n",
            " 9   Slope      303 non-null    int64  \n",
            " 10  Ca         299 non-null    float64\n",
            " 11  Thal       301 non-null    object \n",
            " 12  AHD        303 non-null    object \n",
            "dtypes: float64(2), int64(8), object(3)\n",
            "memory usage: 30.9+ KB\n"
          ]
        },
        {
          "output_type": "execute_result",
          "data": {
            "text/plain": [
              "Index(['Age', 'Sex', 'ChestPain', 'RestBP', 'Chol', 'Fbs', 'RestECG', 'MaxHR',\n",
              "       'Oldpeak', 'Slope', 'Ca', 'Thal', 'AHD'],\n",
              "      dtype='object')"
            ]
          },
          "metadata": {},
          "execution_count": 291
        }
      ]
    },
    {
      "cell_type": "code",
      "source": [
        "df.dropna(inplace=True)"
      ],
      "metadata": {
        "id": "YvGFa66niIyD"
      },
      "execution_count": 292,
      "outputs": []
    },
    {
      "cell_type": "code",
      "source": [
        "df.info()"
      ],
      "metadata": {
        "colab": {
          "base_uri": "https://localhost:8080/"
        },
        "id": "UNslvQ7xjMgU",
        "outputId": "435e77b2-19d4-4123-fd9c-e175f00da291"
      },
      "execution_count": 293,
      "outputs": [
        {
          "output_type": "stream",
          "name": "stdout",
          "text": [
            "<class 'pandas.core.frame.DataFrame'>\n",
            "Int64Index: 297 entries, 0 to 301\n",
            "Data columns (total 13 columns):\n",
            " #   Column     Non-Null Count  Dtype  \n",
            "---  ------     --------------  -----  \n",
            " 0   Age        297 non-null    int64  \n",
            " 1   Sex        297 non-null    int64  \n",
            " 2   ChestPain  297 non-null    object \n",
            " 3   RestBP     297 non-null    int64  \n",
            " 4   Chol       297 non-null    int64  \n",
            " 5   Fbs        297 non-null    int64  \n",
            " 6   RestECG    297 non-null    int64  \n",
            " 7   MaxHR      297 non-null    int64  \n",
            " 8   Oldpeak    297 non-null    float64\n",
            " 9   Slope      297 non-null    int64  \n",
            " 10  Ca         297 non-null    float64\n",
            " 11  Thal       297 non-null    object \n",
            " 12  AHD        297 non-null    object \n",
            "dtypes: float64(2), int64(8), object(3)\n",
            "memory usage: 32.5+ KB\n"
          ]
        }
      ]
    },
    {
      "cell_type": "code",
      "source": [
        "df.iloc[:, :-1]"
      ],
      "metadata": {
        "colab": {
          "base_uri": "https://localhost:8080/",
          "height": 488
        },
        "id": "YSlymjXNbB8r",
        "outputId": "cc879bb7-292d-4c73-8706-2326b50eb9fe"
      },
      "execution_count": 294,
      "outputs": [
        {
          "output_type": "execute_result",
          "data": {
            "text/plain": [
              "     Age  Sex     ChestPain  RestBP  Chol  Fbs  RestECG  MaxHR  Oldpeak  \\\n",
              "0     63    1       typical     145   233    1        2    150      2.3   \n",
              "1     67    1  asymptomatic     160   286    0        2    108      1.5   \n",
              "2     67    1  asymptomatic     120   229    0        2    129      2.6   \n",
              "3     37    1    nonanginal     130   250    0        0    187      3.5   \n",
              "4     41    0    nontypical     130   204    0        2    172      1.4   \n",
              "..   ...  ...           ...     ...   ...  ...      ...    ...      ...   \n",
              "297   57    0  asymptomatic     140   241    0        0    123      0.2   \n",
              "298   45    1       typical     110   264    0        0    132      1.2   \n",
              "299   68    1  asymptomatic     144   193    1        0    141      3.4   \n",
              "300   57    1  asymptomatic     130   131    0        0    115      1.2   \n",
              "301   57    0    nontypical     130   236    0        2    174      0.0   \n",
              "\n",
              "     Slope   Ca        Thal  \n",
              "0        3  0.0       fixed  \n",
              "1        2  3.0      normal  \n",
              "2        2  2.0  reversable  \n",
              "3        3  0.0      normal  \n",
              "4        1  0.0      normal  \n",
              "..     ...  ...         ...  \n",
              "297      2  0.0  reversable  \n",
              "298      2  0.0  reversable  \n",
              "299      2  2.0  reversable  \n",
              "300      2  1.0  reversable  \n",
              "301      2  1.0      normal  \n",
              "\n",
              "[297 rows x 12 columns]"
            ],
            "text/html": [
              "\n",
              "  <div id=\"df-792cfd66-cad6-470c-a7da-203d7e9c17b9\">\n",
              "    <div class=\"colab-df-container\">\n",
              "      <div>\n",
              "<style scoped>\n",
              "    .dataframe tbody tr th:only-of-type {\n",
              "        vertical-align: middle;\n",
              "    }\n",
              "\n",
              "    .dataframe tbody tr th {\n",
              "        vertical-align: top;\n",
              "    }\n",
              "\n",
              "    .dataframe thead th {\n",
              "        text-align: right;\n",
              "    }\n",
              "</style>\n",
              "<table border=\"1\" class=\"dataframe\">\n",
              "  <thead>\n",
              "    <tr style=\"text-align: right;\">\n",
              "      <th></th>\n",
              "      <th>Age</th>\n",
              "      <th>Sex</th>\n",
              "      <th>ChestPain</th>\n",
              "      <th>RestBP</th>\n",
              "      <th>Chol</th>\n",
              "      <th>Fbs</th>\n",
              "      <th>RestECG</th>\n",
              "      <th>MaxHR</th>\n",
              "      <th>Oldpeak</th>\n",
              "      <th>Slope</th>\n",
              "      <th>Ca</th>\n",
              "      <th>Thal</th>\n",
              "    </tr>\n",
              "  </thead>\n",
              "  <tbody>\n",
              "    <tr>\n",
              "      <th>0</th>\n",
              "      <td>63</td>\n",
              "      <td>1</td>\n",
              "      <td>typical</td>\n",
              "      <td>145</td>\n",
              "      <td>233</td>\n",
              "      <td>1</td>\n",
              "      <td>2</td>\n",
              "      <td>150</td>\n",
              "      <td>2.3</td>\n",
              "      <td>3</td>\n",
              "      <td>0.0</td>\n",
              "      <td>fixed</td>\n",
              "    </tr>\n",
              "    <tr>\n",
              "      <th>1</th>\n",
              "      <td>67</td>\n",
              "      <td>1</td>\n",
              "      <td>asymptomatic</td>\n",
              "      <td>160</td>\n",
              "      <td>286</td>\n",
              "      <td>0</td>\n",
              "      <td>2</td>\n",
              "      <td>108</td>\n",
              "      <td>1.5</td>\n",
              "      <td>2</td>\n",
              "      <td>3.0</td>\n",
              "      <td>normal</td>\n",
              "    </tr>\n",
              "    <tr>\n",
              "      <th>2</th>\n",
              "      <td>67</td>\n",
              "      <td>1</td>\n",
              "      <td>asymptomatic</td>\n",
              "      <td>120</td>\n",
              "      <td>229</td>\n",
              "      <td>0</td>\n",
              "      <td>2</td>\n",
              "      <td>129</td>\n",
              "      <td>2.6</td>\n",
              "      <td>2</td>\n",
              "      <td>2.0</td>\n",
              "      <td>reversable</td>\n",
              "    </tr>\n",
              "    <tr>\n",
              "      <th>3</th>\n",
              "      <td>37</td>\n",
              "      <td>1</td>\n",
              "      <td>nonanginal</td>\n",
              "      <td>130</td>\n",
              "      <td>250</td>\n",
              "      <td>0</td>\n",
              "      <td>0</td>\n",
              "      <td>187</td>\n",
              "      <td>3.5</td>\n",
              "      <td>3</td>\n",
              "      <td>0.0</td>\n",
              "      <td>normal</td>\n",
              "    </tr>\n",
              "    <tr>\n",
              "      <th>4</th>\n",
              "      <td>41</td>\n",
              "      <td>0</td>\n",
              "      <td>nontypical</td>\n",
              "      <td>130</td>\n",
              "      <td>204</td>\n",
              "      <td>0</td>\n",
              "      <td>2</td>\n",
              "      <td>172</td>\n",
              "      <td>1.4</td>\n",
              "      <td>1</td>\n",
              "      <td>0.0</td>\n",
              "      <td>normal</td>\n",
              "    </tr>\n",
              "    <tr>\n",
              "      <th>...</th>\n",
              "      <td>...</td>\n",
              "      <td>...</td>\n",
              "      <td>...</td>\n",
              "      <td>...</td>\n",
              "      <td>...</td>\n",
              "      <td>...</td>\n",
              "      <td>...</td>\n",
              "      <td>...</td>\n",
              "      <td>...</td>\n",
              "      <td>...</td>\n",
              "      <td>...</td>\n",
              "      <td>...</td>\n",
              "    </tr>\n",
              "    <tr>\n",
              "      <th>297</th>\n",
              "      <td>57</td>\n",
              "      <td>0</td>\n",
              "      <td>asymptomatic</td>\n",
              "      <td>140</td>\n",
              "      <td>241</td>\n",
              "      <td>0</td>\n",
              "      <td>0</td>\n",
              "      <td>123</td>\n",
              "      <td>0.2</td>\n",
              "      <td>2</td>\n",
              "      <td>0.0</td>\n",
              "      <td>reversable</td>\n",
              "    </tr>\n",
              "    <tr>\n",
              "      <th>298</th>\n",
              "      <td>45</td>\n",
              "      <td>1</td>\n",
              "      <td>typical</td>\n",
              "      <td>110</td>\n",
              "      <td>264</td>\n",
              "      <td>0</td>\n",
              "      <td>0</td>\n",
              "      <td>132</td>\n",
              "      <td>1.2</td>\n",
              "      <td>2</td>\n",
              "      <td>0.0</td>\n",
              "      <td>reversable</td>\n",
              "    </tr>\n",
              "    <tr>\n",
              "      <th>299</th>\n",
              "      <td>68</td>\n",
              "      <td>1</td>\n",
              "      <td>asymptomatic</td>\n",
              "      <td>144</td>\n",
              "      <td>193</td>\n",
              "      <td>1</td>\n",
              "      <td>0</td>\n",
              "      <td>141</td>\n",
              "      <td>3.4</td>\n",
              "      <td>2</td>\n",
              "      <td>2.0</td>\n",
              "      <td>reversable</td>\n",
              "    </tr>\n",
              "    <tr>\n",
              "      <th>300</th>\n",
              "      <td>57</td>\n",
              "      <td>1</td>\n",
              "      <td>asymptomatic</td>\n",
              "      <td>130</td>\n",
              "      <td>131</td>\n",
              "      <td>0</td>\n",
              "      <td>0</td>\n",
              "      <td>115</td>\n",
              "      <td>1.2</td>\n",
              "      <td>2</td>\n",
              "      <td>1.0</td>\n",
              "      <td>reversable</td>\n",
              "    </tr>\n",
              "    <tr>\n",
              "      <th>301</th>\n",
              "      <td>57</td>\n",
              "      <td>0</td>\n",
              "      <td>nontypical</td>\n",
              "      <td>130</td>\n",
              "      <td>236</td>\n",
              "      <td>0</td>\n",
              "      <td>2</td>\n",
              "      <td>174</td>\n",
              "      <td>0.0</td>\n",
              "      <td>2</td>\n",
              "      <td>1.0</td>\n",
              "      <td>normal</td>\n",
              "    </tr>\n",
              "  </tbody>\n",
              "</table>\n",
              "<p>297 rows × 12 columns</p>\n",
              "</div>\n",
              "      <button class=\"colab-df-convert\" onclick=\"convertToInteractive('df-792cfd66-cad6-470c-a7da-203d7e9c17b9')\"\n",
              "              title=\"Convert this dataframe to an interactive table.\"\n",
              "              style=\"display:none;\">\n",
              "        \n",
              "  <svg xmlns=\"http://www.w3.org/2000/svg\" height=\"24px\"viewBox=\"0 0 24 24\"\n",
              "       width=\"24px\">\n",
              "    <path d=\"M0 0h24v24H0V0z\" fill=\"none\"/>\n",
              "    <path d=\"M18.56 5.44l.94 2.06.94-2.06 2.06-.94-2.06-.94-.94-2.06-.94 2.06-2.06.94zm-11 1L8.5 8.5l.94-2.06 2.06-.94-2.06-.94L8.5 2.5l-.94 2.06-2.06.94zm10 10l.94 2.06.94-2.06 2.06-.94-2.06-.94-.94-2.06-.94 2.06-2.06.94z\"/><path d=\"M17.41 7.96l-1.37-1.37c-.4-.4-.92-.59-1.43-.59-.52 0-1.04.2-1.43.59L10.3 9.45l-7.72 7.72c-.78.78-.78 2.05 0 2.83L4 21.41c.39.39.9.59 1.41.59.51 0 1.02-.2 1.41-.59l7.78-7.78 2.81-2.81c.8-.78.8-2.07 0-2.86zM5.41 20L4 18.59l7.72-7.72 1.47 1.35L5.41 20z\"/>\n",
              "  </svg>\n",
              "      </button>\n",
              "      \n",
              "  <style>\n",
              "    .colab-df-container {\n",
              "      display:flex;\n",
              "      flex-wrap:wrap;\n",
              "      gap: 12px;\n",
              "    }\n",
              "\n",
              "    .colab-df-convert {\n",
              "      background-color: #E8F0FE;\n",
              "      border: none;\n",
              "      border-radius: 50%;\n",
              "      cursor: pointer;\n",
              "      display: none;\n",
              "      fill: #1967D2;\n",
              "      height: 32px;\n",
              "      padding: 0 0 0 0;\n",
              "      width: 32px;\n",
              "    }\n",
              "\n",
              "    .colab-df-convert:hover {\n",
              "      background-color: #E2EBFA;\n",
              "      box-shadow: 0px 1px 2px rgba(60, 64, 67, 0.3), 0px 1px 3px 1px rgba(60, 64, 67, 0.15);\n",
              "      fill: #174EA6;\n",
              "    }\n",
              "\n",
              "    [theme=dark] .colab-df-convert {\n",
              "      background-color: #3B4455;\n",
              "      fill: #D2E3FC;\n",
              "    }\n",
              "\n",
              "    [theme=dark] .colab-df-convert:hover {\n",
              "      background-color: #434B5C;\n",
              "      box-shadow: 0px 1px 3px 1px rgba(0, 0, 0, 0.15);\n",
              "      filter: drop-shadow(0px 1px 2px rgba(0, 0, 0, 0.3));\n",
              "      fill: #FFFFFF;\n",
              "    }\n",
              "  </style>\n",
              "\n",
              "      <script>\n",
              "        const buttonEl =\n",
              "          document.querySelector('#df-792cfd66-cad6-470c-a7da-203d7e9c17b9 button.colab-df-convert');\n",
              "        buttonEl.style.display =\n",
              "          google.colab.kernel.accessAllowed ? 'block' : 'none';\n",
              "\n",
              "        async function convertToInteractive(key) {\n",
              "          const element = document.querySelector('#df-792cfd66-cad6-470c-a7da-203d7e9c17b9');\n",
              "          const dataTable =\n",
              "            await google.colab.kernel.invokeFunction('convertToInteractive',\n",
              "                                                     [key], {});\n",
              "          if (!dataTable) return;\n",
              "\n",
              "          const docLinkHtml = 'Like what you see? Visit the ' +\n",
              "            '<a target=\"_blank\" href=https://colab.research.google.com/notebooks/data_table.ipynb>data table notebook</a>'\n",
              "            + ' to learn more about interactive tables.';\n",
              "          element.innerHTML = '';\n",
              "          dataTable['output_type'] = 'display_data';\n",
              "          await google.colab.output.renderOutput(dataTable, element);\n",
              "          const docLink = document.createElement('div');\n",
              "          docLink.innerHTML = docLinkHtml;\n",
              "          element.appendChild(docLink);\n",
              "        }\n",
              "      </script>\n",
              "    </div>\n",
              "  </div>\n",
              "  "
            ]
          },
          "metadata": {},
          "execution_count": 294
        }
      ]
    },
    {
      "cell_type": "code",
      "source": [
        "data=list(set(df['ChestPain'].values))\n",
        "data"
      ],
      "metadata": {
        "colab": {
          "base_uri": "https://localhost:8080/"
        },
        "id": "GL72RTLRhPaS",
        "outputId": "463878c3-1c09-411b-ed7f-f6bcc60498d7"
      },
      "execution_count": 295,
      "outputs": [
        {
          "output_type": "execute_result",
          "data": {
            "text/plain": [
              "['typical', 'asymptomatic', 'nonanginal', 'nontypical']"
            ]
          },
          "metadata": {},
          "execution_count": 295
        }
      ]
    },
    {
      "cell_type": "code",
      "source": [
        "encoder=LabelEncoder()\n",
        "encoder.fit(data) \n",
        "df['ChestPain']=encoder.transform(df['ChestPain'])\n",
        "df['ChestPain'] = df['ChestPain'].astype('category')"
      ],
      "metadata": {
        "id": "gTcZ5sQ4hIv0"
      },
      "execution_count": 296,
      "outputs": []
    },
    {
      "cell_type": "code",
      "source": [
        "data=list(set(df['Thal'].values))\n",
        "data"
      ],
      "metadata": {
        "colab": {
          "base_uri": "https://localhost:8080/"
        },
        "id": "bSuOOsBchcm0",
        "outputId": "8d574100-45d6-4264-be0a-43380a13b286"
      },
      "execution_count": 297,
      "outputs": [
        {
          "output_type": "execute_result",
          "data": {
            "text/plain": [
              "['reversable', 'normal', 'fixed']"
            ]
          },
          "metadata": {},
          "execution_count": 297
        }
      ]
    },
    {
      "cell_type": "code",
      "source": [
        "encoder2=LabelEncoder()\n",
        "encoder2.fit(data) \n",
        "df['Thal']= encoder2.transform(df['Thal'])\n",
        "df['Thal'] = df['Thal'].astype('category')"
      ],
      "metadata": {
        "id": "L3biVm7UhcpK"
      },
      "execution_count": 298,
      "outputs": []
    },
    {
      "cell_type": "code",
      "source": [
        "X_train,X_test,y_train,y_test = train_test_split(df.iloc[:, :-1], df.iloc[:,-1],test_size=0.2, random_state=3)"
      ],
      "metadata": {
        "id": "3bOBsLBhbPcr"
      },
      "execution_count": 299,
      "outputs": []
    },
    {
      "cell_type": "code",
      "source": [
        "dt=DecisionTreeClassifier(criterion='gini', max_depth = 3, max_features = 8, random_state=100)"
      ],
      "metadata": {
        "id": "XGobqhMccVkE"
      },
      "execution_count": 300,
      "outputs": []
    },
    {
      "cell_type": "code",
      "source": [
        "svm=SVC( C=100, gamma=100, random_state=35, probability=True, kernel='rbf')"
      ],
      "metadata": {
        "id": "LOUV_vJ3c8IU"
      },
      "execution_count": 301,
      "outputs": []
    },
    {
      "cell_type": "code",
      "source": [
        "lr = LogisticRegression()"
      ],
      "metadata": {
        "id": "4PYjrVsWc8Lr"
      },
      "execution_count": 302,
      "outputs": []
    },
    {
      "cell_type": "code",
      "source": [
        "dt.fit(X_train, y_train)\n",
        "svm.fit(X_train, y_train)\n",
        "lr.fit(X_train, y_train)"
      ],
      "metadata": {
        "colab": {
          "base_uri": "https://localhost:8080/"
        },
        "id": "l7Rrqb2uj8rs",
        "outputId": "190aa36d-678f-4227-e96b-4ac6ccc30a22"
      },
      "execution_count": 303,
      "outputs": [
        {
          "output_type": "execute_result",
          "data": {
            "text/plain": [
              "LogisticRegression()"
            ]
          },
          "metadata": {},
          "execution_count": 303
        }
      ]
    },
    {
      "cell_type": "code",
      "source": [
        "dt_p = dt.predict(X_test)\n",
        "svm_p=svm.predict(X_test)\n",
        "lr_p=lr.predict(X_test)\n",
        "dt_p ,svm_p, lr_p"
      ],
      "metadata": {
        "colab": {
          "base_uri": "https://localhost:8080/"
        },
        "id": "UHpI5WVykJP8",
        "outputId": "ecd440d4-3591-4129-feb7-250d24d88ac6"
      },
      "execution_count": 304,
      "outputs": [
        {
          "output_type": "execute_result",
          "data": {
            "text/plain": [
              "(array(['No', 'Yes', 'Yes', 'No', 'No', 'Yes', 'Yes', 'Yes', 'Yes', 'Yes',\n",
              "        'No', 'No', 'Yes', 'Yes', 'No', 'Yes', 'Yes', 'No', 'Yes', 'No',\n",
              "        'Yes', 'Yes', 'No', 'No', 'No', 'No', 'No', 'Yes', 'Yes', 'Yes',\n",
              "        'Yes', 'Yes', 'No', 'Yes', 'No', 'No', 'No', 'Yes', 'No', 'No',\n",
              "        'No', 'No', 'No', 'No', 'Yes', 'Yes', 'Yes', 'Yes', 'Yes', 'No',\n",
              "        'No', 'No', 'Yes', 'Yes', 'Yes', 'No', 'No', 'No', 'No', 'Yes'],\n",
              "       dtype=object),\n",
              " array(['No', 'No', 'No', 'No', 'No', 'No', 'No', 'No', 'No', 'No', 'No',\n",
              "        'No', 'No', 'No', 'No', 'No', 'No', 'No', 'No', 'No', 'No', 'No',\n",
              "        'No', 'No', 'No', 'No', 'No', 'No', 'No', 'No', 'No', 'No', 'No',\n",
              "        'No', 'No', 'No', 'No', 'No', 'No', 'No', 'No', 'No', 'No', 'No',\n",
              "        'No', 'No', 'No', 'No', 'No', 'No', 'No', 'No', 'No', 'No', 'No',\n",
              "        'No', 'No', 'No', 'No', 'No'], dtype=object),\n",
              " array(['No', 'Yes', 'Yes', 'No', 'No', 'No', 'Yes', 'No', 'Yes', 'Yes',\n",
              "        'No', 'No', 'Yes', 'No', 'No', 'Yes', 'No', 'No', 'No', 'No',\n",
              "        'Yes', 'Yes', 'Yes', 'No', 'No', 'Yes', 'No', 'Yes', 'Yes', 'Yes',\n",
              "        'Yes', 'Yes', 'No', 'Yes', 'No', 'No', 'No', 'Yes', 'No', 'Yes',\n",
              "        'Yes', 'No', 'No', 'No', 'No', 'Yes', 'Yes', 'Yes', 'No', 'No',\n",
              "        'No', 'No', 'No', 'Yes', 'Yes', 'No', 'No', 'No', 'Yes', 'No'],\n",
              "       dtype=object))"
            ]
          },
          "metadata": {},
          "execution_count": 304
        }
      ]
    },
    {
      "cell_type": "code",
      "source": [
        "print(\"[accuarcy]\")\n",
        "print(\"d-tree: \",accuracy_score(y_test, dt_p))\n",
        "print(\"svm   : \",accuracy_score(y_test, svm_p))\n",
        "print(\"logistic   : \",accuracy_score(y_test, lr_p))"
      ],
      "metadata": {
        "colab": {
          "base_uri": "https://localhost:8080/"
        },
        "id": "hjZ2Slv7kcnE",
        "outputId": "3a392a8b-98d7-43e0-dfca-28255b5b61e6"
      },
      "execution_count": 305,
      "outputs": [
        {
          "output_type": "stream",
          "name": "stdout",
          "text": [
            "[accuarcy]\n",
            "d-tree:  0.8166666666666667\n",
            "svm   :  0.5166666666666667\n",
            "logistic   :  0.8166666666666667\n"
          ]
        }
      ]
    },
    {
      "cell_type": "code",
      "source": [
        "voting_clf=VotingClassifier(\n",
        "    estimators=[('decision tree', dt),('LogisticRegression', lr ),('svm', svm)], weights=[1,1,1], voting='hard'\n",
        ").fit(X_train, y_train)\n",
        "\n",
        "hard_voting_predicted = voting_clf.predict(X_test)\n",
        "accuracy_score(y_test, hard_voting_predicted) ## 다수결의 원칙으로 정함. "
      ],
      "metadata": {
        "colab": {
          "base_uri": "https://localhost:8080/"
        },
        "id": "ddl9qFLLd620",
        "outputId": "976757d5-31c5-42e9-bcfc-f7bcec9d6192"
      },
      "execution_count": 306,
      "outputs": [
        {
          "output_type": "execute_result",
          "data": {
            "text/plain": [
              "0.8"
            ]
          },
          "metadata": {},
          "execution_count": 306
        }
      ]
    },
    {
      "cell_type": "code",
      "source": [
        "voting_clf=VotingClassifier(\n",
        "    estimators=[('decision tree', dt),('LogisticRegression', lr ),('svm', svm)], weights=[1,1,1], voting='soft'\n",
        ").fit(X_train, y_train)\n",
        "\n",
        "hard_voting_predicted = voting_clf.predict(X_test)\n",
        "accuracy_score(y_test, hard_voting_predicted)"
      ],
      "metadata": {
        "colab": {
          "base_uri": "https://localhost:8080/"
        },
        "id": "YFmiK92piiHD",
        "outputId": "87723718-ce02-454c-c017-05fd59724187"
      },
      "execution_count": 307,
      "outputs": [
        {
          "output_type": "execute_result",
          "data": {
            "text/plain": [
              "0.8333333333333334"
            ]
          },
          "metadata": {},
          "execution_count": 307
        }
      ]
    },
    {
      "cell_type": "markdown",
      "source": [
        "**정석데이터 사용**"
      ],
      "metadata": {
        "id": "LWLdnOICkr8M"
      }
    },
    {
      "cell_type": "code",
      "source": [
        "df1=pd.read_csv(\"/content/wisc_bc_data.csv\")\n",
        "df1"
      ],
      "metadata": {
        "colab": {
          "base_uri": "https://localhost:8080/",
          "height": 488
        },
        "id": "1FBuLVGVku8B",
        "outputId": "769e09cc-3eda-4ec6-db80-c466ba69af6d"
      },
      "execution_count": 308,
      "outputs": [
        {
          "output_type": "execute_result",
          "data": {
            "text/plain": [
              "            id diagnosis  radius_mean  texture_mean  perimeter_mean  \\\n",
              "0     87139402         B        12.32         12.39           78.85   \n",
              "1      8910251         B        10.60         18.95           69.28   \n",
              "2       905520         B        11.04         16.83           70.92   \n",
              "3       868871         B        11.28         13.39           73.00   \n",
              "4      9012568         B        15.19         13.21           97.65   \n",
              "..         ...       ...          ...           ...             ...   \n",
              "564  911320502         B        13.17         18.22           84.28   \n",
              "565     898677         B        10.26         14.71           66.20   \n",
              "566     873885         M        15.28         22.41           98.92   \n",
              "567     911201         B        14.53         13.98           93.86   \n",
              "568    9012795         M        21.37         15.10          141.30   \n",
              "\n",
              "     area_mean  smoothness_mean  compactness_mean  concavity_mean  \\\n",
              "0        464.1          0.10280           0.06981         0.03987   \n",
              "1        346.4          0.09688           0.11470         0.06387   \n",
              "2        373.2          0.10770           0.07804         0.03046   \n",
              "3        384.8          0.11640           0.11360         0.04635   \n",
              "4        711.8          0.07963           0.06934         0.03393   \n",
              "..         ...              ...               ...             ...   \n",
              "564      537.3          0.07466           0.05994         0.04859   \n",
              "565      321.6          0.09882           0.09159         0.03581   \n",
              "566      710.6          0.09057           0.10520         0.05375   \n",
              "567      644.2          0.10990           0.09242         0.06895   \n",
              "568     1386.0          0.10010           0.15150         0.19320   \n",
              "\n",
              "     points_mean  ...  radius_worst  texture_worst  perimeter_worst  \\\n",
              "0        0.03700  ...         13.50          15.64            86.97   \n",
              "1        0.02642  ...         11.88          22.94            78.28   \n",
              "2        0.02480  ...         12.41          26.44            79.93   \n",
              "3        0.04796  ...         11.92          15.77            76.53   \n",
              "4        0.02657  ...         16.20          15.73           104.50   \n",
              "..           ...  ...           ...            ...              ...   \n",
              "564      0.02870  ...         14.90          23.89            95.10   \n",
              "565      0.02037  ...         10.88          19.48            70.89   \n",
              "566      0.03263  ...         17.80          28.03           113.80   \n",
              "567      0.06495  ...         15.80          16.93           103.10   \n",
              "568      0.12550  ...         22.69          21.84           152.10   \n",
              "\n",
              "     area_worst  smoothness_worst  compactness_worst  concavity_worst  \\\n",
              "0         549.1            0.1385             0.1266          0.12420   \n",
              "1         424.8            0.1213             0.2515          0.19160   \n",
              "2         471.4            0.1369             0.1482          0.10670   \n",
              "3         434.0            0.1367             0.1822          0.08669   \n",
              "4         819.1            0.1126             0.1737          0.13620   \n",
              "..          ...               ...                ...              ...   \n",
              "564       687.6            0.1282             0.1965          0.18760   \n",
              "565       357.1            0.1360             0.1636          0.07162   \n",
              "566       973.1            0.1301             0.3299          0.36300   \n",
              "567       749.9            0.1347             0.1478          0.13730   \n",
              "568      1535.0            0.1192             0.2840          0.40240   \n",
              "\n",
              "     points_worst  symmetry_worst  dimension_worst  \n",
              "0         0.09391          0.2827          0.06771  \n",
              "1         0.07926          0.2940          0.07587  \n",
              "2         0.07431          0.2998          0.07881  \n",
              "3         0.08611          0.2102          0.06784  \n",
              "4         0.08178          0.2487          0.06766  \n",
              "..            ...             ...              ...  \n",
              "564       0.10450          0.2235          0.06925  \n",
              "565       0.04074          0.2434          0.08488  \n",
              "566       0.12260          0.3175          0.09772  \n",
              "567       0.10690          0.2606          0.07810  \n",
              "568       0.19660          0.2730          0.08666  \n",
              "\n",
              "[569 rows x 32 columns]"
            ],
            "text/html": [
              "\n",
              "  <div id=\"df-46b85e98-707a-4365-8c9c-d199786d16ea\">\n",
              "    <div class=\"colab-df-container\">\n",
              "      <div>\n",
              "<style scoped>\n",
              "    .dataframe tbody tr th:only-of-type {\n",
              "        vertical-align: middle;\n",
              "    }\n",
              "\n",
              "    .dataframe tbody tr th {\n",
              "        vertical-align: top;\n",
              "    }\n",
              "\n",
              "    .dataframe thead th {\n",
              "        text-align: right;\n",
              "    }\n",
              "</style>\n",
              "<table border=\"1\" class=\"dataframe\">\n",
              "  <thead>\n",
              "    <tr style=\"text-align: right;\">\n",
              "      <th></th>\n",
              "      <th>id</th>\n",
              "      <th>diagnosis</th>\n",
              "      <th>radius_mean</th>\n",
              "      <th>texture_mean</th>\n",
              "      <th>perimeter_mean</th>\n",
              "      <th>area_mean</th>\n",
              "      <th>smoothness_mean</th>\n",
              "      <th>compactness_mean</th>\n",
              "      <th>concavity_mean</th>\n",
              "      <th>points_mean</th>\n",
              "      <th>...</th>\n",
              "      <th>radius_worst</th>\n",
              "      <th>texture_worst</th>\n",
              "      <th>perimeter_worst</th>\n",
              "      <th>area_worst</th>\n",
              "      <th>smoothness_worst</th>\n",
              "      <th>compactness_worst</th>\n",
              "      <th>concavity_worst</th>\n",
              "      <th>points_worst</th>\n",
              "      <th>symmetry_worst</th>\n",
              "      <th>dimension_worst</th>\n",
              "    </tr>\n",
              "  </thead>\n",
              "  <tbody>\n",
              "    <tr>\n",
              "      <th>0</th>\n",
              "      <td>87139402</td>\n",
              "      <td>B</td>\n",
              "      <td>12.32</td>\n",
              "      <td>12.39</td>\n",
              "      <td>78.85</td>\n",
              "      <td>464.1</td>\n",
              "      <td>0.10280</td>\n",
              "      <td>0.06981</td>\n",
              "      <td>0.03987</td>\n",
              "      <td>0.03700</td>\n",
              "      <td>...</td>\n",
              "      <td>13.50</td>\n",
              "      <td>15.64</td>\n",
              "      <td>86.97</td>\n",
              "      <td>549.1</td>\n",
              "      <td>0.1385</td>\n",
              "      <td>0.1266</td>\n",
              "      <td>0.12420</td>\n",
              "      <td>0.09391</td>\n",
              "      <td>0.2827</td>\n",
              "      <td>0.06771</td>\n",
              "    </tr>\n",
              "    <tr>\n",
              "      <th>1</th>\n",
              "      <td>8910251</td>\n",
              "      <td>B</td>\n",
              "      <td>10.60</td>\n",
              "      <td>18.95</td>\n",
              "      <td>69.28</td>\n",
              "      <td>346.4</td>\n",
              "      <td>0.09688</td>\n",
              "      <td>0.11470</td>\n",
              "      <td>0.06387</td>\n",
              "      <td>0.02642</td>\n",
              "      <td>...</td>\n",
              "      <td>11.88</td>\n",
              "      <td>22.94</td>\n",
              "      <td>78.28</td>\n",
              "      <td>424.8</td>\n",
              "      <td>0.1213</td>\n",
              "      <td>0.2515</td>\n",
              "      <td>0.19160</td>\n",
              "      <td>0.07926</td>\n",
              "      <td>0.2940</td>\n",
              "      <td>0.07587</td>\n",
              "    </tr>\n",
              "    <tr>\n",
              "      <th>2</th>\n",
              "      <td>905520</td>\n",
              "      <td>B</td>\n",
              "      <td>11.04</td>\n",
              "      <td>16.83</td>\n",
              "      <td>70.92</td>\n",
              "      <td>373.2</td>\n",
              "      <td>0.10770</td>\n",
              "      <td>0.07804</td>\n",
              "      <td>0.03046</td>\n",
              "      <td>0.02480</td>\n",
              "      <td>...</td>\n",
              "      <td>12.41</td>\n",
              "      <td>26.44</td>\n",
              "      <td>79.93</td>\n",
              "      <td>471.4</td>\n",
              "      <td>0.1369</td>\n",
              "      <td>0.1482</td>\n",
              "      <td>0.10670</td>\n",
              "      <td>0.07431</td>\n",
              "      <td>0.2998</td>\n",
              "      <td>0.07881</td>\n",
              "    </tr>\n",
              "    <tr>\n",
              "      <th>3</th>\n",
              "      <td>868871</td>\n",
              "      <td>B</td>\n",
              "      <td>11.28</td>\n",
              "      <td>13.39</td>\n",
              "      <td>73.00</td>\n",
              "      <td>384.8</td>\n",
              "      <td>0.11640</td>\n",
              "      <td>0.11360</td>\n",
              "      <td>0.04635</td>\n",
              "      <td>0.04796</td>\n",
              "      <td>...</td>\n",
              "      <td>11.92</td>\n",
              "      <td>15.77</td>\n",
              "      <td>76.53</td>\n",
              "      <td>434.0</td>\n",
              "      <td>0.1367</td>\n",
              "      <td>0.1822</td>\n",
              "      <td>0.08669</td>\n",
              "      <td>0.08611</td>\n",
              "      <td>0.2102</td>\n",
              "      <td>0.06784</td>\n",
              "    </tr>\n",
              "    <tr>\n",
              "      <th>4</th>\n",
              "      <td>9012568</td>\n",
              "      <td>B</td>\n",
              "      <td>15.19</td>\n",
              "      <td>13.21</td>\n",
              "      <td>97.65</td>\n",
              "      <td>711.8</td>\n",
              "      <td>0.07963</td>\n",
              "      <td>0.06934</td>\n",
              "      <td>0.03393</td>\n",
              "      <td>0.02657</td>\n",
              "      <td>...</td>\n",
              "      <td>16.20</td>\n",
              "      <td>15.73</td>\n",
              "      <td>104.50</td>\n",
              "      <td>819.1</td>\n",
              "      <td>0.1126</td>\n",
              "      <td>0.1737</td>\n",
              "      <td>0.13620</td>\n",
              "      <td>0.08178</td>\n",
              "      <td>0.2487</td>\n",
              "      <td>0.06766</td>\n",
              "    </tr>\n",
              "    <tr>\n",
              "      <th>...</th>\n",
              "      <td>...</td>\n",
              "      <td>...</td>\n",
              "      <td>...</td>\n",
              "      <td>...</td>\n",
              "      <td>...</td>\n",
              "      <td>...</td>\n",
              "      <td>...</td>\n",
              "      <td>...</td>\n",
              "      <td>...</td>\n",
              "      <td>...</td>\n",
              "      <td>...</td>\n",
              "      <td>...</td>\n",
              "      <td>...</td>\n",
              "      <td>...</td>\n",
              "      <td>...</td>\n",
              "      <td>...</td>\n",
              "      <td>...</td>\n",
              "      <td>...</td>\n",
              "      <td>...</td>\n",
              "      <td>...</td>\n",
              "      <td>...</td>\n",
              "    </tr>\n",
              "    <tr>\n",
              "      <th>564</th>\n",
              "      <td>911320502</td>\n",
              "      <td>B</td>\n",
              "      <td>13.17</td>\n",
              "      <td>18.22</td>\n",
              "      <td>84.28</td>\n",
              "      <td>537.3</td>\n",
              "      <td>0.07466</td>\n",
              "      <td>0.05994</td>\n",
              "      <td>0.04859</td>\n",
              "      <td>0.02870</td>\n",
              "      <td>...</td>\n",
              "      <td>14.90</td>\n",
              "      <td>23.89</td>\n",
              "      <td>95.10</td>\n",
              "      <td>687.6</td>\n",
              "      <td>0.1282</td>\n",
              "      <td>0.1965</td>\n",
              "      <td>0.18760</td>\n",
              "      <td>0.10450</td>\n",
              "      <td>0.2235</td>\n",
              "      <td>0.06925</td>\n",
              "    </tr>\n",
              "    <tr>\n",
              "      <th>565</th>\n",
              "      <td>898677</td>\n",
              "      <td>B</td>\n",
              "      <td>10.26</td>\n",
              "      <td>14.71</td>\n",
              "      <td>66.20</td>\n",
              "      <td>321.6</td>\n",
              "      <td>0.09882</td>\n",
              "      <td>0.09159</td>\n",
              "      <td>0.03581</td>\n",
              "      <td>0.02037</td>\n",
              "      <td>...</td>\n",
              "      <td>10.88</td>\n",
              "      <td>19.48</td>\n",
              "      <td>70.89</td>\n",
              "      <td>357.1</td>\n",
              "      <td>0.1360</td>\n",
              "      <td>0.1636</td>\n",
              "      <td>0.07162</td>\n",
              "      <td>0.04074</td>\n",
              "      <td>0.2434</td>\n",
              "      <td>0.08488</td>\n",
              "    </tr>\n",
              "    <tr>\n",
              "      <th>566</th>\n",
              "      <td>873885</td>\n",
              "      <td>M</td>\n",
              "      <td>15.28</td>\n",
              "      <td>22.41</td>\n",
              "      <td>98.92</td>\n",
              "      <td>710.6</td>\n",
              "      <td>0.09057</td>\n",
              "      <td>0.10520</td>\n",
              "      <td>0.05375</td>\n",
              "      <td>0.03263</td>\n",
              "      <td>...</td>\n",
              "      <td>17.80</td>\n",
              "      <td>28.03</td>\n",
              "      <td>113.80</td>\n",
              "      <td>973.1</td>\n",
              "      <td>0.1301</td>\n",
              "      <td>0.3299</td>\n",
              "      <td>0.36300</td>\n",
              "      <td>0.12260</td>\n",
              "      <td>0.3175</td>\n",
              "      <td>0.09772</td>\n",
              "    </tr>\n",
              "    <tr>\n",
              "      <th>567</th>\n",
              "      <td>911201</td>\n",
              "      <td>B</td>\n",
              "      <td>14.53</td>\n",
              "      <td>13.98</td>\n",
              "      <td>93.86</td>\n",
              "      <td>644.2</td>\n",
              "      <td>0.10990</td>\n",
              "      <td>0.09242</td>\n",
              "      <td>0.06895</td>\n",
              "      <td>0.06495</td>\n",
              "      <td>...</td>\n",
              "      <td>15.80</td>\n",
              "      <td>16.93</td>\n",
              "      <td>103.10</td>\n",
              "      <td>749.9</td>\n",
              "      <td>0.1347</td>\n",
              "      <td>0.1478</td>\n",
              "      <td>0.13730</td>\n",
              "      <td>0.10690</td>\n",
              "      <td>0.2606</td>\n",
              "      <td>0.07810</td>\n",
              "    </tr>\n",
              "    <tr>\n",
              "      <th>568</th>\n",
              "      <td>9012795</td>\n",
              "      <td>M</td>\n",
              "      <td>21.37</td>\n",
              "      <td>15.10</td>\n",
              "      <td>141.30</td>\n",
              "      <td>1386.0</td>\n",
              "      <td>0.10010</td>\n",
              "      <td>0.15150</td>\n",
              "      <td>0.19320</td>\n",
              "      <td>0.12550</td>\n",
              "      <td>...</td>\n",
              "      <td>22.69</td>\n",
              "      <td>21.84</td>\n",
              "      <td>152.10</td>\n",
              "      <td>1535.0</td>\n",
              "      <td>0.1192</td>\n",
              "      <td>0.2840</td>\n",
              "      <td>0.40240</td>\n",
              "      <td>0.19660</td>\n",
              "      <td>0.2730</td>\n",
              "      <td>0.08666</td>\n",
              "    </tr>\n",
              "  </tbody>\n",
              "</table>\n",
              "<p>569 rows × 32 columns</p>\n",
              "</div>\n",
              "      <button class=\"colab-df-convert\" onclick=\"convertToInteractive('df-46b85e98-707a-4365-8c9c-d199786d16ea')\"\n",
              "              title=\"Convert this dataframe to an interactive table.\"\n",
              "              style=\"display:none;\">\n",
              "        \n",
              "  <svg xmlns=\"http://www.w3.org/2000/svg\" height=\"24px\"viewBox=\"0 0 24 24\"\n",
              "       width=\"24px\">\n",
              "    <path d=\"M0 0h24v24H0V0z\" fill=\"none\"/>\n",
              "    <path d=\"M18.56 5.44l.94 2.06.94-2.06 2.06-.94-2.06-.94-.94-2.06-.94 2.06-2.06.94zm-11 1L8.5 8.5l.94-2.06 2.06-.94-2.06-.94L8.5 2.5l-.94 2.06-2.06.94zm10 10l.94 2.06.94-2.06 2.06-.94-2.06-.94-.94-2.06-.94 2.06-2.06.94z\"/><path d=\"M17.41 7.96l-1.37-1.37c-.4-.4-.92-.59-1.43-.59-.52 0-1.04.2-1.43.59L10.3 9.45l-7.72 7.72c-.78.78-.78 2.05 0 2.83L4 21.41c.39.39.9.59 1.41.59.51 0 1.02-.2 1.41-.59l7.78-7.78 2.81-2.81c.8-.78.8-2.07 0-2.86zM5.41 20L4 18.59l7.72-7.72 1.47 1.35L5.41 20z\"/>\n",
              "  </svg>\n",
              "      </button>\n",
              "      \n",
              "  <style>\n",
              "    .colab-df-container {\n",
              "      display:flex;\n",
              "      flex-wrap:wrap;\n",
              "      gap: 12px;\n",
              "    }\n",
              "\n",
              "    .colab-df-convert {\n",
              "      background-color: #E8F0FE;\n",
              "      border: none;\n",
              "      border-radius: 50%;\n",
              "      cursor: pointer;\n",
              "      display: none;\n",
              "      fill: #1967D2;\n",
              "      height: 32px;\n",
              "      padding: 0 0 0 0;\n",
              "      width: 32px;\n",
              "    }\n",
              "\n",
              "    .colab-df-convert:hover {\n",
              "      background-color: #E2EBFA;\n",
              "      box-shadow: 0px 1px 2px rgba(60, 64, 67, 0.3), 0px 1px 3px 1px rgba(60, 64, 67, 0.15);\n",
              "      fill: #174EA6;\n",
              "    }\n",
              "\n",
              "    [theme=dark] .colab-df-convert {\n",
              "      background-color: #3B4455;\n",
              "      fill: #D2E3FC;\n",
              "    }\n",
              "\n",
              "    [theme=dark] .colab-df-convert:hover {\n",
              "      background-color: #434B5C;\n",
              "      box-shadow: 0px 1px 3px 1px rgba(0, 0, 0, 0.15);\n",
              "      filter: drop-shadow(0px 1px 2px rgba(0, 0, 0, 0.3));\n",
              "      fill: #FFFFFF;\n",
              "    }\n",
              "  </style>\n",
              "\n",
              "      <script>\n",
              "        const buttonEl =\n",
              "          document.querySelector('#df-46b85e98-707a-4365-8c9c-d199786d16ea button.colab-df-convert');\n",
              "        buttonEl.style.display =\n",
              "          google.colab.kernel.accessAllowed ? 'block' : 'none';\n",
              "\n",
              "        async function convertToInteractive(key) {\n",
              "          const element = document.querySelector('#df-46b85e98-707a-4365-8c9c-d199786d16ea');\n",
              "          const dataTable =\n",
              "            await google.colab.kernel.invokeFunction('convertToInteractive',\n",
              "                                                     [key], {});\n",
              "          if (!dataTable) return;\n",
              "\n",
              "          const docLinkHtml = 'Like what you see? Visit the ' +\n",
              "            '<a target=\"_blank\" href=https://colab.research.google.com/notebooks/data_table.ipynb>data table notebook</a>'\n",
              "            + ' to learn more about interactive tables.';\n",
              "          element.innerHTML = '';\n",
              "          dataTable['output_type'] = 'display_data';\n",
              "          await google.colab.output.renderOutput(dataTable, element);\n",
              "          const docLink = document.createElement('div');\n",
              "          docLink.innerHTML = docLinkHtml;\n",
              "          element.appendChild(docLink);\n",
              "        }\n",
              "      </script>\n",
              "    </div>\n",
              "  </div>\n",
              "  "
            ]
          },
          "metadata": {},
          "execution_count": 308
        }
      ]
    },
    {
      "cell_type": "code",
      "source": [
        "df1.info()\n",
        "df1.columns"
      ],
      "metadata": {
        "colab": {
          "base_uri": "https://localhost:8080/"
        },
        "id": "evX9Lh8slHia",
        "outputId": "5ce8107d-6db6-4d31-cd5b-94c990b3d333"
      },
      "execution_count": 309,
      "outputs": [
        {
          "output_type": "stream",
          "name": "stdout",
          "text": [
            "<class 'pandas.core.frame.DataFrame'>\n",
            "RangeIndex: 569 entries, 0 to 568\n",
            "Data columns (total 32 columns):\n",
            " #   Column             Non-Null Count  Dtype  \n",
            "---  ------             --------------  -----  \n",
            " 0   id                 569 non-null    int64  \n",
            " 1   diagnosis          569 non-null    object \n",
            " 2   radius_mean        569 non-null    float64\n",
            " 3   texture_mean       569 non-null    float64\n",
            " 4   perimeter_mean     569 non-null    float64\n",
            " 5   area_mean          569 non-null    float64\n",
            " 6   smoothness_mean    569 non-null    float64\n",
            " 7   compactness_mean   569 non-null    float64\n",
            " 8   concavity_mean     569 non-null    float64\n",
            " 9   points_mean        569 non-null    float64\n",
            " 10  symmetry_mean      569 non-null    float64\n",
            " 11  dimension_mean     569 non-null    float64\n",
            " 12  radius_se          569 non-null    float64\n",
            " 13  texture_se         569 non-null    float64\n",
            " 14  perimeter_se       569 non-null    float64\n",
            " 15  area_se            569 non-null    float64\n",
            " 16  smoothness_se      569 non-null    float64\n",
            " 17  compactness_se     569 non-null    float64\n",
            " 18  concavity_se       569 non-null    float64\n",
            " 19  points_se          569 non-null    float64\n",
            " 20  symmetry_se        569 non-null    float64\n",
            " 21  dimension_se       569 non-null    float64\n",
            " 22  radius_worst       569 non-null    float64\n",
            " 23  texture_worst      569 non-null    float64\n",
            " 24  perimeter_worst    569 non-null    float64\n",
            " 25  area_worst         569 non-null    float64\n",
            " 26  smoothness_worst   569 non-null    float64\n",
            " 27  compactness_worst  569 non-null    float64\n",
            " 28  concavity_worst    569 non-null    float64\n",
            " 29  points_worst       569 non-null    float64\n",
            " 30  symmetry_worst     569 non-null    float64\n",
            " 31  dimension_worst    569 non-null    float64\n",
            "dtypes: float64(30), int64(1), object(1)\n",
            "memory usage: 142.4+ KB\n"
          ]
        },
        {
          "output_type": "execute_result",
          "data": {
            "text/plain": [
              "Index(['id', 'diagnosis', 'radius_mean', 'texture_mean', 'perimeter_mean',\n",
              "       'area_mean', 'smoothness_mean', 'compactness_mean', 'concavity_mean',\n",
              "       'points_mean', 'symmetry_mean', 'dimension_mean', 'radius_se',\n",
              "       'texture_se', 'perimeter_se', 'area_se', 'smoothness_se',\n",
              "       'compactness_se', 'concavity_se', 'points_se', 'symmetry_se',\n",
              "       'dimension_se', 'radius_worst', 'texture_worst', 'perimeter_worst',\n",
              "       'area_worst', 'smoothness_worst', 'compactness_worst',\n",
              "       'concavity_worst', 'points_worst', 'symmetry_worst', 'dimension_worst'],\n",
              "      dtype='object')"
            ]
          },
          "metadata": {},
          "execution_count": 309
        }
      ]
    },
    {
      "cell_type": "code",
      "source": [
        "df2=df1.drop(columns=\"diagnosis\")"
      ],
      "metadata": {
        "id": "NOhPbWGamE_T"
      },
      "execution_count": 310,
      "outputs": []
    },
    {
      "cell_type": "code",
      "source": [
        "X_train,X_test,y_train,y_test = train_test_split(df2, df1[\"diagnosis\"],test_size=0.2, random_state=3)"
      ],
      "metadata": {
        "id": "e7eH3JSdlUDi"
      },
      "execution_count": 311,
      "outputs": []
    },
    {
      "cell_type": "code",
      "source": [
        "dt=DecisionTreeClassifier(criterion='gini', max_depth = 3, max_features = 8, random_state=100)\n",
        "svm=SVC(C=100, gamma=100, random_state=3, probability=True, kernel='rbf')\n",
        "lr = LogisticRegression()"
      ],
      "metadata": {
        "id": "TxdII1PfnJHs"
      },
      "execution_count": 312,
      "outputs": []
    },
    {
      "cell_type": "code",
      "source": [
        "dt.fit(X_train, y_train)\n",
        "svm.fit(X_train, y_train)\n",
        "lr.fit(X_train, y_train)\n"
      ],
      "metadata": {
        "colab": {
          "base_uri": "https://localhost:8080/"
        },
        "id": "LStOXiRCnJJ6",
        "outputId": "d5bec321-b646-4c34-dfcd-db64a6649e38"
      },
      "execution_count": 313,
      "outputs": [
        {
          "output_type": "execute_result",
          "data": {
            "text/plain": [
              "LogisticRegression()"
            ]
          },
          "metadata": {},
          "execution_count": 313
        }
      ]
    },
    {
      "cell_type": "code",
      "source": [
        "dt_p = dt.predict(X_test)\n",
        "svm_p=svm.predict(X_test)\n",
        "lr_p=lr.predict(X_test)\n",
        "dt_p ,svm_p, lr_p"
      ],
      "metadata": {
        "colab": {
          "base_uri": "https://localhost:8080/"
        },
        "id": "e0TLFLwanJL6",
        "outputId": "5fad4857-3c9c-4bb3-a92c-74b7085c51dc"
      },
      "execution_count": 314,
      "outputs": [
        {
          "output_type": "execute_result",
          "data": {
            "text/plain": [
              "(array(['B', 'B', 'B', 'B', 'M', 'B', 'B', 'M', 'M', 'M', 'M', 'M', 'M',\n",
              "        'M', 'B', 'M', 'B', 'M', 'B', 'B', 'B', 'M', 'B', 'M', 'B', 'B',\n",
              "        'M', 'B', 'B', 'B', 'M', 'B', 'B', 'M', 'B', 'M', 'B', 'M', 'M',\n",
              "        'B', 'M', 'M', 'B', 'B', 'B', 'B', 'B', 'M', 'B', 'B', 'B', 'B',\n",
              "        'B', 'B', 'B', 'M', 'M', 'B', 'M', 'B', 'B', 'B', 'B', 'B', 'B',\n",
              "        'M', 'B', 'M', 'B', 'B', 'B', 'B', 'B', 'B', 'B', 'B', 'M', 'B',\n",
              "        'M', 'M', 'B', 'B', 'B', 'M', 'M', 'B', 'B', 'M', 'M', 'M', 'M',\n",
              "        'B', 'M', 'B', 'B', 'B', 'B', 'B', 'B', 'B', 'B', 'B', 'M', 'B',\n",
              "        'B', 'M', 'B', 'B', 'B', 'B', 'B', 'M', 'M', 'M'], dtype=object),\n",
              " array(['B', 'B', 'B', 'B', 'B', 'B', 'B', 'B', 'B', 'B', 'B', 'B', 'B',\n",
              "        'B', 'B', 'B', 'B', 'B', 'B', 'B', 'B', 'B', 'B', 'B', 'B', 'B',\n",
              "        'B', 'B', 'B', 'B', 'B', 'B', 'B', 'B', 'B', 'B', 'B', 'B', 'B',\n",
              "        'B', 'B', 'B', 'B', 'B', 'B', 'B', 'B', 'B', 'B', 'B', 'B', 'B',\n",
              "        'B', 'B', 'B', 'B', 'B', 'B', 'B', 'B', 'B', 'B', 'B', 'B', 'B',\n",
              "        'B', 'B', 'B', 'B', 'B', 'B', 'B', 'B', 'B', 'B', 'B', 'B', 'B',\n",
              "        'B', 'B', 'B', 'B', 'B', 'B', 'B', 'B', 'B', 'B', 'B', 'B', 'B',\n",
              "        'B', 'B', 'B', 'B', 'B', 'B', 'B', 'B', 'B', 'B', 'B', 'B', 'B',\n",
              "        'B', 'B', 'B', 'B', 'B', 'B', 'B', 'B', 'B', 'B'], dtype=object),\n",
              " array(['B', 'B', 'B', 'B', 'B', 'B', 'B', 'B', 'B', 'B', 'B', 'B', 'B',\n",
              "        'B', 'B', 'B', 'B', 'B', 'B', 'B', 'B', 'B', 'B', 'B', 'B', 'B',\n",
              "        'B', 'B', 'B', 'B', 'B', 'B', 'B', 'B', 'B', 'B', 'B', 'B', 'B',\n",
              "        'B', 'B', 'B', 'B', 'B', 'B', 'B', 'B', 'B', 'B', 'B', 'B', 'B',\n",
              "        'B', 'B', 'B', 'B', 'B', 'B', 'B', 'B', 'B', 'B', 'B', 'B', 'B',\n",
              "        'B', 'B', 'B', 'B', 'B', 'B', 'B', 'B', 'B', 'B', 'B', 'B', 'B',\n",
              "        'B', 'B', 'B', 'B', 'B', 'B', 'B', 'B', 'B', 'B', 'B', 'B', 'B',\n",
              "        'B', 'B', 'B', 'B', 'B', 'B', 'B', 'B', 'B', 'B', 'B', 'B', 'B',\n",
              "        'B', 'B', 'B', 'B', 'B', 'B', 'B', 'B', 'B', 'B'], dtype=object))"
            ]
          },
          "metadata": {},
          "execution_count": 314
        }
      ]
    },
    {
      "cell_type": "code",
      "source": [
        "print(\"[accuarcy]\")\n",
        "print(\"d-tree: \",accuracy_score(y_test, dt_p))\n",
        "print(\"svm   : \",accuracy_score(y_test, svm_p))\n",
        "print(\"logistic   : \",accuracy_score(y_test, lr_p))"
      ],
      "metadata": {
        "colab": {
          "base_uri": "https://localhost:8080/"
        },
        "id": "Ayq1UJ_nnJN7",
        "outputId": "a70c5441-07d4-4fb8-d384-70bd082218ca"
      },
      "execution_count": 315,
      "outputs": [
        {
          "output_type": "stream",
          "name": "stdout",
          "text": [
            "[accuarcy]\n",
            "d-tree:  0.9035087719298246\n",
            "svm   :  0.6140350877192983\n",
            "logistic   :  0.6140350877192983\n"
          ]
        }
      ]
    },
    {
      "cell_type": "code",
      "source": [
        "\n",
        "hard_voting_clf=VotingClassifier(\n",
        "    estimators=[('decision tree', dt),('LogisticRegression', lr ),('svm', svm)], weights=[1,1,1], voting='hard'\n",
        ").fit(X_train, y_train)\n",
        "\n",
        "hard_voting_predicted = hard_voting_clf.predict(X_test)\n",
        "accuracy_score(y_test, hard_voting_predicted) ## 다수결의 원칙으로 정함. "
      ],
      "metadata": {
        "colab": {
          "base_uri": "https://localhost:8080/"
        },
        "id": "kmW9354knPq7",
        "outputId": "e6c9064f-0d40-42b0-cb61-7119deac5c74"
      },
      "execution_count": 317,
      "outputs": [
        {
          "output_type": "execute_result",
          "data": {
            "text/plain": [
              "0.6140350877192983"
            ]
          },
          "metadata": {},
          "execution_count": 317
        }
      ]
    },
    {
      "cell_type": "code",
      "source": [
        "\n",
        "soft_voting_clf=VotingClassifier(\n",
        "    estimators=[('decision tree', dt),('LogisticRegression', lr ),('svm', svm)], weights=[1,1,1], voting='soft'\n",
        ").fit(X_train, y_train)\n",
        "\n",
        "soft_voting_predicted = soft_voting_clf.predict(X_test)\n",
        "accuracy_score(y_test, hard_voting_predicted) ## 다수결의 원칙으로 정함. "
      ],
      "metadata": {
        "colab": {
          "base_uri": "https://localhost:8080/"
        },
        "id": "7bPCDYsFnPs6",
        "outputId": "c9941cb4-2508-40b4-c05a-1b4d2d87f3f0"
      },
      "execution_count": 318,
      "outputs": [
        {
          "output_type": "execute_result",
          "data": {
            "text/plain": [
              "0.6140350877192983"
            ]
          },
          "metadata": {},
          "execution_count": 318
        }
      ]
    },
    {
      "cell_type": "markdown",
      "source": [
        "소프트 보팅이 하드 보팅보다 정확도가 높아서 많이 쓰임"
      ],
      "metadata": {
        "id": "B16TMjRfnk7F"
      }
    },
    {
      "cell_type": "markdown",
      "source": [
        ""
      ],
      "metadata": {
        "id": "iLGov6oMm4ui"
      }
    },
    {
      "cell_type": "code",
      "source": [
        "##bagging\n",
        "\n",
        "rf = RandomForestClassifier(\n",
        "    n_estimators=100,\n",
        "    max_depth=5,\n",
        "    random_state=10\n",
        ").fit(X_train, y_train)"
      ],
      "metadata": {
        "id": "126ydqYpnqhq"
      },
      "execution_count": 319,
      "outputs": []
    },
    {
      "cell_type": "code",
      "source": [
        "rf_predt = rf.predict(X_test)\n",
        "rf_acc = accuracy_score(y_test, rf_predt)\n",
        "rf_acc"
      ],
      "metadata": {
        "colab": {
          "base_uri": "https://localhost:8080/"
        },
        "id": "r4CR5kmgnqji",
        "outputId": "65dcda7d-0557-462e-f097-951ba61f8782"
      },
      "execution_count": 320,
      "outputs": [
        {
          "output_type": "execute_result",
          "data": {
            "text/plain": [
              "0.9298245614035088"
            ]
          },
          "metadata": {},
          "execution_count": 320
        }
      ]
    },
    {
      "cell_type": "code",
      "source": [
        "x = np.arange(3)\n",
        "plt.bar(x, height= [\n",
        "                    accuracy_score(y_test, hard_voting_predicted),\n",
        "                    accuracy_score(y_test, soft_voting_predicted),\n",
        "                    accuracy_score(y_test, rf_predt)\n",
        "            ])\n",
        "plt.xticks(x, ['hard voting','soft voting', 'bagging']);"
      ],
      "metadata": {
        "colab": {
          "base_uri": "https://localhost:8080/",
          "height": 265
        },
        "id": "VhzdT2ylpgUB",
        "outputId": "e204bb7f-05dc-4b5f-f3f3-4023e93dfb46"
      },
      "execution_count": 321,
      "outputs": [
        {
          "output_type": "display_data",
          "data": {
            "text/plain": [
              "<Figure size 432x288 with 1 Axes>"
            ],
            "image/png": "[encoded data removed]"
          },
          "metadata": {
            "needs_background": "light"
          }
        }
      ]
    },
    {
      "cell_type": "code",
      "source": [
        "def print_test_metrics(model, X_test):\n",
        "    global pred\n",
        "    pred = model.predict(X_test)\n",
        "    acc = accuracy_score(y_test, pred)\n",
        "    print('*** Test Accuracy *** \\n   {}'.format(model.score(X_test, y_test)))\n",
        "    print('\\n*** Confusion Matrix *** \\n', confusion_matrix(y_test, model.predict(X_test)))\n",
        "    print('*** Confusion Matrix(precision) ***')\n",
        "    print(precision_score(y_test, pred, average='macro'))\n",
        "    print('***classification re(precision) ***')\n",
        "    print(classification_report(y_test, pred))"
      ],
      "metadata": {
        "id": "6OIij6xrpiIR"
      },
      "execution_count": 322,
      "outputs": []
    },
    {
      "cell_type": "code",
      "source": [
        "print_test_metrics(rf, X_test)"
      ],
      "metadata": {
        "colab": {
          "base_uri": "https://localhost:8080/"
        },
        "id": "QC840w3KqM9h",
        "outputId": "ca68b039-f3c2-410d-ee57-ba69d403e705"
      },
      "execution_count": 323,
      "outputs": [
        {
          "output_type": "stream",
          "name": "stdout",
          "text": [
            "*** Test Accuracy *** \n",
            "   0.9298245614035088\n",
            "\n",
            "*** Confusion Matrix *** \n",
            " [[67  3]\n",
            " [ 5 39]]\n",
            "*** Confusion Matrix(precision) ***\n",
            "0.9295634920634921\n",
            "***classification re(precision) ***\n",
            "              precision    recall  f1-score   support\n",
            "\n",
            "           B       0.93      0.96      0.94        70\n",
            "           M       0.93      0.89      0.91        44\n",
            "\n",
            "    accuracy                           0.93       114\n",
            "   macro avg       0.93      0.92      0.93       114\n",
            "weighted avg       0.93      0.93      0.93       114\n",
            "\n"
          ]
        }
      ]
    },
    {
      "cell_type": "markdown",
      "source": [
        "## 정상이 74명인데, 71명만 정상, 3명은 암환자\n",
        "## 암환자가 40명인데 39명만 암환자, 1명은 정상\n",
        "recall(재현율) 이 softvoting보다 높은편.\n",
        "softvoting model보다는 bagging모델을 선택하는것이 좋다. "
      ],
      "metadata": {
        "id": "-DWWG_olv4Xq"
      }
    },
    {
      "cell_type": "code",
      "source": [
        "print_test_metrics(soft_voting_clf, X_test)"
      ],
      "metadata": {
        "colab": {
          "base_uri": "https://localhost:8080/"
        },
        "id": "Z7zqxohjqjlJ",
        "outputId": "523fe324-8e0f-4ba6-f298-a36232fd840b"
      },
      "execution_count": 326,
      "outputs": [
        {
          "output_type": "stream",
          "name": "stdout",
          "text": [
            "*** Test Accuracy *** \n",
            "   0.9035087719298246\n",
            "\n",
            "*** Confusion Matrix *** \n",
            " [[66  4]\n",
            " [ 7 37]]\n",
            "*** Confusion Matrix(precision) ***\n",
            "0.9032743067156699\n",
            "***classification re(precision) ***\n",
            "              precision    recall  f1-score   support\n",
            "\n",
            "           B       0.90      0.94      0.92        70\n",
            "           M       0.90      0.84      0.87        44\n",
            "\n",
            "    accuracy                           0.90       114\n",
            "   macro avg       0.90      0.89      0.90       114\n",
            "weighted avg       0.90      0.90      0.90       114\n",
            "\n"
          ]
        }
      ]
    },
    {
      "cell_type": "code",
      "source": [
        "print_test_metrics(hard_voting_clf, X_test)"
      ],
      "metadata": {
        "colab": {
          "base_uri": "https://localhost:8080/"
        },
        "id": "n3RbI6HLqkUZ",
        "outputId": "c3605347-5c74-4c9e-d795-558deaeed8fc"
      },
      "execution_count": 327,
      "outputs": [
        {
          "output_type": "stream",
          "name": "stdout",
          "text": [
            "*** Test Accuracy *** \n",
            "   0.6140350877192983\n",
            "\n",
            "*** Confusion Matrix *** \n",
            " [[70  0]\n",
            " [44  0]]\n",
            "*** Confusion Matrix(precision) ***\n",
            "0.30701754385964913\n",
            "***classification re(precision) ***\n",
            "              precision    recall  f1-score   support\n",
            "\n",
            "           B       0.61      1.00      0.76        70\n",
            "           M       0.00      0.00      0.00        44\n",
            "\n",
            "    accuracy                           0.61       114\n",
            "   macro avg       0.31      0.50      0.38       114\n",
            "weighted avg       0.38      0.61      0.47       114\n",
            "\n"
          ]
        }
      ]
    },
    {
      "cell_type": "code",
      "source": [
        "from sklearn.ensemble import GradientBoostingClassifier\n",
        "from sklearn.ensemble import HistGradientBoostingClassifier\n",
        "from xgboost import XGBClassifier\n",
        "from lightgbm import LGBMClassifier\n"
      ],
      "metadata": {
        "id": "uIXPSZ-VrJnB"
      },
      "execution_count": 328,
      "outputs": []
    },
    {
      "cell_type": "code",
      "source": [
        "gbc=GradientBoostingClassifier(random_state=42).fit(X_train, y_train)\n",
        "hist=HistGradientBoostingClassifier(random_state=42).fit(X_train, y_train)\n",
        "xgb=XGBClassifier(random_state=42,).fit(X_train, y_train)\n",
        "lgbm=LGBMClassifier(random_state=42).fit(X_train, y_train)"
      ],
      "metadata": {
        "id": "yoPEkPmlxydw"
      },
      "execution_count": 330,
      "outputs": []
    },
    {
      "cell_type": "code",
      "source": [
        "gbc_p = gbc.predict(X_test)\n",
        "hist_p = hist.predict(X_test)\n",
        "xgb_p = xgb.predict(X_test)\n",
        "lgbm_p = lgbm.predict(X_test)\n",
        "lgbm_p ,xgb_p, hist_p, gbc_p"
      ],
      "metadata": {
        "colab": {
          "base_uri": "https://localhost:8080/"
        },
        "id": "8ikltSrmyD_X",
        "outputId": "67180e33-d256-42cc-ca31-6abb19192917"
      },
      "execution_count": 331,
      "outputs": [
        {
          "output_type": "execute_result",
          "data": {
            "text/plain": [
              "(array(['B', 'B', 'B', 'B', 'M', 'B', 'B', 'M', 'M', 'M', 'M', 'M', 'M',\n",
              "        'M', 'B', 'B', 'B', 'M', 'B', 'B', 'B', 'M', 'B', 'M', 'B', 'M',\n",
              "        'M', 'B', 'B', 'B', 'M', 'B', 'B', 'B', 'B', 'M', 'B', 'M', 'M',\n",
              "        'B', 'M', 'M', 'B', 'B', 'B', 'B', 'B', 'M', 'B', 'M', 'B', 'B',\n",
              "        'B', 'B', 'B', 'M', 'M', 'B', 'M', 'B', 'B', 'B', 'B', 'M', 'B',\n",
              "        'M', 'M', 'M', 'B', 'B', 'B', 'B', 'B', 'M', 'B', 'M', 'M', 'B',\n",
              "        'M', 'M', 'B', 'B', 'B', 'M', 'M', 'B', 'B', 'M', 'M', 'M', 'M',\n",
              "        'B', 'M', 'B', 'B', 'B', 'B', 'B', 'B', 'B', 'B', 'B', 'M', 'B',\n",
              "        'B', 'M', 'B', 'B', 'B', 'B', 'B', 'M', 'M', 'B'], dtype=object),\n",
              " array(['B', 'B', 'B', 'B', 'M', 'B', 'B', 'M', 'M', 'M', 'M', 'M', 'M',\n",
              "        'M', 'B', 'M', 'B', 'M', 'B', 'B', 'B', 'M', 'B', 'M', 'B', 'B',\n",
              "        'M', 'M', 'B', 'B', 'M', 'B', 'B', 'B', 'B', 'M', 'B', 'M', 'M',\n",
              "        'B', 'M', 'M', 'B', 'B', 'B', 'B', 'B', 'M', 'B', 'B', 'B', 'B',\n",
              "        'B', 'B', 'B', 'M', 'M', 'B', 'M', 'B', 'B', 'B', 'B', 'M', 'B',\n",
              "        'M', 'M', 'M', 'B', 'B', 'B', 'B', 'B', 'B', 'B', 'B', 'M', 'B',\n",
              "        'M', 'M', 'B', 'B', 'B', 'M', 'M', 'B', 'B', 'M', 'M', 'M', 'M',\n",
              "        'B', 'M', 'B', 'B', 'B', 'B', 'B', 'B', 'B', 'B', 'B', 'M', 'B',\n",
              "        'B', 'M', 'B', 'B', 'B', 'B', 'B', 'M', 'M', 'B'], dtype=object),\n",
              " array(['B', 'B', 'B', 'B', 'M', 'B', 'B', 'M', 'M', 'M', 'M', 'M', 'M',\n",
              "        'M', 'B', 'M', 'B', 'M', 'B', 'B', 'B', 'M', 'B', 'M', 'B', 'M',\n",
              "        'M', 'M', 'B', 'B', 'M', 'B', 'B', 'B', 'B', 'M', 'B', 'M', 'M',\n",
              "        'B', 'M', 'M', 'B', 'B', 'B', 'B', 'B', 'M', 'B', 'M', 'B', 'B',\n",
              "        'B', 'B', 'B', 'M', 'M', 'B', 'M', 'B', 'B', 'B', 'B', 'M', 'B',\n",
              "        'M', 'M', 'M', 'B', 'B', 'B', 'B', 'B', 'B', 'B', 'M', 'M', 'B',\n",
              "        'M', 'M', 'B', 'B', 'B', 'M', 'M', 'B', 'B', 'M', 'M', 'M', 'M',\n",
              "        'B', 'M', 'B', 'B', 'B', 'B', 'B', 'B', 'B', 'B', 'B', 'M', 'B',\n",
              "        'B', 'M', 'B', 'B', 'B', 'B', 'B', 'M', 'M', 'B'], dtype=object),\n",
              " array(['B', 'B', 'B', 'B', 'M', 'B', 'B', 'M', 'M', 'M', 'M', 'M', 'M',\n",
              "        'M', 'B', 'B', 'B', 'M', 'B', 'B', 'B', 'M', 'B', 'M', 'B', 'B',\n",
              "        'M', 'B', 'B', 'B', 'M', 'B', 'B', 'B', 'B', 'M', 'B', 'M', 'M',\n",
              "        'B', 'M', 'M', 'B', 'B', 'B', 'B', 'B', 'M', 'B', 'B', 'B', 'B',\n",
              "        'B', 'B', 'B', 'M', 'M', 'B', 'M', 'B', 'B', 'B', 'B', 'M', 'B',\n",
              "        'M', 'M', 'M', 'B', 'B', 'B', 'B', 'B', 'B', 'B', 'B', 'M', 'B',\n",
              "        'M', 'M', 'B', 'B', 'B', 'M', 'M', 'B', 'B', 'M', 'M', 'M', 'M',\n",
              "        'B', 'M', 'B', 'B', 'B', 'B', 'B', 'B', 'B', 'B', 'B', 'M', 'B',\n",
              "        'B', 'M', 'B', 'B', 'B', 'B', 'B', 'M', 'M', 'B'], dtype=object))"
            ]
          },
          "metadata": {},
          "execution_count": 331
        }
      ]
    },
    {
      "cell_type": "code",
      "source": [
        "print(\"[accuarcy]\")\n",
        "print(\"gbc: \",accuracy_score(y_test, gbc_p))\n",
        "print(\"svm   : \",accuracy_score(y_test,hist_p))\n",
        "print(\"xgb   : \",accuracy_score(y_test, xgb_p))\n",
        "print(\"lgbm   : \",accuracy_score(y_test, lgbm_p))\n"
      ],
      "metadata": {
        "colab": {
          "base_uri": "https://localhost:8080/"
        },
        "id": "QHfADQsZzMzI",
        "outputId": "4744a3d0-0deb-4261-9cdf-5162e33f01ad"
      },
      "execution_count": 332,
      "outputs": [
        {
          "output_type": "stream",
          "name": "stdout",
          "text": [
            "[accuarcy]\n",
            "gbc:  0.9473684210526315\n",
            "svm   :  0.956140350877193\n",
            "xgb   :  0.9473684210526315\n",
            "lgbm   :  0.9649122807017544\n"
          ]
        }
      ]
    },
    {
      "cell_type": "code",
      "source": [
        "x = np.arange(4)\n",
        "plt.bar(x, height= [\n",
        "                    accuracy_score(y_test, gbc_p),\n",
        "                    accuracy_score(y_test,hist_p),\n",
        "                    accuracy_score(y_test, xgb_p),\n",
        "                    accuracy_score(y_test, lgbm_p)\n",
        "            ])\n",
        "plt.xticks(x, ['gbc','svm', 'xgb','lgbm' ]);"
      ],
      "metadata": {
        "colab": {
          "base_uri": "https://localhost:8080/",
          "height": 267
        },
        "id": "-NHL-qtHziDQ",
        "outputId": "c3d03524-68a0-431c-d4f7-8c5960a3b850"
      },
      "execution_count": 333,
      "outputs": [
        {
          "output_type": "display_data",
          "data": {
            "text/plain": [
              "<Figure size 432x288 with 1 Axes>"
            ],
            "image/png": "[encoded data removed]"
          },
          "metadata": {
            "needs_background": "light"
          }
        }
      ]
    }
  ]
}
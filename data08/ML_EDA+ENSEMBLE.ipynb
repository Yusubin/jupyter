{
 "cells": [
  {
   "cell_type": "code",
   "execution_count": 109,
   "metadata": {
    "colab": {
     "base_uri": "https://localhost:8080/"
    },
    "id": "V7fITryoPeZu",
    "outputId": "13cb5987-844f-490b-84f8-6d1d9eab2bbb"
   },
   "outputs": [],
   "source": [
    "# !sudo apt-get install -y fonts-nanum\n",
    "# !sudo fc-cache -fv\n",
    "# !rm ~/.cache/matplotlib -rf"
   ]
  },
  {
   "cell_type": "code",
   "execution_count": 110,
   "metadata": {},
   "outputs": [],
   "source": [
    "import warnings\n",
    "warnings.filterwarnings('ignore')"
   ]
  },
  {
   "cell_type": "code",
   "execution_count": 111,
   "metadata": {
    "id": "ZnqvfURp4qTd"
   },
   "outputs": [],
   "source": [
    "## 분류 싱글\n",
    "from sklearn.tree import DecisionTreeClassifier\n",
    "from sklearn.neighbors import KNeighborsClassifier\n",
    "from sklearn.svm import SVC\n",
    "from sklearn.ensemble import VotingClassifier\n",
    "from sklearn.model_selection import train_test_split\n",
    "from sklearn.metrics import accuracy_score\n",
    "from sklearn.linear_model import LogisticRegression\n",
    "from sklearn.ensemble import RandomForestClassifier\n",
    "from sklearn.model_selection import cross_validate\n",
    "from sklearn.neighbors import KNeighborsClassifier\n",
    "from sklearn.model_selection import cross_val_score\n",
    "from sklearn.metrics import *\n",
    "from sklearn.model_selection import train_test_split\n",
    "from sklearn.model_selection import GridSearchCV\n",
    "from sklearn.preprocessing import LabelEncoder\n",
    "import pandas as pd\n",
    "import numpy as np\n",
    "import seaborn as sns\n",
    "from pandas.plotting import parallel_coordinates\n",
    "import matplotlib.pyplot as plt\n",
    "from matplotlib import rc\n",
    "import matplotlib.font_manager as fm\n",
    "from sklearn.datasets import fetch_openml\n",
    "from sklearn.model_selection import train_test_split\n",
    "from IPython.display import Image\n",
    "# sklearn 모델의 동일한 결과 출력을 위해 선언합니다.\n",
    "import numpy as np\n",
    "np.random.seed(5)\n",
    "import matplotlib.pyplot as plt\n",
    "plt.rc('font', family='NanumBarunGothic')\n",
    "fm._rebuild()\n",
    "fm.get_fontconfig_fonts()\n",
    "\n",
    "# 디렉토리 및 파일 이름에 맞추어 변경\n",
    "font_location = '../NanumSquareRoundEB.ttf'\n",
    "font_name = fm.FontProperties(fname=font_location).get_name()\n",
    "rc('font', family=font_name)\n",
    "\n"
   ]
  },
  {
   "cell_type": "code",
   "execution_count": 112,
   "metadata": {
    "colab": {
     "base_uri": "https://localhost:8080/",
     "height": 424
    },
    "id": "DMXupgmT5AxQ",
    "outputId": "3ab351b2-6508-4cde-e65d-798a75e98244"
   },
   "outputs": [
    {
     "data": {
      "text/html": [
       "<div>\n",
       "<style scoped>\n",
       "    .dataframe tbody tr th:only-of-type {\n",
       "        vertical-align: middle;\n",
       "    }\n",
       "\n",
       "    .dataframe tbody tr th {\n",
       "        vertical-align: top;\n",
       "    }\n",
       "\n",
       "    .dataframe thead th {\n",
       "        text-align: right;\n",
       "    }\n",
       "</style>\n",
       "<table border=\"1\" class=\"dataframe\">\n",
       "  <thead>\n",
       "    <tr style=\"text-align: right;\">\n",
       "      <th></th>\n",
       "      <th>CRI_YM</th>\n",
       "      <th>TAG</th>\n",
       "      <th>평일휴일</th>\n",
       "      <th>요일</th>\n",
       "      <th>시간대</th>\n",
       "      <th>성별</th>\n",
       "      <th>연령대</th>\n",
       "      <th>인터넷 쇼핑 이용자 비율 (%)</th>\n",
       "      <th>월 평균 구매빈도-1회 미만 (%)</th>\n",
       "      <th>월 평균 구매빈도-1~2회 미만 (%)</th>\n",
       "      <th>월 평균 구매빈도-2~3회 미만 (%)</th>\n",
       "      <th>월 평균 구매빈도-3회 이상 (%)</th>\n",
       "      <th>월 평균 구매빈도-평균 (회)</th>\n",
       "      <th>건수합계</th>\n",
       "      <th>네이버 태그 클릭량</th>\n",
       "    </tr>\n",
       "  </thead>\n",
       "  <tbody>\n",
       "    <tr>\n",
       "      <td>0</td>\n",
       "      <td>NaN</td>\n",
       "      <td>NaN</td>\n",
       "      <td>NaN</td>\n",
       "      <td>NaN</td>\n",
       "      <td>NaN</td>\n",
       "      <td>NaN</td>\n",
       "      <td>NaN</td>\n",
       "      <td>NaN</td>\n",
       "      <td>NaN</td>\n",
       "      <td>NaN</td>\n",
       "      <td>NaN</td>\n",
       "      <td>NaN</td>\n",
       "      <td>NaN</td>\n",
       "      <td>NaN</td>\n",
       "      <td>NaN</td>\n",
       "    </tr>\n",
       "    <tr>\n",
       "      <td>1</td>\n",
       "      <td>2020.0</td>\n",
       "      <td>생활/사무용품</td>\n",
       "      <td>평일</td>\n",
       "      <td>월</td>\n",
       "      <td>D.14-18시</td>\n",
       "      <td>M</td>\n",
       "      <td>C.4O대</td>\n",
       "      <td>66.7</td>\n",
       "      <td>28.3</td>\n",
       "      <td>17.9</td>\n",
       "      <td>21.0</td>\n",
       "      <td>32.8</td>\n",
       "      <td>2.9</td>\n",
       "      <td>6225.0</td>\n",
       "      <td>21.0</td>\n",
       "    </tr>\n",
       "    <tr>\n",
       "      <td>2</td>\n",
       "      <td>NaN</td>\n",
       "      <td>NaN</td>\n",
       "      <td>NaN</td>\n",
       "      <td>NaN</td>\n",
       "      <td>NaN</td>\n",
       "      <td>NaN</td>\n",
       "      <td>NaN</td>\n",
       "      <td>NaN</td>\n",
       "      <td>NaN</td>\n",
       "      <td>NaN</td>\n",
       "      <td>NaN</td>\n",
       "      <td>NaN</td>\n",
       "      <td>NaN</td>\n",
       "      <td>NaN</td>\n",
       "      <td>NaN</td>\n",
       "    </tr>\n",
       "    <tr>\n",
       "      <td>3</td>\n",
       "      <td>2021.0</td>\n",
       "      <td>화장품</td>\n",
       "      <td>휴일</td>\n",
       "      <td>일</td>\n",
       "      <td>D.14-18시</td>\n",
       "      <td>F</td>\n",
       "      <td>C.4O대</td>\n",
       "      <td>89.8</td>\n",
       "      <td>9.3</td>\n",
       "      <td>14.9</td>\n",
       "      <td>17.6</td>\n",
       "      <td>58.2</td>\n",
       "      <td>5.3</td>\n",
       "      <td>3564.0</td>\n",
       "      <td>154.0</td>\n",
       "    </tr>\n",
       "    <tr>\n",
       "      <td>4</td>\n",
       "      <td>2020.0</td>\n",
       "      <td>인테리어</td>\n",
       "      <td>평일</td>\n",
       "      <td>월</td>\n",
       "      <td>C.10-14시</td>\n",
       "      <td>F</td>\n",
       "      <td>D.5O대</td>\n",
       "      <td>46.3</td>\n",
       "      <td>28.2</td>\n",
       "      <td>14.1</td>\n",
       "      <td>20.2</td>\n",
       "      <td>37.4</td>\n",
       "      <td>3.4</td>\n",
       "      <td>1101.0</td>\n",
       "      <td>33.0</td>\n",
       "    </tr>\n",
       "    <tr>\n",
       "      <td>...</td>\n",
       "      <td>...</td>\n",
       "      <td>...</td>\n",
       "      <td>...</td>\n",
       "      <td>...</td>\n",
       "      <td>...</td>\n",
       "      <td>...</td>\n",
       "      <td>...</td>\n",
       "      <td>...</td>\n",
       "      <td>...</td>\n",
       "      <td>...</td>\n",
       "      <td>...</td>\n",
       "      <td>...</td>\n",
       "      <td>...</td>\n",
       "      <td>...</td>\n",
       "      <td>...</td>\n",
       "    </tr>\n",
       "    <tr>\n",
       "      <td>21551</td>\n",
       "      <td>2019.0</td>\n",
       "      <td>패션</td>\n",
       "      <td>휴일</td>\n",
       "      <td>수</td>\n",
       "      <td>F.22-02시</td>\n",
       "      <td>M</td>\n",
       "      <td>C.4O대</td>\n",
       "      <td>66.8</td>\n",
       "      <td>17.1</td>\n",
       "      <td>23.2</td>\n",
       "      <td>20.0</td>\n",
       "      <td>39.7</td>\n",
       "      <td>2.9</td>\n",
       "      <td>796.0</td>\n",
       "      <td>176.0</td>\n",
       "    </tr>\n",
       "    <tr>\n",
       "      <td>21552</td>\n",
       "      <td>2019.0</td>\n",
       "      <td>패션</td>\n",
       "      <td>평일</td>\n",
       "      <td>월</td>\n",
       "      <td>F.22-02시</td>\n",
       "      <td>M</td>\n",
       "      <td>C.4O대</td>\n",
       "      <td>66.8</td>\n",
       "      <td>17.1</td>\n",
       "      <td>23.2</td>\n",
       "      <td>20.0</td>\n",
       "      <td>39.7</td>\n",
       "      <td>2.9</td>\n",
       "      <td>2470.0</td>\n",
       "      <td>157.0</td>\n",
       "    </tr>\n",
       "    <tr>\n",
       "      <td>21553</td>\n",
       "      <td>NaN</td>\n",
       "      <td>NaN</td>\n",
       "      <td>NaN</td>\n",
       "      <td>NaN</td>\n",
       "      <td>NaN</td>\n",
       "      <td>NaN</td>\n",
       "      <td>NaN</td>\n",
       "      <td>NaN</td>\n",
       "      <td>NaN</td>\n",
       "      <td>NaN</td>\n",
       "      <td>NaN</td>\n",
       "      <td>NaN</td>\n",
       "      <td>NaN</td>\n",
       "      <td>NaN</td>\n",
       "      <td>NaN</td>\n",
       "    </tr>\n",
       "    <tr>\n",
       "      <td>21554</td>\n",
       "      <td>NaN</td>\n",
       "      <td>NaN</td>\n",
       "      <td>NaN</td>\n",
       "      <td>NaN</td>\n",
       "      <td>NaN</td>\n",
       "      <td>NaN</td>\n",
       "      <td>NaN</td>\n",
       "      <td>NaN</td>\n",
       "      <td>NaN</td>\n",
       "      <td>NaN</td>\n",
       "      <td>NaN</td>\n",
       "      <td>NaN</td>\n",
       "      <td>NaN</td>\n",
       "      <td>NaN</td>\n",
       "      <td>NaN</td>\n",
       "    </tr>\n",
       "    <tr>\n",
       "      <td>21555</td>\n",
       "      <td>2021.0</td>\n",
       "      <td>인테리어</td>\n",
       "      <td>평일</td>\n",
       "      <td>화</td>\n",
       "      <td>C.10-14시</td>\n",
       "      <td>F</td>\n",
       "      <td>E.60대이상</td>\n",
       "      <td>31.7</td>\n",
       "      <td>11.0</td>\n",
       "      <td>18.7</td>\n",
       "      <td>19.6</td>\n",
       "      <td>50.7</td>\n",
       "      <td>4.1</td>\n",
       "      <td>415.0</td>\n",
       "      <td>25.0</td>\n",
       "    </tr>\n",
       "  </tbody>\n",
       "</table>\n",
       "<p>21556 rows × 15 columns</p>\n",
       "</div>"
      ],
      "text/plain": [
       "       CRI_YM      TAG 평일휴일   요일       시간대   성별      연령대  인터넷 쇼핑 이용자 비율 (%)  \\\n",
       "0         NaN      NaN  NaN  NaN       NaN  NaN      NaN                NaN   \n",
       "1      2020.0  생활/사무용품   평일    월  D.14-18시    M    C.4O대               66.7   \n",
       "2         NaN      NaN  NaN  NaN       NaN  NaN      NaN                NaN   \n",
       "3      2021.0      화장품   휴일    일  D.14-18시    F    C.4O대               89.8   \n",
       "4      2020.0     인테리어   평일    월  C.10-14시    F    D.5O대               46.3   \n",
       "...       ...      ...  ...  ...       ...  ...      ...                ...   \n",
       "21551  2019.0       패션   휴일    수  F.22-02시    M    C.4O대               66.8   \n",
       "21552  2019.0       패션   평일    월  F.22-02시    M    C.4O대               66.8   \n",
       "21553     NaN      NaN  NaN  NaN       NaN  NaN      NaN                NaN   \n",
       "21554     NaN      NaN  NaN  NaN       NaN  NaN      NaN                NaN   \n",
       "21555  2021.0     인테리어   평일    화  C.10-14시    F  E.60대이상               31.7   \n",
       "\n",
       "       월 평균 구매빈도-1회 미만 (%)  월 평균 구매빈도-1~2회 미만 (%)  월 평균 구매빈도-2~3회 미만 (%)  \\\n",
       "0                      NaN                    NaN                    NaN   \n",
       "1                     28.3                   17.9                   21.0   \n",
       "2                      NaN                    NaN                    NaN   \n",
       "3                      9.3                   14.9                   17.6   \n",
       "4                     28.2                   14.1                   20.2   \n",
       "...                    ...                    ...                    ...   \n",
       "21551                 17.1                   23.2                   20.0   \n",
       "21552                 17.1                   23.2                   20.0   \n",
       "21553                  NaN                    NaN                    NaN   \n",
       "21554                  NaN                    NaN                    NaN   \n",
       "21555                 11.0                   18.7                   19.6   \n",
       "\n",
       "       월 평균 구매빈도-3회 이상 (%)  월 평균 구매빈도-평균 (회)    건수합계  네이버 태그 클릭량  \n",
       "0                      NaN               NaN     NaN         NaN  \n",
       "1                     32.8               2.9  6225.0        21.0  \n",
       "2                      NaN               NaN     NaN         NaN  \n",
       "3                     58.2               5.3  3564.0       154.0  \n",
       "4                     37.4               3.4  1101.0        33.0  \n",
       "...                    ...               ...     ...         ...  \n",
       "21551                 39.7               2.9   796.0       176.0  \n",
       "21552                 39.7               2.9  2470.0       157.0  \n",
       "21553                  NaN               NaN     NaN         NaN  \n",
       "21554                  NaN               NaN     NaN         NaN  \n",
       "21555                 50.7               4.1   415.0        25.0  \n",
       "\n",
       "[21556 rows x 15 columns]"
      ]
     },
     "execution_count": 112,
     "metadata": {},
     "output_type": "execute_result"
    }
   ],
   "source": [
    "df=pd.read_excel('../csv-data/쇼핑몰_최종2.xlsx')\n",
    "df"
   ]
  },
  {
   "cell_type": "code",
   "execution_count": 113,
   "metadata": {},
   "outputs": [],
   "source": [
    "df=df.dropna()"
   ]
  },
  {
   "cell_type": "code",
   "execution_count": 114,
   "metadata": {},
   "outputs": [
    {
     "data": {
      "text/html": [
       "<div>\n",
       "<style scoped>\n",
       "    .dataframe tbody tr th:only-of-type {\n",
       "        vertical-align: middle;\n",
       "    }\n",
       "\n",
       "    .dataframe tbody tr th {\n",
       "        vertical-align: top;\n",
       "    }\n",
       "\n",
       "    .dataframe thead th {\n",
       "        text-align: right;\n",
       "    }\n",
       "</style>\n",
       "<table border=\"1\" class=\"dataframe\">\n",
       "  <thead>\n",
       "    <tr style=\"text-align: right;\">\n",
       "      <th></th>\n",
       "      <th>CRI_YM</th>\n",
       "      <th>TAG</th>\n",
       "      <th>평일휴일</th>\n",
       "      <th>요일</th>\n",
       "      <th>시간대</th>\n",
       "      <th>성별</th>\n",
       "      <th>연령대</th>\n",
       "      <th>인터넷 쇼핑 이용자 비율 (%)</th>\n",
       "      <th>월 평균 구매빈도-1회 미만 (%)</th>\n",
       "      <th>월 평균 구매빈도-1~2회 미만 (%)</th>\n",
       "      <th>월 평균 구매빈도-2~3회 미만 (%)</th>\n",
       "      <th>월 평균 구매빈도-3회 이상 (%)</th>\n",
       "      <th>월 평균 구매빈도-평균 (회)</th>\n",
       "      <th>건수합계</th>\n",
       "      <th>네이버 태그 클릭량</th>\n",
       "    </tr>\n",
       "  </thead>\n",
       "  <tbody>\n",
       "    <tr>\n",
       "      <td>1</td>\n",
       "      <td>2020.0</td>\n",
       "      <td>생활/사무용품</td>\n",
       "      <td>평일</td>\n",
       "      <td>월</td>\n",
       "      <td>D.14-18시</td>\n",
       "      <td>M</td>\n",
       "      <td>C.4O대</td>\n",
       "      <td>66.7</td>\n",
       "      <td>28.3</td>\n",
       "      <td>17.9</td>\n",
       "      <td>21.0</td>\n",
       "      <td>32.8</td>\n",
       "      <td>2.9</td>\n",
       "      <td>6225.0</td>\n",
       "      <td>21.0</td>\n",
       "    </tr>\n",
       "    <tr>\n",
       "      <td>3</td>\n",
       "      <td>2021.0</td>\n",
       "      <td>화장품</td>\n",
       "      <td>휴일</td>\n",
       "      <td>일</td>\n",
       "      <td>D.14-18시</td>\n",
       "      <td>F</td>\n",
       "      <td>C.4O대</td>\n",
       "      <td>89.8</td>\n",
       "      <td>9.3</td>\n",
       "      <td>14.9</td>\n",
       "      <td>17.6</td>\n",
       "      <td>58.2</td>\n",
       "      <td>5.3</td>\n",
       "      <td>3564.0</td>\n",
       "      <td>154.0</td>\n",
       "    </tr>\n",
       "    <tr>\n",
       "      <td>4</td>\n",
       "      <td>2020.0</td>\n",
       "      <td>인테리어</td>\n",
       "      <td>평일</td>\n",
       "      <td>월</td>\n",
       "      <td>C.10-14시</td>\n",
       "      <td>F</td>\n",
       "      <td>D.5O대</td>\n",
       "      <td>46.3</td>\n",
       "      <td>28.2</td>\n",
       "      <td>14.1</td>\n",
       "      <td>20.2</td>\n",
       "      <td>37.4</td>\n",
       "      <td>3.4</td>\n",
       "      <td>1101.0</td>\n",
       "      <td>33.0</td>\n",
       "    </tr>\n",
       "    <tr>\n",
       "      <td>5</td>\n",
       "      <td>2019.0</td>\n",
       "      <td>식료품</td>\n",
       "      <td>평일</td>\n",
       "      <td>월</td>\n",
       "      <td>B.06-10시</td>\n",
       "      <td>M</td>\n",
       "      <td>E.60대이상</td>\n",
       "      <td>20.3</td>\n",
       "      <td>20.8</td>\n",
       "      <td>21.4</td>\n",
       "      <td>12.3</td>\n",
       "      <td>45.4</td>\n",
       "      <td>3.2</td>\n",
       "      <td>171.0</td>\n",
       "      <td>61.0</td>\n",
       "    </tr>\n",
       "    <tr>\n",
       "      <td>11</td>\n",
       "      <td>2019.0</td>\n",
       "      <td>취미용품</td>\n",
       "      <td>휴일</td>\n",
       "      <td>월</td>\n",
       "      <td>D.14-18시</td>\n",
       "      <td>F</td>\n",
       "      <td>E.60대이상</td>\n",
       "      <td>14.5</td>\n",
       "      <td>24.4</td>\n",
       "      <td>27.1</td>\n",
       "      <td>12.9</td>\n",
       "      <td>35.5</td>\n",
       "      <td>2.7</td>\n",
       "      <td>10.0</td>\n",
       "      <td>32.0</td>\n",
       "    </tr>\n",
       "    <tr>\n",
       "      <td>...</td>\n",
       "      <td>...</td>\n",
       "      <td>...</td>\n",
       "      <td>...</td>\n",
       "      <td>...</td>\n",
       "      <td>...</td>\n",
       "      <td>...</td>\n",
       "      <td>...</td>\n",
       "      <td>...</td>\n",
       "      <td>...</td>\n",
       "      <td>...</td>\n",
       "      <td>...</td>\n",
       "      <td>...</td>\n",
       "      <td>...</td>\n",
       "      <td>...</td>\n",
       "      <td>...</td>\n",
       "    </tr>\n",
       "    <tr>\n",
       "      <td>21549</td>\n",
       "      <td>2019.0</td>\n",
       "      <td>인테리어</td>\n",
       "      <td>휴일</td>\n",
       "      <td>일</td>\n",
       "      <td>D.14-18시</td>\n",
       "      <td>M</td>\n",
       "      <td>A.2O대</td>\n",
       "      <td>94.3</td>\n",
       "      <td>13.2</td>\n",
       "      <td>20.4</td>\n",
       "      <td>22.1</td>\n",
       "      <td>44.2</td>\n",
       "      <td>2.9</td>\n",
       "      <td>233.0</td>\n",
       "      <td>58.0</td>\n",
       "    </tr>\n",
       "    <tr>\n",
       "      <td>21550</td>\n",
       "      <td>2020.0</td>\n",
       "      <td>식료품</td>\n",
       "      <td>휴일</td>\n",
       "      <td>금</td>\n",
       "      <td>B.06-10시</td>\n",
       "      <td>M</td>\n",
       "      <td>C.4O대</td>\n",
       "      <td>66.7</td>\n",
       "      <td>28.3</td>\n",
       "      <td>17.9</td>\n",
       "      <td>21.0</td>\n",
       "      <td>32.8</td>\n",
       "      <td>2.9</td>\n",
       "      <td>430.0</td>\n",
       "      <td>68.0</td>\n",
       "    </tr>\n",
       "    <tr>\n",
       "      <td>21551</td>\n",
       "      <td>2019.0</td>\n",
       "      <td>패션</td>\n",
       "      <td>휴일</td>\n",
       "      <td>수</td>\n",
       "      <td>F.22-02시</td>\n",
       "      <td>M</td>\n",
       "      <td>C.4O대</td>\n",
       "      <td>66.8</td>\n",
       "      <td>17.1</td>\n",
       "      <td>23.2</td>\n",
       "      <td>20.0</td>\n",
       "      <td>39.7</td>\n",
       "      <td>2.9</td>\n",
       "      <td>796.0</td>\n",
       "      <td>176.0</td>\n",
       "    </tr>\n",
       "    <tr>\n",
       "      <td>21552</td>\n",
       "      <td>2019.0</td>\n",
       "      <td>패션</td>\n",
       "      <td>평일</td>\n",
       "      <td>월</td>\n",
       "      <td>F.22-02시</td>\n",
       "      <td>M</td>\n",
       "      <td>C.4O대</td>\n",
       "      <td>66.8</td>\n",
       "      <td>17.1</td>\n",
       "      <td>23.2</td>\n",
       "      <td>20.0</td>\n",
       "      <td>39.7</td>\n",
       "      <td>2.9</td>\n",
       "      <td>2470.0</td>\n",
       "      <td>157.0</td>\n",
       "    </tr>\n",
       "    <tr>\n",
       "      <td>21555</td>\n",
       "      <td>2021.0</td>\n",
       "      <td>인테리어</td>\n",
       "      <td>평일</td>\n",
       "      <td>화</td>\n",
       "      <td>C.10-14시</td>\n",
       "      <td>F</td>\n",
       "      <td>E.60대이상</td>\n",
       "      <td>31.7</td>\n",
       "      <td>11.0</td>\n",
       "      <td>18.7</td>\n",
       "      <td>19.6</td>\n",
       "      <td>50.7</td>\n",
       "      <td>4.1</td>\n",
       "      <td>415.0</td>\n",
       "      <td>25.0</td>\n",
       "    </tr>\n",
       "  </tbody>\n",
       "</table>\n",
       "<p>10885 rows × 15 columns</p>\n",
       "</div>"
      ],
      "text/plain": [
       "       CRI_YM      TAG 평일휴일 요일       시간대 성별      연령대  인터넷 쇼핑 이용자 비율 (%)  \\\n",
       "1      2020.0  생활/사무용품   평일  월  D.14-18시  M    C.4O대               66.7   \n",
       "3      2021.0      화장품   휴일  일  D.14-18시  F    C.4O대               89.8   \n",
       "4      2020.0     인테리어   평일  월  C.10-14시  F    D.5O대               46.3   \n",
       "5      2019.0      식료품   평일  월  B.06-10시  M  E.60대이상               20.3   \n",
       "11     2019.0     취미용품   휴일  월  D.14-18시  F  E.60대이상               14.5   \n",
       "...       ...      ...  ... ..       ... ..      ...                ...   \n",
       "21549  2019.0     인테리어   휴일  일  D.14-18시  M    A.2O대               94.3   \n",
       "21550  2020.0      식료품   휴일  금  B.06-10시  M    C.4O대               66.7   \n",
       "21551  2019.0       패션   휴일  수  F.22-02시  M    C.4O대               66.8   \n",
       "21552  2019.0       패션   평일  월  F.22-02시  M    C.4O대               66.8   \n",
       "21555  2021.0     인테리어   평일  화  C.10-14시  F  E.60대이상               31.7   \n",
       "\n",
       "       월 평균 구매빈도-1회 미만 (%)  월 평균 구매빈도-1~2회 미만 (%)  월 평균 구매빈도-2~3회 미만 (%)  \\\n",
       "1                     28.3                   17.9                   21.0   \n",
       "3                      9.3                   14.9                   17.6   \n",
       "4                     28.2                   14.1                   20.2   \n",
       "5                     20.8                   21.4                   12.3   \n",
       "11                    24.4                   27.1                   12.9   \n",
       "...                    ...                    ...                    ...   \n",
       "21549                 13.2                   20.4                   22.1   \n",
       "21550                 28.3                   17.9                   21.0   \n",
       "21551                 17.1                   23.2                   20.0   \n",
       "21552                 17.1                   23.2                   20.0   \n",
       "21555                 11.0                   18.7                   19.6   \n",
       "\n",
       "       월 평균 구매빈도-3회 이상 (%)  월 평균 구매빈도-평균 (회)    건수합계  네이버 태그 클릭량  \n",
       "1                     32.8               2.9  6225.0        21.0  \n",
       "3                     58.2               5.3  3564.0       154.0  \n",
       "4                     37.4               3.4  1101.0        33.0  \n",
       "5                     45.4               3.2   171.0        61.0  \n",
       "11                    35.5               2.7    10.0        32.0  \n",
       "...                    ...               ...     ...         ...  \n",
       "21549                 44.2               2.9   233.0        58.0  \n",
       "21550                 32.8               2.9   430.0        68.0  \n",
       "21551                 39.7               2.9   796.0       176.0  \n",
       "21552                 39.7               2.9  2470.0       157.0  \n",
       "21555                 50.7               4.1   415.0        25.0  \n",
       "\n",
       "[10885 rows x 15 columns]"
      ]
     },
     "execution_count": 114,
     "metadata": {},
     "output_type": "execute_result"
    }
   ],
   "source": [
    "df"
   ]
  },
  {
   "cell_type": "code",
   "execution_count": 115,
   "metadata": {
    "scrolled": true
   },
   "outputs": [
    {
     "name": "stdout",
     "output_type": "stream",
     "text": [
      "<class 'pandas.core.frame.DataFrame'>\n",
      "Int64Index: 10885 entries, 1 to 21555\n",
      "Data columns (total 15 columns):\n",
      "CRI_YM                   10885 non-null float64\n",
      "TAG                      10885 non-null object\n",
      "평일휴일                     10885 non-null object\n",
      "요일                       10885 non-null object\n",
      "시간대                      10885 non-null object\n",
      "성별                       10885 non-null object\n",
      "연령대                      10885 non-null object\n",
      "인터넷 쇼핑 이용자 비율 (%)        10885 non-null float64\n",
      "월 평균 구매빈도-1회 미만 (%)      10885 non-null float64\n",
      "월 평균 구매빈도-1~2회 미만 (%)    10885 non-null float64\n",
      "월 평균 구매빈도-2~3회 미만 (%)    10885 non-null float64\n",
      "월 평균 구매빈도-3회 이상 (%)      10885 non-null float64\n",
      "월 평균 구매빈도-평균 (회)         10885 non-null float64\n",
      "건수합계                     10885 non-null float64\n",
      "네이버 태그 클릭량               10885 non-null float64\n",
      "dtypes: float64(9), object(6)\n",
      "memory usage: 1.3+ MB\n"
     ]
    }
   ],
   "source": [
    "df.info()"
   ]
  },
  {
   "cell_type": "markdown",
   "metadata": {
    "id": "J9bjDLb6QFTV"
   },
   "source": [
    "### ***EDA***"
   ]
  },
  {
   "cell_type": "code",
   "execution_count": 116,
   "metadata": {},
   "outputs": [
    {
     "data": {
      "text/plain": [
       "<matplotlib.axes._subplots.AxesSubplot at 0x1b9c1cb0a48>"
      ]
     },
     "execution_count": 116,
     "metadata": {},
     "output_type": "execute_result"
    },
    {
     "data": {
      "image/png": "[encoded data removed]",
      "text/plain": [
       "<Figure size 432x288 with 1 Axes>"
      ]
     },
     "metadata": {
      "needs_background": "light"
     },
     "output_type": "display_data"
    }
   ],
   "source": [
    "y=df.groupby(['CRI_YM']).sum()\n",
    "y['건수합계'].plot()\n",
    "#코로나이후로 건수합계가 급격하게 증가함."
   ]
  },
  {
   "cell_type": "code",
   "execution_count": 117,
   "metadata": {},
   "outputs": [
    {
     "data": {
      "text/plain": [
       "CRI_YM  TAG    \n",
       "2019.0  생활/사무용품     759332.0\n",
       "        식료품         642621.0\n",
       "        애완용품         62621.0\n",
       "        인테리어        222600.0\n",
       "        취미용품         81663.0\n",
       "        패션         1218985.0\n",
       "        화장품         336232.0\n",
       "2020.0  생활/사무용품    1223749.0\n",
       "        식료품        1064161.0\n",
       "        애완용품         98877.0\n",
       "        인테리어        385761.0\n",
       "        취미용품        133832.0\n",
       "        패션         1615293.0\n",
       "        화장품         475860.0\n",
       "2021.0  생활/사무용품    1449176.0\n",
       "        식료품        1441522.0\n",
       "        애완용품        119223.0\n",
       "        인테리어        424541.0\n",
       "        취미용품        155575.0\n",
       "        패션         1789504.0\n",
       "        화장품         522447.0\n",
       "Name: 건수합계, dtype: float64"
      ]
     },
     "execution_count": 117,
     "metadata": {},
     "output_type": "execute_result"
    }
   ],
   "source": [
    "y_df=df.groupby(['CRI_YM','TAG'])['건수합계'].sum()   \n",
    "y_df"
   ]
  },
  {
   "cell_type": "code",
   "execution_count": 118,
   "metadata": {},
   "outputs": [
    {
     "data": {
      "text/plain": [
       "요일  시간대     \n",
       "금   A.02-06시     61492.0\n",
       "    B.06-10시    246468.0\n",
       "    C.10-14시    500170.0\n",
       "    D.14-18시    438259.0\n",
       "    E.18-22시    346409.0\n",
       "    F.22-02시    308988.0\n",
       "목   A.02-06시     64095.0\n",
       "    B.06-10시    256618.0\n",
       "    C.10-14시    567893.0\n",
       "    D.14-18시    477691.0\n",
       "    E.18-22시    403320.0\n",
       "    F.22-02시    367630.0\n",
       "수   A.02-06시     64965.0\n",
       "    B.06-10시    246806.0\n",
       "    C.10-14시    511501.0\n",
       "    D.14-18시    482385.0\n",
       "    E.18-22시    440807.0\n",
       "    F.22-02시    405119.0\n",
       "월   A.02-06시     71301.0\n",
       "    B.06-10시    259758.0\n",
       "    C.10-14시    587796.0\n",
       "    D.14-18시    533678.0\n",
       "    E.18-22시    483329.0\n",
       "    F.22-02시    438882.0\n",
       "일   A.02-06시     59331.0\n",
       "    B.06-10시    158841.0\n",
       "    C.10-14시    370906.0\n",
       "    D.14-18시    435175.0\n",
       "    E.18-22시    527548.0\n",
       "    F.22-02시    436818.0\n",
       "토   A.02-06시     52993.0\n",
       "    B.06-10시    170899.0\n",
       "    C.10-14시    354910.0\n",
       "    D.14-18시    364875.0\n",
       "    E.18-22시    360428.0\n",
       "    F.22-02시    300678.0\n",
       "화   A.02-06시     61292.0\n",
       "    B.06-10시    238091.0\n",
       "    C.10-14시    510560.0\n",
       "    D.14-18시    457813.0\n",
       "    E.18-22시    413709.0\n",
       "    F.22-02시    383348.0\n",
       "Name: 건수합계, dtype: float64"
      ]
     },
     "execution_count": 118,
     "metadata": {},
     "output_type": "execute_result"
    }
   ],
   "source": [
    "df.groupby(['요일','시간대'])['건수합계'].sum()   "
   ]
  },
  {
   "cell_type": "code",
   "execution_count": 119,
   "metadata": {},
   "outputs": [
    {
     "data": {
      "text/plain": [
       "TAG      연령대    \n",
       "생활/사무용품  A.2O대       321740.0\n",
       "         B.3O대      1134519.0\n",
       "         C.4O대      1189310.0\n",
       "         D.5O대       564178.0\n",
       "         E.60대이상     222510.0\n",
       "식료품      A.2O대       314240.0\n",
       "         B.3O대      1036624.0\n",
       "         C.4O대      1103588.0\n",
       "         D.5O대       518929.0\n",
       "         E.60대이상     174923.0\n",
       "애완용품     A.2O대        52338.0\n",
       "         B.3O대        93976.0\n",
       "         C.4O대        84478.0\n",
       "         D.5O대        39832.0\n",
       "         E.60대이상      10097.0\n",
       "인테리어     A.2O대       140314.0\n",
       "         B.3O대       343145.0\n",
       "         C.4O대       339248.0\n",
       "         D.5O대       160544.0\n",
       "         E.60대이상      49651.0\n",
       "취미용품     A.2O대        48029.0\n",
       "         B.3O대       130106.0\n",
       "         C.4O대       132948.0\n",
       "         D.5O대        46989.0\n",
       "         E.60대이상      12998.0\n",
       "패션       A.2O대       825023.0\n",
       "         B.3O대      1634531.0\n",
       "         C.4O대      1474666.0\n",
       "         D.5O대       551989.0\n",
       "         E.60대이상     137573.0\n",
       "화장품      A.2O대       244499.0\n",
       "         B.3O대       489295.0\n",
       "         C.4O대       393244.0\n",
       "         D.5O대       158760.0\n",
       "         E.60대이상      48741.0\n",
       "Name: 건수합계, dtype: float64"
      ]
     },
     "execution_count": 119,
     "metadata": {},
     "output_type": "execute_result"
    }
   ],
   "source": [
    "df.groupby(['TAG','연령대'])['건수합계'].sum()   "
   ]
  },
  {
   "cell_type": "code",
   "execution_count": 120,
   "metadata": {},
   "outputs": [
    {
     "data": {
      "text/plain": [
       "연령대\n",
       "A.2O대      1946183.0\n",
       "B.3O대      4862196.0\n",
       "C.4O대      4717482.0\n",
       "D.5O대      2041221.0\n",
       "E.60대이상     656493.0\n",
       "Name: 건수합계, dtype: float64"
      ]
     },
     "execution_count": 120,
     "metadata": {},
     "output_type": "execute_result"
    }
   ],
   "source": [
    "df.groupby(['연령대'])['건수합계'].sum()   "
   ]
  },
  {
   "cell_type": "markdown",
   "metadata": {
    "id": "4xV_jLIxQPad"
   },
   "source": [
    " **성별별 물품 구매현황** "
   ]
  },
  {
   "cell_type": "code",
   "execution_count": 121,
   "metadata": {
    "colab": {
     "base_uri": "https://localhost:8080/"
    },
    "id": "hHE_fZ5LM_W-",
    "outputId": "9a6356e9-c988-41b7-9237-ecb498fc2d8c"
   },
   "outputs": [
    {
     "data": {
      "text/plain": [
       "TAG\n",
       "생활/사무용품    2686.543590\n",
       "식료품        2635.503846\n",
       "애완용품        255.193548\n",
       "인테리어        779.215661\n",
       "취미용품        210.579221\n",
       "패션         4085.270513\n",
       "화장품        1267.456410\n",
       "Name: 건수합계, dtype: float64"
      ]
     },
     "execution_count": 121,
     "metadata": {},
     "output_type": "execute_result"
    }
   ],
   "source": [
    "A=df.groupby([\"성별\",\"TAG\"]).mean()\n",
    "list(A['건수합계'])\n",
    "A.loc['F',:].index\n",
    "A.loc['F',:]['건수합계']"
   ]
  },
  {
   "cell_type": "code",
   "execution_count": 122,
   "metadata": {
    "colab": {
     "base_uri": "https://localhost:8080/",
     "height": 248
    },
    "id": "9mZ_NrUxNbil",
    "outputId": "271de069-1bcf-4e8d-ea59-a6fe5d25c3ab"
   },
   "outputs": [
    {
     "data": {
      "image/png": "[encoded data removed]",
      "text/plain": [
       "<Figure size 432x288 with 1 Axes>"
      ]
     },
     "metadata": {},
     "output_type": "display_data"
    }
   ],
   "source": [
    "#여자들이 많이 사는 물품\n",
    "ratio = list(A.loc['F',:]['건수합계'])\n",
    "labels = list(A.loc['F',:].index)\n",
    "\n",
    "plt.pie(ratio, labels=labels, autopct='%.1f%%')\n",
    "plt.show()"
   ]
  },
  {
   "cell_type": "code",
   "execution_count": 123,
   "metadata": {
    "colab": {
     "base_uri": "https://localhost:8080/",
     "height": 248
    },
    "id": "30oe228GPP1d",
    "outputId": "301edebc-13b6-4a65-f404-16d8a1c09cac"
   },
   "outputs": [
    {
     "data": {
      "image/png": "[encoded data removed]",
      "text/plain": [
       "<Figure size 432x288 with 1 Axes>"
      ]
     },
     "metadata": {},
     "output_type": "display_data"
    }
   ],
   "source": [
    "#남자들이 많이 사는 물품\n",
    "ratio = list(A.loc['M',:]['건수합계'])\n",
    "labels = list(A.loc['M',:].index)\n",
    "\n",
    "plt.pie(ratio, labels=labels, autopct='%.1f%%')\n",
    "plt.show()"
   ]
  },
  {
   "cell_type": "markdown",
   "metadata": {
    "id": "36SeruFw5kcY"
   },
   "source": [
    "### 라벨인코딩"
   ]
  },
  {
   "cell_type": "code",
   "execution_count": 124,
   "metadata": {
    "colab": {
     "base_uri": "https://localhost:8080/"
    },
    "id": "8EQ0vqO45n7Y",
    "outputId": "46bbbbf2-98cf-4fe5-ee95-de32884a5a53"
   },
   "outputs": [
    {
     "data": {
      "text/plain": [
       "(['식료품', '화장품', '취미용품', '생활/사무용품', '애완용품', '패션', '인테리어'],\n",
       " ['A.02-06시', 'B.06-10시', 'C.10-14시', 'F.22-02시', 'D.14-18시', 'E.18-22시'],\n",
       " ['C.4O대', 'B.3O대', 'E.60대이상', 'A.2O대', 'D.5O대'],\n",
       " ['토', '목', '수', '금', '일', '월', '화'])"
      ]
     },
     "execution_count": 124,
     "metadata": {},
     "output_type": "execute_result"
    }
   ],
   "source": [
    "list(set(df['TAG'])) , list(set(df['시간대'])) , list(set(df['연령대'])), list(set(df['요일']))"
   ]
  },
  {
   "cell_type": "code",
   "execution_count": 125,
   "metadata": {
    "colab": {
     "base_uri": "https://localhost:8080/"
    },
    "id": "hj39NkeU5r23",
    "outputId": "a1affe24-0dff-4f26-fa60-137e75b36fef"
   },
   "outputs": [
    {
     "data": {
      "text/plain": [
       "1        0\n",
       "3        6\n",
       "4        3\n",
       "5        1\n",
       "11       4\n",
       "        ..\n",
       "21549    3\n",
       "21550    1\n",
       "21551    5\n",
       "21552    5\n",
       "21555    3\n",
       "Name: TAG, Length: 10885, dtype: int32"
      ]
     },
     "execution_count": 125,
     "metadata": {},
     "output_type": "execute_result"
    }
   ],
   "source": [
    "encoder=LabelEncoder()\n",
    "df['TAG'].unique()\n",
    "encoder.fit(df['TAG'].unique())\n",
    "target=encoder.transform(df['TAG'])\n",
    "\n",
    "df['TAG']= target\n",
    "df['TAG']\n"
   ]
  },
  {
   "cell_type": "code",
   "execution_count": 126,
   "metadata": {
    "colab": {
     "base_uri": "https://localhost:8080/"
    },
    "id": "CKkgGDHn5ql2",
    "outputId": "ab085a2c-3637-4573-82e3-ab78692f8aa6"
   },
   "outputs": [
    {
     "data": {
      "text/plain": [
       "array(['생활/사무용품', '식료품', '애완용품', '인테리어', '취미용품', '패션', '화장품'],\n",
       "      dtype=object)"
      ]
     },
     "execution_count": 126,
     "metadata": {},
     "output_type": "execute_result"
    }
   ],
   "source": [
    "encoder.classes_"
   ]
  },
  {
   "cell_type": "code",
   "execution_count": 127,
   "metadata": {
    "colab": {
     "base_uri": "https://localhost:8080/"
    },
    "id": "82B5JVsW5tpe",
    "outputId": "86d1921e-cce7-4caa-b1b1-16fbac28e3b9"
   },
   "outputs": [
    {
     "data": {
      "text/plain": [
       "1        2\n",
       "3        2\n",
       "4        3\n",
       "5        4\n",
       "11       4\n",
       "        ..\n",
       "21549    0\n",
       "21550    2\n",
       "21551    2\n",
       "21552    2\n",
       "21555    4\n",
       "Name: 연령대, Length: 10885, dtype: int32"
      ]
     },
     "execution_count": 127,
     "metadata": {},
     "output_type": "execute_result"
    }
   ],
   "source": [
    "encoder2=LabelEncoder()\n",
    "df['연령대'].unique()\n",
    "encoder2.fit(df['연령대'].unique())\n",
    "target=encoder2.transform(df['연령대'])\n",
    "\n",
    "df['연령대']= target\n",
    "df['연령대']"
   ]
  },
  {
   "cell_type": "code",
   "execution_count": 128,
   "metadata": {
    "colab": {
     "base_uri": "https://localhost:8080/"
    },
    "id": "0gUujvbs5upG",
    "outputId": "ad0bba52-c4d0-45a4-f6b8-efe42cad807c"
   },
   "outputs": [
    {
     "data": {
      "text/plain": [
       "array(['A.2O대', 'B.3O대', 'C.4O대', 'D.5O대', 'E.60대이상'], dtype=object)"
      ]
     },
     "execution_count": 128,
     "metadata": {},
     "output_type": "execute_result"
    }
   ],
   "source": [
    "encoder2.classes_"
   ]
  },
  {
   "cell_type": "code",
   "execution_count": 129,
   "metadata": {
    "colab": {
     "base_uri": "https://localhost:8080/"
    },
    "id": "smv5ytACEIWn",
    "outputId": "a5eda645-6333-4389-bbf2-a0cdbcc3ceb7"
   },
   "outputs": [
    {
     "data": {
      "text/plain": [
       "array(['D.14-18시', 'C.10-14시', 'B.06-10시', 'E.18-22시', 'A.02-06시',\n",
       "       'F.22-02시'], dtype=object)"
      ]
     },
     "execution_count": 129,
     "metadata": {},
     "output_type": "execute_result"
    }
   ],
   "source": [
    "df['시간대'].unique()"
   ]
  },
  {
   "cell_type": "code",
   "execution_count": 130,
   "metadata": {
    "colab": {
     "base_uri": "https://localhost:8080/"
    },
    "id": "gYchYC5B5wpP",
    "outputId": "bcd83201-e9e7-4bc9-d04a-84b8f2a1bd15"
   },
   "outputs": [
    {
     "data": {
      "text/plain": [
       "1        3\n",
       "3        3\n",
       "4        2\n",
       "5        1\n",
       "11       3\n",
       "        ..\n",
       "21549    3\n",
       "21550    1\n",
       "21551    5\n",
       "21552    5\n",
       "21555    2\n",
       "Name: 시간대, Length: 10885, dtype: int32"
      ]
     },
     "execution_count": 130,
     "metadata": {},
     "output_type": "execute_result"
    }
   ],
   "source": [
    "encoder3 = LabelEncoder()\n",
    "df['시간대'].unique()\n",
    "encoder3.fit(df['시간대'].unique())\n",
    "target=encoder3.transform(df['시간대'])\n",
    "\n",
    "df['시간대']= target\n",
    "df['시간대']"
   ]
  },
  {
   "cell_type": "code",
   "execution_count": 131,
   "metadata": {
    "colab": {
     "base_uri": "https://localhost:8080/"
    },
    "id": "JKuFbH605yIO",
    "outputId": "51dc243e-a605-4298-f103-624b7cf3f7eb"
   },
   "outputs": [
    {
     "data": {
      "text/plain": [
       "array(['A.02-06시', 'B.06-10시', 'C.10-14시', 'D.14-18시', 'E.18-22시',\n",
       "       'F.22-02시'], dtype=object)"
      ]
     },
     "execution_count": 131,
     "metadata": {},
     "output_type": "execute_result"
    }
   ],
   "source": [
    "encoder3.classes_"
   ]
  },
  {
   "cell_type": "code",
   "execution_count": 132,
   "metadata": {
    "colab": {
     "base_uri": "https://localhost:8080/"
    },
    "id": "ZzP44lySFbEv",
    "outputId": "eec35437-13b7-4768-98e2-b68a516222e3"
   },
   "outputs": [
    {
     "data": {
      "text/plain": [
       "1        0\n",
       "3        1\n",
       "4        0\n",
       "5        0\n",
       "11       1\n",
       "        ..\n",
       "21549    1\n",
       "21550    1\n",
       "21551    1\n",
       "21552    0\n",
       "21555    0\n",
       "Name: 평일휴일, Length: 10885, dtype: int32"
      ]
     },
     "execution_count": 132,
     "metadata": {},
     "output_type": "execute_result"
    }
   ],
   "source": [
    "encoder4 = LabelEncoder()\n",
    "df['평일휴일'].unique()\n",
    "encoder4.fit(df['평일휴일'].unique())\n",
    "target=encoder4.transform(df['평일휴일'])\n",
    "\n",
    "df['평일휴일']= target\n",
    "df['평일휴일']"
   ]
  },
  {
   "cell_type": "code",
   "execution_count": 133,
   "metadata": {
    "colab": {
     "base_uri": "https://localhost:8080/"
    },
    "id": "gZuNT4o4Fjpe",
    "outputId": "385d78eb-297f-458a-96ac-7715742160af"
   },
   "outputs": [
    {
     "data": {
      "text/plain": [
       "array(['평일', '휴일'], dtype=object)"
      ]
     },
     "execution_count": 133,
     "metadata": {},
     "output_type": "execute_result"
    }
   ],
   "source": [
    "encoder4.classes_"
   ]
  },
  {
   "cell_type": "code",
   "execution_count": 134,
   "metadata": {
    "colab": {
     "base_uri": "https://localhost:8080/"
    },
    "id": "sF0nHyXNFt82",
    "outputId": "389059d4-f671-4fd3-ae22-675501a8bf86"
   },
   "outputs": [
    {
     "data": {
      "text/plain": [
       "1        1\n",
       "3        0\n",
       "4        0\n",
       "5        1\n",
       "11       0\n",
       "        ..\n",
       "21549    1\n",
       "21550    1\n",
       "21551    1\n",
       "21552    1\n",
       "21555    0\n",
       "Name: 성별, Length: 10885, dtype: int32"
      ]
     },
     "execution_count": 134,
     "metadata": {},
     "output_type": "execute_result"
    }
   ],
   "source": [
    "encoder5 = LabelEncoder()\n",
    "df['성별'].unique()\n",
    "encoder5.fit(df['성별'].unique())\n",
    "target=encoder5.transform(df['성별'])\n",
    "\n",
    "df['성별']= target\n",
    "df['성별']"
   ]
  },
  {
   "cell_type": "code",
   "execution_count": 135,
   "metadata": {
    "colab": {
     "base_uri": "https://localhost:8080/"
    },
    "id": "PsOeJ2tNFujm",
    "outputId": "b1b762b4-58ca-4fcd-dd34-115c1e2c0f52",
    "scrolled": true
   },
   "outputs": [
    {
     "data": {
      "text/plain": [
       "array(['F', 'M'], dtype=object)"
      ]
     },
     "execution_count": 135,
     "metadata": {},
     "output_type": "execute_result"
    }
   ],
   "source": [
    "encoder5.classes_"
   ]
  },
  {
   "cell_type": "code",
   "execution_count": 149,
   "metadata": {
    "colab": {
     "base_uri": "https://localhost:8080/"
    },
    "id": "sF0nHyXNFt82",
    "outputId": "389059d4-f671-4fd3-ae22-675501a8bf86"
   },
   "outputs": [
    {
     "data": {
      "text/plain": [
       "1        3\n",
       "3        4\n",
       "4        3\n",
       "5        3\n",
       "11       3\n",
       "        ..\n",
       "21549    4\n",
       "21550    0\n",
       "21551    2\n",
       "21552    3\n",
       "21555    6\n",
       "Name: 요일, Length: 10885, dtype: int32"
      ]
     },
     "execution_count": 149,
     "metadata": {},
     "output_type": "execute_result"
    }
   ],
   "source": [
    "encoder6 = LabelEncoder()\n",
    "df['요일'].unique()\n",
    "encoder6.fit(df['요일'].unique())\n",
    "target=encoder6.transform(df['요일'])\n",
    "\n",
    "df['요일']= target\n",
    "df['요일']"
   ]
  },
  {
   "cell_type": "code",
   "execution_count": 150,
   "metadata": {
    "colab": {
     "base_uri": "https://localhost:8080/"
    },
    "id": "PsOeJ2tNFujm",
    "outputId": "b1b762b4-58ca-4fcd-dd34-115c1e2c0f52",
    "scrolled": true
   },
   "outputs": [
    {
     "data": {
      "text/plain": [
       "array(['금', '목', '수', '월', '일', '토', '화'], dtype=object)"
      ]
     },
     "execution_count": 150,
     "metadata": {},
     "output_type": "execute_result"
    }
   ],
   "source": [
    "encoder6.classes_"
   ]
  },
  {
   "cell_type": "code",
   "execution_count": 151,
   "metadata": {
    "colab": {
     "base_uri": "https://localhost:8080/"
    },
    "id": "O0z9afMg5zj-",
    "outputId": "59eee6d2-bbd9-4b0c-87af-006a71924314"
   },
   "outputs": [
    {
     "name": "stdout",
     "output_type": "stream",
     "text": [
      "<class 'pandas.core.frame.DataFrame'>\n",
      "Int64Index: 10885 entries, 1 to 21555\n",
      "Data columns (total 15 columns):\n",
      "CRI_YM                   10885 non-null float64\n",
      "TAG                      10885 non-null int32\n",
      "평일휴일                     10885 non-null int32\n",
      "요일                       10885 non-null int32\n",
      "시간대                      10885 non-null int32\n",
      "성별                       10885 non-null int32\n",
      "연령대                      10885 non-null int32\n",
      "인터넷 쇼핑 이용자 비율 (%)        10885 non-null float64\n",
      "월 평균 구매빈도-1회 미만 (%)      10885 non-null float64\n",
      "월 평균 구매빈도-1~2회 미만 (%)    10885 non-null float64\n",
      "월 평균 구매빈도-2~3회 미만 (%)    10885 non-null float64\n",
      "월 평균 구매빈도-3회 이상 (%)      10885 non-null float64\n",
      "월 평균 구매빈도-평균 (회)         10885 non-null float64\n",
      "건수합계                     10885 non-null float64\n",
      "네이버 태그 클릭량               10885 non-null float64\n",
      "dtypes: float64(9), int32(6)\n",
      "memory usage: 1.1 MB\n"
     ]
    }
   ],
   "source": [
    "df.info()"
   ]
  },
  {
   "cell_type": "code",
   "execution_count": 152,
   "metadata": {
    "colab": {
     "base_uri": "https://localhost:8080/",
     "height": 424
    },
    "id": "pTEoOdF8GjWm",
    "outputId": "246d660d-5af0-4f56-90e3-47d2815eacff"
   },
   "outputs": [
    {
     "data": {
      "text/html": [
       "<div>\n",
       "<style scoped>\n",
       "    .dataframe tbody tr th:only-of-type {\n",
       "        vertical-align: middle;\n",
       "    }\n",
       "\n",
       "    .dataframe tbody tr th {\n",
       "        vertical-align: top;\n",
       "    }\n",
       "\n",
       "    .dataframe thead th {\n",
       "        text-align: right;\n",
       "    }\n",
       "</style>\n",
       "<table border=\"1\" class=\"dataframe\">\n",
       "  <thead>\n",
       "    <tr style=\"text-align: right;\">\n",
       "      <th></th>\n",
       "      <th>CRI_YM</th>\n",
       "      <th>TAG</th>\n",
       "      <th>평일휴일</th>\n",
       "      <th>요일</th>\n",
       "      <th>시간대</th>\n",
       "      <th>성별</th>\n",
       "      <th>연령대</th>\n",
       "      <th>인터넷 쇼핑 이용자 비율 (%)</th>\n",
       "      <th>월 평균 구매빈도-1회 미만 (%)</th>\n",
       "      <th>월 평균 구매빈도-1~2회 미만 (%)</th>\n",
       "      <th>월 평균 구매빈도-2~3회 미만 (%)</th>\n",
       "      <th>월 평균 구매빈도-3회 이상 (%)</th>\n",
       "      <th>월 평균 구매빈도-평균 (회)</th>\n",
       "      <th>건수합계</th>\n",
       "      <th>네이버 태그 클릭량</th>\n",
       "    </tr>\n",
       "  </thead>\n",
       "  <tbody>\n",
       "    <tr>\n",
       "      <td>1</td>\n",
       "      <td>2020.0</td>\n",
       "      <td>0</td>\n",
       "      <td>0</td>\n",
       "      <td>3</td>\n",
       "      <td>3</td>\n",
       "      <td>1</td>\n",
       "      <td>2</td>\n",
       "      <td>66.7</td>\n",
       "      <td>28.3</td>\n",
       "      <td>17.9</td>\n",
       "      <td>21.0</td>\n",
       "      <td>32.8</td>\n",
       "      <td>2.9</td>\n",
       "      <td>6225.0</td>\n",
       "      <td>21.0</td>\n",
       "    </tr>\n",
       "    <tr>\n",
       "      <td>3</td>\n",
       "      <td>2021.0</td>\n",
       "      <td>6</td>\n",
       "      <td>1</td>\n",
       "      <td>4</td>\n",
       "      <td>3</td>\n",
       "      <td>0</td>\n",
       "      <td>2</td>\n",
       "      <td>89.8</td>\n",
       "      <td>9.3</td>\n",
       "      <td>14.9</td>\n",
       "      <td>17.6</td>\n",
       "      <td>58.2</td>\n",
       "      <td>5.3</td>\n",
       "      <td>3564.0</td>\n",
       "      <td>154.0</td>\n",
       "    </tr>\n",
       "    <tr>\n",
       "      <td>4</td>\n",
       "      <td>2020.0</td>\n",
       "      <td>3</td>\n",
       "      <td>0</td>\n",
       "      <td>3</td>\n",
       "      <td>2</td>\n",
       "      <td>0</td>\n",
       "      <td>3</td>\n",
       "      <td>46.3</td>\n",
       "      <td>28.2</td>\n",
       "      <td>14.1</td>\n",
       "      <td>20.2</td>\n",
       "      <td>37.4</td>\n",
       "      <td>3.4</td>\n",
       "      <td>1101.0</td>\n",
       "      <td>33.0</td>\n",
       "    </tr>\n",
       "    <tr>\n",
       "      <td>5</td>\n",
       "      <td>2019.0</td>\n",
       "      <td>1</td>\n",
       "      <td>0</td>\n",
       "      <td>3</td>\n",
       "      <td>1</td>\n",
       "      <td>1</td>\n",
       "      <td>4</td>\n",
       "      <td>20.3</td>\n",
       "      <td>20.8</td>\n",
       "      <td>21.4</td>\n",
       "      <td>12.3</td>\n",
       "      <td>45.4</td>\n",
       "      <td>3.2</td>\n",
       "      <td>171.0</td>\n",
       "      <td>61.0</td>\n",
       "    </tr>\n",
       "    <tr>\n",
       "      <td>11</td>\n",
       "      <td>2019.0</td>\n",
       "      <td>4</td>\n",
       "      <td>1</td>\n",
       "      <td>3</td>\n",
       "      <td>3</td>\n",
       "      <td>0</td>\n",
       "      <td>4</td>\n",
       "      <td>14.5</td>\n",
       "      <td>24.4</td>\n",
       "      <td>27.1</td>\n",
       "      <td>12.9</td>\n",
       "      <td>35.5</td>\n",
       "      <td>2.7</td>\n",
       "      <td>10.0</td>\n",
       "      <td>32.0</td>\n",
       "    </tr>\n",
       "    <tr>\n",
       "      <td>...</td>\n",
       "      <td>...</td>\n",
       "      <td>...</td>\n",
       "      <td>...</td>\n",
       "      <td>...</td>\n",
       "      <td>...</td>\n",
       "      <td>...</td>\n",
       "      <td>...</td>\n",
       "      <td>...</td>\n",
       "      <td>...</td>\n",
       "      <td>...</td>\n",
       "      <td>...</td>\n",
       "      <td>...</td>\n",
       "      <td>...</td>\n",
       "      <td>...</td>\n",
       "      <td>...</td>\n",
       "    </tr>\n",
       "    <tr>\n",
       "      <td>21549</td>\n",
       "      <td>2019.0</td>\n",
       "      <td>3</td>\n",
       "      <td>1</td>\n",
       "      <td>4</td>\n",
       "      <td>3</td>\n",
       "      <td>1</td>\n",
       "      <td>0</td>\n",
       "      <td>94.3</td>\n",
       "      <td>13.2</td>\n",
       "      <td>20.4</td>\n",
       "      <td>22.1</td>\n",
       "      <td>44.2</td>\n",
       "      <td>2.9</td>\n",
       "      <td>233.0</td>\n",
       "      <td>58.0</td>\n",
       "    </tr>\n",
       "    <tr>\n",
       "      <td>21550</td>\n",
       "      <td>2020.0</td>\n",
       "      <td>1</td>\n",
       "      <td>1</td>\n",
       "      <td>0</td>\n",
       "      <td>1</td>\n",
       "      <td>1</td>\n",
       "      <td>2</td>\n",
       "      <td>66.7</td>\n",
       "      <td>28.3</td>\n",
       "      <td>17.9</td>\n",
       "      <td>21.0</td>\n",
       "      <td>32.8</td>\n",
       "      <td>2.9</td>\n",
       "      <td>430.0</td>\n",
       "      <td>68.0</td>\n",
       "    </tr>\n",
       "    <tr>\n",
       "      <td>21551</td>\n",
       "      <td>2019.0</td>\n",
       "      <td>5</td>\n",
       "      <td>1</td>\n",
       "      <td>2</td>\n",
       "      <td>5</td>\n",
       "      <td>1</td>\n",
       "      <td>2</td>\n",
       "      <td>66.8</td>\n",
       "      <td>17.1</td>\n",
       "      <td>23.2</td>\n",
       "      <td>20.0</td>\n",
       "      <td>39.7</td>\n",
       "      <td>2.9</td>\n",
       "      <td>796.0</td>\n",
       "      <td>176.0</td>\n",
       "    </tr>\n",
       "    <tr>\n",
       "      <td>21552</td>\n",
       "      <td>2019.0</td>\n",
       "      <td>5</td>\n",
       "      <td>0</td>\n",
       "      <td>3</td>\n",
       "      <td>5</td>\n",
       "      <td>1</td>\n",
       "      <td>2</td>\n",
       "      <td>66.8</td>\n",
       "      <td>17.1</td>\n",
       "      <td>23.2</td>\n",
       "      <td>20.0</td>\n",
       "      <td>39.7</td>\n",
       "      <td>2.9</td>\n",
       "      <td>2470.0</td>\n",
       "      <td>157.0</td>\n",
       "    </tr>\n",
       "    <tr>\n",
       "      <td>21555</td>\n",
       "      <td>2021.0</td>\n",
       "      <td>3</td>\n",
       "      <td>0</td>\n",
       "      <td>6</td>\n",
       "      <td>2</td>\n",
       "      <td>0</td>\n",
       "      <td>4</td>\n",
       "      <td>31.7</td>\n",
       "      <td>11.0</td>\n",
       "      <td>18.7</td>\n",
       "      <td>19.6</td>\n",
       "      <td>50.7</td>\n",
       "      <td>4.1</td>\n",
       "      <td>415.0</td>\n",
       "      <td>25.0</td>\n",
       "    </tr>\n",
       "  </tbody>\n",
       "</table>\n",
       "<p>10885 rows × 15 columns</p>\n",
       "</div>"
      ],
      "text/plain": [
       "       CRI_YM  TAG  평일휴일  요일  시간대  성별  연령대  인터넷 쇼핑 이용자 비율 (%)  \\\n",
       "1      2020.0    0     0   3    3   1    2               66.7   \n",
       "3      2021.0    6     1   4    3   0    2               89.8   \n",
       "4      2020.0    3     0   3    2   0    3               46.3   \n",
       "5      2019.0    1     0   3    1   1    4               20.3   \n",
       "11     2019.0    4     1   3    3   0    4               14.5   \n",
       "...       ...  ...   ...  ..  ...  ..  ...                ...   \n",
       "21549  2019.0    3     1   4    3   1    0               94.3   \n",
       "21550  2020.0    1     1   0    1   1    2               66.7   \n",
       "21551  2019.0    5     1   2    5   1    2               66.8   \n",
       "21552  2019.0    5     0   3    5   1    2               66.8   \n",
       "21555  2021.0    3     0   6    2   0    4               31.7   \n",
       "\n",
       "       월 평균 구매빈도-1회 미만 (%)  월 평균 구매빈도-1~2회 미만 (%)  월 평균 구매빈도-2~3회 미만 (%)  \\\n",
       "1                     28.3                   17.9                   21.0   \n",
       "3                      9.3                   14.9                   17.6   \n",
       "4                     28.2                   14.1                   20.2   \n",
       "5                     20.8                   21.4                   12.3   \n",
       "11                    24.4                   27.1                   12.9   \n",
       "...                    ...                    ...                    ...   \n",
       "21549                 13.2                   20.4                   22.1   \n",
       "21550                 28.3                   17.9                   21.0   \n",
       "21551                 17.1                   23.2                   20.0   \n",
       "21552                 17.1                   23.2                   20.0   \n",
       "21555                 11.0                   18.7                   19.6   \n",
       "\n",
       "       월 평균 구매빈도-3회 이상 (%)  월 평균 구매빈도-평균 (회)    건수합계  네이버 태그 클릭량  \n",
       "1                     32.8               2.9  6225.0        21.0  \n",
       "3                     58.2               5.3  3564.0       154.0  \n",
       "4                     37.4               3.4  1101.0        33.0  \n",
       "5                     45.4               3.2   171.0        61.0  \n",
       "11                    35.5               2.7    10.0        32.0  \n",
       "...                    ...               ...     ...         ...  \n",
       "21549                 44.2               2.9   233.0        58.0  \n",
       "21550                 32.8               2.9   430.0        68.0  \n",
       "21551                 39.7               2.9   796.0       176.0  \n",
       "21552                 39.7               2.9  2470.0       157.0  \n",
       "21555                 50.7               4.1   415.0        25.0  \n",
       "\n",
       "[10885 rows x 15 columns]"
      ]
     },
     "execution_count": 152,
     "metadata": {},
     "output_type": "execute_result"
    }
   ],
   "source": [
    "df"
   ]
  },
  {
   "cell_type": "code",
   "execution_count": 153,
   "metadata": {
    "colab": {
     "base_uri": "https://localhost:8080/",
     "height": 238
    },
    "id": "r75oU8P-MMXu",
    "outputId": "e6c33b08-28fd-43a7-b5bb-d146b99e152c"
   },
   "outputs": [
    {
     "data": {
      "text/html": [
       "<div>\n",
       "<style scoped>\n",
       "    .dataframe tbody tr th:only-of-type {\n",
       "        vertical-align: middle;\n",
       "    }\n",
       "\n",
       "    .dataframe tbody tr th {\n",
       "        vertical-align: top;\n",
       "    }\n",
       "\n",
       "    .dataframe thead th {\n",
       "        text-align: right;\n",
       "    }\n",
       "</style>\n",
       "<table border=\"1\" class=\"dataframe\">\n",
       "  <thead>\n",
       "    <tr style=\"text-align: right;\">\n",
       "      <th></th>\n",
       "      <th>CRI_YM</th>\n",
       "      <th>TAG</th>\n",
       "      <th>평일휴일</th>\n",
       "      <th>요일</th>\n",
       "      <th>시간대</th>\n",
       "      <th>성별</th>\n",
       "      <th>연령대</th>\n",
       "      <th>인터넷 쇼핑 이용자 비율 (%)</th>\n",
       "      <th>월 평균 구매빈도-1회 미만 (%)</th>\n",
       "      <th>월 평균 구매빈도-1~2회 미만 (%)</th>\n",
       "      <th>월 평균 구매빈도-2~3회 미만 (%)</th>\n",
       "      <th>월 평균 구매빈도-3회 이상 (%)</th>\n",
       "      <th>월 평균 구매빈도-평균 (회)</th>\n",
       "      <th>건수합계</th>\n",
       "      <th>네이버 태그 클릭량</th>\n",
       "    </tr>\n",
       "  </thead>\n",
       "  <tbody>\n",
       "    <tr>\n",
       "      <td>CRI_YM</td>\n",
       "      <td>1.000000</td>\n",
       "      <td>0.000160</td>\n",
       "      <td>-0.053849</td>\n",
       "      <td>-0.001545</td>\n",
       "      <td>-0.003161</td>\n",
       "      <td>0.000329</td>\n",
       "      <td>0.002866</td>\n",
       "      <td>0.135303</td>\n",
       "      <td>-0.271087</td>\n",
       "      <td>-0.494643</td>\n",
       "      <td>-0.043707</td>\n",
       "      <td>0.477486</td>\n",
       "      <td>0.753167</td>\n",
       "      <td>0.168254</td>\n",
       "      <td>0.001824</td>\n",
       "    </tr>\n",
       "    <tr>\n",
       "      <td>TAG</td>\n",
       "      <td>0.000160</td>\n",
       "      <td>1.000000</td>\n",
       "      <td>-0.000176</td>\n",
       "      <td>-0.000216</td>\n",
       "      <td>0.000337</td>\n",
       "      <td>0.000229</td>\n",
       "      <td>-0.000391</td>\n",
       "      <td>0.000471</td>\n",
       "      <td>-0.000494</td>\n",
       "      <td>-0.000043</td>\n",
       "      <td>0.000100</td>\n",
       "      <td>0.000430</td>\n",
       "      <td>0.000169</td>\n",
       "      <td>-0.071062</td>\n",
       "      <td>0.628377</td>\n",
       "    </tr>\n",
       "    <tr>\n",
       "      <td>평일휴일</td>\n",
       "      <td>-0.053849</td>\n",
       "      <td>-0.000176</td>\n",
       "      <td>1.000000</td>\n",
       "      <td>0.306175</td>\n",
       "      <td>0.004032</td>\n",
       "      <td>-0.000137</td>\n",
       "      <td>-0.003711</td>\n",
       "      <td>-0.005075</td>\n",
       "      <td>0.036883</td>\n",
       "      <td>0.013894</td>\n",
       "      <td>0.012996</td>\n",
       "      <td>-0.043461</td>\n",
       "      <td>-0.051440</td>\n",
       "      <td>-0.135674</td>\n",
       "      <td>0.000265</td>\n",
       "    </tr>\n",
       "    <tr>\n",
       "      <td>요일</td>\n",
       "      <td>-0.001545</td>\n",
       "      <td>-0.000216</td>\n",
       "      <td>0.306175</td>\n",
       "      <td>1.000000</td>\n",
       "      <td>0.000854</td>\n",
       "      <td>0.000173</td>\n",
       "      <td>-0.000786</td>\n",
       "      <td>-0.000784</td>\n",
       "      <td>0.020224</td>\n",
       "      <td>-0.009570</td>\n",
       "      <td>0.006851</td>\n",
       "      <td>-0.016084</td>\n",
       "      <td>-0.010537</td>\n",
       "      <td>0.008155</td>\n",
       "      <td>-0.002236</td>\n",
       "    </tr>\n",
       "    <tr>\n",
       "      <td>시간대</td>\n",
       "      <td>-0.003161</td>\n",
       "      <td>0.000337</td>\n",
       "      <td>0.004032</td>\n",
       "      <td>0.000854</td>\n",
       "      <td>1.000000</td>\n",
       "      <td>0.000405</td>\n",
       "      <td>0.006163</td>\n",
       "      <td>-0.007270</td>\n",
       "      <td>0.003761</td>\n",
       "      <td>0.003123</td>\n",
       "      <td>-0.005924</td>\n",
       "      <td>-0.002841</td>\n",
       "      <td>-0.003125</td>\n",
       "      <td>0.190116</td>\n",
       "      <td>-0.002017</td>\n",
       "    </tr>\n",
       "    <tr>\n",
       "      <td>성별</td>\n",
       "      <td>0.000329</td>\n",
       "      <td>0.000229</td>\n",
       "      <td>-0.000137</td>\n",
       "      <td>0.000173</td>\n",
       "      <td>0.000405</td>\n",
       "      <td>1.000000</td>\n",
       "      <td>-0.000261</td>\n",
       "      <td>-0.072611</td>\n",
       "      <td>0.163288</td>\n",
       "      <td>0.299672</td>\n",
       "      <td>0.048445</td>\n",
       "      <td>-0.292932</td>\n",
       "      <td>-0.208249</td>\n",
       "      <td>-0.191097</td>\n",
       "      <td>0.000358</td>\n",
       "    </tr>\n",
       "    <tr>\n",
       "      <td>연령대</td>\n",
       "      <td>0.002866</td>\n",
       "      <td>-0.000391</td>\n",
       "      <td>-0.003711</td>\n",
       "      <td>-0.000786</td>\n",
       "      <td>0.006163</td>\n",
       "      <td>-0.000261</td>\n",
       "      <td>1.000000</td>\n",
       "      <td>-0.944050</td>\n",
       "      <td>0.511527</td>\n",
       "      <td>0.089080</td>\n",
       "      <td>-0.296715</td>\n",
       "      <td>-0.400492</td>\n",
       "      <td>-0.304754</td>\n",
       "      <td>-0.164955</td>\n",
       "      <td>0.001999</td>\n",
       "    </tr>\n",
       "    <tr>\n",
       "      <td>인터넷 쇼핑 이용자 비율 (%)</td>\n",
       "      <td>0.135303</td>\n",
       "      <td>0.000471</td>\n",
       "      <td>-0.005075</td>\n",
       "      <td>-0.000784</td>\n",
       "      <td>-0.007270</td>\n",
       "      <td>-0.072611</td>\n",
       "      <td>-0.944050</td>\n",
       "      <td>1.000000</td>\n",
       "      <td>-0.621647</td>\n",
       "      <td>-0.197901</td>\n",
       "      <td>0.327917</td>\n",
       "      <td>0.537948</td>\n",
       "      <td>0.447350</td>\n",
       "      <td>0.279277</td>\n",
       "      <td>-0.002995</td>\n",
       "    </tr>\n",
       "    <tr>\n",
       "      <td>월 평균 구매빈도-1회 미만 (%)</td>\n",
       "      <td>-0.271087</td>\n",
       "      <td>-0.000494</td>\n",
       "      <td>0.036883</td>\n",
       "      <td>0.020224</td>\n",
       "      <td>0.003761</td>\n",
       "      <td>0.163288</td>\n",
       "      <td>0.511527</td>\n",
       "      <td>-0.621647</td>\n",
       "      <td>1.000000</td>\n",
       "      <td>-0.033659</td>\n",
       "      <td>-0.018808</td>\n",
       "      <td>-0.873884</td>\n",
       "      <td>-0.651890</td>\n",
       "      <td>-0.207182</td>\n",
       "      <td>0.000690</td>\n",
       "    </tr>\n",
       "    <tr>\n",
       "      <td>월 평균 구매빈도-1~2회 미만 (%)</td>\n",
       "      <td>-0.494643</td>\n",
       "      <td>-0.000043</td>\n",
       "      <td>0.013894</td>\n",
       "      <td>-0.009570</td>\n",
       "      <td>0.003123</td>\n",
       "      <td>0.299672</td>\n",
       "      <td>0.089080</td>\n",
       "      <td>-0.197901</td>\n",
       "      <td>-0.033659</td>\n",
       "      <td>1.000000</td>\n",
       "      <td>-0.226073</td>\n",
       "      <td>-0.338961</td>\n",
       "      <td>-0.485862</td>\n",
       "      <td>-0.241837</td>\n",
       "      <td>-0.000945</td>\n",
       "    </tr>\n",
       "    <tr>\n",
       "      <td>월 평균 구매빈도-2~3회 미만 (%)</td>\n",
       "      <td>-0.043707</td>\n",
       "      <td>0.000100</td>\n",
       "      <td>0.012996</td>\n",
       "      <td>0.006851</td>\n",
       "      <td>-0.005924</td>\n",
       "      <td>0.048445</td>\n",
       "      <td>-0.296715</td>\n",
       "      <td>0.327917</td>\n",
       "      <td>-0.018808</td>\n",
       "      <td>-0.226073</td>\n",
       "      <td>1.000000</td>\n",
       "      <td>-0.208560</td>\n",
       "      <td>-0.186079</td>\n",
       "      <td>0.024008</td>\n",
       "      <td>-0.001423</td>\n",
       "    </tr>\n",
       "    <tr>\n",
       "      <td>월 평균 구매빈도-3회 이상 (%)</td>\n",
       "      <td>0.477486</td>\n",
       "      <td>0.000430</td>\n",
       "      <td>-0.043461</td>\n",
       "      <td>-0.016084</td>\n",
       "      <td>-0.002841</td>\n",
       "      <td>-0.292932</td>\n",
       "      <td>-0.400492</td>\n",
       "      <td>0.537948</td>\n",
       "      <td>-0.873884</td>\n",
       "      <td>-0.338961</td>\n",
       "      <td>-0.208560</td>\n",
       "      <td>1.000000</td>\n",
       "      <td>0.859903</td>\n",
       "      <td>0.285330</td>\n",
       "      <td>0.000246</td>\n",
       "    </tr>\n",
       "    <tr>\n",
       "      <td>월 평균 구매빈도-평균 (회)</td>\n",
       "      <td>0.753167</td>\n",
       "      <td>0.000169</td>\n",
       "      <td>-0.051440</td>\n",
       "      <td>-0.010537</td>\n",
       "      <td>-0.003125</td>\n",
       "      <td>-0.208249</td>\n",
       "      <td>-0.304754</td>\n",
       "      <td>0.447350</td>\n",
       "      <td>-0.651890</td>\n",
       "      <td>-0.485862</td>\n",
       "      <td>-0.186079</td>\n",
       "      <td>0.859903</td>\n",
       "      <td>1.000000</td>\n",
       "      <td>0.297943</td>\n",
       "      <td>0.001685</td>\n",
       "    </tr>\n",
       "    <tr>\n",
       "      <td>건수합계</td>\n",
       "      <td>0.168254</td>\n",
       "      <td>-0.071062</td>\n",
       "      <td>-0.135674</td>\n",
       "      <td>0.008155</td>\n",
       "      <td>0.190116</td>\n",
       "      <td>-0.191097</td>\n",
       "      <td>-0.164955</td>\n",
       "      <td>0.279277</td>\n",
       "      <td>-0.207182</td>\n",
       "      <td>-0.241837</td>\n",
       "      <td>0.024008</td>\n",
       "      <td>0.285330</td>\n",
       "      <td>0.297943</td>\n",
       "      <td>1.000000</td>\n",
       "      <td>0.183672</td>\n",
       "    </tr>\n",
       "    <tr>\n",
       "      <td>네이버 태그 클릭량</td>\n",
       "      <td>0.001824</td>\n",
       "      <td>0.628377</td>\n",
       "      <td>0.000265</td>\n",
       "      <td>-0.002236</td>\n",
       "      <td>-0.002017</td>\n",
       "      <td>0.000358</td>\n",
       "      <td>0.001999</td>\n",
       "      <td>-0.002995</td>\n",
       "      <td>0.000690</td>\n",
       "      <td>-0.000945</td>\n",
       "      <td>-0.001423</td>\n",
       "      <td>0.000246</td>\n",
       "      <td>0.001685</td>\n",
       "      <td>0.183672</td>\n",
       "      <td>1.000000</td>\n",
       "    </tr>\n",
       "  </tbody>\n",
       "</table>\n",
       "</div>"
      ],
      "text/plain": [
       "                         CRI_YM       TAG      평일휴일        요일       시간대  \\\n",
       "CRI_YM                 1.000000  0.000160 -0.053849 -0.001545 -0.003161   \n",
       "TAG                    0.000160  1.000000 -0.000176 -0.000216  0.000337   \n",
       "평일휴일                  -0.053849 -0.000176  1.000000  0.306175  0.004032   \n",
       "요일                    -0.001545 -0.000216  0.306175  1.000000  0.000854   \n",
       "시간대                   -0.003161  0.000337  0.004032  0.000854  1.000000   \n",
       "성별                     0.000329  0.000229 -0.000137  0.000173  0.000405   \n",
       "연령대                    0.002866 -0.000391 -0.003711 -0.000786  0.006163   \n",
       "인터넷 쇼핑 이용자 비율 (%)      0.135303  0.000471 -0.005075 -0.000784 -0.007270   \n",
       "월 평균 구매빈도-1회 미만 (%)   -0.271087 -0.000494  0.036883  0.020224  0.003761   \n",
       "월 평균 구매빈도-1~2회 미만 (%) -0.494643 -0.000043  0.013894 -0.009570  0.003123   \n",
       "월 평균 구매빈도-2~3회 미만 (%) -0.043707  0.000100  0.012996  0.006851 -0.005924   \n",
       "월 평균 구매빈도-3회 이상 (%)    0.477486  0.000430 -0.043461 -0.016084 -0.002841   \n",
       "월 평균 구매빈도-평균 (회)       0.753167  0.000169 -0.051440 -0.010537 -0.003125   \n",
       "건수합계                   0.168254 -0.071062 -0.135674  0.008155  0.190116   \n",
       "네이버 태그 클릭량             0.001824  0.628377  0.000265 -0.002236 -0.002017   \n",
       "\n",
       "                             성별       연령대  인터넷 쇼핑 이용자 비율 (%)  \\\n",
       "CRI_YM                 0.000329  0.002866           0.135303   \n",
       "TAG                    0.000229 -0.000391           0.000471   \n",
       "평일휴일                  -0.000137 -0.003711          -0.005075   \n",
       "요일                     0.000173 -0.000786          -0.000784   \n",
       "시간대                    0.000405  0.006163          -0.007270   \n",
       "성별                     1.000000 -0.000261          -0.072611   \n",
       "연령대                   -0.000261  1.000000          -0.944050   \n",
       "인터넷 쇼핑 이용자 비율 (%)     -0.072611 -0.944050           1.000000   \n",
       "월 평균 구매빈도-1회 미만 (%)    0.163288  0.511527          -0.621647   \n",
       "월 평균 구매빈도-1~2회 미만 (%)  0.299672  0.089080          -0.197901   \n",
       "월 평균 구매빈도-2~3회 미만 (%)  0.048445 -0.296715           0.327917   \n",
       "월 평균 구매빈도-3회 이상 (%)   -0.292932 -0.400492           0.537948   \n",
       "월 평균 구매빈도-평균 (회)      -0.208249 -0.304754           0.447350   \n",
       "건수합계                  -0.191097 -0.164955           0.279277   \n",
       "네이버 태그 클릭량             0.000358  0.001999          -0.002995   \n",
       "\n",
       "                       월 평균 구매빈도-1회 미만 (%)  월 평균 구매빈도-1~2회 미만 (%)  \\\n",
       "CRI_YM                           -0.271087              -0.494643   \n",
       "TAG                              -0.000494              -0.000043   \n",
       "평일휴일                              0.036883               0.013894   \n",
       "요일                                0.020224              -0.009570   \n",
       "시간대                               0.003761               0.003123   \n",
       "성별                                0.163288               0.299672   \n",
       "연령대                               0.511527               0.089080   \n",
       "인터넷 쇼핑 이용자 비율 (%)                -0.621647              -0.197901   \n",
       "월 평균 구매빈도-1회 미만 (%)               1.000000              -0.033659   \n",
       "월 평균 구매빈도-1~2회 미만 (%)            -0.033659               1.000000   \n",
       "월 평균 구매빈도-2~3회 미만 (%)            -0.018808              -0.226073   \n",
       "월 평균 구매빈도-3회 이상 (%)              -0.873884              -0.338961   \n",
       "월 평균 구매빈도-평균 (회)                 -0.651890              -0.485862   \n",
       "건수합계                             -0.207182              -0.241837   \n",
       "네이버 태그 클릭량                        0.000690              -0.000945   \n",
       "\n",
       "                       월 평균 구매빈도-2~3회 미만 (%)  월 평균 구매빈도-3회 이상 (%)  \\\n",
       "CRI_YM                             -0.043707             0.477486   \n",
       "TAG                                 0.000100             0.000430   \n",
       "평일휴일                                0.012996            -0.043461   \n",
       "요일                                  0.006851            -0.016084   \n",
       "시간대                                -0.005924            -0.002841   \n",
       "성별                                  0.048445            -0.292932   \n",
       "연령대                                -0.296715            -0.400492   \n",
       "인터넷 쇼핑 이용자 비율 (%)                   0.327917             0.537948   \n",
       "월 평균 구매빈도-1회 미만 (%)                -0.018808            -0.873884   \n",
       "월 평균 구매빈도-1~2회 미만 (%)              -0.226073            -0.338961   \n",
       "월 평균 구매빈도-2~3회 미만 (%)               1.000000            -0.208560   \n",
       "월 평균 구매빈도-3회 이상 (%)                -0.208560             1.000000   \n",
       "월 평균 구매빈도-평균 (회)                   -0.186079             0.859903   \n",
       "건수합계                                0.024008             0.285330   \n",
       "네이버 태그 클릭량                         -0.001423             0.000246   \n",
       "\n",
       "                       월 평균 구매빈도-평균 (회)      건수합계  네이버 태그 클릭량  \n",
       "CRI_YM                         0.753167  0.168254    0.001824  \n",
       "TAG                            0.000169 -0.071062    0.628377  \n",
       "평일휴일                          -0.051440 -0.135674    0.000265  \n",
       "요일                            -0.010537  0.008155   -0.002236  \n",
       "시간대                           -0.003125  0.190116   -0.002017  \n",
       "성별                            -0.208249 -0.191097    0.000358  \n",
       "연령대                           -0.304754 -0.164955    0.001999  \n",
       "인터넷 쇼핑 이용자 비율 (%)              0.447350  0.279277   -0.002995  \n",
       "월 평균 구매빈도-1회 미만 (%)           -0.651890 -0.207182    0.000690  \n",
       "월 평균 구매빈도-1~2회 미만 (%)         -0.485862 -0.241837   -0.000945  \n",
       "월 평균 구매빈도-2~3회 미만 (%)         -0.186079  0.024008   -0.001423  \n",
       "월 평균 구매빈도-3회 이상 (%)            0.859903  0.285330    0.000246  \n",
       "월 평균 구매빈도-평균 (회)               1.000000  0.297943    0.001685  \n",
       "건수합계                           0.297943  1.000000    0.183672  \n",
       "네이버 태그 클릭량                     0.001685  0.183672    1.000000  "
      ]
     },
     "execution_count": 153,
     "metadata": {},
     "output_type": "execute_result"
    }
   ],
   "source": [
    "df.corr()"
   ]
  },
  {
   "cell_type": "code",
   "execution_count": 154,
   "metadata": {
    "colab": {
     "base_uri": "https://localhost:8080/"
    },
    "id": "F_-BqP7NFQ2N",
    "outputId": "d89ef755-566b-4157-9cf6-7987a6086711"
   },
   "outputs": [
    {
     "data": {
      "text/plain": [
       "(       CRI_YM  TAG  평일휴일  요일  시간대  성별  연령대  인터넷 쇼핑 이용자 비율 (%)  \\\n",
       " 1      2020.0    0     0   3    3   1    2               66.7   \n",
       " 3      2021.0    6     1   4    3   0    2               89.8   \n",
       " 4      2020.0    3     0   3    2   0    3               46.3   \n",
       " 5      2019.0    1     0   3    1   1    4               20.3   \n",
       " 11     2019.0    4     1   3    3   0    4               14.5   \n",
       " ...       ...  ...   ...  ..  ...  ..  ...                ...   \n",
       " 21549  2019.0    3     1   4    3   1    0               94.3   \n",
       " 21550  2020.0    1     1   0    1   1    2               66.7   \n",
       " 21551  2019.0    5     1   2    5   1    2               66.8   \n",
       " 21552  2019.0    5     0   3    5   1    2               66.8   \n",
       " 21555  2021.0    3     0   6    2   0    4               31.7   \n",
       " \n",
       "        월 평균 구매빈도-1회 미만 (%)  월 평균 구매빈도-1~2회 미만 (%)  월 평균 구매빈도-2~3회 미만 (%)  \\\n",
       " 1                     28.3                   17.9                   21.0   \n",
       " 3                      9.3                   14.9                   17.6   \n",
       " 4                     28.2                   14.1                   20.2   \n",
       " 5                     20.8                   21.4                   12.3   \n",
       " 11                    24.4                   27.1                   12.9   \n",
       " ...                    ...                    ...                    ...   \n",
       " 21549                 13.2                   20.4                   22.1   \n",
       " 21550                 28.3                   17.9                   21.0   \n",
       " 21551                 17.1                   23.2                   20.0   \n",
       " 21552                 17.1                   23.2                   20.0   \n",
       " 21555                 11.0                   18.7                   19.6   \n",
       " \n",
       "        월 평균 구매빈도-3회 이상 (%)  월 평균 구매빈도-평균 (회)  \n",
       " 1                     32.8               2.9  \n",
       " 3                     58.2               5.3  \n",
       " 4                     37.4               3.4  \n",
       " 5                     45.4               3.2  \n",
       " 11                    35.5               2.7  \n",
       " ...                    ...               ...  \n",
       " 21549                 44.2               2.9  \n",
       " 21550                 32.8               2.9  \n",
       " 21551                 39.7               2.9  \n",
       " 21552                 39.7               2.9  \n",
       " 21555                 50.7               4.1  \n",
       " \n",
       " [10885 rows x 13 columns],)"
      ]
     },
     "execution_count": 154,
     "metadata": {},
     "output_type": "execute_result"
    }
   ],
   "source": [
    "df.iloc[:,:-2],"
   ]
  },
  {
   "cell_type": "code",
   "execution_count": 171,
   "metadata": {},
   "outputs": [
    {
     "data": {
      "text/html": [
       "<div>\n",
       "<style scoped>\n",
       "    .dataframe tbody tr th:only-of-type {\n",
       "        vertical-align: middle;\n",
       "    }\n",
       "\n",
       "    .dataframe tbody tr th {\n",
       "        vertical-align: top;\n",
       "    }\n",
       "\n",
       "    .dataframe thead th {\n",
       "        text-align: right;\n",
       "    }\n",
       "</style>\n",
       "<table border=\"1\" class=\"dataframe\">\n",
       "  <thead>\n",
       "    <tr style=\"text-align: right;\">\n",
       "      <th></th>\n",
       "      <th>CRI_YM</th>\n",
       "      <th>평일휴일</th>\n",
       "      <th>요일</th>\n",
       "      <th>시간대</th>\n",
       "      <th>성별</th>\n",
       "      <th>연령대</th>\n",
       "      <th>인터넷 쇼핑 이용자 비율 (%)</th>\n",
       "      <th>월 평균 구매빈도-1회 미만 (%)</th>\n",
       "      <th>월 평균 구매빈도-1~2회 미만 (%)</th>\n",
       "      <th>월 평균 구매빈도-2~3회 미만 (%)</th>\n",
       "      <th>월 평균 구매빈도-3회 이상 (%)</th>\n",
       "      <th>월 평균 구매빈도-평균 (회)</th>\n",
       "      <th>건수합계</th>\n",
       "      <th>네이버 태그 클릭량</th>\n",
       "    </tr>\n",
       "  </thead>\n",
       "  <tbody>\n",
       "    <tr>\n",
       "      <td>1</td>\n",
       "      <td>2020.0</td>\n",
       "      <td>0</td>\n",
       "      <td>3</td>\n",
       "      <td>3</td>\n",
       "      <td>1</td>\n",
       "      <td>2</td>\n",
       "      <td>66.7</td>\n",
       "      <td>28.3</td>\n",
       "      <td>17.9</td>\n",
       "      <td>21.0</td>\n",
       "      <td>32.8</td>\n",
       "      <td>2.9</td>\n",
       "      <td>6225.0</td>\n",
       "      <td>21.0</td>\n",
       "    </tr>\n",
       "    <tr>\n",
       "      <td>3</td>\n",
       "      <td>2021.0</td>\n",
       "      <td>1</td>\n",
       "      <td>4</td>\n",
       "      <td>3</td>\n",
       "      <td>0</td>\n",
       "      <td>2</td>\n",
       "      <td>89.8</td>\n",
       "      <td>9.3</td>\n",
       "      <td>14.9</td>\n",
       "      <td>17.6</td>\n",
       "      <td>58.2</td>\n",
       "      <td>5.3</td>\n",
       "      <td>3564.0</td>\n",
       "      <td>154.0</td>\n",
       "    </tr>\n",
       "    <tr>\n",
       "      <td>4</td>\n",
       "      <td>2020.0</td>\n",
       "      <td>0</td>\n",
       "      <td>3</td>\n",
       "      <td>2</td>\n",
       "      <td>0</td>\n",
       "      <td>3</td>\n",
       "      <td>46.3</td>\n",
       "      <td>28.2</td>\n",
       "      <td>14.1</td>\n",
       "      <td>20.2</td>\n",
       "      <td>37.4</td>\n",
       "      <td>3.4</td>\n",
       "      <td>1101.0</td>\n",
       "      <td>33.0</td>\n",
       "    </tr>\n",
       "    <tr>\n",
       "      <td>5</td>\n",
       "      <td>2019.0</td>\n",
       "      <td>0</td>\n",
       "      <td>3</td>\n",
       "      <td>1</td>\n",
       "      <td>1</td>\n",
       "      <td>4</td>\n",
       "      <td>20.3</td>\n",
       "      <td>20.8</td>\n",
       "      <td>21.4</td>\n",
       "      <td>12.3</td>\n",
       "      <td>45.4</td>\n",
       "      <td>3.2</td>\n",
       "      <td>171.0</td>\n",
       "      <td>61.0</td>\n",
       "    </tr>\n",
       "    <tr>\n",
       "      <td>11</td>\n",
       "      <td>2019.0</td>\n",
       "      <td>1</td>\n",
       "      <td>3</td>\n",
       "      <td>3</td>\n",
       "      <td>0</td>\n",
       "      <td>4</td>\n",
       "      <td>14.5</td>\n",
       "      <td>24.4</td>\n",
       "      <td>27.1</td>\n",
       "      <td>12.9</td>\n",
       "      <td>35.5</td>\n",
       "      <td>2.7</td>\n",
       "      <td>10.0</td>\n",
       "      <td>32.0</td>\n",
       "    </tr>\n",
       "    <tr>\n",
       "      <td>...</td>\n",
       "      <td>...</td>\n",
       "      <td>...</td>\n",
       "      <td>...</td>\n",
       "      <td>...</td>\n",
       "      <td>...</td>\n",
       "      <td>...</td>\n",
       "      <td>...</td>\n",
       "      <td>...</td>\n",
       "      <td>...</td>\n",
       "      <td>...</td>\n",
       "      <td>...</td>\n",
       "      <td>...</td>\n",
       "      <td>...</td>\n",
       "      <td>...</td>\n",
       "    </tr>\n",
       "    <tr>\n",
       "      <td>21549</td>\n",
       "      <td>2019.0</td>\n",
       "      <td>1</td>\n",
       "      <td>4</td>\n",
       "      <td>3</td>\n",
       "      <td>1</td>\n",
       "      <td>0</td>\n",
       "      <td>94.3</td>\n",
       "      <td>13.2</td>\n",
       "      <td>20.4</td>\n",
       "      <td>22.1</td>\n",
       "      <td>44.2</td>\n",
       "      <td>2.9</td>\n",
       "      <td>233.0</td>\n",
       "      <td>58.0</td>\n",
       "    </tr>\n",
       "    <tr>\n",
       "      <td>21550</td>\n",
       "      <td>2020.0</td>\n",
       "      <td>1</td>\n",
       "      <td>0</td>\n",
       "      <td>1</td>\n",
       "      <td>1</td>\n",
       "      <td>2</td>\n",
       "      <td>66.7</td>\n",
       "      <td>28.3</td>\n",
       "      <td>17.9</td>\n",
       "      <td>21.0</td>\n",
       "      <td>32.8</td>\n",
       "      <td>2.9</td>\n",
       "      <td>430.0</td>\n",
       "      <td>68.0</td>\n",
       "    </tr>\n",
       "    <tr>\n",
       "      <td>21551</td>\n",
       "      <td>2019.0</td>\n",
       "      <td>1</td>\n",
       "      <td>2</td>\n",
       "      <td>5</td>\n",
       "      <td>1</td>\n",
       "      <td>2</td>\n",
       "      <td>66.8</td>\n",
       "      <td>17.1</td>\n",
       "      <td>23.2</td>\n",
       "      <td>20.0</td>\n",
       "      <td>39.7</td>\n",
       "      <td>2.9</td>\n",
       "      <td>796.0</td>\n",
       "      <td>176.0</td>\n",
       "    </tr>\n",
       "    <tr>\n",
       "      <td>21552</td>\n",
       "      <td>2019.0</td>\n",
       "      <td>0</td>\n",
       "      <td>3</td>\n",
       "      <td>5</td>\n",
       "      <td>1</td>\n",
       "      <td>2</td>\n",
       "      <td>66.8</td>\n",
       "      <td>17.1</td>\n",
       "      <td>23.2</td>\n",
       "      <td>20.0</td>\n",
       "      <td>39.7</td>\n",
       "      <td>2.9</td>\n",
       "      <td>2470.0</td>\n",
       "      <td>157.0</td>\n",
       "    </tr>\n",
       "    <tr>\n",
       "      <td>21555</td>\n",
       "      <td>2021.0</td>\n",
       "      <td>0</td>\n",
       "      <td>6</td>\n",
       "      <td>2</td>\n",
       "      <td>0</td>\n",
       "      <td>4</td>\n",
       "      <td>31.7</td>\n",
       "      <td>11.0</td>\n",
       "      <td>18.7</td>\n",
       "      <td>19.6</td>\n",
       "      <td>50.7</td>\n",
       "      <td>4.1</td>\n",
       "      <td>415.0</td>\n",
       "      <td>25.0</td>\n",
       "    </tr>\n",
       "  </tbody>\n",
       "</table>\n",
       "<p>10885 rows × 14 columns</p>\n",
       "</div>"
      ],
      "text/plain": [
       "       CRI_YM  평일휴일  요일  시간대  성별  연령대  인터넷 쇼핑 이용자 비율 (%)  월 평균 구매빈도-1회 미만 (%)  \\\n",
       "1      2020.0     0   3    3   1    2               66.7                 28.3   \n",
       "3      2021.0     1   4    3   0    2               89.8                  9.3   \n",
       "4      2020.0     0   3    2   0    3               46.3                 28.2   \n",
       "5      2019.0     0   3    1   1    4               20.3                 20.8   \n",
       "11     2019.0     1   3    3   0    4               14.5                 24.4   \n",
       "...       ...   ...  ..  ...  ..  ...                ...                  ...   \n",
       "21549  2019.0     1   4    3   1    0               94.3                 13.2   \n",
       "21550  2020.0     1   0    1   1    2               66.7                 28.3   \n",
       "21551  2019.0     1   2    5   1    2               66.8                 17.1   \n",
       "21552  2019.0     0   3    5   1    2               66.8                 17.1   \n",
       "21555  2021.0     0   6    2   0    4               31.7                 11.0   \n",
       "\n",
       "       월 평균 구매빈도-1~2회 미만 (%)  월 평균 구매빈도-2~3회 미만 (%)  월 평균 구매빈도-3회 이상 (%)  \\\n",
       "1                       17.9                   21.0                 32.8   \n",
       "3                       14.9                   17.6                 58.2   \n",
       "4                       14.1                   20.2                 37.4   \n",
       "5                       21.4                   12.3                 45.4   \n",
       "11                      27.1                   12.9                 35.5   \n",
       "...                      ...                    ...                  ...   \n",
       "21549                   20.4                   22.1                 44.2   \n",
       "21550                   17.9                   21.0                 32.8   \n",
       "21551                   23.2                   20.0                 39.7   \n",
       "21552                   23.2                   20.0                 39.7   \n",
       "21555                   18.7                   19.6                 50.7   \n",
       "\n",
       "       월 평균 구매빈도-평균 (회)    건수합계  네이버 태그 클릭량  \n",
       "1                   2.9  6225.0        21.0  \n",
       "3                   5.3  3564.0       154.0  \n",
       "4                   3.4  1101.0        33.0  \n",
       "5                   3.2   171.0        61.0  \n",
       "11                  2.7    10.0        32.0  \n",
       "...                 ...     ...         ...  \n",
       "21549               2.9   233.0        58.0  \n",
       "21550               2.9   430.0        68.0  \n",
       "21551               2.9   796.0       176.0  \n",
       "21552               2.9  2470.0       157.0  \n",
       "21555               4.1   415.0        25.0  \n",
       "\n",
       "[10885 rows x 14 columns]"
      ]
     },
     "execution_count": 171,
     "metadata": {},
     "output_type": "execute_result"
    }
   ],
   "source": [
    "df[[\"CRI_YM\",\"평일휴일\",\"요일\", \"시간대\",\"성별\",\"연령대\",\"인터넷 쇼핑 이용자 비율 (%)\",\"월 평균 구매빈도-1회 미만 (%)\",\"월 평균 구매빈도-1~2회 미만 (%)\",\"월 평균 구매빈도-2~3회 미만 (%)\",\"월 평균 구매빈도-3회 이상 (%)\",\"월 평균 구매빈도-평균 (회)\",\"건수합계\",\"네이버 태그 클릭량\"]]"
   ]
  },
  {
   "cell_type": "code",
   "execution_count": 172,
   "metadata": {
    "id": "yW4o7lvsFmOl"
   },
   "outputs": [],
   "source": [
    "X_train,X_test,y_train,y_test = train_test_split(df[[\"CRI_YM\",\"평일휴일\",\"요일\", \"시간대\",\"성별\",\"연령대\",\"인터넷 쇼핑 이용자 비율 (%)\",\"월 평균 구매빈도-1회 미만 (%)\",\"월 평균 구매빈도-1~2회 미만 (%)\",\"월 평균 구매빈도-2~3회 미만 (%)\",\"월 평균 구매빈도-3회 이상 (%)\",\"월 평균 구매빈도-평균 (회)\",\"건수합계\",\"네이버 태그 클릭량\"]], df['TAG'],test_size=0.2, random_state=3)"
   ]
  },
  {
   "cell_type": "code",
   "execution_count": 173,
   "metadata": {
    "id": "MXDSVqN3Gosk"
   },
   "outputs": [],
   "source": [
    "dt=DecisionTreeClassifier(criterion='gini', max_depth = 3, max_features = 2, random_state=100).fit(X_train, y_train)"
   ]
  },
  {
   "cell_type": "code",
   "execution_count": 174,
   "metadata": {
    "id": "EgNenRHbGzpU"
   },
   "outputs": [],
   "source": [
    "svm=SVC(C=0.1, gamma=0.04, random_state=35, probability=True, kernel='rbf').fit(X_train, y_train)"
   ]
  },
  {
   "cell_type": "code",
   "execution_count": 175,
   "metadata": {
    "colab": {
     "base_uri": "https://localhost:8080/"
    },
    "id": "5u9EV02nGz9s",
    "outputId": "e9a7adc8-a0f0-427c-ffdf-8c2685e3fa41"
   },
   "outputs": [],
   "source": [
    "lr = LogisticRegression().fit(X_train, y_train)"
   ]
  },
  {
   "cell_type": "code",
   "execution_count": 176,
   "metadata": {
    "id": "Fy7WLiEYITt_"
   },
   "outputs": [],
   "source": [
    "dt_p = dt.predict(X_test)\n",
    "svm_p=svm.predict(X_test)\n",
    "lr_p=lr.predict(X_test)"
   ]
  },
  {
   "cell_type": "code",
   "execution_count": 177,
   "metadata": {
    "colab": {
     "base_uri": "https://localhost:8080/"
    },
    "id": "ZLo8XTMPG1ZE",
    "outputId": "2066dcea-4f10-46ba-db4c-bb09da3c33cb"
   },
   "outputs": [
    {
     "data": {
      "text/plain": [
       "0.2315112540192926"
      ]
     },
     "execution_count": 177,
     "metadata": {},
     "output_type": "execute_result"
    }
   ],
   "source": [
    "hard_voting_clf=VotingClassifier(\n",
    "    estimators=[('decision tree', dt),('LogisticRegression', lr ),('svm', svm)], weights=[1,1,1], voting='hard'\n",
    ").fit(X_train, y_train)\n",
    "\n",
    "hard_voting_predicted = hard_voting_clf.predict(X_test)\n",
    "accuracy_score(y_test, hard_voting_predicted) ## 다수결의 원칙으로 정함. "
   ]
  },
  {
   "cell_type": "code",
   "execution_count": 178,
   "metadata": {
    "colab": {
     "base_uri": "https://localhost:8080/"
    },
    "id": "-gn6hoBmHIO3",
    "outputId": "a93d172d-7cf6-4144-ea57-b4b7cab23dc4"
   },
   "outputs": [
    {
     "data": {
      "text/plain": [
       "0.2315112540192926"
      ]
     },
     "execution_count": 178,
     "metadata": {},
     "output_type": "execute_result"
    }
   ],
   "source": [
    "soft_voting_clf=VotingClassifier(\n",
    "    estimators=[('decision tree', dt),('LogisticRegression', lr ),('svm', svm)], weights=[1,1,1], voting='soft'\n",
    ").fit(X_train, y_train)\n",
    "\n",
    "soft_voting_predicted = soft_voting_clf.predict(X_test)\n",
    "accuracy_score(y_test, hard_voting_predicted) ## 다수결의 원칙으로 정함. "
   ]
  },
  {
   "cell_type": "code",
   "execution_count": 179,
   "metadata": {
    "id": "S-E50AwdHIVX"
   },
   "outputs": [],
   "source": [
    "rf = RandomForestClassifier(\n",
    "    n_estimators=100,\n",
    "    max_depth=5,\n",
    "    random_state=10\n",
    ").fit(X_train, y_train)"
   ]
  },
  {
   "cell_type": "code",
   "execution_count": 180,
   "metadata": {
    "colab": {
     "base_uri": "https://localhost:8080/"
    },
    "id": "4QRO1Kd4KFoo",
    "outputId": "3630d319-ba73-4de0-8072-13949a805eee"
   },
   "outputs": [
    {
     "data": {
      "text/plain": [
       "0.6632981166743225"
      ]
     },
     "execution_count": 180,
     "metadata": {},
     "output_type": "execute_result"
    }
   ],
   "source": [
    "rf_predt = rf.predict(X_test)\n",
    "rf_acc = accuracy_score(y_test, rf_predt)\n",
    "rf_acc"
   ]
  },
  {
   "cell_type": "code",
   "execution_count": 181,
   "metadata": {
    "colab": {
     "base_uri": "https://localhost:8080/",
     "height": 266
    },
    "id": "e6NFDFN8HIXt",
    "outputId": "23624d55-c433-491c-aa3b-c2ef6b75c809"
   },
   "outputs": [
    {
     "data": {
      "image/png": "[encoded data removed]",
      "text/plain": [
       "<Figure size 432x288 with 1 Axes>"
      ]
     },
     "metadata": {
      "needs_background": "light"
     },
     "output_type": "display_data"
    }
   ],
   "source": [
    "x = np.arange(6)\n",
    "plt.bar(x, height= [\n",
    "                    accuracy_score(y_test, hard_voting_predicted),\n",
    "                    accuracy_score(y_test, soft_voting_predicted),\n",
    "                    accuracy_score(y_test, rf_predt),\n",
    "                    accuracy_score(y_test, dt_p),\n",
    "                    accuracy_score(y_test, svm_p),\n",
    "                    accuracy_score(y_test, lr_p)\n",
    "\n",
    "\n",
    "            ])\n",
    "plt.xticks(x, ['hard voting','soft voting', 'bagging','d-tree' ,'svm ','logistic']);"
   ]
  },
  {
   "cell_type": "code",
   "execution_count": 182,
   "metadata": {
    "id": "FeyZ8BY_KDhs"
   },
   "outputs": [],
   "source": [
    "from sklearn.ensemble import GradientBoostingClassifier\n",
    "from sklearn.ensemble import HistGradientBoostingClassifier\n",
    "from xgboost import XGBClassifier\n",
    "from lightgbm import LGBMClassifier"
   ]
  },
  {
   "cell_type": "code",
   "execution_count": 183,
   "metadata": {
    "id": "IAxVH6wCKdyP"
   },
   "outputs": [],
   "source": [
    "gbc=GradientBoostingClassifier(random_state=42).fit(X_train, y_train)\n",
    "hist=HistGradientBoostingClassifier(random_state=42).fit(X_train, y_train)\n",
    "xgb=XGBClassifier(random_state=42,).fit(X_train, y_train)\n",
    "lgbm=LGBMClassifier(random_state=42).fit(X_train, y_train)"
   ]
  },
  {
   "cell_type": "code",
   "execution_count": 184,
   "metadata": {
    "id": "hpAatMYDKd4N"
   },
   "outputs": [],
   "source": [
    "gbc_p = gbc.predict(X_test)\n",
    "hist_p = hist.predict(X_test)\n",
    "xgb_p = xgb.predict(X_test)\n",
    "lgbm_p = lgbm.predict(X_test)"
   ]
  },
  {
   "cell_type": "code",
   "execution_count": 185,
   "metadata": {
    "colab": {
     "base_uri": "https://localhost:8080/"
    },
    "id": "O5kLqrEtKd9I",
    "outputId": "d56b538e-ab1c-4ec3-b9f8-58c39e947b1d"
   },
   "outputs": [
    {
     "name": "stdout",
     "output_type": "stream",
     "text": [
      "[accuarcy]\n",
      "gbc:  0.8580615525953147\n",
      "svm   :  0.8975654570509876\n",
      "xgb   :  0.9053743683968765\n",
      "lgbm   :  0.9030776297657327\n"
     ]
    }
   ],
   "source": [
    "print(\"[accuarcy]\")\n",
    "print(\"gbc: \",accuracy_score(y_test, gbc_p))\n",
    "print(\"svm   : \",accuracy_score(y_test,hist_p))\n",
    "print(\"xgb   : \",accuracy_score(y_test, xgb_p))\n",
    "print(\"lgbm   : \",accuracy_score(y_test, lgbm_p))"
   ]
  },
  {
   "cell_type": "code",
   "execution_count": null,
   "metadata": {
    "id": "tKGVvInvLCw0"
   },
   "outputs": [],
   "source": []
  },
  {
   "cell_type": "code",
   "execution_count": null,
   "metadata": {},
   "outputs": [],
   "source": []
  }
 ],
 "metadata": {
  "colab": {
   "collapsed_sections": [],
   "name": "Untitled4.ipynb",
   "provenance": []
  },
  "kernelspec": {
   "display_name": "Python 3",
   "language": "python",
   "name": "python3"
  },
  "language_info": {
   "codemirror_mode": {
    "name": "ipython",
    "version": 3
   },
   "file_extension": ".py",
   "mimetype": "text/x-python",
   "name": "python",
   "nbconvert_exporter": "python",
   "pygments_lexer": "ipython3",
   "version": "3.7.4"
  }
 },
 "nbformat": 4,
 "nbformat_minor": 1
}

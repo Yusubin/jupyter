{
 "cells": [
  {
   "cell_type": "code",
   "execution_count": 1,
   "metadata": {},
   "outputs": [],
   "source": [
    "import warnings\n",
    "warnings.filterwarnings('ignore')"
   ]
  },
  {
   "cell_type": "code",
   "execution_count": 2,
   "metadata": {},
   "outputs": [],
   "source": [
    "from sklearn.preprocessing import StandardScaler#표준화(평균을 기준)\n",
    "from sklearn.preprocessing import MinMaxScaler#정규화\n",
    "from sklearn.datasets import load_iris\n",
    "\n",
    "\n",
    "from sklearn.neighbors import KNeighborsClassifier\n",
    "from sklearn.model_selection import cross_val_score\n",
    "from sklearn.metrics import *\n",
    "from sklearn.model_selection import train_test_split\n",
    "from sklearn.model_selection import GridSearchCV\n",
    "\n",
    "import pandas as pd\n",
    "import numpy as np\n",
    "import seaborn as sns\n",
    "from pandas.plotting import parallel_coordinates\n",
    "import matplotlib.pyplot as plt\n",
    "from matplotlib import rc\n",
    "import matplotlib.font_manager as fm\n",
    "from sklearn.datasets import fetch_openml\n",
    "from sklearn.model_selection import train_test_split\n",
    "from IPython.display import Image\n",
    "fm._rebuild()\n",
    "fm.get_fontconfig_fonts()\n",
    "\n",
    "# 디렉토리 및 파일 이름에 맞추어 변경\n",
    "font_location = '../NanumSquareRoundEB.ttf'\n",
    "font_name = fm.FontProperties(fname=font_location).get_name()\n",
    "rc('font', family=font_name)\n",
    "\n"
   ]
  },
  {
   "cell_type": "code",
   "execution_count": 8,
   "metadata": {},
   "outputs": [],
   "source": [
    "df=pd.read_excel('../csv-data/연매출.xlsx')\n",
    "df.drop(index=0, axis=0, inplace=True)"
   ]
  },
  {
   "cell_type": "code",
   "execution_count": 16,
   "metadata": {},
   "outputs": [
    {
     "data": {
      "text/html": [
       "<div>\n",
       "<style scoped>\n",
       "    .dataframe tbody tr th:only-of-type {\n",
       "        vertical-align: middle;\n",
       "    }\n",
       "\n",
       "    .dataframe tbody tr th {\n",
       "        vertical-align: top;\n",
       "    }\n",
       "\n",
       "    .dataframe thead th {\n",
       "        text-align: right;\n",
       "    }\n",
       "</style>\n",
       "<table border=\"1\" class=\"dataframe\">\n",
       "  <thead>\n",
       "    <tr style=\"text-align: right;\">\n",
       "      <th></th>\n",
       "      <th>유입수</th>\n",
       "      <th>결제수</th>\n",
       "      <th>유입당 결제율</th>\n",
       "      <th>결제금액</th>\n",
       "      <th>유입당 결제금액</th>\n",
       "    </tr>\n",
       "  </thead>\n",
       "  <tbody>\n",
       "    <tr>\n",
       "      <td>유입수</td>\n",
       "      <td>1.000000</td>\n",
       "      <td>0.951551</td>\n",
       "      <td>-0.032212</td>\n",
       "      <td>0.970019</td>\n",
       "      <td>0.376443</td>\n",
       "    </tr>\n",
       "    <tr>\n",
       "      <td>결제수</td>\n",
       "      <td>0.951551</td>\n",
       "      <td>1.000000</td>\n",
       "      <td>0.185739</td>\n",
       "      <td>0.963411</td>\n",
       "      <td>0.432674</td>\n",
       "    </tr>\n",
       "    <tr>\n",
       "      <td>유입당 결제율</td>\n",
       "      <td>-0.032212</td>\n",
       "      <td>0.185739</td>\n",
       "      <td>1.000000</td>\n",
       "      <td>-0.001858</td>\n",
       "      <td>0.524922</td>\n",
       "    </tr>\n",
       "    <tr>\n",
       "      <td>결제금액</td>\n",
       "      <td>0.970019</td>\n",
       "      <td>0.963411</td>\n",
       "      <td>-0.001858</td>\n",
       "      <td>1.000000</td>\n",
       "      <td>0.446639</td>\n",
       "    </tr>\n",
       "    <tr>\n",
       "      <td>유입당 결제금액</td>\n",
       "      <td>0.376443</td>\n",
       "      <td>0.432674</td>\n",
       "      <td>0.524922</td>\n",
       "      <td>0.446639</td>\n",
       "      <td>1.000000</td>\n",
       "    </tr>\n",
       "  </tbody>\n",
       "</table>\n",
       "</div>"
      ],
      "text/plain": [
       "               유입수       결제수   유입당 결제율      결제금액  유입당 결제금액\n",
       "유입수       1.000000  0.951551 -0.032212  0.970019  0.376443\n",
       "결제수       0.951551  1.000000  0.185739  0.963411  0.432674\n",
       "유입당 결제율  -0.032212  0.185739  1.000000 -0.001858  0.524922\n",
       "결제금액      0.970019  0.963411 -0.001858  1.000000  0.446639\n",
       "유입당 결제금액  0.376443  0.432674  0.524922  0.446639  1.000000"
      ]
     },
     "execution_count": 16,
     "metadata": {},
     "output_type": "execute_result"
    }
   ],
   "source": [
    "df.corr()"
   ]
  },
  {
   "cell_type": "code",
   "execution_count": null,
   "metadata": {},
   "outputs": [],
   "source": []
  }
 ],
 "metadata": {
  "kernelspec": {
   "display_name": "Python 3",
   "language": "python",
   "name": "python3"
  },
  "language_info": {
   "codemirror_mode": {
    "name": "ipython",
    "version": 3
   },
   "file_extension": ".py",
   "mimetype": "text/x-python",
   "name": "python",
   "nbconvert_exporter": "python",
   "pygments_lexer": "ipython3",
   "version": "3.7.4"
  }
 },
 "nbformat": 4,
 "nbformat_minor": 2
}

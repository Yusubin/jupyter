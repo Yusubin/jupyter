{
 "cells": [
  {
   "cell_type": "code",
   "execution_count": 1,
   "metadata": {
    "colab": {
     "base_uri": "https://localhost:8080/"
    },
    "id": "V7fITryoPeZu",
    "outputId": "13cb5987-844f-490b-84f8-6d1d9eab2bbb"
   },
   "outputs": [
    {
     "name": "stdout",
     "output_type": "stream",
     "text": [
      "Reading package lists... Done\n",
      "Building dependency tree       \n",
      "Reading state information... Done\n",
      "fonts-nanum is already the newest version (20170925-1).\n",
      "0 upgraded, 0 newly installed, 0 to remove and 39 not upgraded.\n",
      "/usr/share/fonts: caching, new cache contents: 0 fonts, 1 dirs\n",
      "/usr/share/fonts/truetype: caching, new cache contents: 0 fonts, 3 dirs\n",
      "/usr/share/fonts/truetype/humor-sans: caching, new cache contents: 1 fonts, 0 dirs\n",
      "/usr/share/fonts/truetype/liberation: caching, new cache contents: 16 fonts, 0 dirs\n",
      "/usr/share/fonts/truetype/nanum: caching, new cache contents: 10 fonts, 0 dirs\n",
      "/usr/local/share/fonts: caching, new cache contents: 0 fonts, 0 dirs\n",
      "/root/.local/share/fonts: skipping, no such directory\n",
      "/root/.fonts: skipping, no such directory\n",
      "/var/cache/fontconfig: cleaning cache directory\n",
      "/root/.cache/fontconfig: not cleaning non-existent cache directory\n",
      "/root/.fontconfig: not cleaning non-existent cache directory\n",
      "fc-cache: succeeded\n"
     ]
    }
   ],
   "source": [
    "# !sudo apt-get install -y fonts-nanum\n",
    "# !sudo fc-cache -fv\n",
    "# !rm ~/.cache/matplotlib -rf"
   ]
  },
  {
   "cell_type": "code",
   "execution_count": 117,
   "metadata": {
    "id": "ZnqvfURp4qTd"
   },
   "outputs": [],
   "source": [
    "## 분류 싱글\n",
    "from sklearn.tree import DecisionTreeClassifier\n",
    "from sklearn.neighbors import KNeighborsClassifier\n",
    "from sklearn.svm import SVC\n",
    "from sklearn.ensemble import VotingClassifier\n",
    "from sklearn.model_selection import train_test_split\n",
    "from sklearn.metrics import accuracy_score\n",
    "from sklearn.linear_model import LogisticRegression\n",
    "from sklearn.ensemble import RandomForestClassifier\n",
    "from sklearn.model_selection import cross_validate\n",
    "from sklearn.neighbors import KNeighborsClassifier\n",
    "from sklearn.model_selection import cross_val_score\n",
    "from sklearn.metrics import *\n",
    "from sklearn.model_selection import train_test_split\n",
    "from sklearn.model_selection import GridSearchCV\n",
    "from sklearn.preprocessing import LabelEncoder\n",
    "import pandas as pd\n",
    "import numpy as np\n",
    "import seaborn as sns\n",
    "from pandas.plotting import parallel_coordinates\n",
    "import matplotlib.pyplot as plt\n",
    "from matplotlib import rc\n",
    "import matplotlib.font_manager as fm\n",
    "from sklearn.datasets import fetch_openml\n",
    "from sklearn.model_selection import train_test_split\n",
    "from IPython.display import Image\n",
    "import numpy as np\n",
    "np.random.seed(5)\n",
    "import matplotlib.pyplot as plt\n",
    "plt.rc('font', family='NanumBarunGothic')"
   ]
  },
  {
   "cell_type": "code",
   "execution_count": 118,
   "metadata": {
    "colab": {
     "base_uri": "https://localhost:8080/",
     "height": 424
    },
    "id": "DMXupgmT5AxQ",
    "outputId": "19893495-af52-4b93-db12-fda25e1eaecb"
   },
   "outputs": [
    {
     "data": {
      "text/html": [
       "\n",
       "  <div id=\"df-01f001b6-71aa-4642-a875-7de918f5d037\">\n",
       "    <div class=\"colab-df-container\">\n",
       "      <div>\n",
       "<style scoped>\n",
       "    .dataframe tbody tr th:only-of-type {\n",
       "        vertical-align: middle;\n",
       "    }\n",
       "\n",
       "    .dataframe tbody tr th {\n",
       "        vertical-align: top;\n",
       "    }\n",
       "\n",
       "    .dataframe thead th {\n",
       "        text-align: right;\n",
       "    }\n",
       "</style>\n",
       "<table border=\"1\" class=\"dataframe\">\n",
       "  <thead>\n",
       "    <tr style=\"text-align: right;\">\n",
       "      <th></th>\n",
       "      <th>TAG</th>\n",
       "      <th>평일휴일</th>\n",
       "      <th>시간대</th>\n",
       "      <th>성별</th>\n",
       "      <th>연령대</th>\n",
       "      <th>건수합계</th>\n",
       "    </tr>\n",
       "  </thead>\n",
       "  <tbody>\n",
       "    <tr>\n",
       "      <th>0</th>\n",
       "      <td>D</td>\n",
       "      <td>평일</td>\n",
       "      <td>B.06-10시</td>\n",
       "      <td>F</td>\n",
       "      <td>A.2O대</td>\n",
       "      <td>291</td>\n",
       "    </tr>\n",
       "    <tr>\n",
       "      <th>1</th>\n",
       "      <td>A</td>\n",
       "      <td>평일</td>\n",
       "      <td>D.14-18시</td>\n",
       "      <td>M</td>\n",
       "      <td>C.4O대</td>\n",
       "      <td>6225</td>\n",
       "    </tr>\n",
       "    <tr>\n",
       "      <th>2</th>\n",
       "      <td>C</td>\n",
       "      <td>휴일</td>\n",
       "      <td>F.22-02시</td>\n",
       "      <td>M</td>\n",
       "      <td>B.3O대</td>\n",
       "      <td>51</td>\n",
       "    </tr>\n",
       "    <tr>\n",
       "      <th>3</th>\n",
       "      <td>B</td>\n",
       "      <td>휴일</td>\n",
       "      <td>D.14-18시</td>\n",
       "      <td>F</td>\n",
       "      <td>C.4O대</td>\n",
       "      <td>3564</td>\n",
       "    </tr>\n",
       "    <tr>\n",
       "      <th>4</th>\n",
       "      <td>A</td>\n",
       "      <td>평일</td>\n",
       "      <td>C.10-14시</td>\n",
       "      <td>F</td>\n",
       "      <td>D.5O대</td>\n",
       "      <td>1101</td>\n",
       "    </tr>\n",
       "    <tr>\n",
       "      <th>...</th>\n",
       "      <td>...</td>\n",
       "      <td>...</td>\n",
       "      <td>...</td>\n",
       "      <td>...</td>\n",
       "      <td>...</td>\n",
       "      <td>...</td>\n",
       "    </tr>\n",
       "    <tr>\n",
       "      <th>21552</th>\n",
       "      <td>B</td>\n",
       "      <td>평일</td>\n",
       "      <td>F.22-02시</td>\n",
       "      <td>M</td>\n",
       "      <td>C.4O대</td>\n",
       "      <td>2470</td>\n",
       "    </tr>\n",
       "    <tr>\n",
       "      <th>21553</th>\n",
       "      <td>C</td>\n",
       "      <td>평일</td>\n",
       "      <td>D.14-18시</td>\n",
       "      <td>F</td>\n",
       "      <td>C.4O대</td>\n",
       "      <td>107</td>\n",
       "    </tr>\n",
       "    <tr>\n",
       "      <th>21554</th>\n",
       "      <td>B</td>\n",
       "      <td>평일</td>\n",
       "      <td>E.18-22시</td>\n",
       "      <td>M</td>\n",
       "      <td>B.3O대</td>\n",
       "      <td>603</td>\n",
       "    </tr>\n",
       "    <tr>\n",
       "      <th>21555</th>\n",
       "      <td>A</td>\n",
       "      <td>평일</td>\n",
       "      <td>C.10-14시</td>\n",
       "      <td>F</td>\n",
       "      <td>E.60대이상</td>\n",
       "      <td>415</td>\n",
       "    </tr>\n",
       "    <tr>\n",
       "      <th>21556</th>\n",
       "      <td>D</td>\n",
       "      <td>평일</td>\n",
       "      <td>C.10-14시</td>\n",
       "      <td>M</td>\n",
       "      <td>C.4O대</td>\n",
       "      <td>580</td>\n",
       "    </tr>\n",
       "  </tbody>\n",
       "</table>\n",
       "<p>21557 rows × 6 columns</p>\n",
       "</div>\n",
       "      <button class=\"colab-df-convert\" onclick=\"convertToInteractive('df-01f001b6-71aa-4642-a875-7de918f5d037')\"\n",
       "              title=\"Convert this dataframe to an interactive table.\"\n",
       "              style=\"display:none;\">\n",
       "        \n",
       "  <svg xmlns=\"http://www.w3.org/2000/svg\" height=\"24px\"viewBox=\"0 0 24 24\"\n",
       "       width=\"24px\">\n",
       "    <path d=\"M0 0h24v24H0V0z\" fill=\"none\"/>\n",
       "    <path d=\"M18.56 5.44l.94 2.06.94-2.06 2.06-.94-2.06-.94-.94-2.06-.94 2.06-2.06.94zm-11 1L8.5 8.5l.94-2.06 2.06-.94-2.06-.94L8.5 2.5l-.94 2.06-2.06.94zm10 10l.94 2.06.94-2.06 2.06-.94-2.06-.94-.94-2.06-.94 2.06-2.06.94z\"/><path d=\"M17.41 7.96l-1.37-1.37c-.4-.4-.92-.59-1.43-.59-.52 0-1.04.2-1.43.59L10.3 9.45l-7.72 7.72c-.78.78-.78 2.05 0 2.83L4 21.41c.39.39.9.59 1.41.59.51 0 1.02-.2 1.41-.59l7.78-7.78 2.81-2.81c.8-.78.8-2.07 0-2.86zM5.41 20L4 18.59l7.72-7.72 1.47 1.35L5.41 20z\"/>\n",
       "  </svg>\n",
       "      </button>\n",
       "      \n",
       "  <style>\n",
       "    .colab-df-container {\n",
       "      display:flex;\n",
       "      flex-wrap:wrap;\n",
       "      gap: 12px;\n",
       "    }\n",
       "\n",
       "    .colab-df-convert {\n",
       "      background-color: #E8F0FE;\n",
       "      border: none;\n",
       "      border-radius: 50%;\n",
       "      cursor: pointer;\n",
       "      display: none;\n",
       "      fill: #1967D2;\n",
       "      height: 32px;\n",
       "      padding: 0 0 0 0;\n",
       "      width: 32px;\n",
       "    }\n",
       "\n",
       "    .colab-df-convert:hover {\n",
       "      background-color: #E2EBFA;\n",
       "      box-shadow: 0px 1px 2px rgba(60, 64, 67, 0.3), 0px 1px 3px 1px rgba(60, 64, 67, 0.15);\n",
       "      fill: #174EA6;\n",
       "    }\n",
       "\n",
       "    [theme=dark] .colab-df-convert {\n",
       "      background-color: #3B4455;\n",
       "      fill: #D2E3FC;\n",
       "    }\n",
       "\n",
       "    [theme=dark] .colab-df-convert:hover {\n",
       "      background-color: #434B5C;\n",
       "      box-shadow: 0px 1px 3px 1px rgba(0, 0, 0, 0.15);\n",
       "      filter: drop-shadow(0px 1px 2px rgba(0, 0, 0, 0.3));\n",
       "      fill: #FFFFFF;\n",
       "    }\n",
       "  </style>\n",
       "\n",
       "      <script>\n",
       "        const buttonEl =\n",
       "          document.querySelector('#df-01f001b6-71aa-4642-a875-7de918f5d037 button.colab-df-convert');\n",
       "        buttonEl.style.display =\n",
       "          google.colab.kernel.accessAllowed ? 'block' : 'none';\n",
       "\n",
       "        async function convertToInteractive(key) {\n",
       "          const element = document.querySelector('#df-01f001b6-71aa-4642-a875-7de918f5d037');\n",
       "          const dataTable =\n",
       "            await google.colab.kernel.invokeFunction('convertToInteractive',\n",
       "                                                     [key], {});\n",
       "          if (!dataTable) return;\n",
       "\n",
       "          const docLinkHtml = 'Like what you see? Visit the ' +\n",
       "            '<a target=\"_blank\" href=https://colab.research.google.com/notebooks/data_table.ipynb>data table notebook</a>'\n",
       "            + ' to learn more about interactive tables.';\n",
       "          element.innerHTML = '';\n",
       "          dataTable['output_type'] = 'display_data';\n",
       "          await google.colab.output.renderOutput(dataTable, element);\n",
       "          const docLink = document.createElement('div');\n",
       "          docLink.innerHTML = docLinkHtml;\n",
       "          element.appendChild(docLink);\n",
       "        }\n",
       "      </script>\n",
       "    </div>\n",
       "  </div>\n",
       "  "
      ],
      "text/plain": [
       "      TAG 평일휴일       시간대 성별      연령대  건수합계\n",
       "0       D   평일  B.06-10시  F    A.2O대   291\n",
       "1       A   평일  D.14-18시  M    C.4O대  6225\n",
       "2       C   휴일  F.22-02시  M    B.3O대    51\n",
       "3       B   휴일  D.14-18시  F    C.4O대  3564\n",
       "4       A   평일  C.10-14시  F    D.5O대  1101\n",
       "...    ..  ...       ... ..      ...   ...\n",
       "21552   B   평일  F.22-02시  M    C.4O대  2470\n",
       "21553   C   평일  D.14-18시  F    C.4O대   107\n",
       "21554   B   평일  E.18-22시  M    B.3O대   603\n",
       "21555   A   평일  C.10-14시  F  E.60대이상   415\n",
       "21556   D   평일  C.10-14시  M    C.4O대   580\n",
       "\n",
       "[21557 rows x 6 columns]"
      ]
     },
     "execution_count": 118,
     "metadata": {},
     "output_type": "execute_result"
    }
   ],
   "source": [
    "df=pd.read_excel(\"/content/KDX2021_SSC_ONLINE_DATA (1).xlsx\")\n",
    "df"
   ]
  },
  {
   "cell_type": "code",
   "execution_count": 118,
   "metadata": {
    "id": "nLlBh0MBfxec"
   },
   "outputs": [],
   "source": []
  },
  {
   "cell_type": "markdown",
   "metadata": {
    "id": "J9bjDLb6QFTV"
   },
   "source": [
    "### ***EDA***"
   ]
  },
  {
   "cell_type": "markdown",
   "metadata": {
    "id": "4xV_jLIxQPad"
   },
   "source": [
    " **성별별 물품 구매현황** "
   ]
  },
  {
   "cell_type": "code",
   "execution_count": 119,
   "metadata": {
    "colab": {
     "base_uri": "https://localhost:8080/"
    },
    "id": "hHE_fZ5LM_W-",
    "outputId": "89aa8369-5ac6-4f41-a96e-526c01c49d8e"
   },
   "outputs": [
    {
     "data": {
      "text/plain": [
       "TAG\n",
       "A    1363.120719\n",
       "B    1884.536219\n",
       "C     253.918737\n",
       "D    1760.204947\n",
       "Name: 건수합계, dtype: float64"
      ]
     },
     "execution_count": 119,
     "metadata": {},
     "output_type": "execute_result"
    }
   ],
   "source": [
    "A=df.groupby([\"성별\",\"TAG\"]).mean()\n",
    "list(A['건수합계'])\n",
    "A.loc['F',:].index\n",
    "A.loc['F',:]['건수합계']"
   ]
  },
  {
   "cell_type": "code",
   "execution_count": 120,
   "metadata": {
    "colab": {
     "base_uri": "https://localhost:8080/",
     "height": 248
    },
    "id": "9mZ_NrUxNbil",
    "outputId": "651ae692-ddde-468a-cded-b104c21fb55e"
   },
   "outputs": [
    {
     "data": {
      "image/png": "[encoded data removed]",
      "text/plain": [
       "<Figure size 432x288 with 1 Axes>"
      ]
     },
     "metadata": {},
     "output_type": "display_data"
    }
   ],
   "source": [
    "#여자들이 많이 사는 물품\n",
    "ratio = list(A.loc['F',:]['건수합계'])\n",
    "labels = list(A.loc['F',:].index)\n",
    "\n",
    "plt.pie(ratio, labels=labels, autopct='%.1f%%')\n",
    "plt.show()"
   ]
  },
  {
   "cell_type": "code",
   "execution_count": 121,
   "metadata": {
    "colab": {
     "base_uri": "https://localhost:8080/",
     "height": 248
    },
    "id": "30oe228GPP1d",
    "outputId": "e08a65a2-5719-49e3-e24c-730c2a2b8c13"
   },
   "outputs": [
    {
     "data": {
      "image/png": "[encoded data removed]",
      "text/plain": [
       "<Figure size 432x288 with 1 Axes>"
      ]
     },
     "metadata": {},
     "output_type": "display_data"
    }
   ],
   "source": [
    "#남자들이 많이 사는 물품\n",
    "ratio = list(A.loc['M',:]['건수합계'])\n",
    "labels = list(A.loc['M',:].index)\n",
    "\n",
    "plt.pie(ratio, labels=labels, autopct='%.1f%%')\n",
    "plt.show()"
   ]
  },
  {
   "cell_type": "markdown",
   "metadata": {
    "id": "36SeruFw5kcY"
   },
   "source": [
    "### 라벨인코딩"
   ]
  },
  {
   "cell_type": "code",
   "execution_count": 122,
   "metadata": {
    "colab": {
     "base_uri": "https://localhost:8080/"
    },
    "id": "8EQ0vqO45n7Y",
    "outputId": "8548a965-674a-46dc-dc7d-2b769939ae74"
   },
   "outputs": [
    {
     "data": {
      "text/plain": [
       "(['A', 'C', 'D', 'B'],\n",
       " ['A.02-06시', 'B.06-10시', 'E.18-22시', 'C.10-14시', 'F.22-02시', 'D.14-18시'],\n",
       " ['C.4O대', 'B.3O대', 'D.5O대', 'E.60대이상', 'A.2O대'])"
      ]
     },
     "execution_count": 122,
     "metadata": {},
     "output_type": "execute_result"
    }
   ],
   "source": [
    "list(set(df['TAG'])) , list(set(df['시간대'])) , list(set(df['연령대']))"
   ]
  },
  {
   "cell_type": "code",
   "execution_count": 124,
   "metadata": {
    "colab": {
     "base_uri": "https://localhost:8080/"
    },
    "id": "hj39NkeU5r23",
    "outputId": "bad462be-dc7d-4818-b138-bec65b0cea51"
   },
   "outputs": [
    {
     "data": {
      "text/plain": [
       "0        3\n",
       "1        0\n",
       "2        2\n",
       "3        1\n",
       "4        0\n",
       "        ..\n",
       "21552    1\n",
       "21553    2\n",
       "21554    1\n",
       "21555    0\n",
       "21556    3\n",
       "Name: TAG, Length: 21557, dtype: int64"
      ]
     },
     "execution_count": 124,
     "metadata": {},
     "output_type": "execute_result"
    }
   ],
   "source": [
    "encoder=LabelEncoder()\n",
    "df['TAG'].unique()\n",
    "encoder.fit(df['TAG'].unique())\n",
    "target=encoder.transform(df['TAG'])\n",
    "\n",
    "df['TAG']= target\n",
    "df['TAG']\n"
   ]
  },
  {
   "cell_type": "code",
   "execution_count": 125,
   "metadata": {
    "colab": {
     "base_uri": "https://localhost:8080/"
    },
    "id": "CKkgGDHn5ql2",
    "outputId": "7b996bc8-04c1-4c1c-c41f-0af6f44a7967"
   },
   "outputs": [
    {
     "data": {
      "text/plain": [
       "array([0, 1, 2, 3])"
      ]
     },
     "execution_count": 125,
     "metadata": {},
     "output_type": "execute_result"
    }
   ],
   "source": [
    "encoder.classes_"
   ]
  },
  {
   "cell_type": "code",
   "execution_count": 126,
   "metadata": {
    "colab": {
     "base_uri": "https://localhost:8080/"
    },
    "id": "82B5JVsW5tpe",
    "outputId": "708e9658-57ce-4f2f-f60f-809ee83c2712"
   },
   "outputs": [
    {
     "data": {
      "text/plain": [
       "0        0\n",
       "1        2\n",
       "2        1\n",
       "3        2\n",
       "4        3\n",
       "        ..\n",
       "21552    2\n",
       "21553    2\n",
       "21554    1\n",
       "21555    4\n",
       "21556    2\n",
       "Name: 연령대, Length: 21557, dtype: int64"
      ]
     },
     "execution_count": 126,
     "metadata": {},
     "output_type": "execute_result"
    }
   ],
   "source": [
    "encoder2=LabelEncoder()\n",
    "df['연령대'].unique()\n",
    "encoder2.fit(df['연령대'].unique())\n",
    "target=encoder2.transform(df['연령대'])\n",
    "\n",
    "df['연령대']= target\n",
    "df['연령대']"
   ]
  },
  {
   "cell_type": "code",
   "execution_count": 127,
   "metadata": {
    "colab": {
     "base_uri": "https://localhost:8080/"
    },
    "id": "0gUujvbs5upG",
    "outputId": "7f98afeb-4883-4702-f4f9-7d4385aed1e3"
   },
   "outputs": [
    {
     "data": {
      "text/plain": [
       "array(['A.2O대', 'B.3O대', 'C.4O대', 'D.5O대', 'E.60대이상'], dtype=object)"
      ]
     },
     "execution_count": 127,
     "metadata": {},
     "output_type": "execute_result"
    }
   ],
   "source": [
    "encoder2.classes_"
   ]
  },
  {
   "cell_type": "code",
   "execution_count": 128,
   "metadata": {
    "colab": {
     "base_uri": "https://localhost:8080/"
    },
    "id": "smv5ytACEIWn",
    "outputId": "2eab3ae5-5cc2-4dbd-eaff-6759f8b7eab1"
   },
   "outputs": [
    {
     "data": {
      "text/plain": [
       "array(['B.06-10시', 'D.14-18시', 'F.22-02시', 'C.10-14시', 'A.02-06시',\n",
       "       'E.18-22시'], dtype=object)"
      ]
     },
     "execution_count": 128,
     "metadata": {},
     "output_type": "execute_result"
    }
   ],
   "source": [
    "df['시간대'].unique()"
   ]
  },
  {
   "cell_type": "code",
   "execution_count": 129,
   "metadata": {
    "colab": {
     "base_uri": "https://localhost:8080/"
    },
    "id": "gYchYC5B5wpP",
    "outputId": "acf087eb-ac41-422a-ee4e-2617a577f25a"
   },
   "outputs": [
    {
     "data": {
      "text/plain": [
       "0        1\n",
       "1        3\n",
       "2        5\n",
       "3        3\n",
       "4        2\n",
       "        ..\n",
       "21552    5\n",
       "21553    3\n",
       "21554    4\n",
       "21555    2\n",
       "21556    2\n",
       "Name: 시간대, Length: 21557, dtype: int64"
      ]
     },
     "execution_count": 129,
     "metadata": {},
     "output_type": "execute_result"
    }
   ],
   "source": [
    "encoder3 = LabelEncoder()\n",
    "df['시간대'].unique()\n",
    "encoder3.fit(df['시간대'].unique())\n",
    "target=encoder3.transform(df['시간대'])\n",
    "\n",
    "df['시간대']= target\n",
    "df['시간대']"
   ]
  },
  {
   "cell_type": "code",
   "execution_count": 130,
   "metadata": {
    "colab": {
     "base_uri": "https://localhost:8080/"
    },
    "id": "JKuFbH605yIO",
    "outputId": "86201ddb-ece0-4df1-c07b-cc80d2901ab9"
   },
   "outputs": [
    {
     "data": {
      "text/plain": [
       "array(['A.02-06시', 'B.06-10시', 'C.10-14시', 'D.14-18시', 'E.18-22시',\n",
       "       'F.22-02시'], dtype=object)"
      ]
     },
     "execution_count": 130,
     "metadata": {},
     "output_type": "execute_result"
    }
   ],
   "source": [
    "encoder3.classes_"
   ]
  },
  {
   "cell_type": "code",
   "execution_count": 131,
   "metadata": {
    "colab": {
     "base_uri": "https://localhost:8080/"
    },
    "id": "ZzP44lySFbEv",
    "outputId": "deeb2eae-de08-4de4-fbf3-f6971e5c8af2"
   },
   "outputs": [
    {
     "data": {
      "text/plain": [
       "0        0\n",
       "1        0\n",
       "2        1\n",
       "3        1\n",
       "4        0\n",
       "        ..\n",
       "21552    0\n",
       "21553    0\n",
       "21554    0\n",
       "21555    0\n",
       "21556    0\n",
       "Name: 평일휴일, Length: 21557, dtype: int64"
      ]
     },
     "execution_count": 131,
     "metadata": {},
     "output_type": "execute_result"
    }
   ],
   "source": [
    "encoder4 = LabelEncoder()\n",
    "df['평일휴일'].unique()\n",
    "encoder4.fit(df['평일휴일'].unique())\n",
    "target=encoder4.transform(df['평일휴일'])\n",
    "\n",
    "df['평일휴일']= target\n",
    "df['평일휴일']"
   ]
  },
  {
   "cell_type": "code",
   "execution_count": 132,
   "metadata": {
    "colab": {
     "base_uri": "https://localhost:8080/"
    },
    "id": "gZuNT4o4Fjpe",
    "outputId": "d73adbd5-9ecb-4359-cfd4-18939cbe4a26"
   },
   "outputs": [
    {
     "data": {
      "text/plain": [
       "array(['평일', '휴일'], dtype=object)"
      ]
     },
     "execution_count": 132,
     "metadata": {},
     "output_type": "execute_result"
    }
   ],
   "source": [
    "encoder4.classes_"
   ]
  },
  {
   "cell_type": "code",
   "execution_count": 133,
   "metadata": {
    "colab": {
     "base_uri": "https://localhost:8080/"
    },
    "id": "sF0nHyXNFt82",
    "outputId": "c11246f9-faae-4ad7-a29e-5ab61d0bcabf"
   },
   "outputs": [
    {
     "data": {
      "text/plain": [
       "0        0\n",
       "1        1\n",
       "2        1\n",
       "3        0\n",
       "4        0\n",
       "        ..\n",
       "21552    1\n",
       "21553    0\n",
       "21554    1\n",
       "21555    0\n",
       "21556    1\n",
       "Name: 성별, Length: 21557, dtype: int64"
      ]
     },
     "execution_count": 133,
     "metadata": {},
     "output_type": "execute_result"
    }
   ],
   "source": [
    "encoder5 = LabelEncoder()\n",
    "df['성별'].unique()\n",
    "encoder5.fit(df['성별'].unique())\n",
    "target=encoder5.transform(df['성별'])\n",
    "\n",
    "df['성별']= target\n",
    "df['성별']"
   ]
  },
  {
   "cell_type": "code",
   "execution_count": 134,
   "metadata": {
    "colab": {
     "base_uri": "https://localhost:8080/"
    },
    "id": "PsOeJ2tNFujm",
    "outputId": "e4586716-bf67-4fb2-be82-61b5e107e081"
   },
   "outputs": [
    {
     "data": {
      "text/plain": [
       "array(['F', 'M'], dtype=object)"
      ]
     },
     "execution_count": 134,
     "metadata": {},
     "output_type": "execute_result"
    }
   ],
   "source": [
    "encoder5.classes_"
   ]
  },
  {
   "cell_type": "code",
   "execution_count": 135,
   "metadata": {
    "colab": {
     "base_uri": "https://localhost:8080/"
    },
    "id": "O0z9afMg5zj-",
    "outputId": "5be14b52-7c3c-480c-8370-27f949266524"
   },
   "outputs": [
    {
     "name": "stdout",
     "output_type": "stream",
     "text": [
      "<class 'pandas.core.frame.DataFrame'>\n",
      "RangeIndex: 21557 entries, 0 to 21556\n",
      "Data columns (total 6 columns):\n",
      " #   Column  Non-Null Count  Dtype\n",
      "---  ------  --------------  -----\n",
      " 0   TAG     21557 non-null  int64\n",
      " 1   평일휴일    21557 non-null  int64\n",
      " 2   시간대     21557 non-null  int64\n",
      " 3   성별      21557 non-null  int64\n",
      " 4   연령대     21557 non-null  int64\n",
      " 5   건수합계    21557 non-null  int64\n",
      "dtypes: int64(6)\n",
      "memory usage: 1010.6 KB\n"
     ]
    }
   ],
   "source": [
    "df.info()"
   ]
  },
  {
   "cell_type": "code",
   "execution_count": 136,
   "metadata": {
    "colab": {
     "base_uri": "https://localhost:8080/",
     "height": 327
    },
    "id": "R3wdIqQ0EyYd",
    "outputId": "7cd35026-9030-4edd-cdcf-f1d9bfe258c3"
   },
   "outputs": [
    {
     "ename": "KeyError",
     "evalue": "ignored",
     "output_type": "error",
     "traceback": [
      "\u001b[0;31m---------------------------------------------------------------------------\u001b[0m",
      "\u001b[0;31mKeyError\u001b[0m                                  Traceback (most recent call last)",
      "\u001b[0;32m<ipython-input-136-ff85f994ec2a>\u001b[0m in \u001b[0;36m<module>\u001b[0;34m()\u001b[0m\n\u001b[0;32m----> 1\u001b[0;31m \u001b[0mdf\u001b[0m\u001b[0;34m.\u001b[0m\u001b[0mdrop\u001b[0m\u001b[0;34m(\u001b[0m\u001b[0mcolumns\u001b[0m\u001b[0;34m=\u001b[0m\u001b[0;34m[\u001b[0m\u001b[0;34m\"CRI_YM\"\u001b[0m\u001b[0;34m,\u001b[0m\u001b[0;34m\"요일\"\u001b[0m\u001b[0;34m]\u001b[0m\u001b[0;34m,\u001b[0m \u001b[0minplace\u001b[0m\u001b[0;34m=\u001b[0m\u001b[0;32mTrue\u001b[0m\u001b[0;34m)\u001b[0m\u001b[0;34m\u001b[0m\u001b[0;34m\u001b[0m\u001b[0m\n\u001b[0m",
      "\u001b[0;32m/usr/local/lib/python3.7/dist-packages/pandas/util/_decorators.py\u001b[0m in \u001b[0;36mwrapper\u001b[0;34m(*args, **kwargs)\u001b[0m\n\u001b[1;32m    309\u001b[0m                     \u001b[0mstacklevel\u001b[0m\u001b[0;34m=\u001b[0m\u001b[0mstacklevel\u001b[0m\u001b[0;34m,\u001b[0m\u001b[0;34m\u001b[0m\u001b[0;34m\u001b[0m\u001b[0m\n\u001b[1;32m    310\u001b[0m                 )\n\u001b[0;32m--> 311\u001b[0;31m             \u001b[0;32mreturn\u001b[0m \u001b[0mfunc\u001b[0m\u001b[0;34m(\u001b[0m\u001b[0;34m*\u001b[0m\u001b[0margs\u001b[0m\u001b[0;34m,\u001b[0m \u001b[0;34m**\u001b[0m\u001b[0mkwargs\u001b[0m\u001b[0;34m)\u001b[0m\u001b[0;34m\u001b[0m\u001b[0;34m\u001b[0m\u001b[0m\n\u001b[0m\u001b[1;32m    312\u001b[0m \u001b[0;34m\u001b[0m\u001b[0m\n\u001b[1;32m    313\u001b[0m         \u001b[0;32mreturn\u001b[0m \u001b[0mwrapper\u001b[0m\u001b[0;34m\u001b[0m\u001b[0;34m\u001b[0m\u001b[0m\n",
      "\u001b[0;32m/usr/local/lib/python3.7/dist-packages/pandas/core/frame.py\u001b[0m in \u001b[0;36mdrop\u001b[0;34m(self, labels, axis, index, columns, level, inplace, errors)\u001b[0m\n\u001b[1;32m   4911\u001b[0m             \u001b[0mlevel\u001b[0m\u001b[0;34m=\u001b[0m\u001b[0mlevel\u001b[0m\u001b[0;34m,\u001b[0m\u001b[0;34m\u001b[0m\u001b[0;34m\u001b[0m\u001b[0m\n\u001b[1;32m   4912\u001b[0m             \u001b[0minplace\u001b[0m\u001b[0;34m=\u001b[0m\u001b[0minplace\u001b[0m\u001b[0;34m,\u001b[0m\u001b[0;34m\u001b[0m\u001b[0;34m\u001b[0m\u001b[0m\n\u001b[0;32m-> 4913\u001b[0;31m             \u001b[0merrors\u001b[0m\u001b[0;34m=\u001b[0m\u001b[0merrors\u001b[0m\u001b[0;34m,\u001b[0m\u001b[0;34m\u001b[0m\u001b[0;34m\u001b[0m\u001b[0m\n\u001b[0m\u001b[1;32m   4914\u001b[0m         )\n\u001b[1;32m   4915\u001b[0m \u001b[0;34m\u001b[0m\u001b[0m\n",
      "\u001b[0;32m/usr/local/lib/python3.7/dist-packages/pandas/core/generic.py\u001b[0m in \u001b[0;36mdrop\u001b[0;34m(self, labels, axis, index, columns, level, inplace, errors)\u001b[0m\n\u001b[1;32m   4148\u001b[0m         \u001b[0;32mfor\u001b[0m \u001b[0maxis\u001b[0m\u001b[0;34m,\u001b[0m \u001b[0mlabels\u001b[0m \u001b[0;32min\u001b[0m \u001b[0maxes\u001b[0m\u001b[0;34m.\u001b[0m\u001b[0mitems\u001b[0m\u001b[0;34m(\u001b[0m\u001b[0;34m)\u001b[0m\u001b[0;34m:\u001b[0m\u001b[0;34m\u001b[0m\u001b[0;34m\u001b[0m\u001b[0m\n\u001b[1;32m   4149\u001b[0m             \u001b[0;32mif\u001b[0m \u001b[0mlabels\u001b[0m \u001b[0;32mis\u001b[0m \u001b[0;32mnot\u001b[0m \u001b[0;32mNone\u001b[0m\u001b[0;34m:\u001b[0m\u001b[0;34m\u001b[0m\u001b[0;34m\u001b[0m\u001b[0m\n\u001b[0;32m-> 4150\u001b[0;31m                 \u001b[0mobj\u001b[0m \u001b[0;34m=\u001b[0m \u001b[0mobj\u001b[0m\u001b[0;34m.\u001b[0m\u001b[0m_drop_axis\u001b[0m\u001b[0;34m(\u001b[0m\u001b[0mlabels\u001b[0m\u001b[0;34m,\u001b[0m \u001b[0maxis\u001b[0m\u001b[0;34m,\u001b[0m \u001b[0mlevel\u001b[0m\u001b[0;34m=\u001b[0m\u001b[0mlevel\u001b[0m\u001b[0;34m,\u001b[0m \u001b[0merrors\u001b[0m\u001b[0;34m=\u001b[0m\u001b[0merrors\u001b[0m\u001b[0;34m)\u001b[0m\u001b[0;34m\u001b[0m\u001b[0;34m\u001b[0m\u001b[0m\n\u001b[0m\u001b[1;32m   4151\u001b[0m \u001b[0;34m\u001b[0m\u001b[0m\n\u001b[1;32m   4152\u001b[0m         \u001b[0;32mif\u001b[0m \u001b[0minplace\u001b[0m\u001b[0;34m:\u001b[0m\u001b[0;34m\u001b[0m\u001b[0;34m\u001b[0m\u001b[0m\n",
      "\u001b[0;32m/usr/local/lib/python3.7/dist-packages/pandas/core/generic.py\u001b[0m in \u001b[0;36m_drop_axis\u001b[0;34m(self, labels, axis, level, errors)\u001b[0m\n\u001b[1;32m   4183\u001b[0m                 \u001b[0mnew_axis\u001b[0m \u001b[0;34m=\u001b[0m \u001b[0maxis\u001b[0m\u001b[0;34m.\u001b[0m\u001b[0mdrop\u001b[0m\u001b[0;34m(\u001b[0m\u001b[0mlabels\u001b[0m\u001b[0;34m,\u001b[0m \u001b[0mlevel\u001b[0m\u001b[0;34m=\u001b[0m\u001b[0mlevel\u001b[0m\u001b[0;34m,\u001b[0m \u001b[0merrors\u001b[0m\u001b[0;34m=\u001b[0m\u001b[0merrors\u001b[0m\u001b[0;34m)\u001b[0m\u001b[0;34m\u001b[0m\u001b[0;34m\u001b[0m\u001b[0m\n\u001b[1;32m   4184\u001b[0m             \u001b[0;32melse\u001b[0m\u001b[0;34m:\u001b[0m\u001b[0;34m\u001b[0m\u001b[0;34m\u001b[0m\u001b[0m\n\u001b[0;32m-> 4185\u001b[0;31m                 \u001b[0mnew_axis\u001b[0m \u001b[0;34m=\u001b[0m \u001b[0maxis\u001b[0m\u001b[0;34m.\u001b[0m\u001b[0mdrop\u001b[0m\u001b[0;34m(\u001b[0m\u001b[0mlabels\u001b[0m\u001b[0;34m,\u001b[0m \u001b[0merrors\u001b[0m\u001b[0;34m=\u001b[0m\u001b[0merrors\u001b[0m\u001b[0;34m)\u001b[0m\u001b[0;34m\u001b[0m\u001b[0;34m\u001b[0m\u001b[0m\n\u001b[0m\u001b[1;32m   4186\u001b[0m             \u001b[0mresult\u001b[0m \u001b[0;34m=\u001b[0m \u001b[0mself\u001b[0m\u001b[0;34m.\u001b[0m\u001b[0mreindex\u001b[0m\u001b[0;34m(\u001b[0m\u001b[0;34m**\u001b[0m\u001b[0;34m{\u001b[0m\u001b[0maxis_name\u001b[0m\u001b[0;34m:\u001b[0m \u001b[0mnew_axis\u001b[0m\u001b[0;34m}\u001b[0m\u001b[0;34m)\u001b[0m\u001b[0;34m\u001b[0m\u001b[0;34m\u001b[0m\u001b[0m\n\u001b[1;32m   4187\u001b[0m \u001b[0;34m\u001b[0m\u001b[0m\n",
      "\u001b[0;32m/usr/local/lib/python3.7/dist-packages/pandas/core/indexes/base.py\u001b[0m in \u001b[0;36mdrop\u001b[0;34m(self, labels, errors)\u001b[0m\n\u001b[1;32m   6015\u001b[0m         \u001b[0;32mif\u001b[0m \u001b[0mmask\u001b[0m\u001b[0;34m.\u001b[0m\u001b[0many\u001b[0m\u001b[0;34m(\u001b[0m\u001b[0;34m)\u001b[0m\u001b[0;34m:\u001b[0m\u001b[0;34m\u001b[0m\u001b[0;34m\u001b[0m\u001b[0m\n\u001b[1;32m   6016\u001b[0m             \u001b[0;32mif\u001b[0m \u001b[0merrors\u001b[0m \u001b[0;34m!=\u001b[0m \u001b[0;34m\"ignore\"\u001b[0m\u001b[0;34m:\u001b[0m\u001b[0;34m\u001b[0m\u001b[0;34m\u001b[0m\u001b[0m\n\u001b[0;32m-> 6017\u001b[0;31m                 \u001b[0;32mraise\u001b[0m \u001b[0mKeyError\u001b[0m\u001b[0;34m(\u001b[0m\u001b[0;34mf\"{labels[mask]} not found in axis\"\u001b[0m\u001b[0;34m)\u001b[0m\u001b[0;34m\u001b[0m\u001b[0;34m\u001b[0m\u001b[0m\n\u001b[0m\u001b[1;32m   6018\u001b[0m             \u001b[0mindexer\u001b[0m \u001b[0;34m=\u001b[0m \u001b[0mindexer\u001b[0m\u001b[0;34m[\u001b[0m\u001b[0;34m~\u001b[0m\u001b[0mmask\u001b[0m\u001b[0;34m]\u001b[0m\u001b[0;34m\u001b[0m\u001b[0;34m\u001b[0m\u001b[0m\n\u001b[1;32m   6019\u001b[0m         \u001b[0;32mreturn\u001b[0m \u001b[0mself\u001b[0m\u001b[0;34m.\u001b[0m\u001b[0mdelete\u001b[0m\u001b[0;34m(\u001b[0m\u001b[0mindexer\u001b[0m\u001b[0;34m)\u001b[0m\u001b[0;34m\u001b[0m\u001b[0;34m\u001b[0m\u001b[0m\n",
      "\u001b[0;31mKeyError\u001b[0m: \"['CRI_YM' '요일'] not found in axis\""
     ]
    }
   ],
   "source": [
    "df.drop(columns=[\"CRI_YM\",\"요일\"], inplace=True)"
   ]
  },
  {
   "cell_type": "code",
   "execution_count": 137,
   "metadata": {
    "colab": {
     "base_uri": "https://localhost:8080/",
     "height": 424
    },
    "id": "pTEoOdF8GjWm",
    "outputId": "a8588861-5cbe-47ed-8e37-811bfcc2203f"
   },
   "outputs": [
    {
     "data": {
      "text/html": [
       "\n",
       "  <div id=\"df-33197f87-b9ab-4970-b386-822ce403555f\">\n",
       "    <div class=\"colab-df-container\">\n",
       "      <div>\n",
       "<style scoped>\n",
       "    .dataframe tbody tr th:only-of-type {\n",
       "        vertical-align: middle;\n",
       "    }\n",
       "\n",
       "    .dataframe tbody tr th {\n",
       "        vertical-align: top;\n",
       "    }\n",
       "\n",
       "    .dataframe thead th {\n",
       "        text-align: right;\n",
       "    }\n",
       "</style>\n",
       "<table border=\"1\" class=\"dataframe\">\n",
       "  <thead>\n",
       "    <tr style=\"text-align: right;\">\n",
       "      <th></th>\n",
       "      <th>TAG</th>\n",
       "      <th>평일휴일</th>\n",
       "      <th>시간대</th>\n",
       "      <th>성별</th>\n",
       "      <th>연령대</th>\n",
       "      <th>건수합계</th>\n",
       "    </tr>\n",
       "  </thead>\n",
       "  <tbody>\n",
       "    <tr>\n",
       "      <th>0</th>\n",
       "      <td>3</td>\n",
       "      <td>0</td>\n",
       "      <td>1</td>\n",
       "      <td>0</td>\n",
       "      <td>0</td>\n",
       "      <td>291</td>\n",
       "    </tr>\n",
       "    <tr>\n",
       "      <th>1</th>\n",
       "      <td>0</td>\n",
       "      <td>0</td>\n",
       "      <td>3</td>\n",
       "      <td>1</td>\n",
       "      <td>2</td>\n",
       "      <td>6225</td>\n",
       "    </tr>\n",
       "    <tr>\n",
       "      <th>2</th>\n",
       "      <td>2</td>\n",
       "      <td>1</td>\n",
       "      <td>5</td>\n",
       "      <td>1</td>\n",
       "      <td>1</td>\n",
       "      <td>51</td>\n",
       "    </tr>\n",
       "    <tr>\n",
       "      <th>3</th>\n",
       "      <td>1</td>\n",
       "      <td>1</td>\n",
       "      <td>3</td>\n",
       "      <td>0</td>\n",
       "      <td>2</td>\n",
       "      <td>3564</td>\n",
       "    </tr>\n",
       "    <tr>\n",
       "      <th>4</th>\n",
       "      <td>0</td>\n",
       "      <td>0</td>\n",
       "      <td>2</td>\n",
       "      <td>0</td>\n",
       "      <td>3</td>\n",
       "      <td>1101</td>\n",
       "    </tr>\n",
       "    <tr>\n",
       "      <th>...</th>\n",
       "      <td>...</td>\n",
       "      <td>...</td>\n",
       "      <td>...</td>\n",
       "      <td>...</td>\n",
       "      <td>...</td>\n",
       "      <td>...</td>\n",
       "    </tr>\n",
       "    <tr>\n",
       "      <th>21552</th>\n",
       "      <td>1</td>\n",
       "      <td>0</td>\n",
       "      <td>5</td>\n",
       "      <td>1</td>\n",
       "      <td>2</td>\n",
       "      <td>2470</td>\n",
       "    </tr>\n",
       "    <tr>\n",
       "      <th>21553</th>\n",
       "      <td>2</td>\n",
       "      <td>0</td>\n",
       "      <td>3</td>\n",
       "      <td>0</td>\n",
       "      <td>2</td>\n",
       "      <td>107</td>\n",
       "    </tr>\n",
       "    <tr>\n",
       "      <th>21554</th>\n",
       "      <td>1</td>\n",
       "      <td>0</td>\n",
       "      <td>4</td>\n",
       "      <td>1</td>\n",
       "      <td>1</td>\n",
       "      <td>603</td>\n",
       "    </tr>\n",
       "    <tr>\n",
       "      <th>21555</th>\n",
       "      <td>0</td>\n",
       "      <td>0</td>\n",
       "      <td>2</td>\n",
       "      <td>0</td>\n",
       "      <td>4</td>\n",
       "      <td>415</td>\n",
       "    </tr>\n",
       "    <tr>\n",
       "      <th>21556</th>\n",
       "      <td>3</td>\n",
       "      <td>0</td>\n",
       "      <td>2</td>\n",
       "      <td>1</td>\n",
       "      <td>2</td>\n",
       "      <td>580</td>\n",
       "    </tr>\n",
       "  </tbody>\n",
       "</table>\n",
       "<p>21557 rows × 6 columns</p>\n",
       "</div>\n",
       "      <button class=\"colab-df-convert\" onclick=\"convertToInteractive('df-33197f87-b9ab-4970-b386-822ce403555f')\"\n",
       "              title=\"Convert this dataframe to an interactive table.\"\n",
       "              style=\"display:none;\">\n",
       "        \n",
       "  <svg xmlns=\"http://www.w3.org/2000/svg\" height=\"24px\"viewBox=\"0 0 24 24\"\n",
       "       width=\"24px\">\n",
       "    <path d=\"M0 0h24v24H0V0z\" fill=\"none\"/>\n",
       "    <path d=\"M18.56 5.44l.94 2.06.94-2.06 2.06-.94-2.06-.94-.94-2.06-.94 2.06-2.06.94zm-11 1L8.5 8.5l.94-2.06 2.06-.94-2.06-.94L8.5 2.5l-.94 2.06-2.06.94zm10 10l.94 2.06.94-2.06 2.06-.94-2.06-.94-.94-2.06-.94 2.06-2.06.94z\"/><path d=\"M17.41 7.96l-1.37-1.37c-.4-.4-.92-.59-1.43-.59-.52 0-1.04.2-1.43.59L10.3 9.45l-7.72 7.72c-.78.78-.78 2.05 0 2.83L4 21.41c.39.39.9.59 1.41.59.51 0 1.02-.2 1.41-.59l7.78-7.78 2.81-2.81c.8-.78.8-2.07 0-2.86zM5.41 20L4 18.59l7.72-7.72 1.47 1.35L5.41 20z\"/>\n",
       "  </svg>\n",
       "      </button>\n",
       "      \n",
       "  <style>\n",
       "    .colab-df-container {\n",
       "      display:flex;\n",
       "      flex-wrap:wrap;\n",
       "      gap: 12px;\n",
       "    }\n",
       "\n",
       "    .colab-df-convert {\n",
       "      background-color: #E8F0FE;\n",
       "      border: none;\n",
       "      border-radius: 50%;\n",
       "      cursor: pointer;\n",
       "      display: none;\n",
       "      fill: #1967D2;\n",
       "      height: 32px;\n",
       "      padding: 0 0 0 0;\n",
       "      width: 32px;\n",
       "    }\n",
       "\n",
       "    .colab-df-convert:hover {\n",
       "      background-color: #E2EBFA;\n",
       "      box-shadow: 0px 1px 2px rgba(60, 64, 67, 0.3), 0px 1px 3px 1px rgba(60, 64, 67, 0.15);\n",
       "      fill: #174EA6;\n",
       "    }\n",
       "\n",
       "    [theme=dark] .colab-df-convert {\n",
       "      background-color: #3B4455;\n",
       "      fill: #D2E3FC;\n",
       "    }\n",
       "\n",
       "    [theme=dark] .colab-df-convert:hover {\n",
       "      background-color: #434B5C;\n",
       "      box-shadow: 0px 1px 3px 1px rgba(0, 0, 0, 0.15);\n",
       "      filter: drop-shadow(0px 1px 2px rgba(0, 0, 0, 0.3));\n",
       "      fill: #FFFFFF;\n",
       "    }\n",
       "  </style>\n",
       "\n",
       "      <script>\n",
       "        const buttonEl =\n",
       "          document.querySelector('#df-33197f87-b9ab-4970-b386-822ce403555f button.colab-df-convert');\n",
       "        buttonEl.style.display =\n",
       "          google.colab.kernel.accessAllowed ? 'block' : 'none';\n",
       "\n",
       "        async function convertToInteractive(key) {\n",
       "          const element = document.querySelector('#df-33197f87-b9ab-4970-b386-822ce403555f');\n",
       "          const dataTable =\n",
       "            await google.colab.kernel.invokeFunction('convertToInteractive',\n",
       "                                                     [key], {});\n",
       "          if (!dataTable) return;\n",
       "\n",
       "          const docLinkHtml = 'Like what you see? Visit the ' +\n",
       "            '<a target=\"_blank\" href=https://colab.research.google.com/notebooks/data_table.ipynb>data table notebook</a>'\n",
       "            + ' to learn more about interactive tables.';\n",
       "          element.innerHTML = '';\n",
       "          dataTable['output_type'] = 'display_data';\n",
       "          await google.colab.output.renderOutput(dataTable, element);\n",
       "          const docLink = document.createElement('div');\n",
       "          docLink.innerHTML = docLinkHtml;\n",
       "          element.appendChild(docLink);\n",
       "        }\n",
       "      </script>\n",
       "    </div>\n",
       "  </div>\n",
       "  "
      ],
      "text/plain": [
       "       TAG  평일휴일  시간대  성별  연령대  건수합계\n",
       "0        3     0    1   0    0   291\n",
       "1        0     0    3   1    2  6225\n",
       "2        2     1    5   1    1    51\n",
       "3        1     1    3   0    2  3564\n",
       "4        0     0    2   0    3  1101\n",
       "...    ...   ...  ...  ..  ...   ...\n",
       "21552    1     0    5   1    2  2470\n",
       "21553    2     0    3   0    2   107\n",
       "21554    1     0    4   1    1   603\n",
       "21555    0     0    2   0    4   415\n",
       "21556    3     0    2   1    2   580\n",
       "\n",
       "[21557 rows x 6 columns]"
      ]
     },
     "execution_count": 137,
     "metadata": {},
     "output_type": "execute_result"
    }
   ],
   "source": [
    "df"
   ]
  },
  {
   "cell_type": "code",
   "execution_count": 138,
   "metadata": {
    "colab": {
     "base_uri": "https://localhost:8080/",
     "height": 238
    },
    "id": "r75oU8P-MMXu",
    "outputId": "f5221a78-2c3b-455c-f162-a346636ea51f"
   },
   "outputs": [
    {
     "data": {
      "text/html": [
       "\n",
       "  <div id=\"df-10b443dc-91bc-4562-91e4-e2abe3af8817\">\n",
       "    <div class=\"colab-df-container\">\n",
       "      <div>\n",
       "<style scoped>\n",
       "    .dataframe tbody tr th:only-of-type {\n",
       "        vertical-align: middle;\n",
       "    }\n",
       "\n",
       "    .dataframe tbody tr th {\n",
       "        vertical-align: top;\n",
       "    }\n",
       "\n",
       "    .dataframe thead th {\n",
       "        text-align: right;\n",
       "    }\n",
       "</style>\n",
       "<table border=\"1\" class=\"dataframe\">\n",
       "  <thead>\n",
       "    <tr style=\"text-align: right;\">\n",
       "      <th></th>\n",
       "      <th>TAG</th>\n",
       "      <th>평일휴일</th>\n",
       "      <th>시간대</th>\n",
       "      <th>성별</th>\n",
       "      <th>연령대</th>\n",
       "      <th>건수합계</th>\n",
       "    </tr>\n",
       "  </thead>\n",
       "  <tbody>\n",
       "    <tr>\n",
       "      <th>TAG</th>\n",
       "      <td>1.000000</td>\n",
       "      <td>-0.002606</td>\n",
       "      <td>0.003934</td>\n",
       "      <td>0.000182</td>\n",
       "      <td>-0.001317</td>\n",
       "      <td>-0.035302</td>\n",
       "    </tr>\n",
       "    <tr>\n",
       "      <th>평일휴일</th>\n",
       "      <td>-0.002606</td>\n",
       "      <td>1.000000</td>\n",
       "      <td>0.006043</td>\n",
       "      <td>0.000987</td>\n",
       "      <td>-0.004303</td>\n",
       "      <td>-0.103840</td>\n",
       "    </tr>\n",
       "    <tr>\n",
       "      <th>시간대</th>\n",
       "      <td>0.003934</td>\n",
       "      <td>0.006043</td>\n",
       "      <td>1.000000</td>\n",
       "      <td>-0.000964</td>\n",
       "      <td>0.006888</td>\n",
       "      <td>0.154335</td>\n",
       "    </tr>\n",
       "    <tr>\n",
       "      <th>성별</th>\n",
       "      <td>0.000182</td>\n",
       "      <td>0.000987</td>\n",
       "      <td>-0.000964</td>\n",
       "      <td>1.000000</td>\n",
       "      <td>0.001361</td>\n",
       "      <td>-0.168243</td>\n",
       "    </tr>\n",
       "    <tr>\n",
       "      <th>연령대</th>\n",
       "      <td>-0.001317</td>\n",
       "      <td>-0.004303</td>\n",
       "      <td>0.006888</td>\n",
       "      <td>0.001361</td>\n",
       "      <td>1.000000</td>\n",
       "      <td>-0.092038</td>\n",
       "    </tr>\n",
       "    <tr>\n",
       "      <th>건수합계</th>\n",
       "      <td>-0.035302</td>\n",
       "      <td>-0.103840</td>\n",
       "      <td>0.154335</td>\n",
       "      <td>-0.168243</td>\n",
       "      <td>-0.092038</td>\n",
       "      <td>1.000000</td>\n",
       "    </tr>\n",
       "  </tbody>\n",
       "</table>\n",
       "</div>\n",
       "      <button class=\"colab-df-convert\" onclick=\"convertToInteractive('df-10b443dc-91bc-4562-91e4-e2abe3af8817')\"\n",
       "              title=\"Convert this dataframe to an interactive table.\"\n",
       "              style=\"display:none;\">\n",
       "        \n",
       "  <svg xmlns=\"http://www.w3.org/2000/svg\" height=\"24px\"viewBox=\"0 0 24 24\"\n",
       "       width=\"24px\">\n",
       "    <path d=\"M0 0h24v24H0V0z\" fill=\"none\"/>\n",
       "    <path d=\"M18.56 5.44l.94 2.06.94-2.06 2.06-.94-2.06-.94-.94-2.06-.94 2.06-2.06.94zm-11 1L8.5 8.5l.94-2.06 2.06-.94-2.06-.94L8.5 2.5l-.94 2.06-2.06.94zm10 10l.94 2.06.94-2.06 2.06-.94-2.06-.94-.94-2.06-.94 2.06-2.06.94z\"/><path d=\"M17.41 7.96l-1.37-1.37c-.4-.4-.92-.59-1.43-.59-.52 0-1.04.2-1.43.59L10.3 9.45l-7.72 7.72c-.78.78-.78 2.05 0 2.83L4 21.41c.39.39.9.59 1.41.59.51 0 1.02-.2 1.41-.59l7.78-7.78 2.81-2.81c.8-.78.8-2.07 0-2.86zM5.41 20L4 18.59l7.72-7.72 1.47 1.35L5.41 20z\"/>\n",
       "  </svg>\n",
       "      </button>\n",
       "      \n",
       "  <style>\n",
       "    .colab-df-container {\n",
       "      display:flex;\n",
       "      flex-wrap:wrap;\n",
       "      gap: 12px;\n",
       "    }\n",
       "\n",
       "    .colab-df-convert {\n",
       "      background-color: #E8F0FE;\n",
       "      border: none;\n",
       "      border-radius: 50%;\n",
       "      cursor: pointer;\n",
       "      display: none;\n",
       "      fill: #1967D2;\n",
       "      height: 32px;\n",
       "      padding: 0 0 0 0;\n",
       "      width: 32px;\n",
       "    }\n",
       "\n",
       "    .colab-df-convert:hover {\n",
       "      background-color: #E2EBFA;\n",
       "      box-shadow: 0px 1px 2px rgba(60, 64, 67, 0.3), 0px 1px 3px 1px rgba(60, 64, 67, 0.15);\n",
       "      fill: #174EA6;\n",
       "    }\n",
       "\n",
       "    [theme=dark] .colab-df-convert {\n",
       "      background-color: #3B4455;\n",
       "      fill: #D2E3FC;\n",
       "    }\n",
       "\n",
       "    [theme=dark] .colab-df-convert:hover {\n",
       "      background-color: #434B5C;\n",
       "      box-shadow: 0px 1px 3px 1px rgba(0, 0, 0, 0.15);\n",
       "      filter: drop-shadow(0px 1px 2px rgba(0, 0, 0, 0.3));\n",
       "      fill: #FFFFFF;\n",
       "    }\n",
       "  </style>\n",
       "\n",
       "      <script>\n",
       "        const buttonEl =\n",
       "          document.querySelector('#df-10b443dc-91bc-4562-91e4-e2abe3af8817 button.colab-df-convert');\n",
       "        buttonEl.style.display =\n",
       "          google.colab.kernel.accessAllowed ? 'block' : 'none';\n",
       "\n",
       "        async function convertToInteractive(key) {\n",
       "          const element = document.querySelector('#df-10b443dc-91bc-4562-91e4-e2abe3af8817');\n",
       "          const dataTable =\n",
       "            await google.colab.kernel.invokeFunction('convertToInteractive',\n",
       "                                                     [key], {});\n",
       "          if (!dataTable) return;\n",
       "\n",
       "          const docLinkHtml = 'Like what you see? Visit the ' +\n",
       "            '<a target=\"_blank\" href=https://colab.research.google.com/notebooks/data_table.ipynb>data table notebook</a>'\n",
       "            + ' to learn more about interactive tables.';\n",
       "          element.innerHTML = '';\n",
       "          dataTable['output_type'] = 'display_data';\n",
       "          await google.colab.output.renderOutput(dataTable, element);\n",
       "          const docLink = document.createElement('div');\n",
       "          docLink.innerHTML = docLinkHtml;\n",
       "          element.appendChild(docLink);\n",
       "        }\n",
       "      </script>\n",
       "    </div>\n",
       "  </div>\n",
       "  "
      ],
      "text/plain": [
       "           TAG      평일휴일       시간대        성별       연령대      건수합계\n",
       "TAG   1.000000 -0.002606  0.003934  0.000182 -0.001317 -0.035302\n",
       "평일휴일 -0.002606  1.000000  0.006043  0.000987 -0.004303 -0.103840\n",
       "시간대   0.003934  0.006043  1.000000 -0.000964  0.006888  0.154335\n",
       "성별    0.000182  0.000987 -0.000964  1.000000  0.001361 -0.168243\n",
       "연령대  -0.001317 -0.004303  0.006888  0.001361  1.000000 -0.092038\n",
       "건수합계 -0.035302 -0.103840  0.154335 -0.168243 -0.092038  1.000000"
      ]
     },
     "execution_count": 138,
     "metadata": {},
     "output_type": "execute_result"
    }
   ],
   "source": [
    "df.corr()"
   ]
  },
  {
   "cell_type": "code",
   "execution_count": 139,
   "metadata": {
    "colab": {
     "base_uri": "https://localhost:8080/"
    },
    "id": "F_-BqP7NFQ2N",
    "outputId": "f156aec5-6313-4c33-e627-500ddd9f7045"
   },
   "outputs": [
    {
     "data": {
      "text/plain": [
       "(       TAG  평일휴일  시간대  성별\n",
       " 0        3     0    1   0\n",
       " 1        0     0    3   1\n",
       " 2        2     1    5   1\n",
       " 3        1     1    3   0\n",
       " 4        0     0    2   0\n",
       " ...    ...   ...  ...  ..\n",
       " 21552    1     0    5   1\n",
       " 21553    2     0    3   0\n",
       " 21554    1     0    4   1\n",
       " 21555    0     0    2   0\n",
       " 21556    3     0    2   1\n",
       " \n",
       " [21557 rows x 4 columns],)"
      ]
     },
     "execution_count": 139,
     "metadata": {},
     "output_type": "execute_result"
    }
   ],
   "source": [
    "df.iloc[:,:-2],"
   ]
  },
  {
   "cell_type": "code",
   "execution_count": 140,
   "metadata": {
    "colab": {
     "base_uri": "https://localhost:8080/"
    },
    "id": "twd_JuldU7rN",
    "outputId": "d03aac07-98c5-400b-9263-345b1e7cfe9f"
   },
   "outputs": [
    {
     "data": {
      "text/plain": [
       "Index(['TAG', '평일휴일', '시간대', '성별', '연령대', '건수합계'], dtype='object')"
      ]
     },
     "execution_count": 140,
     "metadata": {},
     "output_type": "execute_result"
    }
   ],
   "source": [
    "df.columns"
   ]
  },
  {
   "cell_type": "code",
   "execution_count": 141,
   "metadata": {
    "id": "yW4o7lvsFmOl"
   },
   "outputs": [],
   "source": [
    "X_train,X_test,y_train,y_test = train_test_split(df[['연령대', '평일휴일', '시간대', '성별', '건수합계']], df['TAG'],test_size=0.2, random_state=3)"
   ]
  },
  {
   "cell_type": "code",
   "execution_count": 142,
   "metadata": {
    "id": "MXDSVqN3Gosk"
   },
   "outputs": [],
   "source": [
    "dt=DecisionTreeClassifier(criterion='gini', max_depth = 3, max_features = 2, random_state=100).fit(X_train, y_train)"
   ]
  },
  {
   "cell_type": "code",
   "execution_count": 143,
   "metadata": {
    "id": "EgNenRHbGzpU"
   },
   "outputs": [],
   "source": [
    "svm=SVC(C=0.1, gamma=0.04, random_state=35, probability=True, kernel='rbf').fit(X_train, y_train)"
   ]
  },
  {
   "cell_type": "code",
   "execution_count": 144,
   "metadata": {
    "id": "5u9EV02nGz9s"
   },
   "outputs": [],
   "source": [
    "lr = LogisticRegression().fit(X_train, y_train)"
   ]
  },
  {
   "cell_type": "code",
   "execution_count": 145,
   "metadata": {
    "id": "Fy7WLiEYITt_"
   },
   "outputs": [],
   "source": [
    "dt_p = dt.predict(X_test)\n",
    "svm_p=svm.predict(X_test)\n",
    "lr_p=lr.predict(X_test)"
   ]
  },
  {
   "cell_type": "code",
   "execution_count": 146,
   "metadata": {
    "colab": {
     "base_uri": "https://localhost:8080/"
    },
    "id": "ZLo8XTMPG1ZE",
    "outputId": "9c79a8e1-af0e-415d-e357-76e252abffd1"
   },
   "outputs": [
    {
     "data": {
      "text/plain": [
       "0.3647959183673469"
      ]
     },
     "execution_count": 146,
     "metadata": {},
     "output_type": "execute_result"
    }
   ],
   "source": [
    "hard_voting_clf=VotingClassifier(\n",
    "    estimators=[('decision tree', dt),('LogisticRegression', lr ),('svm', svm)], weights=[1,1,1], voting='hard'\n",
    ").fit(X_train, y_train)\n",
    "\n",
    "hard_voting_predicted = hard_voting_clf.predict(X_test)\n",
    "accuracy_score(y_test, hard_voting_predicted) ## 다수결의 원칙으로 정함. "
   ]
  },
  {
   "cell_type": "code",
   "execution_count": 147,
   "metadata": {
    "colab": {
     "base_uri": "https://localhost:8080/"
    },
    "id": "-gn6hoBmHIO3",
    "outputId": "f730b900-7e14-4886-dbcd-fac5ba024259"
   },
   "outputs": [
    {
     "data": {
      "text/plain": [
       "0.3647959183673469"
      ]
     },
     "execution_count": 147,
     "metadata": {},
     "output_type": "execute_result"
    }
   ],
   "source": [
    "soft_voting_clf=VotingClassifier(\n",
    "    estimators=[('decision tree', dt),('LogisticRegression', lr ),('svm', svm)], weights=[1,1,1], voting='soft'\n",
    ").fit(X_train, y_train)\n",
    "\n",
    "soft_voting_predicted = soft_voting_clf.predict(X_test)\n",
    "accuracy_score(y_test, hard_voting_predicted) ## 다수결의 원칙으로 정함. "
   ]
  },
  {
   "cell_type": "code",
   "execution_count": 148,
   "metadata": {
    "id": "S-E50AwdHIVX"
   },
   "outputs": [],
   "source": [
    "rf = RandomForestClassifier(\n",
    "    n_estimators=100,\n",
    "    max_depth=5,\n",
    "    random_state=10\n",
    ").fit(X_train, y_train)"
   ]
  },
  {
   "cell_type": "code",
   "execution_count": 149,
   "metadata": {
    "colab": {
     "base_uri": "https://localhost:8080/"
    },
    "id": "4QRO1Kd4KFoo",
    "outputId": "4370c8dc-d125-4ef5-e34f-78c09fd7dbc8"
   },
   "outputs": [
    {
     "data": {
      "text/plain": [
       "0.3868274582560297"
      ]
     },
     "execution_count": 149,
     "metadata": {},
     "output_type": "execute_result"
    }
   ],
   "source": [
    "rf_predt = rf.predict(X_test)\n",
    "rf_acc = accuracy_score(y_test, rf_predt)\n",
    "rf_acc"
   ]
  },
  {
   "cell_type": "code",
   "execution_count": 150,
   "metadata": {
    "colab": {
     "base_uri": "https://localhost:8080/",
     "height": 266
    },
    "id": "e6NFDFN8HIXt",
    "outputId": "b4039e87-6195-48c4-e94b-91b2ec53d591"
   },
   "outputs": [
    {
     "data": {
      "image/png": "[encoded data removed]",
      "text/plain": [
       "<Figure size 432x288 with 1 Axes>"
      ]
     },
     "metadata": {
      "needs_background": "light"
     },
     "output_type": "display_data"
    }
   ],
   "source": [
    "x = np.arange(6)\n",
    "plt.bar(x, height= [\n",
    "                    accuracy_score(y_test, hard_voting_predicted),\n",
    "                    accuracy_score(y_test, soft_voting_predicted),\n",
    "                    accuracy_score(y_test, rf_predt),\n",
    "                    accuracy_score(y_test, dt_p),\n",
    "                    accuracy_score(y_test, svm_p),\n",
    "                    accuracy_score(y_test, lr_p)\n",
    "\n",
    "\n",
    "            ])\n",
    "plt.xticks(x, ['hard voting','soft voting', 'bagging','d-tree' ,'svm ','logistic']);"
   ]
  },
  {
   "cell_type": "code",
   "execution_count": 151,
   "metadata": {
    "id": "FeyZ8BY_KDhs"
   },
   "outputs": [],
   "source": [
    "from sklearn.ensemble import GradientBoostingClassifier\n",
    "from sklearn.ensemble import HistGradientBoostingClassifier\n",
    "from xgboost import XGBClassifier\n",
    "from lightgbm import LGBMClassifier"
   ]
  },
  {
   "cell_type": "code",
   "execution_count": 152,
   "metadata": {
    "id": "IAxVH6wCKdyP"
   },
   "outputs": [],
   "source": [
    "gbc=GradientBoostingClassifier(random_state=42).fit(X_train, y_train)\n",
    "hist=HistGradientBoostingClassifier(random_state=42).fit(X_train, y_train)\n",
    "xgb=XGBClassifier(random_state=42,).fit(X_train, y_train)\n",
    "lgbm=LGBMClassifier(random_state=42).fit(X_train, y_train)"
   ]
  },
  {
   "cell_type": "code",
   "execution_count": 153,
   "metadata": {
    "id": "hpAatMYDKd4N"
   },
   "outputs": [],
   "source": [
    "gbc_p = gbc.predict(X_test)\n",
    "hist_p = hist.predict(X_test)\n",
    "xgb_p = xgb.predict(X_test)\n",
    "lgbm_p = lgbm.predict(X_test)"
   ]
  },
  {
   "cell_type": "code",
   "execution_count": 154,
   "metadata": {
    "colab": {
     "base_uri": "https://localhost:8080/"
    },
    "id": "O5kLqrEtKd9I",
    "outputId": "4655a8ee-42ae-4137-8055-0ade8b367716"
   },
   "outputs": [
    {
     "name": "stdout",
     "output_type": "stream",
     "text": [
      "[accuarcy]\n",
      "gbc:  0.4032931354359926\n",
      "svm   :  0.42115027829313545\n",
      "xgb   :  0.40630797773654914\n",
      "lgbm   :  0.42787569573283857\n"
     ]
    }
   ],
   "source": [
    "print(\"[accuarcy]\")\n",
    "print(\"gbc: \",accuracy_score(y_test, gbc_p))\n",
    "print(\"svm   : \",accuracy_score(y_test,hist_p))\n",
    "print(\"xgb   : \",accuracy_score(y_test, xgb_p))\n",
    "print(\"lgbm   : \",accuracy_score(y_test, lgbm_p))"
   ]
  },
  {
   "cell_type": "code",
   "execution_count": 155,
   "metadata": {
    "id": "tKGVvInvLCw0"
   },
   "outputs": [],
   "source": [
    "# pip install catboost"
   ]
  },
  {
   "cell_type": "markdown",
   "metadata": {
    "id": "lzrh7U6IYjHE"
   },
   "source": [
    "import catboost as cat"
   ]
  },
  {
   "cell_type": "code",
   "execution_count": 156,
   "metadata": {
    "id": "zN2Ql8FzYkMB"
   },
   "outputs": [],
   "source": [
    "import catboost as cat"
   ]
  },
  {
   "cell_type": "code",
   "execution_count": 157,
   "metadata": {
    "colab": {
     "base_uri": "https://localhost:8080/"
    },
    "id": "VQEcrpwoYk3L",
    "outputId": "29308ceb-5b9a-41a0-faf2-5e67c25d2d98"
   },
   "outputs": [
    {
     "name": "stdout",
     "output_type": "stream",
     "text": [
      "0:\tlearn: 0.4206437\ttotal: 58.1ms\tremaining: 5.75s\n",
      "1:\tlearn: 0.4262105\ttotal: 91.4ms\tremaining: 4.48s\n",
      "2:\tlearn: 0.4306756\ttotal: 120ms\tremaining: 3.88s\n",
      "3:\tlearn: 0.4337489\ttotal: 151ms\tremaining: 3.62s\n",
      "4:\tlearn: 0.4334590\ttotal: 179ms\tremaining: 3.4s\n",
      "5:\tlearn: 0.4311395\ttotal: 188ms\tremaining: 2.95s\n",
      "6:\tlearn: 0.4336909\ttotal: 216ms\tremaining: 2.87s\n",
      "7:\tlearn: 0.4329951\ttotal: 244ms\tremaining: 2.81s\n",
      "8:\tlearn: 0.4287620\ttotal: 276ms\tremaining: 2.79s\n",
      "9:\tlearn: 0.4279501\ttotal: 306ms\tremaining: 2.75s\n",
      "10:\tlearn: 0.4320093\ttotal: 333ms\tremaining: 2.7s\n",
      "11:\tlearn: 0.4324732\ttotal: 366ms\tremaining: 2.68s\n",
      "12:\tlearn: 0.4335749\ttotal: 395ms\tremaining: 2.65s\n",
      "13:\tlearn: 0.4318933\ttotal: 424ms\tremaining: 2.6s\n",
      "14:\tlearn: 0.4343868\ttotal: 451ms\tremaining: 2.56s\n",
      "15:\tlearn: 0.4375181\ttotal: 482ms\tremaining: 2.53s\n",
      "16:\tlearn: 0.4363584\ttotal: 512ms\tremaining: 2.5s\n",
      "17:\tlearn: 0.4367643\ttotal: 546ms\tremaining: 2.49s\n",
      "18:\tlearn: 0.4346187\ttotal: 575ms\tremaining: 2.45s\n",
      "19:\tlearn: 0.4357205\ttotal: 606ms\tremaining: 2.42s\n",
      "20:\tlearn: 0.4356045\ttotal: 620ms\tremaining: 2.33s\n",
      "21:\tlearn: 0.4361844\ttotal: 648ms\tremaining: 2.3s\n",
      "22:\tlearn: 0.4343288\ttotal: 676ms\tremaining: 2.26s\n",
      "23:\tlearn: 0.4350246\ttotal: 712ms\tremaining: 2.25s\n",
      "24:\tlearn: 0.4360104\ttotal: 726ms\tremaining: 2.18s\n",
      "25:\tlearn: 0.4368223\ttotal: 754ms\tremaining: 2.15s\n",
      "26:\tlearn: 0.4370542\ttotal: 785ms\tremaining: 2.12s\n",
      "27:\tlearn: 0.4383879\ttotal: 814ms\tremaining: 2.09s\n",
      "28:\tlearn: 0.4368223\ttotal: 842ms\tremaining: 2.06s\n",
      "29:\tlearn: 0.4387359\ttotal: 876ms\tremaining: 2.04s\n",
      "30:\tlearn: 0.4385039\ttotal: 906ms\tremaining: 2.02s\n",
      "31:\tlearn: 0.4385039\ttotal: 948ms\tremaining: 2.02s\n",
      "32:\tlearn: 0.4391998\ttotal: 979ms\tremaining: 1.99s\n",
      "33:\tlearn: 0.4406495\ttotal: 1.01s\tremaining: 1.97s\n",
      "34:\tlearn: 0.4405335\ttotal: 1.04s\tremaining: 1.93s\n",
      "35:\tlearn: 0.4408234\ttotal: 1.07s\tremaining: 1.9s\n",
      "36:\tlearn: 0.4415773\ttotal: 1.11s\tremaining: 1.89s\n",
      "37:\tlearn: 0.4414613\ttotal: 1.14s\tremaining: 1.86s\n",
      "38:\tlearn: 0.4422731\ttotal: 1.17s\tremaining: 1.83s\n",
      "39:\tlearn: 0.4420412\ttotal: 1.2s\tremaining: 1.8s\n",
      "40:\tlearn: 0.4423311\ttotal: 1.24s\tremaining: 1.78s\n",
      "41:\tlearn: 0.4426210\ttotal: 1.26s\tremaining: 1.75s\n",
      "42:\tlearn: 0.4434329\ttotal: 1.29s\tremaining: 1.72s\n",
      "43:\tlearn: 0.4445346\ttotal: 1.32s\tremaining: 1.68s\n",
      "44:\tlearn: 0.4441867\ttotal: 1.35s\tremaining: 1.65s\n",
      "45:\tlearn: 0.4440707\ttotal: 1.38s\tremaining: 1.63s\n",
      "46:\tlearn: 0.4437228\ttotal: 1.42s\tremaining: 1.6s\n",
      "47:\tlearn: 0.4437228\ttotal: 1.45s\tremaining: 1.57s\n",
      "48:\tlearn: 0.4445346\ttotal: 1.48s\tremaining: 1.53s\n",
      "49:\tlearn: 0.4445346\ttotal: 1.51s\tremaining: 1.51s\n",
      "50:\tlearn: 0.4445346\ttotal: 1.53s\tremaining: 1.48s\n",
      "51:\tlearn: 0.4441287\ttotal: 1.56s\tremaining: 1.44s\n",
      "52:\tlearn: 0.4441287\ttotal: 1.59s\tremaining: 1.41s\n",
      "53:\tlearn: 0.4434909\ttotal: 1.61s\tremaining: 1.37s\n",
      "54:\tlearn: 0.4438968\ttotal: 1.64s\tremaining: 1.34s\n",
      "55:\tlearn: 0.4438388\ttotal: 1.67s\tremaining: 1.31s\n",
      "56:\tlearn: 0.4425051\ttotal: 1.7s\tremaining: 1.28s\n",
      "57:\tlearn: 0.4427370\ttotal: 1.73s\tremaining: 1.25s\n",
      "58:\tlearn: 0.4430270\ttotal: 1.76s\tremaining: 1.22s\n",
      "59:\tlearn: 0.4434329\ttotal: 1.79s\tremaining: 1.19s\n",
      "60:\tlearn: 0.4435489\ttotal: 1.82s\tremaining: 1.16s\n",
      "61:\tlearn: 0.4435489\ttotal: 1.85s\tremaining: 1.14s\n",
      "62:\tlearn: 0.4451725\ttotal: 1.88s\tremaining: 1.1s\n",
      "63:\tlearn: 0.4452885\ttotal: 1.91s\tremaining: 1.07s\n",
      "64:\tlearn: 0.4462743\ttotal: 1.96s\tremaining: 1.05s\n",
      "65:\tlearn: 0.4463323\ttotal: 1.98s\tremaining: 1.02s\n",
      "66:\tlearn: 0.4455784\ttotal: 2.01s\tremaining: 991ms\n",
      "67:\tlearn: 0.4456944\ttotal: 2.05s\tremaining: 964ms\n",
      "68:\tlearn: 0.4466802\ttotal: 2.08s\tremaining: 933ms\n",
      "69:\tlearn: 0.4462743\ttotal: 2.1s\tremaining: 900ms\n",
      "70:\tlearn: 0.4470281\ttotal: 2.13s\tremaining: 869ms\n",
      "71:\tlearn: 0.4467382\ttotal: 2.15s\tremaining: 838ms\n",
      "72:\tlearn: 0.4465062\ttotal: 2.18s\tremaining: 807ms\n",
      "73:\tlearn: 0.4461583\ttotal: 2.2s\tremaining: 772ms\n",
      "74:\tlearn: 0.4467382\ttotal: 2.23s\tremaining: 742ms\n",
      "75:\tlearn: 0.4465062\ttotal: 2.26s\tremaining: 713ms\n",
      "76:\tlearn: 0.4472601\ttotal: 2.29s\tremaining: 683ms\n",
      "77:\tlearn: 0.4472021\ttotal: 2.32s\tremaining: 655ms\n",
      "78:\tlearn: 0.4475500\ttotal: 2.35s\tremaining: 625ms\n",
      "79:\tlearn: 0.4468542\ttotal: 2.38s\tremaining: 595ms\n",
      "80:\tlearn: 0.4484198\ttotal: 2.41s\tremaining: 565ms\n",
      "81:\tlearn: 0.4488837\ttotal: 2.43s\tremaining: 534ms\n",
      "82:\tlearn: 0.4488257\ttotal: 2.47s\tremaining: 506ms\n",
      "83:\tlearn: 0.4485938\ttotal: 2.5s\tremaining: 476ms\n",
      "84:\tlearn: 0.4492317\ttotal: 2.53s\tremaining: 446ms\n",
      "85:\tlearn: 0.4489997\ttotal: 2.54s\tremaining: 414ms\n",
      "86:\tlearn: 0.4488837\ttotal: 2.57s\tremaining: 384ms\n",
      "87:\tlearn: 0.4489997\ttotal: 2.6s\tremaining: 354ms\n",
      "88:\tlearn: 0.4501015\ttotal: 2.62s\tremaining: 324ms\n",
      "89:\tlearn: 0.4499855\ttotal: 2.65s\tremaining: 295ms\n",
      "90:\tlearn: 0.4501595\ttotal: 2.68s\tremaining: 265ms\n",
      "91:\tlearn: 0.4506814\ttotal: 2.71s\tremaining: 236ms\n",
      "92:\tlearn: 0.4507393\ttotal: 2.74s\tremaining: 207ms\n",
      "93:\tlearn: 0.4503334\ttotal: 2.77s\tremaining: 177ms\n",
      "94:\tlearn: 0.4504494\ttotal: 2.78s\tremaining: 146ms\n",
      "95:\tlearn: 0.4504494\ttotal: 2.8s\tremaining: 117ms\n",
      "96:\tlearn: 0.4512032\ttotal: 2.83s\tremaining: 87.5ms\n",
      "97:\tlearn: 0.4509133\ttotal: 2.86s\tremaining: 58.3ms\n",
      "98:\tlearn: 0.4511453\ttotal: 2.89s\tremaining: 29.2ms\n",
      "99:\tlearn: 0.4508553\ttotal: 2.92s\tremaining: 0us\n"
     ]
    }
   ],
   "source": [
    "cb = cat.Pool(data = X_train, label= y_train)\n",
    "cp = {\n",
    "    'max_depth' : 10,\n",
    "    'learning_rate' : 0.01,\n",
    "    'n_estimators' : 100,\n",
    "    'eval_metric' : 'Accuracy',\n",
    "    'loss_function' : 'MultiClass'\n",
    "}\n",
    "cat_model = cat.train(pool=cb, params=cp)"
   ]
  },
  {
   "cell_type": "code",
   "execution_count": 157,
   "metadata": {
    "id": "fjS9lVySdtWb"
   },
   "outputs": [],
   "source": []
  },
  {
   "cell_type": "code",
   "execution_count": 158,
   "metadata": {
    "colab": {
     "base_uri": "https://localhost:8080/"
    },
    "id": "-3W9qu-eZWne",
    "outputId": "53117e37-2af5-49ba-ca15-129b16a88491"
   },
   "outputs": [
    {
     "data": {
      "text/plain": [
       "0.41836734693877553"
      ]
     },
     "execution_count": 158,
     "metadata": {},
     "output_type": "execute_result"
    }
   ],
   "source": [
    "cat_predt = np.argmax(cat_model.predict(X_test), axis=1)\n",
    "accuracy_score(y_test, cat_predt)"
   ]
  },
  {
   "cell_type": "code",
   "execution_count": 159,
   "metadata": {
    "colab": {
     "base_uri": "https://localhost:8080/"
    },
    "id": "PGZlFy_wZc6b",
    "outputId": "35a6b5f1-4e7e-42ee-9330-393dd91e77bc"
   },
   "outputs": [
    {
     "data": {
      "text/plain": [
       "array([0.13040359, 0.        , 0.01676353, 0.03638763, 0.81644525])"
      ]
     },
     "execution_count": 159,
     "metadata": {},
     "output_type": "execute_result"
    }
   ],
   "source": [
    "dt.feature_importances_"
   ]
  },
  {
   "cell_type": "code",
   "execution_count": 159,
   "metadata": {
    "id": "lSvAYOE1bh8q"
   },
   "outputs": [],
   "source": []
  }
 ],
 "metadata": {
  "colab": {
   "collapsed_sections": [],
   "name": "Untitled4.ipynb",
   "provenance": []
  },
  "kernelspec": {
   "display_name": "Python 3",
   "language": "python",
   "name": "python3"
  },
  "language_info": {
   "codemirror_mode": {
    "name": "ipython",
    "version": 3
   },
   "file_extension": ".py",
   "mimetype": "text/x-python",
   "name": "python",
   "nbconvert_exporter": "python",
   "pygments_lexer": "ipython3",
   "version": "3.7.4"
  }
 },
 "nbformat": 4,
 "nbformat_minor": 1
}

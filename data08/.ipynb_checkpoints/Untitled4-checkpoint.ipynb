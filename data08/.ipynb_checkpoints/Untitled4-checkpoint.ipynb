{
 "cells": [
  {
   "cell_type": "code",
   "execution_count": 15,
   "metadata": {
    "colab": {
     "base_uri": "https://localhost:8080/"
    },
    "id": "V7fITryoPeZu",
    "outputId": "13cb5987-844f-490b-84f8-6d1d9eab2bbb"
   },
   "outputs": [
    {
     "name": "stderr",
     "output_type": "stream",
     "text": [
      "'sudo'은(는) 내부 또는 외부 명령, 실행할 수 있는 프로그램, 또는\n",
      "배치 파일이 아닙니다.\n",
      "'sudo'은(는) 내부 또는 외부 명령, 실행할 수 있는 프로그램, 또는\n",
      "배치 파일이 아닙니다.\n",
      "'rm'은(는) 내부 또는 외부 명령, 실행할 수 있는 프로그램, 또는\n",
      "배치 파일이 아닙니다.\n"
     ]
    }
   ],
   "source": [
    "!sudo apt-get install -y fonts-nanum\n",
    "!sudo fc-cache -fv\n",
    "!rm ~/.cache/matplotlib -rf"
   ]
  },
  {
   "cell_type": "code",
   "execution_count": 16,
   "metadata": {},
   "outputs": [],
   "source": [
    "import warnings\n",
    "warnings.filterwarnings('ignore')"
   ]
  },
  {
   "cell_type": "code",
   "execution_count": 17,
   "metadata": {
    "id": "ZnqvfURp4qTd"
   },
   "outputs": [],
   "source": [
    "## 분류 싱글\n",
    "from sklearn.tree import DecisionTreeClassifier\n",
    "from sklearn.neighbors import KNeighborsClassifier\n",
    "from sklearn.svm import SVC\n",
    "from sklearn.ensemble import VotingClassifier\n",
    "from sklearn.model_selection import train_test_split\n",
    "from sklearn.metrics import accuracy_score\n",
    "from sklearn.linear_model import LogisticRegression\n",
    "from sklearn.ensemble import RandomForestClassifier\n",
    "from sklearn.model_selection import cross_validate\n",
    "from sklearn.neighbors import KNeighborsClassifier\n",
    "from sklearn.model_selection import cross_val_score\n",
    "from sklearn.metrics import *\n",
    "from sklearn.model_selection import train_test_split\n",
    "from sklearn.model_selection import GridSearchCV\n",
    "from sklearn.preprocessing import LabelEncoder\n",
    "import pandas as pd\n",
    "import numpy as np\n",
    "import seaborn as sns\n",
    "from pandas.plotting import parallel_coordinates\n",
    "import matplotlib.pyplot as plt\n",
    "from matplotlib import rc\n",
    "import matplotlib.font_manager as fm\n",
    "from sklearn.datasets import fetch_openml\n",
    "from sklearn.model_selection import train_test_split\n",
    "from IPython.display import Image\n",
    "# sklearn 모델의 동일한 결과 출력을 위해 선언합니다.\n",
    "import numpy as np\n",
    "np.random.seed(5)\n",
    "import matplotlib.pyplot as plt\n",
    "plt.rc('font', family='NanumBarunGothic')"
   ]
  },
  {
   "cell_type": "code",
   "execution_count": 18,
   "metadata": {
    "colab": {
     "base_uri": "https://localhost:8080/",
     "height": 424
    },
    "id": "DMXupgmT5AxQ",
    "outputId": "3ab351b2-6508-4cde-e65d-798a75e98244"
   },
   "outputs": [
    {
     "data": {
      "text/html": [
       "<div>\n",
       "<style scoped>\n",
       "    .dataframe tbody tr th:only-of-type {\n",
       "        vertical-align: middle;\n",
       "    }\n",
       "\n",
       "    .dataframe tbody tr th {\n",
       "        vertical-align: top;\n",
       "    }\n",
       "\n",
       "    .dataframe thead th {\n",
       "        text-align: right;\n",
       "    }\n",
       "</style>\n",
       "<table border=\"1\" class=\"dataframe\">\n",
       "  <thead>\n",
       "    <tr style=\"text-align: right;\">\n",
       "      <th></th>\n",
       "      <th>CRI_YM</th>\n",
       "      <th>TAG</th>\n",
       "      <th>평일휴일</th>\n",
       "      <th>요일</th>\n",
       "      <th>시간대</th>\n",
       "      <th>성별</th>\n",
       "      <th>연령대</th>\n",
       "      <th>건수합계</th>\n",
       "    </tr>\n",
       "  </thead>\n",
       "  <tbody>\n",
       "    <tr>\n",
       "      <td>0</td>\n",
       "      <td>201905</td>\n",
       "      <td>유아용품</td>\n",
       "      <td>평일</td>\n",
       "      <td>목</td>\n",
       "      <td>B.06-10시</td>\n",
       "      <td>F</td>\n",
       "      <td>A.2O대</td>\n",
       "      <td>291</td>\n",
       "    </tr>\n",
       "    <tr>\n",
       "      <td>1</td>\n",
       "      <td>202005</td>\n",
       "      <td>생활/사무용품</td>\n",
       "      <td>평일</td>\n",
       "      <td>월</td>\n",
       "      <td>D.14-18시</td>\n",
       "      <td>M</td>\n",
       "      <td>C.4O대</td>\n",
       "      <td>6225</td>\n",
       "    </tr>\n",
       "    <tr>\n",
       "      <td>2</td>\n",
       "      <td>201905</td>\n",
       "      <td>골프용품</td>\n",
       "      <td>휴일</td>\n",
       "      <td>일</td>\n",
       "      <td>F.22-02시</td>\n",
       "      <td>M</td>\n",
       "      <td>B.3O대</td>\n",
       "      <td>51</td>\n",
       "    </tr>\n",
       "    <tr>\n",
       "      <td>3</td>\n",
       "      <td>202105</td>\n",
       "      <td>화장품</td>\n",
       "      <td>휴일</td>\n",
       "      <td>일</td>\n",
       "      <td>D.14-18시</td>\n",
       "      <td>F</td>\n",
       "      <td>C.4O대</td>\n",
       "      <td>3564</td>\n",
       "    </tr>\n",
       "    <tr>\n",
       "      <td>4</td>\n",
       "      <td>202005</td>\n",
       "      <td>인테리어</td>\n",
       "      <td>평일</td>\n",
       "      <td>월</td>\n",
       "      <td>C.10-14시</td>\n",
       "      <td>F</td>\n",
       "      <td>D.5O대</td>\n",
       "      <td>1101</td>\n",
       "    </tr>\n",
       "    <tr>\n",
       "      <td>...</td>\n",
       "      <td>...</td>\n",
       "      <td>...</td>\n",
       "      <td>...</td>\n",
       "      <td>...</td>\n",
       "      <td>...</td>\n",
       "      <td>...</td>\n",
       "      <td>...</td>\n",
       "      <td>...</td>\n",
       "    </tr>\n",
       "    <tr>\n",
       "      <td>21552</td>\n",
       "      <td>201905</td>\n",
       "      <td>패션</td>\n",
       "      <td>평일</td>\n",
       "      <td>월</td>\n",
       "      <td>F.22-02시</td>\n",
       "      <td>M</td>\n",
       "      <td>C.4O대</td>\n",
       "      <td>2470</td>\n",
       "    </tr>\n",
       "    <tr>\n",
       "      <td>21553</td>\n",
       "      <td>202005</td>\n",
       "      <td>골프용품</td>\n",
       "      <td>평일</td>\n",
       "      <td>금</td>\n",
       "      <td>D.14-18시</td>\n",
       "      <td>F</td>\n",
       "      <td>C.4O대</td>\n",
       "      <td>107</td>\n",
       "    </tr>\n",
       "    <tr>\n",
       "      <td>21554</td>\n",
       "      <td>202105</td>\n",
       "      <td>스포츠의류용품</td>\n",
       "      <td>평일</td>\n",
       "      <td>화</td>\n",
       "      <td>E.18-22시</td>\n",
       "      <td>M</td>\n",
       "      <td>B.3O대</td>\n",
       "      <td>603</td>\n",
       "    </tr>\n",
       "    <tr>\n",
       "      <td>21555</td>\n",
       "      <td>202105</td>\n",
       "      <td>인테리어</td>\n",
       "      <td>평일</td>\n",
       "      <td>화</td>\n",
       "      <td>C.10-14시</td>\n",
       "      <td>F</td>\n",
       "      <td>E.60대이상</td>\n",
       "      <td>415</td>\n",
       "    </tr>\n",
       "    <tr>\n",
       "      <td>21556</td>\n",
       "      <td>201905</td>\n",
       "      <td>유아용품</td>\n",
       "      <td>평일</td>\n",
       "      <td>목</td>\n",
       "      <td>C.10-14시</td>\n",
       "      <td>M</td>\n",
       "      <td>C.4O대</td>\n",
       "      <td>580</td>\n",
       "    </tr>\n",
       "  </tbody>\n",
       "</table>\n",
       "<p>21557 rows × 8 columns</p>\n",
       "</div>"
      ],
      "text/plain": [
       "       CRI_YM      TAG 평일휴일 요일       시간대 성별      연령대  건수합계\n",
       "0      201905     유아용품   평일  목  B.06-10시  F    A.2O대   291\n",
       "1      202005  생활/사무용품   평일  월  D.14-18시  M    C.4O대  6225\n",
       "2      201905     골프용품   휴일  일  F.22-02시  M    B.3O대    51\n",
       "3      202105      화장품   휴일  일  D.14-18시  F    C.4O대  3564\n",
       "4      202005     인테리어   평일  월  C.10-14시  F    D.5O대  1101\n",
       "...       ...      ...  ... ..       ... ..      ...   ...\n",
       "21552  201905       패션   평일  월  F.22-02시  M    C.4O대  2470\n",
       "21553  202005     골프용품   평일  금  D.14-18시  F    C.4O대   107\n",
       "21554  202105  스포츠의류용품   평일  화  E.18-22시  M    B.3O대   603\n",
       "21555  202105     인테리어   평일  화  C.10-14시  F  E.60대이상   415\n",
       "21556  201905     유아용품   평일  목  C.10-14시  M    C.4O대   580\n",
       "\n",
       "[21557 rows x 8 columns]"
      ]
     },
     "execution_count": 18,
     "metadata": {},
     "output_type": "execute_result"
    }
   ],
   "source": [
    "df=pd.read_excel('../csv-data/KDX2021_SSC_ONLINE_DATA.xlsx')\n",
    "df"
   ]
  },
  {
   "cell_type": "markdown",
   "metadata": {
    "id": "J9bjDLb6QFTV"
   },
   "source": [
    "### ***EDA***"
   ]
  },
  {
   "cell_type": "markdown",
   "metadata": {
    "id": "4xV_jLIxQPad"
   },
   "source": [
    " **성별별 물품 구매현황** "
   ]
  },
  {
   "cell_type": "code",
   "execution_count": 19,
   "metadata": {
    "colab": {
     "base_uri": "https://localhost:8080/"
    },
    "id": "hHE_fZ5LM_W-",
    "outputId": "9a6356e9-c988-41b7-9237-ecb498fc2d8c"
   },
   "outputs": [
    {
     "data": {
      "text/plain": [
       "TAG\n",
       "가전          646.487773\n",
       "골프용품         37.514032\n",
       "생활/사무용품    2686.543590\n",
       "서적          619.996139\n",
       "스포츠의류용품     286.540750\n",
       "식료품        2635.503846\n",
       "애완용품        255.193548\n",
       "유아용품        493.358612\n",
       "인테리어        779.215661\n",
       "차량정비_부품      87.938992\n",
       "취미용품        210.579221\n",
       "패션         4085.270513\n",
       "홈쇼핑        3643.867949\n",
       "화장품        1267.456410\n",
       "Name: 건수합계, dtype: float64"
      ]
     },
     "execution_count": 19,
     "metadata": {},
     "output_type": "execute_result"
    }
   ],
   "source": [
    "A=df.groupby([\"성별\",\"TAG\"]).mean()\n",
    "list(A['건수합계'])\n",
    "A.loc['F',:].index\n",
    "A.loc['F',:]['건수합계']"
   ]
  },
  {
   "cell_type": "code",
   "execution_count": 20,
   "metadata": {
    "colab": {
     "base_uri": "https://localhost:8080/",
     "height": 248
    },
    "id": "9mZ_NrUxNbil",
    "outputId": "271de069-1bcf-4e8d-ea59-a6fe5d25c3ab"
   },
   "outputs": [
    {
     "data": {
      "image/png": "[encoded data removed]",
      "text/plain": [
       "<Figure size 432x288 with 1 Axes>"
      ]
     },
     "metadata": {},
     "output_type": "display_data"
    }
   ],
   "source": [
    "#여자들이 많이 사는 물품\n",
    "ratio = list(A.loc['F',:]['건수합계'])\n",
    "labels = list(A.loc['F',:].index)\n",
    "\n",
    "plt.pie(ratio, labels=labels, autopct='%.1f%%')\n",
    "plt.show()"
   ]
  },
  {
   "cell_type": "code",
   "execution_count": 21,
   "metadata": {
    "colab": {
     "base_uri": "https://localhost:8080/",
     "height": 248
    },
    "id": "30oe228GPP1d",
    "outputId": "301edebc-13b6-4a65-f404-16d8a1c09cac"
   },
   "outputs": [
    {
     "data": {
      "image/png": "[encoded data removed]",
      "text/plain": [
       "<Figure size 432x288 with 1 Axes>"
      ]
     },
     "metadata": {},
     "output_type": "display_data"
    }
   ],
   "source": [
    "#남자들이 많이 사는 물품\n",
    "ratio = list(A.loc['M',:]['건수합계'])\n",
    "labels = list(A.loc['M',:].index)\n",
    "\n",
    "plt.pie(ratio, labels=labels, autopct='%.1f%%')\n",
    "plt.show()"
   ]
  },
  {
   "cell_type": "markdown",
   "metadata": {
    "id": "36SeruFw5kcY"
   },
   "source": [
    "### 라벨인코딩"
   ]
  },
  {
   "cell_type": "code",
   "execution_count": 22,
   "metadata": {
    "colab": {
     "base_uri": "https://localhost:8080/"
    },
    "id": "8EQ0vqO45n7Y",
    "outputId": "46bbbbf2-98cf-4fe5-ee95-de32884a5a53"
   },
   "outputs": [
    {
     "data": {
      "text/plain": [
       "(['화장품',\n",
       "  '인테리어',\n",
       "  '차량정비_부품',\n",
       "  '스포츠의류용품',\n",
       "  '취미용품',\n",
       "  '서적',\n",
       "  '생활/사무용품',\n",
       "  '골프용품',\n",
       "  '가전',\n",
       "  '식료품',\n",
       "  '패션',\n",
       "  '애완용품',\n",
       "  '홈쇼핑',\n",
       "  '유아용품'],\n",
       " ['E.18-22시', 'C.10-14시', 'D.14-18시', 'A.02-06시', 'B.06-10시', 'F.22-02시'],\n",
       " ['B.3O대', 'E.60대이상', 'C.4O대', 'A.2O대', 'D.5O대'])"
      ]
     },
     "execution_count": 22,
     "metadata": {},
     "output_type": "execute_result"
    }
   ],
   "source": [
    "list(set(df['TAG'])) , list(set(df['시간대'])) , list(set(df['연령대']))"
   ]
  },
  {
   "cell_type": "code",
   "execution_count": 23,
   "metadata": {
    "colab": {
     "base_uri": "https://localhost:8080/"
    },
    "id": "hj39NkeU5r23",
    "outputId": "a1affe24-0dff-4f26-fa60-137e75b36fef"
   },
   "outputs": [
    {
     "data": {
      "text/plain": [
       "0         7\n",
       "1         2\n",
       "2         1\n",
       "3        13\n",
       "4         8\n",
       "         ..\n",
       "21552    11\n",
       "21553     1\n",
       "21554     4\n",
       "21555     8\n",
       "21556     7\n",
       "Name: TAG, Length: 21557, dtype: int32"
      ]
     },
     "execution_count": 23,
     "metadata": {},
     "output_type": "execute_result"
    }
   ],
   "source": [
    "encoder=LabelEncoder()\n",
    "df['TAG'].unique()\n",
    "encoder.fit(df['TAG'].unique())\n",
    "target=encoder.transform(df['TAG'])\n",
    "\n",
    "df['TAG']= target\n",
    "df['TAG']\n"
   ]
  },
  {
   "cell_type": "code",
   "execution_count": 24,
   "metadata": {
    "colab": {
     "base_uri": "https://localhost:8080/"
    },
    "id": "CKkgGDHn5ql2",
    "outputId": "ab085a2c-3637-4573-82e3-ab78692f8aa6"
   },
   "outputs": [
    {
     "data": {
      "text/plain": [
       "array(['가전', '골프용품', '생활/사무용품', '서적', '스포츠의류용품', '식료품', '애완용품', '유아용품',\n",
       "       '인테리어', '차량정비_부품', '취미용품', '패션', '홈쇼핑', '화장품'], dtype=object)"
      ]
     },
     "execution_count": 24,
     "metadata": {},
     "output_type": "execute_result"
    }
   ],
   "source": [
    "encoder.classes_"
   ]
  },
  {
   "cell_type": "code",
   "execution_count": 25,
   "metadata": {
    "colab": {
     "base_uri": "https://localhost:8080/"
    },
    "id": "82B5JVsW5tpe",
    "outputId": "86d1921e-cce7-4caa-b1b1-16fbac28e3b9"
   },
   "outputs": [
    {
     "data": {
      "text/plain": [
       "0        0\n",
       "1        2\n",
       "2        1\n",
       "3        2\n",
       "4        3\n",
       "        ..\n",
       "21552    2\n",
       "21553    2\n",
       "21554    1\n",
       "21555    4\n",
       "21556    2\n",
       "Name: 연령대, Length: 21557, dtype: int32"
      ]
     },
     "execution_count": 25,
     "metadata": {},
     "output_type": "execute_result"
    }
   ],
   "source": [
    "encoder2=LabelEncoder()\n",
    "df['연령대'].unique()\n",
    "encoder2.fit(df['연령대'].unique())\n",
    "target=encoder2.transform(df['연령대'])\n",
    "\n",
    "df['연령대']= target\n",
    "df['연령대']"
   ]
  },
  {
   "cell_type": "code",
   "execution_count": 26,
   "metadata": {
    "colab": {
     "base_uri": "https://localhost:8080/"
    },
    "id": "0gUujvbs5upG",
    "outputId": "ad0bba52-c4d0-45a4-f6b8-efe42cad807c"
   },
   "outputs": [
    {
     "data": {
      "text/plain": [
       "array(['A.2O대', 'B.3O대', 'C.4O대', 'D.5O대', 'E.60대이상'], dtype=object)"
      ]
     },
     "execution_count": 26,
     "metadata": {},
     "output_type": "execute_result"
    }
   ],
   "source": [
    "encoder2.classes_"
   ]
  },
  {
   "cell_type": "code",
   "execution_count": 27,
   "metadata": {
    "colab": {
     "base_uri": "https://localhost:8080/"
    },
    "id": "smv5ytACEIWn",
    "outputId": "a5eda645-6333-4389-bbf2-a0cdbcc3ceb7"
   },
   "outputs": [
    {
     "data": {
      "text/plain": [
       "array(['B.06-10시', 'D.14-18시', 'F.22-02시', 'C.10-14시', 'A.02-06시',\n",
       "       'E.18-22시'], dtype=object)"
      ]
     },
     "execution_count": 27,
     "metadata": {},
     "output_type": "execute_result"
    }
   ],
   "source": [
    "df['시간대'].unique()"
   ]
  },
  {
   "cell_type": "code",
   "execution_count": 28,
   "metadata": {
    "colab": {
     "base_uri": "https://localhost:8080/"
    },
    "id": "gYchYC5B5wpP",
    "outputId": "bcd83201-e9e7-4bc9-d04a-84b8f2a1bd15"
   },
   "outputs": [
    {
     "data": {
      "text/plain": [
       "0        1\n",
       "1        3\n",
       "2        5\n",
       "3        3\n",
       "4        2\n",
       "        ..\n",
       "21552    5\n",
       "21553    3\n",
       "21554    4\n",
       "21555    2\n",
       "21556    2\n",
       "Name: 시간대, Length: 21557, dtype: int32"
      ]
     },
     "execution_count": 28,
     "metadata": {},
     "output_type": "execute_result"
    }
   ],
   "source": [
    "encoder3 = LabelEncoder()\n",
    "df['시간대'].unique()\n",
    "encoder3.fit(df['시간대'].unique())\n",
    "target=encoder3.transform(df['시간대'])\n",
    "\n",
    "df['시간대']= target\n",
    "df['시간대']"
   ]
  },
  {
   "cell_type": "code",
   "execution_count": 29,
   "metadata": {
    "colab": {
     "base_uri": "https://localhost:8080/"
    },
    "id": "JKuFbH605yIO",
    "outputId": "51dc243e-a605-4298-f103-624b7cf3f7eb"
   },
   "outputs": [
    {
     "data": {
      "text/plain": [
       "array(['A.02-06시', 'B.06-10시', 'C.10-14시', 'D.14-18시', 'E.18-22시',\n",
       "       'F.22-02시'], dtype=object)"
      ]
     },
     "execution_count": 29,
     "metadata": {},
     "output_type": "execute_result"
    }
   ],
   "source": [
    "encoder3.classes_"
   ]
  },
  {
   "cell_type": "code",
   "execution_count": 30,
   "metadata": {
    "colab": {
     "base_uri": "https://localhost:8080/"
    },
    "id": "ZzP44lySFbEv",
    "outputId": "eec35437-13b7-4768-98e2-b68a516222e3"
   },
   "outputs": [
    {
     "data": {
      "text/plain": [
       "0        0\n",
       "1        0\n",
       "2        1\n",
       "3        1\n",
       "4        0\n",
       "        ..\n",
       "21552    0\n",
       "21553    0\n",
       "21554    0\n",
       "21555    0\n",
       "21556    0\n",
       "Name: 평일휴일, Length: 21557, dtype: int32"
      ]
     },
     "execution_count": 30,
     "metadata": {},
     "output_type": "execute_result"
    }
   ],
   "source": [
    "encoder4 = LabelEncoder()\n",
    "df['평일휴일'].unique()\n",
    "encoder4.fit(df['평일휴일'].unique())\n",
    "target=encoder4.transform(df['평일휴일'])\n",
    "\n",
    "df['평일휴일']= target\n",
    "df['평일휴일']"
   ]
  },
  {
   "cell_type": "code",
   "execution_count": 31,
   "metadata": {
    "colab": {
     "base_uri": "https://localhost:8080/"
    },
    "id": "gZuNT4o4Fjpe",
    "outputId": "385d78eb-297f-458a-96ac-7715742160af"
   },
   "outputs": [
    {
     "data": {
      "text/plain": [
       "array(['평일', '휴일'], dtype=object)"
      ]
     },
     "execution_count": 31,
     "metadata": {},
     "output_type": "execute_result"
    }
   ],
   "source": [
    "encoder4.classes_"
   ]
  },
  {
   "cell_type": "code",
   "execution_count": 32,
   "metadata": {
    "colab": {
     "base_uri": "https://localhost:8080/"
    },
    "id": "sF0nHyXNFt82",
    "outputId": "389059d4-f671-4fd3-ae22-675501a8bf86"
   },
   "outputs": [
    {
     "data": {
      "text/plain": [
       "0        0\n",
       "1        1\n",
       "2        1\n",
       "3        0\n",
       "4        0\n",
       "        ..\n",
       "21552    1\n",
       "21553    0\n",
       "21554    1\n",
       "21555    0\n",
       "21556    1\n",
       "Name: 성별, Length: 21557, dtype: int32"
      ]
     },
     "execution_count": 32,
     "metadata": {},
     "output_type": "execute_result"
    }
   ],
   "source": [
    "encoder5 = LabelEncoder()\n",
    "df['성별'].unique()\n",
    "encoder5.fit(df['성별'].unique())\n",
    "target=encoder5.transform(df['성별'])\n",
    "\n",
    "df['성별']= target\n",
    "df['성별']"
   ]
  },
  {
   "cell_type": "code",
   "execution_count": 33,
   "metadata": {
    "colab": {
     "base_uri": "https://localhost:8080/"
    },
    "id": "PsOeJ2tNFujm",
    "outputId": "b1b762b4-58ca-4fcd-dd34-115c1e2c0f52"
   },
   "outputs": [
    {
     "data": {
      "text/plain": [
       "array(['F', 'M'], dtype=object)"
      ]
     },
     "execution_count": 33,
     "metadata": {},
     "output_type": "execute_result"
    }
   ],
   "source": [
    "encoder5.classes_"
   ]
  },
  {
   "cell_type": "code",
   "execution_count": 34,
   "metadata": {
    "colab": {
     "base_uri": "https://localhost:8080/"
    },
    "id": "O0z9afMg5zj-",
    "outputId": "59eee6d2-bbd9-4b0c-87af-006a71924314"
   },
   "outputs": [
    {
     "name": "stdout",
     "output_type": "stream",
     "text": [
      "<class 'pandas.core.frame.DataFrame'>\n",
      "RangeIndex: 21557 entries, 0 to 21556\n",
      "Data columns (total 8 columns):\n",
      "CRI_YM    21557 non-null int64\n",
      "TAG       21557 non-null int32\n",
      "평일휴일      21557 non-null int32\n",
      "요일        21557 non-null object\n",
      "시간대       21557 non-null int32\n",
      "성별        21557 non-null int32\n",
      "연령대       21557 non-null int32\n",
      "건수합계      21557 non-null int64\n",
      "dtypes: int32(5), int64(2), object(1)\n",
      "memory usage: 926.4+ KB\n"
     ]
    }
   ],
   "source": [
    "df.info()"
   ]
  },
  {
   "cell_type": "code",
   "execution_count": 35,
   "metadata": {
    "id": "R3wdIqQ0EyYd"
   },
   "outputs": [],
   "source": [
    "df.drop(columns=[\"CRI_YM\",\"요일\"], inplace=True)"
   ]
  },
  {
   "cell_type": "code",
   "execution_count": 36,
   "metadata": {
    "colab": {
     "base_uri": "https://localhost:8080/",
     "height": 424
    },
    "id": "pTEoOdF8GjWm",
    "outputId": "246d660d-5af0-4f56-90e3-47d2815eacff"
   },
   "outputs": [
    {
     "data": {
      "text/html": [
       "<div>\n",
       "<style scoped>\n",
       "    .dataframe tbody tr th:only-of-type {\n",
       "        vertical-align: middle;\n",
       "    }\n",
       "\n",
       "    .dataframe tbody tr th {\n",
       "        vertical-align: top;\n",
       "    }\n",
       "\n",
       "    .dataframe thead th {\n",
       "        text-align: right;\n",
       "    }\n",
       "</style>\n",
       "<table border=\"1\" class=\"dataframe\">\n",
       "  <thead>\n",
       "    <tr style=\"text-align: right;\">\n",
       "      <th></th>\n",
       "      <th>TAG</th>\n",
       "      <th>평일휴일</th>\n",
       "      <th>시간대</th>\n",
       "      <th>성별</th>\n",
       "      <th>연령대</th>\n",
       "      <th>건수합계</th>\n",
       "    </tr>\n",
       "  </thead>\n",
       "  <tbody>\n",
       "    <tr>\n",
       "      <td>0</td>\n",
       "      <td>7</td>\n",
       "      <td>0</td>\n",
       "      <td>1</td>\n",
       "      <td>0</td>\n",
       "      <td>0</td>\n",
       "      <td>291</td>\n",
       "    </tr>\n",
       "    <tr>\n",
       "      <td>1</td>\n",
       "      <td>2</td>\n",
       "      <td>0</td>\n",
       "      <td>3</td>\n",
       "      <td>1</td>\n",
       "      <td>2</td>\n",
       "      <td>6225</td>\n",
       "    </tr>\n",
       "    <tr>\n",
       "      <td>2</td>\n",
       "      <td>1</td>\n",
       "      <td>1</td>\n",
       "      <td>5</td>\n",
       "      <td>1</td>\n",
       "      <td>1</td>\n",
       "      <td>51</td>\n",
       "    </tr>\n",
       "    <tr>\n",
       "      <td>3</td>\n",
       "      <td>13</td>\n",
       "      <td>1</td>\n",
       "      <td>3</td>\n",
       "      <td>0</td>\n",
       "      <td>2</td>\n",
       "      <td>3564</td>\n",
       "    </tr>\n",
       "    <tr>\n",
       "      <td>4</td>\n",
       "      <td>8</td>\n",
       "      <td>0</td>\n",
       "      <td>2</td>\n",
       "      <td>0</td>\n",
       "      <td>3</td>\n",
       "      <td>1101</td>\n",
       "    </tr>\n",
       "    <tr>\n",
       "      <td>...</td>\n",
       "      <td>...</td>\n",
       "      <td>...</td>\n",
       "      <td>...</td>\n",
       "      <td>...</td>\n",
       "      <td>...</td>\n",
       "      <td>...</td>\n",
       "    </tr>\n",
       "    <tr>\n",
       "      <td>21552</td>\n",
       "      <td>11</td>\n",
       "      <td>0</td>\n",
       "      <td>5</td>\n",
       "      <td>1</td>\n",
       "      <td>2</td>\n",
       "      <td>2470</td>\n",
       "    </tr>\n",
       "    <tr>\n",
       "      <td>21553</td>\n",
       "      <td>1</td>\n",
       "      <td>0</td>\n",
       "      <td>3</td>\n",
       "      <td>0</td>\n",
       "      <td>2</td>\n",
       "      <td>107</td>\n",
       "    </tr>\n",
       "    <tr>\n",
       "      <td>21554</td>\n",
       "      <td>4</td>\n",
       "      <td>0</td>\n",
       "      <td>4</td>\n",
       "      <td>1</td>\n",
       "      <td>1</td>\n",
       "      <td>603</td>\n",
       "    </tr>\n",
       "    <tr>\n",
       "      <td>21555</td>\n",
       "      <td>8</td>\n",
       "      <td>0</td>\n",
       "      <td>2</td>\n",
       "      <td>0</td>\n",
       "      <td>4</td>\n",
       "      <td>415</td>\n",
       "    </tr>\n",
       "    <tr>\n",
       "      <td>21556</td>\n",
       "      <td>7</td>\n",
       "      <td>0</td>\n",
       "      <td>2</td>\n",
       "      <td>1</td>\n",
       "      <td>2</td>\n",
       "      <td>580</td>\n",
       "    </tr>\n",
       "  </tbody>\n",
       "</table>\n",
       "<p>21557 rows × 6 columns</p>\n",
       "</div>"
      ],
      "text/plain": [
       "       TAG  평일휴일  시간대  성별  연령대  건수합계\n",
       "0        7     0    1   0    0   291\n",
       "1        2     0    3   1    2  6225\n",
       "2        1     1    5   1    1    51\n",
       "3       13     1    3   0    2  3564\n",
       "4        8     0    2   0    3  1101\n",
       "...    ...   ...  ...  ..  ...   ...\n",
       "21552   11     0    5   1    2  2470\n",
       "21553    1     0    3   0    2   107\n",
       "21554    4     0    4   1    1   603\n",
       "21555    8     0    2   0    4   415\n",
       "21556    7     0    2   1    2   580\n",
       "\n",
       "[21557 rows x 6 columns]"
      ]
     },
     "execution_count": 36,
     "metadata": {},
     "output_type": "execute_result"
    }
   ],
   "source": [
    "df"
   ]
  },
  {
   "cell_type": "code",
   "execution_count": 37,
   "metadata": {
    "colab": {
     "base_uri": "https://localhost:8080/",
     "height": 238
    },
    "id": "r75oU8P-MMXu",
    "outputId": "e6c33b08-28fd-43a7-b5bb-d146b99e152c"
   },
   "outputs": [
    {
     "data": {
      "text/html": [
       "<div>\n",
       "<style scoped>\n",
       "    .dataframe tbody tr th:only-of-type {\n",
       "        vertical-align: middle;\n",
       "    }\n",
       "\n",
       "    .dataframe tbody tr th {\n",
       "        vertical-align: top;\n",
       "    }\n",
       "\n",
       "    .dataframe thead th {\n",
       "        text-align: right;\n",
       "    }\n",
       "</style>\n",
       "<table border=\"1\" class=\"dataframe\">\n",
       "  <thead>\n",
       "    <tr style=\"text-align: right;\">\n",
       "      <th></th>\n",
       "      <th>TAG</th>\n",
       "      <th>평일휴일</th>\n",
       "      <th>시간대</th>\n",
       "      <th>성별</th>\n",
       "      <th>연령대</th>\n",
       "      <th>건수합계</th>\n",
       "    </tr>\n",
       "  </thead>\n",
       "  <tbody>\n",
       "    <tr>\n",
       "      <td>TAG</td>\n",
       "      <td>1.000000</td>\n",
       "      <td>0.005556</td>\n",
       "      <td>-0.009112</td>\n",
       "      <td>-0.001212</td>\n",
       "      <td>-0.001359</td>\n",
       "      <td>0.130328</td>\n",
       "    </tr>\n",
       "    <tr>\n",
       "      <td>평일휴일</td>\n",
       "      <td>0.005556</td>\n",
       "      <td>1.000000</td>\n",
       "      <td>0.006043</td>\n",
       "      <td>0.000987</td>\n",
       "      <td>-0.004303</td>\n",
       "      <td>-0.103840</td>\n",
       "    </tr>\n",
       "    <tr>\n",
       "      <td>시간대</td>\n",
       "      <td>-0.009112</td>\n",
       "      <td>0.006043</td>\n",
       "      <td>1.000000</td>\n",
       "      <td>-0.000964</td>\n",
       "      <td>0.006888</td>\n",
       "      <td>0.154335</td>\n",
       "    </tr>\n",
       "    <tr>\n",
       "      <td>성별</td>\n",
       "      <td>-0.001212</td>\n",
       "      <td>0.000987</td>\n",
       "      <td>-0.000964</td>\n",
       "      <td>1.000000</td>\n",
       "      <td>0.001361</td>\n",
       "      <td>-0.168243</td>\n",
       "    </tr>\n",
       "    <tr>\n",
       "      <td>연령대</td>\n",
       "      <td>-0.001359</td>\n",
       "      <td>-0.004303</td>\n",
       "      <td>0.006888</td>\n",
       "      <td>0.001361</td>\n",
       "      <td>1.000000</td>\n",
       "      <td>-0.092038</td>\n",
       "    </tr>\n",
       "    <tr>\n",
       "      <td>건수합계</td>\n",
       "      <td>0.130328</td>\n",
       "      <td>-0.103840</td>\n",
       "      <td>0.154335</td>\n",
       "      <td>-0.168243</td>\n",
       "      <td>-0.092038</td>\n",
       "      <td>1.000000</td>\n",
       "    </tr>\n",
       "  </tbody>\n",
       "</table>\n",
       "</div>"
      ],
      "text/plain": [
       "           TAG      평일휴일       시간대        성별       연령대      건수합계\n",
       "TAG   1.000000  0.005556 -0.009112 -0.001212 -0.001359  0.130328\n",
       "평일휴일  0.005556  1.000000  0.006043  0.000987 -0.004303 -0.103840\n",
       "시간대  -0.009112  0.006043  1.000000 -0.000964  0.006888  0.154335\n",
       "성별   -0.001212  0.000987 -0.000964  1.000000  0.001361 -0.168243\n",
       "연령대  -0.001359 -0.004303  0.006888  0.001361  1.000000 -0.092038\n",
       "건수합계  0.130328 -0.103840  0.154335 -0.168243 -0.092038  1.000000"
      ]
     },
     "execution_count": 37,
     "metadata": {},
     "output_type": "execute_result"
    }
   ],
   "source": [
    "df.corr()"
   ]
  },
  {
   "cell_type": "code",
   "execution_count": 38,
   "metadata": {
    "colab": {
     "base_uri": "https://localhost:8080/"
    },
    "id": "F_-BqP7NFQ2N",
    "outputId": "d89ef755-566b-4157-9cf6-7987a6086711"
   },
   "outputs": [
    {
     "data": {
      "text/plain": [
       "(       TAG  평일휴일  시간대  성별\n",
       " 0        7     0    1   0\n",
       " 1        2     0    3   1\n",
       " 2        1     1    5   1\n",
       " 3       13     1    3   0\n",
       " 4        8     0    2   0\n",
       " ...    ...   ...  ...  ..\n",
       " 21552   11     0    5   1\n",
       " 21553    1     0    3   0\n",
       " 21554    4     0    4   1\n",
       " 21555    8     0    2   0\n",
       " 21556    7     0    2   1\n",
       " \n",
       " [21557 rows x 4 columns],)"
      ]
     },
     "execution_count": 38,
     "metadata": {},
     "output_type": "execute_result"
    }
   ],
   "source": [
    "df.iloc[:,:-2],"
   ]
  },
  {
   "cell_type": "code",
   "execution_count": 39,
   "metadata": {
    "id": "yW4o7lvsFmOl"
   },
   "outputs": [],
   "source": [
    "X_train,X_test,y_train,y_test = train_test_split(df.iloc[:,1:], df.iloc[:,0],test_size=0.2, random_state=3)"
   ]
  },
  {
   "cell_type": "code",
   "execution_count": 40,
   "metadata": {
    "id": "MXDSVqN3Gosk"
   },
   "outputs": [],
   "source": [
    "dt=DecisionTreeClassifier(criterion='gini', max_depth = 3, max_features = 2, random_state=100).fit(X_train, y_train)"
   ]
  },
  {
   "cell_type": "code",
   "execution_count": 41,
   "metadata": {
    "id": "EgNenRHbGzpU"
   },
   "outputs": [],
   "source": [
    "svm=SVC(C=0.1, gamma=0.04, random_state=35, probability=True, kernel='rbf').fit(X_train, y_train)"
   ]
  },
  {
   "cell_type": "code",
   "execution_count": 42,
   "metadata": {
    "colab": {
     "base_uri": "https://localhost:8080/"
    },
    "id": "5u9EV02nGz9s",
    "outputId": "e9a7adc8-a0f0-427c-ffdf-8c2685e3fa41"
   },
   "outputs": [],
   "source": [
    "lr = LogisticRegression().fit(X_train, y_train)"
   ]
  },
  {
   "cell_type": "code",
   "execution_count": 43,
   "metadata": {
    "id": "Fy7WLiEYITt_"
   },
   "outputs": [],
   "source": [
    "dt_p = dt.predict(X_test)\n",
    "svm_p=svm.predict(X_test)\n",
    "lr_p=lr.predict(X_test)"
   ]
  },
  {
   "cell_type": "code",
   "execution_count": null,
   "metadata": {
    "colab": {
     "base_uri": "https://localhost:8080/"
    },
    "id": "ZLo8XTMPG1ZE",
    "outputId": "2066dcea-4f10-46ba-db4c-bb09da3c33cb"
   },
   "outputs": [],
   "source": [
    "hard_voting_clf=VotingClassifier(\n",
    "    estimators=[('decision tree', dt),('LogisticRegression', lr ),('svm', svm)], weights=[1,1,1], voting='hard'\n",
    ").fit(X_train, y_train)\n",
    "\n",
    "hard_voting_predicted = hard_voting_clf.predict(X_test)\n",
    "accuracy_score(y_test, hard_voting_predicted) ## 다수결의 원칙으로 정함. "
   ]
  },
  {
   "cell_type": "code",
   "execution_count": null,
   "metadata": {
    "colab": {
     "base_uri": "https://localhost:8080/"
    },
    "id": "-gn6hoBmHIO3",
    "outputId": "a93d172d-7cf6-4144-ea57-b4b7cab23dc4"
   },
   "outputs": [],
   "source": [
    "soft_voting_clf=VotingClassifier(\n",
    "    estimators=[('decision tree', dt),('LogisticRegression', lr ),('svm', svm)], weights=[1,1,1], voting='soft'\n",
    ").fit(X_train, y_train)\n",
    "\n",
    "soft_voting_predicted = soft_voting_clf.predict(X_test)\n",
    "accuracy_score(y_test, hard_voting_predicted) ## 다수결의 원칙으로 정함. "
   ]
  },
  {
   "cell_type": "code",
   "execution_count": null,
   "metadata": {
    "id": "S-E50AwdHIVX"
   },
   "outputs": [],
   "source": [
    "rf = RandomForestClassifier(\n",
    "    n_estimators=100,\n",
    "    max_depth=5,\n",
    "    random_state=10\n",
    ").fit(X_train, y_train)"
   ]
  },
  {
   "cell_type": "code",
   "execution_count": null,
   "metadata": {
    "colab": {
     "base_uri": "https://localhost:8080/"
    },
    "id": "4QRO1Kd4KFoo",
    "outputId": "3630d319-ba73-4de0-8072-13949a805eee"
   },
   "outputs": [],
   "source": [
    "rf_predt = rf.predict(X_test)\n",
    "rf_acc = accuracy_score(y_test, rf_predt)\n",
    "rf_acc"
   ]
  },
  {
   "cell_type": "code",
   "execution_count": null,
   "metadata": {
    "colab": {
     "base_uri": "https://localhost:8080/",
     "height": 266
    },
    "id": "e6NFDFN8HIXt",
    "outputId": "23624d55-c433-491c-aa3b-c2ef6b75c809"
   },
   "outputs": [],
   "source": [
    "x = np.arange(6)\n",
    "plt.bar(x, height= [\n",
    "                    accuracy_score(y_test, hard_voting_predicted),\n",
    "                    accuracy_score(y_test, soft_voting_predicted),\n",
    "                    accuracy_score(y_test, rf_predt),\n",
    "                    accuracy_score(y_test, dt_p),\n",
    "                    accuracy_score(y_test, svm_p),\n",
    "                    accuracy_score(y_test, lr_p)\n",
    "\n",
    "\n",
    "            ])\n",
    "plt.xticks(x, ['hard voting','soft voting', 'bagging','d-tree' ,'svm ','logistic']);"
   ]
  },
  {
   "cell_type": "code",
   "execution_count": null,
   "metadata": {
    "id": "FeyZ8BY_KDhs"
   },
   "outputs": [],
   "source": [
    "from sklearn.ensemble import GradientBoostingClassifier\n",
    "from sklearn.ensemble import HistGradientBoostingClassifier\n",
    "from xgboost import XGBClassifier\n",
    "from lightgbm import LGBMClassifier"
   ]
  },
  {
   "cell_type": "code",
   "execution_count": null,
   "metadata": {
    "id": "IAxVH6wCKdyP"
   },
   "outputs": [],
   "source": [
    "gbc=GradientBoostingClassifier(random_state=42).fit(X_train, y_train)\n",
    "hist=HistGradientBoostingClassifier(random_state=42).fit(X_train, y_train)\n",
    "xgb=XGBClassifier(random_state=42,).fit(X_train, y_train)\n",
    "lgbm=LGBMClassifier(random_state=42).fit(X_train, y_train)"
   ]
  },
  {
   "cell_type": "code",
   "execution_count": null,
   "metadata": {
    "id": "hpAatMYDKd4N"
   },
   "outputs": [],
   "source": [
    "gbc_p = gbc.predict(X_test)\n",
    "hist_p = hist.predict(X_test)\n",
    "xgb_p = xgb.predict(X_test)\n",
    "lgbm_p = lgbm.predict(X_test)"
   ]
  },
  {
   "cell_type": "code",
   "execution_count": null,
   "metadata": {
    "colab": {
     "base_uri": "https://localhost:8080/"
    },
    "id": "O5kLqrEtKd9I",
    "outputId": "d56b538e-ab1c-4ec3-b9f8-58c39e947b1d"
   },
   "outputs": [],
   "source": [
    "print(\"[accuarcy]\")\n",
    "print(\"gbc: \",accuracy_score(y_test, gbc_p))\n",
    "print(\"svm   : \",accuracy_score(y_test,hist_p))\n",
    "print(\"xgb   : \",accuracy_score(y_test, xgb_p))\n",
    "print(\"lgbm   : \",accuracy_score(y_test, lgbm_p))"
   ]
  },
  {
   "cell_type": "code",
   "execution_count": 61,
   "metadata": {
    "id": "tKGVvInvLCw0"
   },
   "outputs": [],
   "source": []
  }
 ],
 "metadata": {
  "colab": {
   "collapsed_sections": [],
   "name": "Untitled4.ipynb",
   "provenance": []
  },
  "kernelspec": {
   "display_name": "Python 3",
   "language": "python",
   "name": "python3"
  },
  "language_info": {
   "codemirror_mode": {
    "name": "ipython",
    "version": 3
   },
   "file_extension": ".py",
   "mimetype": "text/x-python",
   "name": "python",
   "nbconvert_exporter": "python",
   "pygments_lexer": "ipython3",
   "version": "3.7.4"
  }
 },
 "nbformat": 4,
 "nbformat_minor": 1
}

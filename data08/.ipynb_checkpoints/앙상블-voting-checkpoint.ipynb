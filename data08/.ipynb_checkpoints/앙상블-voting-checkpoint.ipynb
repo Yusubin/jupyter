{
 "cells": [
  {
   "cell_type": "code",
   "execution_count": 75,
   "metadata": {},
   "outputs": [],
   "source": [
    "from sklearn import datasets\n",
    "from sklearn.tree import DecisionTreeClassifier\n",
    "from sklearn.neighbors import KNeighborsClassifier\n",
    "from sklearn.svm import SVC\n",
    "from sklearn.ensemble import VotingClassifier\n",
    "from sklearn.model_selection import train_test_split\n",
    "from sklearn.metrics import accuracy_score\n",
    "\n",
    "# sklearn 모델의 동일한 결과 출력을 위해 선언합니다.\n",
    "import numpy as np\n",
    "np.random.seed(5)"
   ]
  },
  {
   "cell_type": "code",
   "execution_count": 76,
   "metadata": {},
   "outputs": [],
   "source": [
    "## estimator, model, algorithm, classifier"
   ]
  },
  {
   "cell_type": "code",
   "execution_count": 77,
   "metadata": {},
   "outputs": [
    {
     "data": {
      "text/plain": [
       "dict_keys(['data', 'target', 'target_names', 'images', 'DESCR'])"
      ]
     },
     "execution_count": 77,
     "metadata": {},
     "output_type": "execute_result"
    }
   ],
   "source": [
    "mnist = datasets.load_digits()\n",
    "mnist.keys()"
   ]
  },
  {
   "cell_type": "code",
   "execution_count": 78,
   "metadata": {},
   "outputs": [],
   "source": [
    "features, labels = mnist.data, mnist.target\n",
    "X_train,X_test,y_train,y_test=train_test_split(features,labels,test_size=0.2)"
   ]
  },
  {
   "cell_type": "code",
   "execution_count": 79,
   "metadata": {},
   "outputs": [
    {
     "data": {
      "text/plain": [
       "((1437, 64), (360, 64), (1437,), (360,))"
      ]
     },
     "execution_count": 79,
     "metadata": {},
     "output_type": "execute_result"
    }
   ],
   "source": [
    "X_train.shape, X_test.shape,y_train.shape, y_test.shape"
   ]
  },
  {
   "cell_type": "markdown",
   "metadata": {},
   "source": [
    "#### 싱글모델"
   ]
  },
  {
   "cell_type": "code",
   "execution_count": 80,
   "metadata": {},
   "outputs": [],
   "source": [
    "dtree=DecisionTreeClassifier(\n",
    "    criterion='gini' ,max_depth=5, max_features=32, random_state=35\n",
    ").fit(X_train, y_train)"
   ]
  },
  {
   "cell_type": "code",
   "execution_count": 81,
   "metadata": {},
   "outputs": [],
   "source": [
    "knc=KNeighborsClassifier(\n",
    "    n_neighbors=299, n_jobs=None\n",
    ").fit(X_train, y_train)"
   ]
  },
  {
   "cell_type": "code",
   "execution_count": 82,
   "metadata": {},
   "outputs": [],
   "source": [
    "svc=SVC(C=0.1, gamma=0.004, random_state=35, probability=True, kernel='rbf').fit(X_train, y_train)"
   ]
  },
  {
   "cell_type": "code",
   "execution_count": 83,
   "metadata": {},
   "outputs": [
    {
     "data": {
      "text/plain": [
       "(array([5, 2, 7, 5, 5, 8, 2, 2, 3, 5, 9, 8, 7, 2, 8, 2, 1, 2, 0, 2, 5, 9,\n",
       "        8, 2, 8, 3, 2, 7, 5, 2, 8, 8, 2, 3, 8, 8, 4, 9, 7, 9, 5, 5, 6, 0,\n",
       "        1, 7, 2, 9, 2, 7, 7, 9, 5, 1, 2, 6, 7, 7, 8, 8, 2, 8, 3, 6, 2, 3,\n",
       "        2, 6, 8, 8, 2, 7, 8, 6, 0, 0, 5, 2, 2, 4, 1, 2, 4, 0, 8, 7, 8, 7,\n",
       "        8, 3, 7, 8, 5, 8, 8, 7, 5, 9, 7, 9, 3, 0, 7, 8, 7, 8, 8, 3, 2, 8,\n",
       "        5, 2, 7, 2, 2, 8, 9, 7, 2, 0, 0, 3, 9, 8, 2, 3, 2, 2, 4, 8, 0, 5,\n",
       "        2, 9, 2, 1, 3, 5, 9, 2, 2, 0, 9, 2, 3, 8, 7, 2, 9, 3, 3, 5, 8, 0,\n",
       "        8, 7, 5, 3, 4, 8, 0, 0, 3, 6, 1, 7, 7, 0, 2, 9, 2, 8, 7, 9, 4, 8,\n",
       "        0, 3, 3, 8, 5, 7, 5, 6, 8, 1, 8, 5, 2, 8, 6, 9, 9, 7, 8, 6, 2, 6,\n",
       "        0, 8, 6, 5, 3, 7, 0, 2, 7, 8, 4, 2, 3, 8, 2, 9, 3, 0, 9, 6, 0, 2,\n",
       "        0, 2, 5, 0, 2, 8, 5, 2, 8, 9, 2, 5, 0, 8, 3, 7, 2, 9, 7, 9, 2, 6,\n",
       "        1, 2, 8, 7, 0, 7, 5, 0, 6, 2, 1, 3, 3, 0, 3, 5, 1, 2, 1, 2, 6, 2,\n",
       "        3, 2, 0, 7, 1, 5, 3, 2, 7, 3, 2, 4, 6, 8, 3, 0, 0, 9, 3, 8, 4, 3,\n",
       "        7, 8, 6, 6, 2, 6, 7, 5, 2, 8, 1, 7, 5, 4, 5, 2, 6, 2, 0, 6, 0, 7,\n",
       "        2, 1, 8, 8, 7, 8, 2, 7, 2, 9, 0, 3, 7, 8, 2, 5, 2, 6, 1, 0, 5, 7,\n",
       "        2, 9, 8, 3, 9, 6, 5, 2, 8, 8, 2, 5, 3, 5, 7, 2, 3, 2, 1, 6, 5, 8,\n",
       "        8, 5, 8, 0, 3, 2, 2, 3]),\n",
       " array([5, 2, 5, 5, 5, 3, 2, 2, 3, 5, 9, 8, 7, 7, 1, 1, 5, 7, 0, 4, 5, 9,\n",
       "        0, 2, 1, 3, 4, 7, 5, 2, 1, 1, 2, 9, 8, 1, 4, 0, 7, 9, 5, 5, 6, 0,\n",
       "        1, 7, 2, 9, 4, 7, 3, 9, 5, 2, 8, 6, 7, 7, 8, 1, 6, 1, 3, 6, 3, 3,\n",
       "        2, 6, 8, 1, 4, 7, 1, 6, 0, 0, 5, 1, 8, 5, 2, 6, 4, 0, 4, 7, 5, 7,\n",
       "        8, 9, 7, 9, 5, 1, 1, 7, 5, 9, 7, 9, 3, 0, 7, 8, 7, 4, 8, 3, 8, 8,\n",
       "        5, 2, 7, 4, 4, 8, 9, 7, 4, 0, 0, 9, 9, 8, 2, 3, 8, 4, 4, 8, 0, 5,\n",
       "        2, 9, 4, 9, 6, 9, 9, 7, 8, 0, 9, 4, 3, 8, 7, 5, 5, 9, 3, 3, 1, 0,\n",
       "        8, 7, 2, 8, 4, 1, 0, 0, 3, 6, 4, 7, 7, 0, 4, 9, 2, 8, 7, 9, 7, 2,\n",
       "        0, 3, 3, 8, 9, 7, 0, 6, 8, 4, 8, 5, 1, 1, 6, 9, 9, 7, 9, 6, 4, 6,\n",
       "        0, 1, 6, 9, 3, 5, 0, 2, 7, 8, 2, 7, 3, 8, 3, 9, 3, 0, 9, 6, 0, 4,\n",
       "        0, 8, 5, 0, 4, 3, 9, 2, 8, 9, 2, 5, 0, 8, 3, 7, 4, 3, 7, 9, 2, 6,\n",
       "        1, 2, 1, 7, 0, 7, 9, 0, 6, 4, 9, 8, 3, 0, 8, 9, 2, 2, 5, 2, 6, 6,\n",
       "        3, 4, 0, 7, 6, 5, 3, 8, 7, 3, 4, 2, 5, 1, 3, 0, 0, 9, 3, 8, 8, 3,\n",
       "        5, 8, 6, 6, 2, 6, 7, 3, 3, 1, 5, 7, 5, 4, 5, 2, 6, 2, 0, 6, 0, 7,\n",
       "        2, 5, 8, 8, 7, 1, 4, 7, 2, 0, 0, 3, 7, 4, 2, 5, 2, 6, 9, 0, 5, 7,\n",
       "        2, 9, 1, 6, 9, 6, 5, 4, 8, 8, 0, 9, 3, 5, 7, 1, 2, 4, 2, 6, 6, 2,\n",
       "        1, 5, 3, 0, 3, 2, 4, 3]),\n",
       " array([9, 9, 9, 9, 9, 3, 9, 9, 3, 9, 9, 9, 9, 9, 1, 9, 9, 9, 0, 4, 9, 9,\n",
       "        9, 2, 9, 3, 4, 9, 9, 9, 1, 1, 9, 9, 9, 1, 4, 9, 9, 9, 9, 9, 6, 9,\n",
       "        9, 9, 9, 9, 9, 7, 9, 9, 9, 9, 9, 6, 9, 7, 9, 1, 6, 1, 9, 6, 9, 9,\n",
       "        9, 6, 9, 1, 4, 9, 1, 6, 0, 9, 9, 9, 9, 9, 9, 6, 4, 0, 4, 7, 9, 9,\n",
       "        9, 9, 7, 9, 9, 1, 1, 7, 9, 9, 9, 9, 9, 9, 9, 9, 9, 9, 9, 3, 9, 9,\n",
       "        9, 9, 9, 4, 4, 9, 9, 9, 4, 9, 0, 9, 9, 9, 2, 3, 9, 4, 4, 9, 0, 9,\n",
       "        2, 9, 9, 9, 6, 9, 9, 9, 9, 0, 9, 4, 3, 9, 9, 9, 9, 9, 9, 9, 1, 0,\n",
       "        9, 9, 9, 9, 4, 9, 0, 0, 3, 6, 4, 7, 9, 9, 9, 9, 9, 9, 7, 9, 9, 9,\n",
       "        0, 9, 9, 9, 9, 9, 9, 6, 9, 4, 1, 9, 1, 1, 6, 9, 9, 9, 9, 6, 4, 6,\n",
       "        0, 1, 6, 9, 3, 9, 9, 2, 7, 9, 9, 9, 9, 9, 9, 9, 3, 9, 9, 6, 0, 4,\n",
       "        0, 9, 9, 0, 4, 9, 9, 9, 9, 9, 9, 9, 9, 9, 3, 7, 4, 3, 9, 9, 2, 6,\n",
       "        9, 9, 1, 9, 0, 9, 9, 0, 6, 4, 9, 9, 3, 9, 9, 9, 9, 2, 9, 2, 6, 6,\n",
       "        9, 4, 0, 7, 1, 9, 9, 9, 9, 9, 9, 9, 9, 9, 9, 0, 0, 9, 3, 9, 9, 9,\n",
       "        9, 9, 6, 9, 9, 6, 9, 9, 3, 1, 9, 9, 9, 4, 9, 2, 6, 2, 9, 6, 0, 9,\n",
       "        2, 9, 9, 9, 7, 1, 4, 9, 2, 9, 0, 9, 9, 4, 2, 9, 2, 6, 9, 0, 9, 9,\n",
       "        2, 9, 1, 6, 9, 9, 9, 4, 9, 9, 9, 9, 3, 9, 9, 1, 9, 4, 9, 6, 6, 9,\n",
       "        9, 9, 9, 9, 3, 2, 4, 9]))"
      ]
     },
     "execution_count": 83,
     "metadata": {},
     "output_type": "execute_result"
    }
   ],
   "source": [
    "dtree_p = dtree.predict(X_test)\n",
    "knc_p=knc.predict(X_test)\n",
    "svc_p=svc.predict(X_test)\n",
    "dtree_p , knc_p, svc_p"
   ]
  },
  {
   "cell_type": "code",
   "execution_count": 84,
   "metadata": {},
   "outputs": [
    {
     "name": "stdout",
     "output_type": "stream",
     "text": [
      "[accuarcy]\n",
      "d-tree:  0.6916666666666667\n",
      "knn   :  0.8944444444444445\n",
      "svm   :  0.4666666666666667\n"
     ]
    }
   ],
   "source": [
    "print(\"[accuarcy]\")\n",
    "print(\"d-tree: \",accuracy_score(y_test, dtree_p))\n",
    "print(\"knn   : \",accuracy_score(y_test, knc_p))\n",
    "print(\"svm   : \",accuracy_score(y_test, svc_p))"
   ]
  },
  {
   "cell_type": "code",
   "execution_count": 85,
   "metadata": {},
   "outputs": [
    {
     "data": {
      "text/plain": [
       "5"
      ]
     },
     "execution_count": 85,
     "metadata": {},
     "output_type": "execute_result"
    }
   ],
   "source": [
    "dtree_proba=dtree.predict_proba(X_test)\n",
    "dtree_proba[:2]#5,2\n",
    "np.argmax(dtree_proba[:1])"
   ]
  },
  {
   "cell_type": "code",
   "execution_count": 86,
   "metadata": {},
   "outputs": [
    {
     "data": {
      "text/plain": [
       "5"
      ]
     },
     "execution_count": 86,
     "metadata": {},
     "output_type": "execute_result"
    }
   ],
   "source": [
    "knn_proba=knc.predict_proba(X_test)\n",
    "knn_proba[:2]#5,2\n",
    "np.argmax(knn_proba[:1])"
   ]
  },
  {
   "cell_type": "code",
   "execution_count": 87,
   "metadata": {},
   "outputs": [
    {
     "data": {
      "text/plain": [
       "0"
      ]
     },
     "execution_count": 87,
     "metadata": {},
     "output_type": "execute_result"
    }
   ],
   "source": [
    "svm_proba=svc.predict_proba(X_test)\n",
    "svm_proba[:2]#5,2\n",
    "np.argmax(svm_proba[:1]) # 5일 가능성이 제일 높다\n",
    "np.argmin(svm_proba[:1]) # 0일 가능성이 제일 낮다."
   ]
  },
  {
   "cell_type": "markdown",
   "metadata": {},
   "source": [
    "#### 앙상블 모델"
   ]
  },
  {
   "cell_type": "markdown",
   "metadata": {},
   "source": [
    "##### hard voting"
   ]
  },
  {
   "cell_type": "code",
   "execution_count": 88,
   "metadata": {},
   "outputs": [
    {
     "data": {
      "text/plain": [
       "0.85"
      ]
     },
     "execution_count": 88,
     "metadata": {},
     "output_type": "execute_result"
    }
   ],
   "source": [
    "voting_clf=VotingClassifier(\n",
    "    estimators=[('decision tree', dtree),('knn', knc),('svm', svc)], weights=[1,1,1], voting='hard'\n",
    ").fit(X_train, y_train)\n",
    "\n",
    "hard_voting_predicted = voting_clf.predict(X_test)\n",
    "accuracy_score(y_test, hard_voting_predicted) ## 다수결의 원칙으로 정함. \n",
    "\n",
    "#    모델이름 | 예측값\n",
    "# (ex) dtree  >> 2\n",
    "# (ex) knn  >> 2\n",
    "# (ex) svm   >> 1\n",
    "#-------------------------\n",
    "#                         >> 다수결의 원칙으로 인해 결과를 2로 결정"
   ]
  },
  {
   "cell_type": "code",
   "execution_count": 89,
   "metadata": {},
   "outputs": [
    {
     "data": {
      "text/plain": [
       "array([2, 3])"
      ]
     },
     "execution_count": 89,
     "metadata": {},
     "output_type": "execute_result"
    }
   ],
   "source": [
    "hard_voting_predicted[[1,50]] ## 첫번째, 50번째의 숫잘 맞춤"
   ]
  },
  {
   "cell_type": "markdown",
   "metadata": {},
   "source": [
    "##### soft voting"
   ]
  },
  {
   "cell_type": "code",
   "execution_count": 90,
   "metadata": {},
   "outputs": [
    {
     "data": {
      "text/plain": [
       "0.8611111111111112"
      ]
     },
     "execution_count": 90,
     "metadata": {},
     "output_type": "execute_result"
    }
   ],
   "source": [
    "voting_clf=VotingClassifier(\n",
    "    estimators=[('decision tree', dtree),('knn', knc),('svm', svc)], weights=[1,1,1], voting='soft'\n",
    ").fit(X_train, y_train)\n",
    "soft_voting_predicted = voting_clf.predict(X_test)\n",
    "accuracy_score(y_test, soft_voting_predicted)"
   ]
  },
  {
   "cell_type": "code",
   "execution_count": 91,
   "metadata": {},
   "outputs": [
    {
     "data": {
      "text/plain": [
       "['DecisionTree', 'KNN', 'SVM', 'HardVoting', 'SoftVoting']"
      ]
     },
     "execution_count": 91,
     "metadata": {},
     "output_type": "execute_result"
    }
   ],
   "source": [
    "## 그래프로 그려보세요 accuracy, (knn, svm, hard voting, soft voting)\n",
    "import matplotlib.pyplot as plt\n",
    "%matplotlib inline\n",
    "['DecisionTree', \"KNN\", \"SVM\", \"HardVoting\",\"SoftVoting\"]"
   ]
  },
  {
   "cell_type": "code",
   "execution_count": 95,
   "metadata": {},
   "outputs": [
    {
     "data": {
      "text/plain": [
       "<BarContainer object of 5 artists>"
      ]
     },
     "execution_count": 95,
     "metadata": {},
     "output_type": "execute_result"
    },
    {
     "data": {
      "image/png": "[encoded data removed]",
      "text/plain": [
       "<Figure size 432x288 with 1 Axes>"
      ]
     },
     "metadata": {
      "needs_background": "light"
     },
     "output_type": "display_data"
    }
   ],
   "source": [
    "plt.bar(['DecisionTree', \"KNN\", \"SVM\", \"HardVoting\",\"SoftVoting\"]\n",
    "        ,[accuracy_score(y_test, dtree_p),accuracy_score(y_test, knc_p),accuracy_score(y_test, svc_p), accuracy_score(y_test, hard_voting_predicted),accuracy_score(y_test, soft_voting_predicted)],\n",
    "       color=['y', 'dodgerblue', 'C2','r','purple']\n",
    "       )"
   ]
  },
  {
   "cell_type": "code",
   "execution_count": null,
   "metadata": {},
   "outputs": [],
   "source": []
  }
 ],
 "metadata": {
  "kernelspec": {
   "display_name": "Python 3",
   "language": "python",
   "name": "python3"
  },
  "language_info": {
   "codemirror_mode": {
    "name": "ipython",
    "version": 3
   },
   "file_extension": ".py",
   "mimetype": "text/x-python",
   "name": "python",
   "nbconvert_exporter": "python",
   "pygments_lexer": "ipython3",
   "version": "3.7.4"
  }
 },
 "nbformat": 4,
 "nbformat_minor": 2
}

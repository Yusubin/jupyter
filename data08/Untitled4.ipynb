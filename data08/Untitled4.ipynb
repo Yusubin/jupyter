{
  "nbformat": 4,
  "nbformat_minor": 0,
  "metadata": {
    "colab": {
      "name": "Untitled4.ipynb",
      "provenance": [],
      "collapsed_sections": []
    },
    "kernelspec": {
      "name": "python3",
      "display_name": "Python 3"
    },
    "language_info": {
      "name": "python"
    }
  },
  "cells": [
    {
      "cell_type": "code",
      "source": [
        "!sudo apt-get install -y fonts-nanum\n",
        "!sudo fc-cache -fv\n",
        "!rm ~/.cache/matplotlib -rf"
      ],
      "metadata": {
        "colab": {
          "base_uri": "https://localhost:8080/"
        },
        "id": "V7fITryoPeZu",
        "outputId": "13cb5987-844f-490b-84f8-6d1d9eab2bbb"
      },
      "execution_count": 1,
      "outputs": [
        {
          "output_type": "stream",
          "name": "stdout",
          "text": [
            "Reading package lists... Done\n",
            "Building dependency tree       \n",
            "Reading state information... Done\n",
            "fonts-nanum is already the newest version (20170925-1).\n",
            "0 upgraded, 0 newly installed, 0 to remove and 39 not upgraded.\n",
            "/usr/share/fonts: caching, new cache contents: 0 fonts, 1 dirs\n",
            "/usr/share/fonts/truetype: caching, new cache contents: 0 fonts, 3 dirs\n",
            "/usr/share/fonts/truetype/humor-sans: caching, new cache contents: 1 fonts, 0 dirs\n",
            "/usr/share/fonts/truetype/liberation: caching, new cache contents: 16 fonts, 0 dirs\n",
            "/usr/share/fonts/truetype/nanum: caching, new cache contents: 10 fonts, 0 dirs\n",
            "/usr/local/share/fonts: caching, new cache contents: 0 fonts, 0 dirs\n",
            "/root/.local/share/fonts: skipping, no such directory\n",
            "/root/.fonts: skipping, no such directory\n",
            "/var/cache/fontconfig: cleaning cache directory\n",
            "/root/.cache/fontconfig: not cleaning non-existent cache directory\n",
            "/root/.fontconfig: not cleaning non-existent cache directory\n",
            "fc-cache: succeeded\n"
          ]
        }
      ]
    },
    {
      "cell_type": "code",
      "execution_count": 8,
      "metadata": {
        "id": "ZnqvfURp4qTd"
      },
      "outputs": [],
      "source": [
        "## 분류 싱글\n",
        "from sklearn.tree import DecisionTreeClassifier\n",
        "from sklearn.neighbors import KNeighborsClassifier\n",
        "from sklearn.svm import SVC\n",
        "from sklearn.ensemble import VotingClassifier\n",
        "from sklearn.model_selection import train_test_split\n",
        "from sklearn.metrics import accuracy_score\n",
        "from sklearn.linear_model import LogisticRegression\n",
        "from sklearn.ensemble import RandomForestClassifier\n",
        "from sklearn.model_selection import cross_validate\n",
        "from sklearn.neighbors import KNeighborsClassifier\n",
        "from sklearn.model_selection import cross_val_score\n",
        "from sklearn.metrics import *\n",
        "from sklearn.model_selection import train_test_split\n",
        "from sklearn.model_selection import GridSearchCV\n",
        "from sklearn.preprocessing import LabelEncoder\n",
        "import pandas as pd\n",
        "import numpy as np\n",
        "import seaborn as sns\n",
        "from pandas.plotting import parallel_coordinates\n",
        "import matplotlib.pyplot as plt\n",
        "from matplotlib import rc\n",
        "import matplotlib.font_manager as fm\n",
        "from sklearn.datasets import fetch_openml\n",
        "from sklearn.model_selection import train_test_split\n",
        "from IPython.display import Image\n",
        "# sklearn 모델의 동일한 결과 출력을 위해 선언합니다.\n",
        "import numpy as np\n",
        "np.random.seed(5)\n",
        "import matplotlib.pyplot as plt\n",
        "plt.rc('font', family='NanumBarunGothic')"
      ]
    },
    {
      "cell_type": "code",
      "source": [
        "df=pd.read_excel(\"/content/KDX2021_SSC_ONLINE_DATA.xlsx\")\n",
        "df"
      ],
      "metadata": {
        "colab": {
          "base_uri": "https://localhost:8080/",
          "height": 424
        },
        "id": "DMXupgmT5AxQ",
        "outputId": "3ab351b2-6508-4cde-e65d-798a75e98244"
      },
      "execution_count": 9,
      "outputs": [
        {
          "output_type": "execute_result",
          "data": {
            "text/plain": [
              "       CRI_YM      TAG 평일휴일 요일       시간대 성별      연령대  건수합계\n",
              "0      201905     유아용품   평일  목  B.06-10시  F    A.2O대   291\n",
              "1      202005  생활/사무용품   평일  월  D.14-18시  M    C.4O대  6225\n",
              "2      201905     골프용품   휴일  일  F.22-02시  M    B.3O대    51\n",
              "3      202105      화장품   휴일  일  D.14-18시  F    C.4O대  3564\n",
              "4      202005     인테리어   평일  월  C.10-14시  F    D.5O대  1101\n",
              "...       ...      ...  ... ..       ... ..      ...   ...\n",
              "21552  201905       패션   평일  월  F.22-02시  M    C.4O대  2470\n",
              "21553  202005     골프용품   평일  금  D.14-18시  F    C.4O대   107\n",
              "21554  202105  스포츠의류용품   평일  화  E.18-22시  M    B.3O대   603\n",
              "21555  202105     인테리어   평일  화  C.10-14시  F  E.60대이상   415\n",
              "21556  201905     유아용품   평일  목  C.10-14시  M    C.4O대   580\n",
              "\n",
              "[21557 rows x 8 columns]"
            ],
            "text/html": [
              "\n",
              "  <div id=\"df-054a354f-384f-4c08-a98f-7dd95c46f75d\">\n",
              "    <div class=\"colab-df-container\">\n",
              "      <div>\n",
              "<style scoped>\n",
              "    .dataframe tbody tr th:only-of-type {\n",
              "        vertical-align: middle;\n",
              "    }\n",
              "\n",
              "    .dataframe tbody tr th {\n",
              "        vertical-align: top;\n",
              "    }\n",
              "\n",
              "    .dataframe thead th {\n",
              "        text-align: right;\n",
              "    }\n",
              "</style>\n",
              "<table border=\"1\" class=\"dataframe\">\n",
              "  <thead>\n",
              "    <tr style=\"text-align: right;\">\n",
              "      <th></th>\n",
              "      <th>CRI_YM</th>\n",
              "      <th>TAG</th>\n",
              "      <th>평일휴일</th>\n",
              "      <th>요일</th>\n",
              "      <th>시간대</th>\n",
              "      <th>성별</th>\n",
              "      <th>연령대</th>\n",
              "      <th>건수합계</th>\n",
              "    </tr>\n",
              "  </thead>\n",
              "  <tbody>\n",
              "    <tr>\n",
              "      <th>0</th>\n",
              "      <td>201905</td>\n",
              "      <td>유아용품</td>\n",
              "      <td>평일</td>\n",
              "      <td>목</td>\n",
              "      <td>B.06-10시</td>\n",
              "      <td>F</td>\n",
              "      <td>A.2O대</td>\n",
              "      <td>291</td>\n",
              "    </tr>\n",
              "    <tr>\n",
              "      <th>1</th>\n",
              "      <td>202005</td>\n",
              "      <td>생활/사무용품</td>\n",
              "      <td>평일</td>\n",
              "      <td>월</td>\n",
              "      <td>D.14-18시</td>\n",
              "      <td>M</td>\n",
              "      <td>C.4O대</td>\n",
              "      <td>6225</td>\n",
              "    </tr>\n",
              "    <tr>\n",
              "      <th>2</th>\n",
              "      <td>201905</td>\n",
              "      <td>골프용품</td>\n",
              "      <td>휴일</td>\n",
              "      <td>일</td>\n",
              "      <td>F.22-02시</td>\n",
              "      <td>M</td>\n",
              "      <td>B.3O대</td>\n",
              "      <td>51</td>\n",
              "    </tr>\n",
              "    <tr>\n",
              "      <th>3</th>\n",
              "      <td>202105</td>\n",
              "      <td>화장품</td>\n",
              "      <td>휴일</td>\n",
              "      <td>일</td>\n",
              "      <td>D.14-18시</td>\n",
              "      <td>F</td>\n",
              "      <td>C.4O대</td>\n",
              "      <td>3564</td>\n",
              "    </tr>\n",
              "    <tr>\n",
              "      <th>4</th>\n",
              "      <td>202005</td>\n",
              "      <td>인테리어</td>\n",
              "      <td>평일</td>\n",
              "      <td>월</td>\n",
              "      <td>C.10-14시</td>\n",
              "      <td>F</td>\n",
              "      <td>D.5O대</td>\n",
              "      <td>1101</td>\n",
              "    </tr>\n",
              "    <tr>\n",
              "      <th>...</th>\n",
              "      <td>...</td>\n",
              "      <td>...</td>\n",
              "      <td>...</td>\n",
              "      <td>...</td>\n",
              "      <td>...</td>\n",
              "      <td>...</td>\n",
              "      <td>...</td>\n",
              "      <td>...</td>\n",
              "    </tr>\n",
              "    <tr>\n",
              "      <th>21552</th>\n",
              "      <td>201905</td>\n",
              "      <td>패션</td>\n",
              "      <td>평일</td>\n",
              "      <td>월</td>\n",
              "      <td>F.22-02시</td>\n",
              "      <td>M</td>\n",
              "      <td>C.4O대</td>\n",
              "      <td>2470</td>\n",
              "    </tr>\n",
              "    <tr>\n",
              "      <th>21553</th>\n",
              "      <td>202005</td>\n",
              "      <td>골프용품</td>\n",
              "      <td>평일</td>\n",
              "      <td>금</td>\n",
              "      <td>D.14-18시</td>\n",
              "      <td>F</td>\n",
              "      <td>C.4O대</td>\n",
              "      <td>107</td>\n",
              "    </tr>\n",
              "    <tr>\n",
              "      <th>21554</th>\n",
              "      <td>202105</td>\n",
              "      <td>스포츠의류용품</td>\n",
              "      <td>평일</td>\n",
              "      <td>화</td>\n",
              "      <td>E.18-22시</td>\n",
              "      <td>M</td>\n",
              "      <td>B.3O대</td>\n",
              "      <td>603</td>\n",
              "    </tr>\n",
              "    <tr>\n",
              "      <th>21555</th>\n",
              "      <td>202105</td>\n",
              "      <td>인테리어</td>\n",
              "      <td>평일</td>\n",
              "      <td>화</td>\n",
              "      <td>C.10-14시</td>\n",
              "      <td>F</td>\n",
              "      <td>E.60대이상</td>\n",
              "      <td>415</td>\n",
              "    </tr>\n",
              "    <tr>\n",
              "      <th>21556</th>\n",
              "      <td>201905</td>\n",
              "      <td>유아용품</td>\n",
              "      <td>평일</td>\n",
              "      <td>목</td>\n",
              "      <td>C.10-14시</td>\n",
              "      <td>M</td>\n",
              "      <td>C.4O대</td>\n",
              "      <td>580</td>\n",
              "    </tr>\n",
              "  </tbody>\n",
              "</table>\n",
              "<p>21557 rows × 8 columns</p>\n",
              "</div>\n",
              "      <button class=\"colab-df-convert\" onclick=\"convertToInteractive('df-054a354f-384f-4c08-a98f-7dd95c46f75d')\"\n",
              "              title=\"Convert this dataframe to an interactive table.\"\n",
              "              style=\"display:none;\">\n",
              "        \n",
              "  <svg xmlns=\"http://www.w3.org/2000/svg\" height=\"24px\"viewBox=\"0 0 24 24\"\n",
              "       width=\"24px\">\n",
              "    <path d=\"M0 0h24v24H0V0z\" fill=\"none\"/>\n",
              "    <path d=\"M18.56 5.44l.94 2.06.94-2.06 2.06-.94-2.06-.94-.94-2.06-.94 2.06-2.06.94zm-11 1L8.5 8.5l.94-2.06 2.06-.94-2.06-.94L8.5 2.5l-.94 2.06-2.06.94zm10 10l.94 2.06.94-2.06 2.06-.94-2.06-.94-.94-2.06-.94 2.06-2.06.94z\"/><path d=\"M17.41 7.96l-1.37-1.37c-.4-.4-.92-.59-1.43-.59-.52 0-1.04.2-1.43.59L10.3 9.45l-7.72 7.72c-.78.78-.78 2.05 0 2.83L4 21.41c.39.39.9.59 1.41.59.51 0 1.02-.2 1.41-.59l7.78-7.78 2.81-2.81c.8-.78.8-2.07 0-2.86zM5.41 20L4 18.59l7.72-7.72 1.47 1.35L5.41 20z\"/>\n",
              "  </svg>\n",
              "      </button>\n",
              "      \n",
              "  <style>\n",
              "    .colab-df-container {\n",
              "      display:flex;\n",
              "      flex-wrap:wrap;\n",
              "      gap: 12px;\n",
              "    }\n",
              "\n",
              "    .colab-df-convert {\n",
              "      background-color: #E8F0FE;\n",
              "      border: none;\n",
              "      border-radius: 50%;\n",
              "      cursor: pointer;\n",
              "      display: none;\n",
              "      fill: #1967D2;\n",
              "      height: 32px;\n",
              "      padding: 0 0 0 0;\n",
              "      width: 32px;\n",
              "    }\n",
              "\n",
              "    .colab-df-convert:hover {\n",
              "      background-color: #E2EBFA;\n",
              "      box-shadow: 0px 1px 2px rgba(60, 64, 67, 0.3), 0px 1px 3px 1px rgba(60, 64, 67, 0.15);\n",
              "      fill: #174EA6;\n",
              "    }\n",
              "\n",
              "    [theme=dark] .colab-df-convert {\n",
              "      background-color: #3B4455;\n",
              "      fill: #D2E3FC;\n",
              "    }\n",
              "\n",
              "    [theme=dark] .colab-df-convert:hover {\n",
              "      background-color: #434B5C;\n",
              "      box-shadow: 0px 1px 3px 1px rgba(0, 0, 0, 0.15);\n",
              "      filter: drop-shadow(0px 1px 2px rgba(0, 0, 0, 0.3));\n",
              "      fill: #FFFFFF;\n",
              "    }\n",
              "  </style>\n",
              "\n",
              "      <script>\n",
              "        const buttonEl =\n",
              "          document.querySelector('#df-054a354f-384f-4c08-a98f-7dd95c46f75d button.colab-df-convert');\n",
              "        buttonEl.style.display =\n",
              "          google.colab.kernel.accessAllowed ? 'block' : 'none';\n",
              "\n",
              "        async function convertToInteractive(key) {\n",
              "          const element = document.querySelector('#df-054a354f-384f-4c08-a98f-7dd95c46f75d');\n",
              "          const dataTable =\n",
              "            await google.colab.kernel.invokeFunction('convertToInteractive',\n",
              "                                                     [key], {});\n",
              "          if (!dataTable) return;\n",
              "\n",
              "          const docLinkHtml = 'Like what you see? Visit the ' +\n",
              "            '<a target=\"_blank\" href=https://colab.research.google.com/notebooks/data_table.ipynb>data table notebook</a>'\n",
              "            + ' to learn more about interactive tables.';\n",
              "          element.innerHTML = '';\n",
              "          dataTable['output_type'] = 'display_data';\n",
              "          await google.colab.output.renderOutput(dataTable, element);\n",
              "          const docLink = document.createElement('div');\n",
              "          docLink.innerHTML = docLinkHtml;\n",
              "          element.appendChild(docLink);\n",
              "        }\n",
              "      </script>\n",
              "    </div>\n",
              "  </div>\n",
              "  "
            ]
          },
          "metadata": {},
          "execution_count": 9
        }
      ]
    },
    {
      "cell_type": "markdown",
      "source": [
        "### ***EDA***"
      ],
      "metadata": {
        "id": "J9bjDLb6QFTV"
      }
    },
    {
      "cell_type": "markdown",
      "source": [
        " **성별별 물품 구매현황** "
      ],
      "metadata": {
        "id": "4xV_jLIxQPad"
      }
    },
    {
      "cell_type": "code",
      "source": [
        "A=df.groupby([\"성별\",\"TAG\"]).mean()\n",
        "list(A['건수합계'])\n",
        "A.loc['F',:].index\n",
        "A.loc['F',:]['건수합계']"
      ],
      "metadata": {
        "colab": {
          "base_uri": "https://localhost:8080/"
        },
        "id": "hHE_fZ5LM_W-",
        "outputId": "9a6356e9-c988-41b7-9237-ecb498fc2d8c"
      },
      "execution_count": 10,
      "outputs": [
        {
          "output_type": "execute_result",
          "data": {
            "text/plain": [
              "TAG\n",
              "가전          646.487773\n",
              "골프용품         37.514032\n",
              "생활/사무용품    2686.543590\n",
              "서적          619.996139\n",
              "스포츠의류용품     286.540750\n",
              "식료품        2635.503846\n",
              "애완용품        255.193548\n",
              "유아용품        493.358612\n",
              "인테리어        779.215661\n",
              "차량정비_부품      87.938992\n",
              "취미용품        210.579221\n",
              "패션         4085.270513\n",
              "홈쇼핑        3643.867949\n",
              "화장품        1267.456410\n",
              "Name: 건수합계, dtype: float64"
            ]
          },
          "metadata": {},
          "execution_count": 10
        }
      ]
    },
    {
      "cell_type": "code",
      "source": [
        "#여자들이 많이 사는 물품\n",
        "ratio = list(A.loc['F',:]['건수합계'])\n",
        "labels = list(A.loc['F',:].index)\n",
        "\n",
        "plt.pie(ratio, labels=labels, autopct='%.1f%%')\n",
        "plt.show()"
      ],
      "metadata": {
        "colab": {
          "base_uri": "https://localhost:8080/",
          "height": 248
        },
        "id": "9mZ_NrUxNbil",
        "outputId": "271de069-1bcf-4e8d-ea59-a6fe5d25c3ab"
      },
      "execution_count": 11,
      "outputs": [
        {
          "output_type": "display_data",
          "data": {
            "text/plain": [
              "<Figure size 432x288 with 1 Axes>"
            ],
            "image/png": "[encoded data removed]"
          },
          "metadata": {}
        }
      ]
    },
    {
      "cell_type": "code",
      "source": [
        "#남자들이 많이 사는 물품\n",
        "ratio = list(A.loc['M',:]['건수합계'])\n",
        "labels = list(A.loc['M',:].index)\n",
        "\n",
        "plt.pie(ratio, labels=labels, autopct='%.1f%%')\n",
        "plt.show()"
      ],
      "metadata": {
        "colab": {
          "base_uri": "https://localhost:8080/",
          "height": 248
        },
        "id": "30oe228GPP1d",
        "outputId": "301edebc-13b6-4a65-f404-16d8a1c09cac"
      },
      "execution_count": 12,
      "outputs": [
        {
          "output_type": "display_data",
          "data": {
            "text/plain": [
              "<Figure size 432x288 with 1 Axes>"
            ],
            "image/png": "[encoded data removed]"
          },
          "metadata": {}
        }
      ]
    },
    {
      "cell_type": "markdown",
      "source": [
        "### 라벨인코딩"
      ],
      "metadata": {
        "id": "36SeruFw5kcY"
      }
    },
    {
      "cell_type": "code",
      "source": [
        "list(set(df['TAG'])) , list(set(df['시간대'])) , list(set(df['연령대']))"
      ],
      "metadata": {
        "colab": {
          "base_uri": "https://localhost:8080/"
        },
        "id": "8EQ0vqO45n7Y",
        "outputId": "46bbbbf2-98cf-4fe5-ee95-de32884a5a53"
      },
      "execution_count": 13,
      "outputs": [
        {
          "output_type": "execute_result",
          "data": {
            "text/plain": [
              "(['차량정비_부품',\n",
              "  '화장품',\n",
              "  '유아용품',\n",
              "  '가전',\n",
              "  '스포츠의류용품',\n",
              "  '홈쇼핑',\n",
              "  '서적',\n",
              "  '생활/사무용품',\n",
              "  '골프용품',\n",
              "  '패션',\n",
              "  '식료품',\n",
              "  '인테리어',\n",
              "  '취미용품',\n",
              "  '애완용품'],\n",
              " ['A.02-06시', 'B.06-10시', 'E.18-22시', 'C.10-14시', 'F.22-02시', 'D.14-18시'],\n",
              " ['C.4O대', 'B.3O대', 'D.5O대', 'E.60대이상', 'A.2O대'])"
            ]
          },
          "metadata": {},
          "execution_count": 13
        }
      ]
    },
    {
      "cell_type": "code",
      "source": [
        "encoder=LabelEncoder()\n",
        "df['TAG'].unique()\n",
        "encoder.fit(df['TAG'].unique())\n",
        "target=encoder.transform(df['TAG'])\n",
        "\n",
        "df['TAG']= target\n",
        "df['TAG']\n"
      ],
      "metadata": {
        "colab": {
          "base_uri": "https://localhost:8080/"
        },
        "id": "hj39NkeU5r23",
        "outputId": "a1affe24-0dff-4f26-fa60-137e75b36fef"
      },
      "execution_count": 14,
      "outputs": [
        {
          "output_type": "execute_result",
          "data": {
            "text/plain": [
              "0         7\n",
              "1         2\n",
              "2         1\n",
              "3        13\n",
              "4         8\n",
              "         ..\n",
              "21552    11\n",
              "21553     1\n",
              "21554     4\n",
              "21555     8\n",
              "21556     7\n",
              "Name: TAG, Length: 21557, dtype: int64"
            ]
          },
          "metadata": {},
          "execution_count": 14
        }
      ]
    },
    {
      "cell_type": "code",
      "source": [
        "encoder.classes_"
      ],
      "metadata": {
        "colab": {
          "base_uri": "https://localhost:8080/"
        },
        "id": "CKkgGDHn5ql2",
        "outputId": "ab085a2c-3637-4573-82e3-ab78692f8aa6"
      },
      "execution_count": 15,
      "outputs": [
        {
          "output_type": "execute_result",
          "data": {
            "text/plain": [
              "array(['가전', '골프용품', '생활/사무용품', '서적', '스포츠의류용품', '식료품', '애완용품', '유아용품',\n",
              "       '인테리어', '차량정비_부품', '취미용품', '패션', '홈쇼핑', '화장품'], dtype=object)"
            ]
          },
          "metadata": {},
          "execution_count": 15
        }
      ]
    },
    {
      "cell_type": "code",
      "source": [
        "encoder2=LabelEncoder()\n",
        "df['연령대'].unique()\n",
        "encoder2.fit(df['연령대'].unique())\n",
        "target=encoder2.transform(df['연령대'])\n",
        "\n",
        "df['연령대']= target\n",
        "df['연령대']"
      ],
      "metadata": {
        "colab": {
          "base_uri": "https://localhost:8080/"
        },
        "id": "82B5JVsW5tpe",
        "outputId": "86d1921e-cce7-4caa-b1b1-16fbac28e3b9"
      },
      "execution_count": 16,
      "outputs": [
        {
          "output_type": "execute_result",
          "data": {
            "text/plain": [
              "0        0\n",
              "1        2\n",
              "2        1\n",
              "3        2\n",
              "4        3\n",
              "        ..\n",
              "21552    2\n",
              "21553    2\n",
              "21554    1\n",
              "21555    4\n",
              "21556    2\n",
              "Name: 연령대, Length: 21557, dtype: int64"
            ]
          },
          "metadata": {},
          "execution_count": 16
        }
      ]
    },
    {
      "cell_type": "code",
      "source": [
        "encoder2.classes_"
      ],
      "metadata": {
        "colab": {
          "base_uri": "https://localhost:8080/"
        },
        "id": "0gUujvbs5upG",
        "outputId": "ad0bba52-c4d0-45a4-f6b8-efe42cad807c"
      },
      "execution_count": 17,
      "outputs": [
        {
          "output_type": "execute_result",
          "data": {
            "text/plain": [
              "array(['A.2O대', 'B.3O대', 'C.4O대', 'D.5O대', 'E.60대이상'], dtype=object)"
            ]
          },
          "metadata": {},
          "execution_count": 17
        }
      ]
    },
    {
      "cell_type": "code",
      "source": [
        "df['시간대'].unique()"
      ],
      "metadata": {
        "colab": {
          "base_uri": "https://localhost:8080/"
        },
        "id": "smv5ytACEIWn",
        "outputId": "a5eda645-6333-4389-bbf2-a0cdbcc3ceb7"
      },
      "execution_count": 18,
      "outputs": [
        {
          "output_type": "execute_result",
          "data": {
            "text/plain": [
              "array(['B.06-10시', 'D.14-18시', 'F.22-02시', 'C.10-14시', 'A.02-06시',\n",
              "       'E.18-22시'], dtype=object)"
            ]
          },
          "metadata": {},
          "execution_count": 18
        }
      ]
    },
    {
      "cell_type": "code",
      "source": [
        "encoder3 = LabelEncoder()\n",
        "df['시간대'].unique()\n",
        "encoder3.fit(df['시간대'].unique())\n",
        "target=encoder3.transform(df['시간대'])\n",
        "\n",
        "df['시간대']= target\n",
        "df['시간대']"
      ],
      "metadata": {
        "colab": {
          "base_uri": "https://localhost:8080/"
        },
        "id": "gYchYC5B5wpP",
        "outputId": "bcd83201-e9e7-4bc9-d04a-84b8f2a1bd15"
      },
      "execution_count": 19,
      "outputs": [
        {
          "output_type": "execute_result",
          "data": {
            "text/plain": [
              "0        1\n",
              "1        3\n",
              "2        5\n",
              "3        3\n",
              "4        2\n",
              "        ..\n",
              "21552    5\n",
              "21553    3\n",
              "21554    4\n",
              "21555    2\n",
              "21556    2\n",
              "Name: 시간대, Length: 21557, dtype: int64"
            ]
          },
          "metadata": {},
          "execution_count": 19
        }
      ]
    },
    {
      "cell_type": "code",
      "source": [
        "encoder3.classes_"
      ],
      "metadata": {
        "colab": {
          "base_uri": "https://localhost:8080/"
        },
        "id": "JKuFbH605yIO",
        "outputId": "51dc243e-a605-4298-f103-624b7cf3f7eb"
      },
      "execution_count": 20,
      "outputs": [
        {
          "output_type": "execute_result",
          "data": {
            "text/plain": [
              "array(['A.02-06시', 'B.06-10시', 'C.10-14시', 'D.14-18시', 'E.18-22시',\n",
              "       'F.22-02시'], dtype=object)"
            ]
          },
          "metadata": {},
          "execution_count": 20
        }
      ]
    },
    {
      "cell_type": "code",
      "source": [
        "encoder4 = LabelEncoder()\n",
        "df['평일휴일'].unique()\n",
        "encoder4.fit(df['평일휴일'].unique())\n",
        "target=encoder4.transform(df['평일휴일'])\n",
        "\n",
        "df['평일휴일']= target\n",
        "df['평일휴일']"
      ],
      "metadata": {
        "colab": {
          "base_uri": "https://localhost:8080/"
        },
        "id": "ZzP44lySFbEv",
        "outputId": "eec35437-13b7-4768-98e2-b68a516222e3"
      },
      "execution_count": 21,
      "outputs": [
        {
          "output_type": "execute_result",
          "data": {
            "text/plain": [
              "0        0\n",
              "1        0\n",
              "2        1\n",
              "3        1\n",
              "4        0\n",
              "        ..\n",
              "21552    0\n",
              "21553    0\n",
              "21554    0\n",
              "21555    0\n",
              "21556    0\n",
              "Name: 평일휴일, Length: 21557, dtype: int64"
            ]
          },
          "metadata": {},
          "execution_count": 21
        }
      ]
    },
    {
      "cell_type": "code",
      "source": [
        "encoder4.classes_"
      ],
      "metadata": {
        "colab": {
          "base_uri": "https://localhost:8080/"
        },
        "id": "gZuNT4o4Fjpe",
        "outputId": "385d78eb-297f-458a-96ac-7715742160af"
      },
      "execution_count": 22,
      "outputs": [
        {
          "output_type": "execute_result",
          "data": {
            "text/plain": [
              "array(['평일', '휴일'], dtype=object)"
            ]
          },
          "metadata": {},
          "execution_count": 22
        }
      ]
    },
    {
      "cell_type": "code",
      "source": [
        "encoder5 = LabelEncoder()\n",
        "df['성별'].unique()\n",
        "encoder5.fit(df['성별'].unique())\n",
        "target=encoder5.transform(df['성별'])\n",
        "\n",
        "df['성별']= target\n",
        "df['성별']"
      ],
      "metadata": {
        "colab": {
          "base_uri": "https://localhost:8080/"
        },
        "id": "sF0nHyXNFt82",
        "outputId": "389059d4-f671-4fd3-ae22-675501a8bf86"
      },
      "execution_count": 23,
      "outputs": [
        {
          "output_type": "execute_result",
          "data": {
            "text/plain": [
              "0        0\n",
              "1        1\n",
              "2        1\n",
              "3        0\n",
              "4        0\n",
              "        ..\n",
              "21552    1\n",
              "21553    0\n",
              "21554    1\n",
              "21555    0\n",
              "21556    1\n",
              "Name: 성별, Length: 21557, dtype: int64"
            ]
          },
          "metadata": {},
          "execution_count": 23
        }
      ]
    },
    {
      "cell_type": "code",
      "source": [
        "encoder5.classes_"
      ],
      "metadata": {
        "colab": {
          "base_uri": "https://localhost:8080/"
        },
        "id": "PsOeJ2tNFujm",
        "outputId": "b1b762b4-58ca-4fcd-dd34-115c1e2c0f52"
      },
      "execution_count": 24,
      "outputs": [
        {
          "output_type": "execute_result",
          "data": {
            "text/plain": [
              "array(['F', 'M'], dtype=object)"
            ]
          },
          "metadata": {},
          "execution_count": 24
        }
      ]
    },
    {
      "cell_type": "code",
      "source": [
        "df.info()"
      ],
      "metadata": {
        "colab": {
          "base_uri": "https://localhost:8080/"
        },
        "id": "O0z9afMg5zj-",
        "outputId": "59eee6d2-bbd9-4b0c-87af-006a71924314"
      },
      "execution_count": 25,
      "outputs": [
        {
          "output_type": "stream",
          "name": "stdout",
          "text": [
            "<class 'pandas.core.frame.DataFrame'>\n",
            "RangeIndex: 21557 entries, 0 to 21556\n",
            "Data columns (total 8 columns):\n",
            " #   Column  Non-Null Count  Dtype \n",
            "---  ------  --------------  ----- \n",
            " 0   CRI_YM  21557 non-null  int64 \n",
            " 1   TAG     21557 non-null  int64 \n",
            " 2   평일휴일    21557 non-null  int64 \n",
            " 3   요일      21557 non-null  object\n",
            " 4   시간대     21557 non-null  int64 \n",
            " 5   성별      21557 non-null  int64 \n",
            " 6   연령대     21557 non-null  int64 \n",
            " 7   건수합계    21557 non-null  int64 \n",
            "dtypes: int64(7), object(1)\n",
            "memory usage: 1.3+ MB\n"
          ]
        }
      ]
    },
    {
      "cell_type": "code",
      "source": [
        "df.drop(columns=[\"CRI_YM\",\"요일\"], inplace=True)"
      ],
      "metadata": {
        "id": "R3wdIqQ0EyYd"
      },
      "execution_count": 26,
      "outputs": []
    },
    {
      "cell_type": "code",
      "source": [
        "df"
      ],
      "metadata": {
        "colab": {
          "base_uri": "https://localhost:8080/",
          "height": 424
        },
        "id": "pTEoOdF8GjWm",
        "outputId": "246d660d-5af0-4f56-90e3-47d2815eacff"
      },
      "execution_count": 27,
      "outputs": [
        {
          "output_type": "execute_result",
          "data": {
            "text/plain": [
              "       TAG  평일휴일  시간대  성별  연령대  건수합계\n",
              "0        7     0    1   0    0   291\n",
              "1        2     0    3   1    2  6225\n",
              "2        1     1    5   1    1    51\n",
              "3       13     1    3   0    2  3564\n",
              "4        8     0    2   0    3  1101\n",
              "...    ...   ...  ...  ..  ...   ...\n",
              "21552   11     0    5   1    2  2470\n",
              "21553    1     0    3   0    2   107\n",
              "21554    4     0    4   1    1   603\n",
              "21555    8     0    2   0    4   415\n",
              "21556    7     0    2   1    2   580\n",
              "\n",
              "[21557 rows x 6 columns]"
            ],
            "text/html": [
              "\n",
              "  <div id=\"df-0c264b6c-143f-4785-9059-154b64e585b5\">\n",
              "    <div class=\"colab-df-container\">\n",
              "      <div>\n",
              "<style scoped>\n",
              "    .dataframe tbody tr th:only-of-type {\n",
              "        vertical-align: middle;\n",
              "    }\n",
              "\n",
              "    .dataframe tbody tr th {\n",
              "        vertical-align: top;\n",
              "    }\n",
              "\n",
              "    .dataframe thead th {\n",
              "        text-align: right;\n",
              "    }\n",
              "</style>\n",
              "<table border=\"1\" class=\"dataframe\">\n",
              "  <thead>\n",
              "    <tr style=\"text-align: right;\">\n",
              "      <th></th>\n",
              "      <th>TAG</th>\n",
              "      <th>평일휴일</th>\n",
              "      <th>시간대</th>\n",
              "      <th>성별</th>\n",
              "      <th>연령대</th>\n",
              "      <th>건수합계</th>\n",
              "    </tr>\n",
              "  </thead>\n",
              "  <tbody>\n",
              "    <tr>\n",
              "      <th>0</th>\n",
              "      <td>7</td>\n",
              "      <td>0</td>\n",
              "      <td>1</td>\n",
              "      <td>0</td>\n",
              "      <td>0</td>\n",
              "      <td>291</td>\n",
              "    </tr>\n",
              "    <tr>\n",
              "      <th>1</th>\n",
              "      <td>2</td>\n",
              "      <td>0</td>\n",
              "      <td>3</td>\n",
              "      <td>1</td>\n",
              "      <td>2</td>\n",
              "      <td>6225</td>\n",
              "    </tr>\n",
              "    <tr>\n",
              "      <th>2</th>\n",
              "      <td>1</td>\n",
              "      <td>1</td>\n",
              "      <td>5</td>\n",
              "      <td>1</td>\n",
              "      <td>1</td>\n",
              "      <td>51</td>\n",
              "    </tr>\n",
              "    <tr>\n",
              "      <th>3</th>\n",
              "      <td>13</td>\n",
              "      <td>1</td>\n",
              "      <td>3</td>\n",
              "      <td>0</td>\n",
              "      <td>2</td>\n",
              "      <td>3564</td>\n",
              "    </tr>\n",
              "    <tr>\n",
              "      <th>4</th>\n",
              "      <td>8</td>\n",
              "      <td>0</td>\n",
              "      <td>2</td>\n",
              "      <td>0</td>\n",
              "      <td>3</td>\n",
              "      <td>1101</td>\n",
              "    </tr>\n",
              "    <tr>\n",
              "      <th>...</th>\n",
              "      <td>...</td>\n",
              "      <td>...</td>\n",
              "      <td>...</td>\n",
              "      <td>...</td>\n",
              "      <td>...</td>\n",
              "      <td>...</td>\n",
              "    </tr>\n",
              "    <tr>\n",
              "      <th>21552</th>\n",
              "      <td>11</td>\n",
              "      <td>0</td>\n",
              "      <td>5</td>\n",
              "      <td>1</td>\n",
              "      <td>2</td>\n",
              "      <td>2470</td>\n",
              "    </tr>\n",
              "    <tr>\n",
              "      <th>21553</th>\n",
              "      <td>1</td>\n",
              "      <td>0</td>\n",
              "      <td>3</td>\n",
              "      <td>0</td>\n",
              "      <td>2</td>\n",
              "      <td>107</td>\n",
              "    </tr>\n",
              "    <tr>\n",
              "      <th>21554</th>\n",
              "      <td>4</td>\n",
              "      <td>0</td>\n",
              "      <td>4</td>\n",
              "      <td>1</td>\n",
              "      <td>1</td>\n",
              "      <td>603</td>\n",
              "    </tr>\n",
              "    <tr>\n",
              "      <th>21555</th>\n",
              "      <td>8</td>\n",
              "      <td>0</td>\n",
              "      <td>2</td>\n",
              "      <td>0</td>\n",
              "      <td>4</td>\n",
              "      <td>415</td>\n",
              "    </tr>\n",
              "    <tr>\n",
              "      <th>21556</th>\n",
              "      <td>7</td>\n",
              "      <td>0</td>\n",
              "      <td>2</td>\n",
              "      <td>1</td>\n",
              "      <td>2</td>\n",
              "      <td>580</td>\n",
              "    </tr>\n",
              "  </tbody>\n",
              "</table>\n",
              "<p>21557 rows × 6 columns</p>\n",
              "</div>\n",
              "      <button class=\"colab-df-convert\" onclick=\"convertToInteractive('df-0c264b6c-143f-4785-9059-154b64e585b5')\"\n",
              "              title=\"Convert this dataframe to an interactive table.\"\n",
              "              style=\"display:none;\">\n",
              "        \n",
              "  <svg xmlns=\"http://www.w3.org/2000/svg\" height=\"24px\"viewBox=\"0 0 24 24\"\n",
              "       width=\"24px\">\n",
              "    <path d=\"M0 0h24v24H0V0z\" fill=\"none\"/>\n",
              "    <path d=\"M18.56 5.44l.94 2.06.94-2.06 2.06-.94-2.06-.94-.94-2.06-.94 2.06-2.06.94zm-11 1L8.5 8.5l.94-2.06 2.06-.94-2.06-.94L8.5 2.5l-.94 2.06-2.06.94zm10 10l.94 2.06.94-2.06 2.06-.94-2.06-.94-.94-2.06-.94 2.06-2.06.94z\"/><path d=\"M17.41 7.96l-1.37-1.37c-.4-.4-.92-.59-1.43-.59-.52 0-1.04.2-1.43.59L10.3 9.45l-7.72 7.72c-.78.78-.78 2.05 0 2.83L4 21.41c.39.39.9.59 1.41.59.51 0 1.02-.2 1.41-.59l7.78-7.78 2.81-2.81c.8-.78.8-2.07 0-2.86zM5.41 20L4 18.59l7.72-7.72 1.47 1.35L5.41 20z\"/>\n",
              "  </svg>\n",
              "      </button>\n",
              "      \n",
              "  <style>\n",
              "    .colab-df-container {\n",
              "      display:flex;\n",
              "      flex-wrap:wrap;\n",
              "      gap: 12px;\n",
              "    }\n",
              "\n",
              "    .colab-df-convert {\n",
              "      background-color: #E8F0FE;\n",
              "      border: none;\n",
              "      border-radius: 50%;\n",
              "      cursor: pointer;\n",
              "      display: none;\n",
              "      fill: #1967D2;\n",
              "      height: 32px;\n",
              "      padding: 0 0 0 0;\n",
              "      width: 32px;\n",
              "    }\n",
              "\n",
              "    .colab-df-convert:hover {\n",
              "      background-color: #E2EBFA;\n",
              "      box-shadow: 0px 1px 2px rgba(60, 64, 67, 0.3), 0px 1px 3px 1px rgba(60, 64, 67, 0.15);\n",
              "      fill: #174EA6;\n",
              "    }\n",
              "\n",
              "    [theme=dark] .colab-df-convert {\n",
              "      background-color: #3B4455;\n",
              "      fill: #D2E3FC;\n",
              "    }\n",
              "\n",
              "    [theme=dark] .colab-df-convert:hover {\n",
              "      background-color: #434B5C;\n",
              "      box-shadow: 0px 1px 3px 1px rgba(0, 0, 0, 0.15);\n",
              "      filter: drop-shadow(0px 1px 2px rgba(0, 0, 0, 0.3));\n",
              "      fill: #FFFFFF;\n",
              "    }\n",
              "  </style>\n",
              "\n",
              "      <script>\n",
              "        const buttonEl =\n",
              "          document.querySelector('#df-0c264b6c-143f-4785-9059-154b64e585b5 button.colab-df-convert');\n",
              "        buttonEl.style.display =\n",
              "          google.colab.kernel.accessAllowed ? 'block' : 'none';\n",
              "\n",
              "        async function convertToInteractive(key) {\n",
              "          const element = document.querySelector('#df-0c264b6c-143f-4785-9059-154b64e585b5');\n",
              "          const dataTable =\n",
              "            await google.colab.kernel.invokeFunction('convertToInteractive',\n",
              "                                                     [key], {});\n",
              "          if (!dataTable) return;\n",
              "\n",
              "          const docLinkHtml = 'Like what you see? Visit the ' +\n",
              "            '<a target=\"_blank\" href=https://colab.research.google.com/notebooks/data_table.ipynb>data table notebook</a>'\n",
              "            + ' to learn more about interactive tables.';\n",
              "          element.innerHTML = '';\n",
              "          dataTable['output_type'] = 'display_data';\n",
              "          await google.colab.output.renderOutput(dataTable, element);\n",
              "          const docLink = document.createElement('div');\n",
              "          docLink.innerHTML = docLinkHtml;\n",
              "          element.appendChild(docLink);\n",
              "        }\n",
              "      </script>\n",
              "    </div>\n",
              "  </div>\n",
              "  "
            ]
          },
          "metadata": {},
          "execution_count": 27
        }
      ]
    },
    {
      "cell_type": "code",
      "source": [
        "df.corr()"
      ],
      "metadata": {
        "colab": {
          "base_uri": "https://localhost:8080/",
          "height": 238
        },
        "id": "r75oU8P-MMXu",
        "outputId": "e6c33b08-28fd-43a7-b5bb-d146b99e152c"
      },
      "execution_count": 28,
      "outputs": [
        {
          "output_type": "execute_result",
          "data": {
            "text/plain": [
              "           TAG      평일휴일       시간대        성별       연령대      건수합계\n",
              "TAG   1.000000  0.005556 -0.009112 -0.001212 -0.001359  0.130328\n",
              "평일휴일  0.005556  1.000000  0.006043  0.000987 -0.004303 -0.103840\n",
              "시간대  -0.009112  0.006043  1.000000 -0.000964  0.006888  0.154335\n",
              "성별   -0.001212  0.000987 -0.000964  1.000000  0.001361 -0.168243\n",
              "연령대  -0.001359 -0.004303  0.006888  0.001361  1.000000 -0.092038\n",
              "건수합계  0.130328 -0.103840  0.154335 -0.168243 -0.092038  1.000000"
            ],
            "text/html": [
              "\n",
              "  <div id=\"df-d19f9b52-6c5e-47c3-8c39-b7effe4e3e09\">\n",
              "    <div class=\"colab-df-container\">\n",
              "      <div>\n",
              "<style scoped>\n",
              "    .dataframe tbody tr th:only-of-type {\n",
              "        vertical-align: middle;\n",
              "    }\n",
              "\n",
              "    .dataframe tbody tr th {\n",
              "        vertical-align: top;\n",
              "    }\n",
              "\n",
              "    .dataframe thead th {\n",
              "        text-align: right;\n",
              "    }\n",
              "</style>\n",
              "<table border=\"1\" class=\"dataframe\">\n",
              "  <thead>\n",
              "    <tr style=\"text-align: right;\">\n",
              "      <th></th>\n",
              "      <th>TAG</th>\n",
              "      <th>평일휴일</th>\n",
              "      <th>시간대</th>\n",
              "      <th>성별</th>\n",
              "      <th>연령대</th>\n",
              "      <th>건수합계</th>\n",
              "    </tr>\n",
              "  </thead>\n",
              "  <tbody>\n",
              "    <tr>\n",
              "      <th>TAG</th>\n",
              "      <td>1.000000</td>\n",
              "      <td>0.005556</td>\n",
              "      <td>-0.009112</td>\n",
              "      <td>-0.001212</td>\n",
              "      <td>-0.001359</td>\n",
              "      <td>0.130328</td>\n",
              "    </tr>\n",
              "    <tr>\n",
              "      <th>평일휴일</th>\n",
              "      <td>0.005556</td>\n",
              "      <td>1.000000</td>\n",
              "      <td>0.006043</td>\n",
              "      <td>0.000987</td>\n",
              "      <td>-0.004303</td>\n",
              "      <td>-0.103840</td>\n",
              "    </tr>\n",
              "    <tr>\n",
              "      <th>시간대</th>\n",
              "      <td>-0.009112</td>\n",
              "      <td>0.006043</td>\n",
              "      <td>1.000000</td>\n",
              "      <td>-0.000964</td>\n",
              "      <td>0.006888</td>\n",
              "      <td>0.154335</td>\n",
              "    </tr>\n",
              "    <tr>\n",
              "      <th>성별</th>\n",
              "      <td>-0.001212</td>\n",
              "      <td>0.000987</td>\n",
              "      <td>-0.000964</td>\n",
              "      <td>1.000000</td>\n",
              "      <td>0.001361</td>\n",
              "      <td>-0.168243</td>\n",
              "    </tr>\n",
              "    <tr>\n",
              "      <th>연령대</th>\n",
              "      <td>-0.001359</td>\n",
              "      <td>-0.004303</td>\n",
              "      <td>0.006888</td>\n",
              "      <td>0.001361</td>\n",
              "      <td>1.000000</td>\n",
              "      <td>-0.092038</td>\n",
              "    </tr>\n",
              "    <tr>\n",
              "      <th>건수합계</th>\n",
              "      <td>0.130328</td>\n",
              "      <td>-0.103840</td>\n",
              "      <td>0.154335</td>\n",
              "      <td>-0.168243</td>\n",
              "      <td>-0.092038</td>\n",
              "      <td>1.000000</td>\n",
              "    </tr>\n",
              "  </tbody>\n",
              "</table>\n",
              "</div>\n",
              "      <button class=\"colab-df-convert\" onclick=\"convertToInteractive('df-d19f9b52-6c5e-47c3-8c39-b7effe4e3e09')\"\n",
              "              title=\"Convert this dataframe to an interactive table.\"\n",
              "              style=\"display:none;\">\n",
              "        \n",
              "  <svg xmlns=\"http://www.w3.org/2000/svg\" height=\"24px\"viewBox=\"0 0 24 24\"\n",
              "       width=\"24px\">\n",
              "    <path d=\"M0 0h24v24H0V0z\" fill=\"none\"/>\n",
              "    <path d=\"M18.56 5.44l.94 2.06.94-2.06 2.06-.94-2.06-.94-.94-2.06-.94 2.06-2.06.94zm-11 1L8.5 8.5l.94-2.06 2.06-.94-2.06-.94L8.5 2.5l-.94 2.06-2.06.94zm10 10l.94 2.06.94-2.06 2.06-.94-2.06-.94-.94-2.06-.94 2.06-2.06.94z\"/><path d=\"M17.41 7.96l-1.37-1.37c-.4-.4-.92-.59-1.43-.59-.52 0-1.04.2-1.43.59L10.3 9.45l-7.72 7.72c-.78.78-.78 2.05 0 2.83L4 21.41c.39.39.9.59 1.41.59.51 0 1.02-.2 1.41-.59l7.78-7.78 2.81-2.81c.8-.78.8-2.07 0-2.86zM5.41 20L4 18.59l7.72-7.72 1.47 1.35L5.41 20z\"/>\n",
              "  </svg>\n",
              "      </button>\n",
              "      \n",
              "  <style>\n",
              "    .colab-df-container {\n",
              "      display:flex;\n",
              "      flex-wrap:wrap;\n",
              "      gap: 12px;\n",
              "    }\n",
              "\n",
              "    .colab-df-convert {\n",
              "      background-color: #E8F0FE;\n",
              "      border: none;\n",
              "      border-radius: 50%;\n",
              "      cursor: pointer;\n",
              "      display: none;\n",
              "      fill: #1967D2;\n",
              "      height: 32px;\n",
              "      padding: 0 0 0 0;\n",
              "      width: 32px;\n",
              "    }\n",
              "\n",
              "    .colab-df-convert:hover {\n",
              "      background-color: #E2EBFA;\n",
              "      box-shadow: 0px 1px 2px rgba(60, 64, 67, 0.3), 0px 1px 3px 1px rgba(60, 64, 67, 0.15);\n",
              "      fill: #174EA6;\n",
              "    }\n",
              "\n",
              "    [theme=dark] .colab-df-convert {\n",
              "      background-color: #3B4455;\n",
              "      fill: #D2E3FC;\n",
              "    }\n",
              "\n",
              "    [theme=dark] .colab-df-convert:hover {\n",
              "      background-color: #434B5C;\n",
              "      box-shadow: 0px 1px 3px 1px rgba(0, 0, 0, 0.15);\n",
              "      filter: drop-shadow(0px 1px 2px rgba(0, 0, 0, 0.3));\n",
              "      fill: #FFFFFF;\n",
              "    }\n",
              "  </style>\n",
              "\n",
              "      <script>\n",
              "        const buttonEl =\n",
              "          document.querySelector('#df-d19f9b52-6c5e-47c3-8c39-b7effe4e3e09 button.colab-df-convert');\n",
              "        buttonEl.style.display =\n",
              "          google.colab.kernel.accessAllowed ? 'block' : 'none';\n",
              "\n",
              "        async function convertToInteractive(key) {\n",
              "          const element = document.querySelector('#df-d19f9b52-6c5e-47c3-8c39-b7effe4e3e09');\n",
              "          const dataTable =\n",
              "            await google.colab.kernel.invokeFunction('convertToInteractive',\n",
              "                                                     [key], {});\n",
              "          if (!dataTable) return;\n",
              "\n",
              "          const docLinkHtml = 'Like what you see? Visit the ' +\n",
              "            '<a target=\"_blank\" href=https://colab.research.google.com/notebooks/data_table.ipynb>data table notebook</a>'\n",
              "            + ' to learn more about interactive tables.';\n",
              "          element.innerHTML = '';\n",
              "          dataTable['output_type'] = 'display_data';\n",
              "          await google.colab.output.renderOutput(dataTable, element);\n",
              "          const docLink = document.createElement('div');\n",
              "          docLink.innerHTML = docLinkHtml;\n",
              "          element.appendChild(docLink);\n",
              "        }\n",
              "      </script>\n",
              "    </div>\n",
              "  </div>\n",
              "  "
            ]
          },
          "metadata": {},
          "execution_count": 28
        }
      ]
    },
    {
      "cell_type": "code",
      "source": [
        "df.iloc[:,:-2],"
      ],
      "metadata": {
        "colab": {
          "base_uri": "https://localhost:8080/"
        },
        "id": "F_-BqP7NFQ2N",
        "outputId": "d89ef755-566b-4157-9cf6-7987a6086711"
      },
      "execution_count": 62,
      "outputs": [
        {
          "output_type": "execute_result",
          "data": {
            "text/plain": [
              "(       TAG  평일휴일  시간대  성별\n",
              " 0        7     0    1   0\n",
              " 1        2     0    3   1\n",
              " 2        1     1    5   1\n",
              " 3       13     1    3   0\n",
              " 4        8     0    2   0\n",
              " ...    ...   ...  ...  ..\n",
              " 21552   11     0    5   1\n",
              " 21553    1     0    3   0\n",
              " 21554    4     0    4   1\n",
              " 21555    8     0    2   0\n",
              " 21556    7     0    2   1\n",
              " \n",
              " [21557 rows x 4 columns],)"
            ]
          },
          "metadata": {},
          "execution_count": 62
        }
      ]
    },
    {
      "cell_type": "code",
      "source": [
        "X_train,X_test,y_train,y_test = train_test_split(df.iloc[:,1:], df.iloc[:,0],test_size=0.2, random_state=3)"
      ],
      "metadata": {
        "id": "yW4o7lvsFmOl"
      },
      "execution_count": 48,
      "outputs": []
    },
    {
      "cell_type": "code",
      "source": [
        "dt=DecisionTreeClassifier(criterion='gini', max_depth = 3, max_features = 2, random_state=100).fit(X_train, y_train)"
      ],
      "metadata": {
        "id": "MXDSVqN3Gosk"
      },
      "execution_count": 49,
      "outputs": []
    },
    {
      "cell_type": "code",
      "source": [
        "svm=SVC(C=0.1, gamma=0.04, random_state=35, probability=True, kernel='rbf').fit(X_train, y_train)"
      ],
      "metadata": {
        "id": "EgNenRHbGzpU"
      },
      "execution_count": 50,
      "outputs": []
    },
    {
      "cell_type": "code",
      "source": [
        "lr = LogisticRegression().fit(X_train, y_train)"
      ],
      "metadata": {
        "colab": {
          "base_uri": "https://localhost:8080/"
        },
        "id": "5u9EV02nGz9s",
        "outputId": "e9a7adc8-a0f0-427c-ffdf-8c2685e3fa41"
      },
      "execution_count": 51,
      "outputs": [
        {
          "output_type": "stream",
          "name": "stderr",
          "text": [
            "/usr/local/lib/python3.7/dist-packages/sklearn/linear_model/_logistic.py:818: ConvergenceWarning: lbfgs failed to converge (status=1):\n",
            "STOP: TOTAL NO. of ITERATIONS REACHED LIMIT.\n",
            "\n",
            "Increase the number of iterations (max_iter) or scale the data as shown in:\n",
            "    https://scikit-learn.org/stable/modules/preprocessing.html\n",
            "Please also refer to the documentation for alternative solver options:\n",
            "    https://scikit-learn.org/stable/modules/linear_model.html#logistic-regression\n",
            "  extra_warning_msg=_LOGISTIC_SOLVER_CONVERGENCE_MSG,\n"
          ]
        }
      ]
    },
    {
      "cell_type": "code",
      "source": [
        "dt_p = dt.predict(X_test)\n",
        "svm_p=svm.predict(X_test)\n",
        "lr_p=lr.predict(X_test)"
      ],
      "metadata": {
        "id": "Fy7WLiEYITt_"
      },
      "execution_count": 52,
      "outputs": []
    },
    {
      "cell_type": "code",
      "source": [
        "hard_voting_clf=VotingClassifier(\n",
        "    estimators=[('decision tree', dt),('LogisticRegression', lr ),('svm', svm)], weights=[1,1,1], voting='hard'\n",
        ").fit(X_train, y_train)\n",
        "\n",
        "hard_voting_predicted = hard_voting_clf.predict(X_test)\n",
        "accuracy_score(y_test, hard_voting_predicted) ## 다수결의 원칙으로 정함. "
      ],
      "metadata": {
        "colab": {
          "base_uri": "https://localhost:8080/"
        },
        "id": "ZLo8XTMPG1ZE",
        "outputId": "2066dcea-4f10-46ba-db4c-bb09da3c33cb"
      },
      "execution_count": 53,
      "outputs": [
        {
          "output_type": "stream",
          "name": "stderr",
          "text": [
            "/usr/local/lib/python3.7/dist-packages/sklearn/linear_model/_logistic.py:818: ConvergenceWarning: lbfgs failed to converge (status=1):\n",
            "STOP: TOTAL NO. of ITERATIONS REACHED LIMIT.\n",
            "\n",
            "Increase the number of iterations (max_iter) or scale the data as shown in:\n",
            "    https://scikit-learn.org/stable/modules/preprocessing.html\n",
            "Please also refer to the documentation for alternative solver options:\n",
            "    https://scikit-learn.org/stable/modules/linear_model.html#logistic-regression\n",
            "  extra_warning_msg=_LOGISTIC_SOLVER_CONVERGENCE_MSG,\n"
          ]
        },
        {
          "output_type": "execute_result",
          "data": {
            "text/plain": [
              "0.14401669758812616"
            ]
          },
          "metadata": {},
          "execution_count": 53
        }
      ]
    },
    {
      "cell_type": "code",
      "source": [
        "soft_voting_clf=VotingClassifier(\n",
        "    estimators=[('decision tree', dt),('LogisticRegression', lr ),('svm', svm)], weights=[1,1,1], voting='soft'\n",
        ").fit(X_train, y_train)\n",
        "\n",
        "soft_voting_predicted = soft_voting_clf.predict(X_test)\n",
        "accuracy_score(y_test, hard_voting_predicted) ## 다수결의 원칙으로 정함. "
      ],
      "metadata": {
        "colab": {
          "base_uri": "https://localhost:8080/"
        },
        "id": "-gn6hoBmHIO3",
        "outputId": "a93d172d-7cf6-4144-ea57-b4b7cab23dc4"
      },
      "execution_count": 54,
      "outputs": [
        {
          "output_type": "stream",
          "name": "stderr",
          "text": [
            "/usr/local/lib/python3.7/dist-packages/sklearn/linear_model/_logistic.py:818: ConvergenceWarning: lbfgs failed to converge (status=1):\n",
            "STOP: TOTAL NO. of ITERATIONS REACHED LIMIT.\n",
            "\n",
            "Increase the number of iterations (max_iter) or scale the data as shown in:\n",
            "    https://scikit-learn.org/stable/modules/preprocessing.html\n",
            "Please also refer to the documentation for alternative solver options:\n",
            "    https://scikit-learn.org/stable/modules/linear_model.html#logistic-regression\n",
            "  extra_warning_msg=_LOGISTIC_SOLVER_CONVERGENCE_MSG,\n"
          ]
        },
        {
          "output_type": "execute_result",
          "data": {
            "text/plain": [
              "0.14401669758812616"
            ]
          },
          "metadata": {},
          "execution_count": 54
        }
      ]
    },
    {
      "cell_type": "code",
      "source": [
        "rf = RandomForestClassifier(\n",
        "    n_estimators=100,\n",
        "    max_depth=5,\n",
        "    random_state=10\n",
        ").fit(X_train, y_train)"
      ],
      "metadata": {
        "id": "S-E50AwdHIVX"
      },
      "execution_count": 55,
      "outputs": []
    },
    {
      "cell_type": "code",
      "source": [
        "rf_predt = rf.predict(X_test)\n",
        "rf_acc = accuracy_score(y_test, rf_predt)\n",
        "rf_acc"
      ],
      "metadata": {
        "colab": {
          "base_uri": "https://localhost:8080/"
        },
        "id": "4QRO1Kd4KFoo",
        "outputId": "3630d319-ba73-4de0-8072-13949a805eee"
      },
      "execution_count": 56,
      "outputs": [
        {
          "output_type": "execute_result",
          "data": {
            "text/plain": [
              "0.2036178107606679"
            ]
          },
          "metadata": {},
          "execution_count": 56
        }
      ]
    },
    {
      "cell_type": "code",
      "source": [
        "x = np.arange(6)\n",
        "plt.bar(x, height= [\n",
        "                    accuracy_score(y_test, hard_voting_predicted),\n",
        "                    accuracy_score(y_test, soft_voting_predicted),\n",
        "                    accuracy_score(y_test, rf_predt),\n",
        "                    accuracy_score(y_test, dt_p),\n",
        "                    accuracy_score(y_test, svm_p),\n",
        "                    accuracy_score(y_test, lr_p)\n",
        "\n",
        "\n",
        "            ])\n",
        "plt.xticks(x, ['hard voting','soft voting', 'bagging','d-tree' ,'svm ','logistic']);"
      ],
      "metadata": {
        "colab": {
          "base_uri": "https://localhost:8080/",
          "height": 266
        },
        "id": "e6NFDFN8HIXt",
        "outputId": "23624d55-c433-491c-aa3b-c2ef6b75c809"
      },
      "execution_count": 57,
      "outputs": [
        {
          "output_type": "display_data",
          "data": {
            "text/plain": [
              "<Figure size 432x288 with 1 Axes>"
            ],
            "image/png": "[encoded data removed]"
          },
          "metadata": {
            "needs_background": "light"
          }
        }
      ]
    },
    {
      "cell_type": "code",
      "source": [
        "from sklearn.ensemble import GradientBoostingClassifier\n",
        "from sklearn.ensemble import HistGradientBoostingClassifier\n",
        "from xgboost import XGBClassifier\n",
        "from lightgbm import LGBMClassifier"
      ],
      "metadata": {
        "id": "FeyZ8BY_KDhs"
      },
      "execution_count": 58,
      "outputs": []
    },
    {
      "cell_type": "code",
      "source": [
        "gbc=GradientBoostingClassifier(random_state=42).fit(X_train, y_train)\n",
        "hist=HistGradientBoostingClassifier(random_state=42).fit(X_train, y_train)\n",
        "xgb=XGBClassifier(random_state=42,).fit(X_train, y_train)\n",
        "lgbm=LGBMClassifier(random_state=42).fit(X_train, y_train)"
      ],
      "metadata": {
        "id": "IAxVH6wCKdyP"
      },
      "execution_count": 59,
      "outputs": []
    },
    {
      "cell_type": "code",
      "source": [
        "gbc_p = gbc.predict(X_test)\n",
        "hist_p = hist.predict(X_test)\n",
        "xgb_p = xgb.predict(X_test)\n",
        "lgbm_p = lgbm.predict(X_test)"
      ],
      "metadata": {
        "id": "hpAatMYDKd4N"
      },
      "execution_count": 60,
      "outputs": []
    },
    {
      "cell_type": "code",
      "source": [
        "print(\"[accuarcy]\")\n",
        "print(\"gbc: \",accuracy_score(y_test, gbc_p))\n",
        "print(\"svm   : \",accuracy_score(y_test,hist_p))\n",
        "print(\"xgb   : \",accuracy_score(y_test, xgb_p))\n",
        "print(\"lgbm   : \",accuracy_score(y_test, lgbm_p))"
      ],
      "metadata": {
        "colab": {
          "base_uri": "https://localhost:8080/"
        },
        "id": "O5kLqrEtKd9I",
        "outputId": "d56b538e-ab1c-4ec3-b9f8-58c39e947b1d"
      },
      "execution_count": 61,
      "outputs": [
        {
          "output_type": "stream",
          "name": "stdout",
          "text": [
            "[accuarcy]\n",
            "gbc:  0.24327458256029685\n",
            "svm   :  0.26762523191094617\n",
            "xgb   :  0.22147495361781075\n",
            "lgbm   :  0.2618274582560297\n"
          ]
        }
      ]
    },
    {
      "cell_type": "code",
      "source": [
        ""
      ],
      "metadata": {
        "id": "tKGVvInvLCw0"
      },
      "execution_count": 61,
      "outputs": []
    }
  ]
}
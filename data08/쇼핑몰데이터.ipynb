{
 "cells": [
  {
   "cell_type": "code",
   "execution_count": 1,
   "metadata": {
    "colab": {
     "base_uri": "https://localhost:8080/"
    },
    "id": "V7fITryoPeZu",
    "outputId": "13cb5987-844f-490b-84f8-6d1d9eab2bbb"
   },
   "outputs": [],
   "source": [
    "# !sudo apt-get install -y fonts-nanum\n",
    "# !sudo fc-cache -fv\n",
    "# !rm ~/.cache/matplotlib -rf"
   ]
  },
  {
   "cell_type": "code",
   "execution_count": 59,
   "metadata": {},
   "outputs": [
    {
     "name": "stdout",
     "output_type": "stream",
     "text": [
      "Requirement already satisfied: xgboost in c:\\users\\hi\\anaconda3\\lib\\site-packages (1.6.1)\n",
      "Requirement already satisfied: numpy in c:\\users\\hi\\anaconda3\\lib\\site-packages (from xgboost) (1.16.5)\n",
      "Requirement already satisfied: scipy in c:\\users\\hi\\anaconda3\\lib\\site-packages (from xgboost) (1.3.1)\n",
      "Requirement already satisfied: lightgbm in c:\\users\\hi\\anaconda3\\lib\\site-packages (3.3.2)\n",
      "Requirement already satisfied: wheel in c:\\users\\hi\\anaconda3\\lib\\site-packages (from lightgbm) (0.33.6)\n",
      "Requirement already satisfied: numpy in c:\\users\\hi\\anaconda3\\lib\\site-packages (from lightgbm) (1.16.5)\n",
      "Requirement already satisfied: scipy in c:\\users\\hi\\anaconda3\\lib\\site-packages (from lightgbm) (1.3.1)\n",
      "Requirement already satisfied: scikit-learn!=0.22.0 in c:\\users\\hi\\anaconda3\\lib\\site-packages (from lightgbm) (1.0.2)\n",
      "Requirement already satisfied: threadpoolctl>=2.0.0 in c:\\users\\hi\\anaconda3\\lib\\site-packages (from scikit-learn!=0.22.0->lightgbm) (3.1.0)\n",
      "Requirement already satisfied: joblib>=0.11 in c:\\users\\hi\\anaconda3\\lib\\site-packages (from scikit-learn!=0.22.0->lightgbm) (0.13.2)\n",
      "Collecting catboost\n",
      "  Downloading https://files.pythonhosted.org/packages/26/a4/29874ce3f7c208f04cbefa94b0eb7850e9e67148627924c7142af0d32a19/catboost-1.0.5-cp37-none-win_amd64.whl (73.9MB)\n",
      "Requirement already satisfied: graphviz in c:\\users\\hi\\anaconda3\\lib\\site-packages (from catboost) (0.19.1)\n",
      "Collecting plotly (from catboost)\n",
      "  Downloading https://files.pythonhosted.org/packages/79/92/f8282ed209c2e7d4077c5f236bc241d42fb9a2b2986330188909a60be7bb/plotly-5.8.0-py2.py3-none-any.whl (15.2MB)\n",
      "Requirement already satisfied: scipy in c:\\users\\hi\\anaconda3\\lib\\site-packages (from catboost) (1.3.1)\n",
      "Requirement already satisfied: numpy>=1.16.0 in c:\\users\\hi\\anaconda3\\lib\\site-packages (from catboost) (1.16.5)\n",
      "Requirement already satisfied: six in c:\\users\\hi\\anaconda3\\lib\\site-packages (from catboost) (1.12.0)\n",
      "Requirement already satisfied: matplotlib in c:\\users\\hi\\anaconda3\\lib\\site-packages (from catboost) (3.1.1)\n",
      "Requirement already satisfied: pandas>=0.24.0 in c:\\users\\hi\\anaconda3\\lib\\site-packages (from catboost) (0.25.1)\n",
      "Collecting tenacity>=6.2.0 (from plotly->catboost)\n",
      "  Downloading https://files.pythonhosted.org/packages/f2/a5/f86bc8d67c979020438c8559cc70cfe3a1643fd160d35e09c9cca6a09189/tenacity-8.0.1-py3-none-any.whl\n",
      "Requirement already satisfied: cycler>=0.10 in c:\\users\\hi\\anaconda3\\lib\\site-packages (from matplotlib->catboost) (0.10.0)\n",
      "Requirement already satisfied: kiwisolver>=1.0.1 in c:\\users\\hi\\anaconda3\\lib\\site-packages (from matplotlib->catboost) (1.1.0)\n",
      "Requirement already satisfied: pyparsing!=2.0.4,!=2.1.2,!=2.1.6,>=2.0.1 in c:\\users\\hi\\anaconda3\\lib\\site-packages (from matplotlib->catboost) (2.4.2)\n",
      "Requirement already satisfied: python-dateutil>=2.1 in c:\\users\\hi\\anaconda3\\lib\\site-packages (from matplotlib->catboost) (2.8.0)\n",
      "Requirement already satisfied: pytz>=2017.2 in c:\\users\\hi\\anaconda3\\lib\\site-packages (from pandas>=0.24.0->catboost) (2019.3)\n",
      "Requirement already satisfied: setuptools in c:\\users\\hi\\anaconda3\\lib\\site-packages (from kiwisolver>=1.0.1->matplotlib->catboost) (41.4.0)\n",
      "Installing collected packages: tenacity, plotly, catboost\n",
      "Successfully installed catboost-1.0.5 plotly-5.8.0 tenacity-8.0.1\n"
     ]
    }
   ],
   "source": [
    "!pip install xgboost \n",
    "!pip install lightgbm\n",
    "!pip install catboost"
   ]
  },
  {
   "cell_type": "code",
   "execution_count": 2,
   "metadata": {},
   "outputs": [],
   "source": [
    "import warnings\n",
    "warnings.filterwarnings(action='ignore')"
   ]
  },
  {
   "cell_type": "code",
   "execution_count": 3,
   "metadata": {
    "id": "ZnqvfURp4qTd"
   },
   "outputs": [],
   "source": [
    "## 분류 싱글\n",
    "from sklearn.tree import DecisionTreeClassifier\n",
    "from sklearn.neighbors import KNeighborsClassifier\n",
    "from sklearn.svm import SVC\n",
    "from sklearn.ensemble import VotingClassifier\n",
    "from sklearn.model_selection import train_test_split\n",
    "from sklearn.metrics import accuracy_score\n",
    "from sklearn.linear_model import LogisticRegression\n",
    "from sklearn.ensemble import RandomForestClassifier\n",
    "from sklearn.model_selection import cross_validate\n",
    "from sklearn.neighbors import KNeighborsClassifier\n",
    "from sklearn.model_selection import cross_val_score\n",
    "from sklearn.metrics import *\n",
    "from sklearn.model_selection import train_test_split\n",
    "from sklearn.model_selection import GridSearchCV\n",
    "from sklearn.preprocessing import LabelEncoder\n",
    "import pandas as pd\n",
    "import numpy as np\n",
    "import seaborn as sns\n",
    "from pandas.plotting import parallel_coordinates\n",
    "import matplotlib.pyplot as plt\n",
    "from matplotlib import rc\n",
    "import matplotlib.font_manager as fm\n",
    "from sklearn.datasets import fetch_openml\n",
    "from sklearn.model_selection import train_test_split\n",
    "from IPython.display import Image\n",
    "import numpy as np\n",
    "np.random.seed(5)\n",
    "import matplotlib.pyplot as plt\n",
    "fm._rebuild()\n",
    "fm.get_fontconfig_fonts()\n",
    "\n",
    "# 디렉토리 및 파일 이름에 맞추어 변경\n",
    "font_location = '../NanumSquareRoundEB.ttf'\n",
    "font_name = fm.FontProperties(fname=font_location).get_name()\n",
    "rc('font', family=font_name)"
   ]
  },
  {
   "cell_type": "code",
   "execution_count": 4,
   "metadata": {
    "colab": {
     "base_uri": "https://localhost:8080/",
     "height": 424
    },
    "id": "DMXupgmT5AxQ",
    "outputId": "19893495-af52-4b93-db12-fda25e1eaecb"
   },
   "outputs": [
    {
     "data": {
      "text/html": [
       "<div>\n",
       "<style scoped>\n",
       "    .dataframe tbody tr th:only-of-type {\n",
       "        vertical-align: middle;\n",
       "    }\n",
       "\n",
       "    .dataframe tbody tr th {\n",
       "        vertical-align: top;\n",
       "    }\n",
       "\n",
       "    .dataframe thead th {\n",
       "        text-align: right;\n",
       "    }\n",
       "</style>\n",
       "<table border=\"1\" class=\"dataframe\">\n",
       "  <thead>\n",
       "    <tr style=\"text-align: right;\">\n",
       "      <th></th>\n",
       "      <th>CRI_YM</th>\n",
       "      <th>TAG</th>\n",
       "      <th>평일휴일</th>\n",
       "      <th>요일</th>\n",
       "      <th>시간대</th>\n",
       "      <th>성별</th>\n",
       "      <th>연령대</th>\n",
       "      <th>건수합계</th>\n",
       "      <th>인터넷 쇼핑 이용자 비율 (%)</th>\n",
       "      <th>월 평균 구매빈도-1회 미만 (%)</th>\n",
       "      <th>월 평균 구매빈도-1~2회 미만 (%)</th>\n",
       "      <th>월 평균 구매빈도-2~3회 미만 (%)</th>\n",
       "      <th>월 평균 구매빈도-3회 이상 (%)</th>\n",
       "      <th>월 평균 구매빈도-평균 (회)</th>\n",
       "      <th>네이버 태그 클릭량</th>\n",
       "    </tr>\n",
       "  </thead>\n",
       "  <tbody>\n",
       "    <tr>\n",
       "      <td>0</td>\n",
       "      <td>2019</td>\n",
       "      <td>생활/취미/사무용품/인테리어/골프용품</td>\n",
       "      <td>평일</td>\n",
       "      <td>목</td>\n",
       "      <td>B.06-10시</td>\n",
       "      <td>F</td>\n",
       "      <td>A.2O대</td>\n",
       "      <td>291</td>\n",
       "      <td>98.7</td>\n",
       "      <td>10.9</td>\n",
       "      <td>18.6</td>\n",
       "      <td>22.8</td>\n",
       "      <td>47.7</td>\n",
       "      <td>3.3</td>\n",
       "      <td>83.20</td>\n",
       "    </tr>\n",
       "    <tr>\n",
       "      <td>1</td>\n",
       "      <td>2019</td>\n",
       "      <td>생활/취미/사무용품/인테리어/골프용품</td>\n",
       "      <td>휴일</td>\n",
       "      <td>일</td>\n",
       "      <td>F.22-02시</td>\n",
       "      <td>M</td>\n",
       "      <td>B.3O대</td>\n",
       "      <td>51</td>\n",
       "      <td>86.3</td>\n",
       "      <td>14.6</td>\n",
       "      <td>21.3</td>\n",
       "      <td>22.4</td>\n",
       "      <td>41.7</td>\n",
       "      <td>2.9</td>\n",
       "      <td>25.30</td>\n",
       "    </tr>\n",
       "    <tr>\n",
       "      <td>2</td>\n",
       "      <td>2019</td>\n",
       "      <td>생활/취미/사무용품/인테리어/골프용품</td>\n",
       "      <td>평일</td>\n",
       "      <td>목</td>\n",
       "      <td>B.06-10시</td>\n",
       "      <td>F</td>\n",
       "      <td>B.3O대</td>\n",
       "      <td>758</td>\n",
       "      <td>96.9</td>\n",
       "      <td>10.7</td>\n",
       "      <td>17.0</td>\n",
       "      <td>21.4</td>\n",
       "      <td>50.9</td>\n",
       "      <td>3.6</td>\n",
       "      <td>56.75</td>\n",
       "    </tr>\n",
       "    <tr>\n",
       "      <td>3</td>\n",
       "      <td>2019</td>\n",
       "      <td>생활/취미/사무용품/인테리어/골프용품</td>\n",
       "      <td>평일</td>\n",
       "      <td>화</td>\n",
       "      <td>C.10-14시</td>\n",
       "      <td>M</td>\n",
       "      <td>D.5O대</td>\n",
       "      <td>122</td>\n",
       "      <td>39.0</td>\n",
       "      <td>23.5</td>\n",
       "      <td>21.2</td>\n",
       "      <td>14.6</td>\n",
       "      <td>40.7</td>\n",
       "      <td>2.5</td>\n",
       "      <td>29.25</td>\n",
       "    </tr>\n",
       "    <tr>\n",
       "      <td>4</td>\n",
       "      <td>2019</td>\n",
       "      <td>생활/취미/사무용품/인테리어/골프용품</td>\n",
       "      <td>휴일</td>\n",
       "      <td>월</td>\n",
       "      <td>D.14-18시</td>\n",
       "      <td>F</td>\n",
       "      <td>E.60대이상</td>\n",
       "      <td>10</td>\n",
       "      <td>14.5</td>\n",
       "      <td>24.4</td>\n",
       "      <td>27.1</td>\n",
       "      <td>12.9</td>\n",
       "      <td>35.5</td>\n",
       "      <td>2.7</td>\n",
       "      <td>6.60</td>\n",
       "    </tr>\n",
       "    <tr>\n",
       "      <td>...</td>\n",
       "      <td>...</td>\n",
       "      <td>...</td>\n",
       "      <td>...</td>\n",
       "      <td>...</td>\n",
       "      <td>...</td>\n",
       "      <td>...</td>\n",
       "      <td>...</td>\n",
       "      <td>...</td>\n",
       "      <td>...</td>\n",
       "      <td>...</td>\n",
       "      <td>...</td>\n",
       "      <td>...</td>\n",
       "      <td>...</td>\n",
       "      <td>...</td>\n",
       "      <td>...</td>\n",
       "    </tr>\n",
       "    <tr>\n",
       "      <td>6850</td>\n",
       "      <td>2019</td>\n",
       "      <td>패션/화장품</td>\n",
       "      <td>평일</td>\n",
       "      <td>수</td>\n",
       "      <td>A.02-06시</td>\n",
       "      <td>M</td>\n",
       "      <td>D.5O대</td>\n",
       "      <td>171</td>\n",
       "      <td>39.0</td>\n",
       "      <td>23.5</td>\n",
       "      <td>21.2</td>\n",
       "      <td>14.6</td>\n",
       "      <td>40.7</td>\n",
       "      <td>2.5</td>\n",
       "      <td>170.00</td>\n",
       "    </tr>\n",
       "    <tr>\n",
       "      <td>6851</td>\n",
       "      <td>2019</td>\n",
       "      <td>패션/화장품</td>\n",
       "      <td>휴일</td>\n",
       "      <td>월</td>\n",
       "      <td>F.22-02시</td>\n",
       "      <td>F</td>\n",
       "      <td>E.60대이상</td>\n",
       "      <td>71</td>\n",
       "      <td>14.5</td>\n",
       "      <td>24.4</td>\n",
       "      <td>27.1</td>\n",
       "      <td>12.9</td>\n",
       "      <td>35.5</td>\n",
       "      <td>2.7</td>\n",
       "      <td>161.00</td>\n",
       "    </tr>\n",
       "    <tr>\n",
       "      <td>6852</td>\n",
       "      <td>2019</td>\n",
       "      <td>패션/화장품</td>\n",
       "      <td>평일</td>\n",
       "      <td>월</td>\n",
       "      <td>B.06-10시</td>\n",
       "      <td>F</td>\n",
       "      <td>A.2O대</td>\n",
       "      <td>111</td>\n",
       "      <td>98.7</td>\n",
       "      <td>10.9</td>\n",
       "      <td>18.6</td>\n",
       "      <td>22.8</td>\n",
       "      <td>47.7</td>\n",
       "      <td>3.3</td>\n",
       "      <td>204.00</td>\n",
       "    </tr>\n",
       "    <tr>\n",
       "      <td>6853</td>\n",
       "      <td>2019</td>\n",
       "      <td>패션/화장품</td>\n",
       "      <td>휴일</td>\n",
       "      <td>수</td>\n",
       "      <td>F.22-02시</td>\n",
       "      <td>M</td>\n",
       "      <td>C.4O대</td>\n",
       "      <td>796</td>\n",
       "      <td>66.8</td>\n",
       "      <td>17.1</td>\n",
       "      <td>23.2</td>\n",
       "      <td>20.0</td>\n",
       "      <td>39.7</td>\n",
       "      <td>2.9</td>\n",
       "      <td>161.00</td>\n",
       "    </tr>\n",
       "    <tr>\n",
       "      <td>6854</td>\n",
       "      <td>2019</td>\n",
       "      <td>패션/화장품</td>\n",
       "      <td>휴일</td>\n",
       "      <td>월</td>\n",
       "      <td>F.22-02시</td>\n",
       "      <td>M</td>\n",
       "      <td>A.2O대</td>\n",
       "      <td>2470</td>\n",
       "      <td>94.3</td>\n",
       "      <td>13.2</td>\n",
       "      <td>20.4</td>\n",
       "      <td>22.1</td>\n",
       "      <td>44.2</td>\n",
       "      <td>2.9</td>\n",
       "      <td>183.00</td>\n",
       "    </tr>\n",
       "  </tbody>\n",
       "</table>\n",
       "<p>6855 rows × 15 columns</p>\n",
       "</div>"
      ],
      "text/plain": [
       "      CRI_YM                   TAG 평일휴일 요일       시간대 성별      연령대  건수합계  \\\n",
       "0       2019  생활/취미/사무용품/인테리어/골프용품   평일  목  B.06-10시  F    A.2O대   291   \n",
       "1       2019  생활/취미/사무용품/인테리어/골프용품   휴일  일  F.22-02시  M    B.3O대    51   \n",
       "2       2019  생활/취미/사무용품/인테리어/골프용품   평일  목  B.06-10시  F    B.3O대   758   \n",
       "3       2019  생활/취미/사무용품/인테리어/골프용품   평일  화  C.10-14시  M    D.5O대   122   \n",
       "4       2019  생활/취미/사무용품/인테리어/골프용품   휴일  월  D.14-18시  F  E.60대이상    10   \n",
       "...      ...                   ...  ... ..       ... ..      ...   ...   \n",
       "6850    2019                패션/화장품   평일  수  A.02-06시  M    D.5O대   171   \n",
       "6851    2019                패션/화장품   휴일  월  F.22-02시  F  E.60대이상    71   \n",
       "6852    2019                패션/화장품   평일  월  B.06-10시  F    A.2O대   111   \n",
       "6853    2019                패션/화장품   휴일  수  F.22-02시  M    C.4O대   796   \n",
       "6854    2019                패션/화장품   휴일  월  F.22-02시  M    A.2O대  2470   \n",
       "\n",
       "      인터넷 쇼핑 이용자 비율 (%)  월 평균 구매빈도-1회 미만 (%)  월 평균 구매빈도-1~2회 미만 (%)  \\\n",
       "0                  98.7                 10.9                   18.6   \n",
       "1                  86.3                 14.6                   21.3   \n",
       "2                  96.9                 10.7                   17.0   \n",
       "3                  39.0                 23.5                   21.2   \n",
       "4                  14.5                 24.4                   27.1   \n",
       "...                 ...                  ...                    ...   \n",
       "6850               39.0                 23.5                   21.2   \n",
       "6851               14.5                 24.4                   27.1   \n",
       "6852               98.7                 10.9                   18.6   \n",
       "6853               66.8                 17.1                   23.2   \n",
       "6854               94.3                 13.2                   20.4   \n",
       "\n",
       "      월 평균 구매빈도-2~3회 미만 (%)  월 평균 구매빈도-3회 이상 (%)  월 평균 구매빈도-평균 (회)  네이버 태그 클릭량  \n",
       "0                      22.8                 47.7               3.3       83.20  \n",
       "1                      22.4                 41.7               2.9       25.30  \n",
       "2                      21.4                 50.9               3.6       56.75  \n",
       "3                      14.6                 40.7               2.5       29.25  \n",
       "4                      12.9                 35.5               2.7        6.60  \n",
       "...                     ...                  ...               ...         ...  \n",
       "6850                   14.6                 40.7               2.5      170.00  \n",
       "6851                   12.9                 35.5               2.7      161.00  \n",
       "6852                   22.8                 47.7               3.3      204.00  \n",
       "6853                   20.0                 39.7               2.9      161.00  \n",
       "6854                   22.1                 44.2               2.9      183.00  \n",
       "\n",
       "[6855 rows x 15 columns]"
      ]
     },
     "execution_count": 4,
     "metadata": {},
     "output_type": "execute_result"
    }
   ],
   "source": [
    "df=pd.read_excel(\"../csv-data/쇼핑몰프로젝트합2019.xlsx\")\n",
    "df"
   ]
  },
  {
   "cell_type": "markdown",
   "metadata": {
    "id": "J9bjDLb6QFTV"
   },
   "source": [
    "### ***EDA***"
   ]
  },
  {
   "cell_type": "markdown",
   "metadata": {
    "id": "4xV_jLIxQPad"
   },
   "source": [
    " **성별별 물품 구매현황** "
   ]
  },
  {
   "cell_type": "code",
   "execution_count": 5,
   "metadata": {
    "colab": {
     "base_uri": "https://localhost:8080/"
    },
    "id": "hHE_fZ5LM_W-",
    "outputId": "89aa8369-5ac6-4f41-a96e-526c01c49d8e"
   },
   "outputs": [
    {
     "data": {
      "text/plain": [
       "TAG\n",
       "생활/취미/사무용품/인테리어/골프용품     479.935780\n",
       "식료품                     1516.911111\n",
       "애완용품                     163.391791\n",
       "패션/화장품                  1408.216149\n",
       "Name: 건수합계, dtype: float64"
      ]
     },
     "execution_count": 5,
     "metadata": {},
     "output_type": "execute_result"
    }
   ],
   "source": [
    "A=df.groupby([\"성별\",\"TAG\"]).mean()\n",
    "list(A['건수합계'])\n",
    "A.loc['F',:].index\n",
    "A.loc['F',:]['건수합계']"
   ]
  },
  {
   "cell_type": "code",
   "execution_count": 6,
   "metadata": {
    "colab": {
     "base_uri": "https://localhost:8080/",
     "height": 248
    },
    "id": "9mZ_NrUxNbil",
    "outputId": "651ae692-ddde-468a-cded-b104c21fb55e"
   },
   "outputs": [
    {
     "data": {
      "image/png": "[encoded data removed]",
      "text/plain": [
       "<Figure size 432x288 with 1 Axes>"
      ]
     },
     "metadata": {},
     "output_type": "display_data"
    }
   ],
   "source": [
    "#여자들이 많이 사는 물품\n",
    "ratio = list(A.loc['F',:]['건수합계'])\n",
    "labels = list(A.loc['F',:].index)\n",
    "\n",
    "plt.pie(ratio, labels=labels, autopct='%.1f%%')\n",
    "plt.show()"
   ]
  },
  {
   "cell_type": "code",
   "execution_count": 7,
   "metadata": {
    "colab": {
     "base_uri": "https://localhost:8080/",
     "height": 248
    },
    "id": "30oe228GPP1d",
    "outputId": "e08a65a2-5719-49e3-e24c-730c2a2b8c13"
   },
   "outputs": [
    {
     "data": {
      "image/png": "[encoded data removed]",
      "text/plain": [
       "<Figure size 432x288 with 1 Axes>"
      ]
     },
     "metadata": {},
     "output_type": "display_data"
    }
   ],
   "source": [
    "#남자들이 많이 사는 물품\n",
    "ratio = list(A.loc['M',:]['건수합계'])\n",
    "labels = list(A.loc['M',:].index)\n",
    "\n",
    "plt.pie(ratio, labels=labels, autopct='%.1f%%')\n",
    "plt.show()"
   ]
  },
  {
   "cell_type": "markdown",
   "metadata": {
    "id": "36SeruFw5kcY"
   },
   "source": [
    "### 라벨인코딩"
   ]
  },
  {
   "cell_type": "code",
   "execution_count": 8,
   "metadata": {
    "colab": {
     "base_uri": "https://localhost:8080/"
    },
    "id": "8EQ0vqO45n7Y",
    "outputId": "8548a965-674a-46dc-dc7d-2b769939ae74"
   },
   "outputs": [
    {
     "data": {
      "text/plain": [
       "(['생활/취미/사무용품/인테리어/골프용품', '패션/화장품', '애완용품', '식료품'],\n",
       " ['E.18-22시', 'A.02-06시', 'D.14-18시', 'F.22-02시', 'B.06-10시', 'C.10-14시'],\n",
       " ['E.60대이상', 'A.2O대', 'D.5O대', 'B.3O대', 'C.4O대'])"
      ]
     },
     "execution_count": 8,
     "metadata": {},
     "output_type": "execute_result"
    }
   ],
   "source": [
    "list(set(df['TAG'])) , list(set(df['시간대'])) , list(set(df['연령대']))"
   ]
  },
  {
   "cell_type": "code",
   "execution_count": 9,
   "metadata": {
    "colab": {
     "base_uri": "https://localhost:8080/"
    },
    "id": "hj39NkeU5r23",
    "outputId": "bad462be-dc7d-4818-b138-bec65b0cea51"
   },
   "outputs": [
    {
     "data": {
      "text/plain": [
       "0       0\n",
       "1       0\n",
       "2       0\n",
       "3       0\n",
       "4       0\n",
       "       ..\n",
       "6850    3\n",
       "6851    3\n",
       "6852    3\n",
       "6853    3\n",
       "6854    3\n",
       "Name: TAG, Length: 6855, dtype: int32"
      ]
     },
     "execution_count": 9,
     "metadata": {},
     "output_type": "execute_result"
    }
   ],
   "source": [
    "encoder=LabelEncoder()\n",
    "df['TAG'].unique()\n",
    "encoder.fit(df['TAG'].unique())\n",
    "target=encoder.transform(df['TAG'])\n",
    "\n",
    "df['TAG']= target\n",
    "df['TAG']\n"
   ]
  },
  {
   "cell_type": "code",
   "execution_count": 10,
   "metadata": {
    "colab": {
     "base_uri": "https://localhost:8080/"
    },
    "id": "CKkgGDHn5ql2",
    "outputId": "7b996bc8-04c1-4c1c-c41f-0af6f44a7967"
   },
   "outputs": [
    {
     "data": {
      "text/plain": [
       "array(['생활/취미/사무용품/인테리어/골프용품', '식료품', '애완용품', '패션/화장품'], dtype=object)"
      ]
     },
     "execution_count": 10,
     "metadata": {},
     "output_type": "execute_result"
    }
   ],
   "source": [
    "encoder.classes_"
   ]
  },
  {
   "cell_type": "code",
   "execution_count": 11,
   "metadata": {
    "colab": {
     "base_uri": "https://localhost:8080/"
    },
    "id": "82B5JVsW5tpe",
    "outputId": "708e9658-57ce-4f2f-f60f-809ee83c2712"
   },
   "outputs": [
    {
     "data": {
      "text/plain": [
       "0       0\n",
       "1       1\n",
       "2       1\n",
       "3       3\n",
       "4       4\n",
       "       ..\n",
       "6850    3\n",
       "6851    4\n",
       "6852    0\n",
       "6853    2\n",
       "6854    0\n",
       "Name: 연령대, Length: 6855, dtype: int32"
      ]
     },
     "execution_count": 11,
     "metadata": {},
     "output_type": "execute_result"
    }
   ],
   "source": [
    "encoder2=LabelEncoder()\n",
    "df['연령대'].unique()\n",
    "encoder2.fit(df['연령대'].unique())\n",
    "target=encoder2.transform(df['연령대'])\n",
    "\n",
    "df['연령대']= target\n",
    "df['연령대']"
   ]
  },
  {
   "cell_type": "code",
   "execution_count": 12,
   "metadata": {
    "colab": {
     "base_uri": "https://localhost:8080/"
    },
    "id": "0gUujvbs5upG",
    "outputId": "7f98afeb-4883-4702-f4f9-7d4385aed1e3"
   },
   "outputs": [
    {
     "data": {
      "text/plain": [
       "array(['A.2O대', 'B.3O대', 'C.4O대', 'D.5O대', 'E.60대이상'], dtype=object)"
      ]
     },
     "execution_count": 12,
     "metadata": {},
     "output_type": "execute_result"
    }
   ],
   "source": [
    "encoder2.classes_"
   ]
  },
  {
   "cell_type": "code",
   "execution_count": 13,
   "metadata": {
    "colab": {
     "base_uri": "https://localhost:8080/"
    },
    "id": "smv5ytACEIWn",
    "outputId": "2eab3ae5-5cc2-4dbd-eaff-6759f8b7eab1"
   },
   "outputs": [
    {
     "data": {
      "text/plain": [
       "array(['B.06-10시', 'F.22-02시', 'C.10-14시', 'D.14-18시', 'E.18-22시',\n",
       "       'A.02-06시'], dtype=object)"
      ]
     },
     "execution_count": 13,
     "metadata": {},
     "output_type": "execute_result"
    }
   ],
   "source": [
    "df['시간대'].unique()"
   ]
  },
  {
   "cell_type": "code",
   "execution_count": 14,
   "metadata": {
    "colab": {
     "base_uri": "https://localhost:8080/"
    },
    "id": "gYchYC5B5wpP",
    "outputId": "acf087eb-ac41-422a-ee4e-2617a577f25a"
   },
   "outputs": [
    {
     "data": {
      "text/plain": [
       "0       1\n",
       "1       5\n",
       "2       1\n",
       "3       2\n",
       "4       3\n",
       "       ..\n",
       "6850    0\n",
       "6851    5\n",
       "6852    1\n",
       "6853    5\n",
       "6854    5\n",
       "Name: 시간대, Length: 6855, dtype: int32"
      ]
     },
     "execution_count": 14,
     "metadata": {},
     "output_type": "execute_result"
    }
   ],
   "source": [
    "encoder3 = LabelEncoder()\n",
    "df['시간대'].unique()\n",
    "encoder3.fit(df['시간대'].unique())\n",
    "target=encoder3.transform(df['시간대'])\n",
    "\n",
    "df['시간대']= target\n",
    "df['시간대']"
   ]
  },
  {
   "cell_type": "code",
   "execution_count": 15,
   "metadata": {
    "colab": {
     "base_uri": "https://localhost:8080/"
    },
    "id": "JKuFbH605yIO",
    "outputId": "86201ddb-ece0-4df1-c07b-cc80d2901ab9"
   },
   "outputs": [
    {
     "data": {
      "text/plain": [
       "array(['A.02-06시', 'B.06-10시', 'C.10-14시', 'D.14-18시', 'E.18-22시',\n",
       "       'F.22-02시'], dtype=object)"
      ]
     },
     "execution_count": 15,
     "metadata": {},
     "output_type": "execute_result"
    }
   ],
   "source": [
    "encoder3.classes_"
   ]
  },
  {
   "cell_type": "code",
   "execution_count": 16,
   "metadata": {
    "colab": {
     "base_uri": "https://localhost:8080/"
    },
    "id": "ZzP44lySFbEv",
    "outputId": "deeb2eae-de08-4de4-fbf3-f6971e5c8af2"
   },
   "outputs": [
    {
     "data": {
      "text/plain": [
       "0       0\n",
       "1       1\n",
       "2       0\n",
       "3       0\n",
       "4       1\n",
       "       ..\n",
       "6850    0\n",
       "6851    1\n",
       "6852    0\n",
       "6853    1\n",
       "6854    1\n",
       "Name: 평일휴일, Length: 6855, dtype: int32"
      ]
     },
     "execution_count": 16,
     "metadata": {},
     "output_type": "execute_result"
    }
   ],
   "source": [
    "encoder4 = LabelEncoder()\n",
    "df['평일휴일'].unique()\n",
    "encoder4.fit(df['평일휴일'].unique())\n",
    "target=encoder4.transform(df['평일휴일'])\n",
    "\n",
    "df['평일휴일']= target\n",
    "df['평일휴일']"
   ]
  },
  {
   "cell_type": "code",
   "execution_count": 17,
   "metadata": {
    "colab": {
     "base_uri": "https://localhost:8080/"
    },
    "id": "gZuNT4o4Fjpe",
    "outputId": "d73adbd5-9ecb-4359-cfd4-18939cbe4a26"
   },
   "outputs": [
    {
     "data": {
      "text/plain": [
       "array(['평일', '휴일'], dtype=object)"
      ]
     },
     "execution_count": 17,
     "metadata": {},
     "output_type": "execute_result"
    }
   ],
   "source": [
    "encoder4.classes_"
   ]
  },
  {
   "cell_type": "code",
   "execution_count": 18,
   "metadata": {
    "colab": {
     "base_uri": "https://localhost:8080/"
    },
    "id": "sF0nHyXNFt82",
    "outputId": "c11246f9-faae-4ad7-a29e-5ab61d0bcabf"
   },
   "outputs": [
    {
     "data": {
      "text/plain": [
       "0       0\n",
       "1       1\n",
       "2       0\n",
       "3       1\n",
       "4       0\n",
       "       ..\n",
       "6850    1\n",
       "6851    0\n",
       "6852    0\n",
       "6853    1\n",
       "6854    1\n",
       "Name: 성별, Length: 6855, dtype: int32"
      ]
     },
     "execution_count": 18,
     "metadata": {},
     "output_type": "execute_result"
    }
   ],
   "source": [
    "encoder5 = LabelEncoder()\n",
    "df['성별'].unique()\n",
    "encoder5.fit(df['성별'].unique())\n",
    "target=encoder5.transform(df['성별'])\n",
    "\n",
    "df['성별']= target\n",
    "df['성별']"
   ]
  },
  {
   "cell_type": "code",
   "execution_count": 19,
   "metadata": {
    "colab": {
     "base_uri": "https://localhost:8080/"
    },
    "id": "PsOeJ2tNFujm",
    "outputId": "e4586716-bf67-4fb2-be82-61b5e107e081"
   },
   "outputs": [
    {
     "data": {
      "text/plain": [
       "array(['F', 'M'], dtype=object)"
      ]
     },
     "execution_count": 19,
     "metadata": {},
     "output_type": "execute_result"
    }
   ],
   "source": [
    "encoder5.classes_"
   ]
  },
  {
   "cell_type": "code",
   "execution_count": 20,
   "metadata": {
    "colab": {
     "base_uri": "https://localhost:8080/"
    },
    "id": "O0z9afMg5zj-",
    "outputId": "5be14b52-7c3c-480c-8370-27f949266524"
   },
   "outputs": [
    {
     "name": "stdout",
     "output_type": "stream",
     "text": [
      "<class 'pandas.core.frame.DataFrame'>\n",
      "RangeIndex: 6855 entries, 0 to 6854\n",
      "Data columns (total 15 columns):\n",
      "CRI_YM                   6855 non-null int64\n",
      "TAG                      6855 non-null int32\n",
      "평일휴일                     6855 non-null int32\n",
      "요일                       6855 non-null object\n",
      "시간대                      6855 non-null int32\n",
      "성별                       6855 non-null int32\n",
      "연령대                      6855 non-null int32\n",
      "건수합계                     6855 non-null int64\n",
      "인터넷 쇼핑 이용자 비율 (%)        6855 non-null float64\n",
      "월 평균 구매빈도-1회 미만 (%)      6855 non-null float64\n",
      "월 평균 구매빈도-1~2회 미만 (%)    6855 non-null float64\n",
      "월 평균 구매빈도-2~3회 미만 (%)    6855 non-null float64\n",
      "월 평균 구매빈도-3회 이상 (%)      6855 non-null float64\n",
      "월 평균 구매빈도-평균 (회)         6855 non-null float64\n",
      "네이버 태그 클릭량               6855 non-null float64\n",
      "dtypes: float64(7), int32(5), int64(2), object(1)\n",
      "memory usage: 669.6+ KB\n"
     ]
    }
   ],
   "source": [
    "df.info()"
   ]
  },
  {
   "cell_type": "code",
   "execution_count": 21,
   "metadata": {
    "colab": {
     "base_uri": "https://localhost:8080/",
     "height": 327
    },
    "id": "R3wdIqQ0EyYd",
    "outputId": "7cd35026-9030-4edd-cdcf-f1d9bfe258c3"
   },
   "outputs": [],
   "source": [
    "df.drop(columns=[\"CRI_YM\",\"요일\"], inplace=True)"
   ]
  },
  {
   "cell_type": "code",
   "execution_count": 22,
   "metadata": {
    "colab": {
     "base_uri": "https://localhost:8080/",
     "height": 424
    },
    "id": "pTEoOdF8GjWm",
    "outputId": "a8588861-5cbe-47ed-8e37-811bfcc2203f"
   },
   "outputs": [
    {
     "data": {
      "text/html": [
       "<div>\n",
       "<style scoped>\n",
       "    .dataframe tbody tr th:only-of-type {\n",
       "        vertical-align: middle;\n",
       "    }\n",
       "\n",
       "    .dataframe tbody tr th {\n",
       "        vertical-align: top;\n",
       "    }\n",
       "\n",
       "    .dataframe thead th {\n",
       "        text-align: right;\n",
       "    }\n",
       "</style>\n",
       "<table border=\"1\" class=\"dataframe\">\n",
       "  <thead>\n",
       "    <tr style=\"text-align: right;\">\n",
       "      <th></th>\n",
       "      <th>TAG</th>\n",
       "      <th>평일휴일</th>\n",
       "      <th>시간대</th>\n",
       "      <th>성별</th>\n",
       "      <th>연령대</th>\n",
       "      <th>건수합계</th>\n",
       "      <th>인터넷 쇼핑 이용자 비율 (%)</th>\n",
       "      <th>월 평균 구매빈도-1회 미만 (%)</th>\n",
       "      <th>월 평균 구매빈도-1~2회 미만 (%)</th>\n",
       "      <th>월 평균 구매빈도-2~3회 미만 (%)</th>\n",
       "      <th>월 평균 구매빈도-3회 이상 (%)</th>\n",
       "      <th>월 평균 구매빈도-평균 (회)</th>\n",
       "      <th>네이버 태그 클릭량</th>\n",
       "    </tr>\n",
       "  </thead>\n",
       "  <tbody>\n",
       "    <tr>\n",
       "      <td>0</td>\n",
       "      <td>0</td>\n",
       "      <td>0</td>\n",
       "      <td>1</td>\n",
       "      <td>0</td>\n",
       "      <td>0</td>\n",
       "      <td>291</td>\n",
       "      <td>98.7</td>\n",
       "      <td>10.9</td>\n",
       "      <td>18.6</td>\n",
       "      <td>22.8</td>\n",
       "      <td>47.7</td>\n",
       "      <td>3.3</td>\n",
       "      <td>83.20</td>\n",
       "    </tr>\n",
       "    <tr>\n",
       "      <td>1</td>\n",
       "      <td>0</td>\n",
       "      <td>1</td>\n",
       "      <td>5</td>\n",
       "      <td>1</td>\n",
       "      <td>1</td>\n",
       "      <td>51</td>\n",
       "      <td>86.3</td>\n",
       "      <td>14.6</td>\n",
       "      <td>21.3</td>\n",
       "      <td>22.4</td>\n",
       "      <td>41.7</td>\n",
       "      <td>2.9</td>\n",
       "      <td>25.30</td>\n",
       "    </tr>\n",
       "    <tr>\n",
       "      <td>2</td>\n",
       "      <td>0</td>\n",
       "      <td>0</td>\n",
       "      <td>1</td>\n",
       "      <td>0</td>\n",
       "      <td>1</td>\n",
       "      <td>758</td>\n",
       "      <td>96.9</td>\n",
       "      <td>10.7</td>\n",
       "      <td>17.0</td>\n",
       "      <td>21.4</td>\n",
       "      <td>50.9</td>\n",
       "      <td>3.6</td>\n",
       "      <td>56.75</td>\n",
       "    </tr>\n",
       "    <tr>\n",
       "      <td>3</td>\n",
       "      <td>0</td>\n",
       "      <td>0</td>\n",
       "      <td>2</td>\n",
       "      <td>1</td>\n",
       "      <td>3</td>\n",
       "      <td>122</td>\n",
       "      <td>39.0</td>\n",
       "      <td>23.5</td>\n",
       "      <td>21.2</td>\n",
       "      <td>14.6</td>\n",
       "      <td>40.7</td>\n",
       "      <td>2.5</td>\n",
       "      <td>29.25</td>\n",
       "    </tr>\n",
       "    <tr>\n",
       "      <td>4</td>\n",
       "      <td>0</td>\n",
       "      <td>1</td>\n",
       "      <td>3</td>\n",
       "      <td>0</td>\n",
       "      <td>4</td>\n",
       "      <td>10</td>\n",
       "      <td>14.5</td>\n",
       "      <td>24.4</td>\n",
       "      <td>27.1</td>\n",
       "      <td>12.9</td>\n",
       "      <td>35.5</td>\n",
       "      <td>2.7</td>\n",
       "      <td>6.60</td>\n",
       "    </tr>\n",
       "    <tr>\n",
       "      <td>...</td>\n",
       "      <td>...</td>\n",
       "      <td>...</td>\n",
       "      <td>...</td>\n",
       "      <td>...</td>\n",
       "      <td>...</td>\n",
       "      <td>...</td>\n",
       "      <td>...</td>\n",
       "      <td>...</td>\n",
       "      <td>...</td>\n",
       "      <td>...</td>\n",
       "      <td>...</td>\n",
       "      <td>...</td>\n",
       "      <td>...</td>\n",
       "    </tr>\n",
       "    <tr>\n",
       "      <td>6850</td>\n",
       "      <td>3</td>\n",
       "      <td>0</td>\n",
       "      <td>0</td>\n",
       "      <td>1</td>\n",
       "      <td>3</td>\n",
       "      <td>171</td>\n",
       "      <td>39.0</td>\n",
       "      <td>23.5</td>\n",
       "      <td>21.2</td>\n",
       "      <td>14.6</td>\n",
       "      <td>40.7</td>\n",
       "      <td>2.5</td>\n",
       "      <td>170.00</td>\n",
       "    </tr>\n",
       "    <tr>\n",
       "      <td>6851</td>\n",
       "      <td>3</td>\n",
       "      <td>1</td>\n",
       "      <td>5</td>\n",
       "      <td>0</td>\n",
       "      <td>4</td>\n",
       "      <td>71</td>\n",
       "      <td>14.5</td>\n",
       "      <td>24.4</td>\n",
       "      <td>27.1</td>\n",
       "      <td>12.9</td>\n",
       "      <td>35.5</td>\n",
       "      <td>2.7</td>\n",
       "      <td>161.00</td>\n",
       "    </tr>\n",
       "    <tr>\n",
       "      <td>6852</td>\n",
       "      <td>3</td>\n",
       "      <td>0</td>\n",
       "      <td>1</td>\n",
       "      <td>0</td>\n",
       "      <td>0</td>\n",
       "      <td>111</td>\n",
       "      <td>98.7</td>\n",
       "      <td>10.9</td>\n",
       "      <td>18.6</td>\n",
       "      <td>22.8</td>\n",
       "      <td>47.7</td>\n",
       "      <td>3.3</td>\n",
       "      <td>204.00</td>\n",
       "    </tr>\n",
       "    <tr>\n",
       "      <td>6853</td>\n",
       "      <td>3</td>\n",
       "      <td>1</td>\n",
       "      <td>5</td>\n",
       "      <td>1</td>\n",
       "      <td>2</td>\n",
       "      <td>796</td>\n",
       "      <td>66.8</td>\n",
       "      <td>17.1</td>\n",
       "      <td>23.2</td>\n",
       "      <td>20.0</td>\n",
       "      <td>39.7</td>\n",
       "      <td>2.9</td>\n",
       "      <td>161.00</td>\n",
       "    </tr>\n",
       "    <tr>\n",
       "      <td>6854</td>\n",
       "      <td>3</td>\n",
       "      <td>1</td>\n",
       "      <td>5</td>\n",
       "      <td>1</td>\n",
       "      <td>0</td>\n",
       "      <td>2470</td>\n",
       "      <td>94.3</td>\n",
       "      <td>13.2</td>\n",
       "      <td>20.4</td>\n",
       "      <td>22.1</td>\n",
       "      <td>44.2</td>\n",
       "      <td>2.9</td>\n",
       "      <td>183.00</td>\n",
       "    </tr>\n",
       "  </tbody>\n",
       "</table>\n",
       "<p>6855 rows × 13 columns</p>\n",
       "</div>"
      ],
      "text/plain": [
       "      TAG  평일휴일  시간대  성별  연령대  건수합계  인터넷 쇼핑 이용자 비율 (%)  월 평균 구매빈도-1회 미만 (%)  \\\n",
       "0       0     0    1   0    0   291               98.7                 10.9   \n",
       "1       0     1    5   1    1    51               86.3                 14.6   \n",
       "2       0     0    1   0    1   758               96.9                 10.7   \n",
       "3       0     0    2   1    3   122               39.0                 23.5   \n",
       "4       0     1    3   0    4    10               14.5                 24.4   \n",
       "...   ...   ...  ...  ..  ...   ...                ...                  ...   \n",
       "6850    3     0    0   1    3   171               39.0                 23.5   \n",
       "6851    3     1    5   0    4    71               14.5                 24.4   \n",
       "6852    3     0    1   0    0   111               98.7                 10.9   \n",
       "6853    3     1    5   1    2   796               66.8                 17.1   \n",
       "6854    3     1    5   1    0  2470               94.3                 13.2   \n",
       "\n",
       "      월 평균 구매빈도-1~2회 미만 (%)  월 평균 구매빈도-2~3회 미만 (%)  월 평균 구매빈도-3회 이상 (%)  \\\n",
       "0                      18.6                   22.8                 47.7   \n",
       "1                      21.3                   22.4                 41.7   \n",
       "2                      17.0                   21.4                 50.9   \n",
       "3                      21.2                   14.6                 40.7   \n",
       "4                      27.1                   12.9                 35.5   \n",
       "...                     ...                    ...                  ...   \n",
       "6850                   21.2                   14.6                 40.7   \n",
       "6851                   27.1                   12.9                 35.5   \n",
       "6852                   18.6                   22.8                 47.7   \n",
       "6853                   23.2                   20.0                 39.7   \n",
       "6854                   20.4                   22.1                 44.2   \n",
       "\n",
       "      월 평균 구매빈도-평균 (회)  네이버 태그 클릭량  \n",
       "0                  3.3       83.20  \n",
       "1                  2.9       25.30  \n",
       "2                  3.6       56.75  \n",
       "3                  2.5       29.25  \n",
       "4                  2.7        6.60  \n",
       "...                ...         ...  \n",
       "6850               2.5      170.00  \n",
       "6851               2.7      161.00  \n",
       "6852               3.3      204.00  \n",
       "6853               2.9      161.00  \n",
       "6854               2.9      183.00  \n",
       "\n",
       "[6855 rows x 13 columns]"
      ]
     },
     "execution_count": 22,
     "metadata": {},
     "output_type": "execute_result"
    }
   ],
   "source": [
    "df"
   ]
  },
  {
   "cell_type": "code",
   "execution_count": 23,
   "metadata": {
    "colab": {
     "base_uri": "https://localhost:8080/",
     "height": 238
    },
    "id": "r75oU8P-MMXu",
    "outputId": "f5221a78-2c3b-455c-f162-a346636ea51f"
   },
   "outputs": [
    {
     "data": {
      "text/html": [
       "<div>\n",
       "<style scoped>\n",
       "    .dataframe tbody tr th:only-of-type {\n",
       "        vertical-align: middle;\n",
       "    }\n",
       "\n",
       "    .dataframe tbody tr th {\n",
       "        vertical-align: top;\n",
       "    }\n",
       "\n",
       "    .dataframe thead th {\n",
       "        text-align: right;\n",
       "    }\n",
       "</style>\n",
       "<table border=\"1\" class=\"dataframe\">\n",
       "  <thead>\n",
       "    <tr style=\"text-align: right;\">\n",
       "      <th></th>\n",
       "      <th>TAG</th>\n",
       "      <th>평일휴일</th>\n",
       "      <th>시간대</th>\n",
       "      <th>성별</th>\n",
       "      <th>연령대</th>\n",
       "      <th>건수합계</th>\n",
       "      <th>인터넷 쇼핑 이용자 비율 (%)</th>\n",
       "      <th>월 평균 구매빈도-1회 미만 (%)</th>\n",
       "      <th>월 평균 구매빈도-1~2회 미만 (%)</th>\n",
       "      <th>월 평균 구매빈도-2~3회 미만 (%)</th>\n",
       "      <th>월 평균 구매빈도-3회 이상 (%)</th>\n",
       "      <th>월 평균 구매빈도-평균 (회)</th>\n",
       "      <th>네이버 태그 클릭량</th>\n",
       "    </tr>\n",
       "  </thead>\n",
       "  <tbody>\n",
       "    <tr>\n",
       "      <td>TAG</td>\n",
       "      <td>1.000000</td>\n",
       "      <td>0.006077</td>\n",
       "      <td>-0.008134</td>\n",
       "      <td>-0.004962</td>\n",
       "      <td>-0.001000</td>\n",
       "      <td>0.180094</td>\n",
       "      <td>-0.000719</td>\n",
       "      <td>-0.000642</td>\n",
       "      <td>0.002617</td>\n",
       "      <td>-0.000988</td>\n",
       "      <td>-0.000175</td>\n",
       "      <td>0.001061</td>\n",
       "      <td>0.924234</td>\n",
       "    </tr>\n",
       "    <tr>\n",
       "      <td>평일휴일</td>\n",
       "      <td>0.006077</td>\n",
       "      <td>1.000000</td>\n",
       "      <td>0.010515</td>\n",
       "      <td>0.001530</td>\n",
       "      <td>-0.006244</td>\n",
       "      <td>-0.177725</td>\n",
       "      <td>0.007640</td>\n",
       "      <td>-0.004710</td>\n",
       "      <td>-0.003813</td>\n",
       "      <td>0.009023</td>\n",
       "      <td>0.000025</td>\n",
       "      <td>-0.000330</td>\n",
       "      <td>0.006501</td>\n",
       "    </tr>\n",
       "    <tr>\n",
       "      <td>시간대</td>\n",
       "      <td>-0.008134</td>\n",
       "      <td>0.010515</td>\n",
       "      <td>1.000000</td>\n",
       "      <td>-0.002628</td>\n",
       "      <td>0.014029</td>\n",
       "      <td>0.087147</td>\n",
       "      <td>-0.016067</td>\n",
       "      <td>0.011369</td>\n",
       "      <td>0.010318</td>\n",
       "      <td>-0.017637</td>\n",
       "      <td>-0.003898</td>\n",
       "      <td>-0.002296</td>\n",
       "      <td>-0.014945</td>\n",
       "    </tr>\n",
       "    <tr>\n",
       "      <td>성별</td>\n",
       "      <td>-0.004962</td>\n",
       "      <td>0.001530</td>\n",
       "      <td>-0.002628</td>\n",
       "      <td>1.000000</td>\n",
       "      <td>0.001186</td>\n",
       "      <td>-0.127714</td>\n",
       "      <td>-0.070866</td>\n",
       "      <td>0.113671</td>\n",
       "      <td>0.048227</td>\n",
       "      <td>-0.104439</td>\n",
       "      <td>-0.063525</td>\n",
       "      <td>-0.444134</td>\n",
       "      <td>-0.117364</td>\n",
       "    </tr>\n",
       "    <tr>\n",
       "      <td>연령대</td>\n",
       "      <td>-0.001000</td>\n",
       "      <td>-0.006244</td>\n",
       "      <td>0.014029</td>\n",
       "      <td>0.001186</td>\n",
       "      <td>1.000000</td>\n",
       "      <td>-0.160044</td>\n",
       "      <td>-0.968817</td>\n",
       "      <td>0.904795</td>\n",
       "      <td>0.658495</td>\n",
       "      <td>-0.938208</td>\n",
       "      <td>-0.568761</td>\n",
       "      <td>-0.398981</td>\n",
       "      <td>-0.135849</td>\n",
       "    </tr>\n",
       "    <tr>\n",
       "      <td>건수합계</td>\n",
       "      <td>0.180094</td>\n",
       "      <td>-0.177725</td>\n",
       "      <td>0.087147</td>\n",
       "      <td>-0.127714</td>\n",
       "      <td>-0.160044</td>\n",
       "      <td>1.000000</td>\n",
       "      <td>0.229629</td>\n",
       "      <td>-0.229580</td>\n",
       "      <td>-0.225245</td>\n",
       "      <td>0.222009</td>\n",
       "      <td>0.192444</td>\n",
       "      <td>0.227549</td>\n",
       "      <td>0.238746</td>\n",
       "    </tr>\n",
       "    <tr>\n",
       "      <td>인터넷 쇼핑 이용자 비율 (%)</td>\n",
       "      <td>-0.000719</td>\n",
       "      <td>0.007640</td>\n",
       "      <td>-0.016067</td>\n",
       "      <td>-0.070866</td>\n",
       "      <td>-0.968817</td>\n",
       "      <td>0.229629</td>\n",
       "      <td>1.000000</td>\n",
       "      <td>-0.949838</td>\n",
       "      <td>-0.746700</td>\n",
       "      <td>0.966666</td>\n",
       "      <td>0.644920</td>\n",
       "      <td>0.522182</td>\n",
       "      <td>0.154776</td>\n",
       "    </tr>\n",
       "    <tr>\n",
       "      <td>월 평균 구매빈도-1회 미만 (%)</td>\n",
       "      <td>-0.000642</td>\n",
       "      <td>-0.004710</td>\n",
       "      <td>0.011369</td>\n",
       "      <td>0.113671</td>\n",
       "      <td>0.904795</td>\n",
       "      <td>-0.229580</td>\n",
       "      <td>-0.949838</td>\n",
       "      <td>1.000000</td>\n",
       "      <td>0.803227</td>\n",
       "      <td>-0.880985</td>\n",
       "      <td>-0.794727</td>\n",
       "      <td>-0.718912</td>\n",
       "      <td>-0.161034</td>\n",
       "    </tr>\n",
       "    <tr>\n",
       "      <td>월 평균 구매빈도-1~2회 미만 (%)</td>\n",
       "      <td>0.002617</td>\n",
       "      <td>-0.003813</td>\n",
       "      <td>0.010318</td>\n",
       "      <td>0.048227</td>\n",
       "      <td>0.658495</td>\n",
       "      <td>-0.225245</td>\n",
       "      <td>-0.746700</td>\n",
       "      <td>0.803227</td>\n",
       "      <td>1.000000</td>\n",
       "      <td>-0.586994</td>\n",
       "      <td>-0.942000</td>\n",
       "      <td>-0.693871</td>\n",
       "      <td>-0.150593</td>\n",
       "    </tr>\n",
       "    <tr>\n",
       "      <td>월 평균 구매빈도-2~3회 미만 (%)</td>\n",
       "      <td>-0.000988</td>\n",
       "      <td>0.009023</td>\n",
       "      <td>-0.017637</td>\n",
       "      <td>-0.104439</td>\n",
       "      <td>-0.938208</td>\n",
       "      <td>0.222009</td>\n",
       "      <td>0.966666</td>\n",
       "      <td>-0.880985</td>\n",
       "      <td>-0.586994</td>\n",
       "      <td>1.000000</td>\n",
       "      <td>0.456045</td>\n",
       "      <td>0.433096</td>\n",
       "      <td>0.139088</td>\n",
       "    </tr>\n",
       "    <tr>\n",
       "      <td>월 평균 구매빈도-3회 이상 (%)</td>\n",
       "      <td>-0.000175</td>\n",
       "      <td>0.000025</td>\n",
       "      <td>-0.003898</td>\n",
       "      <td>-0.063525</td>\n",
       "      <td>-0.568761</td>\n",
       "      <td>0.192444</td>\n",
       "      <td>0.644920</td>\n",
       "      <td>-0.794727</td>\n",
       "      <td>-0.942000</td>\n",
       "      <td>0.456045</td>\n",
       "      <td>1.000000</td>\n",
       "      <td>0.796373</td>\n",
       "      <td>0.143022</td>\n",
       "    </tr>\n",
       "    <tr>\n",
       "      <td>월 평균 구매빈도-평균 (회)</td>\n",
       "      <td>0.001061</td>\n",
       "      <td>-0.000330</td>\n",
       "      <td>-0.002296</td>\n",
       "      <td>-0.444134</td>\n",
       "      <td>-0.398981</td>\n",
       "      <td>0.227549</td>\n",
       "      <td>0.522182</td>\n",
       "      <td>-0.718912</td>\n",
       "      <td>-0.693871</td>\n",
       "      <td>0.433096</td>\n",
       "      <td>0.796373</td>\n",
       "      <td>1.000000</td>\n",
       "      <td>0.152151</td>\n",
       "    </tr>\n",
       "    <tr>\n",
       "      <td>네이버 태그 클릭량</td>\n",
       "      <td>0.924234</td>\n",
       "      <td>0.006501</td>\n",
       "      <td>-0.014945</td>\n",
       "      <td>-0.117364</td>\n",
       "      <td>-0.135849</td>\n",
       "      <td>0.238746</td>\n",
       "      <td>0.154776</td>\n",
       "      <td>-0.161034</td>\n",
       "      <td>-0.150593</td>\n",
       "      <td>0.139088</td>\n",
       "      <td>0.143022</td>\n",
       "      <td>0.152151</td>\n",
       "      <td>1.000000</td>\n",
       "    </tr>\n",
       "  </tbody>\n",
       "</table>\n",
       "</div>"
      ],
      "text/plain": [
       "                            TAG      평일휴일       시간대        성별       연령대  \\\n",
       "TAG                    1.000000  0.006077 -0.008134 -0.004962 -0.001000   \n",
       "평일휴일                   0.006077  1.000000  0.010515  0.001530 -0.006244   \n",
       "시간대                   -0.008134  0.010515  1.000000 -0.002628  0.014029   \n",
       "성별                    -0.004962  0.001530 -0.002628  1.000000  0.001186   \n",
       "연령대                   -0.001000 -0.006244  0.014029  0.001186  1.000000   \n",
       "건수합계                   0.180094 -0.177725  0.087147 -0.127714 -0.160044   \n",
       "인터넷 쇼핑 이용자 비율 (%)     -0.000719  0.007640 -0.016067 -0.070866 -0.968817   \n",
       "월 평균 구매빈도-1회 미만 (%)   -0.000642 -0.004710  0.011369  0.113671  0.904795   \n",
       "월 평균 구매빈도-1~2회 미만 (%)  0.002617 -0.003813  0.010318  0.048227  0.658495   \n",
       "월 평균 구매빈도-2~3회 미만 (%) -0.000988  0.009023 -0.017637 -0.104439 -0.938208   \n",
       "월 평균 구매빈도-3회 이상 (%)   -0.000175  0.000025 -0.003898 -0.063525 -0.568761   \n",
       "월 평균 구매빈도-평균 (회)       0.001061 -0.000330 -0.002296 -0.444134 -0.398981   \n",
       "네이버 태그 클릭량             0.924234  0.006501 -0.014945 -0.117364 -0.135849   \n",
       "\n",
       "                           건수합계  인터넷 쇼핑 이용자 비율 (%)  월 평균 구매빈도-1회 미만 (%)  \\\n",
       "TAG                    0.180094          -0.000719            -0.000642   \n",
       "평일휴일                  -0.177725           0.007640            -0.004710   \n",
       "시간대                    0.087147          -0.016067             0.011369   \n",
       "성별                    -0.127714          -0.070866             0.113671   \n",
       "연령대                   -0.160044          -0.968817             0.904795   \n",
       "건수합계                   1.000000           0.229629            -0.229580   \n",
       "인터넷 쇼핑 이용자 비율 (%)      0.229629           1.000000            -0.949838   \n",
       "월 평균 구매빈도-1회 미만 (%)   -0.229580          -0.949838             1.000000   \n",
       "월 평균 구매빈도-1~2회 미만 (%) -0.225245          -0.746700             0.803227   \n",
       "월 평균 구매빈도-2~3회 미만 (%)  0.222009           0.966666            -0.880985   \n",
       "월 평균 구매빈도-3회 이상 (%)    0.192444           0.644920            -0.794727   \n",
       "월 평균 구매빈도-평균 (회)       0.227549           0.522182            -0.718912   \n",
       "네이버 태그 클릭량             0.238746           0.154776            -0.161034   \n",
       "\n",
       "                       월 평균 구매빈도-1~2회 미만 (%)  월 평균 구매빈도-2~3회 미만 (%)  \\\n",
       "TAG                                 0.002617              -0.000988   \n",
       "평일휴일                               -0.003813               0.009023   \n",
       "시간대                                 0.010318              -0.017637   \n",
       "성별                                  0.048227              -0.104439   \n",
       "연령대                                 0.658495              -0.938208   \n",
       "건수합계                               -0.225245               0.222009   \n",
       "인터넷 쇼핑 이용자 비율 (%)                  -0.746700               0.966666   \n",
       "월 평균 구매빈도-1회 미만 (%)                 0.803227              -0.880985   \n",
       "월 평균 구매빈도-1~2회 미만 (%)               1.000000              -0.586994   \n",
       "월 평균 구매빈도-2~3회 미만 (%)              -0.586994               1.000000   \n",
       "월 평균 구매빈도-3회 이상 (%)                -0.942000               0.456045   \n",
       "월 평균 구매빈도-평균 (회)                   -0.693871               0.433096   \n",
       "네이버 태그 클릭량                         -0.150593               0.139088   \n",
       "\n",
       "                       월 평균 구매빈도-3회 이상 (%)  월 평균 구매빈도-평균 (회)  네이버 태그 클릭량  \n",
       "TAG                              -0.000175          0.001061    0.924234  \n",
       "평일휴일                              0.000025         -0.000330    0.006501  \n",
       "시간대                              -0.003898         -0.002296   -0.014945  \n",
       "성별                               -0.063525         -0.444134   -0.117364  \n",
       "연령대                              -0.568761         -0.398981   -0.135849  \n",
       "건수합계                              0.192444          0.227549    0.238746  \n",
       "인터넷 쇼핑 이용자 비율 (%)                 0.644920          0.522182    0.154776  \n",
       "월 평균 구매빈도-1회 미만 (%)              -0.794727         -0.718912   -0.161034  \n",
       "월 평균 구매빈도-1~2회 미만 (%)            -0.942000         -0.693871   -0.150593  \n",
       "월 평균 구매빈도-2~3회 미만 (%)             0.456045          0.433096    0.139088  \n",
       "월 평균 구매빈도-3회 이상 (%)               1.000000          0.796373    0.143022  \n",
       "월 평균 구매빈도-평균 (회)                  0.796373          1.000000    0.152151  \n",
       "네이버 태그 클릭량                        0.143022          0.152151    1.000000  "
      ]
     },
     "execution_count": 23,
     "metadata": {},
     "output_type": "execute_result"
    }
   ],
   "source": [
    "df.corr()"
   ]
  },
  {
   "cell_type": "code",
   "execution_count": 24,
   "metadata": {
    "colab": {
     "base_uri": "https://localhost:8080/"
    },
    "id": "F_-BqP7NFQ2N",
    "outputId": "f156aec5-6313-4c33-e627-500ddd9f7045"
   },
   "outputs": [
    {
     "data": {
      "text/plain": [
       "(      TAG  평일휴일  시간대  성별  연령대  건수합계  인터넷 쇼핑 이용자 비율 (%)  월 평균 구매빈도-1회 미만 (%)  \\\n",
       " 0       0     0    1   0    0   291               98.7                 10.9   \n",
       " 1       0     1    5   1    1    51               86.3                 14.6   \n",
       " 2       0     0    1   0    1   758               96.9                 10.7   \n",
       " 3       0     0    2   1    3   122               39.0                 23.5   \n",
       " 4       0     1    3   0    4    10               14.5                 24.4   \n",
       " ...   ...   ...  ...  ..  ...   ...                ...                  ...   \n",
       " 6850    3     0    0   1    3   171               39.0                 23.5   \n",
       " 6851    3     1    5   0    4    71               14.5                 24.4   \n",
       " 6852    3     0    1   0    0   111               98.7                 10.9   \n",
       " 6853    3     1    5   1    2   796               66.8                 17.1   \n",
       " 6854    3     1    5   1    0  2470               94.3                 13.2   \n",
       " \n",
       "       월 평균 구매빈도-1~2회 미만 (%)  월 평균 구매빈도-2~3회 미만 (%)  월 평균 구매빈도-3회 이상 (%)  \n",
       " 0                      18.6                   22.8                 47.7  \n",
       " 1                      21.3                   22.4                 41.7  \n",
       " 2                      17.0                   21.4                 50.9  \n",
       " 3                      21.2                   14.6                 40.7  \n",
       " 4                      27.1                   12.9                 35.5  \n",
       " ...                     ...                    ...                  ...  \n",
       " 6850                   21.2                   14.6                 40.7  \n",
       " 6851                   27.1                   12.9                 35.5  \n",
       " 6852                   18.6                   22.8                 47.7  \n",
       " 6853                   23.2                   20.0                 39.7  \n",
       " 6854                   20.4                   22.1                 44.2  \n",
       " \n",
       " [6855 rows x 11 columns],)"
      ]
     },
     "execution_count": 24,
     "metadata": {},
     "output_type": "execute_result"
    }
   ],
   "source": [
    "df.iloc[:,:-2],"
   ]
  },
  {
   "cell_type": "code",
   "execution_count": 25,
   "metadata": {
    "colab": {
     "base_uri": "https://localhost:8080/"
    },
    "id": "twd_JuldU7rN",
    "outputId": "d03aac07-98c5-400b-9263-345b1e7cfe9f"
   },
   "outputs": [
    {
     "data": {
      "text/plain": [
       "Index(['TAG', '평일휴일', '시간대', '성별', '연령대', '건수합계', '인터넷 쇼핑 이용자 비율 (%)',\n",
       "       '월 평균 구매빈도-1회 미만 (%)', '월 평균 구매빈도-1~2회 미만 (%)', '월 평균 구매빈도-2~3회 미만 (%)',\n",
       "       '월 평균 구매빈도-3회 이상 (%)', '월 평균 구매빈도-평균 (회)', '네이버 태그 클릭량'],\n",
       "      dtype='object')"
      ]
     },
     "execution_count": 25,
     "metadata": {},
     "output_type": "execute_result"
    }
   ],
   "source": [
    "df.columns"
   ]
  },
  {
   "cell_type": "code",
   "execution_count": 37,
   "metadata": {
    "id": "yW4o7lvsFmOl"
   },
   "outputs": [],
   "source": [
    "X_train,X_test,y_train,y_test = train_test_split(\n",
    "    df[['연령대', '평일휴일', '시간대', '성별', '건수합계','인터넷 쇼핑 이용자 비율 (%)', '월 평균 구매빈도-1회 미만 (%)', '월 평균 구매빈도-1~2회 미만 (%)',\n",
    "       '월 평균 구매빈도-2~3회 미만 (%)', '월 평균 구매빈도-3회 이상 (%)','네이버 태그 클릭량']], df['TAG'],test_size=0.2, random_state=3)"
   ]
  },
  {
   "cell_type": "code",
   "execution_count": 38,
   "metadata": {
    "id": "MXDSVqN3Gosk"
   },
   "outputs": [],
   "source": [
    "dt=DecisionTreeClassifier(criterion='gini', max_depth = 3, max_features = 2, random_state=100).fit(X_train, y_train)"
   ]
  },
  {
   "cell_type": "code",
   "execution_count": 39,
   "metadata": {
    "id": "EgNenRHbGzpU"
   },
   "outputs": [],
   "source": [
    "svm=SVC(C=0.1, gamma=0.04, random_state=35, probability=True, kernel='rbf').fit(X_train, y_train)"
   ]
  },
  {
   "cell_type": "code",
   "execution_count": 40,
   "metadata": {
    "id": "5u9EV02nGz9s"
   },
   "outputs": [],
   "source": [
    "lr = LogisticRegression().fit(X_train, y_train)"
   ]
  },
  {
   "cell_type": "code",
   "execution_count": 41,
   "metadata": {
    "id": "Fy7WLiEYITt_"
   },
   "outputs": [],
   "source": [
    "dt_p = dt.predict(X_test)\n",
    "svm_p=svm.predict(X_test)\n",
    "lr_p=lr.predict(X_test)"
   ]
  },
  {
   "cell_type": "code",
   "execution_count": 42,
   "metadata": {
    "colab": {
     "base_uri": "https://localhost:8080/"
    },
    "id": "ZLo8XTMPG1ZE",
    "outputId": "9c79a8e1-af0e-415d-e357-76e252abffd1"
   },
   "outputs": [
    {
     "data": {
      "text/plain": [
       "0.8701677607585704"
      ]
     },
     "execution_count": 42,
     "metadata": {},
     "output_type": "execute_result"
    }
   ],
   "source": [
    "hard_voting_clf=VotingClassifier(\n",
    "    estimators=[('decision tree', dt),('LogisticRegression', lr ),('svm', svm)], weights=[1,1,1], voting='hard'\n",
    ").fit(X_train, y_train)\n",
    "\n",
    "hard_voting_predicted = hard_voting_clf.predict(X_test)\n",
    "accuracy_score(y_test, hard_voting_predicted) ## 다수결의 원칙으로 정함. "
   ]
  },
  {
   "cell_type": "code",
   "execution_count": 43,
   "metadata": {
    "colab": {
     "base_uri": "https://localhost:8080/"
    },
    "id": "-gn6hoBmHIO3",
    "outputId": "f730b900-7e14-4886-dbcd-fac5ba024259"
   },
   "outputs": [
    {
     "data": {
      "text/plain": [
       "0.8701677607585704"
      ]
     },
     "execution_count": 43,
     "metadata": {},
     "output_type": "execute_result"
    }
   ],
   "source": [
    "soft_voting_clf=VotingClassifier(\n",
    "    estimators=[('decision tree', dt),('LogisticRegression', lr ),('svm', svm)], weights=[1,1,1], voting='soft'\n",
    ").fit(X_train, y_train)\n",
    "\n",
    "soft_voting_predicted = soft_voting_clf.predict(X_test)\n",
    "accuracy_score(y_test, hard_voting_predicted) ## 다수결의 원칙으로 정함. "
   ]
  },
  {
   "cell_type": "code",
   "execution_count": 44,
   "metadata": {
    "id": "S-E50AwdHIVX"
   },
   "outputs": [],
   "source": [
    "rf = RandomForestClassifier(\n",
    "    n_estimators=100,\n",
    "    max_depth=5,\n",
    "    random_state=10\n",
    ").fit(X_train, y_train)"
   ]
  },
  {
   "cell_type": "code",
   "execution_count": 45,
   "metadata": {
    "colab": {
     "base_uri": "https://localhost:8080/"
    },
    "id": "4QRO1Kd4KFoo",
    "outputId": "4370c8dc-d125-4ef5-e34f-78c09fd7dbc8"
   },
   "outputs": [
    {
     "data": {
      "text/plain": [
       "0.9445660102115244"
      ]
     },
     "execution_count": 45,
     "metadata": {},
     "output_type": "execute_result"
    }
   ],
   "source": [
    "rf_predt = rf.predict(X_test)\n",
    "rf_acc = accuracy_score(y_test, rf_predt)\n",
    "rf_acc"
   ]
  },
  {
   "cell_type": "code",
   "execution_count": 66,
   "metadata": {},
   "outputs": [
    {
     "data": {
      "text/plain": [
       "array([0.00000000e+00, 0.00000000e+00, 0.00000000e+00, 1.72393468e-04,\n",
       "       0.00000000e+00, 0.00000000e+00, 0.00000000e+00, 2.97018627e-03,\n",
       "       4.28133696e-04, 0.00000000e+00, 9.96429287e-01])"
      ]
     },
     "execution_count": 66,
     "metadata": {},
     "output_type": "execute_result"
    }
   ],
   "source": [
    "dt.feature_importances_"
   ]
  },
  {
   "cell_type": "code",
   "execution_count": 46,
   "metadata": {
    "colab": {
     "base_uri": "https://localhost:8080/",
     "height": 266
    },
    "id": "e6NFDFN8HIXt",
    "outputId": "b4039e87-6195-48c4-e94b-91b2ec53d591"
   },
   "outputs": [
    {
     "data": {
      "image/png": "[encoded data removed]",
      "text/plain": [
       "<Figure size 432x288 with 1 Axes>"
      ]
     },
     "metadata": {
      "needs_background": "light"
     },
     "output_type": "display_data"
    }
   ],
   "source": [
    "x = np.arange(6)\n",
    "plt.bar(x, height= [\n",
    "                    accuracy_score(y_test, hard_voting_predicted),\n",
    "                    accuracy_score(y_test, soft_voting_predicted),\n",
    "                    accuracy_score(y_test, rf_predt),\n",
    "                    accuracy_score(y_test, dt_p),\n",
    "                    accuracy_score(y_test, svm_p),\n",
    "                    accuracy_score(y_test, lr_p)\n",
    "\n",
    "\n",
    "            ])\n",
    "plt.xticks(x, ['hard voting','soft voting', 'bagging','d-tree' ,'svm ','logistic']);"
   ]
  },
  {
   "cell_type": "code",
   "execution_count": 53,
   "metadata": {
    "id": "FeyZ8BY_KDhs"
   },
   "outputs": [],
   "source": [
    "from sklearn.ensemble import GradientBoostingClassifier\n",
    "from sklearn.ensemble import HistGradientBoostingClassifier\n",
    "from xgboost import XGBClassifier\n",
    "from lightgbm import LGBMClassifier"
   ]
  },
  {
   "cell_type": "code",
   "execution_count": 54,
   "metadata": {
    "id": "IAxVH6wCKdyP"
   },
   "outputs": [],
   "source": [
    "gbc=GradientBoostingClassifier(random_state=42).fit(X_train, y_train)\n",
    "hist=HistGradientBoostingClassifier(random_state=42).fit(X_train, y_train)\n",
    "xgb=XGBClassifier(random_state=42,).fit(X_train, y_train)\n",
    "lgbm=LGBMClassifier(random_state=42).fit(X_train, y_train)"
   ]
  },
  {
   "cell_type": "code",
   "execution_count": 55,
   "metadata": {
    "id": "hpAatMYDKd4N"
   },
   "outputs": [],
   "source": [
    "gbc_p = gbc.predict(X_test)\n",
    "hist_p = hist.predict(X_test)\n",
    "xgb_p = xgb.predict(X_test)\n",
    "lgbm_p = lgbm.predict(X_test)"
   ]
  },
  {
   "cell_type": "code",
   "execution_count": 56,
   "metadata": {
    "colab": {
     "base_uri": "https://localhost:8080/"
    },
    "id": "O5kLqrEtKd9I",
    "outputId": "4655a8ee-42ae-4137-8055-0ade8b367716"
   },
   "outputs": [
    {
     "name": "stdout",
     "output_type": "stream",
     "text": [
      "[accuarcy]\n",
      "gbc:  0.9883296863603209\n",
      "svm   :  0.9890590809628009\n",
      "xgb   :  0.9905178701677607\n",
      "lgbm   :  0.9883296863603209\n"
     ]
    }
   ],
   "source": [
    "print(\"[accuarcy]\")\n",
    "print(\"gbc: \",accuracy_score(y_test, gbc_p))\n",
    "print(\"svm   : \",accuracy_score(y_test,hist_p))\n",
    "print(\"xgb   : \",accuracy_score(y_test, xgb_p))\n",
    "print(\"lgbm   : \",accuracy_score(y_test, lgbm_p))"
   ]
  },
  {
   "cell_type": "code",
   "execution_count": 65,
   "metadata": {},
   "outputs": [
    {
     "ename": "AttributeError",
     "evalue": "'HistGradientBoostingClassifier' object has no attribute 'feature_importances_'",
     "output_type": "error",
     "traceback": [
      "\u001b[1;31m---------------------------------------------------------------------------\u001b[0m",
      "\u001b[1;31mAttributeError\u001b[0m                            Traceback (most recent call last)",
      "\u001b[1;32m<ipython-input-65-937d76658dbb>\u001b[0m in \u001b[0;36m<module>\u001b[1;34m\u001b[0m\n\u001b[0;32m      1\u001b[0m \u001b[0mgbc\u001b[0m\u001b[1;33m.\u001b[0m\u001b[0mfeature_importances_\u001b[0m\u001b[1;33m\u001b[0m\u001b[1;33m\u001b[0m\u001b[0m\n\u001b[1;32m----> 2\u001b[1;33m \u001b[0mhist\u001b[0m\u001b[1;33m.\u001b[0m\u001b[0mfeature_importances_\u001b[0m\u001b[1;33m\u001b[0m\u001b[1;33m\u001b[0m\u001b[0m\n\u001b[0m\u001b[0;32m      3\u001b[0m \u001b[0mxgb\u001b[0m\u001b[1;33m.\u001b[0m\u001b[0mfeature_importances_\u001b[0m\u001b[1;33m\u001b[0m\u001b[1;33m\u001b[0m\u001b[0m\n\u001b[0;32m      4\u001b[0m \u001b[0mlgbm\u001b[0m\u001b[1;33m.\u001b[0m\u001b[0mfeature_importances_\u001b[0m\u001b[1;33m\u001b[0m\u001b[1;33m\u001b[0m\u001b[0m\n",
      "\u001b[1;31mAttributeError\u001b[0m: 'HistGradientBoostingClassifier' object has no attribute 'feature_importances_'"
     ]
    }
   ],
   "source": [
    "gbc.feature_importances_\n",
    "hist.feature_importances_\n",
    "xgb.feature_importances_\n",
    "lgbm.feature_importances_"
   ]
  },
  {
   "cell_type": "code",
   "execution_count": 57,
   "metadata": {
    "id": "tKGVvInvLCw0"
   },
   "outputs": [],
   "source": [
    "# pip install catboost"
   ]
  },
  {
   "cell_type": "markdown",
   "metadata": {
    "id": "lzrh7U6IYjHE"
   },
   "source": [
    "import catboost as cat"
   ]
  },
  {
   "cell_type": "code",
   "execution_count": 60,
   "metadata": {
    "id": "zN2Ql8FzYkMB"
   },
   "outputs": [],
   "source": [
    "import catboost as cat"
   ]
  },
  {
   "cell_type": "code",
   "execution_count": 61,
   "metadata": {
    "colab": {
     "base_uri": "https://localhost:8080/"
    },
    "id": "VQEcrpwoYk3L",
    "outputId": "29308ceb-5b9a-41a0-faf2-5e67c25d2d98"
   },
   "outputs": [
    {
     "name": "stdout",
     "output_type": "stream",
     "text": [
      "0:\tlearn: 0.9155726\ttotal: 150ms\tremaining: 14.9s\n",
      "1:\tlearn: 0.9637126\ttotal: 189ms\tremaining: 9.28s\n",
      "2:\tlearn: 0.9684537\ttotal: 227ms\tremaining: 7.36s\n",
      "3:\tlearn: 0.9706419\ttotal: 267ms\tremaining: 6.42s\n",
      "4:\tlearn: 0.9684537\ttotal: 309ms\tremaining: 5.86s\n",
      "5:\tlearn: 0.9713713\ttotal: 354ms\tremaining: 5.54s\n",
      "6:\tlearn: 0.9717360\ttotal: 381ms\tremaining: 5.06s\n",
      "7:\tlearn: 0.9710066\ttotal: 424ms\tremaining: 4.87s\n",
      "8:\tlearn: 0.9726477\ttotal: 448ms\tremaining: 4.53s\n",
      "9:\tlearn: 0.9741065\ttotal: 496ms\tremaining: 4.47s\n",
      "10:\tlearn: 0.9737418\ttotal: 503ms\tremaining: 4.07s\n",
      "11:\tlearn: 0.9726477\ttotal: 543ms\tremaining: 3.98s\n",
      "12:\tlearn: 0.9717360\ttotal: 556ms\tremaining: 3.72s\n",
      "13:\tlearn: 0.9722830\ttotal: 560ms\tremaining: 3.44s\n",
      "14:\tlearn: 0.9735594\ttotal: 582ms\tremaining: 3.3s\n",
      "15:\tlearn: 0.9730124\ttotal: 603ms\tremaining: 3.17s\n",
      "16:\tlearn: 0.9726477\ttotal: 646ms\tremaining: 3.15s\n",
      "17:\tlearn: 0.9726477\ttotal: 691ms\tremaining: 3.15s\n",
      "18:\tlearn: 0.9726477\ttotal: 733ms\tremaining: 3.12s\n",
      "19:\tlearn: 0.9741065\ttotal: 776ms\tremaining: 3.1s\n",
      "20:\tlearn: 0.9741065\ttotal: 816ms\tremaining: 3.07s\n",
      "21:\tlearn: 0.9741065\ttotal: 856ms\tremaining: 3.04s\n",
      "22:\tlearn: 0.9737418\ttotal: 897ms\tremaining: 3s\n",
      "23:\tlearn: 0.9742888\ttotal: 919ms\tremaining: 2.91s\n",
      "24:\tlearn: 0.9742888\ttotal: 932ms\tremaining: 2.79s\n",
      "25:\tlearn: 0.9742888\ttotal: 972ms\tremaining: 2.77s\n",
      "26:\tlearn: 0.9748359\ttotal: 994ms\tremaining: 2.69s\n",
      "27:\tlearn: 0.9746535\ttotal: 1.01s\tremaining: 2.61s\n",
      "28:\tlearn: 0.9750182\ttotal: 1.06s\tremaining: 2.59s\n",
      "29:\tlearn: 0.9750182\ttotal: 1.1s\tremaining: 2.56s\n",
      "30:\tlearn: 0.9750182\ttotal: 1.14s\tremaining: 2.53s\n",
      "31:\tlearn: 0.9753829\ttotal: 1.18s\tremaining: 2.5s\n",
      "32:\tlearn: 0.9753829\ttotal: 1.22s\tremaining: 2.47s\n",
      "33:\tlearn: 0.9755653\ttotal: 1.23s\tremaining: 2.38s\n",
      "34:\tlearn: 0.9762947\ttotal: 1.27s\tremaining: 2.35s\n",
      "35:\tlearn: 0.9761123\ttotal: 1.29s\tremaining: 2.29s\n",
      "36:\tlearn: 0.9762947\ttotal: 1.33s\tremaining: 2.26s\n",
      "37:\tlearn: 0.9762947\ttotal: 1.37s\tremaining: 2.23s\n",
      "38:\tlearn: 0.9762947\ttotal: 1.39s\tremaining: 2.17s\n",
      "39:\tlearn: 0.9759300\ttotal: 1.43s\tremaining: 2.14s\n",
      "40:\tlearn: 0.9757476\ttotal: 1.47s\tremaining: 2.11s\n",
      "41:\tlearn: 0.9752006\ttotal: 1.49s\tremaining: 2.06s\n",
      "42:\tlearn: 0.9753829\ttotal: 1.51s\tremaining: 2s\n",
      "43:\tlearn: 0.9753829\ttotal: 1.52s\tremaining: 1.94s\n",
      "44:\tlearn: 0.9755653\ttotal: 1.56s\tremaining: 1.91s\n",
      "45:\tlearn: 0.9757476\ttotal: 1.61s\tremaining: 1.9s\n",
      "46:\tlearn: 0.9759300\ttotal: 1.66s\tremaining: 1.87s\n",
      "47:\tlearn: 0.9761123\ttotal: 1.7s\tremaining: 1.84s\n",
      "48:\tlearn: 0.9755653\ttotal: 1.74s\tremaining: 1.81s\n",
      "49:\tlearn: 0.9759300\ttotal: 1.75s\tremaining: 1.75s\n",
      "50:\tlearn: 0.9757476\ttotal: 1.79s\tremaining: 1.72s\n",
      "51:\tlearn: 0.9762947\ttotal: 1.83s\tremaining: 1.69s\n",
      "52:\tlearn: 0.9757476\ttotal: 1.87s\tremaining: 1.66s\n",
      "53:\tlearn: 0.9757476\ttotal: 1.91s\tremaining: 1.63s\n",
      "54:\tlearn: 0.9762947\ttotal: 1.92s\tremaining: 1.57s\n",
      "55:\tlearn: 0.9755653\ttotal: 1.93s\tremaining: 1.52s\n",
      "56:\tlearn: 0.9759300\ttotal: 1.97s\tremaining: 1.49s\n",
      "57:\tlearn: 0.9761123\ttotal: 2.01s\tremaining: 1.46s\n",
      "58:\tlearn: 0.9764770\ttotal: 2.02s\tremaining: 1.4s\n",
      "59:\tlearn: 0.9766594\ttotal: 2.06s\tremaining: 1.37s\n",
      "60:\tlearn: 0.9764770\ttotal: 2.1s\tremaining: 1.34s\n",
      "61:\tlearn: 0.9761123\ttotal: 2.11s\tremaining: 1.29s\n",
      "62:\tlearn: 0.9759300\ttotal: 2.16s\tremaining: 1.27s\n",
      "63:\tlearn: 0.9766594\ttotal: 2.2s\tremaining: 1.24s\n",
      "64:\tlearn: 0.9764770\ttotal: 2.25s\tremaining: 1.21s\n",
      "65:\tlearn: 0.9764770\ttotal: 2.29s\tremaining: 1.18s\n",
      "66:\tlearn: 0.9766594\ttotal: 2.33s\tremaining: 1.15s\n",
      "67:\tlearn: 0.9764770\ttotal: 2.37s\tremaining: 1.11s\n",
      "68:\tlearn: 0.9766594\ttotal: 2.41s\tremaining: 1.08s\n",
      "69:\tlearn: 0.9764770\ttotal: 2.45s\tremaining: 1.05s\n",
      "70:\tlearn: 0.9762947\ttotal: 2.48s\tremaining: 1.01s\n",
      "71:\tlearn: 0.9764770\ttotal: 2.52s\tremaining: 982ms\n",
      "72:\tlearn: 0.9768417\ttotal: 2.57s\tremaining: 950ms\n",
      "73:\tlearn: 0.9766594\ttotal: 2.58s\tremaining: 906ms\n",
      "74:\tlearn: 0.9768417\ttotal: 2.6s\tremaining: 867ms\n",
      "75:\tlearn: 0.9766594\ttotal: 2.64s\tremaining: 834ms\n",
      "76:\tlearn: 0.9766594\ttotal: 2.69s\tremaining: 802ms\n",
      "77:\tlearn: 0.9766594\ttotal: 2.73s\tremaining: 769ms\n",
      "78:\tlearn: 0.9764770\ttotal: 2.77s\tremaining: 737ms\n",
      "79:\tlearn: 0.9768417\ttotal: 2.79s\tremaining: 698ms\n",
      "80:\tlearn: 0.9768417\ttotal: 2.83s\tremaining: 665ms\n",
      "81:\tlearn: 0.9770241\ttotal: 2.88s\tremaining: 632ms\n",
      "82:\tlearn: 0.9770241\ttotal: 2.92s\tremaining: 598ms\n",
      "83:\tlearn: 0.9770241\ttotal: 2.96s\tremaining: 564ms\n",
      "84:\tlearn: 0.9770241\ttotal: 3s\tremaining: 529ms\n",
      "85:\tlearn: 0.9772064\ttotal: 3.04s\tremaining: 495ms\n",
      "86:\tlearn: 0.9772064\ttotal: 3.08s\tremaining: 460ms\n",
      "87:\tlearn: 0.9772064\ttotal: 3.11s\tremaining: 425ms\n",
      "88:\tlearn: 0.9772064\ttotal: 3.15s\tremaining: 390ms\n",
      "89:\tlearn: 0.9768417\ttotal: 3.19s\tremaining: 355ms\n",
      "90:\tlearn: 0.9772064\ttotal: 3.23s\tremaining: 320ms\n",
      "91:\tlearn: 0.9773888\ttotal: 3.27s\tremaining: 285ms\n",
      "92:\tlearn: 0.9772064\ttotal: 3.31s\tremaining: 249ms\n",
      "93:\tlearn: 0.9772064\ttotal: 3.35s\tremaining: 214ms\n",
      "94:\tlearn: 0.9772064\ttotal: 3.39s\tremaining: 178ms\n",
      "95:\tlearn: 0.9768417\ttotal: 3.41s\tremaining: 142ms\n",
      "96:\tlearn: 0.9770241\ttotal: 3.45s\tremaining: 107ms\n",
      "97:\tlearn: 0.9770241\ttotal: 3.49s\tremaining: 71.2ms\n",
      "98:\tlearn: 0.9770241\ttotal: 3.53s\tremaining: 35.7ms\n",
      "99:\tlearn: 0.9770241\ttotal: 3.53s\tremaining: 0us\n"
     ]
    }
   ],
   "source": [
    "cb = cat.Pool(data = X_train, label= y_train)\n",
    "cp = {\n",
    "    'max_depth' : 10,\n",
    "    'learning_rate' : 0.01,\n",
    "    'n_estimators' : 100,\n",
    "    'eval_metric' : 'Accuracy',\n",
    "    'loss_function' : 'MultiClass'\n",
    "}\n",
    "cat_model = cat.train(pool=cb, params=cp)"
   ]
  },
  {
   "cell_type": "code",
   "execution_count": null,
   "metadata": {
    "id": "fjS9lVySdtWb"
   },
   "outputs": [],
   "source": []
  },
  {
   "cell_type": "code",
   "execution_count": 62,
   "metadata": {
    "colab": {
     "base_uri": "https://localhost:8080/"
    },
    "id": "-3W9qu-eZWne",
    "outputId": "53117e37-2af5-49ba-ca15-129b16a88491"
   },
   "outputs": [
    {
     "data": {
      "text/plain": [
       "0.9657184536834428"
      ]
     },
     "execution_count": 62,
     "metadata": {},
     "output_type": "execute_result"
    }
   ],
   "source": [
    "cat_predt = np.argmax(cat_model.predict(X_test), axis=1)\n",
    "accuracy_score(y_test, cat_predt)"
   ]
  },
  {
   "cell_type": "code",
   "execution_count": 63,
   "metadata": {
    "colab": {
     "base_uri": "https://localhost:8080/"
    },
    "id": "PGZlFy_wZc6b",
    "outputId": "35a6b5f1-4e7e-42ee-9330-393dd91e77bc"
   },
   "outputs": [
    {
     "data": {
      "text/plain": [
       "array([0.00000000e+00, 0.00000000e+00, 0.00000000e+00, 1.72393468e-04,\n",
       "       0.00000000e+00, 0.00000000e+00, 0.00000000e+00, 2.97018627e-03,\n",
       "       4.28133696e-04, 0.00000000e+00, 9.96429287e-01])"
      ]
     },
     "execution_count": 63,
     "metadata": {},
     "output_type": "execute_result"
    }
   ],
   "source": [
    "dt.feature_importances_"
   ]
  },
  {
   "cell_type": "code",
   "execution_count": 159,
   "metadata": {
    "id": "lSvAYOE1bh8q"
   },
   "outputs": [],
   "source": []
  }
 ],
 "metadata": {
  "colab": {
   "collapsed_sections": [],
   "name": "Untitled4.ipynb",
   "provenance": []
  },
  "kernelspec": {
   "display_name": "Python 3",
   "language": "python",
   "name": "python3"
  },
  "language_info": {
   "codemirror_mode": {
    "name": "ipython",
    "version": 3
   },
   "file_extension": ".py",
   "mimetype": "text/x-python",
   "name": "python",
   "nbconvert_exporter": "python",
   "pygments_lexer": "ipython3",
   "version": "3.7.4"
  }
 },
 "nbformat": 4,
 "nbformat_minor": 1
}
